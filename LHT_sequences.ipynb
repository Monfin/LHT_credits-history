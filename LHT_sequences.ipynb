{
 "cells": [
  {
   "cell_type": "code",
   "execution_count": 1,
   "metadata": {},
   "outputs": [],
   "source": [
    "import torch\n",
    "from torch import nn\n",
    "from torchinfo import summary\n",
    "\n",
    "from IPython.display import display as d\n",
    "\n",
    "from typing import List, Dict, Union\n",
    "\n",
    "import numpy as np\n",
    "\n",
    "from omegaconf import OmegaConf\n",
    "\n",
    "import matplotlib.pyplot as plt\n",
    "\n",
    "from einops import rearrange\n",
    "\n",
    "import lightning as L"
   ]
  },
  {
   "cell_type": "code",
   "execution_count": 2,
   "metadata": {},
   "outputs": [],
   "source": [
    "from src.data.components.dataset import CreditsHistoryDataset\n",
    "from src.data.components.targets_indexes_reader import TargetsReader, IndexesReader\n",
    "from src.data.components.data_reader import DataReader\n",
    "from src.utils.sampler import SamplerFactory"
   ]
  },
  {
   "cell_type": "code",
   "execution_count": null,
   "metadata": {},
   "outputs": [],
   "source": []
  },
  {
   "cell_type": "code",
   "execution_count": null,
   "metadata": {},
   "outputs": [],
   "source": []
  },
  {
   "cell_type": "markdown",
   "metadata": {},
   "source": [
    "# Multitask research"
   ]
  },
  {
   "cell_type": "code",
   "execution_count": 3,
   "metadata": {},
   "outputs": [],
   "source": [
    "emb_dim = 128"
   ]
  },
  {
   "cell_type": "code",
   "execution_count": 4,
   "metadata": {},
   "outputs": [],
   "source": [
    "sample = torch.randint(0, 4, (5, ))"
   ]
  },
  {
   "cell_type": "code",
   "execution_count": 5,
   "metadata": {},
   "outputs": [
    {
     "data": {
      "text/plain": [
       "tensor([3, 0, 2, 2, 1])"
      ]
     },
     "metadata": {},
     "output_type": "display_data"
    }
   ],
   "source": [
    "d(sample)"
   ]
  },
  {
   "cell_type": "code",
   "execution_count": 6,
   "metadata": {},
   "outputs": [],
   "source": [
    "a = nn.Embedding(num_embeddings=4, embedding_dim=8)"
   ]
  },
  {
   "cell_type": "code",
   "execution_count": 7,
   "metadata": {},
   "outputs": [
    {
     "data": {
      "text/plain": [
       "{'weight': Parameter containing:\n",
       " tensor([[ 0.7905,  0.8748, -0.9494, -0.0320, -0.0461,  0.0173, -0.0866,  0.0108],\n",
       "         [-0.9283, -0.0698,  0.4816, -0.3519, -0.2994,  0.3422, -0.7389,  0.8548],\n",
       "         [-0.6415,  0.8164,  0.9165,  1.8407, -0.9568,  1.1694,  0.9635, -0.1062],\n",
       "         [-1.5664,  1.1292,  0.6802,  1.9366, -1.8036,  0.9650,  2.2666, -1.3979]],\n",
       "        requires_grad=True)}"
      ]
     },
     "metadata": {},
     "output_type": "display_data"
    }
   ],
   "source": [
    "d(dict(a.named_parameters()))"
   ]
  },
  {
   "cell_type": "code",
   "execution_count": 8,
   "metadata": {},
   "outputs": [
    {
     "data": {
      "text/plain": [
       "tensor([[-1.5664,  1.1292,  0.6802,  1.9366, -1.8036,  0.9650,  2.2666, -1.3979],\n",
       "        [ 0.7905,  0.8748, -0.9494, -0.0320, -0.0461,  0.0173, -0.0866,  0.0108],\n",
       "        [-0.6415,  0.8164,  0.9165,  1.8407, -0.9568,  1.1694,  0.9635, -0.1062],\n",
       "        [-0.6415,  0.8164,  0.9165,  1.8407, -0.9568,  1.1694,  0.9635, -0.1062],\n",
       "        [-0.9283, -0.0698,  0.4816, -0.3519, -0.2994,  0.3422, -0.7389,  0.8548]],\n",
       "       grad_fn=<EmbeddingBackward0>)"
      ]
     },
     "metadata": {},
     "output_type": "display_data"
    }
   ],
   "source": [
    "d(a(sample))"
   ]
  },
  {
   "cell_type": "code",
   "execution_count": 9,
   "metadata": {},
   "outputs": [
    {
     "data": {
      "text/plain": [
       "<matplotlib.image.AxesImage at 0x7f758e986bd0>"
      ]
     },
     "execution_count": 9,
     "metadata": {},
     "output_type": "execute_result"
    },
    {
     "data": {
      "image/png": "[encoded data removed]",
      "text/plain": [
       "<Figure size 640x480 with 1 Axes>"
      ]
     },
     "metadata": {},
     "output_type": "display_data"
    }
   ],
   "source": [
    "plt.imshow(a(sample).detach())"
   ]
  },
  {
   "cell_type": "code",
   "execution_count": 153,
   "metadata": {},
   "outputs": [
    {
     "data": {
      "text/plain": [
       "(tensor([1, 2, 3, 1, 2, 3]), tensor([2, 3, 4, 2, 3, 4]))"
      ]
     },
     "metadata": {},
     "output_type": "display_data"
    }
   ],
   "source": [
    "d(torch.concatenate([torch.stack(item).T for item in a]).unbind(dim=1))"
   ]
  },
  {
   "cell_type": "code",
   "execution_count": 6,
   "metadata": {},
   "outputs": [],
   "source": [
    "class PositionwiseFeedForward(nn.Module):\n",
    "    def __init__(self, input_size: int, hidden_size: int = 128, dropout=0.1):\n",
    "        super().__init__()\n",
    "\n",
    "        self.position_wise_layer = nn.Sequential(\n",
    "            nn.Linear(input_size, hidden_size),\n",
    "            nn.ReLU(),\n",
    "            nn.Linear(hidden_size, input_size)\n",
    "        )\n",
    "\n",
    "        self.layer_norm = nn.LayerNorm(input_size, eps=1e-6)\n",
    "\n",
    "        self.dropout = nn.Dropout(dropout)\n",
    "\n",
    "    def forward(self, x):\n",
    "\n",
    "        residual = x\n",
    "\n",
    "        x = self.position_wise_layer(x)\n",
    "        x = self.dropout(x)\n",
    "        \n",
    "        x += residual\n",
    "\n",
    "        x = self.layer_norm(x)\n",
    "\n",
    "        return x"
   ]
  },
  {
   "cell_type": "code",
   "execution_count": 31,
   "metadata": {},
   "outputs": [],
   "source": [
    "class FooModel(nn.Module):\n",
    "    def __init__(self, input_size: int, hidden_size: int = 128, max_seq_len: int = 50, dropout=0.1):\n",
    "        super().__init__()\n",
    "\n",
    "        self.position_wise_forward = PositionwiseFeedForward(\n",
    "            input_size=emb_dim, \n",
    "            hidden_size=emb_dim * 2, \n",
    "            dropout=dropout\n",
    "        )\n",
    "\n",
    "        self.linear_layer = nn.Linear(emb_dim, 1)\n",
    "\n",
    "        self.avg_pool = nn.AvgPool1d(kernel_size=max_seq_len)\n",
    "\n",
    "    def forward(self, inputs: torch.Tensor) -> torch.Tensor:\n",
    "        x = self.position_wise_forward(inputs)\n",
    "\n",
    "        x = self.linear_layer(x).squeeze()\n",
    "\n",
    "        x = self.avg_pool(x)\n",
    "\n",
    "        return x"
   ]
  },
  {
   "cell_type": "code",
   "execution_count": 7,
   "metadata": {},
   "outputs": [],
   "source": [
    "some_batch = (torch.randn(size=(32, 50, emb_dim)), torch.randint(0, 2, (32, ), dtype=torch.float32))"
   ]
  },
  {
   "cell_type": "code",
   "execution_count": 32,
   "metadata": {},
   "outputs": [],
   "source": [
    "some_model = FooModel(emb_dim, emb_dim * 2, 50)"
   ]
  },
  {
   "cell_type": "code",
   "execution_count": 18,
   "metadata": {},
   "outputs": [
    {
     "data": {
      "text/plain": [
       "<matplotlib.image.AxesImage at 0x7fa614b19890>"
      ]
     },
     "execution_count": 18,
     "metadata": {},
     "output_type": "execute_result"
    },
    {
     "data": {
      "image/png": "[encoded data removed]",
      "text/plain": [
       "<Figure size 640x480 with 1 Axes>"
      ]
     },
     "metadata": {},
     "output_type": "display_data"
    }
   ],
   "source": [
    "plt.imshow(some_batch[0][0])"
   ]
  },
  {
   "cell_type": "code",
   "execution_count": 33,
   "metadata": {},
   "outputs": [
    {
     "data": {
      "text/plain": [
       "torch.Size([32, 1])"
      ]
     },
     "metadata": {},
     "output_type": "display_data"
    }
   ],
   "source": [
    "d(some_model(some_batch[0]).size())"
   ]
  },
  {
   "cell_type": "code",
   "execution_count": 34,
   "metadata": {},
   "outputs": [],
   "source": [
    "from torchmetrics.classification.auroc import BinaryAUROC"
   ]
  },
  {
   "cell_type": "code",
   "execution_count": 70,
   "metadata": {},
   "outputs": [],
   "source": [
    "class GINI(BinaryAUROC):\n",
    "    def __init__(self) -> None:\n",
    "        super(GINI, self).__init__()\n",
    "        \n",
    "    def forward(self, logits: torch.Tensor, labels: torch.Tensor) -> torch.Tensor:\n",
    "        return (2. * super().forward(logits, labels) - 1.) * 100.\n",
    "    \n",
    "    # def compute(self) -> torch.Tensor:\n",
    "    #     return super().compute()"
   ]
  },
  {
   "cell_type": "code",
   "execution_count": 71,
   "metadata": {},
   "outputs": [],
   "source": [
    "a = GINI()"
   ]
  },
  {
   "cell_type": "code",
   "execution_count": 72,
   "metadata": {},
   "outputs": [
    {
     "data": {
      "text/plain": [
       "tensor(43.7500)"
      ]
     },
     "metadata": {},
     "output_type": "display_data"
    }
   ],
   "source": [
    "d(a(some_model(some_batch[0]), some_batch[1]))"
   ]
  },
  {
   "cell_type": "code",
   "execution_count": 119,
   "metadata": {},
   "outputs": [
    {
     "data": {
      "text/plain": [
       "tensor([ 0.0903,  0.0469,  0.0347, -0.1100,  0.0162,  0.0895,  0.0320,  0.1441,\n",
       "         0.0787,  0.0022,  0.0888, -0.0043,  0.1492, -0.0996,  0.0271,  0.0832,\n",
       "        -0.0649,  0.0250,  0.0833, -0.0095,  0.1098,  0.1297,  0.0403,  0.0176,\n",
       "        -0.0573, -0.0441, -0.1633,  0.0786, -0.0913,  0.0039, -0.0435, -0.0718],\n",
       "       grad_fn=<MeanBackward1>)"
      ]
     },
     "metadata": {},
     "output_type": "display_data"
    }
   ],
   "source": [
    "d(some_model(some_batch[0]))"
   ]
  },
  {
   "cell_type": "code",
   "execution_count": 86,
   "metadata": {},
   "outputs": [
    {
     "data": {
      "text/plain": [
       "OrderedDict()"
      ]
     },
     "metadata": {},
     "output_type": "display_data"
    }
   ],
   "source": [
    "d(a._buffers)"
   ]
  },
  {
   "cell_type": "code",
   "execution_count": 120,
   "metadata": {},
   "outputs": [
    {
     "data": {
      "text/plain": [
       "14.979999999999993"
      ]
     },
     "metadata": {},
     "output_type": "display_data"
    }
   ],
   "source": [
    "d((0.5749 * 2 - 1) * 100)"
   ]
  },
  {
   "cell_type": "code",
   "execution_count": 73,
   "metadata": {},
   "outputs": [
    {
     "data": {
      "text/plain": [
       "tensor(0.7188)"
      ]
     },
     "metadata": {},
     "output_type": "display_data"
    }
   ],
   "source": [
    "d(a.compute())"
   ]
  },
  {
   "cell_type": "code",
   "execution_count": 31,
   "metadata": {},
   "outputs": [
    {
     "name": "stdout",
     "output_type": "stream",
     "text": [
      "tensor(0.6924)\n",
      "tensor(11.7409)\n",
      "tensor(0.5587) \n",
      "\n"
     ]
    },
    {
     "name": "stderr",
     "output_type": "stream",
     "text": [
      "/home/danil/projects/torch_template/.venv/lib/python3.11/site-packages/lightning/pytorch/core/module.py:436: You are trying to `self.log()` but the `self.trainer` reference is not registered on the model yet. This is most likely because the model hasn't been passed to the `Trainer`\n"
     ]
    },
    {
     "data": {
      "text/plain": [
       "{'loss': tensor(0.6924, grad_fn=<BinaryCrossEntropyWithLogitsBackward0>)}"
      ]
     },
     "metadata": {},
     "output_type": "display_data"
    }
   ],
   "source": [
    "d(some_model.training_step(some_batch))"
   ]
  },
  {
   "cell_type": "code",
   "execution_count": null,
   "metadata": {},
   "outputs": [],
   "source": []
  },
  {
   "cell_type": "markdown",
   "metadata": {},
   "source": [
    "# Dataset"
   ]
  },
  {
   "cell_type": "code",
   "execution_count": 3,
   "metadata": {},
   "outputs": [],
   "source": [
    "from src.data.components.collate import ModelInput, SingleForwardState, BaseCollator, ModelOutput"
   ]
  },
  {
   "cell_type": "code",
   "execution_count": 4,
   "metadata": {},
   "outputs": [],
   "source": [
    "def set_sampler(targets: dict, n_samples: int = 1000, replacement: bool = True):\n",
    "\n",
    "    targets = np.asarray(list(targets.values()))\n",
    "    \n",
    "    sampler_factory = SamplerFactory(\n",
    "        targets=targets, \n",
    "        n_samples=n_samples,\n",
    "        replacement=replacement\n",
    "    )\n",
    "    return sampler_factory.balanced_random_sampler()"
   ]
  },
  {
   "cell_type": "code",
   "execution_count": 5,
   "metadata": {},
   "outputs": [],
   "source": [
    "def initialize_data(features_path: str, data_path: str, indexes_path: str, targets_path: str, use_sampler: bool = True, batch_size: int = 32):\n",
    "    features_dict = OmegaConf.load(features_path)\n",
    "\n",
    "    data_reader = DataReader(data_path=data_path)\n",
    "    data_reader.setup()\n",
    "\n",
    "    indexes = IndexesReader(train_path=indexes_path).train_indexes\n",
    "\n",
    "    targets = TargetsReader(targets_path).targets\n",
    "\n",
    "    targets = {idx: targets.get(idx) for idx in indexes}\n",
    "\n",
    "    dataset = CreditsHistoryDataset(\n",
    "        data=data_reader, \n",
    "        targets=targets,\n",
    "        indexes=indexes,\n",
    "        features=features_dict\n",
    "    )\n",
    "\n",
    "    print(f\"dataset sample: {dataset[0]}\")\n",
    "\n",
    "    train_sampler = set_sampler(\n",
    "        targets=dataset.targets, \n",
    "        n_samples=10000,\n",
    "        replacement=False\n",
    "    ) if use_sampler else None\n",
    "\n",
    "    dataloader = torch.utils.data.DataLoader(\n",
    "        dataset=dataset,\n",
    "        batch_size=batch_size,\n",
    "        collate_fn=BaseCollator(max_seq_len=20),\n",
    "        sampler=train_sampler,\n",
    "        drop_last=True\n",
    "    ) \n",
    "\n",
    "    return dataloader, features_dict"
   ]
  },
  {
   "cell_type": "code",
   "execution_count": 6,
   "metadata": {},
   "outputs": [
    {
     "name": "stdout",
     "output_type": "stream",
     "text": [
      "dataset sample: {'numerical': tensor([[0.9147, 0.2640, 1.0005, 0.0000],\n",
      "        [0.1462, 1.5110, 2.0127, 0.0000],\n",
      "        [0.3494, 0.8115, 1.5090, 0.0000],\n",
      "        [0.3494, 0.8115, 1.5090, 0.0000],\n",
      "        [0.2703, 1.0098, 1.6636, 0.0000],\n",
      "        [1.8310, 0.0262, 0.1688, 0.0000],\n",
      "        [0.0139, 2.6218, 2.6531, 0.0000],\n",
      "        [1.1378, 0.0262, 0.0925, 0.0000],\n",
      "        [0.3494, 0.8115, 1.5090, 0.0000],\n",
      "        [2.7473, 0.0262, 0.4866, 0.0000],\n",
      "        [0.4447, 0.6416, 1.3662, 0.0000],\n",
      "        [0.2035, 1.2411, 1.8312, 0.0000]]), 'categorical': tensor([[ 9,  8,  3,  0,  0,  0,  0,  0,  0,  0,  0,  0,  8,  9,  0,  0,  0,  0,\n",
      "          0,  0,  0,  0],\n",
      "        [ 6,  9, 15,  0,  0,  0,  0,  0,  0,  0,  2,  7,  6,  6,  0,  0,  0,  0,\n",
      "          0,  0,  0,  0],\n",
      "        [ 2,  1,  1,  0,  0,  0,  0,  0,  0,  0,  0,  1,  2,  2,  0,  0,  0,  0,\n",
      "          0,  0,  0,  0],\n",
      "        [ 6,  1,  1,  0,  0,  0,  0,  0,  2,  0,  0,  1,  2,  2,  0,  0,  0,  0,\n",
      "          0,  0,  0,  0],\n",
      "        [ 7,  9,  5,  2,  0,  0,  2,  0,  0,  0,  0,  4,  7,  7,  0,  0,  0,  0,\n",
      "          0,  0,  0,  0],\n",
      "        [ 0,  6,  7,  2,  0,  0,  5,  0,  1,  0,  0,  0,  0, 24,  0,  0,  0,  0,\n",
      "          0,  0,  0,  0],\n",
      "        [ 0,  7, 10,  3,  0,  0,  5,  0,  1,  0,  5,  8, 11, 11,  0,  0,  0,  0,\n",
      "          0,  0,  0,  0],\n",
      "        [ 1,  5,  0,  3,  0,  0,  8,  0,  0,  0,  0,  0,  0,  5,  0,  0,  0,  0,\n",
      "          0,  0,  0,  0],\n",
      "        [ 0,  0, 11,  0,  0,  0,  3,  0,  1,  0,  0,  1,  2,  2,  0,  0,  0,  0,\n",
      "          0,  0,  0,  0],\n",
      "        [ 5,  4, 13,  0,  0,  0,  3,  0,  0,  0,  0,  0,  0, 22,  0,  0,  0,  0,\n",
      "          0,  0,  0,  0],\n",
      "        [11,  0, 16,  5,  4,  0,  0,  1,  5,  0,  0,  0,  9,  8, 16,  0,  0,  0,\n",
      "          0,  0,  0,  0],\n",
      "        [11, 11,  9,  0,  0,  0,  6,  1,  1,  0,  0,  5,  3,  3,  0,  0,  0,  0,\n",
      "          0,  0,  0,  0]]), 'target': 0, 'length': 12, 'sample_index': '205752'}\n"
     ]
    }
   ],
   "source": [
    "test_dataloader, _ = initialize_data(\n",
    "    \"configs/data/features/features_credits_aggregated_v4.yaml\",\n",
    "    \"./data/credits-history/serialized/serialized_first_part_v4\",\n",
    "    \"./data/credits-history/indexes/ser_full_0_indexes/train_indexes.pickle\",\n",
    "    \"./data/credits-history/targets/targets_dict.pickle\",\n",
    "    use_sampler=False,\n",
    "    batch_size=1024\n",
    ")"
   ]
  },
  {
   "cell_type": "code",
   "execution_count": 7,
   "metadata": {},
   "outputs": [
    {
     "name": "stdout",
     "output_type": "stream",
     "text": [
      "dataset sample: {'numerical': tensor([[0.9147, 0.2640, 1.0005, 0.0000],\n",
      "        [0.1462, 1.5110, 2.0127, 0.0000],\n",
      "        [0.3494, 0.8115, 1.5090, 0.0000],\n",
      "        [0.3494, 0.8115, 1.5090, 0.0000],\n",
      "        [0.2703, 1.0098, 1.6636, 0.0000],\n",
      "        [1.8310, 0.0262, 0.1688, 0.0000],\n",
      "        [0.0139, 2.6218, 2.6531, 0.0000],\n",
      "        [1.1378, 0.0262, 0.0925, 0.0000],\n",
      "        [0.3494, 0.8115, 1.5090, 0.0000],\n",
      "        [2.7473, 0.0262, 0.4866, 0.0000],\n",
      "        [0.4447, 0.6416, 1.3662, 0.0000],\n",
      "        [0.2035, 1.2411, 1.8312, 0.0000]]), 'categorical': tensor([[ 9,  8,  3,  0,  0,  0,  0,  0,  0,  0,  0,  0,  8,  9,  0,  0,  0,  0,\n",
      "          0,  0,  0,  0],\n",
      "        [ 6,  9, 15,  0,  0,  0,  0,  0,  0,  0,  2,  7,  6,  6,  0,  0,  0,  0,\n",
      "          0,  0,  0,  0],\n",
      "        [ 2,  1,  1,  0,  0,  0,  0,  0,  0,  0,  0,  1,  2,  2,  0,  0,  0,  0,\n",
      "          0,  0,  0,  0],\n",
      "        [ 6,  1,  1,  0,  0,  0,  0,  0,  2,  0,  0,  1,  2,  2,  0,  0,  0,  0,\n",
      "          0,  0,  0,  0],\n",
      "        [ 7,  9,  5,  2,  0,  0,  2,  0,  0,  0,  0,  4,  7,  7,  0,  0,  0,  0,\n",
      "          0,  0,  0,  0],\n",
      "        [ 0,  6,  7,  2,  0,  0,  5,  0,  1,  0,  0,  0,  0, 24,  0,  0,  0,  0,\n",
      "          0,  0,  0,  0],\n",
      "        [ 0,  7, 10,  3,  0,  0,  5,  0,  1,  0,  5,  8, 11, 11,  0,  0,  0,  0,\n",
      "          0,  0,  0,  0],\n",
      "        [ 1,  5,  0,  3,  0,  0,  8,  0,  0,  0,  0,  0,  0,  5,  0,  0,  0,  0,\n",
      "          0,  0,  0,  0],\n",
      "        [ 0,  0, 11,  0,  0,  0,  3,  0,  1,  0,  0,  1,  2,  2,  0,  0,  0,  0,\n",
      "          0,  0,  0,  0],\n",
      "        [ 5,  4, 13,  0,  0,  0,  3,  0,  0,  0,  0,  0,  0, 22,  0,  0,  0,  0,\n",
      "          0,  0,  0,  0],\n",
      "        [11,  0, 16,  5,  4,  0,  0,  1,  5,  0,  0,  0,  9,  8, 16,  0,  0,  0,\n",
      "          0,  0,  0,  0],\n",
      "        [11, 11,  9,  0,  0,  0,  6,  1,  1,  0,  0,  5,  3,  3,  0,  0,  0,  0,\n",
      "          0,  0,  0,  0]]), 'target': 0, 'length': 12, 'sample_index': '205752'}\n"
     ]
    }
   ],
   "source": [
    "dataloader, features_dict = initialize_data(\n",
    "    \"configs/data/features/features_credits_aggregated_v4.yaml\",\n",
    "    \"./data/credits-history/serialized/serialized_first_part_v4\",\n",
    "    \"./data/credits-history/indexes/ser_full_0_indexes/train_indexes.pickle\",\n",
    "    \"./data/credits-history/targets/targets_dict.pickle\"\n",
    ")"
   ]
  },
  {
   "cell_type": "code",
   "execution_count": null,
   "metadata": {},
   "outputs": [],
   "source": [
    "d(next(iter(dataloader)))"
   ]
  },
  {
   "cell_type": "markdown",
   "metadata": {},
   "source": [
    "# Model"
   ]
  },
  {
   "cell_type": "markdown",
   "metadata": {},
   "source": [
    "## Get sample check "
   ]
  },
  {
   "cell_type": "code",
   "execution_count": 54,
   "metadata": {},
   "outputs": [],
   "source": [
    "def get_sample():\n",
    "    batch = next(iter(dataloader))\n",
    "\n",
    "    x = ModelInput(\n",
    "        numerical=batch.numerical,\n",
    "        categorical=batch.categorical,\n",
    "        mask=batch.mask\n",
    "    )\n",
    "\n",
    "    labels = batch.targets\n",
    "\n",
    "    return x, labels"
   ]
  },
  {
   "cell_type": "code",
   "execution_count": 55,
   "metadata": {},
   "outputs": [],
   "source": [
    "sample = get_sample()"
   ]
  },
  {
   "cell_type": "code",
   "execution_count": 56,
   "metadata": {},
   "outputs": [
    {
     "data": {
      "text/plain": [
       "torch.Size([32, 20, 4])"
      ]
     },
     "metadata": {},
     "output_type": "display_data"
    }
   ],
   "source": [
    "d(sample[0].numerical.size())"
   ]
  },
  {
   "cell_type": "code",
   "execution_count": 57,
   "metadata": {},
   "outputs": [
    {
     "data": {
      "text/plain": [
       "torch.Size([32])"
      ]
     },
     "metadata": {},
     "output_type": "display_data"
    }
   ],
   "source": [
    "d((~sample[0].mask).sum(dim=1).size())"
   ]
  },
  {
   "cell_type": "code",
   "execution_count": 58,
   "metadata": {},
   "outputs": [
    {
     "data": {
      "text/plain": [
       "tensor([[[0.4447, 0.3494, 0.0000,  ..., 0.0000, 0.0000, 0.0000],\n",
       "         [0.6416, 0.8115, 0.0000,  ..., 0.0000, 0.0000, 0.0000],\n",
       "         [1.3662, 1.5090, 0.0000,  ..., 0.0000, 0.0000, 0.0000],\n",
       "         [0.0000, 0.0000, 0.0000,  ..., 0.0000, 0.0000, 0.0000]],\n",
       "\n",
       "        [[1.8310, 0.0964, 2.9296,  ..., 0.0000, 0.0000, 0.0000],\n",
       "         [0.0262, 1.8259, 0.0262,  ..., 0.0000, 0.0000, 0.0000],\n",
       "         [0.1688, 2.2093, 0.6314,  ..., 0.0000, 0.0000, 0.0000],\n",
       "         [0.0000, 0.0000, 0.0000,  ..., 0.0000, 0.0000, 0.0000]],\n",
       "\n",
       "        [[0.7129, 0.4447, 1.6974,  ..., 0.0000, 0.0000, 0.0000],\n",
       "         [0.3710, 0.0262, 0.0936,  ..., 0.0000, 0.0000, 0.0000],\n",
       "         [1.1128, 0.0587, 0.8012,  ..., 0.0000, 0.0000, 0.0000],\n",
       "         [0.0000, 0.0000, 0.0000,  ..., 0.0000, 0.0000, 0.0000]],\n",
       "\n",
       "        ...,\n",
       "\n",
       "        [[0.3494, 0.9147, 0.0139,  ..., 0.0000, 0.0000, 0.0000],\n",
       "         [0.8115, 0.2640, 2.6218,  ..., 0.0000, 0.0000, 0.0000],\n",
       "         [1.5090, 1.0005, 2.6531,  ..., 0.0000, 0.0000, 0.0000],\n",
       "         [0.0000, 0.0000, 0.0000,  ..., 0.0000, 0.0000, 0.0000]],\n",
       "\n",
       "        [[2.3418, 0.0526, 1.6974,  ..., 0.0000, 0.0000, 0.0000],\n",
       "         [0.1487, 2.1932, 0.0936,  ..., 0.0000, 0.0000, 0.0000],\n",
       "         [0.7839, 2.4223, 0.8012,  ..., 0.0000, 0.0000, 0.0000],\n",
       "         [3.5556, 0.0000, 0.0000,  ..., 0.0000, 0.0000, 0.0000]],\n",
       "\n",
       "        [[0.4447, 0.4447, 2.6419,  ..., 0.0000, 0.0000, 0.0000],\n",
       "         [0.0262, 0.0262, 0.0262,  ..., 0.0000, 0.0000, 0.0000],\n",
       "         [0.0587, 0.0587, 0.4225,  ..., 0.0000, 0.0000, 0.0000],\n",
       "         [0.0000, 0.0000, 0.0000,  ..., 0.0000, 0.0000, 0.0000]]])"
      ]
     },
     "metadata": {},
     "output_type": "display_data"
    }
   ],
   "source": [
    "d(rearrange(sample[0].numerical, \"N L H -> N H L\"))"
   ]
  },
  {
   "cell_type": "markdown",
   "metadata": {},
   "source": [
    "## Model layers check"
   ]
  },
  {
   "cell_type": "code",
   "execution_count": 59,
   "metadata": {},
   "outputs": [],
   "source": [
    "EMB_DIM = 16"
   ]
  },
  {
   "cell_type": "code",
   "execution_count": 60,
   "metadata": {},
   "outputs": [],
   "source": [
    "class EmbeddingLayer(nn.Module):\n",
    "    def __init__(\n",
    "            self,\n",
    "            categorical_features: dict\n",
    "        ) -> None:\n",
    "        super(EmbeddingLayer, self).__init__()\n",
    "\n",
    "        self.categorical_features = categorical_features\n",
    "\n",
    "        self.embeddings = nn.ModuleList()\n",
    "\n",
    "        for vocab_size, emb_dim in self.categorical_features.values():\n",
    "\n",
    "            embedding = nn.Embedding(\n",
    "                num_embeddings=vocab_size, \n",
    "                embedding_dim=emb_dim\n",
    "            )\n",
    "\n",
    "            nn.init.xavier_normal_(embedding.weight, gain=nn.init.calculate_gain('relu'))\n",
    "\n",
    "            self.embeddings.append(embedding)\n",
    "\n",
    "\n",
    "    def forward(self, x: torch.Tensor) -> torch.Tensor:\n",
    "        \n",
    "        x = torch.concatenate(\n",
    "            [embedding(x[..., idx]) for idx, embedding in enumerate(self.embeddings)], dim=-1\n",
    "        ) # size = (B, L, first_emb_dim)\n",
    "        \n",
    "        return x\n",
    "\n",
    "    \n",
    "class EncoderLayer(nn.Module):\n",
    "    def __init__(\n",
    "            self,\n",
    "            numerical_features: List[str],\n",
    "            categorical_features: Dict[str, List[int]],\n",
    "            embedding_dim: int = 16,\n",
    "            dropout_inputs: float = 0.5,\n",
    "            non_linear: bool = False,\n",
    "            num_batch_norm: bool = True\n",
    "        ) -> None:\n",
    "        super(EncoderLayer, self).__init__()\n",
    "\n",
    "        self.dropout = nn.Dropout(p=dropout_inputs)\n",
    "\n",
    "        self.numerical_features = numerical_features\n",
    "        self.categorical_features = categorical_features\n",
    "\n",
    "        _first_emb_dim = sum([shape[-1] for shape in self.categorical_features.values()])\n",
    "\n",
    "        self.embeddings = EmbeddingLayer(\n",
    "            categorical_features=categorical_features\n",
    "        )\n",
    "\n",
    "        if non_linear:\n",
    "            self.out_linear_block = nn.Sequential(\n",
    "                nn.Linear(\n",
    "                    _first_emb_dim + len(self.numerical_features), \n",
    "                    embedding_dim\n",
    "                ),\n",
    "                nn.ReLU(),\n",
    "\n",
    "                nn.Linear(embedding_dim, embedding_dim)\n",
    "            )\n",
    "        else:\n",
    "            self.out_linear_block = nn.Linear(\n",
    "                _first_emb_dim + len(self.numerical_features), \n",
    "                embedding_dim\n",
    "            )\n",
    "\n",
    "        if num_batch_norm:\n",
    "            self.num_bn = nn.BatchNorm1d(len(self.numerical_features))\n",
    "        else: \n",
    "            self.num_bn = None\n",
    "\n",
    "\n",
    "    def forward(self, inputs: ModelInput) -> SingleForwardState:\n",
    "\n",
    "        embeddings = self.embeddings(inputs.categorical)\n",
    "\n",
    "        if self.num_bn is None:\n",
    "            x_num = inputs.numerical\n",
    "        else:\n",
    "            x_num = rearrange(inputs.numerical, \"N L H -> N H L\")\n",
    "\n",
    "            x_num = self.num_bn(x_num)\n",
    "\n",
    "            x_num = rearrange(x_num, \"N H L -> N L H\")\n",
    "\n",
    "        x = torch.concatenate((x_num, embeddings), dim=-1)\n",
    "\n",
    "        x = self.dropout(x)\n",
    "        x = self.out_linear_block(x)\n",
    "\n",
    "        return SingleForwardState(\n",
    "            sequences=x, \n",
    "            mask=inputs.mask\n",
    "        )"
   ]
  },
  {
   "cell_type": "code",
   "execution_count": 61,
   "metadata": {},
   "outputs": [],
   "source": [
    "enc = EncoderLayer(\n",
    "    numerical_features=features_dict[\"numerical\"],\n",
    "    categorical_features=features_dict[\"categorical\"],\n",
    "    embedding_dim=EMB_DIM,\n",
    "    dropout_inputs=0.3\n",
    ")"
   ]
  },
  {
   "cell_type": "code",
   "execution_count": 62,
   "metadata": {},
   "outputs": [],
   "source": [
    "x_enc = enc(sample[0])"
   ]
  },
  {
   "cell_type": "code",
   "execution_count": 63,
   "metadata": {},
   "outputs": [],
   "source": [
    "x_enc = enc(next(iter(test_dataloader)))"
   ]
  },
  {
   "cell_type": "code",
   "execution_count": 64,
   "metadata": {},
   "outputs": [
    {
     "data": {
      "text/plain": [
       "torch.Size([1024, 20, 16])"
      ]
     },
     "metadata": {},
     "output_type": "display_data"
    }
   ],
   "source": [
    "d(x_enc.sequences.size())"
   ]
  },
  {
   "cell_type": "code",
   "execution_count": 69,
   "metadata": {},
   "outputs": [],
   "source": [
    "class PositionalEncoding(nn.Module):\n",
    "    \"Implement the PE function.\"\n",
    "    def __init__(self, d_model: int, dropout: float = 0.1, max_len: int = 40, encoding_capacity: float = 10_000.0):\n",
    "        super().__init__()\n",
    "\n",
    "        self.dropout = nn.Dropout(p=dropout)\n",
    "        \n",
    "        encoding_capacity = torch.tensor(encoding_capacity)\n",
    "\n",
    "        pe = torch.zeros(max_len, d_model)\n",
    "        position = torch.arange(0, max_len).unsqueeze(1)\n",
    "\n",
    "        div_term = torch.exp(-torch.arange(0, d_model, 2) * torch.log(encoding_capacity) / d_model)\n",
    "        \n",
    "        pe[:, 0::2] = torch.sin(position * div_term)\n",
    "        pe[:, 1::2] = torch.cos(position * div_term)\n",
    "\n",
    "        self.pe = pe.unsqueeze(0)\n",
    "        \n",
    "\n",
    "    def forward(self, x):\n",
    "        x = x + self.pe[:, :x.size(1)]\n",
    "\n",
    "        return self.dropout(x)"
   ]
  },
  {
   "cell_type": "code",
   "execution_count": 70,
   "metadata": {},
   "outputs": [],
   "source": [
    "check_pe = PositionalEncoding(EMB_DIM, 0.0, 20)(x_enc.sequences)"
   ]
  },
  {
   "cell_type": "code",
   "execution_count": 71,
   "metadata": {},
   "outputs": [
    {
     "data": {
      "image/png": "[encoded data removed]",
      "text/plain": [
       "<Figure size 640x480 with 1 Axes>"
      ]
     },
     "metadata": {},
     "output_type": "display_data"
    }
   ],
   "source": [
    "for i in range(20):\n",
    "    plt.plot(range(16), check_pe[-1, i, :].detach())\n",
    "plt.show()"
   ]
  },
  {
   "cell_type": "code",
   "execution_count": 72,
   "metadata": {},
   "outputs": [
    {
     "data": {
      "text/plain": [
       "torch.Size([1024, 20, 16])"
      ]
     },
     "metadata": {},
     "output_type": "display_data"
    }
   ],
   "source": [
    "d(check_pe.size())"
   ]
  },
  {
   "cell_type": "code",
   "execution_count": 73,
   "metadata": {},
   "outputs": [
    {
     "data": {
      "text/plain": [
       "tensor([[False, False, False,  ...,  True,  True,  True],\n",
       "        [False, False, False,  ...,  True,  True,  True],\n",
       "        [False, False, False,  ...,  True,  True,  True],\n",
       "        ...,\n",
       "        [False, False,  True,  ...,  True,  True,  True],\n",
       "        [False, False, False,  ...,  True,  True,  True],\n",
       "        [False, False, False,  ...,  True,  True,  True]])"
      ]
     },
     "metadata": {},
     "output_type": "display_data"
    }
   ],
   "source": [
    "d(x_enc.mask)"
   ]
  },
  {
   "cell_type": "code",
   "execution_count": 74,
   "metadata": {},
   "outputs": [
    {
     "data": {
      "text/plain": [
       "torch.Size([1024, 20, 16])"
      ]
     },
     "metadata": {},
     "output_type": "display_data"
    }
   ],
   "source": [
    "d(x_enc.sequences.size())"
   ]
  },
  {
   "cell_type": "code",
   "execution_count": 75,
   "metadata": {},
   "outputs": [
    {
     "data": {
      "text/plain": [
       "torch.Size([32, 20, 22])"
      ]
     },
     "metadata": {},
     "output_type": "display_data"
    }
   ],
   "source": [
    "d(sample[0].categorical.size())"
   ]
  },
  {
   "cell_type": "code",
   "execution_count": 78,
   "metadata": {},
   "outputs": [
    {
     "data": {
      "text/plain": [
       "<matplotlib.image.AxesImage at 0x7efe8be2aa90>"
      ]
     },
     "execution_count": 78,
     "metadata": {},
     "output_type": "execute_result"
    },
    {
     "data": {
      "image/png": "[encoded data removed]",
      "text/plain": [
       "<Figure size 1800x1000 with 2 Axes>"
      ]
     },
     "metadata": {},
     "output_type": "display_data"
    }
   ],
   "source": [
    "figure = plt.figure(figsize=(18, 10))\n",
    "\n",
    "ax = figure.add_subplot(2, 2, 1)\n",
    "ax.imshow(sample[0].categorical[0])\n",
    "\n",
    "ax = figure.add_subplot(2, 1, 1)\n",
    "ax.imshow(x_enc.sequences[0].detach())"
   ]
  },
  {
   "cell_type": "code",
   "execution_count": 79,
   "metadata": {},
   "outputs": [],
   "source": [
    "from src.models.components.base_transformer.encoder_decoder import Encoder, LUNAEncoder\n",
    "from src.models.components.base_transformer.sub_layers import EncoderLayer, LUNAEncoderLayer\n",
    "from src.models.components.base_transformer.multihead_attention import MultiHeadAttention, LinearUnifiedNestedAttention\n",
    "from src.models.components.base_transformer.positionwise_ff import PositionwiseFeedForward\n",
    "from src.models.components.base_transformer.transformer import BaseTransformer\n",
    "from src.models.components.pooling.agg_pooling import ConvPooling"
   ]
  },
  {
   "cell_type": "code",
   "execution_count": 80,
   "metadata": {},
   "outputs": [],
   "source": [
    "EMB_DIM = 16"
   ]
  },
  {
   "cell_type": "code",
   "execution_count": 81,
   "metadata": {},
   "outputs": [],
   "source": [
    "import torch \n",
    "from torch import nn \n",
    "\n",
    "from src.models.components.utils.clone_modules import clone_modules\n",
    "\n",
    "from typing import Tuple\n",
    "\n",
    "\n",
    "class ScaledDotProductAttention(nn.Module):\n",
    "    def __init__(self, temperature: float, dropout: float = 0.1):\n",
    "        super(ScaledDotProductAttention, self).__init__()\n",
    "\n",
    "        self.temperature = torch.sqrt(torch.tensor(temperature))\n",
    "        self.softmax_dropout = nn.Sequential(\n",
    "            nn.Softmax(dim=-1),\n",
    "            nn.Dropout(dropout)\n",
    "        )\n",
    "\n",
    "\n",
    "    def forward(self, query: torch.Tensor, key: torch.Tensor, value: torch.Tensor, mask: torch.Tensor = None) -> torch.Tensor:\n",
    "        # (B, h, L, d)\n",
    "\n",
    "        print(\"qkv\", query.size(), key.size(), value.size())\n",
    "\n",
    "        attn = torch.matmul(query, key) / self.temperature\n",
    "\n",
    "        print(\"attn\", attn.size())\n",
    "\n",
    "        # (B, h, L, L) or (B, h, L, d_proj)\n",
    "\n",
    "        if mask is not None:\n",
    "            # mask (B, 1, L, 1) ~ same mask applied to all h heads and all L or d_k sequences\n",
    "            print(mask.unsqueeze(dim=1).unsqueeze(dim=1).size())\n",
    "            attn.masked_fill_(~mask.unsqueeze(dim=1).unsqueeze(dim=1), -1.0e9)\n",
    "        \n",
    "        attn = self.softmax_dropout(attn)\n",
    "\n",
    "        context = torch.matmul(attn, value)\n",
    "\n",
    "        print(\"context\", context.size())\n",
    "\n",
    "        # (B, h, L, d)\n",
    "\n",
    "        return context, attn\n",
    "\n",
    "\n",
    "class MultiHeadAttention(nn.Module):\n",
    "    def __init__(self, d_model: int, n_heads: int = 1, dropout: float = 0.1, seq_len: int = None, d_proj: int = None):\n",
    "        super(MultiHeadAttention, self).__init__()\n",
    "\n",
    "        self.linears = clone_modules(nn.Linear(d_model, d_model * n_heads), 3)\n",
    "\n",
    "        self.seq_len = seq_len\n",
    "\n",
    "        if self.seq_len is not None:\n",
    "            if d_proj is None:\n",
    "                d_proj = self.seq_len // 4\n",
    "\n",
    "            self.E_projection = nn.Linear(self.seq_len, d_proj)\n",
    "            self.F_projection = nn.Linear(self.seq_len, d_proj)\n",
    "\n",
    "        self.attention = ScaledDotProductAttention(d_model, dropout)\n",
    "\n",
    "        self.out_block = nn.Linear(d_model * n_heads, d_model)\n",
    "\n",
    "        self.d_model = d_model\n",
    "        self.n_heads = n_heads\n",
    "        \n",
    "\n",
    "    def forward(self, query: torch.Tensor, key: torch.Tensor, value: torch.Tensor, mask: torch.Tensor = None) -> torch.Tensor:\n",
    "        # (B, L, d)\n",
    "        n_batches = query.size(0)\n",
    "\n",
    "        query, key, value = [\n",
    "            layer(x).view(n_batches, -1, self.n_heads, self.d_model).transpose(1, 2) \\\n",
    "                for layer, x in zip(self.linears, (query, key, value))\n",
    "        ]\n",
    "\n",
    "        # q, k, v ~ (B, h, L, d) # h = num_heads\n",
    "\n",
    "        if self.seq_len is not None:\n",
    "            key = self.E_projection(key.transpose(-2, -1))\n",
    "            value = self.F_projection(value.transpose(-2, -1)).transpose(-2, -1)\n",
    "            # q ~ (B, h, L, d)\n",
    "            # k ~ (B, h, d, d_k) => P ~ (B, h, L, d_k)\n",
    "            # v ~ (B, h, d_k, d) => matmul(P, v) ~ (B, h, L, d)\n",
    "        else:\n",
    "            key = key.transpose(-2, -1)\n",
    "\n",
    "        context, _ = self.attention(query, key, value, mask)\n",
    "\n",
    "        # (B, h, L, d)\n",
    "\n",
    "        # .contiguous() -> makes a copy of the tensor with its own layout ~ for view\n",
    "        context = context.transpose(1, 2).contiguous().view(n_batches, -1, self.d_model * self.n_heads)\n",
    "\n",
    "        # (B, L, d * h)\n",
    "\n",
    "        context = self.out_block(context)\n",
    "\n",
    "        # (B, L, d)\n",
    "\n",
    "        return context\n",
    "    \n",
    "\n",
    "# LUNA\n",
    "class LinearUnifiedNestedAttention(nn.Module):\n",
    "    def __init__(self, d_model: int, n_heads: int = 1, dropout: float = 0.1, seq_len: int = None, d_proj: int = None):\n",
    "        super(LinearUnifiedNestedAttention, self).__init__()\n",
    "\n",
    "        self.pack_attention = MultiHeadAttention(d_model, n_heads, dropout, seq_len, d_proj)\n",
    "\n",
    "        self.unpack_attention = MultiHeadAttention(d_model, n_heads, dropout, seq_len, d_proj)\n",
    "        \n",
    "        self.d_model = d_model\n",
    "        self.n_heads = n_heads\n",
    "\n",
    "    \n",
    "    def forward(self, query: torch.Tensor, key: torch.Tensor, value: torch.Tensor, aggregates: torch.Tensor, mask: torch.Tensor = None) -> Tuple[torch.Tensor]:\n",
    "        print(query.size(), key.size(), value.size(), aggregates.size())\n",
    "\n",
    "        packed_context = self.pack_attention(aggregates, key, value, mask)\n",
    "\n",
    "        unpacked_context = self.unpack_attention(query, packed_context, packed_context)\n",
    "\n",
    "        return unpacked_context, packed_context"
   ]
  },
  {
   "cell_type": "code",
   "execution_count": 89,
   "metadata": {},
   "outputs": [],
   "source": [
    "attn = BaseTransformer(\n",
    "    use_decoder=False,\n",
    "    encoder=LUNAEncoder(\n",
    "        luna_encoder_layer=LUNAEncoderLayer(\n",
    "            luna=LinearUnifiedNestedAttention(EMB_DIM, 4),\n",
    "            feed_forward=PositionwiseFeedForward(EMB_DIM, activation_type=\"relu\")\n",
    "        ),\n",
    "        n_layers=1, \n",
    "        n_aggregates=8\n",
    "    )\n",
    ")"
   ]
  },
  {
   "cell_type": "code",
   "execution_count": 90,
   "metadata": {},
   "outputs": [
    {
     "data": {
      "text/plain": [
       "BaseTransformer(\n",
       "  (encoder): LUNAEncoder(\n",
       "    (layers): ModuleList(\n",
       "      (0): LUNAEncoderLayer(\n",
       "        (luna_layer): LinearUnifiedNestedAttention(\n",
       "          (pack_attention): MultiHeadAttention(\n",
       "            (linears): ModuleList(\n",
       "              (0-2): 3 x Linear(in_features=16, out_features=64, bias=True)\n",
       "            )\n",
       "            (attention): ScaledDotProductAttention(\n",
       "              (softmax_dropout): Sequential(\n",
       "                (0): Softmax(dim=-1)\n",
       "                (1): Dropout(p=0.1, inplace=False)\n",
       "              )\n",
       "            )\n",
       "            (out_block): Linear(in_features=64, out_features=16, bias=True)\n",
       "          )\n",
       "          (unpack_attention): MultiHeadAttention(\n",
       "            (linears): ModuleList(\n",
       "              (0-2): 3 x Linear(in_features=16, out_features=64, bias=True)\n",
       "            )\n",
       "            (attention): ScaledDotProductAttention(\n",
       "              (softmax_dropout): Sequential(\n",
       "                (0): Softmax(dim=-1)\n",
       "                (1): Dropout(p=0.1, inplace=False)\n",
       "              )\n",
       "            )\n",
       "            (out_block): Linear(in_features=64, out_features=16, bias=True)\n",
       "          )\n",
       "        )\n",
       "        (ff_layer): PositionwiseFeedForward(\n",
       "          (position_wise_ff): Sequential(\n",
       "            (0): Linear(in_features=16, out_features=32, bias=True)\n",
       "            (1): ReLU()\n",
       "            (2): Linear(in_features=32, out_features=16, bias=True)\n",
       "          )\n",
       "        )\n",
       "        (sub_layers): ModuleDict(\n",
       "          (luna): LUNASubLayer(\n",
       "            (main_layer_norm): LayerNorm((16,), eps=1e-05, elementwise_affine=True)\n",
       "            (agg_layer_norm): LayerNorm((16,), eps=1e-05, elementwise_affine=True)\n",
       "            (main_dropout): Dropout(p=0.3, inplace=False)\n",
       "            (agg_dropout): Dropout(p=0.3, inplace=False)\n",
       "          )\n",
       "          (feed_forward): SubLayer(\n",
       "            (layer_norm): LayerNorm((16,), eps=1e-05, elementwise_affine=True)\n",
       "            (dropout): Dropout(p=0.3, inplace=False)\n",
       "          )\n",
       "        )\n",
       "      )\n",
       "    )\n",
       "    (main_layer_norm): LayerNorm((16,), eps=1e-05, elementwise_affine=True)\n",
       "    (agg_layer_norm): LayerNorm((16,), eps=1e-05, elementwise_affine=True)\n",
       "  )\n",
       ")"
      ]
     },
     "metadata": {},
     "output_type": "display_data"
    }
   ],
   "source": [
    "d(attn)"
   ]
  },
  {
   "cell_type": "code",
   "execution_count": 91,
   "metadata": {},
   "outputs": [
    {
     "data": {
      "text/plain": [
       "torch.Size([1024, 8, 20])"
      ]
     },
     "metadata": {},
     "output_type": "display_data"
    }
   ],
   "source": [
    "d(x_enc.mask.unsqueeze(dim=1).expand(-1, 8, -1).size())"
   ]
  },
  {
   "cell_type": "code",
   "execution_count": 92,
   "metadata": {},
   "outputs": [
    {
     "name": "stdout",
     "output_type": "stream",
     "text": [
      "torch.Size([1024, 20, 16]) torch.Size([1024, 20, 16]) torch.Size([1024, 20, 16]) torch.Size([1024, 8, 16])\n",
      "qkv torch.Size([1024, 4, 8, 16]) torch.Size([1024, 4, 16, 20]) torch.Size([1024, 4, 20, 16])\n",
      "attn torch.Size([1024, 4, 8, 20])\n",
      "torch.Size([1024, 1, 1, 20])\n",
      "context torch.Size([1024, 4, 8, 16])"
     ]
    },
    {
     "name": "stdout",
     "output_type": "stream",
     "text": [
      "\n",
      "qkv torch.Size([1024, 4, 20, 16]) torch.Size([1024, 4, 16, 8]) torch.Size([1024, 4, 8, 16])\n",
      "attn torch.Size([1024, 4, 20, 8])\n",
      "context torch.Size([1024, 4, 20, 16])\n"
     ]
    }
   ],
   "source": [
    "x_att = attn(x_enc)"
   ]
  },
  {
   "cell_type": "code",
   "execution_count": 93,
   "metadata": {},
   "outputs": [
    {
     "data": {
      "text/plain": [
       "TwoBranchForwardState(main_sequences=tensor([[[ 9.7050e-01, -7.1419e-01, -1.6031e+00,  ..., -4.3073e-01,\n",
       "           1.2074e-01, -1.0225e+00],\n",
       "         [ 1.9632e+00,  3.9248e-01,  9.7789e-01,  ..., -1.1369e+00,\n",
       "          -6.1153e-01, -3.0542e-01],\n",
       "         [ 7.3560e-01, -4.0554e-02, -9.7706e-01,  ..., -6.7422e-01,\n",
       "          -7.8450e-01,  3.1163e-01],\n",
       "         ...,\n",
       "         [ 1.3111e+00, -6.3186e-01,  4.3434e-03,  ..., -2.4119e-01,\n",
       "          -1.8406e-01, -1.4614e+00],\n",
       "         [ 9.6677e-01, -1.2168e+00, -2.2300e+00,  ..., -9.3764e-01,\n",
       "          -5.7574e-02,  3.9302e-01],\n",
       "         [ 4.7234e-01, -9.8698e-01, -1.9148e+00,  ..., -5.2198e-01,\n",
       "          -6.7993e-02, -2.7126e-01]],\n",
       "\n",
       "        [[ 1.1746e+00, -5.2964e-01, -1.3359e-01,  ..., -7.2424e-01,\n",
       "           1.0181e+00, -1.6134e+00],\n",
       "         [ 1.6461e+00, -1.2307e+00, -6.6614e-01,  ..., -1.1133e+00,\n",
       "           4.2077e-01, -1.1325e+00],\n",
       "         [ 8.8398e-01, -9.8607e-01, -9.5912e-01,  ..., -4.2724e-01,\n",
       "           6.0135e-01, -6.8526e-01],\n",
       "         ...,\n",
       "         [ 2.6485e-02, -1.2718e+00, -2.7629e+00,  ..., -3.3467e-01,\n",
       "          -4.3762e-02,  8.9742e-01],\n",
       "         [ 1.0715e+00, -8.4416e-01, -2.3330e+00,  ..., -2.7458e-01,\n",
       "          -2.1247e-01, -5.4140e-01],\n",
       "         [ 1.0654e+00, -1.2929e+00, -1.0343e+00,  ..., -5.3108e-01,\n",
       "          -3.5518e-01, -1.2581e+00]],\n",
       "\n",
       "        [[ 7.1635e-01, -9.3231e-01, -4.4855e-01,  ..., -5.8138e-01,\n",
       "          -1.8006e-02, -7.0049e-01],\n",
       "         [ 4.0890e-01,  4.7077e-02, -1.3694e+00,  ...,  7.2100e-02,\n",
       "          -3.5352e-02, -1.5337e+00],\n",
       "         [ 1.6773e+00,  1.7313e-01, -2.2114e-01,  ..., -7.3422e-01,\n",
       "           1.1288e-01, -1.4348e+00],\n",
       "         ...,\n",
       "         [ 9.8685e-01, -1.0607e+00, -1.2635e+00,  ..., -1.2966e+00,\n",
       "           1.2013e-01,  7.3941e-01],\n",
       "         [ 8.9428e-01, -7.1555e-01, -1.8708e+00,  ..., -1.0118e+00,\n",
       "          -9.0109e-01, -1.2341e-01],\n",
       "         [ 8.9581e-01, -2.1427e-01, -1.1740e+00,  ..., -6.1433e-01,\n",
       "           8.0031e-01,  3.4264e-01]],\n",
       "\n",
       "        ...,\n",
       "\n",
       "        [[ 1.4408e+00, -6.0948e-01, -3.1953e-01,  ..., -1.6548e+00,\n",
       "           1.2967e-02, -3.1613e-02],\n",
       "         [ 1.2350e-01,  1.9745e-01, -3.3787e-01,  ..., -8.8393e-01,\n",
       "           8.9054e-01,  1.3184e-01],\n",
       "         [ 4.3384e-01, -3.7335e-01, -2.4248e+00,  ..., -2.0745e-02,\n",
       "          -2.2491e-01, -4.2166e-01],\n",
       "         ...,\n",
       "         [ 6.2645e-01, -7.3480e-01, -1.6530e+00,  ..., -1.1083e+00,\n",
       "          -3.7399e-01, -5.2141e-01],\n",
       "         [ 1.4253e+00, -8.7935e-01, -2.7792e+00,  ..., -1.9209e-01,\n",
       "          -3.3382e-01,  5.7691e-01],\n",
       "         [ 1.1649e+00, -1.1022e+00, -2.6394e+00,  ...,  5.1904e-03,\n",
       "           3.9889e-01, -6.0145e-01]],\n",
       "\n",
       "        [[ 6.8640e-01, -3.0361e-01, -1.2818e+00,  ..., -1.8592e-01,\n",
       "          -2.4428e-02, -1.1648e+00],\n",
       "         [ 9.8159e-01, -1.0551e-03,  1.1096e-01,  ..., -6.8776e-01,\n",
       "          -6.2119e-01, -1.1777e+00],\n",
       "         [ 9.4790e-01, -4.9806e-01, -1.3485e+00,  ..., -3.0674e-01,\n",
       "          -8.8154e-01, -6.5354e-01],\n",
       "         ...,\n",
       "         [ 1.2688e+00, -4.9174e-01, -1.9946e+00,  ..., -7.7120e-01,\n",
       "           2.7795e-01, -7.5666e-01],\n",
       "         [ 1.3745e+00, -1.0729e+00, -1.3247e+00,  ..., -7.9143e-02,\n",
       "           1.3800e+00, -1.1274e+00],\n",
       "         [ 5.5500e-01, -3.5803e-02, -2.1259e+00,  ..., -4.4132e-01,\n",
       "          -8.5433e-01,  1.3492e-01]],\n",
       "\n",
       "        [[ 1.1308e+00, -6.0233e-01,  1.0445e+00,  ...,  7.3452e-02,\n",
       "          -5.7756e-01, -1.4948e+00],\n",
       "         [ 1.1163e+00, -8.7299e-01, -2.8399e-01,  ..., -5.0324e-01,\n",
       "          -6.5211e-01,  2.7922e-01],\n",
       "         [ 8.2707e-01, -3.3084e-01, -6.6297e-01,  ..., -2.3943e-01,\n",
       "          -7.0074e-01, -8.0372e-01],\n",
       "         ...,\n",
       "         [ 7.8593e-01, -5.2108e-01, -1.8950e+00,  ...,  1.3151e-01,\n",
       "          -5.4676e-01, -4.6446e-01],\n",
       "         [ 6.8546e-02, -4.6976e-01, -2.8257e+00,  ...,  2.5712e-02,\n",
       "           2.3662e-01,  5.4144e-01],\n",
       "         [ 1.5642e+00, -5.5266e-01, -1.6281e+00,  ..., -6.7184e-01,\n",
       "           5.0859e-01, -9.6027e-01]]], grad_fn=<NativeLayerNormBackward0>), aggregates=tensor([[[ 6.7752e-01, -1.0061e+00, -6.1861e-01,  ..., -1.2975e+00,\n",
       "          -4.3482e-01,  8.5775e-01],\n",
       "         [-2.9962e-01, -3.1986e-01, -5.5787e-02,  ..., -2.0167e+00,\n",
       "          -1.4573e+00,  9.5957e-01],\n",
       "         [ 4.2819e-01, -3.2420e-01, -2.5695e-02,  ..., -1.4515e+00,\n",
       "           1.4813e-01,  1.4571e+00],\n",
       "         ...,\n",
       "         [-7.0382e-01, -7.0901e-01,  6.3404e-01,  ...,  1.4955e+00,\n",
       "          -8.1567e-01,  3.2175e-01],\n",
       "         [ 6.8300e-01, -5.6252e-02,  8.8857e-03,  ..., -1.3230e-01,\n",
       "          -9.1427e-01,  6.8516e-01],\n",
       "         [ 1.4920e+00, -3.6658e-01,  4.5124e-01,  ..., -4.6538e-01,\n",
       "          -6.9865e-01,  3.9973e-01]],\n",
       "\n",
       "        [[ 4.4192e-01, -1.1617e+00, -7.8364e-01,  ..., -1.4109e+00,\n",
       "          -5.7592e-01,  6.4659e-01],\n",
       "         [-9.3750e-01,  2.9729e-01, -5.3515e-02,  ..., -2.0103e+00,\n",
       "           2.6188e-01,  4.1155e-01],\n",
       "         [ 1.8661e-01, -4.2360e-01, -1.2234e-01,  ..., -1.5370e+00,\n",
       "           8.5017e-02,  9.6092e-01],\n",
       "         ...,\n",
       "         [-1.4168e-01, -3.2543e-01,  5.6649e-02,  ...,  1.7485e-02,\n",
       "          -2.6041e+00,  2.7817e-01],\n",
       "         [ 4.1101e-01,  6.0189e-01, -1.0656e-01,  ..., -4.2980e-01,\n",
       "           1.1179e+00,  1.0632e+00],\n",
       "         [ 1.9657e+00, -3.6433e-01,  5.3705e-01,  ...,  2.8356e-01,\n",
       "           1.2787e-02, -1.3581e-01]],\n",
       "\n",
       "        [[ 4.4396e-01, -2.4050e-01, -8.7302e-01,  ...,  9.3905e-02,\n",
       "          -2.1062e+00,  4.8625e-01],\n",
       "         [-5.0486e-01,  8.7233e-02,  1.6238e-01,  ..., -1.9470e+00,\n",
       "          -1.5521e+00,  1.4636e+00],\n",
       "         [ 4.4125e-01, -4.0622e-01, -7.7662e-02,  ..., -1.7226e+00,\n",
       "          -1.9778e+00,  1.5503e+00],\n",
       "         ...,\n",
       "         [-1.8526e-01,  3.5237e-01,  7.2238e-01,  ...,  1.0749e-02,\n",
       "          -2.7230e+00,  6.4964e-01],\n",
       "         [ 1.4034e-01, -2.2644e-01, -4.1897e-01,  ..., -4.8183e-01,\n",
       "          -8.4364e-01,  4.9676e-01],\n",
       "         [ 1.0173e+00,  1.4131e-01, -1.8415e-02,  ...,  5.5765e-02,\n",
       "          -2.1905e+00,  7.1158e-04]],\n",
       "\n",
       "        ...,\n",
       "\n",
       "        [[ 6.7334e-01, -8.2635e-01, -1.4132e-01,  ..., -1.1993e+00,\n",
       "          -3.9788e-01,  6.8139e-01],\n",
       "         [-6.5967e-01, -5.4239e-01, -4.5641e-01,  ..., -1.2534e+00,\n",
       "           2.9384e-01,  5.0183e-01],\n",
       "         [ 3.9782e-01,  3.6412e-01, -2.4018e-01,  ..., -2.1740e+00,\n",
       "           1.8615e-01,  1.1643e+00],\n",
       "         ...,\n",
       "         [-5.4272e-01, -1.4254e-01, -4.0592e-04,  ..., -2.8042e-03,\n",
       "          -2.4812e+00,  3.3024e-01],\n",
       "         [ 3.3912e-01,  4.0215e-01, -4.9920e-01,  ...,  8.6538e-01,\n",
       "          -1.3861e+00,  1.0713e+00],\n",
       "         [ 1.0870e+00,  1.6156e-01,  1.5461e-01,  ..., -1.0063e+00,\n",
       "          -1.7436e+00, -1.3336e-01]],\n",
       "\n",
       "        [[-2.5552e-02, -8.1989e-01, -5.7942e-01,  ...,  8.7932e-02,\n",
       "          -2.1213e+00,  5.8758e-01],\n",
       "         [-4.2084e-01,  3.2606e-01, -1.0138e-02,  ..., -2.1274e+00,\n",
       "           2.8989e-01,  4.4278e-01],\n",
       "         [-4.0367e-01, -4.9271e-01, -1.2724e-01,  ..., -3.5524e-01,\n",
       "           3.4594e-02,  5.8690e-01],\n",
       "         ...,\n",
       "         [-4.2904e-01, -1.3837e-01,  3.0233e-01,  ...,  1.9241e-01,\n",
       "          -2.2284e+00,  7.1628e-01],\n",
       "         [ 6.3554e-01,  1.1360e-01, -2.1353e-02,  ..., -7.9566e-01,\n",
       "           1.5026e+00,  1.5204e+00],\n",
       "         [ 6.7598e-01,  1.5412e-01,  7.8588e-01,  ..., -1.2749e+00,\n",
       "          -2.0357e+00,  4.7274e-01]],\n",
       "\n",
       "        [[ 2.4797e-01, -6.5005e-01, -4.7439e-01,  ..., -9.6864e-01,\n",
       "          -2.0757e+00,  1.0372e+00],\n",
       "         [-5.2974e-01,  4.6319e-01,  5.8014e-01,  ..., -2.2587e+00,\n",
       "           4.2495e-01,  8.8037e-01],\n",
       "         [ 2.5633e-01,  4.8222e-01,  2.1031e-02,  ..., -1.4534e+00,\n",
       "          -1.6344e+00,  8.3850e-01],\n",
       "         ...,\n",
       "         [-2.0734e-01,  2.6127e-02,  3.9093e-01,  ...,  4.2788e-01,\n",
       "          -2.3890e+00,  7.1551e-01],\n",
       "         [ 1.2481e-02, -2.0349e-01,  1.6555e-01,  ..., -6.1925e-01,\n",
       "          -1.0588e+00,  6.9344e-01],\n",
       "         [ 1.0301e+00, -1.4671e-02,  5.9915e-01,  ..., -8.8824e-02,\n",
       "          -1.9344e+00, -3.5999e-01]]], grad_fn=<NativeLayerNormBackward0>), mask=tensor([[False, False, False,  ...,  True,  True,  True],\n",
       "        [False, False, False,  ...,  True,  True,  True],\n",
       "        [False, False, False,  ...,  True,  True,  True],\n",
       "        ...,\n",
       "        [False, False,  True,  ...,  True,  True,  True],\n",
       "        [False, False, False,  ...,  True,  True,  True],\n",
       "        [False, False, False,  ...,  True,  True,  True]]))"
      ]
     },
     "metadata": {},
     "output_type": "display_data"
    }
   ],
   "source": [
    "d(x_att)"
   ]
  },
  {
   "cell_type": "code",
   "execution_count": 44,
   "metadata": {},
   "outputs": [
    {
     "data": {
      "text/plain": [
       "torch.Size([1024, 50, 16])"
      ]
     },
     "metadata": {},
     "output_type": "display_data"
    },
    {
     "data": {
      "text/plain": [
       "torch.Size([1024, 8, 16])"
      ]
     },
     "metadata": {},
     "output_type": "display_data"
    }
   ],
   "source": [
    "d(x_att.main_sequences.size(), x_att.aggregates.size())"
   ]
  },
  {
   "cell_type": "code",
   "execution_count": 33,
   "metadata": {},
   "outputs": [
    {
     "data": {
      "text/plain": [
       "torch.Size([1024, 50, 16])"
      ]
     },
     "metadata": {},
     "output_type": "display_data"
    }
   ],
   "source": [
    "d(x_att.sequences.size())"
   ]
  },
  {
   "cell_type": "code",
   "execution_count": 34,
   "metadata": {},
   "outputs": [
    {
     "data": {
      "text/plain": [
       "<matplotlib.image.AxesImage at 0x7f28be364990>"
      ]
     },
     "execution_count": 34,
     "metadata": {},
     "output_type": "execute_result"
    },
    {
     "data": {
      "image/png": "[encoded data removed]",
      "text/plain": [
       "<Figure size 600x600 with 1 Axes>"
      ]
     },
     "metadata": {},
     "output_type": "display_data"
    }
   ],
   "source": [
    "figure = plt.figure(figsize=(6, 6))\n",
    "\n",
    "ax = figure.add_subplot()\n",
    "ax.imshow(x_att.sequences[0].detach())"
   ]
  },
  {
   "cell_type": "code",
   "execution_count": 35,
   "metadata": {},
   "outputs": [],
   "source": [
    "class GRUAggregator(nn.Module):\n",
    "    def __init__(\n",
    "            self,\n",
    "            hidden_size: int, \n",
    "            num_layers_gru: int = 1,\n",
    "            bidirectional: bool = False,\n",
    "            dropout_gru: float = 0.0\n",
    "    ) -> None:\n",
    "        super(GRUAggregator, self).__init__()\n",
    "\n",
    "        self.gru = nn.GRU(\n",
    "            input_size=hidden_size,\n",
    "            hidden_size=hidden_size,\n",
    "            batch_first=True,\n",
    "            num_layers=num_layers_gru,\n",
    "            bidirectional=bidirectional,\n",
    "            dropout=dropout_gru\n",
    "        )\n",
    "\n",
    "    def forward(self, x: SingleForwardState) -> SingleForwardState:\n",
    "\n",
    "        lengths = (~x.mask).sum(dim=1)\n",
    "\n",
    "        packed_sequences = torch.nn.utils.rnn.pack_padded_sequence(\n",
    "            input=x.sequences, \n",
    "            lengths=lengths, \n",
    "            batch_first=True, \n",
    "            enforce_sorted=False\n",
    "        )\n",
    "\n",
    "        _, hidden_state = self.gru(packed_sequences)\n",
    "\n",
    "        return SingleForwardState(\n",
    "            sequences=hidden_state[-1],\n",
    "            mask=x.mask\n",
    "        )"
   ]
  },
  {
   "cell_type": "code",
   "execution_count": 37,
   "metadata": {},
   "outputs": [],
   "source": [
    "pooling = ConvPooling(EMB_DIM)"
   ]
  },
  {
   "cell_type": "code",
   "execution_count": 38,
   "metadata": {},
   "outputs": [],
   "source": [
    "gru = GRUAggregator(\n",
    "    hidden_size=EMB_DIM,\n",
    "    num_layers_gru=2\n",
    ")"
   ]
  },
  {
   "cell_type": "code",
   "execution_count": 39,
   "metadata": {},
   "outputs": [],
   "source": [
    "x_gru = gru(x_att)\n",
    "x_pooled = pooling(x_att)"
   ]
  },
  {
   "cell_type": "code",
   "execution_count": 44,
   "metadata": {},
   "outputs": [
    {
     "data": {
      "text/plain": [
       "torch.Size([1024, 16])"
      ]
     },
     "metadata": {},
     "output_type": "display_data"
    },
    {
     "data": {
      "text/plain": [
       "torch.Size([1024, 16])"
      ]
     },
     "metadata": {},
     "output_type": "display_data"
    }
   ],
   "source": [
    "d(x_gru.sequences.size(), x_pooled.representations.size())"
   ]
  },
  {
   "cell_type": "code",
   "execution_count": 48,
   "metadata": {},
   "outputs": [
    {
     "data": {
      "image/png": "[encoded data removed]",
      "text/plain": [
       "<Figure size 600x600 with 1 Axes>"
      ]
     },
     "metadata": {},
     "output_type": "display_data"
    }
   ],
   "source": [
    "figure = plt.figure(figsize=(6, 6))\n",
    "\n",
    "ax = figure.add_subplot()\n",
    "plt.show(ax.imshow(x_gru.sequences[0].detach().unsqueeze(dim=0)))"
   ]
  },
  {
   "cell_type": "code",
   "execution_count": 51,
   "metadata": {},
   "outputs": [
    {
     "data": {
      "image/png": "[encoded data removed]",
      "text/plain": [
       "<Figure size 600x600 with 1 Axes>"
      ]
     },
     "metadata": {},
     "output_type": "display_data"
    }
   ],
   "source": [
    "figure = plt.figure(figsize=(6, 6))\n",
    "\n",
    "ax = figure.add_subplot()\n",
    "plt.show(ax.imshow(x_pooled.representations[0].detach().unsqueeze(dim=0)))"
   ]
  },
  {
   "cell_type": "code",
   "execution_count": 29,
   "metadata": {},
   "outputs": [],
   "source": [
    "from src.models.components.pooling.agg_pooling import ConvPooling"
   ]
  },
  {
   "cell_type": "code",
   "execution_count": 97,
   "metadata": {},
   "outputs": [],
   "source": [
    "class PoolingType(nn.Module):\n",
    "    num_poolings: int = None\n",
    "\n",
    "    def __init__(self):\n",
    "        super(PoolingType, self).__init__()\n",
    "\n",
    "def first_pooling(hidden_state: torch.Tensor, dim: int = 1):\n",
    "    assert len(hidden_state.size()) == 3, \\\n",
    "        \"hidden state size should be (batch_size x num_seq x seq_len)\"\n",
    "\n",
    "    return hidden_state[:, 0, :] if dim == 1 else hidden_state[:, :, 0]\n",
    "\n",
    "\n",
    "def last_pooling(hidden_state: torch.Tensor, lengths: torch.Tensor, dim: int = 1):\n",
    "    assert len(hidden_state.size()) == 3, \\\n",
    "        \"hidden state size should be (batch_size x num_seq x seq_len)\"\n",
    "    \n",
    "    if dim == 1:\n",
    "        hidden_state = hidden_state[torch.arange(hidden_state.size(0)), lengths - 1, :] # (N, L, B)\n",
    "    elif dim == 2:\n",
    "        hidden_state = hidden_state[torch.arange(hidden_state.size(0)), :, lengths - 1] # (N, B, L)\n",
    "    else:\n",
    "        raise NotImplementedError(\"dim is not valid, select dim from the <[1, 2]>\")\n",
    "\n",
    "    return hidden_state\n",
    "\n",
    "\n",
    "def avg_pooling(hidden_state: torch.Tensor, lengths: torch.Tensor, dim: int = 1):\n",
    "    assert len(hidden_state.size()) == 3, \\\n",
    "        \"hidden state size should be (batch_size x num_seq x seq_len) or (num_seq x seq_len)\"\n",
    "\n",
    "    return torch.mean(hidden_state, dim=dim)\n",
    "\n",
    "\n",
    "class FirstLastAvgPoolings(PoolingType):\n",
    "    def __init__(self, dim: int = 1):\n",
    "        super(FirstLastAvgPoolings, self).__init__()\n",
    "\n",
    "        self.dim = dim\n",
    "\n",
    "        self.num_poolings = 3\n",
    "\n",
    "    def forward(self, hidden_state: torch.Tensor):\n",
    "        pooled_results = [\n",
    "            first_pooling(hidden_state, self.dim),\n",
    "            last_pooling(hidden_state, self.dim),\n",
    "            avg_pooling(hidden_state, self.dim)\n",
    "        ]\n",
    "        hidden_state_pooled = torch.concatenate(pooled_results, dim=self.dim)\n",
    "\n",
    "        return hidden_state_pooled\n",
    "    \n",
    "\n",
    "POOLING_MAPPING = {\n",
    "    \"first_last_avg\": FirstLastAvgPoolings\n",
    "}\n",
    "\n",
    "\n",
    "class Pooling(nn.Module):\n",
    "    def __init__(\n",
    "            self, \n",
    "            emb_dim: int,\n",
    "            pooling_type: str = \"all\", \n",
    "            use_batch_norm: bool = True,\n",
    "            dim: int = 1\n",
    "        ) -> None:\n",
    "        super(Pooling, self).__init__()\n",
    "\n",
    "        self.dim = dim\n",
    "\n",
    "        pooling_types = list(POOLING_MAPPING.keys())\n",
    "        assert pooling_type in pooling_types, \\\n",
    "            f\"You should specify pooling type from {pooling_types}, not {pooling_type}\"\n",
    "        \n",
    "        self.pooling_layer = POOLING_MAPPING[pooling_type](dim=dim)\n",
    "\n",
    "        input_size = self.pooling_layer.num_poolings * emb_dim\n",
    "\n",
    "        self.agg_layer = nn.Linear(input_size, emb_dim)\n",
    "\n",
    "        self.batch_norm = nn.BatchNorm1d(emb_dim) if use_batch_norm else nn.Identity()\n",
    "        \n",
    "    def forward(self, hidden_state: SingleForwardState) -> ModelOutput:\n",
    "        x = self.pooling_layer(hidden_state.sequences)\n",
    "        x = self.batch_norm(self.agg_layer(x))\n",
    "\n",
    "        return ModelOutput(\n",
    "            representations=x,\n",
    "            logits=None\n",
    "        )"
   ]
  },
  {
   "cell_type": "code",
   "execution_count": 98,
   "metadata": {},
   "outputs": [],
   "source": [
    "x_pooled_ = Pooling(emb_dim=32, pooling_type=\"first_last_avg\", use_batch_norm=False, dim=1)"
   ]
  },
  {
   "cell_type": "code",
   "execution_count": 99,
   "metadata": {},
   "outputs": [
    {
     "data": {
      "text/plain": [
       "Pooling(\n",
       "  (pooling_layer): FirstLastAvgPoolings()\n",
       "  (agg_layer): Linear(in_features=96, out_features=32, bias=True)\n",
       "  (batch_norm): Identity()\n",
       ")"
      ]
     },
     "metadata": {},
     "output_type": "display_data"
    }
   ],
   "source": [
    "d(x_pooled_)"
   ]
  },
  {
   "cell_type": "code",
   "execution_count": 100,
   "metadata": {},
   "outputs": [],
   "source": [
    "x_pooled = x_pooled_(x_gru)"
   ]
  },
  {
   "cell_type": "code",
   "execution_count": 101,
   "metadata": {},
   "outputs": [
    {
     "data": {
      "text/plain": [
       "torch.Size([32, 32])"
      ]
     },
     "metadata": {},
     "output_type": "display_data"
    }
   ],
   "source": [
    "d(x_pooled.representations.size())"
   ]
  },
  {
   "cell_type": "code",
   "execution_count": 102,
   "metadata": {},
   "outputs": [
    {
     "data": {
      "text/plain": [
       "<matplotlib.image.AxesImage at 0x7f63a2eb4790>"
      ]
     },
     "execution_count": 102,
     "metadata": {},
     "output_type": "execute_result"
    },
    {
     "data": {
      "image/png": "[encoded data removed]",
      "text/plain": [
       "<Figure size 640x480 with 1 Axes>"
      ]
     },
     "metadata": {},
     "output_type": "display_data"
    }
   ],
   "source": [
    "plt.imshow(x_pooled.representations[0].detach().unsqueeze(dim=0))"
   ]
  },
  {
   "cell_type": "code",
   "execution_count": 12,
   "metadata": {},
   "outputs": [],
   "source": [
    "from src.data.components.collate import ModelOutput\n",
    "from typing import List, Tuple"
   ]
  },
  {
   "cell_type": "code",
   "execution_count": 13,
   "metadata": {},
   "outputs": [],
   "source": [
    "ACTIVATION_TYPE_MAPPING = {\n",
    "    \"tanh\": nn.Tanh,\n",
    "    \"gelu\": nn.GELU,\n",
    "    \"relu\": nn.ReLU,\n",
    "    \"none\": nn.Identity\n",
    "}\n",
    "\n",
    "def init_linear_block_weights(layer):\n",
    "    if isinstance(layer, nn.Linear):\n",
    "        nn.init.xavier_uniform_(layer.weight, gain=nn.init.calculate_gain('relu'))\n",
    "        nn.init.zeros_(layer.bias)\n",
    "\n",
    "class LinearBlock(nn.Module):\n",
    "    def __init__(\n",
    "            self, \n",
    "            in_features: int, \n",
    "            out_features: int = 1, \n",
    "            num_layers: int = 3, \n",
    "            dropout_rate: float = 0.0, \n",
    "            activation_type: str = \"tanh\",\n",
    "            use_batch_norm: bool = False,\n",
    "            bias: bool = True\n",
    "        ) -> None:\n",
    "        super(LinearBlock, self).__init__()\n",
    "\n",
    "        self.in_features = in_features\n",
    "\n",
    "        self.dropout = nn.Dropout(p=dropout_rate)\n",
    "\n",
    "        if activation_type is None:\n",
    "            self.act = ACTIVATION_TYPE_MAPPING[\"tanh\"]\n",
    "        elif activation_type in ACTIVATION_TYPE_MAPPING.keys():\n",
    "            self.act = ACTIVATION_TYPE_MAPPING[activation_type]\n",
    "        else: \n",
    "            NotImplementedError(f\"activation_type must be in <{list(ACTIVATION_TYPE_MAPPING.keys())}>\")\n",
    "\n",
    "        if use_batch_norm:\n",
    "            self.layer_norm = nn.BatchNorm1d\n",
    "        else:\n",
    "            self.layer_norm = nn.LayerNorm\n",
    "\n",
    "        self.linear_block = nn.Sequential(\n",
    "            *[\n",
    "                nn.Sequential(\n",
    "                    *[\n",
    "                        nn.Linear(in_features // (2 ** i), in_features // (2 ** (i + 1)), bias),\n",
    "                        self.layer_norm(in_features // (2 ** (i + 1))),\n",
    "                        self.act()\n",
    "                    ]\n",
    "                ) for i in range(num_layers)\n",
    "            ]\n",
    "        )\n",
    "        \n",
    "\n",
    "        self.out_block = nn.Linear(\n",
    "            in_features=in_features // (2 ** num_layers), out_features=out_features\n",
    "        )\n",
    "\n",
    "        self.cls_layers = nn.Sequential(\n",
    "            self.dropout,\n",
    "            self.linear_block,\n",
    "            self.out_block,\n",
    "            self.act()\n",
    "        )\n",
    "\n",
    "        # weights init\n",
    "        self.cls_layers.apply(init_linear_block_weights)\n",
    "\n",
    "\n",
    "    def forward(self, x: ModelOutput) -> ModelOutput:\n",
    "        logits = self.cls_layers(x.representations)\n",
    "\n",
    "        return ModelOutput(\n",
    "            representations=x.representations,\n",
    "            logits=logits\n",
    "        )\n",
    "\n",
    "\n",
    "class MultiTaskLinearBlock(nn.Module):\n",
    "    def __init__(\n",
    "            self,\n",
    "            heads: List[LinearBlock]\n",
    "    ) -> None: \n",
    "        super(MultiTaskLinearBlock, self).__init__()\n",
    "\n",
    "        self.heads = nn.ModuleList(heads)\n",
    "\n",
    "    def forward(self, x: ModelOutput) -> ModelOutput:\n",
    "        multi_state = [\n",
    "            head(x).logits for head in self.heads\n",
    "        ]\n",
    "\n",
    "        logits = torch.concat(multi_state, dim=1) # size(batch_size, num_outputs)\n",
    "        \n",
    "        return ModelOutput(\n",
    "            representations=x.representations,\n",
    "            logits=logits\n",
    "        )"
   ]
  },
  {
   "cell_type": "code",
   "execution_count": 48,
   "metadata": {},
   "outputs": [],
   "source": [
    "x_out = MultiTaskLinearBlock(\n",
    "    heads=[\n",
    "        LinearBlock(32, 1, 2)\n",
    "    ]\n",
    ")(x_pooled)"
   ]
  },
  {
   "cell_type": "code",
   "execution_count": 49,
   "metadata": {},
   "outputs": [
    {
     "data": {
      "text/plain": [
       "ModelOutput(representations=tensor([[-0.0807, -0.0925,  0.0185,  ...,  0.0862,  0.0276, -0.0489],\n",
       "        [-0.0164, -0.0240,  0.0047,  ...,  0.0191,  0.0072, -0.0139],\n",
       "        [-0.0550, -0.0686,  0.0153,  ...,  0.0614,  0.0193, -0.0378],\n",
       "        ...,\n",
       "        [-0.0029, -0.0036,  0.0004,  ...,  0.0021,  0.0021, -0.0017],\n",
       "        [-0.1101, -0.1254,  0.0267,  ...,  0.1202,  0.0347, -0.0692],\n",
       "        [-0.0092, -0.0124, -0.0006,  ...,  0.0077,  0.0030, -0.0051]],\n",
       "       grad_fn=<SqueezeBackward1>), logits=tensor([[-0.3835],\n",
       "        [-0.4595],\n",
       "        [-0.3846],\n",
       "        [-0.5128],\n",
       "        [-0.4077],\n",
       "        [-0.4268],\n",
       "        [-0.4213],\n",
       "        [-0.6295],\n",
       "        [-0.4995],\n",
       "        [-0.0691],\n",
       "        [-0.4164],\n",
       "        [-0.4121],\n",
       "        [-0.3576],\n",
       "        [-0.3559],\n",
       "        [-0.3748],\n",
       "        [-0.3683],\n",
       "        [-0.3324],\n",
       "        [-0.3280],\n",
       "        [-0.3166],\n",
       "        [-0.3467],\n",
       "        [-0.4153],\n",
       "        [-0.5702],\n",
       "        [-0.4393],\n",
       "        [-0.3760],\n",
       "        [-0.3955],\n",
       "        [-0.4136],\n",
       "        [-0.3758],\n",
       "        [-0.4318],\n",
       "        [-0.3609],\n",
       "        [-0.2603],\n",
       "        [-0.3825],\n",
       "        [-0.5049]], grad_fn=<CatBackward0>))"
      ]
     },
     "metadata": {},
     "output_type": "display_data"
    }
   ],
   "source": [
    "d(x_out)"
   ]
  },
  {
   "cell_type": "code",
   "execution_count": 14,
   "metadata": {},
   "outputs": [],
   "source": [
    "import time\n",
    "import pandas as pd"
   ]
  },
  {
   "cell_type": "code",
   "execution_count": 15,
   "metadata": {},
   "outputs": [
    {
     "name": "stderr",
     "output_type": "stream",
     "text": [
      "The installed version of bitsandbytes was compiled without GPU support. 8-bit optimizers, 8-bit multiplication, and GPU quantization are unavailable.\n"
     ]
    }
   ],
   "source": [
    "import bitsandbytes as bnb"
   ]
  },
  {
   "cell_type": "code",
   "execution_count": 16,
   "metadata": {},
   "outputs": [],
   "source": [
    "from src.utils.metrics import GINI"
   ]
  },
  {
   "cell_type": "code",
   "execution_count": 17,
   "metadata": {},
   "outputs": [],
   "source": [
    "class Trainer:\n",
    "    def __init__(\n",
    "            self, \n",
    "            model: nn.Module, \n",
    "            optimizer: torch.optim.Optimizer, \n",
    "            criterion: nn.BCEWithLogitsLoss,\n",
    "            train_dataloader: torch.utils.data.DataLoader, \n",
    "            scheduler: torch.optim.lr_scheduler.LRScheduler = None\n",
    "        ) -> None:\n",
    "\n",
    "        self.model = model\n",
    "    \n",
    "        self.criterion = criterion\n",
    "        \n",
    "        self.task_names = [\"tanh_output\"]\n",
    "        self.task_weights = torch.tensor([1.0])\n",
    "\n",
    "        self.train_data = train_dataloader\n",
    "\n",
    "        self.optimizer = optimizer\n",
    "        self.scheduler = scheduler\n",
    "\n",
    "        self.gini = GINI()\n",
    "\n",
    "        self.train_results = list()\n",
    "\n",
    "    def multioutput_loss(self, logits: ModelOutput, targets: torch.Tensor) -> Tuple[torch.Tensor, torch.Tensor]:\n",
    "        # logits size is (batch_size, num_outputs)\n",
    "        # targets size is (batch_size, 1)\n",
    "\n",
    "        targets = targets.expand(size=(-1, len(self.task_names))) # to size like logits\n",
    "\n",
    "        weighted_loss = self.task_weights * self.criterion(logits, targets)\n",
    "        \n",
    "        # (self.task_weights * self.criterion(logits, targets)).sum() / len(self.task_names)\n",
    "        loss = weighted_loss.sum() / (len(weighted_loss) * len(self.task_names))\n",
    "        branched_loss = (weighted_loss.sum(dim=0) / len(weighted_loss)).detach()\n",
    "\n",
    "        return loss, branched_loss\n",
    "\n",
    "    def fit(self, epochs: int = 3, show_step: int = 100):\n",
    "        n_total_steps = len(self.train_data)\n",
    "\n",
    "        loss_step = 0\n",
    "        gini_step = 0\n",
    "\n",
    "        for epoch in range(epochs):\n",
    "            epoch_start_time = time.time()\n",
    "\n",
    "            self.epoch = epoch\n",
    "            \n",
    "            print('Epoch %s/%s' % (epoch + 1, epochs))\n",
    "\n",
    "            for step, batch in enumerate(self.train_data):\n",
    "                self.optimizer.zero_grad(set_to_none=True)\n",
    "\n",
    "                x = ModelInput(\n",
    "                    numerical=batch.numerical,\n",
    "                    categorical=batch.categorical,\n",
    "                    lengths=batch.lengths\n",
    "                )\n",
    "\n",
    "                labels = batch.targets\n",
    "\n",
    "                outputs = self.model(x)\n",
    "        \n",
    "                loss, _ = self.multioutput_loss(\n",
    "                    logits=outputs.logits,\n",
    "                    targets=labels\n",
    "                )\n",
    "\n",
    "                loss.backward()\n",
    "                self.optimizer.step()\n",
    "\n",
    "                loss_step += loss.item()\n",
    "                gini_step += self.gini(outputs.logits[:, 0], labels.squeeze())\n",
    "\n",
    "                self.train_results.append(\n",
    "                    [\n",
    "                        self.epoch * n_total_steps + step, \n",
    "                        loss.item()\n",
    "\n",
    "                    ]\n",
    "                )\n",
    "\n",
    "                if (step + 1) % show_step == 0:\n",
    "                    print(\n",
    "                        f\"Step [{step+1}/{n_total_steps}] | Time: {time.time() - epoch_start_time:.2f}s | Loss: {loss_step / show_step:.4f} | GINI: {gini_step / show_step:.1f}\"\n",
    "                    )\n",
    "                    gini_step = 0\n",
    "                    loss_step = 0\n",
    "\n",
    "        self.train_writer = pd.DataFrame(self.train_results, columns=[\"step\", \"loss\"])\n",
    "\n",
    "        print('\\nDone.')\n",
    "\n",
    "\n",
    "    def __repr__(self):\n",
    "        return f'''[INFO]\\n{\"-\" * 60}\\ndata: {self.data} \\n{\"-\" * 60} \\nmodel: {self.model} \\n{\"-\" * 60} \\noptimizer: {self.optimizer} \\n{\"-\" * 60}'''"
   ]
  },
  {
   "cell_type": "code",
   "execution_count": 18,
   "metadata": {},
   "outputs": [],
   "source": [
    "model = nn.Sequential(\n",
    "    EncoderLayer(\n",
    "        numerical_features=features_dict[\"numerical\"],\n",
    "        categorical_features=features_dict[\"categorical\"],\n",
    "        embedding_dim=32,\n",
    "        dropout_inputs=0.1\n",
    "    ),\n",
    "    SimpleAttention1d(\n",
    "        features_dim=32\n",
    "    ),\n",
    "    GRUSeqToSeq(\n",
    "        hidden_size=32,\n",
    "        num_layers_gru=1\n",
    "    ),\n",
    "    ConvPooling(\n",
    "        pooling_type=\"avg\", dim=1\n",
    "    ),\n",
    "    MultiTaskLinearBlock(\n",
    "        heads=[\n",
    "            LinearBlock(32, 1, 2)\n",
    "        ]\n",
    "    )\n",
    ")"
   ]
  },
  {
   "cell_type": "code",
   "execution_count": 19,
   "metadata": {},
   "outputs": [],
   "source": [
    "opt = bnb.optim.Adam8bit(model.parameters(), lr=1e-3, weight_decay=1e-5)\n",
    "# scheduler = torch.optim.lr_scheduler.ExponentialLR(opt, gamma=0.99)\n",
    "\n",
    "train_model = Trainer(\n",
    "    model=model, \n",
    "    criterion=nn.BCEWithLogitsLoss(\n",
    "        reduction=\"none\"\n",
    "    ),\n",
    "    train_dataloader=dataloader, \n",
    "    optimizer=opt\n",
    ")"
   ]
  },
  {
   "cell_type": "code",
   "execution_count": null,
   "metadata": {},
   "outputs": [],
   "source": [
    "train_model.fit(epochs=3, show_step=30)"
   ]
  },
  {
   "cell_type": "code",
   "execution_count": 109,
   "metadata": {},
   "outputs": [],
   "source": [
    "test_sample = next(iter(test_dataloader))"
   ]
  },
  {
   "cell_type": "code",
   "execution_count": 168,
   "metadata": {},
   "outputs": [],
   "source": [
    "preds = model(test_sample).logits"
   ]
  },
  {
   "cell_type": "code",
   "execution_count": 169,
   "metadata": {},
   "outputs": [
    {
     "data": {
      "text/plain": [
       "tensor(44.4487)"
      ]
     },
     "metadata": {},
     "output_type": "display_data"
    }
   ],
   "source": [
    "d(GINI()(preds, test_sample.targets))"
   ]
  },
  {
   "cell_type": "code",
   "execution_count": null,
   "metadata": {},
   "outputs": [],
   "source": [
    "# 1 - 40.82 ~ lr 1e-4\n",
    "# 2 - 44.80 ~ lr 1e-2"
   ]
  },
  {
   "cell_type": "code",
   "execution_count": 118,
   "metadata": {},
   "outputs": [],
   "source": [
    "sorted_preds = torch.concatenate((torch.sigmoid(preds), test_sample.targets), dim=1).sort(dim=0).values.detach()"
   ]
  },
  {
   "cell_type": "code",
   "execution_count": 123,
   "metadata": {},
   "outputs": [],
   "source": [
    "from sklearn.metrics import roc_curve"
   ]
  },
  {
   "cell_type": "code",
   "execution_count": 126,
   "metadata": {},
   "outputs": [],
   "source": [
    "fpr, tpr, _ = roc_curve(test_sample.targets, torch.sigmoid(preds).detach())"
   ]
  },
  {
   "cell_type": "code",
   "execution_count": 131,
   "metadata": {},
   "outputs": [
    {
     "data": {
      "image/png": "[encoded data removed]",
      "text/plain": [
       "<Figure size 640x480 with 1 Axes>"
      ]
     },
     "metadata": {},
     "output_type": "display_data"
    }
   ],
   "source": [
    "plt.plot(fpr, tpr, label=np.trapz(fpr, tpr))\n",
    "plt.legend(loc=2)\n",
    "plt.show()"
   ]
  },
  {
   "cell_type": "code",
   "execution_count": 67,
   "metadata": {},
   "outputs": [],
   "source": []
  },
  {
   "cell_type": "markdown",
   "metadata": {},
   "source": [
    "# Pretrained model"
   ]
  },
  {
   "cell_type": "code",
   "execution_count": 32,
   "metadata": {},
   "outputs": [],
   "source": [
    "import torch\n",
    "from torch import nn"
   ]
  },
  {
   "cell_type": "code",
   "execution_count": 33,
   "metadata": {},
   "outputs": [],
   "source": [
    "from src.models.ch_lit_module import CHLitModule\n",
    "from IPython.display import display as d"
   ]
  },
  {
   "cell_type": "code",
   "execution_count": 35,
   "metadata": {},
   "outputs": [],
   "source": [
    "class PretrainedModel(nn.Module):\n",
    "    def __init__(self, ckpt_path: str):\n",
    "        super().__init__()\n",
    "        \n",
    "        self.net = CHLitModule.load_from_checkpoint(ckpt_path, strict=False)\n",
    "        self.net.eval()\n",
    "        self.net.freeze()\n",
    "\n",
    "    def forward(self, inputs):\n",
    "        return self.net(inputs)"
   ]
  },
  {
   "cell_type": "code",
   "execution_count": 36,
   "metadata": {},
   "outputs": [
    {
     "name": "stderr",
     "output_type": "stream",
     "text": [
      "/home/danil/projects/LHT_credits_history/.venv/lib/python3.11/site-packages/lightning/pytorch/utilities/parsing.py:199: Attribute 'net' is an instance of `nn.Module` and is already saved during checkpointing. It is recommended to ignore them using `self.save_hyperparameters(ignore=['net'])`.\n"
     ]
    }
   ],
   "source": [
    "trained_model = PretrainedModel(\"logs/train/runs/2024-05-31_22-09-09/checkpoints/epoch_004.ckpt\")"
   ]
  },
  {
   "cell_type": "code",
   "execution_count": 37,
   "metadata": {},
   "outputs": [
    {
     "data": {
      "text/plain": [
       "{'net.layers.0.embeddings.embeddings.0.weight': Parameter containing:\n",
       " tensor([[ 0.0197,  0.2683,  0.4016,  0.5582, -0.0171,  0.6085, -0.0866,  0.2796,\n",
       "           0.0057, -0.5869, -0.0999, -0.1531, -0.4706, -0.1798, -0.0092, -0.4939],\n",
       "         [ 0.0668,  0.1272, -0.2679, -0.0514, -0.0469, -0.2581,  0.2347, -0.2060,\n",
       "           0.4216, -0.0268,  0.1113, -0.2695,  0.4489, -0.2100,  0.0434, -0.0974],\n",
       "         [ 0.0340, -0.3196, -0.2078, -0.5003,  0.1283, -0.5217,  0.0745,  0.0812,\n",
       "           0.1875, -0.5795,  0.1276, -0.6134, -0.5030,  0.2180,  0.0698,  0.7852],\n",
       "         [ 0.5075, -0.0842, -0.1455, -0.5304, -0.3555, -0.4148, -0.1637,  0.3445,\n",
       "           0.4151,  0.4096, -0.1276,  0.0018,  0.4474,  0.4780,  0.4084, -0.3658],\n",
       "         [ 0.2444,  0.5850,  0.1382, -0.2082,  0.1010,  0.4734, -0.2528,  0.5090,\n",
       "           0.1831, -0.0027, -0.0648, -0.4699, -0.0568,  0.0879,  0.0895,  0.3063],\n",
       "         [ 0.6197, -0.4013, -0.4065, -0.1706,  0.4921,  0.2532, -0.1955, -0.7981,\n",
       "           0.0808,  0.1097,  0.3557,  0.2260, -0.0407,  0.6630,  0.0047, -0.1668],\n",
       "         [ 0.4876, -0.2004, -0.0615, -0.7930, -0.1500,  0.2036, -0.0841, -0.4509,\n",
       "           0.1478,  0.2205,  0.6182, -0.2855,  0.1390, -0.1562, -0.1076, -0.3711],\n",
       "         [-0.5014,  0.2979,  0.1388,  0.0738,  0.4660, -0.1572, -0.6742, -0.1355,\n",
       "           0.2841,  0.1796, -0.4214,  0.2474, -0.1618, -0.2039,  0.1357,  0.2426],\n",
       "         [ 0.3321, -0.1919,  0.4423,  0.0047,  0.0736,  0.1927, -0.5115,  0.4264,\n",
       "          -0.0657,  0.0564, -0.2667,  0.0343,  0.1897,  0.1548,  0.0050,  0.0974],\n",
       "         [ 0.6074,  0.1711, -0.4871, -0.2514,  0.3633, -0.0740, -0.4937,  0.7429,\n",
       "           0.0550,  0.0635,  0.1465, -0.0106, -0.0545, -0.3109,  0.0380,  0.3704],\n",
       "         [ 0.2000, -0.1392, -0.4081,  0.1584,  0.0875, -0.4937,  0.0456,  0.1157,\n",
       "           0.4537,  0.2594,  0.0260, -0.2582, -0.3728,  0.2044,  0.7510, -0.0715],\n",
       "         [ 0.1782,  0.0936, -0.0926, -0.5114, -0.0443, -0.3445, -0.0830, -0.1156,\n",
       "          -0.2319, -0.2185, -0.4773,  0.2044, -0.4637, -0.1311,  0.2255,  0.2965],\n",
       "         [-0.6077,  0.5361, -0.1372, -0.0121,  0.3457, -0.1447, -0.0172,  0.2258,\n",
       "          -0.0330,  0.0196,  0.7282,  0.7017,  0.6025, -0.2128, -0.1660,  0.5969],\n",
       "         [ 0.0509,  0.3037,  0.1714, -0.4353, -0.5288,  0.3411, -0.3871, -0.3093,\n",
       "           0.1805,  0.4455, -0.5611,  0.1663, -0.0938,  0.1819,  0.0088, -0.0381],\n",
       "         [-0.1598, -0.1033, -0.1247, -0.0510, -0.6758, -0.1274, -0.2745, -0.1030,\n",
       "          -0.1587, -0.0141,  0.0196,  0.0432,  0.0406,  0.1835, -0.0909, -0.5231],\n",
       "         [ 0.1493, -0.6626,  0.2896, -0.1626, -0.2875, -0.1329, -0.4031, -0.1426,\n",
       "          -0.2127, -0.0303, -0.3382,  0.2435,  0.4303, -0.4363, -0.1702, -0.2839],\n",
       "         [-0.2729, -0.2374, -0.2402, -0.1652,  0.0471, -0.0651,  0.3634,  0.4553,\n",
       "          -0.0234,  0.2216, -0.7984, -0.1419, -0.4962, -0.0789,  0.3293,  0.4471],\n",
       "         [ 0.2700,  0.0910, -0.5406, -0.5189, -0.2642,  0.2078, -0.5905, -0.2582,\n",
       "          -0.5240,  0.3022,  0.2600, -0.3020,  0.0221, -0.0587,  0.1677, -0.2528],\n",
       "         [-0.3737,  0.0122,  0.0275,  0.3312,  0.2737,  0.2529, -0.3888, -0.0258,\n",
       "           0.5429, -0.0454,  0.4171, -0.5005, -0.0866, -0.3152, -0.4114,  0.4205],\n",
       "         [-0.5168,  0.0956, -0.1203,  0.3211,  0.2868, -0.2383,  0.2010, -0.2386,\n",
       "          -0.5394,  0.3450, -0.0659, -0.4367, -0.2875, -0.6518, -0.2687,  0.3757]]),\n",
       " 'net.layers.0.embeddings.embeddings.1.weight': Parameter containing:\n",
       " tensor([[-0.1507,  0.1640, -0.7372, -0.4239, -0.1796, -0.1170,  0.7251,  0.0596,\n",
       "           0.3608,  0.1684,  0.4481, -0.4560, -0.4729, -0.1737, -0.5974,  0.8273],\n",
       "         [-0.0812,  0.0070, -0.1519,  0.3546,  0.0147, -0.1802, -0.2192,  0.6243,\n",
       "          -0.0089,  0.0796,  0.0061, -0.6055,  0.3329,  0.3626, -0.7713,  0.2289],\n",
       "         [-0.2114,  0.0533, -0.1629, -0.0897, -0.1982,  0.0756, -0.0460,  0.2398,\n",
       "          -0.1899, -0.4190, -0.1711, -0.0787,  0.2915,  0.5561,  0.0724,  0.5853],\n",
       "         [ 0.3499, -0.3073, -0.2923, -0.4067,  0.3708,  0.0530,  0.1318, -0.1588,\n",
       "          -0.1510,  0.2457, -0.2028,  0.2944,  0.0072,  0.1109, -0.1969,  0.3495],\n",
       "         [ 0.4379, -0.0828, -0.5828,  0.1808,  0.1572,  0.5420,  0.0180, -0.1629,\n",
       "           0.0260,  0.6365, -0.3091, -0.1861, -0.1405, -0.2001, -0.1385, -0.4178],\n",
       "         [ 0.1452, -0.0960,  0.2382,  0.2528,  0.0880, -0.2046, -0.2181,  0.3518,\n",
       "           0.1884, -0.1674,  0.2260, -0.0485, -0.0324,  0.0837,  0.1637, -0.7628],\n",
       "         [-0.1762, -0.4292, -0.0594, -0.2868,  0.1890,  0.0414, -0.2967, -0.0891,\n",
       "          -0.1512, -0.3095,  0.1642,  0.0433, -0.6079,  0.1342, -0.2070, -0.1496],\n",
       "         [ 0.2296,  0.1980,  0.0433,  0.0168, -0.1164,  0.4158,  0.0777,  0.0702,\n",
       "           0.3950, -0.0733,  0.0540,  0.1564,  0.3542,  0.2537, -0.1296,  0.1736],\n",
       "         [-0.1338,  0.1958,  0.2370,  0.1304,  0.3512,  0.3408,  0.7552, -0.1595,\n",
       "          -0.1726, -0.5533, -0.0832, -0.2843, -0.2263, -0.3593,  0.4289,  0.2305],\n",
       "         [-0.2692,  0.9462,  0.5995, -0.0355, -0.3395, -0.4645,  0.1641, -0.5614,\n",
       "          -0.0087,  0.0571, -0.2255,  0.0247, -0.0124,  0.2151, -0.1438,  0.0655],\n",
       "         [ 0.1236, -0.0252,  0.2225,  0.0240, -0.1978,  0.0517,  0.3285, -0.0145,\n",
       "           0.9447,  0.3373, -0.2964, -0.4620, -0.0449, -0.4001,  0.3512,  0.0516],\n",
       "         [-0.2674, -0.0469, -0.0778, -0.2106, -0.9453,  0.2060, -0.3940, -0.1223,\n",
       "          -0.2922,  0.5742,  0.6691, -0.6852,  0.6340, -0.0440, -0.0568,  0.3740],\n",
       "         [-0.1289, -0.0895,  0.0039, -0.0389,  0.5379,  0.1645, -0.3062,  0.4279,\n",
       "          -0.5470,  0.2544, -0.0898, -0.3855, -0.4741, -0.0428,  0.3017,  0.2230],\n",
       "         [ 0.2303, -0.2704, -0.4292,  0.2113, -0.4280, -0.3634,  0.2117, -0.1979,\n",
       "          -0.1358,  0.4002,  0.2896, -0.2406,  0.2440, -0.3192, -0.0746,  0.4995],\n",
       "         [-0.1897,  0.1816, -0.1678, -0.2687, -0.1202,  0.0739, -0.1165,  0.2566,\n",
       "           0.5415,  0.1192,  0.0172,  0.7028, -0.3124,  0.0845,  0.1598,  0.4179],\n",
       "         [-0.4399,  0.1455, -0.5319,  0.3470,  0.5310,  0.4076, -0.2440, -0.2269,\n",
       "          -0.1842,  0.5186, -0.0038,  0.1130, -0.3500,  0.1170, -0.0830,  0.9503],\n",
       "         [ 0.0223,  0.0443, -0.2184, -0.6230, -0.0168,  0.2104, -0.2056,  0.2573,\n",
       "          -0.0234, -0.2249, -0.1335, -0.1105,  0.2027,  0.2157, -0.2210, -0.0666],\n",
       "         [-0.2541, -0.4482,  0.3467, -0.2874, -0.6998,  0.1075, -0.3755,  0.4153,\n",
       "           0.1051,  0.5352, -0.2552, -0.2196, -0.1474, -0.4233,  0.1162,  0.3948],\n",
       "         [ 0.4364, -0.5048, -0.2946, -0.0289,  0.3440, -0.6607, -0.0921,  0.0215,\n",
       "          -0.0147,  0.0397, -0.4649, -0.5937, -0.4756, -0.5067, -0.4033, -0.1936],\n",
       "         [-0.1844,  0.0071,  0.0477, -0.3019,  0.1487, -0.2404, -0.0939,  0.5689,\n",
       "           0.7986, -0.0264,  0.1030, -0.1861,  0.0236, -0.4391,  0.0962, -0.0772]]),\n",
       " 'net.layers.0.embeddings.embeddings.2.weight': Parameter containing:\n",
       " tensor([[-0.1866,  0.1932, -0.7993, -0.0211, -0.7893,  0.3835, -0.5762,  0.1034,\n",
       "          -0.3176, -0.6732,  0.2916, -0.0411, -0.3614,  0.0448, -0.3172,  0.2662],\n",
       "         [-0.2366,  0.3411,  0.1808, -0.4509,  0.8328, -0.0264, -0.4936,  0.4696,\n",
       "          -0.1401, -0.2108,  0.5024,  0.3051, -0.4198, -0.1411,  0.8251, -0.1120],\n",
       "         [-0.0991, -0.3723, -0.9492,  0.0563,  0.0553,  0.0147, -0.1047, -0.2293,\n",
       "           0.6001, -0.6834,  0.1720,  0.6219, -0.2072, -0.4879,  0.2260, -0.7577],\n",
       "         [ 0.6669,  0.2547, -0.7131, -0.0932,  0.3459, -0.4349,  0.2916, -0.2160,\n",
       "           0.4184,  0.0696, -0.1209, -0.7306,  0.7760,  0.3989,  0.1189,  0.2677],\n",
       "         [ 0.2633,  0.3900, -0.4760, -0.2382,  0.1071,  0.0876, -0.1433, -0.4789,\n",
       "           0.0651, -0.4940,  0.8690, -0.3012, -0.3044,  0.9157, -0.7671, -0.3917],\n",
       "         [-0.3453,  1.0793,  0.0701,  0.3211,  0.1567, -0.6912,  0.2126,  0.1910,\n",
       "           0.4837, -0.7106, -0.7549, -0.3131,  0.1973, -0.1134,  0.1521, -0.1265],\n",
       "         [ 0.7867, -0.3678, -0.2073,  0.0913,  0.0998, -0.5171, -0.4509, -0.8209,\n",
       "           0.2654, -0.4216, -0.1849, -0.0629, -0.0998, -0.1616, -0.4608, -0.2002]]),\n",
       " 'net.layers.0.embeddings.embeddings.3.weight': Parameter containing:\n",
       " tensor([[-0.1111, -0.0225, -0.3842, -0.3323,  0.2513,  0.4034,  0.2497, -0.2928,\n",
       "          -0.0567, -0.7669, -0.8814,  0.4553,  0.6186,  0.1084, -0.3336,  0.3163],\n",
       "         [-0.1312, -0.2228, -0.2077,  0.5009, -0.0617, -0.9005, -0.3203,  0.9449,\n",
       "           0.3489,  0.0929,  0.0956,  0.3143,  0.5430, -0.5490,  0.0693,  0.4274],\n",
       "         [-0.0607, -0.4637, -0.0802,  0.0210, -0.5940,  0.5693, -0.3297, -0.0949,\n",
       "          -0.4891, -0.0472,  0.2378, -0.2772,  0.2082,  0.1917,  0.4967, -0.1962],\n",
       "         [ 0.3627,  0.2030,  0.4904, -0.2229,  0.4316, -0.3911,  0.1454, -0.4633,\n",
       "          -0.0595,  0.0336, -0.0835, -0.1362,  0.0673, -0.1370, -0.8100,  0.6617],\n",
       "         [-0.6623,  1.0027, -0.0179,  0.3352, -0.7122,  0.1117, -0.0300, -0.2746,\n",
       "          -0.3077,  0.0972,  0.0854,  0.6498,  0.1946, -0.1949, -0.3791, -0.0911],\n",
       "         [-0.3900, -0.4643,  0.4070, -0.3847,  0.2137, -0.1427, -0.1294,  0.3603,\n",
       "          -0.2738, -0.5022, -1.0867,  0.3365, -0.7217,  0.2486,  0.3062, -0.6766]]),\n",
       " 'net.layers.0.embeddings.embeddings.4.weight': Parameter containing:\n",
       " tensor([[ 0.1357,  0.3412,  0.0845, -1.2974,  0.0500, -0.3643,  0.1922, -0.2188,\n",
       "          -0.2194,  0.7111,  0.5709,  0.0889,  0.2807, -0.6391, -0.4003, -0.1134]]),\n",
       " 'net.layers.0.embeddings.embeddings.5.weight': Parameter containing:\n",
       " tensor([[ 0.3343,  0.5752,  0.4138, -0.1347,  1.2196,  0.1086,  0.4362, -0.2114,\n",
       "          -0.9074, -0.3655,  0.9363, -0.1871,  0.1276,  0.5809,  0.4103,  0.1376],\n",
       "         [ 0.2127,  0.4304, -0.1312,  0.3396, -0.2606, -0.8121, -0.1052,  0.5965,\n",
       "           0.8844,  1.0741,  0.5116, -0.6159,  0.2772,  0.2821,  0.4652, -0.0592],\n",
       "         [-0.0025, -0.1147, -0.3972, -0.5171,  0.4511,  1.1535,  0.0811, -0.0683,\n",
       "          -0.0176,  0.3163,  0.2861,  0.0569, -0.3854,  0.1877,  0.0574, -0.5338],\n",
       "         [-0.0129,  0.7681, -0.2873, -0.3322,  0.3485,  0.0683, -0.1358,  0.3675,\n",
       "           0.6017,  0.2544,  0.4867, -0.1514,  0.3192, -0.1862,  0.9641,  0.5165]]),\n",
       " 'net.layers.0.embeddings.embeddings.6.weight': Parameter containing:\n",
       " tensor([[-1.9860e-01,  2.9823e-01, -5.3483e-02,  5.7911e-01,  2.9260e-01,\n",
       "          -4.4961e-01,  9.2808e-01, -5.8987e-01,  5.8251e-01, -1.7111e-01,\n",
       "           4.7276e-02,  9.6729e-02, -3.1636e-01,  3.1805e-01,  3.1940e-02,\n",
       "           4.7947e-01],\n",
       "         [-6.0093e-02,  2.2148e-01,  2.8256e-01,  7.8192e-02, -4.3438e-01,\n",
       "           2.7804e-01,  1.4152e-01, -2.7054e-02,  9.5148e-02,  4.8706e-01,\n",
       "          -2.9880e-01, -2.3024e-02, -5.7046e-02,  3.1459e-01, -5.7729e-01,\n",
       "           1.4958e-01],\n",
       "         [-2.5308e-01,  3.0910e-01, -2.2437e-01, -2.4123e-01, -1.8027e-01,\n",
       "          -1.3437e-01,  5.6399e-01, -3.3508e-02, -1.0231e-01,  4.4610e-01,\n",
       "           7.8688e-02, -1.5340e-01,  4.3304e-01, -2.6635e-01, -6.8843e-02,\n",
       "          -4.3917e-02],\n",
       "         [-6.6112e-01,  4.4419e-01,  1.4712e-03, -1.0212e-01,  8.8296e-01,\n",
       "           5.2977e-01, -2.8102e-01, -4.0605e-01,  3.0236e-01, -4.2454e-02,\n",
       "           2.8652e-01,  4.0312e-01, -3.0880e-01, -7.8089e-01,  8.6329e-02,\n",
       "          -4.8963e-02],\n",
       "         [ 4.6913e-01,  5.4423e-01,  2.5198e-01,  1.1738e-01, -5.5341e-01,\n",
       "          -2.4231e-01, -1.9889e-01, -2.8760e-01, -1.5173e-01,  5.2135e-01,\n",
       "           6.8984e-01,  5.7027e-02,  2.1491e-01, -7.5142e-01,  1.4584e-01,\n",
       "          -1.0957e-02],\n",
       "         [-2.0056e-01,  2.2467e-01, -4.0705e-01, -3.4670e-01, -8.4923e-02,\n",
       "           9.9605e-02,  3.5678e-01,  4.0362e-01, -3.8467e-01,  4.3590e-02,\n",
       "           3.2270e-01, -3.4464e-01,  1.2646e-01, -1.3482e-01, -4.2967e-02,\n",
       "           8.7335e-02],\n",
       "         [-1.3100e-01,  5.4914e-03,  4.8277e-01, -1.4087e-01,  4.1431e-02,\n",
       "           7.0206e-01,  4.2962e-01, -1.0363e-01,  1.7791e-01, -3.9094e-01,\n",
       "          -4.5286e-01,  4.5229e-01,  2.5578e-01,  3.5594e-01,  6.4038e-01,\n",
       "           6.7947e-01],\n",
       "         [-5.1581e-02,  1.8426e-01, -1.3360e-03, -3.6142e-01,  7.4568e-01,\n",
       "           1.6484e-01,  5.8823e-01, -2.6518e-01,  1.1330e-01, -2.0452e-01,\n",
       "           2.4082e-01,  2.5696e-02,  5.4787e-01,  8.5371e-02, -2.1625e-01,\n",
       "          -1.9386e-01],\n",
       "         [-1.7315e-01, -4.3427e-01,  3.3045e-02,  8.6974e-01,  4.4035e-02,\n",
       "          -4.7238e-01,  1.4618e-01,  4.6508e-01,  1.2542e-02, -2.8207e-01,\n",
       "          -2.0610e-01, -4.1269e-02,  2.2551e-01,  2.1551e-01,  1.2199e-01,\n",
       "          -2.3695e-01],\n",
       "         [ 8.6298e-01,  1.7980e-01,  8.3515e-02,  3.3963e-01,  9.9842e-01,\n",
       "           8.2604e-02,  4.1659e-01,  6.5037e-02,  6.1655e-02,  2.2127e-01,\n",
       "          -2.1195e-01,  4.2260e-01, -6.4150e-02, -4.1260e-02,  2.6647e-01,\n",
       "           1.7574e-01],\n",
       "         [ 6.7886e-02, -2.1082e-01,  1.8337e-01, -1.1322e-02,  5.4997e-01,\n",
       "           2.2782e-01, -7.6513e-02, -3.6860e-01, -2.5659e-01,  1.6760e-01,\n",
       "           1.2661e-02, -2.0073e-01, -3.6719e-02,  9.5520e-02,  6.1975e-01,\n",
       "          -2.1671e-01],\n",
       "         [ 2.9817e-01,  1.4740e-01,  1.7226e-01,  2.9926e-01,  5.0406e-01,\n",
       "          -5.6241e-01, -1.4153e-01, -1.6782e-02, -4.2168e-01,  7.0470e-01,\n",
       "          -6.0016e-02, -8.0915e-01, -8.4073e-01, -2.3867e-01, -1.0978e-01,\n",
       "           4.0556e-01],\n",
       "         [ 1.7869e-03,  7.7669e-04, -5.2986e-02,  5.5045e-02, -1.6685e-06,\n",
       "           9.9642e-03,  7.3552e-03, -6.8479e-04,  9.0016e-03,  2.2681e-01,\n",
       "          -3.4311e-03, -3.0462e-02,  4.5112e-02,  2.9341e-01,  1.1105e-02,\n",
       "           1.2096e-01],\n",
       "         [ 1.6999e-02,  2.6838e-01, -6.1274e-01,  3.7510e-01,  2.6213e-01,\n",
       "           4.0942e-01, -1.8379e-01, -1.7734e-01, -5.0913e-01,  2.9123e-01,\n",
       "           4.9997e-01,  5.0008e-02, -4.5355e-01, -2.4941e-01,  3.6241e-01,\n",
       "          -3.3005e-01]]),\n",
       " 'net.layers.0.embeddings.embeddings.7.weight': Parameter containing:\n",
       " tensor([[ 0.0933, -0.3948,  0.0287,  0.5107,  0.2611, -0.0694, -0.0249,  0.2385,\n",
       "          -0.3805,  0.4323,  0.0657,  0.0099, -0.0951,  0.0411, -0.0721,  0.4172],\n",
       "         [-0.7942,  0.3439,  0.4522, -0.5443,  0.1270, -0.0801,  0.0710,  0.3717,\n",
       "          -0.3242, -0.2760,  0.7951, -0.1161,  0.1467,  0.9118,  0.6346, -0.5727],\n",
       "         [ 0.0693, -0.2523, -0.4709,  0.1346,  0.1655,  0.2201,  0.0046,  0.1106,\n",
       "           0.3923,  0.2318,  0.4171,  0.0705,  0.9890,  0.2102,  1.1017, -0.3305],\n",
       "         [ 0.3055, -0.1056, -0.2810,  0.5543, -0.6115, -0.0140, -0.3880, -0.1949,\n",
       "          -0.1534,  0.3282, -0.0214, -0.6190, -0.2877, -0.4063, -0.1879, -0.4078],\n",
       "         [ 0.3279, -0.2152,  0.2640, -0.6205,  0.0474, -0.1235, -0.0838,  0.4421,\n",
       "           0.3170, -0.1605, -0.2588,  0.4975, -0.5020,  0.0486,  0.3204, -0.2032],\n",
       "         [-0.1687, -0.2739,  0.6632, -0.3452, -0.4181,  0.5991,  0.6091,  0.4272,\n",
       "           0.1929, -0.5351,  0.1827, -0.0534,  0.3891,  0.6332, -0.1877,  0.2733],\n",
       "         [-0.2851,  0.6828, -0.3152,  0.1493, -0.2771, -0.3272, -0.3887, -0.1006,\n",
       "          -0.4543,  0.0200, -0.2272,  0.2900,  0.1248, -0.1258, -0.4648, -0.6671],\n",
       "         [ 0.3604,  0.1277, -0.4169, -0.0932, -0.2029, -0.3621,  0.4443,  0.0295,\n",
       "          -0.0922, -0.8263,  0.1354,  0.2034, -0.1616, -0.1917,  0.4889,  0.5101],\n",
       "         [-0.2037, -0.0578,  0.6160,  0.7102,  0.1487, -0.1025,  0.3940,  0.2231,\n",
       "           0.0976, -0.6176,  0.1522,  0.1888, -0.2599,  0.1103, -0.1604,  0.3410],\n",
       "         [ 0.0954, -0.6465, -0.2687, -0.2148,  0.0028,  0.0056,  0.3528, -0.4033,\n",
       "           0.0367,  0.5778,  0.3207,  0.3347, -0.2389, -0.2832, -0.5437, -0.6312],\n",
       "         [-0.0095, -0.2504,  0.1232, -0.2110,  0.1095, -0.3418,  0.0208,  0.1677,\n",
       "           0.4515, -0.0586,  0.3026,  0.1944, -0.0926,  0.2651, -0.1280,  0.2527],\n",
       "         [ 0.2931,  0.0704,  0.3493,  0.0895,  0.2119,  0.7646, -0.0091, -0.4527,\n",
       "           0.4620, -0.0592, -0.2151, -0.1080, -0.2851, -0.1863, -0.1597, -0.3049],\n",
       "         [ 0.1458, -0.2898,  0.0834, -0.0379, -0.0909,  0.3108,  0.0564,  0.1546,\n",
       "          -0.0395, -0.1988,  0.0185,  0.1859,  0.0381,  0.4043, -0.1141,  0.6277],\n",
       "         [-0.2015, -0.4956,  0.0849, -0.0866,  0.4653,  0.2823,  0.1087, -0.3085,\n",
       "           0.3691, -0.2082, -0.0988,  0.1533, -0.4878,  0.1579,  0.7003,  0.0208],\n",
       "         [ 0.2037,  0.1022, -0.1986,  0.0086,  0.0219,  0.1634,  0.2586, -0.2337,\n",
       "          -0.1488, -0.5077, -0.0689,  0.2323,  0.2640, -0.0987, -0.1764, -0.4258],\n",
       "         [ 0.3356, -0.3325, -0.1536, -0.8183, -0.1876, -0.6235,  0.3340, -0.6676,\n",
       "          -0.3764, -0.5967, -0.0474,  0.1132,  0.0582, -0.2975, -0.3044,  0.2451],\n",
       "         [ 0.2097, -0.1068, -0.6230,  0.1658,  0.1625, -0.2620,  0.5047, -0.2974,\n",
       "           0.1614, -0.0373, -0.1627, -0.0539, -1.1361, -0.5208, -0.0839,  0.0042],\n",
       "         [ 0.3107,  0.4273,  0.7498,  0.3486, -0.3856,  0.0195, -0.2749,  0.0111,\n",
       "          -0.3883,  0.5652, -0.1230,  0.2505,  0.0635,  0.1033, -0.6299, -0.2501],\n",
       "         [ 0.2275,  0.2300, -0.2213, -0.3128, -0.5675,  0.1617, -0.1716, -0.1231,\n",
       "           0.3584,  0.1017,  0.3469,  0.3181, -0.4497, -0.1709, -0.4383, -0.4533],\n",
       "         [-0.1480, -0.1315, -0.2375,  0.0220,  0.1389,  0.0368,  0.1190,  0.3617,\n",
       "           0.1635,  0.1764,  0.2974, -0.2580,  0.0213, -0.2947,  0.1062,  0.4433]]),\n",
       " 'net.layers.0.embeddings.embeddings.8.weight': Parameter containing:\n",
       " tensor([[-2.5630e-01, -4.2221e-01,  3.3636e-01,  1.7422e-01, -7.6456e-02,\n",
       "           2.1733e-01,  5.3527e-01,  2.1399e-01,  6.7521e-02, -1.1290e-01,\n",
       "           2.6153e-01,  4.1946e-01,  2.6767e-01, -3.1493e-01, -2.2246e-01,\n",
       "          -2.3439e-01],\n",
       "         [ 2.6004e-03, -3.3980e-02,  5.1223e-04,  5.5515e-03,  4.4142e-04,\n",
       "           8.5775e-02, -2.2600e-01, -1.0337e-01, -5.5207e-02, -8.7221e-02,\n",
       "           4.3386e-02,  1.3626e-01,  6.3598e-04,  3.7123e-03,  8.5303e-03,\n",
       "          -1.7062e-02],\n",
       "         [ 1.8039e-01, -2.4591e-01, -2.6616e-02,  2.2649e-01,  3.0214e-02,\n",
       "           9.1171e-02, -4.4248e-01,  2.5581e-02,  2.2933e-01, -3.3093e-01,\n",
       "           1.9850e-01, -2.2268e-01,  2.0702e-01,  1.5095e-01, -8.2379e-03,\n",
       "           1.5892e-01],\n",
       "         [-2.0949e-01, -7.8851e-02,  3.0721e-03,  2.6072e-02, -3.3400e-03,\n",
       "          -8.6067e-03,  6.2260e-02, -2.4126e-02,  3.8838e-03, -3.4104e-03,\n",
       "           6.6573e-03,  1.2770e-01,  8.8610e-03, -5.0370e-02, -2.0824e-03,\n",
       "           2.1153e-02],\n",
       "         [-1.7877e-02, -1.0256e-02,  4.1754e-02,  1.1651e-01,  1.1229e-02,\n",
       "          -2.9653e-01,  1.3561e-01,  2.9570e-01,  8.1748e-02, -1.7849e-02,\n",
       "          -1.6384e-01, -2.5039e-02,  6.8808e-02, -2.1658e-01, -1.0687e-01,\n",
       "           9.5863e-02],\n",
       "         [ 1.5057e-01,  1.4507e-01,  2.0554e-01,  2.1925e-02, -3.0206e-01,\n",
       "          -1.3369e-01, -5.5220e-01,  2.0858e-02, -3.8043e-01,  4.1736e-01,\n",
       "          -2.7556e-01, -1.7850e-01, -4.7019e-02,  1.8105e-01, -4.4955e-02,\n",
       "          -5.4941e-01],\n",
       "         [-2.9446e-01, -5.0109e-02,  2.3576e-01, -5.4639e-03,  1.1729e-01,\n",
       "           2.5794e-01, -1.6571e-01, -6.4679e-02,  6.9339e-02,  1.9459e-01,\n",
       "           2.3074e-01,  8.8797e-02,  1.0057e-01,  2.2111e-01, -5.6136e-03,\n",
       "          -1.0649e-01],\n",
       "         [-5.7922e-05, -1.5662e-02, -1.9979e-02, -1.5678e-02,  4.5098e-03,\n",
       "          -6.4810e-02, -1.0752e-02, -3.8447e-05, -6.0149e-04,  5.1332e-04,\n",
       "           8.9082e-02,  7.8543e-03,  6.4525e-06,  1.9975e-03,  1.1563e-02,\n",
       "           2.1483e-01],\n",
       "         [-2.1406e-01,  9.4189e-03,  9.8810e-03, -2.4170e-02, -1.9523e-02,\n",
       "          -1.6312e-01,  7.9899e-02,  5.6632e-03, -5.5489e-02, -1.9351e-02,\n",
       "           2.2073e-02,  1.1398e-02,  3.3112e-02,  2.1038e-01,  2.3833e-01,\n",
       "           5.5101e-02],\n",
       "         [ 1.6733e-01,  6.2382e-02,  1.6967e-02, -1.7005e-01, -4.1656e-03,\n",
       "          -1.5123e-01, -7.4657e-02,  4.6526e-02, -2.8713e-02,  2.5642e-02,\n",
       "          -1.7573e-01, -9.1875e-02,  5.2912e-03, -1.3328e-01,  2.0541e-02,\n",
       "          -4.0192e-03],\n",
       "         [ 2.7265e-02, -5.9018e-02, -1.7407e-02,  2.4519e-02, -5.2316e-03,\n",
       "          -1.3234e-01, -3.2801e-02,  1.6988e-01,  9.9990e-02,  5.6570e-02,\n",
       "           1.1278e-01, -5.6372e-02, -3.2240e-02,  6.9775e-02,  1.0651e-01,\n",
       "           3.4892e-02],\n",
       "         [-5.3134e-02,  2.1541e-02, -2.3414e-02,  1.5140e-01,  7.5067e-03,\n",
       "          -3.6034e-02, -3.5372e-02, -3.0887e-02, -2.2099e-02, -2.4214e-02,\n",
       "           1.0394e-01,  4.9352e-02,  1.7521e-01, -3.0917e-02,  1.5347e-01,\n",
       "           8.7860e-02],\n",
       "         [ 8.6372e-02,  1.1749e-04,  6.0867e-03,  5.0090e-03,  4.0533e-01,\n",
       "          -5.1102e-02,  3.3021e-01, -1.0481e-02,  3.5451e-02, -1.3703e-01,\n",
       "          -8.9452e-02, -2.5253e-01,  2.1024e-01,  5.1446e-03,  5.0385e-02,\n",
       "          -8.3918e-02],\n",
       "         [ 1.2892e-02,  5.4000e-03,  8.7187e-02, -1.1031e-01, -2.7485e-01,\n",
       "          -1.0997e-02, -1.1606e-01, -1.4709e-02,  5.5992e-02,  3.8695e-03,\n",
       "          -3.2597e-02,  1.1735e-01, -1.4802e-01,  7.8280e-02, -1.6872e-02,\n",
       "          -2.2611e-01],\n",
       "         [ 6.5740e-02, -1.0329e-02, -8.5435e-03,  6.0672e-03, -1.2627e-02,\n",
       "           3.6427e-02, -1.4287e-01, -2.4534e-02,  3.1705e-03,  7.1018e-03,\n",
       "          -4.2804e-02, -7.0720e-02,  3.7612e-02,  1.2039e-02,  7.4173e-03,\n",
       "           5.0826e-03],\n",
       "         [-1.0525e-01, -2.7627e-02, -1.2034e-01,  6.2169e-02, -3.7751e-01,\n",
       "          -3.5067e-01, -3.2501e-01,  2.9366e-01, -2.0304e-01, -1.1680e-01,\n",
       "          -2.1145e-01, -1.6445e-01, -2.0541e-01, -4.0597e-01, -4.2941e-03,\n",
       "          -2.8909e-02],\n",
       "         [-2.6152e-02, -1.2781e-02, -1.6032e-02,  5.7594e-02,  1.4214e-01,\n",
       "          -6.7189e-02, -3.2697e-02,  2.1752e-01, -1.3969e-01, -2.4971e-03,\n",
       "          -1.0312e-01,  3.2720e-02,  5.9279e-02, -1.0385e-02, -5.0805e-03,\n",
       "           1.2399e-02],\n",
       "         [-2.3409e-02, -3.5978e-01,  2.7918e-03, -2.5074e-01, -4.1270e-01,\n",
       "          -3.3911e-01,  1.0642e-02, -3.2627e-01, -7.7454e-02,  2.5382e-01,\n",
       "          -2.1108e-01,  1.2068e-01, -3.7946e-01,  1.2211e-02,  4.6482e-02,\n",
       "           4.2373e-01],\n",
       "         [-1.0254e-01, -3.9156e-02, -5.1338e-03,  2.4302e-03, -3.3782e-03,\n",
       "          -2.0476e-02,  2.0979e-03, -1.4647e-01, -1.5403e-01, -7.5992e-02,\n",
       "          -4.4490e-03, -1.0718e-01, -1.4672e-01,  2.6116e-03,  7.0307e-02,\n",
       "           2.7070e-02],\n",
       "         [ 1.3449e-03, -4.2387e-02,  1.4221e-03, -4.0500e-03,  1.7767e-04,\n",
       "           7.8938e-03,  5.3374e-03, -2.8555e-04,  4.1573e-04,  1.4304e-03,\n",
       "          -4.4589e-03, -8.2527e-03, -9.2162e-02, -7.1205e-03,  5.9065e-04,\n",
       "          -8.9719e-03]]),\n",
       " 'net.layers.0.embeddings.embeddings.9.weight': Parameter containing:\n",
       " tensor([[ 2.1400e-01,  2.5363e-01,  1.5979e-01,  5.1003e-01, -8.7345e-02,\n",
       "          -2.9589e-01,  6.8210e-02, -3.1034e-02,  2.2847e-01, -2.3142e-01,\n",
       "          -5.0832e-02,  1.0483e-01, -3.7970e-01,  1.3433e-02, -3.5909e-01,\n",
       "          -4.2267e-01],\n",
       "         [ 3.3026e-01,  1.3314e-01, -2.2188e-01,  5.2362e-02, -3.6216e-01,\n",
       "           1.3045e-01, -5.6564e-02,  2.1476e-02, -4.8246e-02, -3.7713e-02,\n",
       "           1.8132e-01,  1.1670e-01,  1.4036e-01, -2.8173e-01,  2.9764e-01,\n",
       "          -2.1706e-01],\n",
       "         [-1.3216e-01, -1.9014e-01, -4.2909e-02,  3.2833e-01,  3.1321e-02,\n",
       "           8.5389e-02,  1.3168e-01, -1.3203e-01,  1.1371e-01,  1.4586e-01,\n",
       "          -1.2283e-01, -7.9662e-01, -1.0142e-01, -2.7597e-02, -3.7595e-02,\n",
       "           3.7360e-02],\n",
       "         [ 2.3051e-01, -5.5428e-01,  6.7154e-01,  3.2761e-02, -2.2195e-01,\n",
       "           1.2904e-01, -2.0660e-01,  4.2790e-02, -5.4786e-02,  5.0891e-01,\n",
       "           3.4234e-01,  8.3868e-02, -1.4706e-01, -4.3895e-01, -1.8196e-01,\n",
       "           4.4828e-01],\n",
       "         [-5.2892e-01,  3.8718e-01,  7.8774e-02,  4.7974e-01,  3.6948e-01,\n",
       "          -5.1124e-01,  2.5265e-01,  4.6232e-02, -1.6971e-01, -7.8770e-02,\n",
       "          -1.3505e-02, -2.9447e-01,  2.2951e-01,  1.8474e-02, -4.2978e-02,\n",
       "           5.6019e-01],\n",
       "         [ 5.5869e-01, -2.7380e-01,  2.3192e-01,  1.8195e-01, -2.3564e-01,\n",
       "          -3.0856e-01,  2.6813e-01, -3.0723e-01, -7.0508e-02, -5.7150e-01,\n",
       "           2.7673e-01, -2.2973e-01, -2.0797e-01, -1.9019e-01, -6.4772e-02,\n",
       "           6.4016e-02],\n",
       "         [-7.5790e-02, -1.6874e-02,  3.2381e-01, -4.6199e-02, -3.3379e-02,\n",
       "          -4.1837e-02,  1.4120e-02,  1.1384e-01, -7.8166e-03,  4.1566e-01,\n",
       "           7.6184e-02, -2.4175e-02, -1.5392e-03, -3.5262e-02,  1.1053e-01,\n",
       "           3.0485e-03],\n",
       "         [ 3.1008e-01,  2.8955e-01, -2.0570e-01, -1.8489e-01,  2.1216e-01,\n",
       "          -5.0545e-01, -3.1483e-01, -2.3271e-01,  1.2450e-02, -4.8453e-02,\n",
       "           6.5300e-02, -1.1058e-01,  1.4165e-01,  2.3121e-01,  2.7714e-02,\n",
       "          -4.3716e-03],\n",
       "         [ 1.1043e-01, -2.6811e-01,  2.8539e-02, -1.2024e-01, -1.1709e-01,\n",
       "          -2.5286e-02,  2.7151e-01,  1.7752e-02,  1.1479e-01,  2.6693e-01,\n",
       "           4.4560e-02,  4.3012e-01,  2.8900e-02, -8.5656e-03, -1.0697e-01,\n",
       "          -6.5874e-01],\n",
       "         [-1.6884e-01,  1.9796e-01,  1.3928e-01, -3.8357e-01,  1.6797e-01,\n",
       "           3.1663e-01, -6.2524e-01,  2.0489e-01, -2.7931e-01,  2.0300e-01,\n",
       "          -2.1332e-01, -1.9453e-01,  5.0819e-02,  2.6863e-01,  1.3099e-01,\n",
       "          -1.6777e-01],\n",
       "         [-6.2366e-02,  2.2559e-01, -1.7202e-01, -1.6000e-01,  2.3277e-02,\n",
       "           8.8880e-02,  5.4263e-02,  8.8769e-03, -3.3754e-02, -8.1181e-01,\n",
       "          -6.6618e-02,  1.4866e-01,  6.0419e-02, -2.0044e-01,  2.8296e-01,\n",
       "          -2.1208e-01],\n",
       "         [ 1.3850e-01,  4.3573e-01, -1.8367e-01, -3.3528e-01, -6.5067e-01,\n",
       "          -1.6535e-01, -2.1635e-01,  3.5807e-01, -6.7197e-01, -4.1869e-01,\n",
       "           3.1021e-01,  1.5528e-01,  1.3977e-02, -5.6169e-01, -1.5597e-01,\n",
       "           7.1840e-02],\n",
       "         [ 9.2221e-02,  5.1475e-02, -4.1401e-02, -2.2865e-02,  9.7107e-03,\n",
       "          -7.7969e-02,  1.6069e-01, -2.0233e-02, -8.7393e-02, -3.6781e-01,\n",
       "          -7.8989e-02, -3.8252e-01, -5.0621e-02,  1.2918e-01, -4.1629e-04,\n",
       "           7.1934e-02],\n",
       "         [ 1.5152e-02, -3.8074e-01,  1.4500e-02,  4.3913e-02, -7.6233e-02,\n",
       "           1.3515e-01, -6.1517e-02, -1.9483e-01,  2.5455e-01, -1.1941e-01,\n",
       "          -7.4370e-02, -6.4979e-01, -1.5892e-01,  7.0887e-03,  2.6595e-01,\n",
       "          -5.3071e-02],\n",
       "         [-7.1962e-02, -1.4557e-02, -1.3321e-01, -4.1390e-01,  8.0281e-02,\n",
       "          -1.6828e-01,  1.7259e-02,  3.1252e-02,  3.8318e-02, -2.7050e-01,\n",
       "           3.8257e-01, -1.3078e-01, -2.6657e-02,  1.6050e-01, -3.6761e-01,\n",
       "          -1.5552e-02],\n",
       "         [ 6.7155e-02, -2.7141e-01,  1.5760e-01,  9.9123e-02,  2.8320e-01,\n",
       "          -2.7247e-02,  2.5714e-01,  1.1611e-01,  3.0146e-01, -4.4598e-01,\n",
       "           5.4852e-01,  6.0298e-01, -5.4709e-02, -1.8361e-01,  4.3370e-02,\n",
       "           4.3995e-01],\n",
       "         [ 6.1685e-01, -1.4543e-01,  5.9662e-02, -3.7124e-02, -7.8622e-03,\n",
       "           4.4919e-02,  2.5690e-01, -4.6129e-02, -4.3131e-01,  6.8030e-02,\n",
       "          -2.3524e-01,  8.7142e-02,  3.3948e-02,  5.5488e-01, -1.3646e-02,\n",
       "          -1.3836e-01],\n",
       "         [-4.9076e-02,  1.6502e-01, -6.9316e-02,  8.7325e-02,  3.1787e-02,\n",
       "           7.5703e-01,  6.8198e-02, -1.3785e-02,  9.0397e-02, -1.1650e-01,\n",
       "          -1.4078e-01, -1.7905e-02, -1.5224e-01,  4.3883e-01,  7.5849e-01,\n",
       "           2.1158e-01],\n",
       "         [ 3.3902e-01, -2.6662e-01,  1.1564e-01, -1.1217e-01,  1.3425e-01,\n",
       "          -5.5492e-02, -5.1908e-03, -3.3150e-03,  1.7956e-02, -3.9993e-01,\n",
       "           2.7480e-01,  3.0226e-01, -1.0535e-01, -3.2004e-01,  2.0799e-01,\n",
       "          -7.1076e-02],\n",
       "         [ 1.1612e-03, -5.3935e-01,  5.5945e-03,  1.2733e-01,  4.0423e-02,\n",
       "          -1.5028e-01,  1.1913e-01, -1.2575e-01, -7.9506e-04, -3.6047e-01,\n",
       "          -1.0349e-01, -5.4598e-02,  1.0950e-02, -4.6095e-02, -9.5515e-02,\n",
       "          -5.9328e-02]]),\n",
       " 'net.layers.0.embeddings.embeddings.10.weight': Parameter containing:\n",
       " tensor([[-0.3110,  0.6832,  0.2201,  0.4289, -0.0282, -0.4720,  0.2269,  0.2150,\n",
       "          -0.2186,  0.1681, -0.8563,  0.3094,  0.0661, -0.4419, -0.4895,  0.1048],\n",
       "         [ 0.1841, -1.2292,  0.3345,  0.1118, -0.0643,  0.4294,  0.2564, -0.4678,\n",
       "           0.0621,  1.3265, -0.1133,  0.0224,  0.1309, -1.1196, -0.3218, -0.8414]]),\n",
       " 'net.layers.0.embeddings.embeddings.11.weight': Parameter containing:\n",
       " tensor([[ 0.0041, -0.4208,  0.6073, -0.7134, -0.1629,  0.0585, -1.3507,  0.5067,\n",
       "          -0.1367, -0.2994, -0.2989, -0.3074,  0.6741, -0.0686, -0.4338, -0.2272],\n",
       "         [-0.1461,  0.7117, -0.1589, -0.4239,  0.0088,  0.5668,  0.2018,  0.6287,\n",
       "           0.0621, -0.5131,  0.3452,  0.8488, -0.1548, -0.4044,  0.9880,  0.0419]]),\n",
       " 'net.layers.0.embeddings.embeddings.12.weight': Parameter containing:\n",
       " tensor([[ 0.4787,  0.3065,  0.5721, -0.5018,  0.1903,  0.0405,  0.5146, -0.4904,\n",
       "           0.3198, -0.2384, -0.6722, -0.2976,  0.3277, -0.0940, -0.2729,  1.0134],\n",
       "         [-0.2326, -0.9743,  0.4393,  0.3355,  0.5083, -0.3253,  0.1147,  0.0065,\n",
       "           0.2008,  0.4226,  0.3795, -0.0793, -0.1372,  0.4525,  0.1081,  0.3026]]),\n",
       " 'net.layers.0.embeddings.embeddings.13.weight': Parameter containing:\n",
       " tensor([[-0.5694, -0.6806, -0.3287, -0.4510, -0.1762, -0.2633,  0.0282, -0.1970,\n",
       "          -0.0210,  0.1763,  0.1379, -0.0162, -0.6770, -0.2872,  0.0553, -0.1694],\n",
       "         [-0.2376, -0.0404,  0.0801, -1.1193,  0.0946,  0.0711,  0.1102,  0.1843,\n",
       "           0.3929, -0.0988, -0.0293,  0.3307, -0.2295,  0.7588, -0.1401,  0.2218],\n",
       "         [-0.1542,  0.2037,  0.2745,  0.0256, -0.4020,  0.0019, -0.3819, -0.0496,\n",
       "          -0.2446, -0.1082,  0.0244,  0.1234,  0.0457,  0.0946,  0.0390,  0.0728],\n",
       "         [ 0.5468, -0.0600,  0.0150,  0.4340, -0.2143,  0.3841,  0.1738,  0.3371,\n",
       "           0.5308,  0.0288, -0.2121, -0.3937,  0.2334,  0.5187,  0.3518, -0.0123],\n",
       "         [-0.2489,  0.6744,  0.2525,  0.0233,  0.1054, -0.2070,  0.2461, -0.5378,\n",
       "           0.1718, -0.2445,  0.2112, -0.1476,  0.2025,  0.3200,  0.1712,  0.6288],\n",
       "         [ 0.3279, -0.0909,  0.0086, -0.1202, -0.0146, -0.0086, -0.2839,  0.0038,\n",
       "          -0.1959, -0.4318,  0.0087, -0.0027, -0.0753, -0.2643,  0.0487,  0.2160],\n",
       "         [-0.1760, -0.1719, -0.6379, -0.0179,  0.0813, -0.0162,  0.1305, -0.1162,\n",
       "           0.0775,  0.2422, -0.4099, -0.2169, -0.2418,  0.2494, -0.4586,  0.1102]]),\n",
       " 'net.layers.0.embeddings.embeddings.14.weight': Parameter containing:\n",
       " tensor([[-3.3266e-01,  1.3367e-01,  1.7859e-02, -4.6152e-01, -4.2450e-01,\n",
       "           3.3931e-02, -1.9193e-01, -2.7623e-01, -5.8018e-01, -1.2740e-01,\n",
       "          -5.7578e-01, -2.4953e-01,  6.2312e-02, -3.3743e-01, -7.7822e-01,\n",
       "           1.2993e-01],\n",
       "         [-8.9511e-02,  5.0607e-02, -4.9704e-01,  2.0711e-01,  6.7325e-02,\n",
       "          -1.1233e-01, -6.3732e-01, -1.2197e-01,  7.9289e-02, -5.7991e-01,\n",
       "           5.8347e-01,  2.5475e-01,  6.8848e-01, -1.6985e-01, -3.2422e-01,\n",
       "          -2.5457e-01],\n",
       "         [ 1.3115e-01, -5.5224e-01, -6.0332e-01, -1.4503e-01, -2.8020e-01,\n",
       "          -2.5289e-01, -4.2258e-01, -3.0294e-01, -2.8701e-02,  1.0095e+00,\n",
       "           2.6533e-01, -2.9902e-01, -8.5807e-01,  3.2240e-01, -5.1465e-01,\n",
       "          -1.2724e-01],\n",
       "         [-4.9410e-01,  1.8638e-01, -5.9412e-01,  4.8295e-01,  2.2573e-01,\n",
       "           2.6452e-01, -5.9759e-01,  9.8054e-02, -2.6069e-01,  2.6818e-01,\n",
       "           8.3306e-02, -4.0441e-01,  6.4330e-02,  8.9455e-02, -1.5481e-01,\n",
       "          -2.0168e-01],\n",
       "         [ 5.6381e-01,  3.2009e-02, -2.7381e-01, -2.6088e-01,  1.1982e+00,\n",
       "          -3.6032e-02,  3.8229e-01, -2.8089e-02,  3.0181e-01, -2.9712e-01,\n",
       "          -1.2601e+00,  2.9727e-02, -2.7127e-01, -4.3372e-02, -3.0621e-02,\n",
       "          -4.2577e-01],\n",
       "         [-8.2646e-01,  1.1968e-01, -8.6012e-03, -6.4017e-01, -9.7192e-03,\n",
       "          -3.3428e-01,  2.9098e-01, -3.7400e-01, -1.8955e-01,  2.5679e-01,\n",
       "          -1.0123e-01,  5.1665e-02,  7.1588e-02, -2.8949e-01, -5.3739e-03,\n",
       "          -7.1289e-01],\n",
       "         [ 1.3146e-02,  1.3215e-02, -1.8206e-01,  4.1458e-04, -1.0745e-01,\n",
       "          -7.5218e-03, -3.0813e-01,  5.1555e-02,  4.9789e-02, -5.1748e-02,\n",
       "           1.4660e-01,  2.0799e-02, -6.4139e-02,  9.3056e-02,  4.5876e-02,\n",
       "          -7.0413e-02]]),\n",
       " 'net.layers.0.embeddings.embeddings.15.weight': Parameter containing:\n",
       " tensor([[-0.5604, -0.3478, -0.8352, -0.0797,  1.0531, -0.3655,  0.0047, -0.3128,\n",
       "           0.3034, -0.6242,  0.1446,  0.0447,  0.0839,  0.2526, -0.7258,  0.4261],\n",
       "         [ 0.4663, -0.7491, -0.5909,  0.1754, -0.0537,  0.1345,  0.4789, -0.3723,\n",
       "          -0.6902,  0.0037,  0.5985,  0.6061, -0.4177, -0.5006, -0.2251,  0.3363],\n",
       "         [-0.4072, -0.4237,  0.2612,  0.0327,  0.3233, -0.2737,  0.7699,  0.2114,\n",
       "          -0.1583, -0.2099, -0.3220, -0.1081, -0.3205,  0.1174,  0.1575, -0.2178],\n",
       "         [-0.1349,  0.5999,  0.8104, -0.5820,  0.3992, -0.2696, -0.0511, -0.1386,\n",
       "           0.1390,  0.0157,  0.3457, -0.0838,  0.2509,  0.1877,  0.0054,  0.0330],\n",
       "         [ 0.6414,  0.4973, -0.3464,  0.0439, -0.5689,  0.6669,  0.2788, -0.3960,\n",
       "          -0.3084, -0.2750, -0.3653, -0.3452, -0.6594,  0.6363, -0.1087, -0.2404],\n",
       "         [ 0.4194,  0.4441, -0.0471,  0.4936, -0.4653,  0.5965, -0.0430,  0.4853,\n",
       "          -0.1164,  0.6435,  0.2802,  0.9228,  0.4416,  0.5915, -1.0509, -0.2781]]),\n",
       " 'net.layers.0.embeddings.embeddings.16.weight': Parameter containing:\n",
       " tensor([[ 0.2499,  0.2963, -0.0575, -0.9531,  0.1377,  0.2406, -0.3973, -0.7229,\n",
       "           0.1875,  0.9017, -0.6308, -0.1436,  0.3485, -0.0807,  0.1579, -0.0833],\n",
       "         [ 0.5086, -0.1483, -0.1750, -0.1926, -0.4709, -0.0356,  0.6070,  0.1887,\n",
       "          -0.1018, -0.4658,  0.1476,  0.1643, -0.3456,  0.3624, -0.3930, -0.6323],\n",
       "         [ 0.0345, -0.3587,  0.6699,  0.0291, -0.1162,  0.3087,  0.0907,  0.2307,\n",
       "           0.4875, -0.6019, -0.2959, -0.5700, -0.3034, -0.0216,  0.1718, -0.3739],\n",
       "         [ 0.5215, -0.1913,  0.0470, -0.6062,  0.5874, -0.2316, -0.6345,  0.6158,\n",
       "           0.3436,  0.3560,  0.0101, -0.4969,  0.4048, -0.0916, -0.3442,  0.0685],\n",
       "         [ 0.1799, -0.6696, -0.3436,  0.6578, -0.0068, -0.2170,  0.2713,  0.7487,\n",
       "          -0.1965,  0.1777,  0.4807,  0.1404, -0.1550,  0.3025,  0.4625,  0.0703]]),\n",
       " 'net.layers.0.embeddings.embeddings.17.weight': Parameter containing:\n",
       " tensor([[ 1.8014e-01,  1.1676e-01, -3.2623e-02, -1.1954e-02,  3.0639e-01,\n",
       "          -1.3531e-02,  4.5656e-01,  1.0269e-01, -6.2681e-01, -3.5705e-02,\n",
       "           5.7491e-01,  1.1440e-01,  4.3271e-01,  9.2478e-02, -1.6946e-01,\n",
       "          -1.1352e-01],\n",
       "         [-1.6421e-01, -2.5035e-01,  2.6204e-01, -3.1988e-01, -2.7009e-01,\n",
       "           8.8081e-02, -7.6185e-02, -1.3979e-01, -1.5120e-01, -2.1569e-02,\n",
       "          -1.0294e-01,  6.9332e-02,  2.4554e-02,  2.8471e-02, -5.5594e-01,\n",
       "           9.1146e-02],\n",
       "         [ 1.9302e-01, -4.0477e-01, -4.9415e-01, -5.2622e-01,  1.4401e-02,\n",
       "          -3.8686e-02,  3.1792e-01,  1.0905e-01,  2.3448e-02, -9.7326e-01,\n",
       "          -3.6259e-01, -9.4258e-01,  2.6152e-01, -3.9328e-01, -2.2758e-01,\n",
       "          -1.1305e-01],\n",
       "         [ 2.4060e-01, -1.0314e-01, -3.3499e-01,  3.7577e-02, -6.5056e-01,\n",
       "           1.8360e-01, -4.6274e-01,  3.4374e-02,  2.1022e-01, -2.9439e-01,\n",
       "           1.1341e-01, -2.9677e-01, -2.1112e-01,  5.5171e-01, -2.9102e-01,\n",
       "          -6.9106e-02],\n",
       "         [ 5.6717e-02,  6.1497e-02, -2.0385e-01, -2.5649e-01,  1.3871e-01,\n",
       "          -3.0434e-01,  3.1472e-01, -5.3458e-01, -3.2875e-01, -5.4298e-02,\n",
       "          -7.9136e-02, -1.8677e-01, -1.8498e-01, -9.9279e-02, -2.0160e-01,\n",
       "           3.0599e-01],\n",
       "         [ 3.1711e-01, -1.3667e-01,  5.3174e-02, -5.1978e-01, -3.2416e-01,\n",
       "           1.0574e-01,  3.5887e-01, -2.1589e-01,  1.8577e-02, -1.7352e-01,\n",
       "          -2.0803e-02,  7.7631e-01, -3.9339e-02, -1.8826e-01, -3.8329e-01,\n",
       "           5.9108e-02],\n",
       "         [ 7.0106e-02,  2.2111e-01, -8.0263e-02, -2.1278e-01, -1.6518e-01,\n",
       "          -1.0633e-01,  2.8644e-04,  5.8720e-01, -5.2895e-01,  9.4066e-02,\n",
       "          -7.0499e-02, -8.9526e-02, -7.9752e-01,  1.4426e-01,  4.9849e-01,\n",
       "          -5.9744e-02],\n",
       "         [ 3.4896e-01,  2.3863e-02,  3.9301e-01, -1.8704e-01, -5.5769e-01,\n",
       "          -2.1573e-01, -1.0387e-01,  1.6662e-01,  3.2206e-01, -4.8022e-01,\n",
       "           2.6809e-01, -1.0781e+00, -6.1154e-01, -6.7915e-02, -2.6416e-01,\n",
       "           1.4021e-02],\n",
       "         [-8.8566e-01,  3.8478e-01, -5.0428e-02, -1.8462e-01, -2.1035e-01,\n",
       "          -1.7536e-01,  5.4435e-01, -8.1654e-01,  4.3905e-01,  3.3791e-01,\n",
       "          -5.8838e-02, -2.1140e-03, -7.9769e-02, -6.2018e-02,  1.5718e-01,\n",
       "           2.6155e-01],\n",
       "         [-3.4935e-01, -5.2004e-01,  4.3783e-02, -4.3045e-02,  4.9292e-01,\n",
       "           2.2213e-01,  3.6508e-01,  1.4676e-01, -7.2518e-02, -3.1506e-01,\n",
       "           1.3359e-01,  6.5202e-01,  2.7928e-01,  2.8994e-01,  1.2806e-01,\n",
       "          -2.5299e-01],\n",
       "         [-2.0926e-01, -9.4778e-02, -9.5958e-02, -3.2685e-01,  1.7036e-03,\n",
       "           4.2710e-02,  1.3750e-01,  3.3041e-01, -5.0074e-01,  1.6417e-01,\n",
       "          -1.1515e-01, -7.0006e-01, -6.5242e-01, -1.7128e-01,  8.5203e-01,\n",
       "           1.8803e-02],\n",
       "         [ 1.9979e-01, -2.4061e-01, -2.1448e-01,  7.6684e-02,  1.0912e-01,\n",
       "           3.0316e-01, -4.3416e-01, -4.3771e-01, -2.0415e-01,  3.3524e-01,\n",
       "           1.0034e-01,  1.1620e-01, -4.8584e-02, -3.0906e-02,  1.5412e-02,\n",
       "          -1.9362e-01],\n",
       "         [ 2.1534e-01,  2.2473e-01, -1.8903e-01,  2.2344e-01,  5.5256e-02,\n",
       "          -3.6195e-01,  1.9145e-01,  1.1503e-01, -3.1718e-01,  3.6025e-01,\n",
       "           4.5447e-01,  2.3172e-01, -1.2195e-01, -4.6125e-01,  4.0036e-01,\n",
       "           1.2069e-01],\n",
       "         [ 2.9488e-01, -1.3890e-01,  1.8749e-01,  1.3918e-01, -7.8017e-02,\n",
       "          -2.5323e-02,  1.4122e-01, -3.5120e-01, -4.6066e-01,  2.1792e-01,\n",
       "           3.3169e-01,  7.7192e-02,  1.8260e-01,  4.1969e-01,  3.4228e-01,\n",
       "           8.9477e-02],\n",
       "         [-7.6244e-02,  7.4280e-02, -3.3351e-03, -9.1140e-02,  3.3176e-01,\n",
       "           1.3180e-01, -3.5837e-01,  5.6075e-01,  2.9347e-01,  2.6031e-01,\n",
       "          -4.4789e-01, -2.8602e-01,  9.4542e-02, -2.1200e-01, -3.2781e-01,\n",
       "           7.2323e-02],\n",
       "         [-1.5617e-01, -2.3318e-01,  2.0632e-01, -1.5564e-01,  6.0921e-02,\n",
       "           3.9385e-01,  8.3489e-02, -1.4004e-01, -1.9864e-02,  3.0387e-01,\n",
       "           1.2679e-01, -2.0159e-01,  2.0326e-01, -1.5061e-01, -2.3847e-01,\n",
       "          -3.4035e-01],\n",
       "         [ 2.7616e-02, -1.3743e-01,  4.0293e-01, -4.5735e-02, -4.0022e-01,\n",
       "          -4.8807e-01,  7.6363e-01, -3.6912e-01, -1.2737e-01, -4.6372e-01,\n",
       "          -2.6938e-01, -2.4013e-01, -5.6129e-02, -1.7677e-01, -3.0162e-01,\n",
       "          -2.0333e-01],\n",
       "         [ 2.0380e-01,  1.0145e-01,  7.1058e-02,  5.6238e-02, -9.1506e-02,\n",
       "           4.4189e-01, -7.2608e-02,  1.3210e-01, -1.4885e-02,  2.7492e-01,\n",
       "           4.6245e-02, -3.0436e-01,  1.9463e-01,  3.7986e-01, -1.5139e-01,\n",
       "          -4.4069e-01]]),\n",
       " 'net.layers.0.embeddings.embeddings.18.weight': Parameter containing:\n",
       " tensor([[-0.1811,  0.0691,  0.1864, -0.1437, -0.0413, -0.2323,  0.4191,  0.2182,\n",
       "          -0.1982, -0.0980,  0.5503, -0.1928, -0.1937, -0.0869,  0.1856,  0.3935],\n",
       "         [-0.3381, -0.2164, -0.2379, -0.9073, -0.0626, -0.2062, -0.1589, -0.1014,\n",
       "          -0.1999,  0.4160,  0.2225, -0.2116, -0.2044, -0.5458,  0.2892, -0.1175],\n",
       "         [ 0.2957,  0.1786, -0.3214,  0.4613, -0.3154,  0.4889,  0.5314, -0.1513,\n",
       "          -0.4073, -0.1971,  0.0118, -0.2106,  0.1981,  0.4285,  0.1610,  0.4022],\n",
       "         [ 0.0899,  0.2089, -0.0547,  0.3455, -0.5650, -0.0282, -0.3912,  0.0593,\n",
       "           0.4453, -0.2966,  0.1759,  0.6497,  0.1317,  0.6887,  0.2992,  0.0753],\n",
       "         [-0.1187,  0.5477,  0.1526,  0.1934,  0.2390,  0.3094, -0.2025, -0.2294,\n",
       "           0.5729, -0.0325, -0.0866, -0.0946, -0.2276,  0.1540,  0.4001,  0.2182],\n",
       "         [-0.2618,  0.2165, -0.3379,  0.3128, -0.2648, -0.4527,  0.1031, -0.6836,\n",
       "          -0.0027,  0.1371,  0.6044,  0.3370, -0.2563,  0.1238, -0.0179,  0.5500],\n",
       "         [ 0.2200, -0.1940, -0.2135,  0.0017,  0.0412,  0.1150, -0.1288,  0.4450,\n",
       "           0.2388,  0.3596,  0.6162,  0.5504, -0.1147, -0.0179,  0.5571,  0.0570],\n",
       "         [-0.0234,  0.1104, -0.0371, -0.1810,  0.2382,  0.3396, -0.4065, -0.2886,\n",
       "          -0.1500, -0.2487, -0.7297,  0.1549,  0.3532, -0.0580,  0.2433, -0.1609],\n",
       "         [-0.1303, -0.4330,  0.0175,  0.0866, -0.2391, -0.2588,  0.0086,  0.1482,\n",
       "          -0.3163,  0.3745,  0.1592, -0.6101,  0.2754,  0.2739,  0.0508, -0.4759],\n",
       "         [ 0.1326, -0.4310,  0.1130,  0.0906,  0.2415,  0.5863, -0.2609, -0.1148,\n",
       "          -0.1717, -0.4905, -0.0213,  0.0619, -0.5365, -0.1573,  0.3920, -0.1175],\n",
       "         [-0.3841, -0.2256, -0.1772, -0.3351, -0.0711, -0.3164, -0.1819,  0.5544,\n",
       "           0.1912,  0.2503, -0.3717, -0.1696,  0.1023, -0.3266,  0.2840,  0.4694],\n",
       "         [-0.1736, -0.2475,  0.2192,  0.1634, -0.2888, -0.0879,  0.2183,  0.1113,\n",
       "          -0.0824,  0.2586,  0.1906, -0.0585, -0.0500, -0.1586,  0.0447,  0.5656],\n",
       "         [ 0.4127, -0.3394,  0.0629,  0.6465,  0.2668,  0.3288, -0.1939,  0.4167,\n",
       "           0.2298,  0.1520,  0.1992,  0.3173, -0.4500, -0.0534, -0.2907,  0.1419],\n",
       "         [ 0.4638, -0.0771, -0.3797, -0.2604, -0.4504, -0.0802,  0.3233, -0.0260,\n",
       "           0.2870, -0.0449,  0.1504,  0.1179, -0.3832,  0.3511,  0.0611, -0.3365],\n",
       "         [ 0.2803,  0.3213, -0.1806,  0.0040, -0.5127, -0.3800, -0.1005,  0.1415,\n",
       "          -0.3186,  0.4266,  0.3107,  0.4605, -0.6322,  0.3315, -0.1958, -0.2003],\n",
       "         [-0.2188,  0.2063, -0.3106, -0.0103,  0.0927,  0.3701, -0.0182, -0.3226,\n",
       "           0.2699, -0.1250, -0.2499, -0.1969,  0.3785,  0.2478, -0.3691, -0.5508],\n",
       "         [ 0.2237,  0.3000, -0.5899, -0.0254,  0.0597,  0.0839, -0.1092,  0.0131,\n",
       "           0.0272, -0.0325,  0.0434, -0.0408,  0.1758, -0.0864, -0.1704,  0.0277]]),\n",
       " 'net.layers.0.out_linear_block.weight': Parameter containing:\n",
       " tensor([[-0.0602, -0.0015, -0.0379,  ...,  0.0487,  0.0219, -0.0271],\n",
       "         [-0.0683,  0.0390, -0.0609,  ..., -0.0399,  0.0501, -0.0313],\n",
       "         [ 0.0748,  0.0986,  0.0306,  ...,  0.0330,  0.0789,  0.0617],\n",
       "         ...,\n",
       "         [ 0.0463,  0.0528,  0.0696,  ..., -0.0316,  0.0725,  0.0541],\n",
       "         [-0.0005,  0.0576, -0.0240,  ...,  0.0224, -0.0281, -0.0226],\n",
       "         [-0.0140,  0.0537, -0.0299,  ..., -0.0209, -0.0580, -0.0254]]),\n",
       " 'net.layers.0.out_linear_block.bias': Parameter containing:\n",
       " tensor([ 0.0202, -0.0401,  0.0457, -0.0170, -0.0038, -0.0151,  0.0037, -0.0060,\n",
       "         -0.0442, -0.0252, -0.0457, -0.0409,  0.0241, -0.0097,  0.0541,  0.0207]),\n",
       " 'net.layers.1.encoder.layers.0.attn_layer.linears.0.weight': Parameter containing:\n",
       " tensor([[ 3.6825e-02, -8.0999e-02,  5.5043e-02,  ...,  8.2857e-02,\n",
       "           1.0076e-01, -5.7145e-02],\n",
       "         [-1.7089e-01,  1.1695e-01, -2.9257e-02,  ...,  2.2961e-02,\n",
       "          -3.5104e-02, -1.5008e-01],\n",
       "         [ 1.6859e-01, -4.2753e-02, -2.7998e-01,  ..., -2.1325e-01,\n",
       "           1.0902e-01,  1.3083e-01],\n",
       "         ...,\n",
       "         [ 1.1740e-07, -2.0136e-03, -3.4293e-10,  ..., -3.7757e-16,\n",
       "           8.8161e-14, -6.2856e-04],\n",
       "         [ 5.3010e-04, -3.5595e-06, -1.8165e-17,  ..., -7.7038e-06,\n",
       "           9.0054e-13, -4.5436e-07],\n",
       "         [ 1.7015e-16,  1.8479e-04,  4.4911e-05,  ..., -1.5847e-03,\n",
       "           2.1220e-03, -4.4763e-17]]),\n",
       " 'net.layers.1.encoder.layers.0.attn_layer.linears.0.bias': Parameter containing:\n",
       " tensor([ 9.6013e-02, -2.3706e-01, -1.5237e-01, -1.7057e-01, -6.6192e-02,\n",
       "          1.9692e-01,  4.7349e-02,  2.0871e-01, -2.0887e-01, -1.2492e-01,\n",
       "         -5.0804e-02,  1.8759e-01, -2.7367e-01, -2.2346e-01,  2.3014e-01,\n",
       "          7.8367e-02,  2.2948e-01,  7.8451e-02,  1.8231e-01,  2.1532e-01,\n",
       "         -8.7271e-02,  7.5959e-02,  5.2350e-02,  3.1421e-02, -3.4567e-02,\n",
       "         -2.2170e-01,  1.2133e-02, -2.0784e-01,  1.4477e-01, -1.9013e-01,\n",
       "         -1.9317e-01,  9.7546e-02, -1.7967e-01,  1.1706e-01, -1.1710e-01,\n",
       "         -1.5508e-01,  1.9723e-01, -1.3729e-01,  9.4761e-02, -8.1706e-02,\n",
       "         -1.5615e-01,  1.5108e-01,  1.8164e-01,  9.7605e-02,  1.0241e-01,\n",
       "          1.3805e-01,  8.6359e-02, -1.6154e-02, -4.3263e-15,  6.4330e-08,\n",
       "         -9.9388e-16, -1.1552e-18, -2.4795e-15, -4.6168e-09, -1.7616e-04,\n",
       "          6.0886e-14,  6.2371e-17, -5.6425e-04, -8.7910e-15,  4.3606e-16,\n",
       "          9.7223e-05,  1.8319e-09, -1.7723e-05,  2.5876e-05]),\n",
       " 'net.layers.1.encoder.layers.0.attn_layer.linears.1.weight': Parameter containing:\n",
       " tensor([[ 0.0494, -0.0931,  0.0315,  ...,  0.0967,  0.1148, -0.0652],\n",
       "         [-0.1518,  0.1290, -0.0208,  ...,  0.0283, -0.0158, -0.1642],\n",
       "         [ 0.1843, -0.0308, -0.2513,  ..., -0.1855,  0.1233,  0.1147],\n",
       "         ...,\n",
       "         [ 0.1191, -0.2234,  0.0735,  ..., -0.0589,  0.0806, -0.2167],\n",
       "         [ 0.1901, -0.1328, -0.0010,  ..., -0.1489,  0.0893, -0.1367],\n",
       "         [ 0.0589,  0.1340,  0.1944,  ..., -0.1811,  0.2744, -0.0480]]),\n",
       " 'net.layers.1.encoder.layers.0.attn_layer.linears.1.bias': Parameter containing:\n",
       " tensor([ 0.1079, -0.2148, -0.1299, -0.1561, -0.0770,  0.2051,  0.0036,  0.1425,\n",
       "         -0.1967, -0.0632, -0.0382,  0.1541, -0.2682, -0.1634,  0.2485,  0.0909,\n",
       "          0.2576,  0.0992,  0.1683,  0.2441, -0.0843,  0.0758,  0.0730,  0.0579,\n",
       "         -0.0192, -0.2570, -0.0051, -0.1836,  0.1381, -0.2298, -0.2049,  0.0637,\n",
       "         -0.1824,  0.2092, -0.1244, -0.2354,  0.2093, -0.1419,  0.1257, -0.0519,\n",
       "         -0.2533,  0.1298,  0.1938,  0.1510,  0.1447,  0.1113,  0.1244, -0.0680,\n",
       "          0.0691,  0.1256,  0.0621, -0.0242,  0.0294, -0.1130, -0.1716,  0.0693,\n",
       "         -0.0010, -0.2004,  0.0719,  0.0187,  0.1973,  0.1169, -0.1592,  0.2071]),\n",
       " 'net.layers.1.encoder.layers.0.attn_layer.linears.2.weight': Parameter containing:\n",
       " tensor([[ 0.0657, -0.0865,  0.0599,  ...,  0.1010,  0.1153, -0.0809],\n",
       "         [-0.1354,  0.1141, -0.0304,  ...,  0.0225, -0.0117, -0.1814],\n",
       "         [ 0.1842, -0.0478, -0.2604,  ..., -0.1780,  0.1062,  0.1403],\n",
       "         ...,\n",
       "         [ 0.1336, -0.2381,  0.1253,  ..., -0.0737,  0.0737, -0.2060],\n",
       "         [ 0.1856, -0.1473,  0.0185,  ..., -0.1582,  0.0884, -0.1401],\n",
       "         [ 0.0059,  0.1703,  0.2015,  ..., -0.2170,  0.2588, -0.0220]]),\n",
       " 'net.layers.1.encoder.layers.0.attn_layer.linears.2.bias': Parameter containing:\n",
       " tensor([ 0.1102, -0.2321, -0.1140, -0.1907, -0.0989,  0.2393,  0.0362,  0.1666,\n",
       "         -0.2278, -0.1090, -0.0704,  0.2014, -0.2571, -0.2255,  0.2338,  0.0762,\n",
       "          0.1758,  0.1230,  0.1479,  0.2237, -0.0758,  0.0288,  0.0589,  0.0470,\n",
       "          0.0059, -0.2333,  0.0453, -0.2276,  0.1112, -0.1845, -0.1722,  0.1134,\n",
       "         -0.2878,  0.1719, -0.1338, -0.2322,  0.2448, -0.1802,  0.1106, -0.1270,\n",
       "         -0.2174,  0.2169,  0.2576,  0.1667,  0.1253,  0.1734,  0.1534, -0.0519,\n",
       "          0.0126,  0.1163,  0.0399, -0.0018,  0.0679, -0.1383, -0.2010,  0.0683,\n",
       "          0.0240, -0.1988,  0.0940,  0.0602,  0.1718,  0.1352, -0.1627,  0.1949]),\n",
       " 'net.layers.1.encoder.layers.0.attn_layer.out_block.weight': Parameter containing:\n",
       " tensor([[ 0.0213,  0.1110, -0.0493,  ...,  0.1054,  0.0357, -0.0560],\n",
       "         [-0.0567,  0.1084, -0.0851,  ..., -0.0523, -0.1188,  0.0044],\n",
       "         [ 0.0069, -0.0310,  0.1358,  ...,  0.0561, -0.0250,  0.0620],\n",
       "         ...,\n",
       "         [ 0.0702,  0.0462, -0.1268,  ..., -0.0423, -0.0227,  0.0536],\n",
       "         [ 0.0512,  0.0370, -0.0455,  ...,  0.1097,  0.0102, -0.0527],\n",
       "         [ 0.0953,  0.0150, -0.1185,  ...,  0.0415,  0.0426, -0.0358]]),\n",
       " 'net.layers.1.encoder.layers.0.attn_layer.out_block.bias': Parameter containing:\n",
       " tensor([-0.0249, -0.0543,  0.0176,  0.0772, -0.1147, -0.0971, -0.0492,  0.0770,\n",
       "          0.0032,  0.0492, -0.1271, -0.0620,  0.0929,  0.1173, -0.0409, -0.0207]),\n",
       " 'net.layers.1.encoder.layers.0.ff_layer.position_wise_ff.0.weight': Parameter containing:\n",
       " tensor([[-7.5309e-02, -1.0473e-01, -9.8627e-02, -2.2928e-01,  1.5643e-01,\n",
       "          -1.0911e-01,  5.5537e-02, -2.0292e-02, -6.6027e-04,  1.0831e-01,\n",
       "           1.7553e-01, -7.6714e-02,  5.9000e-02,  8.6436e-02,  9.0431e-03,\n",
       "          -1.3767e-01],\n",
       "         [-2.3196e-02, -7.1560e-02, -6.4955e-02, -2.3736e-01, -6.8940e-02,\n",
       "          -3.9583e-02, -2.2228e-01, -1.3569e-01,  2.3351e-02,  3.9506e-02,\n",
       "          -1.7926e-02,  1.6835e-01, -2.1734e-01, -2.2488e-01, -2.3451e-01,\n",
       "          -1.6433e-01],\n",
       "         [ 2.4167e-01, -2.2638e-02,  9.0894e-02,  1.3944e-01,  1.1719e-01,\n",
       "          -1.1406e-02, -1.5435e-01, -1.8406e-01,  1.5202e-01,  1.2497e-01,\n",
       "          -6.3915e-02,  1.7652e-01, -5.0872e-02, -1.4193e-01,  1.3041e-01,\n",
       "           2.2828e-01],\n",
       "         [ 1.4234e-01, -9.4473e-02, -1.7797e-01,  3.7559e-02, -2.0532e-01,\n",
       "           2.1357e-01, -2.6780e-02,  1.1445e-01, -1.0958e-01,  4.5995e-02,\n",
       "           2.2376e-01,  2.0757e-01,  4.5073e-02, -1.4104e-02,  2.1779e-02,\n",
       "          -3.8678e-02],\n",
       "         [-5.1095e-02,  2.2620e-02,  1.9844e-01, -5.4224e-02,  2.7279e-02,\n",
       "           7.6392e-02, -7.8810e-02, -1.9336e-01,  1.3159e-01,  1.2417e-01,\n",
       "           1.3716e-01, -7.6301e-02, -5.4033e-03, -5.9934e-02,  2.0505e-01,\n",
       "          -1.7441e-01],\n",
       "         [ 2.2449e-01,  2.1199e-01, -1.9257e-01,  1.1839e-01, -2.1169e-01,\n",
       "           2.2472e-01,  7.0624e-02,  2.7918e-02,  4.0879e-03, -6.8522e-02,\n",
       "          -2.1674e-01,  1.8464e-01,  1.2298e-01,  4.3116e-03, -8.1307e-02,\n",
       "          -1.6858e-01],\n",
       "         [-1.3758e-01,  5.2935e-02,  1.8649e-01, -7.9711e-02, -1.1815e-01,\n",
       "          -1.8315e-01,  6.8124e-02,  1.2310e-01, -1.2327e-01, -2.4685e-01,\n",
       "          -2.1903e-01,  1.8622e-01, -6.2191e-02,  1.9720e-01,  1.4856e-01,\n",
       "          -1.4943e-01],\n",
       "         [-1.5758e-01, -1.9267e-01, -7.8037e-02, -8.6392e-02, -1.9069e-01,\n",
       "          -5.6232e-02,  2.1778e-01, -1.1991e-01, -1.3371e-01,  1.2062e-01,\n",
       "           9.4471e-02,  8.0852e-03, -1.5278e-01, -1.8484e-01,  1.2087e-01,\n",
       "           1.3964e-02],\n",
       "         [-8.6710e-03,  8.1204e-02,  5.7574e-02, -3.8430e-02,  2.0043e-01,\n",
       "           1.0812e-01, -1.2976e-01, -5.3094e-02, -1.8207e-01, -2.2853e-01,\n",
       "          -2.0262e-02, -1.8755e-01, -2.4127e-01,  2.0710e-01, -2.3427e-02,\n",
       "           1.3320e-01],\n",
       "         [ 1.8920e-01, -2.2822e-01,  9.1336e-02, -1.7372e-02, -1.9525e-01,\n",
       "          -1.4205e-01,  1.1174e-01,  1.1386e-01,  1.0290e-01,  2.2074e-01,\n",
       "           9.4444e-02,  1.6158e-02,  9.4902e-02,  1.3434e-01, -5.7562e-02,\n",
       "           1.8070e-01],\n",
       "         [ 1.3761e-01,  2.2123e-01, -1.9703e-01, -4.9310e-02, -1.2441e-01,\n",
       "           1.6467e-01, -2.0346e-01,  4.4026e-02,  1.0662e-01, -1.3978e-01,\n",
       "          -1.3989e-01,  7.1710e-02, -2.3471e-01,  8.7857e-02,  1.6533e-01,\n",
       "           7.8435e-03],\n",
       "         [-1.4324e-01,  1.5245e-01, -1.1868e-01, -2.6820e-01,  1.3795e-01,\n",
       "           1.2230e-01,  2.6080e-02,  9.8555e-02,  2.2757e-01,  2.7827e-03,\n",
       "           2.3088e-01,  1.0281e-01, -1.1013e-01, -3.2707e-02, -1.1118e-01,\n",
       "           2.1395e-01],\n",
       "         [-6.6403e-02,  1.1493e-01, -2.2576e-01,  6.4950e-03, -1.2643e-02,\n",
       "          -1.4839e-01,  2.5440e-01,  1.6706e-01,  2.2237e-01, -1.4966e-01,\n",
       "          -1.9323e-01, -7.6308e-02, -2.2952e-04, -1.6254e-01, -2.4739e-01,\n",
       "          -9.7520e-02],\n",
       "         [ 1.4417e-01, -1.1884e-01, -1.9035e-01, -1.2059e-01, -3.0467e-02,\n",
       "           2.3327e-01,  1.5997e-01, -2.2680e-01, -7.1841e-02, -2.5003e-01,\n",
       "          -1.8566e-01,  1.0509e-01,  2.7177e-02,  3.1537e-02, -7.3737e-02,\n",
       "          -1.8050e-01],\n",
       "         [ 1.5393e-01,  5.1523e-02,  4.2539e-02,  5.1554e-02,  5.9443e-02,\n",
       "          -2.2794e-01, -9.1890e-02, -7.3405e-02, -5.7271e-02,  7.4177e-02,\n",
       "          -2.3141e-01,  1.7501e-01, -2.3212e-01, -1.1135e-02,  3.0316e-02,\n",
       "           1.6034e-02],\n",
       "         [ 2.4440e-01, -5.7659e-02, -5.9676e-02,  2.0794e-01, -8.9121e-02,\n",
       "           1.7658e-01,  1.0939e-01,  1.9592e-01,  5.3994e-02,  1.7450e-01,\n",
       "          -2.2765e-01, -2.1893e-01,  2.2939e-01,  3.8375e-02,  4.2470e-02,\n",
       "           2.0466e-01],\n",
       "         [ 2.7711e-02,  1.4509e-01,  4.7861e-02,  8.7679e-02,  2.4654e-02,\n",
       "          -2.0661e-01, -1.8569e-01,  2.1660e-01,  1.0571e-01,  2.7778e-02,\n",
       "           1.5028e-01,  6.0681e-02,  5.4523e-02, -2.1767e-01,  2.8333e-02,\n",
       "          -2.0349e-01],\n",
       "         [ 2.1717e-01, -5.7983e-02, -7.2319e-03,  3.3172e-02, -3.4773e-02,\n",
       "          -1.0718e-02,  1.7483e-01,  6.5341e-02, -7.9802e-02, -7.7606e-03,\n",
       "          -1.3360e-01,  2.1404e-01,  8.3863e-02,  1.0112e-01,  1.0278e-01,\n",
       "          -2.8492e-02],\n",
       "         [ 3.8714e-03,  2.1186e-01,  1.9048e-01, -4.3621e-02, -2.4185e-01,\n",
       "          -1.3779e-01,  6.4181e-03,  8.3136e-02,  1.6909e-01,  3.5010e-02,\n",
       "          -6.1460e-02,  2.4618e-01, -1.2377e-01, -1.5905e-01, -1.2765e-01,\n",
       "           7.0957e-02],\n",
       "         [ 1.6435e-03, -3.4791e-02,  1.3844e-01, -1.4609e-01, -2.2144e-03,\n",
       "           2.1952e-01, -6.2241e-02, -1.9576e-02, -1.6686e-01,  1.5764e-01,\n",
       "          -7.0499e-02, -1.0239e-01,  1.4186e-01,  5.5883e-02, -2.4959e-02,\n",
       "          -1.0757e-01],\n",
       "         [ 1.5526e-01,  1.8770e-01,  1.6119e-01, -1.1006e-01, -1.3983e-01,\n",
       "           8.4106e-02,  1.2385e-01, -2.7041e-02,  2.0033e-02, -2.0107e-01,\n",
       "          -4.0014e-02,  1.0530e-01,  1.6100e-01, -1.0014e-01,  5.7878e-02,\n",
       "          -8.9699e-02],\n",
       "         [-2.1035e-01,  6.5613e-02,  2.0904e-01, -2.2804e-01, -2.2455e-01,\n",
       "           2.2440e-01, -2.3035e-01,  4.7017e-02, -3.6592e-02,  1.9134e-01,\n",
       "          -2.2134e-01, -1.7746e-02, -1.5531e-01, -2.2496e-01,  1.4970e-01,\n",
       "           9.1608e-02],\n",
       "         [ 1.2307e-01,  1.7102e-01, -1.0696e-01, -2.5428e-02, -2.0402e-01,\n",
       "           1.7676e-01, -1.9832e-01,  1.2089e-01,  2.2859e-01, -8.7753e-02,\n",
       "           4.1117e-02, -1.5644e-01, -1.8790e-01,  1.3236e-02,  1.4320e-02,\n",
       "           1.2704e-01],\n",
       "         [-8.1559e-02, -1.8412e-01, -4.1414e-02, -6.7053e-03, -1.5230e-01,\n",
       "           3.8226e-02, -3.1638e-05,  8.8541e-02,  2.7296e-01, -3.4231e-02,\n",
       "           1.7086e-01, -1.5366e-01, -9.2532e-02,  7.1786e-02, -2.5287e-01,\n",
       "          -3.8103e-02],\n",
       "         [-1.4159e-01, -1.5371e-01,  7.6024e-02, -5.3699e-02, -1.2466e-01,\n",
       "           2.1572e-01, -1.8617e-01,  1.4897e-01, -1.6158e-01, -1.5793e-01,\n",
       "          -1.9794e-01,  8.5478e-02, -4.1443e-02, -3.9681e-02,  1.3358e-01,\n",
       "           2.0074e-01],\n",
       "         [-1.6656e-02,  2.5159e-01, -1.2123e-01, -1.7897e-01, -1.6524e-01,\n",
       "          -2.0681e-01, -5.6738e-02, -1.3413e-01,  7.4250e-02, -1.8288e-01,\n",
       "          -2.6842e-02, -6.3107e-02, -1.6103e-02, -1.1273e-01,  6.3537e-02,\n",
       "           2.0133e-01],\n",
       "         [ 2.1666e-01,  6.6346e-02, -1.3030e-01,  8.7779e-02, -2.6592e-02,\n",
       "           5.3724e-02, -6.5929e-02, -1.4157e-01,  1.0079e-01,  2.7680e-01,\n",
       "          -5.7109e-02, -2.8252e-02,  2.2021e-01, -2.1286e-01, -1.5191e-01,\n",
       "           1.6943e-01],\n",
       "         [ 1.3501e-01,  2.3710e-01, -5.5614e-02, -4.1950e-03,  1.0400e-01,\n",
       "           5.9920e-02, -1.4812e-01, -2.0829e-02, -1.8619e-01, -1.8934e-01,\n",
       "           7.5473e-02,  2.4231e-01,  1.2006e-01,  1.9201e-01, -1.8840e-02,\n",
       "          -7.5422e-02],\n",
       "         [ 2.1331e-01, -5.5481e-02,  3.4997e-02,  1.5979e-01, -1.1902e-01,\n",
       "          -1.6139e-01, -5.7945e-02,  1.8297e-03,  2.5874e-02, -4.9674e-02,\n",
       "           5.7531e-02, -1.6535e-02,  2.0417e-01, -1.1480e-01,  5.1056e-02,\n",
       "           2.8950e-02],\n",
       "         [-2.8416e-02, -1.0758e-01, -1.7428e-01, -1.6599e-01, -1.1975e-01,\n",
       "          -1.2174e-01,  2.4251e-01, -2.6836e-01,  9.4419e-02, -3.5410e-02,\n",
       "          -1.6613e-01, -4.4341e-02,  2.1227e-02, -2.4003e-01, -1.8405e-01,\n",
       "          -2.1612e-01],\n",
       "         [-1.7610e-01,  2.0866e-01,  1.2198e-03,  1.0325e-01, -2.3444e-01,\n",
       "           6.8975e-02,  2.3298e-01,  1.4368e-01,  2.3551e-01,  4.3349e-02,\n",
       "           1.4467e-01,  1.3092e-01, -1.1808e-01, -9.8212e-02, -4.6533e-02,\n",
       "           1.7643e-01],\n",
       "         [-1.3569e-01,  6.1420e-02,  2.6045e-02, -1.9736e-01,  2.4570e-01,\n",
       "          -2.1165e-01,  6.3366e-02,  4.1660e-02, -2.0620e-01,  2.1235e-01,\n",
       "           1.2162e-03,  2.0248e-01, -1.6438e-01,  1.6140e-01, -1.5247e-01,\n",
       "           8.5121e-02]]),\n",
       " 'net.layers.1.encoder.layers.0.ff_layer.position_wise_ff.0.bias': Parameter containing:\n",
       " tensor([ 0.2166,  0.1166,  0.0733, -0.0901,  0.1298,  0.1235,  0.1991, -0.1536,\n",
       "          0.0858,  0.2074, -0.1692,  0.0703, -0.0782,  0.0302,  0.0081,  0.1648,\n",
       "         -0.2295,  0.1799, -0.1823, -0.2248,  0.1134, -0.1942, -0.1516, -0.0512,\n",
       "         -0.2615, -0.0790, -0.1725,  0.1509, -0.0498, -0.2176, -0.1571,  0.0482]),\n",
       " 'net.layers.1.encoder.layers.0.ff_layer.position_wise_ff.2.weight': Parameter containing:\n",
       " tensor([[-6.4380e-02, -3.0688e-02,  3.1873e-02, -1.4526e-01,  1.6709e-01,\n",
       "          -1.4924e-02, -4.1032e-02, -1.0133e-01,  1.3639e-01,  4.1935e-02,\n",
       "           7.0802e-02, -1.6578e-02,  6.1123e-02,  6.1646e-02, -1.3421e-01,\n",
       "          -2.2007e-02,  1.0228e-01, -9.0460e-02,  2.8898e-02,  1.1225e-02,\n",
       "          -8.5779e-02, -9.4985e-02, -3.0794e-02,  2.3353e-02, -5.8843e-02,\n",
       "          -1.6689e-02,  1.3908e-01,  4.5754e-02,  7.6696e-02,  4.7431e-03,\n",
       "          -3.0973e-02,  1.3696e-02],\n",
       "         [ 5.5406e-02, -1.2981e-01,  2.8033e-02, -8.5980e-02,  1.4496e-01,\n",
       "           9.6209e-03,  8.6713e-02,  8.2264e-02,  9.4594e-02, -3.2681e-02,\n",
       "          -2.8407e-02, -1.7343e-01,  1.4920e-01, -1.0707e-01,  3.9871e-03,\n",
       "           8.7633e-02,  5.8949e-02,  1.1729e-03, -9.5605e-02,  3.5196e-02,\n",
       "           5.3794e-02, -9.2189e-02, -5.8209e-02, -2.3601e-02,  1.4894e-02,\n",
       "           7.3324e-02,  1.0090e-01,  1.2242e-01, -9.6719e-02,  1.4919e-01,\n",
       "           1.5633e-01, -3.7328e-02],\n",
       "         [ 5.3938e-02, -5.6050e-02, -1.1566e-01, -1.1789e-01,  8.4718e-02,\n",
       "          -2.2049e-01,  5.7654e-02, -1.2437e-01,  1.2274e-01, -3.5293e-03,\n",
       "           1.1635e-02,  1.2044e-01, -2.4930e-02,  5.9307e-02, -1.1257e-01,\n",
       "          -1.4949e-01,  3.2011e-02, -1.2194e-01, -1.7551e-01, -6.2695e-02,\n",
       "          -8.2763e-03,  5.0241e-02,  1.7421e-02, -1.5670e-01,  9.8673e-02,\n",
       "          -1.4994e-01, -9.9515e-02,  6.0619e-03,  3.6042e-02,  1.0629e-01,\n",
       "          -1.6678e-01, -1.3458e-02],\n",
       "         [ 7.5244e-05,  4.1468e-02,  1.2072e-01, -1.4815e-01,  2.4516e-02,\n",
       "          -1.0620e-01, -6.3991e-03,  1.7706e-01, -7.7279e-02,  1.8835e-01,\n",
       "           1.3270e-01,  1.3709e-01, -5.5787e-02, -7.7331e-02,  7.0146e-02,\n",
       "           7.6811e-02, -1.5046e-01,  9.5860e-02,  2.9046e-02, -1.5949e-01,\n",
       "           1.3410e-01, -1.1381e-01, -1.7200e-01, -9.4111e-02, -1.4521e-01,\n",
       "          -7.6028e-02,  5.5180e-02,  1.3848e-01, -8.7804e-02,  6.9143e-02,\n",
       "           1.1976e-01,  4.0005e-02],\n",
       "         [-5.3759e-02, -1.0611e-01,  5.5956e-02, -1.0800e-01,  3.4317e-02,\n",
       "          -9.7911e-02,  7.0749e-02,  1.1384e-01,  1.9631e-02,  1.4568e-01,\n",
       "           2.1667e-02,  1.1618e-01, -1.2821e-01, -5.3424e-02,  6.5901e-02,\n",
       "           4.5818e-02,  1.0735e-01, -1.7562e-01,  1.0069e-02, -8.7425e-02,\n",
       "          -1.7343e-01,  1.2483e-01,  5.7655e-03,  1.0257e-01, -1.3806e-01,\n",
       "          -9.0927e-02, -5.2796e-02, -1.2586e-02, -1.4950e-01, -1.2259e-01,\n",
       "           3.6925e-02, -3.4770e-02],\n",
       "         [-6.2557e-02, -7.5827e-02, -1.4110e-01, -8.4644e-02,  1.0296e-03,\n",
       "           5.9343e-02, -3.2008e-02, -1.1797e-01,  6.6861e-02,  4.4798e-02,\n",
       "           3.7807e-02,  1.7579e-01,  5.5051e-02, -2.2048e-01,  1.0324e-01,\n",
       "           3.3418e-02,  7.4051e-02, -2.1890e-02,  7.8264e-02, -1.5872e-01,\n",
       "           5.5077e-02, -1.0672e-01,  1.0432e-01,  1.1454e-01,  8.9036e-02,\n",
       "          -7.3551e-03, -1.6402e-01, -6.5202e-02, -9.7675e-02, -1.3031e-01,\n",
       "          -9.7050e-02, -1.2018e-01],\n",
       "         [-8.6952e-02,  5.9015e-02,  5.2696e-02,  8.0900e-02, -1.5953e-01,\n",
       "          -4.9841e-02,  1.3541e-02,  4.5516e-02,  3.7533e-02,  6.2638e-02,\n",
       "          -2.2588e-02, -1.7902e-01,  1.4709e-01,  1.6628e-01, -2.3261e-02,\n",
       "           3.3334e-02,  8.2356e-02, -1.7926e-03,  1.0766e-01, -5.4081e-02,\n",
       "           8.3876e-02,  9.1924e-02,  1.6700e-02, -5.4768e-02,  7.0701e-02,\n",
       "           1.2704e-01,  1.0248e-01, -4.5383e-02, -6.1927e-02, -8.1950e-02,\n",
       "           3.6985e-02, -2.0698e-02],\n",
       "         [-3.4477e-02,  3.5168e-02,  2.1959e-02, -1.4267e-01,  7.1646e-02,\n",
       "           1.0073e-01, -1.5224e-01,  1.0846e-01, -1.1643e-01, -1.1302e-01,\n",
       "           1.4197e-01,  1.0925e-01,  1.2427e-01,  1.3969e-02, -1.2614e-01,\n",
       "           6.9232e-02, -8.6026e-02,  9.8260e-02, -3.9045e-02, -1.4383e-01,\n",
       "           7.8042e-03,  1.4961e-01,  3.7602e-02, -5.9884e-02, -1.3863e-02,\n",
       "          -8.6664e-02,  1.1898e-01, -2.9247e-02, -5.4258e-02,  8.9840e-02,\n",
       "           1.4477e-01,  2.9906e-02],\n",
       "         [-3.2637e-02,  1.3469e-01, -1.4486e-01,  8.0012e-02, -1.1155e-01,\n",
       "          -1.8428e-01,  1.2603e-01, -4.9875e-02,  1.1591e-01,  7.4009e-02,\n",
       "           2.8500e-02,  1.6404e-01, -1.1460e-01, -6.0898e-02, -9.6171e-02,\n",
       "           5.1025e-02, -1.9351e-01,  1.1382e-01, -1.5633e-01,  1.4460e-02,\n",
       "           2.2532e-02,  6.5642e-02, -1.2722e-01,  5.5498e-02,  4.2154e-02,\n",
       "          -1.6048e-01,  1.6579e-01,  4.8879e-02, -8.9818e-02, -5.1823e-02,\n",
       "           5.7388e-02, -9.6138e-02],\n",
       "         [-7.7820e-02, -8.6519e-02,  1.1022e-01,  1.3604e-01,  1.5824e-01,\n",
       "           1.2009e-01, -1.2441e-01, -6.7179e-02,  1.0749e-01,  1.5090e-01,\n",
       "          -8.9715e-02,  1.4416e-01, -2.3641e-02,  2.8869e-02,  3.4824e-02,\n",
       "           3.8088e-02,  2.4447e-02, -4.6770e-02,  1.6843e-02,  1.0628e-01,\n",
       "           1.9550e-01, -4.8091e-02, -7.3302e-02, -1.3834e-02,  1.6264e-02,\n",
       "           9.2178e-02, -1.3576e-01,  3.1878e-02, -6.2096e-02,  5.2193e-02,\n",
       "           8.2277e-02,  2.3945e-02],\n",
       "         [ 1.4036e-01, -6.7435e-02, -8.2450e-02, -1.0982e-01,  1.1642e-01,\n",
       "           3.1540e-02,  1.5909e-01,  2.3000e-03, -6.3230e-02, -1.6033e-01,\n",
       "          -1.4665e-01, -1.1691e-01,  1.0192e-01,  9.0009e-02, -1.3329e-01,\n",
       "          -1.4535e-01,  1.3057e-01, -4.2619e-03, -3.0673e-02, -1.0450e-01,\n",
       "          -1.6833e-01, -1.3561e-01,  1.3590e-01, -1.3502e-02, -4.7062e-02,\n",
       "          -9.2825e-02, -2.3246e-02,  8.6208e-02, -1.8158e-01, -2.9512e-02,\n",
       "          -3.9522e-02,  4.1291e-02],\n",
       "         [-4.4206e-02, -1.0101e-01,  3.5151e-02,  8.2435e-02, -6.9581e-03,\n",
       "           6.1206e-02, -1.3370e-01, -5.6933e-02, -1.3744e-01,  7.0946e-02,\n",
       "           7.7367e-02, -1.1159e-01,  1.0379e-01, -2.4774e-02,  1.4159e-01,\n",
       "          -4.6703e-02,  1.0138e-01,  5.4781e-02,  7.1844e-03,  1.0966e-01,\n",
       "           7.0510e-02,  1.2297e-02,  1.2123e-02,  8.9032e-02,  2.3553e-02,\n",
       "           2.6164e-02,  8.2661e-02,  1.3772e-01, -9.7000e-02,  1.6892e-01,\n",
       "           1.0689e-01, -1.1270e-01],\n",
       "         [ 1.1158e-01, -8.2706e-02,  1.2369e-01, -1.2808e-01,  2.0883e-02,\n",
       "          -6.3074e-02,  1.5188e-01,  9.1748e-02,  8.0745e-02,  3.1415e-02,\n",
       "           6.8228e-02,  6.7821e-02,  7.6104e-02,  1.6380e-01, -4.9438e-02,\n",
       "          -5.8176e-02,  4.5064e-02,  1.4108e-01,  7.3642e-02,  4.3532e-02,\n",
       "           5.3903e-02,  1.1648e-01,  7.0345e-02, -9.8753e-02, -1.5201e-01,\n",
       "           3.1020e-02, -8.1007e-02, -1.3916e-01, -1.1687e-01,  4.7742e-02,\n",
       "           2.1390e-03, -6.4335e-03],\n",
       "         [ 1.1038e-02,  3.4359e-02, -9.6311e-02, -6.6557e-02,  4.9605e-02,\n",
       "          -3.3667e-02,  1.3075e-01, -1.2151e-02, -3.1972e-02,  2.2264e-02,\n",
       "           2.8943e-02, -9.8529e-02,  2.8870e-02,  1.4459e-01, -7.6536e-02,\n",
       "           1.4666e-01, -1.7363e-01,  5.9094e-02, -1.6154e-01, -1.0878e-01,\n",
       "          -2.0087e-02,  1.1415e-01,  9.0847e-02, -9.5878e-02,  1.6014e-02,\n",
       "          -2.8842e-02,  1.1569e-01, -4.6609e-02,  1.1171e-01,  1.0471e-01,\n",
       "           1.2673e-01,  3.2568e-02],\n",
       "         [-4.9409e-02, -6.0951e-02, -1.0378e-01,  6.0982e-02, -1.6138e-01,\n",
       "           9.7183e-02,  6.0260e-02, -1.2511e-01,  1.5782e-01,  7.0426e-02,\n",
       "          -1.1807e-01, -1.4758e-01,  3.6717e-02,  2.2881e-02, -8.0501e-02,\n",
       "          -7.2666e-02, -1.8693e-01, -1.5215e-01,  1.1844e-02,  2.3100e-02,\n",
       "          -6.9471e-02, -7.7089e-02,  1.2079e-01, -4.5600e-02, -1.0092e-01,\n",
       "           1.4349e-01, -7.9315e-02, -8.8761e-02, -1.5963e-01, -1.2940e-01,\n",
       "           2.6358e-02,  1.5239e-02],\n",
       "         [-1.4752e-01, -1.0765e-01, -1.3843e-01, -5.4868e-02,  4.4451e-02,\n",
       "           1.0339e-01,  5.6110e-02, -1.5342e-02, -2.3876e-03,  1.0701e-01,\n",
       "          -8.0978e-02, -1.4475e-01,  1.7271e-01, -5.9241e-02,  9.0607e-02,\n",
       "           1.0776e-01,  2.3433e-02,  9.3972e-02,  4.6836e-02,  8.7122e-02,\n",
       "           3.2571e-02,  1.5610e-01, -8.6255e-02,  7.6107e-02, -9.7716e-02,\n",
       "           8.9631e-02,  1.0783e-01, -1.8720e-01,  1.2601e-01, -3.4289e-02,\n",
       "          -9.5858e-02,  1.8586e-01]]),\n",
       " 'net.layers.1.encoder.layers.0.ff_layer.position_wise_ff.2.bias': Parameter containing:\n",
       " tensor([-0.1335, -0.0843,  0.1199,  0.0427, -0.1669,  0.1046,  0.0580,  0.0649,\n",
       "         -0.1077, -0.1359,  0.1172, -0.0730, -0.1653, -0.0862,  0.0727,  0.0526]),\n",
       " 'net.layers.1.encoder.layers.0.sub_layers.attention.layer_norm.weight': Parameter containing:\n",
       " tensor([0.9421, 0.9508, 0.9608, 0.9373, 0.9599, 0.9707, 0.9474, 0.9475, 0.9275,\n",
       "         0.9577, 0.9559, 0.9542, 0.9870, 0.9441, 0.9617, 0.9245]),\n",
       " 'net.layers.1.encoder.layers.0.sub_layers.attention.layer_norm.bias': Parameter containing:\n",
       " tensor([ 0.0075, -0.0171, -0.0259, -0.0035,  0.0247, -0.0011,  0.0015, -0.0109,\n",
       "          0.0655, -0.0026, -0.0373,  0.0286,  0.0064, -0.0483, -0.0009,  0.0289]),\n",
       " 'net.layers.1.encoder.layers.0.sub_layers.feed_forward.layer_norm.weight': Parameter containing:\n",
       " tensor([0.9607, 0.9742, 0.9473, 0.9762, 0.9737, 0.9517, 0.9824, 0.9528, 0.9861,\n",
       "         1.0052, 0.9260, 0.9524, 1.0030, 0.9861, 0.9842, 0.9546]),\n",
       " 'net.layers.1.encoder.layers.0.sub_layers.feed_forward.layer_norm.bias': Parameter containing:\n",
       " tensor([ 0.0264, -0.0027, -0.0309,  0.0094,  0.0235, -0.0057,  0.0067, -0.0184,\n",
       "          0.0008,  0.0046, -0.0191,  0.0275,  0.0035, -0.0085, -0.0099,  0.0059]),\n",
       " 'net.layers.1.encoder.layer_norm.weight': Parameter containing:\n",
       " tensor([1.0150, 1.0079, 1.0109, 1.0042, 1.0261, 1.0135, 0.9856, 0.9441, 0.9796,\n",
       "         0.9798, 0.9966, 1.0159, 1.0063, 0.9983, 0.9978, 0.9563]),\n",
       " 'net.layers.1.encoder.layer_norm.bias': Parameter containing:\n",
       " tensor([-0.0167, -0.0011,  0.0090, -0.0007, -0.0300, -0.0148, -0.0052, -0.0002,\n",
       "          0.0036, -0.0011, -0.0091, -0.0071, -0.0108,  0.0091, -0.0100, -0.0005]),\n",
       " 'net.layers.2.gru.weight_ih_l0': Parameter containing:\n",
       " tensor([[-0.0538, -0.0428,  0.0377,  0.1010, -0.0742, -0.1829, -0.0284, -0.1531,\n",
       "          -0.1032,  0.0516, -0.1129, -0.0987,  0.1093, -0.1164,  0.0151, -0.2257],\n",
       "         [ 0.0864, -0.1622,  0.1911, -0.1162,  0.0577, -0.0435,  0.1295, -0.1589,\n",
       "           0.2081,  0.0633,  0.1155,  0.1959, -0.1062,  0.0385,  0.0656,  0.0568],\n",
       "         [-0.1268,  0.1229, -0.0798,  0.0301, -0.1618, -0.1450,  0.1452, -0.1161,\n",
       "          -0.2056,  0.0873,  0.1461,  0.1186,  0.2194, -0.2265,  0.0748,  0.1664],\n",
       "         [ 0.0620,  0.1774,  0.0959, -0.0357, -0.2340, -0.2558, -0.2045,  0.1814,\n",
       "           0.2034,  0.0980, -0.2194,  0.1039, -0.2127, -0.2458, -0.0684,  0.0499],\n",
       "         [-0.2403, -0.0073,  0.0741, -0.1162,  0.0238, -0.1530, -0.0700, -0.1584,\n",
       "           0.1099,  0.0923,  0.1654,  0.0223,  0.0969,  0.2261,  0.1426, -0.1588],\n",
       "         [ 0.0811, -0.0066,  0.0756,  0.0100,  0.0448,  0.1208,  0.2104,  0.2209,\n",
       "          -0.2385, -0.2374, -0.2426, -0.0150,  0.0522,  0.0096,  0.1955, -0.0395],\n",
       "         [ 0.2191, -0.1931, -0.1539,  0.1488, -0.0172, -0.2125,  0.0256,  0.1211,\n",
       "           0.1115,  0.1613,  0.0032,  0.0766, -0.0693,  0.0530,  0.1739, -0.0918],\n",
       "         [ 0.2233, -0.1705, -0.0021,  0.2697, -0.1501, -0.2028, -0.2051, -0.1825,\n",
       "           0.0200,  0.1868, -0.2077,  0.0554,  0.0874, -0.1847,  0.0909,  0.0228],\n",
       "         [ 0.1894,  0.2605,  0.2352,  0.0318,  0.2268, -0.2539, -0.1641, -0.2625,\n",
       "           0.0733,  0.0751, -0.2001, -0.0705,  0.0403, -0.1069, -0.2059, -0.1664],\n",
       "         [-0.0118, -0.2244,  0.0179,  0.0576,  0.0206,  0.0973,  0.0322, -0.2118,\n",
       "          -0.0495,  0.0843,  0.0134,  0.1148,  0.0881, -0.1023,  0.2124,  0.0712],\n",
       "         [-0.1921,  0.2077,  0.0809, -0.0985, -0.1060, -0.0562, -0.1361, -0.0349,\n",
       "          -0.0323,  0.1659, -0.0877, -0.0444,  0.0357, -0.1625, -0.1813, -0.0995],\n",
       "         [-0.1114,  0.2174, -0.0338, -0.0278,  0.1143, -0.2216, -0.2296, -0.0993,\n",
       "          -0.1405, -0.0019,  0.0431, -0.0020, -0.0074, -0.0469,  0.2002, -0.0380],\n",
       "         [ 0.2334, -0.1512,  0.1300, -0.1541, -0.1900, -0.1336,  0.1626,  0.0875,\n",
       "          -0.0442, -0.1056, -0.1426,  0.0189,  0.0287,  0.0278, -0.1931,  0.0645],\n",
       "         [-0.1521, -0.1317,  0.1518, -0.1504,  0.0128, -0.0118,  0.1281,  0.0420,\n",
       "           0.1780,  0.0842,  0.1798, -0.2358, -0.1230,  0.0255, -0.1535,  0.1535],\n",
       "         [-0.0203,  0.0423,  0.0807, -0.1437, -0.0985,  0.1234, -0.1834, -0.2721,\n",
       "          -0.0648,  0.1734, -0.0347, -0.1802,  0.1215, -0.1896, -0.0089,  0.1461],\n",
       "         [ 0.1712, -0.1608,  0.0044,  0.2370,  0.1780, -0.0890, -0.0513,  0.0312,\n",
       "           0.0156,  0.0591,  0.2127,  0.2166, -0.0053,  0.1560,  0.1227, -0.0472],\n",
       "         [ 0.0349,  0.0784, -0.2405,  0.0104, -0.0311, -0.1548,  0.0303,  0.0953,\n",
       "          -0.0189,  0.0768,  0.0933,  0.0855, -0.0710,  0.1697,  0.1090,  0.0521],\n",
       "         [-0.0623,  0.1932, -0.1185,  0.1109,  0.1511, -0.2267,  0.0031, -0.1842,\n",
       "           0.1119,  0.0251,  0.1005, -0.0513,  0.0702, -0.0266, -0.1558, -0.0228],\n",
       "         [-0.0617,  0.1147, -0.0038,  0.0030,  0.0083, -0.1579,  0.2282, -0.0225,\n",
       "           0.0882, -0.0122,  0.2033, -0.2298,  0.1102, -0.1604,  0.0710,  0.0944],\n",
       "         [-0.2068,  0.1774,  0.0613, -0.1648, -0.0771,  0.0155, -0.0585, -0.0037,\n",
       "           0.1668,  0.1453,  0.1685,  0.0549,  0.1658,  0.2328, -0.1540, -0.0330],\n",
       "         [-0.1504,  0.2145, -0.0054,  0.2358, -0.2549, -0.1692,  0.1956, -0.2066,\n",
       "          -0.0402,  0.2196,  0.1880, -0.1302, -0.1660, -0.0108, -0.2037,  0.2096],\n",
       "         [-0.1723,  0.2703, -0.0246,  0.2864,  0.0017,  0.0896,  0.2005, -0.2145,\n",
       "          -0.1360, -0.1288, -0.0290,  0.1525, -0.1182,  0.1233,  0.0737, -0.0062],\n",
       "         [-0.1319, -0.1527,  0.0266, -0.0417, -0.0265, -0.1635, -0.2360,  0.1033,\n",
       "          -0.2176, -0.0548,  0.0326, -0.1621,  0.2542, -0.0047, -0.0744,  0.1570],\n",
       "         [ 0.1993, -0.0708,  0.1842, -0.0479, -0.2479, -0.2566,  0.1685, -0.1892,\n",
       "          -0.0937,  0.1851,  0.1666,  0.0223,  0.0084,  0.0168,  0.0264,  0.2166],\n",
       "         [-0.3160,  0.0461,  0.1904, -0.0087, -0.0804, -0.2275, -0.2221,  0.1501,\n",
       "          -0.2143,  0.0071, -0.1794, -0.2510,  0.1028, -0.1198, -0.1550,  0.0746],\n",
       "         [-0.1999,  0.0917,  0.0100,  0.1992,  0.0019, -0.1268, -0.0743, -0.2077,\n",
       "          -0.0651,  0.0556,  0.0555,  0.0320, -0.1071,  0.1668,  0.0414, -0.1114],\n",
       "         [ 0.1625, -0.0094, -0.1003,  0.0081, -0.1051,  0.2360, -0.0262, -0.2028,\n",
       "          -0.2218, -0.0430, -0.1889, -0.1877,  0.2523, -0.1797, -0.0503,  0.0301],\n",
       "         [-0.0051, -0.0062, -0.0322,  0.1228,  0.0224, -0.0524,  0.1895, -0.0400,\n",
       "          -0.0162,  0.1688,  0.0640, -0.2650, -0.1316,  0.1473, -0.2414, -0.1715],\n",
       "         [-0.2246,  0.2428,  0.1339, -0.0712,  0.2067, -0.0348,  0.0524, -0.1438,\n",
       "           0.0751,  0.0154, -0.1140, -0.0344, -0.2040,  0.0216, -0.1286,  0.1613],\n",
       "         [-0.1677, -0.0972,  0.2242, -0.1753, -0.2205, -0.1246,  0.0506, -0.0779,\n",
       "           0.1745,  0.0703,  0.1493, -0.1819,  0.1966, -0.0732, -0.1513,  0.0985],\n",
       "         [-0.0362, -0.2559, -0.2102,  0.1806, -0.1436,  0.1192, -0.1741,  0.1728,\n",
       "           0.1797, -0.0311,  0.2113, -0.2032, -0.0865, -0.1102, -0.1258, -0.1421],\n",
       "         [ 0.0821,  0.0770,  0.1199,  0.1032, -0.0153,  0.1182, -0.1305,  0.1432,\n",
       "           0.1888,  0.1680, -0.1012,  0.0978,  0.1855,  0.2172, -0.0132, -0.1088],\n",
       "         [-0.2206, -0.0160,  0.2247,  0.1411,  0.0819,  0.1146, -0.0223, -0.1161,\n",
       "           0.0641,  0.1138, -0.0981, -0.0651, -0.0401, -0.1536,  0.2428, -0.1791],\n",
       "         [-0.1216,  0.1025,  0.0163,  0.1222, -0.2367, -0.0743, -0.1505,  0.1341,\n",
       "          -0.2826,  0.0568, -0.0630, -0.1429, -0.0090,  0.1159, -0.0835, -0.1656],\n",
       "         [-0.1569, -0.0633,  0.0652, -0.1998, -0.0761, -0.1230, -0.1272, -0.0994,\n",
       "          -0.1999,  0.0816,  0.0932,  0.0929,  0.0248, -0.0102,  0.0405,  0.0751],\n",
       "         [-0.1618, -0.0886, -0.1881,  0.0392,  0.0564, -0.0483, -0.0908, -0.0879,\n",
       "          -0.2187,  0.0605, -0.1968, -0.0533, -0.0602,  0.0016, -0.1471,  0.0869],\n",
       "         [-0.1481,  0.2324, -0.0858,  0.1749, -0.1039,  0.0574,  0.1387,  0.1150,\n",
       "           0.0006, -0.1163,  0.0649,  0.1685,  0.1196, -0.2359, -0.0648, -0.0365],\n",
       "         [ 0.0411,  0.0919,  0.2267, -0.0445, -0.1658, -0.1633,  0.2078,  0.0954,\n",
       "          -0.2061, -0.1873,  0.1916,  0.0489, -0.0877, -0.0647,  0.0624, -0.0893],\n",
       "         [-0.2361, -0.0909, -0.1818,  0.2220,  0.1417,  0.2167, -0.1581,  0.0623,\n",
       "           0.1980,  0.1851, -0.0205, -0.0958,  0.0378, -0.0483,  0.0262, -0.2316],\n",
       "         [ 0.1315,  0.2009,  0.1188,  0.1521,  0.1796, -0.1157,  0.0156,  0.1892,\n",
       "           0.0638, -0.0208, -0.1735, -0.0005,  0.0533, -0.0182, -0.1048, -0.0832],\n",
       "         [ 0.1024,  0.0312,  0.0167,  0.0960, -0.2602, -0.0582,  0.2364,  0.1261,\n",
       "           0.0558,  0.2223, -0.1786,  0.1138,  0.0871, -0.1444, -0.1304, -0.0947],\n",
       "         [-0.0443, -0.2512, -0.0540, -0.1490,  0.1111,  0.0619, -0.0891,  0.2312,\n",
       "          -0.0087,  0.1971,  0.1271, -0.0384, -0.2088,  0.1862,  0.1706, -0.2413],\n",
       "         [-0.0723, -0.0930, -0.0703, -0.1345,  0.2421,  0.0827,  0.2086, -0.1859,\n",
       "          -0.1958,  0.2190,  0.1012,  0.1533,  0.0898, -0.0669,  0.1948,  0.1034],\n",
       "         [ 0.0529,  0.1026, -0.0591, -0.0437, -0.1899, -0.1481,  0.0571,  0.1810,\n",
       "          -0.1342, -0.0300, -0.1279,  0.1474,  0.0952,  0.1713, -0.0093,  0.0565],\n",
       "         [-0.1812, -0.2204,  0.1176, -0.1398,  0.0172,  0.1838, -0.0232, -0.2427,\n",
       "          -0.0263, -0.2236, -0.2120, -0.2233,  0.1526,  0.1922, -0.2250,  0.2126],\n",
       "         [-0.2447,  0.1285, -0.2320, -0.0776,  0.1319,  0.1156, -0.0081,  0.2214,\n",
       "           0.2214, -0.1125, -0.1193, -0.0630,  0.0598,  0.1394, -0.1202,  0.1107],\n",
       "         [-0.0395, -0.1443, -0.0857, -0.0529, -0.1401, -0.0127, -0.0021, -0.1275,\n",
       "           0.1584, -0.0022, -0.0418, -0.0089,  0.0765, -0.1183, -0.0519, -0.1879],\n",
       "         [-0.2126, -0.1645,  0.0178,  0.1443, -0.0778, -0.2437, -0.1911,  0.0168,\n",
       "           0.1576, -0.0664,  0.2269,  0.0994, -0.0775, -0.0134, -0.0785,  0.0729]]),\n",
       " 'net.layers.2.gru.weight_hh_l0': Parameter containing:\n",
       " tensor([[ 0.1532,  0.0153,  0.0297, -0.1575, -0.0090,  0.1429,  0.0823, -0.0444,\n",
       "          -0.1126,  0.1397, -0.0307,  0.1650, -0.0712, -0.0258,  0.0757, -0.0921],\n",
       "         [ 0.0640,  0.2073, -0.0669,  0.0942, -0.0554,  0.0821, -0.0622, -0.0644,\n",
       "           0.1525,  0.0213, -0.0242,  0.1192, -0.1711,  0.0541,  0.0236,  0.0044],\n",
       "         [-0.0186,  0.1027,  0.1239, -0.2112, -0.0964, -0.1092, -0.2179, -0.1847,\n",
       "           0.0483,  0.2158, -0.1004, -0.2011, -0.1584, -0.2035, -0.0666,  0.0300],\n",
       "         [-0.1279, -0.1412, -0.0969,  0.0112,  0.2049, -0.1553, -0.1576,  0.1846,\n",
       "          -0.0980, -0.0151, -0.0946,  0.2266,  0.1852, -0.0201,  0.0188, -0.2157],\n",
       "         [-0.1585, -0.0481,  0.0883,  0.1421, -0.1563, -0.1408, -0.1652, -0.0013,\n",
       "          -0.2806, -0.0569,  0.0151, -0.1737, -0.1492,  0.0656,  0.1805,  0.1492],\n",
       "         [ 0.1132, -0.0730, -0.0699, -0.2134,  0.0518,  0.1491,  0.2630, -0.0438,\n",
       "          -0.0698,  0.0405,  0.1262,  0.0589,  0.2295,  0.0409, -0.1512, -0.1051],\n",
       "         [-0.0459, -0.0191,  0.0115, -0.0185,  0.1103,  0.0717, -0.1302, -0.0177,\n",
       "           0.0616,  0.0260, -0.0536, -0.0100, -0.2176, -0.0125, -0.0689,  0.1753],\n",
       "         [ 0.1642,  0.1505,  0.1058,  0.2406,  0.0477,  0.0983, -0.2078,  0.2359,\n",
       "           0.0044, -0.2646, -0.1109,  0.0795, -0.2467,  0.0419,  0.0549,  0.2453],\n",
       "         [-0.0468,  0.0563,  0.2213,  0.1544,  0.2440,  0.2252, -0.0635, -0.1895,\n",
       "           0.1568,  0.0205,  0.1421,  0.2209,  0.0793, -0.1835, -0.1887, -0.1533],\n",
       "         [-0.0223,  0.1195,  0.0146,  0.1113,  0.0710,  0.1341, -0.0199,  0.0320,\n",
       "          -0.0492,  0.1533,  0.0773, -0.1440,  0.1140, -0.0813,  0.2002, -0.0432],\n",
       "         [-0.1467,  0.1562,  0.1036, -0.0989, -0.0933, -0.0811,  0.1650, -0.1739,\n",
       "           0.0491,  0.1768, -0.2862, -0.1745,  0.0362, -0.0349,  0.1489,  0.1790],\n",
       "         [ 0.0925,  0.1325, -0.1315, -0.0558,  0.0924,  0.1693,  0.0421,  0.0068,\n",
       "           0.0108,  0.2453, -0.1933, -0.2474,  0.0429,  0.2263, -0.1507,  0.0661],\n",
       "         [ 0.1171,  0.0877,  0.0137,  0.0997,  0.0569, -0.1649,  0.0378, -0.0052,\n",
       "          -0.0509,  0.1180, -0.1692, -0.1348,  0.1984, -0.0821, -0.1478, -0.1462],\n",
       "         [-0.0903,  0.1439,  0.1123,  0.0187, -0.0639, -0.1216, -0.0737,  0.2233,\n",
       "           0.1674, -0.0210, -0.2590,  0.0920, -0.1014,  0.2688,  0.1395,  0.1418],\n",
       "         [-0.1087, -0.0486, -0.1312, -0.2061, -0.1492, -0.1763,  0.0538,  0.0292,\n",
       "           0.0562,  0.2016,  0.2130,  0.0708, -0.0967,  0.1524,  0.0203,  0.0340],\n",
       "         [ 0.1994, -0.1808,  0.0203, -0.2094, -0.2366, -0.2204,  0.2808, -0.0054,\n",
       "           0.1180,  0.2456, -0.2337, -0.0400, -0.1288,  0.1934, -0.0345,  0.1718],\n",
       "         [-0.0905,  0.0168,  0.0426,  0.1157,  0.2012, -0.1224,  0.1063,  0.1319,\n",
       "           0.0337,  0.0885, -0.0902,  0.2779,  0.0584, -0.0762, -0.0375,  0.0793],\n",
       "         [-0.1697, -0.0433,  0.0505, -0.1124,  0.0893,  0.0499, -0.0542, -0.0953,\n",
       "          -0.1345,  0.2434, -0.1229, -0.0872, -0.1370,  0.0146,  0.0636, -0.0293],\n",
       "         [-0.0579, -0.2081,  0.0786,  0.2138, -0.1973, -0.1576, -0.0801,  0.0179,\n",
       "           0.1377, -0.0083, -0.0016, -0.2031,  0.1746,  0.2031,  0.1605,  0.0983],\n",
       "         [-0.1946,  0.1927,  0.1710, -0.1568, -0.2999, -0.0127,  0.1486,  0.2005,\n",
       "           0.0140,  0.2562,  0.1459, -0.2045, -0.0130,  0.0274,  0.1863,  0.2026],\n",
       "         [ 0.0744, -0.0186,  0.0872,  0.0888,  0.0419, -0.0586,  0.2242, -0.1162,\n",
       "           0.2982, -0.2456,  0.0707,  0.0616,  0.1691,  0.0652,  0.1896, -0.0950],\n",
       "         [ 0.1910, -0.0950, -0.1784,  0.1390, -0.1101,  0.0769, -0.1865, -0.0222,\n",
       "           0.2599,  0.0879,  0.0541,  0.0635, -0.2119,  0.1054, -0.0194,  0.1886],\n",
       "         [-0.1995, -0.0591, -0.1358,  0.1084,  0.2347,  0.2294,  0.0096, -0.1434,\n",
       "          -0.1065, -0.0248,  0.0709, -0.0319, -0.1632, -0.1742, -0.1584, -0.1597],\n",
       "         [-0.1954, -0.2050,  0.0567, -0.1588, -0.1570,  0.0005, -0.1431,  0.0244,\n",
       "           0.0088, -0.1452,  0.0328, -0.0550,  0.1844,  0.0549, -0.0613,  0.0755],\n",
       "         [ 0.2433, -0.1481,  0.0315, -0.0401, -0.1846, -0.0815,  0.1834,  0.1051,\n",
       "          -0.2122,  0.0608, -0.2200,  0.1739,  0.0392,  0.0516,  0.1273,  0.2946],\n",
       "         [-0.0983, -0.0531,  0.0566, -0.1213, -0.0391,  0.1230,  0.2148,  0.0637,\n",
       "          -0.1638, -0.0815, -0.2956, -0.1927,  0.2360,  0.2772,  0.0163,  0.0878],\n",
       "         [ 0.2617, -0.0412, -0.0331, -0.0889,  0.0306, -0.1149, -0.1677,  0.2323,\n",
       "           0.1758, -0.2186, -0.0465,  0.2774,  0.2379,  0.0680,  0.1923, -0.2026],\n",
       "         [-0.0214,  0.2648,  0.1514,  0.0112,  0.0808, -0.1989,  0.2046, -0.2348,\n",
       "           0.0759, -0.1865, -0.0079,  0.1479, -0.0044, -0.0389,  0.1693,  0.0999],\n",
       "         [-0.0399,  0.2175,  0.1313,  0.0777, -0.2643,  0.1798, -0.1190, -0.0437,\n",
       "          -0.1028, -0.0663,  0.0416, -0.0187, -0.2249, -0.1401, -0.2165, -0.0287],\n",
       "         [ 0.0829, -0.1766,  0.0631, -0.0809, -0.1344, -0.2616,  0.0983, -0.1100,\n",
       "           0.1840, -0.0229,  0.1839, -0.0188,  0.0294,  0.1976,  0.0308,  0.0413],\n",
       "         [-0.0048,  0.1056,  0.2363, -0.1984, -0.1958, -0.1497, -0.2103,  0.0951,\n",
       "           0.0510,  0.0671, -0.0127,  0.0816,  0.0437,  0.2118, -0.1693, -0.0612],\n",
       "         [-0.2539,  0.1764, -0.2244, -0.2275, -0.0760,  0.0510,  0.1682, -0.0366,\n",
       "          -0.1813,  0.2171,  0.0055,  0.1543, -0.0524,  0.0209,  0.0464, -0.0173],\n",
       "         [-0.1216, -0.1721,  0.1898,  0.0768, -0.0861, -0.0100,  0.1456, -0.1253,\n",
       "           0.0963,  0.2850, -0.1930, -0.1798, -0.1465,  0.0659,  0.0836, -0.0026],\n",
       "         [-0.0243, -0.1431, -0.2572, -0.0254, -0.0728,  0.1875, -0.1282, -0.1569,\n",
       "           0.2674, -0.2064, -0.0418, -0.1521,  0.2128,  0.1052, -0.2105,  0.0053],\n",
       "         [-0.1466, -0.0142, -0.2494,  0.0271, -0.0480, -0.1243, -0.1009,  0.0097,\n",
       "           0.1297, -0.1181, -0.2032, -0.1813,  0.1582, -0.0848,  0.1635, -0.1198],\n",
       "         [ 0.0518,  0.2300, -0.0736, -0.1421,  0.0813, -0.1994,  0.0262,  0.2209,\n",
       "          -0.0528, -0.1898,  0.2401,  0.1696,  0.1617, -0.1759,  0.2053,  0.2214],\n",
       "         [-0.0017,  0.2058,  0.0069,  0.0491,  0.2952, -0.1042,  0.2100, -0.0019,\n",
       "          -0.1482,  0.1449, -0.0550,  0.2785, -0.1720,  0.0112,  0.2417,  0.0119],\n",
       "         [-0.1931, -0.2225,  0.1066,  0.2099,  0.0204, -0.0954, -0.1704,  0.1524,\n",
       "          -0.0380,  0.1763, -0.0725, -0.1019, -0.1656, -0.1833,  0.2199,  0.0169],\n",
       "         [-0.1833,  0.0250, -0.0904,  0.1977, -0.1087,  0.1087, -0.0077, -0.0090,\n",
       "          -0.0497,  0.0362, -0.0887,  0.0322,  0.0194,  0.0898, -0.1994, -0.0880],\n",
       "         [-0.0054,  0.0889, -0.1682,  0.2119, -0.1316,  0.1085,  0.1097, -0.1842,\n",
       "           0.3242, -0.2291,  0.2278,  0.3221,  0.1535,  0.1126, -0.1620,  0.0696],\n",
       "         [ 0.2050,  0.1678,  0.0591,  0.2194,  0.1573, -0.1848,  0.0249, -0.1017,\n",
       "          -0.0373, -0.1936,  0.0840,  0.1823,  0.2314,  0.0989,  0.0630, -0.0274],\n",
       "         [ 0.0561,  0.0316, -0.1890, -0.0931,  0.0958,  0.1820, -0.1193, -0.1872,\n",
       "           0.0310,  0.0157,  0.0004,  0.0143,  0.0448, -0.1888,  0.2245,  0.1212],\n",
       "         [-0.1599,  0.1608,  0.0060,  0.1291,  0.2539,  0.0907, -0.2505,  0.2524,\n",
       "           0.2708, -0.2415,  0.2280,  0.0169, -0.0927,  0.0358,  0.1577, -0.0877],\n",
       "         [ 0.0059,  0.1097, -0.0852,  0.2099,  0.3139,  0.0432,  0.0161,  0.0492,\n",
       "           0.0792,  0.1759,  0.1045, -0.0298, -0.1457,  0.2320, -0.1906, -0.1576],\n",
       "         [-0.1702, -0.0230, -0.0954,  0.1693, -0.1470, -0.1592, -0.1483,  0.2063,\n",
       "           0.1967, -0.0794,  0.1104, -0.1097,  0.0268,  0.1176, -0.2469, -0.1302],\n",
       "         [-0.1145,  0.1389, -0.0867,  0.2363,  0.3231,  0.0654,  0.0775, -0.0326,\n",
       "           0.1420, -0.1925, -0.1230, -0.0423, -0.2317, -0.0168, -0.0123,  0.0078],\n",
       "         [-0.0506, -0.0950, -0.1413, -0.2434,  0.0428, -0.0641, -0.0807, -0.1332,\n",
       "           0.0122, -0.1516,  0.0118, -0.2370,  0.1876, -0.0191, -0.1100, -0.1037],\n",
       "         [-0.0895,  0.0083, -0.0377, -0.0307,  0.2200,  0.2124, -0.1129, -0.0346,\n",
       "           0.3027, -0.0049,  0.1873,  0.0934, -0.1302, -0.0010, -0.2404, -0.0313]]),\n",
       " 'net.layers.2.gru.bias_ih_l0': Parameter containing:\n",
       " tensor([-0.1021,  0.1367, -0.1145, -0.0398, -0.1658,  0.0864, -0.0085, -0.0116,\n",
       "          0.0071,  0.0496,  0.2508, -0.1898,  0.0777, -0.0656,  0.2029,  0.1892,\n",
       "         -0.1173,  0.0997,  0.2137, -0.1316, -0.0570,  0.2303, -0.1872, -0.0867,\n",
       "         -0.0358,  0.0571, -0.1116,  0.0267, -0.2161,  0.1056,  0.1578, -0.1344,\n",
       "          0.0405, -0.1144, -0.1244,  0.1491, -0.2164, -0.1596,  0.2629,  0.0738,\n",
       "          0.1082,  0.2022, -0.0521, -0.1140,  0.2832,  0.2058, -0.2236,  0.2189]),\n",
       " 'net.layers.2.gru.bias_hh_l0': Parameter containing:\n",
       " tensor([-0.0069,  0.2088, -0.2497, -0.0857,  0.1945, -0.0327, -0.1269,  0.2395,\n",
       "          0.2051,  0.1891,  0.1119,  0.0291,  0.0778, -0.1700, -0.1867, -0.1723,\n",
       "         -0.1098, -0.0620,  0.0787,  0.2598,  0.1184,  0.0825, -0.1891,  0.1264,\n",
       "         -0.0992,  0.1744, -0.0024,  0.0271, -0.0359, -0.1702,  0.1151,  0.2538,\n",
       "          0.1388, -0.1629, -0.1550,  0.0834, -0.2421, -0.1951, -0.1536,  0.1632,\n",
       "          0.2371,  0.0966,  0.0953, -0.1169,  0.0299, -0.0301, -0.1452, -0.1743]),\n",
       " 'net.layers.4.heads.0.linear_block.0.0.weight': Parameter containing:\n",
       " tensor([[ 0.1671, -0.2148, -0.6551,  0.6368,  0.4892,  0.0052,  0.3486, -0.7447,\n",
       "          -0.0843, -0.4345, -0.2894, -0.2442, -0.2654, -0.6125,  0.4365, -0.3989],\n",
       "         [-0.0295, -0.4583, -0.1776, -0.6259, -0.1559,  0.1205, -0.4848,  0.4838,\n",
       "          -0.3201, -0.4859,  0.1477, -0.3143, -0.3180,  0.0075,  0.3462, -0.4357],\n",
       "         [-0.7072, -0.5671,  0.1970,  0.5617, -0.0126, -0.2140,  0.5559,  0.6470,\n",
       "          -0.3322, -0.2133,  0.3303, -0.3024, -0.3571, -0.4090,  0.5282, -0.5419],\n",
       "         [-0.4115,  0.5891,  0.6057, -0.3611, -0.3363,  0.2053,  0.5997,  0.0313,\n",
       "           0.5565, -0.2880, -0.4553,  0.0870,  0.5627,  0.4505, -0.2131, -0.0626],\n",
       "         [-0.4433,  0.1929, -0.1264,  0.6600,  0.5272,  0.1791, -0.0624,  0.1948,\n",
       "           0.3029, -0.2053,  0.6990,  0.0757, -0.2451,  0.5796,  0.6887,  0.0473],\n",
       "         [ 0.0200,  0.2126, -0.1569, -0.3571, -0.3619, -0.2188, -0.3080, -0.5256,\n",
       "          -0.3951,  0.0768, -0.1842, -0.0516, -0.1946,  0.2269,  0.4504, -0.5468],\n",
       "         [-0.4354, -0.6720, -0.1827,  0.4906,  0.3219,  0.3443, -0.3625,  0.5603,\n",
       "           0.1943,  0.3528,  0.5621,  0.2507, -0.3313, -0.1432,  0.7038, -0.3801],\n",
       "         [-0.2713,  0.7007, -0.7064,  0.0780, -0.2845,  0.5697, -0.0836, -0.2770,\n",
       "           0.3113,  0.5698, -0.6498,  0.6956,  0.3503, -0.6117,  0.0047,  0.6303]]),\n",
       " 'net.layers.4.heads.0.linear_block.0.0.bias': Parameter containing:\n",
       " tensor([ 0.0214,  0.0419, -0.0063,  0.0146, -0.0120,  0.0026, -0.0488,  0.0677]),\n",
       " 'net.layers.4.heads.0.linear_block.0.2.weight': Parameter containing:\n",
       " tensor([0.9885, 0.9796, 0.9966, 0.9881, 0.9861, 0.9688, 1.0084, 1.0047]),\n",
       " 'net.layers.4.heads.0.linear_block.0.2.bias': Parameter containing:\n",
       " tensor([-0.0003,  0.0127,  0.0003, -0.0067, -0.0001, -0.0003, -0.0097,  0.0116]),\n",
       " 'net.layers.4.heads.0.linear_block.1.0.weight': Parameter containing:\n",
       " tensor([[-0.4102, -0.8851,  0.5215,  0.0887, -0.0181,  0.5970,  0.6181, -0.2663],\n",
       "         [-0.2042, -0.4347, -0.7420,  0.3127,  0.4100, -0.5930,  0.5384, -0.2085],\n",
       "         [ 0.8152,  0.7398, -0.8718,  0.6387, -0.9469,  1.1445, -0.5048,  0.0178],\n",
       "         [-0.9294, -0.5947,  0.2630,  0.4353,  0.4781, -0.5564, -0.8428,  0.0693]]),\n",
       " 'net.layers.4.heads.0.linear_block.1.0.bias': Parameter containing:\n",
       " tensor([-0.0108, -0.0013, -0.0630, -0.0033]),\n",
       " 'net.layers.4.heads.0.linear_block.1.2.weight': Parameter containing:\n",
       " tensor([0.9910, 0.9810, 1.0082, 0.9518]),\n",
       " 'net.layers.4.heads.0.linear_block.1.2.bias': Parameter containing:\n",
       " tensor([ 0.0077, -0.0076,  0.0074, -0.0192]),\n",
       " 'net.layers.4.heads.0.out_block.weight': Parameter containing:\n",
       " tensor([[ 0.7896, -1.3811,  1.2051, -0.0143]]),\n",
       " 'net.layers.4.heads.0.out_block.bias': Parameter containing:\n",
       " tensor([0.0076])}"
      ]
     },
     "metadata": {},
     "output_type": "display_data"
    }
   ],
   "source": [
    "d(dict(trained_model.net.named_parameters()))"
   ]
  },
  {
   "cell_type": "code",
   "execution_count": 38,
   "metadata": {},
   "outputs": [
    {
     "data": {
      "text/plain": [
       "CHLitModule(\n",
       "  (net): SequentialLitModel(\n",
       "    (layers): Sequential(\n",
       "      (0): EncoderLayer(\n",
       "        (dropout): Dropout(p=0.3, inplace=False)\n",
       "        (embeddings): EmbeddingLayer(\n",
       "          (embeddings): ModuleList(\n",
       "            (0-1): 2 x Embedding(20, 16)\n",
       "            (2): Embedding(7, 16)\n",
       "            (3): Embedding(6, 16)\n",
       "            (4): Embedding(1, 16)\n",
       "            (5): Embedding(4, 16)\n",
       "            (6): Embedding(14, 16)\n",
       "            (7-9): 3 x Embedding(20, 16)\n",
       "            (10-12): 3 x Embedding(2, 16)\n",
       "            (13-14): 2 x Embedding(7, 16)\n",
       "            (15): Embedding(6, 16)\n",
       "            (16): Embedding(5, 16)\n",
       "            (17): Embedding(18, 16)\n",
       "            (18): Embedding(17, 16)\n",
       "          )\n",
       "        )\n",
       "        (out_linear_block): Linear(in_features=310, out_features=16, bias=True)\n",
       "      )\n",
       "      (1): BaseTransformer(\n",
       "        (encoder): Encoder(\n",
       "          (layers): ModuleList(\n",
       "            (0): EncoderLayer(\n",
       "              (attn_layer): MultiHeadAttention(\n",
       "                (linears): ModuleList(\n",
       "                  (0-2): 3 x Linear(in_features=16, out_features=64, bias=True)\n",
       "                )\n",
       "                (attention): ScaledDotProductAttention(\n",
       "                  (softmax_dropout): Sequential(\n",
       "                    (0): Softmax(dim=-1)\n",
       "                    (1): Dropout(p=0.1, inplace=False)\n",
       "                  )\n",
       "                )\n",
       "                (out_block): Linear(in_features=64, out_features=16, bias=True)\n",
       "              )\n",
       "              (ff_layer): PositionwiseFeedForward(\n",
       "                (position_wise_ff): Sequential(\n",
       "                  (0): Linear(in_features=16, out_features=32, bias=True)\n",
       "                  (1): ReLU()\n",
       "                  (2): Linear(in_features=32, out_features=16, bias=True)\n",
       "                )\n",
       "              )\n",
       "              (sub_layers): ModuleDict(\n",
       "                (attention): SubLayer(\n",
       "                  (layer_norm): LayerNorm((16,), eps=1e-05, elementwise_affine=True)\n",
       "                  (dropout): Dropout(p=0.3, inplace=False)\n",
       "                )\n",
       "                (feed_forward): SubLayer(\n",
       "                  (layer_norm): LayerNorm((16,), eps=1e-05, elementwise_affine=True)\n",
       "                  (dropout): Dropout(p=0.3, inplace=False)\n",
       "                )\n",
       "              )\n",
       "            )\n",
       "          )\n",
       "          (layer_norm): LayerNorm((16,), eps=1e-05, elementwise_affine=True)\n",
       "        )\n",
       "      )\n",
       "      (2): GRUAggregator(\n",
       "        (gru): GRU(16, 16, batch_first=True)\n",
       "      )\n",
       "      (3): UseMainSeq()\n",
       "      (4): MultiTaskLinearBlock(\n",
       "        (heads): ModuleList(\n",
       "          (0): LinearBlock(\n",
       "            (dropout): Dropout(p=0.0, inplace=False)\n",
       "            (linear_block): Sequential(\n",
       "              (0): Sequential(\n",
       "                (0): Linear(in_features=16, out_features=8, bias=True)\n",
       "                (1): Tanh()\n",
       "                (2): LayerNorm((8,), eps=1e-05, elementwise_affine=True)\n",
       "              )\n",
       "              (1): Sequential(\n",
       "                (0): Linear(in_features=8, out_features=4, bias=True)\n",
       "                (1): Tanh()\n",
       "                (2): LayerNorm((4,), eps=1e-05, elementwise_affine=True)\n",
       "              )\n",
       "            )\n",
       "            (out_block): Linear(in_features=4, out_features=1, bias=True)\n",
       "            (cls_layers): Sequential(\n",
       "              (0): Dropout(p=0.0, inplace=False)\n",
       "              (1): Sequential(\n",
       "                (0): Sequential(\n",
       "                  (0): Linear(in_features=16, out_features=8, bias=True)\n",
       "                  (1): Tanh()\n",
       "                  (2): LayerNorm((8,), eps=1e-05, elementwise_affine=True)\n",
       "                )\n",
       "                (1): Sequential(\n",
       "                  (0): Linear(in_features=8, out_features=4, bias=True)\n",
       "                  (1): Tanh()\n",
       "                  (2): LayerNorm((4,), eps=1e-05, elementwise_affine=True)\n",
       "                )\n",
       "              )\n",
       "              (2): Linear(in_features=4, out_features=1, bias=True)\n",
       "              (3): Tanh()\n",
       "            )\n",
       "          )\n",
       "        )\n",
       "      )\n",
       "    )\n",
       "  )\n",
       "  (criterion): BCEWithLogitsLoss()\n",
       "  (train_metrics): ModuleDict(\n",
       "    (tanh_output): ModuleDict(\n",
       "      (auroc): BinaryAUROC()\n",
       "    )\n",
       "  )\n",
       "  (val_metrics): ModuleDict(\n",
       "    (tanh_output): ModuleDict(\n",
       "      (auroc): BinaryAUROC()\n",
       "    )\n",
       "  )\n",
       "  (test_metrics): ModuleDict(\n",
       "    (tanh_output): ModuleDict(\n",
       "      (auroc): BinaryAUROC()\n",
       "    )\n",
       "  )\n",
       "  (monitor_metric): CompositionalMetric(\n",
       "    true_divide(\n",
       "      CompositionalMetric(\n",
       "    add(\n",
       "      0,\n",
       "      BinaryAUROC()\n",
       "    )\n",
       "  ),\n",
       "      1\n",
       "    )\n",
       "  )\n",
       "  (train_loss): MeanMetric()\n",
       "  (train_branched_loss): ModuleDict(\n",
       "    (tanh_output): MeanMetric()\n",
       "  )\n",
       "  (val_loss): MeanMetric()\n",
       "  (val_branched_loss): ModuleDict(\n",
       "    (tanh_output): MeanMetric()\n",
       "  )\n",
       "  (test_loss): MeanMetric()\n",
       "  (test_branched_loss): ModuleDict(\n",
       "    (tanh_output): MeanMetric()\n",
       "  )\n",
       "  (val_best_metric): MaxMetric()\n",
       ")"
      ]
     },
     "metadata": {},
     "output_type": "display_data"
    }
   ],
   "source": [
    "d(trained_model.net)"
   ]
  },
  {
   "cell_type": "code",
   "execution_count": 44,
   "metadata": {},
   "outputs": [],
   "source": [
    "from torchmetrics.classification import BinaryAUROC"
   ]
  },
  {
   "cell_type": "code",
   "execution_count": 45,
   "metadata": {},
   "outputs": [
    {
     "data": {
      "text/plain": [
       "tensor(0.7372)"
      ]
     },
     "metadata": {},
     "output_type": "display_data"
    }
   ],
   "source": [
    "test_sample = next(iter(test_dataloader))\n",
    "d(BinaryAUROC()(trained_model.net(test_sample).logits[:, 0], test_sample.targets))"
   ]
  },
  {
   "cell_type": "code",
   "execution_count": 46,
   "metadata": {},
   "outputs": [],
   "source": [
    "preds = [\n",
    "    trained_model.net(sample).logits.ravel() for i, sample in enumerate(test_dataloader) if i < 5\n",
    "]"
   ]
  },
  {
   "cell_type": "code",
   "execution_count": 47,
   "metadata": {},
   "outputs": [],
   "source": [
    "preds = torch.concatenate(preds)"
   ]
  },
  {
   "cell_type": "code",
   "execution_count": 49,
   "metadata": {},
   "outputs": [
    {
     "data": {
      "image/png": "[encoded data removed]",
      "text/plain": [
       "<Figure size 640x480 with 1 Axes>"
      ]
     },
     "metadata": {},
     "output_type": "display_data"
    }
   ],
   "source": [
    "plt.show(plt.hist(preds, bins=50))"
   ]
  },
  {
   "cell_type": "code",
   "execution_count": 50,
   "metadata": {},
   "outputs": [
    {
     "data": {
      "image/png": "[encoded data removed]",
      "text/plain": [
       "<Figure size 640x480 with 1 Axes>"
      ]
     },
     "metadata": {},
     "output_type": "display_data"
    }
   ],
   "source": [
    "plt.show(plt.hist(torch.sigmoid(preds), bins=50))"
   ]
  },
  {
   "cell_type": "code",
   "execution_count": null,
   "metadata": {},
   "outputs": [],
   "source": []
  },
  {
   "cell_type": "code",
   "execution_count": 19,
   "metadata": {},
   "outputs": [],
   "source": [
    "import thunder"
   ]
  },
  {
   "cell_type": "code",
   "execution_count": 26,
   "metadata": {},
   "outputs": [],
   "source": [
    "jit_trained_model = thunder.jit(trained_model.net.net)"
   ]
  },
  {
   "cell_type": "code",
   "execution_count": 27,
   "metadata": {},
   "outputs": [
    {
     "ename": "InterpreterError",
     "evalue": "Encountered exception AttributeError: module 'dis' has no attribute '_parse_exception_table' while tracing SequentialLitModel(\n  (layers): Sequential(\n    (0): EncoderLayer(\n      (dropout): Dropout(p=0.3, inplace=False)\n      (embeddings): EmbeddingLayer(\n        (embeddings): ModuleList(\n          (0-1): 2 x Embedding(18, 32)\n          (2-3): 2 x Embedding(17, 32)\n          (4): Embedding(16, 32)\n          (5): Embedding(20, 32)\n          (6): Embedding(7, 32)\n          (7): Embedding(6, 32)\n          (8): Embedding(4, 32)\n          (9): Embedding(14, 32)\n          (10): Embedding(4, 32)\n          (11-12): 2 x Embedding(7, 32)\n          (13): Embedding(6, 32)\n          (14): Embedding(4, 32)\n          (15-16): 2 x Embedding(2, 32)\n          (17): Embedding(4, 32)\n          (18): Embedding(25, 32)\n          (19): Embedding(5, 32)\n          (20): Embedding(26, 32)\n          (21): Embedding(5, 32)\n          (22): Embedding(27, 32)\n          (23): Embedding(7, 32)\n          (24): Embedding(19, 32)\n          (25): Embedding(9, 32)\n          (26): Embedding(5, 32)\n          (27): Embedding(15, 32)\n          (28-30): 3 x Embedding(20, 32)\n        )\n      )\n      (out_linear_block): Linear(in_features=992, out_features=32, bias=True)\n    )\n    (1): GRUSeqToSeq(\n      (gru): GRU(32, 32, batch_first=True)\n    )\n    (2): ConvPooling(\n      (pooling_layer): AllPoolings()\n      (conv_layer): Conv1d(5, 1, kernel_size=(5,), stride=(1,), padding=same, bias=False)\n    )\n    (3): MultiOutputLinearBlock(\n      (heads): ModuleList(\n        (0): LinearBlock(\n          (dropout): Dropout(p=0.0, inplace=False)\n          (linear_block): Sequential(\n            (0): Sequential(\n              (0): Linear(in_features=32, out_features=16, bias=True)\n              (1): GELU(approximate='none')\n              (2): LayerNorm((16,), eps=1e-05, elementwise_affine=True)\n            )\n            (1): Sequential(\n              (0): Linear(in_features=16, out_features=8, bias=True)\n              (1): GELU(approximate='none')\n              (2): LayerNorm((8,), eps=1e-05, elementwise_affine=True)\n            )\n          )\n          (out_block): Linear(in_features=8, out_features=1, bias=True)\n          (cls_layers): Sequential(\n            (0): Dropout(p=0.0, inplace=False)\n            (1): Sequential(\n              (0): Sequential(\n                (0): Linear(in_features=32, out_features=16, bias=True)\n                (1): GELU(approximate='none')\n                (2): LayerNorm((16,), eps=1e-05, elementwise_affine=True)\n              )\n              (1): Sequential(\n                (0): Linear(in_features=16, out_features=8, bias=True)\n                (1): GELU(approximate='none')\n                (2): LayerNorm((8,), eps=1e-05, elementwise_affine=True)\n              )\n            )\n            (2): Linear(in_features=8, out_features=1, bias=True)\n            (3): GELU(approximate='none')\n          )\n        )\n      )\n    )\n  )\n):\n",
     "output_type": "error",
     "traceback": [
      "\u001b[0;31m---------------------------------------------------------------------------\u001b[0m",
      "\u001b[0;31mAttributeError\u001b[0m                            Traceback (most recent call last)",
      "File \u001b[0;32m~/projects/torch_template/.venv/lib/python3.11/site-packages/thunder/core/interpreter.py:6557\u001b[0m, in \u001b[0;36minterpret.<locals>.fn_\u001b[0;34m(*args, **kwargs)\u001b[0m\n\u001b[1;32m   6555\u001b[0m     populate_attribute_wrapper(wrapped_cell, \u001b[38;5;124m\"\u001b[39m\u001b[38;5;124mcell_contents\u001b[39m\u001b[38;5;124m\"\u001b[39m, fn_wrapped)\n\u001b[0;32m-> 6557\u001b[0m interpretation_result: Any \u001b[38;5;241m=\u001b[39m \u001b[43m_interpret_call\u001b[49m\u001b[43m(\u001b[49m\u001b[43mwrapped_fn_2\u001b[49m\u001b[43m,\u001b[49m\u001b[43m \u001b[49m\u001b[43margs\u001b[49m\u001b[43m,\u001b[49m\u001b[43m \u001b[49m\u001b[43mkwargs\u001b[49m\u001b[43m)\u001b[49m\n\u001b[1;32m   6558\u001b[0m interpretation_result \u001b[38;5;241m=\u001b[39m unwrap(interpretation_result)\n",
      "File \u001b[0;32m~/projects/torch_template/.venv/lib/python3.11/site-packages/thunder/core/interpreter.py:5885\u001b[0m, in \u001b[0;36m_interpret_call\u001b[0;34m(fn, *args, **kwargs)\u001b[0m\n\u001b[1;32m   5884\u001b[0m runtimectx\u001b[38;5;241m.\u001b[39mrecord_interpreter_call(fn)  \u001b[38;5;66;03m# type: ignore\u001b[39;00m\n\u001b[0;32m-> 5885\u001b[0m rval \u001b[38;5;241m=\u001b[39m \u001b[43m_call_dispatch\u001b[49m\u001b[43m(\u001b[49m\u001b[43mcompilectx\u001b[49m\u001b[43m,\u001b[49m\u001b[43m \u001b[49m\u001b[43mruntimectx\u001b[49m\u001b[43m,\u001b[49m\u001b[43m \u001b[49m\u001b[43mfn\u001b[49m\u001b[43m,\u001b[49m\u001b[43m \u001b[49m\u001b[38;5;241;43m*\u001b[39;49m\u001b[43margs\u001b[49m\u001b[43m,\u001b[49m\u001b[43m \u001b[49m\u001b[38;5;241;43m*\u001b[39;49m\u001b[38;5;241;43m*\u001b[39;49m\u001b[43mkwargs\u001b[49m\u001b[43m)\u001b[49m  \u001b[38;5;66;03m# type: ignore\u001b[39;00m\n\u001b[1;32m   5886\u001b[0m \u001b[38;5;28;01mif\u001b[39;00m compilectx\u001b[38;5;241m.\u001b[39m_with_provenance_tracking:\n",
      "File \u001b[0;32m~/projects/torch_template/.venv/lib/python3.11/site-packages/thunder/core/interpreter.py:6114\u001b[0m, in \u001b[0;36m_call_dispatch\u001b[0;34m(compilectx, runtimectx, fn, *args, **kwargs)\u001b[0m\n\u001b[1;32m   6113\u001b[0m \u001b[38;5;28;01massert\u001b[39;00m \u001b[38;5;28misinstance\u001b[39m(fn, FunctionType), \u001b[38;5;124mf\u001b[39m\u001b[38;5;124m\"\u001b[39m\u001b[38;5;132;01m{\u001b[39;00mfn\u001b[38;5;132;01m=}\u001b[39;00m\u001b[38;5;124m had an unexpected type (\u001b[39m\u001b[38;5;132;01m{\u001b[39;00m\u001b[38;5;28mtype\u001b[39m(fn)\u001b[38;5;132;01m}\u001b[39;00m\u001b[38;5;124m\"\u001b[39m\n\u001b[0;32m-> 6114\u001b[0m \u001b[38;5;28;01mreturn\u001b[39;00m \u001b[43m_setup_frame_and_run_python_function\u001b[49m\u001b[43m(\u001b[49m\u001b[43mcompilectx\u001b[49m\u001b[43m,\u001b[49m\u001b[43m \u001b[49m\u001b[43mruntimectx\u001b[49m\u001b[43m,\u001b[49m\u001b[43m \u001b[49m\u001b[43mwrapped_fn\u001b[49m\u001b[43m,\u001b[49m\u001b[43m \u001b[49m\u001b[38;5;241;43m*\u001b[39;49m\u001b[43margs\u001b[49m\u001b[43m,\u001b[49m\u001b[43m \u001b[49m\u001b[38;5;241;43m*\u001b[39;49m\u001b[38;5;241;43m*\u001b[39;49m\u001b[43mkwargs\u001b[49m\u001b[43m)\u001b[49m\n",
      "File \u001b[0;32m~/projects/torch_template/.venv/lib/python3.11/site-packages/thunder/core/interpreter.py:6243\u001b[0m, in \u001b[0;36m_setup_frame_and_run_python_function\u001b[0;34m(compilectx, runtimectx, wrapped_fn, *args, **kwargs)\u001b[0m\n\u001b[1;32m   6242\u001b[0m     tb \u001b[38;5;241m=\u001b[39m TracebackType(e\u001b[38;5;241m.\u001b[39m__traceback__, python_frame, python_frame\u001b[38;5;241m.\u001b[39mf_lasti, python_frame\u001b[38;5;241m.\u001b[39mf_lineno)\n\u001b[0;32m-> 6243\u001b[0m     \u001b[38;5;28;01mraise\u001b[39;00m e\u001b[38;5;241m.\u001b[39mwith_traceback(tb)\n\u001b[1;32m   6244\u001b[0m \u001b[38;5;28;01mreturn\u001b[39;00m res\n",
      "File \u001b[0;32m~/projects/torch_template/.venv/lib/python3.11/site-packages/thunder/core/interpreter.py:6543\u001b[0m, in \u001b[0;36minterpret.<locals>.fn_.<locals>.getfn.<locals>.fn_2\u001b[0;34m()\u001b[0m\n\u001b[1;32m   6542\u001b[0m \u001b[38;5;28;01mdef\u001b[39;00m \u001b[38;5;21mfn_2\u001b[39m(args, kwargs):\n\u001b[0;32m-> 6543\u001b[0m     \u001b[38;5;28;01mreturn\u001b[39;00m fn(\u001b[38;5;241m*\u001b[39margs, \u001b[38;5;241m*\u001b[39m\u001b[38;5;241m*\u001b[39mkwargs)\n",
      "File \u001b[0;32m~/projects/torch_template/.venv/lib/python3.11/site-packages/thunder/core/interpreter.py:6238\u001b[0m, in \u001b[0;36m_setup_frame_and_run_python_function\u001b[0;34m(compilectx, runtimectx, wrapped_fn, *args, **kwargs)\u001b[0m\n\u001b[1;32m   6237\u001b[0m \u001b[38;5;28;01mtry\u001b[39;00m:\n\u001b[0;32m-> 6238\u001b[0m     res, status \u001b[38;5;241m=\u001b[39m \u001b[43m_run_frame\u001b[49m\u001b[43m(\u001b[49m\u001b[43mframe\u001b[49m\u001b[43m,\u001b[49m\u001b[43m \u001b[49m\u001b[43mcompilectx\u001b[49m\u001b[43m,\u001b[49m\u001b[43m \u001b[49m\u001b[43mruntimectx\u001b[49m\u001b[43m)\u001b[49m\n\u001b[1;32m   6239\u001b[0m \u001b[38;5;28;01mexcept\u001b[39;00m \u001b[38;5;167;01mException\u001b[39;00m \u001b[38;5;28;01mas\u001b[39;00m e:\n\u001b[1;32m   6240\u001b[0m     \u001b[38;5;66;03m# We need to cheat a bit to get a Python frame here...\u001b[39;00m\n",
      "File \u001b[0;32m~/projects/torch_template/.venv/lib/python3.11/site-packages/thunder/core/interpreter.py:6284\u001b[0m, in \u001b[0;36m_run_frame\u001b[0;34m(frame, compilectx, runtimectx, send_value)\u001b[0m\n\u001b[1;32m   6283\u001b[0m frame\u001b[38;5;241m.\u001b[39mlasti \u001b[38;5;241m=\u001b[39m frame\u001b[38;5;241m.\u001b[39minst_ptr  \u001b[38;5;66;03m# ???\u001b[39;00m\n\u001b[0;32m-> 6284\u001b[0m interpretation_result: \u001b[38;5;28;01mNone\u001b[39;00m \u001b[38;5;241m|\u001b[39m \u001b[38;5;28mint\u001b[39m \u001b[38;5;241m|\u001b[39m INTERPRETER_SIGNALS \u001b[38;5;241m=\u001b[39m \u001b[43mcompilectx\u001b[49m\u001b[38;5;241;43m.\u001b[39;49m\u001b[43minterpret\u001b[49m\u001b[43m(\u001b[49m\n\u001b[1;32m   6285\u001b[0m \u001b[43m    \u001b[49m\u001b[43minst\u001b[49m\u001b[43m,\u001b[49m\n\u001b[1;32m   6286\u001b[0m \u001b[43m    \u001b[49m\u001b[43minst_ptr\u001b[49m\u001b[38;5;241;43m=\u001b[39;49m\u001b[43mframe\u001b[49m\u001b[38;5;241;43m.\u001b[39;49m\u001b[43minst_ptr\u001b[49m\u001b[43m,\u001b[49m\n\u001b[1;32m   6287\u001b[0m \u001b[43m    \u001b[49m\u001b[43mstack\u001b[49m\u001b[38;5;241;43m=\u001b[39;49m\u001b[43mframe\u001b[49m\u001b[38;5;241;43m.\u001b[39;49m\u001b[43minterpreter_stack\u001b[49m\u001b[43m,\u001b[49m\n\u001b[1;32m   6288\u001b[0m \u001b[43m    \u001b[49m\u001b[43mglobals_dict\u001b[49m\u001b[38;5;241;43m=\u001b[39;49m\u001b[43mframe\u001b[49m\u001b[38;5;241;43m.\u001b[39;49m\u001b[43mglobals\u001b[49m\u001b[43m,\u001b[49m\n\u001b[1;32m   6289\u001b[0m \u001b[43m    \u001b[49m\u001b[43mtry_stack\u001b[49m\u001b[38;5;241;43m=\u001b[39;49m\u001b[43mframe\u001b[49m\u001b[38;5;241;43m.\u001b[39;49m\u001b[43mtry_stack\u001b[49m\u001b[43m,\u001b[49m\n\u001b[1;32m   6290\u001b[0m \u001b[43m    \u001b[49m\u001b[43mexception_stack\u001b[49m\u001b[38;5;241;43m=\u001b[39;49m\u001b[43mruntimectx\u001b[49m\u001b[38;5;241;43m.\u001b[39;49m\u001b[43mexception_stack\u001b[49m\u001b[43m,\u001b[49m\n\u001b[1;32m   6291\u001b[0m \u001b[43m    \u001b[49m\u001b[43mco\u001b[49m\u001b[38;5;241;43m=\u001b[39;49m\u001b[43mframe\u001b[49m\u001b[38;5;241;43m.\u001b[39;49m\u001b[43mcode\u001b[49m\u001b[43m,\u001b[49m\n\u001b[1;32m   6292\u001b[0m \u001b[43m    \u001b[49m\u001b[43mframe\u001b[49m\u001b[38;5;241;43m=\u001b[39;49m\u001b[43mframe\u001b[49m\u001b[43m,\u001b[49m\n\u001b[1;32m   6293\u001b[0m \u001b[43m\u001b[49m\u001b[43m)\u001b[49m\n\u001b[1;32m   6294\u001b[0m \u001b[38;5;28;01mif\u001b[39;00m interpretation_result \u001b[38;5;129;01mis\u001b[39;00m INTERPRETER_SIGNALS\u001b[38;5;241m.\u001b[39mEXCEPTION_RAISED:\n",
      "File \u001b[0;32m~/projects/torch_template/.venv/lib/python3.11/site-packages/thunder/core/interpreter.py:408\u001b[0m, in \u001b[0;36mInterpreterCompileCtx.interpret\u001b[0;34m(self, inst, **interpreter_state)\u001b[0m\n\u001b[1;32m    407\u001b[0m \u001b[38;5;28;01mdef\u001b[39;00m \u001b[38;5;21minterpret\u001b[39m(\u001b[38;5;28mself\u001b[39m, inst: dis\u001b[38;5;241m.\u001b[39mInstruction, \u001b[38;5;241m/\u001b[39m, \u001b[38;5;241m*\u001b[39m\u001b[38;5;241m*\u001b[39minterpreter_state) \u001b[38;5;241m-\u001b[39m\u001b[38;5;241m>\u001b[39m \u001b[38;5;28;01mNone\u001b[39;00m \u001b[38;5;241m|\u001b[39m \u001b[38;5;28mint\u001b[39m \u001b[38;5;241m|\u001b[39m INTERPRETER_SIGNALS:\n\u001b[0;32m--> 408\u001b[0m     \u001b[38;5;28;01mreturn\u001b[39;00m \u001b[38;5;28;43mself\u001b[39;49m\u001b[38;5;241;43m.\u001b[39;49m\u001b[43m_opcode_interpreter\u001b[49m\u001b[43m(\u001b[49m\u001b[43minst\u001b[49m\u001b[43m,\u001b[49m\u001b[43m \u001b[49m\u001b[38;5;241;43m*\u001b[39;49m\u001b[38;5;241;43m*\u001b[39;49m\u001b[43minterpreter_state\u001b[49m\u001b[43m)\u001b[49m\n",
      "File \u001b[0;32m~/projects/torch_template/.venv/lib/python3.11/site-packages/thunder/core/interpreter.py:1206\u001b[0m, in \u001b[0;36mdefault_opcode_interpreter\u001b[0;34m(inst, **interpreter_state)\u001b[0m\n\u001b[1;32m   1205\u001b[0m \u001b[38;5;28;01mwith\u001b[39;00m interpreter_state[\u001b[38;5;124m\"\u001b[39m\u001b[38;5;124mstack\u001b[39m\u001b[38;5;124m\"\u001b[39m]\u001b[38;5;241m.\u001b[39mset_cur_instruction(inst):\n\u001b[0;32m-> 1206\u001b[0m     \u001b[38;5;28;01mreturn\u001b[39;00m \u001b[43mhandler\u001b[49m\u001b[43m(\u001b[49m\u001b[43minst\u001b[49m\u001b[43m,\u001b[49m\u001b[43m \u001b[49m\u001b[38;5;241;43m*\u001b[39;49m\u001b[38;5;241;43m*\u001b[39;49m\u001b[43minterpreter_state\u001b[49m\u001b[43m)\u001b[49m\n",
      "File \u001b[0;32m~/projects/torch_template/.venv/lib/python3.11/site-packages/thunder/core/interpreter.py:3507\u001b[0m, in \u001b[0;36m_call_function_ex_handler\u001b[0;34m(inst, stack, **kwargs)\u001b[0m\n\u001b[1;32m   3506\u001b[0m     kwargs \u001b[38;5;241m=\u001b[39m wrap_kwargs_from_dict(kwargs)\n\u001b[0;32m-> 3507\u001b[0m \u001b[38;5;28;01mreturn\u001b[39;00m check_and_append(stack, \u001b[43m_interpret_call\u001b[49m\u001b[43m(\u001b[49m\u001b[43mfunc\u001b[49m\u001b[43m,\u001b[49m\u001b[43m \u001b[49m\u001b[38;5;241;43m*\u001b[39;49m\u001b[43margs\u001b[49m\u001b[43m,\u001b[49m\u001b[43m \u001b[49m\u001b[38;5;241;43m*\u001b[39;49m\u001b[38;5;241;43m*\u001b[39;49m\u001b[43mkwargs\u001b[49m\u001b[43m)\u001b[49m)\n",
      "File \u001b[0;32m~/projects/torch_template/.venv/lib/python3.11/site-packages/thunder/core/interpreter.py:5885\u001b[0m, in \u001b[0;36m_interpret_call\u001b[0;34m(fn, *args, **kwargs)\u001b[0m\n\u001b[1;32m   5884\u001b[0m runtimectx\u001b[38;5;241m.\u001b[39mrecord_interpreter_call(fn)  \u001b[38;5;66;03m# type: ignore\u001b[39;00m\n\u001b[0;32m-> 5885\u001b[0m rval \u001b[38;5;241m=\u001b[39m \u001b[43m_call_dispatch\u001b[49m\u001b[43m(\u001b[49m\u001b[43mcompilectx\u001b[49m\u001b[43m,\u001b[49m\u001b[43m \u001b[49m\u001b[43mruntimectx\u001b[49m\u001b[43m,\u001b[49m\u001b[43m \u001b[49m\u001b[43mfn\u001b[49m\u001b[43m,\u001b[49m\u001b[43m \u001b[49m\u001b[38;5;241;43m*\u001b[39;49m\u001b[43margs\u001b[49m\u001b[43m,\u001b[49m\u001b[43m \u001b[49m\u001b[38;5;241;43m*\u001b[39;49m\u001b[38;5;241;43m*\u001b[39;49m\u001b[43mkwargs\u001b[49m\u001b[43m)\u001b[49m  \u001b[38;5;66;03m# type: ignore\u001b[39;00m\n\u001b[1;32m   5886\u001b[0m \u001b[38;5;28;01mif\u001b[39;00m compilectx\u001b[38;5;241m.\u001b[39m_with_provenance_tracking:\n",
      "File \u001b[0;32m~/projects/torch_template/.venv/lib/python3.11/site-packages/thunder/core/interpreter.py:6110\u001b[0m, in \u001b[0;36m_call_dispatch\u001b[0;34m(compilectx, runtimectx, fn, *args, **kwargs)\u001b[0m\n\u001b[1;32m   6109\u001b[0m     populate_attribute_wrapper(wrapped_call, \u001b[38;5;124m\"\u001b[39m\u001b[38;5;124m__self__\u001b[39m\u001b[38;5;124m\"\u001b[39m, wrapped_fn)\n\u001b[0;32m-> 6110\u001b[0m     \u001b[38;5;28;01mreturn\u001b[39;00m \u001b[43m_interpret_call\u001b[49m\u001b[43m(\u001b[49m\u001b[43mwrapped_call\u001b[49m\u001b[43m,\u001b[49m\u001b[43m \u001b[49m\u001b[38;5;241;43m*\u001b[39;49m\u001b[43margs\u001b[49m\u001b[43m,\u001b[49m\u001b[43m \u001b[49m\u001b[38;5;241;43m*\u001b[39;49m\u001b[38;5;241;43m*\u001b[39;49m\u001b[43mkwargs\u001b[49m\u001b[43m)\u001b[49m\n\u001b[1;32m   6112\u001b[0m \u001b[38;5;66;03m# (7) interprets into the function\u001b[39;00m\n",
      "File \u001b[0;32m~/projects/torch_template/.venv/lib/python3.11/site-packages/thunder/core/interpreter.py:5885\u001b[0m, in \u001b[0;36m_interpret_call\u001b[0;34m(fn, *args, **kwargs)\u001b[0m\n\u001b[1;32m   5884\u001b[0m runtimectx\u001b[38;5;241m.\u001b[39mrecord_interpreter_call(fn)  \u001b[38;5;66;03m# type: ignore\u001b[39;00m\n\u001b[0;32m-> 5885\u001b[0m rval \u001b[38;5;241m=\u001b[39m \u001b[43m_call_dispatch\u001b[49m\u001b[43m(\u001b[49m\u001b[43mcompilectx\u001b[49m\u001b[43m,\u001b[49m\u001b[43m \u001b[49m\u001b[43mruntimectx\u001b[49m\u001b[43m,\u001b[49m\u001b[43m \u001b[49m\u001b[43mfn\u001b[49m\u001b[43m,\u001b[49m\u001b[43m \u001b[49m\u001b[38;5;241;43m*\u001b[39;49m\u001b[43margs\u001b[49m\u001b[43m,\u001b[49m\u001b[43m \u001b[49m\u001b[38;5;241;43m*\u001b[39;49m\u001b[38;5;241;43m*\u001b[39;49m\u001b[43mkwargs\u001b[49m\u001b[43m)\u001b[49m  \u001b[38;5;66;03m# type: ignore\u001b[39;00m\n\u001b[1;32m   5886\u001b[0m \u001b[38;5;28;01mif\u001b[39;00m compilectx\u001b[38;5;241m.\u001b[39m_with_provenance_tracking:\n",
      "File \u001b[0;32m~/projects/torch_template/.venv/lib/python3.11/site-packages/thunder/core/interpreter.py:5944\u001b[0m, in \u001b[0;36m_call_dispatch\u001b[0;34m(compilectx, runtimectx, fn, *args, **kwargs)\u001b[0m\n\u001b[1;32m   5942\u001b[0m         \u001b[38;5;28;01mreturn\u001b[39;00m fn\u001b[38;5;241m.\u001b[39m\u001b[38;5;18m__func__\u001b[39m(fn\u001b[38;5;241m.\u001b[39m\u001b[38;5;18m__self__\u001b[39m, \u001b[38;5;241m*\u001b[39margs, \u001b[38;5;241m*\u001b[39m\u001b[38;5;241m*\u001b[39mkwargs)\n\u001b[0;32m-> 5944\u001b[0m     \u001b[38;5;28;01mreturn\u001b[39;00m \u001b[43m_interpret_call\u001b[49m\u001b[43m(\u001b[49m\u001b[43m_impl\u001b[49m\u001b[43m,\u001b[49m\u001b[43m \u001b[49m\u001b[43mwrapped_fn\u001b[49m\u001b[43m,\u001b[49m\u001b[43m \u001b[49m\u001b[38;5;241;43m*\u001b[39;49m\u001b[43margs\u001b[49m\u001b[43m,\u001b[49m\u001b[43m \u001b[49m\u001b[38;5;241;43m*\u001b[39;49m\u001b[38;5;241;43m*\u001b[39;49m\u001b[43mkwargs\u001b[49m\u001b[43m)\u001b[49m  \u001b[38;5;66;03m# type: ignore\u001b[39;00m\n\u001b[1;32m   5946\u001b[0m \u001b[38;5;66;03m# (1b) The callable is a builtin method, in which case it's canonicalized\u001b[39;00m\n\u001b[1;32m   5947\u001b[0m \u001b[38;5;66;03m#   A builtin is canonicalized when it's a call on a type or a module (or their equivalent)\u001b[39;00m\n\u001b[1;32m   5948\u001b[0m \u001b[38;5;66;03m#   Ex. The append method of a list\u001b[39;00m\n\u001b[0;32m   (...)\u001b[0m\n\u001b[1;32m   5989\u001b[0m \u001b[38;5;66;03m# NOTE Builtin Methods\u001b[39;00m\n\u001b[1;32m   5990\u001b[0m \u001b[38;5;66;03m#   Builtin methods are not considered methods by inspect.ismethod\u001b[39;00m\n",
      "    \u001b[0;31m[... skipping similar frames: _interpret_call at line 5885 (1 times)]\u001b[0m\n",
      "File \u001b[0;32m~/projects/torch_template/.venv/lib/python3.11/site-packages/thunder/core/interpreter.py:6114\u001b[0m, in \u001b[0;36m_call_dispatch\u001b[0;34m(compilectx, runtimectx, fn, *args, **kwargs)\u001b[0m\n\u001b[1;32m   6113\u001b[0m \u001b[38;5;28;01massert\u001b[39;00m \u001b[38;5;28misinstance\u001b[39m(fn, FunctionType), \u001b[38;5;124mf\u001b[39m\u001b[38;5;124m\"\u001b[39m\u001b[38;5;132;01m{\u001b[39;00mfn\u001b[38;5;132;01m=}\u001b[39;00m\u001b[38;5;124m had an unexpected type (\u001b[39m\u001b[38;5;132;01m{\u001b[39;00m\u001b[38;5;28mtype\u001b[39m(fn)\u001b[38;5;132;01m}\u001b[39;00m\u001b[38;5;124m\"\u001b[39m\n\u001b[0;32m-> 6114\u001b[0m \u001b[38;5;28;01mreturn\u001b[39;00m \u001b[43m_setup_frame_and_run_python_function\u001b[49m\u001b[43m(\u001b[49m\u001b[43mcompilectx\u001b[49m\u001b[43m,\u001b[49m\u001b[43m \u001b[49m\u001b[43mruntimectx\u001b[49m\u001b[43m,\u001b[49m\u001b[43m \u001b[49m\u001b[43mwrapped_fn\u001b[49m\u001b[43m,\u001b[49m\u001b[43m \u001b[49m\u001b[38;5;241;43m*\u001b[39;49m\u001b[43margs\u001b[49m\u001b[43m,\u001b[49m\u001b[43m \u001b[49m\u001b[38;5;241;43m*\u001b[39;49m\u001b[38;5;241;43m*\u001b[39;49m\u001b[43mkwargs\u001b[49m\u001b[43m)\u001b[49m\n",
      "File \u001b[0;32m~/projects/torch_template/.venv/lib/python3.11/site-packages/thunder/core/interpreter.py:6243\u001b[0m, in \u001b[0;36m_setup_frame_and_run_python_function\u001b[0;34m(compilectx, runtimectx, wrapped_fn, *args, **kwargs)\u001b[0m\n\u001b[1;32m   6242\u001b[0m     tb \u001b[38;5;241m=\u001b[39m TracebackType(e\u001b[38;5;241m.\u001b[39m__traceback__, python_frame, python_frame\u001b[38;5;241m.\u001b[39mf_lasti, python_frame\u001b[38;5;241m.\u001b[39mf_lineno)\n\u001b[0;32m-> 6243\u001b[0m     \u001b[38;5;28;01mraise\u001b[39;00m e\u001b[38;5;241m.\u001b[39mwith_traceback(tb)\n\u001b[1;32m   6244\u001b[0m \u001b[38;5;28;01mreturn\u001b[39;00m res\n",
      "File \u001b[0;32m~/projects/torch_template/.venv/lib/python3.11/site-packages/thunder/core/interpreter.py:5942\u001b[0m, in \u001b[0;36m_call_dispatch.<locals>._impl\u001b[0;34m()\u001b[0m\n\u001b[1;32m   5941\u001b[0m \u001b[38;5;28;01mdef\u001b[39;00m \u001b[38;5;21m_impl\u001b[39m(fn, \u001b[38;5;241m*\u001b[39margs, \u001b[38;5;241m*\u001b[39m\u001b[38;5;241m*\u001b[39mkwargs):\n\u001b[0;32m-> 5942\u001b[0m     \u001b[38;5;28;01mreturn\u001b[39;00m fn\u001b[38;5;241m.\u001b[39m\u001b[38;5;18m__func__\u001b[39m(fn\u001b[38;5;241m.\u001b[39m\u001b[38;5;18m__self__\u001b[39m, \u001b[38;5;241m*\u001b[39margs, \u001b[38;5;241m*\u001b[39m\u001b[38;5;241m*\u001b[39mkwargs)\n",
      "File \u001b[0;32m~/projects/torch_template/.venv/lib/python3.11/site-packages/thunder/core/interpreter.py:6238\u001b[0m, in \u001b[0;36m_setup_frame_and_run_python_function\u001b[0;34m(compilectx, runtimectx, wrapped_fn, *args, **kwargs)\u001b[0m\n\u001b[1;32m   6237\u001b[0m \u001b[38;5;28;01mtry\u001b[39;00m:\n\u001b[0;32m-> 6238\u001b[0m     res, status \u001b[38;5;241m=\u001b[39m \u001b[43m_run_frame\u001b[49m\u001b[43m(\u001b[49m\u001b[43mframe\u001b[49m\u001b[43m,\u001b[49m\u001b[43m \u001b[49m\u001b[43mcompilectx\u001b[49m\u001b[43m,\u001b[49m\u001b[43m \u001b[49m\u001b[43mruntimectx\u001b[49m\u001b[43m)\u001b[49m\n\u001b[1;32m   6239\u001b[0m \u001b[38;5;28;01mexcept\u001b[39;00m \u001b[38;5;167;01mException\u001b[39;00m \u001b[38;5;28;01mas\u001b[39;00m e:\n\u001b[1;32m   6240\u001b[0m     \u001b[38;5;66;03m# We need to cheat a bit to get a Python frame here...\u001b[39;00m\n",
      "File \u001b[0;32m~/projects/torch_template/.venv/lib/python3.11/site-packages/thunder/core/interpreter.py:6284\u001b[0m, in \u001b[0;36m_run_frame\u001b[0;34m(frame, compilectx, runtimectx, send_value)\u001b[0m\n\u001b[1;32m   6283\u001b[0m frame\u001b[38;5;241m.\u001b[39mlasti \u001b[38;5;241m=\u001b[39m frame\u001b[38;5;241m.\u001b[39minst_ptr  \u001b[38;5;66;03m# ???\u001b[39;00m\n\u001b[0;32m-> 6284\u001b[0m interpretation_result: \u001b[38;5;28;01mNone\u001b[39;00m \u001b[38;5;241m|\u001b[39m \u001b[38;5;28mint\u001b[39m \u001b[38;5;241m|\u001b[39m INTERPRETER_SIGNALS \u001b[38;5;241m=\u001b[39m \u001b[43mcompilectx\u001b[49m\u001b[38;5;241;43m.\u001b[39;49m\u001b[43minterpret\u001b[49m\u001b[43m(\u001b[49m\n\u001b[1;32m   6285\u001b[0m \u001b[43m    \u001b[49m\u001b[43minst\u001b[49m\u001b[43m,\u001b[49m\n\u001b[1;32m   6286\u001b[0m \u001b[43m    \u001b[49m\u001b[43minst_ptr\u001b[49m\u001b[38;5;241;43m=\u001b[39;49m\u001b[43mframe\u001b[49m\u001b[38;5;241;43m.\u001b[39;49m\u001b[43minst_ptr\u001b[49m\u001b[43m,\u001b[49m\n\u001b[1;32m   6287\u001b[0m \u001b[43m    \u001b[49m\u001b[43mstack\u001b[49m\u001b[38;5;241;43m=\u001b[39;49m\u001b[43mframe\u001b[49m\u001b[38;5;241;43m.\u001b[39;49m\u001b[43minterpreter_stack\u001b[49m\u001b[43m,\u001b[49m\n\u001b[1;32m   6288\u001b[0m \u001b[43m    \u001b[49m\u001b[43mglobals_dict\u001b[49m\u001b[38;5;241;43m=\u001b[39;49m\u001b[43mframe\u001b[49m\u001b[38;5;241;43m.\u001b[39;49m\u001b[43mglobals\u001b[49m\u001b[43m,\u001b[49m\n\u001b[1;32m   6289\u001b[0m \u001b[43m    \u001b[49m\u001b[43mtry_stack\u001b[49m\u001b[38;5;241;43m=\u001b[39;49m\u001b[43mframe\u001b[49m\u001b[38;5;241;43m.\u001b[39;49m\u001b[43mtry_stack\u001b[49m\u001b[43m,\u001b[49m\n\u001b[1;32m   6290\u001b[0m \u001b[43m    \u001b[49m\u001b[43mexception_stack\u001b[49m\u001b[38;5;241;43m=\u001b[39;49m\u001b[43mruntimectx\u001b[49m\u001b[38;5;241;43m.\u001b[39;49m\u001b[43mexception_stack\u001b[49m\u001b[43m,\u001b[49m\n\u001b[1;32m   6291\u001b[0m \u001b[43m    \u001b[49m\u001b[43mco\u001b[49m\u001b[38;5;241;43m=\u001b[39;49m\u001b[43mframe\u001b[49m\u001b[38;5;241;43m.\u001b[39;49m\u001b[43mcode\u001b[49m\u001b[43m,\u001b[49m\n\u001b[1;32m   6292\u001b[0m \u001b[43m    \u001b[49m\u001b[43mframe\u001b[49m\u001b[38;5;241;43m=\u001b[39;49m\u001b[43mframe\u001b[49m\u001b[43m,\u001b[49m\n\u001b[1;32m   6293\u001b[0m \u001b[43m\u001b[49m\u001b[43m)\u001b[49m\n\u001b[1;32m   6294\u001b[0m \u001b[38;5;28;01mif\u001b[39;00m interpretation_result \u001b[38;5;129;01mis\u001b[39;00m INTERPRETER_SIGNALS\u001b[38;5;241m.\u001b[39mEXCEPTION_RAISED:\n",
      "File \u001b[0;32m~/projects/torch_template/.venv/lib/python3.11/site-packages/thunder/core/interpreter.py:408\u001b[0m, in \u001b[0;36mInterpreterCompileCtx.interpret\u001b[0;34m(self, inst, **interpreter_state)\u001b[0m\n\u001b[1;32m    407\u001b[0m \u001b[38;5;28;01mdef\u001b[39;00m \u001b[38;5;21minterpret\u001b[39m(\u001b[38;5;28mself\u001b[39m, inst: dis\u001b[38;5;241m.\u001b[39mInstruction, \u001b[38;5;241m/\u001b[39m, \u001b[38;5;241m*\u001b[39m\u001b[38;5;241m*\u001b[39minterpreter_state) \u001b[38;5;241m-\u001b[39m\u001b[38;5;241m>\u001b[39m \u001b[38;5;28;01mNone\u001b[39;00m \u001b[38;5;241m|\u001b[39m \u001b[38;5;28mint\u001b[39m \u001b[38;5;241m|\u001b[39m INTERPRETER_SIGNALS:\n\u001b[0;32m--> 408\u001b[0m     \u001b[38;5;28;01mreturn\u001b[39;00m \u001b[38;5;28;43mself\u001b[39;49m\u001b[38;5;241;43m.\u001b[39;49m\u001b[43m_opcode_interpreter\u001b[49m\u001b[43m(\u001b[49m\u001b[43minst\u001b[49m\u001b[43m,\u001b[49m\u001b[43m \u001b[49m\u001b[38;5;241;43m*\u001b[39;49m\u001b[38;5;241;43m*\u001b[39;49m\u001b[43minterpreter_state\u001b[49m\u001b[43m)\u001b[49m\n",
      "File \u001b[0;32m~/projects/torch_template/.venv/lib/python3.11/site-packages/thunder/core/interpreter.py:1206\u001b[0m, in \u001b[0;36mdefault_opcode_interpreter\u001b[0;34m(inst, **interpreter_state)\u001b[0m\n\u001b[1;32m   1205\u001b[0m \u001b[38;5;28;01mwith\u001b[39;00m interpreter_state[\u001b[38;5;124m\"\u001b[39m\u001b[38;5;124mstack\u001b[39m\u001b[38;5;124m\"\u001b[39m]\u001b[38;5;241m.\u001b[39mset_cur_instruction(inst):\n\u001b[0;32m-> 1206\u001b[0m     \u001b[38;5;28;01mreturn\u001b[39;00m \u001b[43mhandler\u001b[49m\u001b[43m(\u001b[49m\u001b[43minst\u001b[49m\u001b[43m,\u001b[49m\u001b[43m \u001b[49m\u001b[38;5;241;43m*\u001b[39;49m\u001b[38;5;241;43m*\u001b[39;49m\u001b[43minterpreter_state\u001b[49m\u001b[43m)\u001b[49m\n",
      "File \u001b[0;32m~/projects/torch_template/.venv/lib/python3.11/site-packages/thunder/core/interpreter.py:3507\u001b[0m, in \u001b[0;36m_call_function_ex_handler\u001b[0;34m(inst, stack, **kwargs)\u001b[0m\n\u001b[1;32m   3506\u001b[0m     kwargs \u001b[38;5;241m=\u001b[39m wrap_kwargs_from_dict(kwargs)\n\u001b[0;32m-> 3507\u001b[0m \u001b[38;5;28;01mreturn\u001b[39;00m check_and_append(stack, \u001b[43m_interpret_call\u001b[49m\u001b[43m(\u001b[49m\u001b[43mfunc\u001b[49m\u001b[43m,\u001b[49m\u001b[43m \u001b[49m\u001b[38;5;241;43m*\u001b[39;49m\u001b[43margs\u001b[49m\u001b[43m,\u001b[49m\u001b[43m \u001b[49m\u001b[38;5;241;43m*\u001b[39;49m\u001b[38;5;241;43m*\u001b[39;49m\u001b[43mkwargs\u001b[49m\u001b[43m)\u001b[49m)\n",
      "    \u001b[0;31m[... skipping similar frames: _interpret_call at line 5885 (1 times)]\u001b[0m\n",
      "File \u001b[0;32m~/projects/torch_template/.venv/lib/python3.11/site-packages/thunder/core/interpreter.py:6114\u001b[0m, in \u001b[0;36m_call_dispatch\u001b[0;34m(compilectx, runtimectx, fn, *args, **kwargs)\u001b[0m\n\u001b[1;32m   6113\u001b[0m \u001b[38;5;28;01massert\u001b[39;00m \u001b[38;5;28misinstance\u001b[39m(fn, FunctionType), \u001b[38;5;124mf\u001b[39m\u001b[38;5;124m\"\u001b[39m\u001b[38;5;132;01m{\u001b[39;00mfn\u001b[38;5;132;01m=}\u001b[39;00m\u001b[38;5;124m had an unexpected type (\u001b[39m\u001b[38;5;132;01m{\u001b[39;00m\u001b[38;5;28mtype\u001b[39m(fn)\u001b[38;5;132;01m}\u001b[39;00m\u001b[38;5;124m\"\u001b[39m\n\u001b[0;32m-> 6114\u001b[0m \u001b[38;5;28;01mreturn\u001b[39;00m \u001b[43m_setup_frame_and_run_python_function\u001b[49m\u001b[43m(\u001b[49m\u001b[43mcompilectx\u001b[49m\u001b[43m,\u001b[49m\u001b[43m \u001b[49m\u001b[43mruntimectx\u001b[49m\u001b[43m,\u001b[49m\u001b[43m \u001b[49m\u001b[43mwrapped_fn\u001b[49m\u001b[43m,\u001b[49m\u001b[43m \u001b[49m\u001b[38;5;241;43m*\u001b[39;49m\u001b[43margs\u001b[49m\u001b[43m,\u001b[49m\u001b[43m \u001b[49m\u001b[38;5;241;43m*\u001b[39;49m\u001b[38;5;241;43m*\u001b[39;49m\u001b[43mkwargs\u001b[49m\u001b[43m)\u001b[49m\n",
      "File \u001b[0;32m~/projects/torch_template/.venv/lib/python3.11/site-packages/thunder/core/interpreter.py:6243\u001b[0m, in \u001b[0;36m_setup_frame_and_run_python_function\u001b[0;34m(compilectx, runtimectx, wrapped_fn, *args, **kwargs)\u001b[0m\n\u001b[1;32m   6242\u001b[0m     tb \u001b[38;5;241m=\u001b[39m TracebackType(e\u001b[38;5;241m.\u001b[39m__traceback__, python_frame, python_frame\u001b[38;5;241m.\u001b[39mf_lasti, python_frame\u001b[38;5;241m.\u001b[39mf_lineno)\n\u001b[0;32m-> 6243\u001b[0m     \u001b[38;5;28;01mraise\u001b[39;00m e\u001b[38;5;241m.\u001b[39mwith_traceback(tb)\n\u001b[1;32m   6244\u001b[0m \u001b[38;5;28;01mreturn\u001b[39;00m res\n",
      "File \u001b[0;32m~/projects/torch_template/.venv/lib/python3.11/site-packages/torch/nn/modules/module.py:1511\u001b[0m, in \u001b[0;36mModule._wrapped_call_impl\u001b[0;34m()\u001b[0m\n\u001b[1;32m   1510\u001b[0m \u001b[38;5;28;01melse\u001b[39;00m:\n\u001b[0;32m-> 1511\u001b[0m     \u001b[38;5;28;01mreturn\u001b[39;00m \u001b[38;5;28mself\u001b[39m\u001b[38;5;241m.\u001b[39m_call_impl(\u001b[38;5;241m*\u001b[39margs, \u001b[38;5;241m*\u001b[39m\u001b[38;5;241m*\u001b[39mkwargs)\n",
      "    \u001b[0;31m[... skipping similar frames: _call_function_ex_handler at line 3507 (1 times), _interpret_call at line 5885 (1 times), _run_frame at line 6284 (1 times), _setup_frame_and_run_python_function at line 6238 (1 times), default_opcode_interpreter at line 1206 (1 times), InterpreterCompileCtx.interpret at line 408 (1 times)]\u001b[0m\n",
      "File \u001b[0;32m~/projects/torch_template/.venv/lib/python3.11/site-packages/thunder/core/interpreter.py:5944\u001b[0m, in \u001b[0;36m_call_dispatch\u001b[0;34m(compilectx, runtimectx, fn, *args, **kwargs)\u001b[0m\n\u001b[1;32m   5942\u001b[0m         \u001b[38;5;28;01mreturn\u001b[39;00m fn\u001b[38;5;241m.\u001b[39m\u001b[38;5;18m__func__\u001b[39m(fn\u001b[38;5;241m.\u001b[39m\u001b[38;5;18m__self__\u001b[39m, \u001b[38;5;241m*\u001b[39margs, \u001b[38;5;241m*\u001b[39m\u001b[38;5;241m*\u001b[39mkwargs)\n\u001b[0;32m-> 5944\u001b[0m     \u001b[38;5;28;01mreturn\u001b[39;00m \u001b[43m_interpret_call\u001b[49m\u001b[43m(\u001b[49m\u001b[43m_impl\u001b[49m\u001b[43m,\u001b[49m\u001b[43m \u001b[49m\u001b[43mwrapped_fn\u001b[49m\u001b[43m,\u001b[49m\u001b[43m \u001b[49m\u001b[38;5;241;43m*\u001b[39;49m\u001b[43margs\u001b[49m\u001b[43m,\u001b[49m\u001b[43m \u001b[49m\u001b[38;5;241;43m*\u001b[39;49m\u001b[38;5;241;43m*\u001b[39;49m\u001b[43mkwargs\u001b[49m\u001b[43m)\u001b[49m  \u001b[38;5;66;03m# type: ignore\u001b[39;00m\n\u001b[1;32m   5946\u001b[0m \u001b[38;5;66;03m# (1b) The callable is a builtin method, in which case it's canonicalized\u001b[39;00m\n\u001b[1;32m   5947\u001b[0m \u001b[38;5;66;03m#   A builtin is canonicalized when it's a call on a type or a module (or their equivalent)\u001b[39;00m\n\u001b[1;32m   5948\u001b[0m \u001b[38;5;66;03m#   Ex. The append method of a list\u001b[39;00m\n\u001b[0;32m   (...)\u001b[0m\n\u001b[1;32m   5989\u001b[0m \u001b[38;5;66;03m# NOTE Builtin Methods\u001b[39;00m\n\u001b[1;32m   5990\u001b[0m \u001b[38;5;66;03m#   Builtin methods are not considered methods by inspect.ismethod\u001b[39;00m\n",
      "    \u001b[0;31m[... skipping similar frames: _call_dispatch at line 6114 (1 times), _interpret_call at line 5885 (1 times), _setup_frame_and_run_python_function at line 6243 (1 times)]\u001b[0m\n",
      "File \u001b[0;32m~/projects/torch_template/.venv/lib/python3.11/site-packages/thunder/core/interpreter.py:5942\u001b[0m, in \u001b[0;36m_call_dispatch.<locals>._impl\u001b[0;34m()\u001b[0m\n\u001b[1;32m   5941\u001b[0m \u001b[38;5;28;01mdef\u001b[39;00m \u001b[38;5;21m_impl\u001b[39m(fn, \u001b[38;5;241m*\u001b[39margs, \u001b[38;5;241m*\u001b[39m\u001b[38;5;241m*\u001b[39mkwargs):\n\u001b[0;32m-> 5942\u001b[0m     \u001b[38;5;28;01mreturn\u001b[39;00m fn\u001b[38;5;241m.\u001b[39m\u001b[38;5;18m__func__\u001b[39m(fn\u001b[38;5;241m.\u001b[39m\u001b[38;5;18m__self__\u001b[39m, \u001b[38;5;241m*\u001b[39margs, \u001b[38;5;241m*\u001b[39m\u001b[38;5;241m*\u001b[39mkwargs)\n",
      "    \u001b[0;31m[... skipping similar frames: _call_dispatch at line 6114 (1 times), _call_function_ex_handler at line 3507 (1 times), _interpret_call at line 5885 (1 times), _run_frame at line 6284 (1 times), _setup_frame_and_run_python_function at line 6238 (1 times), _setup_frame_and_run_python_function at line 6243 (1 times), default_opcode_interpreter at line 1206 (1 times), InterpreterCompileCtx.interpret at line 408 (1 times)]\u001b[0m\n",
      "File \u001b[0;32m~/projects/torch_template/.venv/lib/python3.11/site-packages/torch/nn/modules/module.py:1520\u001b[0m, in \u001b[0;36mModule._call_impl\u001b[0;34m()\u001b[0m\n\u001b[1;32m   1517\u001b[0m \u001b[38;5;28;01mif\u001b[39;00m \u001b[38;5;129;01mnot\u001b[39;00m (\u001b[38;5;28mself\u001b[39m\u001b[38;5;241m.\u001b[39m_backward_hooks \u001b[38;5;129;01mor\u001b[39;00m \u001b[38;5;28mself\u001b[39m\u001b[38;5;241m.\u001b[39m_backward_pre_hooks \u001b[38;5;129;01mor\u001b[39;00m \u001b[38;5;28mself\u001b[39m\u001b[38;5;241m.\u001b[39m_forward_hooks \u001b[38;5;129;01mor\u001b[39;00m \u001b[38;5;28mself\u001b[39m\u001b[38;5;241m.\u001b[39m_forward_pre_hooks\n\u001b[1;32m   1518\u001b[0m         \u001b[38;5;129;01mor\u001b[39;00m _global_backward_pre_hooks \u001b[38;5;129;01mor\u001b[39;00m _global_backward_hooks\n\u001b[1;32m   1519\u001b[0m         \u001b[38;5;129;01mor\u001b[39;00m _global_forward_hooks \u001b[38;5;129;01mor\u001b[39;00m _global_forward_pre_hooks):\n\u001b[0;32m-> 1520\u001b[0m     \u001b[38;5;28;01mreturn\u001b[39;00m forward_call(\u001b[38;5;241m*\u001b[39margs, \u001b[38;5;241m*\u001b[39m\u001b[38;5;241m*\u001b[39mkwargs)\n\u001b[1;32m   1522\u001b[0m \u001b[38;5;28;01mtry\u001b[39;00m:\n",
      "    \u001b[0;31m[... skipping similar frames: _call_function_ex_handler at line 3507 (1 times), _interpret_call at line 5885 (1 times), _run_frame at line 6284 (1 times), _setup_frame_and_run_python_function at line 6238 (1 times), default_opcode_interpreter at line 1206 (1 times), InterpreterCompileCtx.interpret at line 408 (1 times)]\u001b[0m\n",
      "File \u001b[0;32m~/projects/torch_template/.venv/lib/python3.11/site-packages/thunder/core/interpreter.py:5944\u001b[0m, in \u001b[0;36m_call_dispatch\u001b[0;34m(compilectx, runtimectx, fn, *args, **kwargs)\u001b[0m\n\u001b[1;32m   5942\u001b[0m         \u001b[38;5;28;01mreturn\u001b[39;00m fn\u001b[38;5;241m.\u001b[39m\u001b[38;5;18m__func__\u001b[39m(fn\u001b[38;5;241m.\u001b[39m\u001b[38;5;18m__self__\u001b[39m, \u001b[38;5;241m*\u001b[39margs, \u001b[38;5;241m*\u001b[39m\u001b[38;5;241m*\u001b[39mkwargs)\n\u001b[0;32m-> 5944\u001b[0m     \u001b[38;5;28;01mreturn\u001b[39;00m \u001b[43m_interpret_call\u001b[49m\u001b[43m(\u001b[49m\u001b[43m_impl\u001b[49m\u001b[43m,\u001b[49m\u001b[43m \u001b[49m\u001b[43mwrapped_fn\u001b[49m\u001b[43m,\u001b[49m\u001b[43m \u001b[49m\u001b[38;5;241;43m*\u001b[39;49m\u001b[43margs\u001b[49m\u001b[43m,\u001b[49m\u001b[43m \u001b[49m\u001b[38;5;241;43m*\u001b[39;49m\u001b[38;5;241;43m*\u001b[39;49m\u001b[43mkwargs\u001b[49m\u001b[43m)\u001b[49m  \u001b[38;5;66;03m# type: ignore\u001b[39;00m\n\u001b[1;32m   5946\u001b[0m \u001b[38;5;66;03m# (1b) The callable is a builtin method, in which case it's canonicalized\u001b[39;00m\n\u001b[1;32m   5947\u001b[0m \u001b[38;5;66;03m#   A builtin is canonicalized when it's a call on a type or a module (or their equivalent)\u001b[39;00m\n\u001b[1;32m   5948\u001b[0m \u001b[38;5;66;03m#   Ex. The append method of a list\u001b[39;00m\n\u001b[0;32m   (...)\u001b[0m\n\u001b[1;32m   5989\u001b[0m \u001b[38;5;66;03m# NOTE Builtin Methods\u001b[39;00m\n\u001b[1;32m   5990\u001b[0m \u001b[38;5;66;03m#   Builtin methods are not considered methods by inspect.ismethod\u001b[39;00m\n",
      "    \u001b[0;31m[... skipping similar frames: _call_dispatch at line 6114 (1 times), _interpret_call at line 5885 (1 times), _setup_frame_and_run_python_function at line 6243 (1 times)]\u001b[0m\n",
      "File \u001b[0;32m~/projects/torch_template/.venv/lib/python3.11/site-packages/thunder/core/interpreter.py:5942\u001b[0m, in \u001b[0;36m_call_dispatch.<locals>._impl\u001b[0;34m()\u001b[0m\n\u001b[1;32m   5941\u001b[0m \u001b[38;5;28;01mdef\u001b[39;00m \u001b[38;5;21m_impl\u001b[39m(fn, \u001b[38;5;241m*\u001b[39margs, \u001b[38;5;241m*\u001b[39m\u001b[38;5;241m*\u001b[39mkwargs):\n\u001b[0;32m-> 5942\u001b[0m     \u001b[38;5;28;01mreturn\u001b[39;00m fn\u001b[38;5;241m.\u001b[39m\u001b[38;5;18m__func__\u001b[39m(fn\u001b[38;5;241m.\u001b[39m\u001b[38;5;18m__self__\u001b[39m, \u001b[38;5;241m*\u001b[39margs, \u001b[38;5;241m*\u001b[39m\u001b[38;5;241m*\u001b[39mkwargs)\n",
      "File \u001b[0;32m~/projects/torch_template/.venv/lib/python3.11/site-packages/thunder/core/interpreter.py:6238\u001b[0m, in \u001b[0;36m_setup_frame_and_run_python_function\u001b[0;34m(compilectx, runtimectx, wrapped_fn, *args, **kwargs)\u001b[0m\n\u001b[1;32m   6237\u001b[0m \u001b[38;5;28;01mtry\u001b[39;00m:\n\u001b[0;32m-> 6238\u001b[0m     res, status \u001b[38;5;241m=\u001b[39m \u001b[43m_run_frame\u001b[49m\u001b[43m(\u001b[49m\u001b[43mframe\u001b[49m\u001b[43m,\u001b[49m\u001b[43m \u001b[49m\u001b[43mcompilectx\u001b[49m\u001b[43m,\u001b[49m\u001b[43m \u001b[49m\u001b[43mruntimectx\u001b[49m\u001b[43m)\u001b[49m\n\u001b[1;32m   6239\u001b[0m \u001b[38;5;28;01mexcept\u001b[39;00m \u001b[38;5;167;01mException\u001b[39;00m \u001b[38;5;28;01mas\u001b[39;00m e:\n\u001b[1;32m   6240\u001b[0m     \u001b[38;5;66;03m# We need to cheat a bit to get a Python frame here...\u001b[39;00m\n",
      "File \u001b[0;32m~/projects/torch_template/.venv/lib/python3.11/site-packages/thunder/core/interpreter.py:6284\u001b[0m, in \u001b[0;36m_run_frame\u001b[0;34m(frame, compilectx, runtimectx, send_value)\u001b[0m\n\u001b[1;32m   6283\u001b[0m frame\u001b[38;5;241m.\u001b[39mlasti \u001b[38;5;241m=\u001b[39m frame\u001b[38;5;241m.\u001b[39minst_ptr  \u001b[38;5;66;03m# ???\u001b[39;00m\n\u001b[0;32m-> 6284\u001b[0m interpretation_result: \u001b[38;5;28;01mNone\u001b[39;00m \u001b[38;5;241m|\u001b[39m \u001b[38;5;28mint\u001b[39m \u001b[38;5;241m|\u001b[39m INTERPRETER_SIGNALS \u001b[38;5;241m=\u001b[39m \u001b[43mcompilectx\u001b[49m\u001b[38;5;241;43m.\u001b[39;49m\u001b[43minterpret\u001b[49m\u001b[43m(\u001b[49m\n\u001b[1;32m   6285\u001b[0m \u001b[43m    \u001b[49m\u001b[43minst\u001b[49m\u001b[43m,\u001b[49m\n\u001b[1;32m   6286\u001b[0m \u001b[43m    \u001b[49m\u001b[43minst_ptr\u001b[49m\u001b[38;5;241;43m=\u001b[39;49m\u001b[43mframe\u001b[49m\u001b[38;5;241;43m.\u001b[39;49m\u001b[43minst_ptr\u001b[49m\u001b[43m,\u001b[49m\n\u001b[1;32m   6287\u001b[0m \u001b[43m    \u001b[49m\u001b[43mstack\u001b[49m\u001b[38;5;241;43m=\u001b[39;49m\u001b[43mframe\u001b[49m\u001b[38;5;241;43m.\u001b[39;49m\u001b[43minterpreter_stack\u001b[49m\u001b[43m,\u001b[49m\n\u001b[1;32m   6288\u001b[0m \u001b[43m    \u001b[49m\u001b[43mglobals_dict\u001b[49m\u001b[38;5;241;43m=\u001b[39;49m\u001b[43mframe\u001b[49m\u001b[38;5;241;43m.\u001b[39;49m\u001b[43mglobals\u001b[49m\u001b[43m,\u001b[49m\n\u001b[1;32m   6289\u001b[0m \u001b[43m    \u001b[49m\u001b[43mtry_stack\u001b[49m\u001b[38;5;241;43m=\u001b[39;49m\u001b[43mframe\u001b[49m\u001b[38;5;241;43m.\u001b[39;49m\u001b[43mtry_stack\u001b[49m\u001b[43m,\u001b[49m\n\u001b[1;32m   6290\u001b[0m \u001b[43m    \u001b[49m\u001b[43mexception_stack\u001b[49m\u001b[38;5;241;43m=\u001b[39;49m\u001b[43mruntimectx\u001b[49m\u001b[38;5;241;43m.\u001b[39;49m\u001b[43mexception_stack\u001b[49m\u001b[43m,\u001b[49m\n\u001b[1;32m   6291\u001b[0m \u001b[43m    \u001b[49m\u001b[43mco\u001b[49m\u001b[38;5;241;43m=\u001b[39;49m\u001b[43mframe\u001b[49m\u001b[38;5;241;43m.\u001b[39;49m\u001b[43mcode\u001b[49m\u001b[43m,\u001b[49m\n\u001b[1;32m   6292\u001b[0m \u001b[43m    \u001b[49m\u001b[43mframe\u001b[49m\u001b[38;5;241;43m=\u001b[39;49m\u001b[43mframe\u001b[49m\u001b[43m,\u001b[49m\n\u001b[1;32m   6293\u001b[0m \u001b[43m\u001b[49m\u001b[43m)\u001b[49m\n\u001b[1;32m   6294\u001b[0m \u001b[38;5;28;01mif\u001b[39;00m interpretation_result \u001b[38;5;129;01mis\u001b[39;00m INTERPRETER_SIGNALS\u001b[38;5;241m.\u001b[39mEXCEPTION_RAISED:\n",
      "File \u001b[0;32m~/projects/torch_template/.venv/lib/python3.11/site-packages/thunder/core/interpreter.py:408\u001b[0m, in \u001b[0;36mInterpreterCompileCtx.interpret\u001b[0;34m(self, inst, **interpreter_state)\u001b[0m\n\u001b[1;32m    407\u001b[0m \u001b[38;5;28;01mdef\u001b[39;00m \u001b[38;5;21minterpret\u001b[39m(\u001b[38;5;28mself\u001b[39m, inst: dis\u001b[38;5;241m.\u001b[39mInstruction, \u001b[38;5;241m/\u001b[39m, \u001b[38;5;241m*\u001b[39m\u001b[38;5;241m*\u001b[39minterpreter_state) \u001b[38;5;241m-\u001b[39m\u001b[38;5;241m>\u001b[39m \u001b[38;5;28;01mNone\u001b[39;00m \u001b[38;5;241m|\u001b[39m \u001b[38;5;28mint\u001b[39m \u001b[38;5;241m|\u001b[39m INTERPRETER_SIGNALS:\n\u001b[0;32m--> 408\u001b[0m     \u001b[38;5;28;01mreturn\u001b[39;00m \u001b[38;5;28;43mself\u001b[39;49m\u001b[38;5;241;43m.\u001b[39;49m\u001b[43m_opcode_interpreter\u001b[49m\u001b[43m(\u001b[49m\u001b[43minst\u001b[49m\u001b[43m,\u001b[49m\u001b[43m \u001b[49m\u001b[38;5;241;43m*\u001b[39;49m\u001b[38;5;241;43m*\u001b[39;49m\u001b[43minterpreter_state\u001b[49m\u001b[43m)\u001b[49m\n",
      "File \u001b[0;32m~/projects/torch_template/.venv/lib/python3.11/site-packages/thunder/core/interpreter.py:1206\u001b[0m, in \u001b[0;36mdefault_opcode_interpreter\u001b[0;34m(inst, **interpreter_state)\u001b[0m\n\u001b[1;32m   1205\u001b[0m \u001b[38;5;28;01mwith\u001b[39;00m interpreter_state[\u001b[38;5;124m\"\u001b[39m\u001b[38;5;124mstack\u001b[39m\u001b[38;5;124m\"\u001b[39m]\u001b[38;5;241m.\u001b[39mset_cur_instruction(inst):\n\u001b[0;32m-> 1206\u001b[0m     \u001b[38;5;28;01mreturn\u001b[39;00m \u001b[43mhandler\u001b[49m\u001b[43m(\u001b[49m\u001b[43minst\u001b[49m\u001b[43m,\u001b[49m\u001b[43m \u001b[49m\u001b[38;5;241;43m*\u001b[39;49m\u001b[38;5;241;43m*\u001b[39;49m\u001b[43minterpreter_state\u001b[49m\u001b[43m)\u001b[49m\n",
      "File \u001b[0;32m~/projects/torch_template/.venv/lib/python3.11/site-packages/thunder/core/interpreter.py:3507\u001b[0m, in \u001b[0;36m_call_function_ex_handler\u001b[0;34m(inst, stack, **kwargs)\u001b[0m\n\u001b[1;32m   3506\u001b[0m     kwargs \u001b[38;5;241m=\u001b[39m wrap_kwargs_from_dict(kwargs)\n\u001b[0;32m-> 3507\u001b[0m \u001b[38;5;28;01mreturn\u001b[39;00m check_and_append(stack, \u001b[43m_interpret_call\u001b[49m\u001b[43m(\u001b[49m\u001b[43mfunc\u001b[49m\u001b[43m,\u001b[49m\u001b[43m \u001b[49m\u001b[38;5;241;43m*\u001b[39;49m\u001b[43margs\u001b[49m\u001b[43m,\u001b[49m\u001b[43m \u001b[49m\u001b[38;5;241;43m*\u001b[39;49m\u001b[38;5;241;43m*\u001b[39;49m\u001b[43mkwargs\u001b[49m\u001b[43m)\u001b[49m)\n",
      "File \u001b[0;32m~/projects/torch_template/.venv/lib/python3.11/site-packages/thunder/core/interpreter.py:5885\u001b[0m, in \u001b[0;36m_interpret_call\u001b[0;34m(fn, *args, **kwargs)\u001b[0m\n\u001b[1;32m   5884\u001b[0m runtimectx\u001b[38;5;241m.\u001b[39mrecord_interpreter_call(fn)  \u001b[38;5;66;03m# type: ignore\u001b[39;00m\n\u001b[0;32m-> 5885\u001b[0m rval \u001b[38;5;241m=\u001b[39m \u001b[43m_call_dispatch\u001b[49m\u001b[43m(\u001b[49m\u001b[43mcompilectx\u001b[49m\u001b[43m,\u001b[49m\u001b[43m \u001b[49m\u001b[43mruntimectx\u001b[49m\u001b[43m,\u001b[49m\u001b[43m \u001b[49m\u001b[43mfn\u001b[49m\u001b[43m,\u001b[49m\u001b[43m \u001b[49m\u001b[38;5;241;43m*\u001b[39;49m\u001b[43margs\u001b[49m\u001b[43m,\u001b[49m\u001b[43m \u001b[49m\u001b[38;5;241;43m*\u001b[39;49m\u001b[38;5;241;43m*\u001b[39;49m\u001b[43mkwargs\u001b[49m\u001b[43m)\u001b[49m  \u001b[38;5;66;03m# type: ignore\u001b[39;00m\n\u001b[1;32m   5886\u001b[0m \u001b[38;5;28;01mif\u001b[39;00m compilectx\u001b[38;5;241m.\u001b[39m_with_provenance_tracking:\n",
      "File \u001b[0;32m~/projects/torch_template/.venv/lib/python3.11/site-packages/thunder/core/interpreter.py:6114\u001b[0m, in \u001b[0;36m_call_dispatch\u001b[0;34m(compilectx, runtimectx, fn, *args, **kwargs)\u001b[0m\n\u001b[1;32m   6113\u001b[0m \u001b[38;5;28;01massert\u001b[39;00m \u001b[38;5;28misinstance\u001b[39m(fn, FunctionType), \u001b[38;5;124mf\u001b[39m\u001b[38;5;124m\"\u001b[39m\u001b[38;5;132;01m{\u001b[39;00mfn\u001b[38;5;132;01m=}\u001b[39;00m\u001b[38;5;124m had an unexpected type (\u001b[39m\u001b[38;5;132;01m{\u001b[39;00m\u001b[38;5;28mtype\u001b[39m(fn)\u001b[38;5;132;01m}\u001b[39;00m\u001b[38;5;124m\"\u001b[39m\n\u001b[0;32m-> 6114\u001b[0m \u001b[38;5;28;01mreturn\u001b[39;00m \u001b[43m_setup_frame_and_run_python_function\u001b[49m\u001b[43m(\u001b[49m\u001b[43mcompilectx\u001b[49m\u001b[43m,\u001b[49m\u001b[43m \u001b[49m\u001b[43mruntimectx\u001b[49m\u001b[43m,\u001b[49m\u001b[43m \u001b[49m\u001b[43mwrapped_fn\u001b[49m\u001b[43m,\u001b[49m\u001b[43m \u001b[49m\u001b[38;5;241;43m*\u001b[39;49m\u001b[43margs\u001b[49m\u001b[43m,\u001b[49m\u001b[43m \u001b[49m\u001b[38;5;241;43m*\u001b[39;49m\u001b[38;5;241;43m*\u001b[39;49m\u001b[43mkwargs\u001b[49m\u001b[43m)\u001b[49m\n",
      "File \u001b[0;32m~/projects/torch_template/.venv/lib/python3.11/site-packages/thunder/core/interpreter.py:6243\u001b[0m, in \u001b[0;36m_setup_frame_and_run_python_function\u001b[0;34m(compilectx, runtimectx, wrapped_fn, *args, **kwargs)\u001b[0m\n\u001b[1;32m   6242\u001b[0m     tb \u001b[38;5;241m=\u001b[39m TracebackType(e\u001b[38;5;241m.\u001b[39m__traceback__, python_frame, python_frame\u001b[38;5;241m.\u001b[39mf_lasti, python_frame\u001b[38;5;241m.\u001b[39mf_lineno)\n\u001b[0;32m-> 6243\u001b[0m     \u001b[38;5;28;01mraise\u001b[39;00m e\u001b[38;5;241m.\u001b[39mwith_traceback(tb)\n\u001b[1;32m   6244\u001b[0m \u001b[38;5;28;01mreturn\u001b[39;00m res\n",
      "File \u001b[0;32m~/projects/torch_template/nfs/samples_RNN/LHT_credits-history/src/models/components/sequential_model.py:19\u001b[0m, in \u001b[0;36mSequentialLitModel.forward\u001b[0;34m()\u001b[0m\n\u001b[1;32m     17\u001b[0m \u001b[38;5;28;01mdef\u001b[39;00m \u001b[38;5;21mforward\u001b[39m(\u001b[38;5;28mself\u001b[39m, inputs: ModelInput) \u001b[38;5;241m-\u001b[39m\u001b[38;5;241m>\u001b[39m ModelOutput:\n\u001b[0;32m---> 19\u001b[0m     state \u001b[38;5;241m=\u001b[39m \u001b[38;5;28mself\u001b[39m\u001b[38;5;241m.\u001b[39mlayers(inputs)\n\u001b[1;32m     21\u001b[0m     \u001b[38;5;28;01mreturn\u001b[39;00m state\n",
      "File \u001b[0;32m~/projects/torch_template/.venv/lib/python3.11/site-packages/thunder/core/interpreter.py:6238\u001b[0m, in \u001b[0;36m_setup_frame_and_run_python_function\u001b[0;34m(compilectx, runtimectx, wrapped_fn, *args, **kwargs)\u001b[0m\n\u001b[1;32m   6237\u001b[0m \u001b[38;5;28;01mtry\u001b[39;00m:\n\u001b[0;32m-> 6238\u001b[0m     res, status \u001b[38;5;241m=\u001b[39m \u001b[43m_run_frame\u001b[49m\u001b[43m(\u001b[49m\u001b[43mframe\u001b[49m\u001b[43m,\u001b[49m\u001b[43m \u001b[49m\u001b[43mcompilectx\u001b[49m\u001b[43m,\u001b[49m\u001b[43m \u001b[49m\u001b[43mruntimectx\u001b[49m\u001b[43m)\u001b[49m\n\u001b[1;32m   6239\u001b[0m \u001b[38;5;28;01mexcept\u001b[39;00m \u001b[38;5;167;01mException\u001b[39;00m \u001b[38;5;28;01mas\u001b[39;00m e:\n\u001b[1;32m   6240\u001b[0m     \u001b[38;5;66;03m# We need to cheat a bit to get a Python frame here...\u001b[39;00m\n",
      "File \u001b[0;32m~/projects/torch_template/.venv/lib/python3.11/site-packages/thunder/core/interpreter.py:6284\u001b[0m, in \u001b[0;36m_run_frame\u001b[0;34m(frame, compilectx, runtimectx, send_value)\u001b[0m\n\u001b[1;32m   6283\u001b[0m frame\u001b[38;5;241m.\u001b[39mlasti \u001b[38;5;241m=\u001b[39m frame\u001b[38;5;241m.\u001b[39minst_ptr  \u001b[38;5;66;03m# ???\u001b[39;00m\n\u001b[0;32m-> 6284\u001b[0m interpretation_result: \u001b[38;5;28;01mNone\u001b[39;00m \u001b[38;5;241m|\u001b[39m \u001b[38;5;28mint\u001b[39m \u001b[38;5;241m|\u001b[39m INTERPRETER_SIGNALS \u001b[38;5;241m=\u001b[39m \u001b[43mcompilectx\u001b[49m\u001b[38;5;241;43m.\u001b[39;49m\u001b[43minterpret\u001b[49m\u001b[43m(\u001b[49m\n\u001b[1;32m   6285\u001b[0m \u001b[43m    \u001b[49m\u001b[43minst\u001b[49m\u001b[43m,\u001b[49m\n\u001b[1;32m   6286\u001b[0m \u001b[43m    \u001b[49m\u001b[43minst_ptr\u001b[49m\u001b[38;5;241;43m=\u001b[39;49m\u001b[43mframe\u001b[49m\u001b[38;5;241;43m.\u001b[39;49m\u001b[43minst_ptr\u001b[49m\u001b[43m,\u001b[49m\n\u001b[1;32m   6287\u001b[0m \u001b[43m    \u001b[49m\u001b[43mstack\u001b[49m\u001b[38;5;241;43m=\u001b[39;49m\u001b[43mframe\u001b[49m\u001b[38;5;241;43m.\u001b[39;49m\u001b[43minterpreter_stack\u001b[49m\u001b[43m,\u001b[49m\n\u001b[1;32m   6288\u001b[0m \u001b[43m    \u001b[49m\u001b[43mglobals_dict\u001b[49m\u001b[38;5;241;43m=\u001b[39;49m\u001b[43mframe\u001b[49m\u001b[38;5;241;43m.\u001b[39;49m\u001b[43mglobals\u001b[49m\u001b[43m,\u001b[49m\n\u001b[1;32m   6289\u001b[0m \u001b[43m    \u001b[49m\u001b[43mtry_stack\u001b[49m\u001b[38;5;241;43m=\u001b[39;49m\u001b[43mframe\u001b[49m\u001b[38;5;241;43m.\u001b[39;49m\u001b[43mtry_stack\u001b[49m\u001b[43m,\u001b[49m\n\u001b[1;32m   6290\u001b[0m \u001b[43m    \u001b[49m\u001b[43mexception_stack\u001b[49m\u001b[38;5;241;43m=\u001b[39;49m\u001b[43mruntimectx\u001b[49m\u001b[38;5;241;43m.\u001b[39;49m\u001b[43mexception_stack\u001b[49m\u001b[43m,\u001b[49m\n\u001b[1;32m   6291\u001b[0m \u001b[43m    \u001b[49m\u001b[43mco\u001b[49m\u001b[38;5;241;43m=\u001b[39;49m\u001b[43mframe\u001b[49m\u001b[38;5;241;43m.\u001b[39;49m\u001b[43mcode\u001b[49m\u001b[43m,\u001b[49m\n\u001b[1;32m   6292\u001b[0m \u001b[43m    \u001b[49m\u001b[43mframe\u001b[49m\u001b[38;5;241;43m=\u001b[39;49m\u001b[43mframe\u001b[49m\u001b[43m,\u001b[49m\n\u001b[1;32m   6293\u001b[0m \u001b[43m\u001b[49m\u001b[43m)\u001b[49m\n\u001b[1;32m   6294\u001b[0m \u001b[38;5;28;01mif\u001b[39;00m interpretation_result \u001b[38;5;129;01mis\u001b[39;00m INTERPRETER_SIGNALS\u001b[38;5;241m.\u001b[39mEXCEPTION_RAISED:\n",
      "File \u001b[0;32m~/projects/torch_template/.venv/lib/python3.11/site-packages/thunder/core/interpreter.py:408\u001b[0m, in \u001b[0;36mInterpreterCompileCtx.interpret\u001b[0;34m(self, inst, **interpreter_state)\u001b[0m\n\u001b[1;32m    407\u001b[0m \u001b[38;5;28;01mdef\u001b[39;00m \u001b[38;5;21minterpret\u001b[39m(\u001b[38;5;28mself\u001b[39m, inst: dis\u001b[38;5;241m.\u001b[39mInstruction, \u001b[38;5;241m/\u001b[39m, \u001b[38;5;241m*\u001b[39m\u001b[38;5;241m*\u001b[39minterpreter_state) \u001b[38;5;241m-\u001b[39m\u001b[38;5;241m>\u001b[39m \u001b[38;5;28;01mNone\u001b[39;00m \u001b[38;5;241m|\u001b[39m \u001b[38;5;28mint\u001b[39m \u001b[38;5;241m|\u001b[39m INTERPRETER_SIGNALS:\n\u001b[0;32m--> 408\u001b[0m     \u001b[38;5;28;01mreturn\u001b[39;00m \u001b[38;5;28;43mself\u001b[39;49m\u001b[38;5;241;43m.\u001b[39;49m\u001b[43m_opcode_interpreter\u001b[49m\u001b[43m(\u001b[49m\u001b[43minst\u001b[49m\u001b[43m,\u001b[49m\u001b[43m \u001b[49m\u001b[38;5;241;43m*\u001b[39;49m\u001b[38;5;241;43m*\u001b[39;49m\u001b[43minterpreter_state\u001b[49m\u001b[43m)\u001b[49m\n",
      "File \u001b[0;32m~/projects/torch_template/.venv/lib/python3.11/site-packages/thunder/core/interpreter.py:1206\u001b[0m, in \u001b[0;36mdefault_opcode_interpreter\u001b[0;34m(inst, **interpreter_state)\u001b[0m\n\u001b[1;32m   1205\u001b[0m \u001b[38;5;28;01mwith\u001b[39;00m interpreter_state[\u001b[38;5;124m\"\u001b[39m\u001b[38;5;124mstack\u001b[39m\u001b[38;5;124m\"\u001b[39m]\u001b[38;5;241m.\u001b[39mset_cur_instruction(inst):\n\u001b[0;32m-> 1206\u001b[0m     \u001b[38;5;28;01mreturn\u001b[39;00m \u001b[43mhandler\u001b[49m\u001b[43m(\u001b[49m\u001b[43minst\u001b[49m\u001b[43m,\u001b[49m\u001b[43m \u001b[49m\u001b[38;5;241;43m*\u001b[39;49m\u001b[38;5;241;43m*\u001b[39;49m\u001b[43minterpreter_state\u001b[49m\u001b[43m)\u001b[49m\n",
      "File \u001b[0;32m~/projects/torch_template/.venv/lib/python3.11/site-packages/thunder/core/interpreter.py:3467\u001b[0m, in \u001b[0;36m_call_handler\u001b[0;34m(inst, stack, frame, **kwargs)\u001b[0m\n\u001b[1;32m   3465\u001b[0m     func \u001b[38;5;241m=\u001b[39m func_or_self\n\u001b[0;32m-> 3467\u001b[0m res \u001b[38;5;241m=\u001b[39m \u001b[43m_interpret_call\u001b[49m\u001b[43m(\u001b[49m\u001b[43mfunc\u001b[49m\u001b[43m,\u001b[49m\u001b[43m \u001b[49m\u001b[38;5;241;43m*\u001b[39;49m\u001b[43margs\u001b[49m\u001b[43m,\u001b[49m\u001b[43m \u001b[49m\u001b[38;5;241;43m*\u001b[39;49m\u001b[38;5;241;43m*\u001b[39;49m\u001b[43mkwargs\u001b[49m\u001b[43m)\u001b[49m\n\u001b[1;32m   3468\u001b[0m ctx: InterpreterCompileCtx \u001b[38;5;241m=\u001b[39m get_interpretercompilectx()\n",
      "File \u001b[0;32m~/projects/torch_template/.venv/lib/python3.11/site-packages/thunder/core/interpreter.py:5885\u001b[0m, in \u001b[0;36m_interpret_call\u001b[0;34m(fn, *args, **kwargs)\u001b[0m\n\u001b[1;32m   5884\u001b[0m runtimectx\u001b[38;5;241m.\u001b[39mrecord_interpreter_call(fn)  \u001b[38;5;66;03m# type: ignore\u001b[39;00m\n\u001b[0;32m-> 5885\u001b[0m rval \u001b[38;5;241m=\u001b[39m \u001b[43m_call_dispatch\u001b[49m\u001b[43m(\u001b[49m\u001b[43mcompilectx\u001b[49m\u001b[43m,\u001b[49m\u001b[43m \u001b[49m\u001b[43mruntimectx\u001b[49m\u001b[43m,\u001b[49m\u001b[43m \u001b[49m\u001b[43mfn\u001b[49m\u001b[43m,\u001b[49m\u001b[43m \u001b[49m\u001b[38;5;241;43m*\u001b[39;49m\u001b[43margs\u001b[49m\u001b[43m,\u001b[49m\u001b[43m \u001b[49m\u001b[38;5;241;43m*\u001b[39;49m\u001b[38;5;241;43m*\u001b[39;49m\u001b[43mkwargs\u001b[49m\u001b[43m)\u001b[49m  \u001b[38;5;66;03m# type: ignore\u001b[39;00m\n\u001b[1;32m   5886\u001b[0m \u001b[38;5;28;01mif\u001b[39;00m compilectx\u001b[38;5;241m.\u001b[39m_with_provenance_tracking:\n",
      "File \u001b[0;32m~/projects/torch_template/.venv/lib/python3.11/site-packages/thunder/core/interpreter.py:6110\u001b[0m, in \u001b[0;36m_call_dispatch\u001b[0;34m(compilectx, runtimectx, fn, *args, **kwargs)\u001b[0m\n\u001b[1;32m   6109\u001b[0m     populate_attribute_wrapper(wrapped_call, \u001b[38;5;124m\"\u001b[39m\u001b[38;5;124m__self__\u001b[39m\u001b[38;5;124m\"\u001b[39m, wrapped_fn)\n\u001b[0;32m-> 6110\u001b[0m     \u001b[38;5;28;01mreturn\u001b[39;00m \u001b[43m_interpret_call\u001b[49m\u001b[43m(\u001b[49m\u001b[43mwrapped_call\u001b[49m\u001b[43m,\u001b[49m\u001b[43m \u001b[49m\u001b[38;5;241;43m*\u001b[39;49m\u001b[43margs\u001b[49m\u001b[43m,\u001b[49m\u001b[43m \u001b[49m\u001b[38;5;241;43m*\u001b[39;49m\u001b[38;5;241;43m*\u001b[39;49m\u001b[43mkwargs\u001b[49m\u001b[43m)\u001b[49m\n\u001b[1;32m   6112\u001b[0m \u001b[38;5;66;03m# (7) interprets into the function\u001b[39;00m\n",
      "File \u001b[0;32m~/projects/torch_template/.venv/lib/python3.11/site-packages/thunder/core/interpreter.py:5885\u001b[0m, in \u001b[0;36m_interpret_call\u001b[0;34m(fn, *args, **kwargs)\u001b[0m\n\u001b[1;32m   5884\u001b[0m runtimectx\u001b[38;5;241m.\u001b[39mrecord_interpreter_call(fn)  \u001b[38;5;66;03m# type: ignore\u001b[39;00m\n\u001b[0;32m-> 5885\u001b[0m rval \u001b[38;5;241m=\u001b[39m \u001b[43m_call_dispatch\u001b[49m\u001b[43m(\u001b[49m\u001b[43mcompilectx\u001b[49m\u001b[43m,\u001b[49m\u001b[43m \u001b[49m\u001b[43mruntimectx\u001b[49m\u001b[43m,\u001b[49m\u001b[43m \u001b[49m\u001b[43mfn\u001b[49m\u001b[43m,\u001b[49m\u001b[43m \u001b[49m\u001b[38;5;241;43m*\u001b[39;49m\u001b[43margs\u001b[49m\u001b[43m,\u001b[49m\u001b[43m \u001b[49m\u001b[38;5;241;43m*\u001b[39;49m\u001b[38;5;241;43m*\u001b[39;49m\u001b[43mkwargs\u001b[49m\u001b[43m)\u001b[49m  \u001b[38;5;66;03m# type: ignore\u001b[39;00m\n\u001b[1;32m   5886\u001b[0m \u001b[38;5;28;01mif\u001b[39;00m compilectx\u001b[38;5;241m.\u001b[39m_with_provenance_tracking:\n",
      "File \u001b[0;32m~/projects/torch_template/.venv/lib/python3.11/site-packages/thunder/core/interpreter.py:5944\u001b[0m, in \u001b[0;36m_call_dispatch\u001b[0;34m(compilectx, runtimectx, fn, *args, **kwargs)\u001b[0m\n\u001b[1;32m   5942\u001b[0m         \u001b[38;5;28;01mreturn\u001b[39;00m fn\u001b[38;5;241m.\u001b[39m\u001b[38;5;18m__func__\u001b[39m(fn\u001b[38;5;241m.\u001b[39m\u001b[38;5;18m__self__\u001b[39m, \u001b[38;5;241m*\u001b[39margs, \u001b[38;5;241m*\u001b[39m\u001b[38;5;241m*\u001b[39mkwargs)\n\u001b[0;32m-> 5944\u001b[0m     \u001b[38;5;28;01mreturn\u001b[39;00m \u001b[43m_interpret_call\u001b[49m\u001b[43m(\u001b[49m\u001b[43m_impl\u001b[49m\u001b[43m,\u001b[49m\u001b[43m \u001b[49m\u001b[43mwrapped_fn\u001b[49m\u001b[43m,\u001b[49m\u001b[43m \u001b[49m\u001b[38;5;241;43m*\u001b[39;49m\u001b[43margs\u001b[49m\u001b[43m,\u001b[49m\u001b[43m \u001b[49m\u001b[38;5;241;43m*\u001b[39;49m\u001b[38;5;241;43m*\u001b[39;49m\u001b[43mkwargs\u001b[49m\u001b[43m)\u001b[49m  \u001b[38;5;66;03m# type: ignore\u001b[39;00m\n\u001b[1;32m   5946\u001b[0m \u001b[38;5;66;03m# (1b) The callable is a builtin method, in which case it's canonicalized\u001b[39;00m\n\u001b[1;32m   5947\u001b[0m \u001b[38;5;66;03m#   A builtin is canonicalized when it's a call on a type or a module (or their equivalent)\u001b[39;00m\n\u001b[1;32m   5948\u001b[0m \u001b[38;5;66;03m#   Ex. The append method of a list\u001b[39;00m\n\u001b[0;32m   (...)\u001b[0m\n\u001b[1;32m   5989\u001b[0m \u001b[38;5;66;03m# NOTE Builtin Methods\u001b[39;00m\n\u001b[1;32m   5990\u001b[0m \u001b[38;5;66;03m#   Builtin methods are not considered methods by inspect.ismethod\u001b[39;00m\n",
      "    \u001b[0;31m[... skipping similar frames: _interpret_call at line 5885 (1 times)]\u001b[0m\n",
      "File \u001b[0;32m~/projects/torch_template/.venv/lib/python3.11/site-packages/thunder/core/interpreter.py:6114\u001b[0m, in \u001b[0;36m_call_dispatch\u001b[0;34m(compilectx, runtimectx, fn, *args, **kwargs)\u001b[0m\n\u001b[1;32m   6113\u001b[0m \u001b[38;5;28;01massert\u001b[39;00m \u001b[38;5;28misinstance\u001b[39m(fn, FunctionType), \u001b[38;5;124mf\u001b[39m\u001b[38;5;124m\"\u001b[39m\u001b[38;5;132;01m{\u001b[39;00mfn\u001b[38;5;132;01m=}\u001b[39;00m\u001b[38;5;124m had an unexpected type (\u001b[39m\u001b[38;5;132;01m{\u001b[39;00m\u001b[38;5;28mtype\u001b[39m(fn)\u001b[38;5;132;01m}\u001b[39;00m\u001b[38;5;124m\"\u001b[39m\n\u001b[0;32m-> 6114\u001b[0m \u001b[38;5;28;01mreturn\u001b[39;00m \u001b[43m_setup_frame_and_run_python_function\u001b[49m\u001b[43m(\u001b[49m\u001b[43mcompilectx\u001b[49m\u001b[43m,\u001b[49m\u001b[43m \u001b[49m\u001b[43mruntimectx\u001b[49m\u001b[43m,\u001b[49m\u001b[43m \u001b[49m\u001b[43mwrapped_fn\u001b[49m\u001b[43m,\u001b[49m\u001b[43m \u001b[49m\u001b[38;5;241;43m*\u001b[39;49m\u001b[43margs\u001b[49m\u001b[43m,\u001b[49m\u001b[43m \u001b[49m\u001b[38;5;241;43m*\u001b[39;49m\u001b[38;5;241;43m*\u001b[39;49m\u001b[43mkwargs\u001b[49m\u001b[43m)\u001b[49m\n",
      "File \u001b[0;32m~/projects/torch_template/.venv/lib/python3.11/site-packages/thunder/core/interpreter.py:6243\u001b[0m, in \u001b[0;36m_setup_frame_and_run_python_function\u001b[0;34m(compilectx, runtimectx, wrapped_fn, *args, **kwargs)\u001b[0m\n\u001b[1;32m   6242\u001b[0m     tb \u001b[38;5;241m=\u001b[39m TracebackType(e\u001b[38;5;241m.\u001b[39m__traceback__, python_frame, python_frame\u001b[38;5;241m.\u001b[39mf_lasti, python_frame\u001b[38;5;241m.\u001b[39mf_lineno)\n\u001b[0;32m-> 6243\u001b[0m     \u001b[38;5;28;01mraise\u001b[39;00m e\u001b[38;5;241m.\u001b[39mwith_traceback(tb)\n\u001b[1;32m   6244\u001b[0m \u001b[38;5;28;01mreturn\u001b[39;00m res\n",
      "File \u001b[0;32m~/projects/torch_template/.venv/lib/python3.11/site-packages/thunder/core/interpreter.py:5942\u001b[0m, in \u001b[0;36m_call_dispatch.<locals>._impl\u001b[0;34m()\u001b[0m\n\u001b[1;32m   5941\u001b[0m \u001b[38;5;28;01mdef\u001b[39;00m \u001b[38;5;21m_impl\u001b[39m(fn, \u001b[38;5;241m*\u001b[39margs, \u001b[38;5;241m*\u001b[39m\u001b[38;5;241m*\u001b[39mkwargs):\n\u001b[0;32m-> 5942\u001b[0m     \u001b[38;5;28;01mreturn\u001b[39;00m fn\u001b[38;5;241m.\u001b[39m\u001b[38;5;18m__func__\u001b[39m(fn\u001b[38;5;241m.\u001b[39m\u001b[38;5;18m__self__\u001b[39m, \u001b[38;5;241m*\u001b[39margs, \u001b[38;5;241m*\u001b[39m\u001b[38;5;241m*\u001b[39mkwargs)\n",
      "File \u001b[0;32m~/projects/torch_template/.venv/lib/python3.11/site-packages/thunder/core/interpreter.py:6238\u001b[0m, in \u001b[0;36m_setup_frame_and_run_python_function\u001b[0;34m(compilectx, runtimectx, wrapped_fn, *args, **kwargs)\u001b[0m\n\u001b[1;32m   6237\u001b[0m \u001b[38;5;28;01mtry\u001b[39;00m:\n\u001b[0;32m-> 6238\u001b[0m     res, status \u001b[38;5;241m=\u001b[39m \u001b[43m_run_frame\u001b[49m\u001b[43m(\u001b[49m\u001b[43mframe\u001b[49m\u001b[43m,\u001b[49m\u001b[43m \u001b[49m\u001b[43mcompilectx\u001b[49m\u001b[43m,\u001b[49m\u001b[43m \u001b[49m\u001b[43mruntimectx\u001b[49m\u001b[43m)\u001b[49m\n\u001b[1;32m   6239\u001b[0m \u001b[38;5;28;01mexcept\u001b[39;00m \u001b[38;5;167;01mException\u001b[39;00m \u001b[38;5;28;01mas\u001b[39;00m e:\n\u001b[1;32m   6240\u001b[0m     \u001b[38;5;66;03m# We need to cheat a bit to get a Python frame here...\u001b[39;00m\n",
      "File \u001b[0;32m~/projects/torch_template/.venv/lib/python3.11/site-packages/thunder/core/interpreter.py:6284\u001b[0m, in \u001b[0;36m_run_frame\u001b[0;34m(frame, compilectx, runtimectx, send_value)\u001b[0m\n\u001b[1;32m   6283\u001b[0m frame\u001b[38;5;241m.\u001b[39mlasti \u001b[38;5;241m=\u001b[39m frame\u001b[38;5;241m.\u001b[39minst_ptr  \u001b[38;5;66;03m# ???\u001b[39;00m\n\u001b[0;32m-> 6284\u001b[0m interpretation_result: \u001b[38;5;28;01mNone\u001b[39;00m \u001b[38;5;241m|\u001b[39m \u001b[38;5;28mint\u001b[39m \u001b[38;5;241m|\u001b[39m INTERPRETER_SIGNALS \u001b[38;5;241m=\u001b[39m \u001b[43mcompilectx\u001b[49m\u001b[38;5;241;43m.\u001b[39;49m\u001b[43minterpret\u001b[49m\u001b[43m(\u001b[49m\n\u001b[1;32m   6285\u001b[0m \u001b[43m    \u001b[49m\u001b[43minst\u001b[49m\u001b[43m,\u001b[49m\n\u001b[1;32m   6286\u001b[0m \u001b[43m    \u001b[49m\u001b[43minst_ptr\u001b[49m\u001b[38;5;241;43m=\u001b[39;49m\u001b[43mframe\u001b[49m\u001b[38;5;241;43m.\u001b[39;49m\u001b[43minst_ptr\u001b[49m\u001b[43m,\u001b[49m\n\u001b[1;32m   6287\u001b[0m \u001b[43m    \u001b[49m\u001b[43mstack\u001b[49m\u001b[38;5;241;43m=\u001b[39;49m\u001b[43mframe\u001b[49m\u001b[38;5;241;43m.\u001b[39;49m\u001b[43minterpreter_stack\u001b[49m\u001b[43m,\u001b[49m\n\u001b[1;32m   6288\u001b[0m \u001b[43m    \u001b[49m\u001b[43mglobals_dict\u001b[49m\u001b[38;5;241;43m=\u001b[39;49m\u001b[43mframe\u001b[49m\u001b[38;5;241;43m.\u001b[39;49m\u001b[43mglobals\u001b[49m\u001b[43m,\u001b[49m\n\u001b[1;32m   6289\u001b[0m \u001b[43m    \u001b[49m\u001b[43mtry_stack\u001b[49m\u001b[38;5;241;43m=\u001b[39;49m\u001b[43mframe\u001b[49m\u001b[38;5;241;43m.\u001b[39;49m\u001b[43mtry_stack\u001b[49m\u001b[43m,\u001b[49m\n\u001b[1;32m   6290\u001b[0m \u001b[43m    \u001b[49m\u001b[43mexception_stack\u001b[49m\u001b[38;5;241;43m=\u001b[39;49m\u001b[43mruntimectx\u001b[49m\u001b[38;5;241;43m.\u001b[39;49m\u001b[43mexception_stack\u001b[49m\u001b[43m,\u001b[49m\n\u001b[1;32m   6291\u001b[0m \u001b[43m    \u001b[49m\u001b[43mco\u001b[49m\u001b[38;5;241;43m=\u001b[39;49m\u001b[43mframe\u001b[49m\u001b[38;5;241;43m.\u001b[39;49m\u001b[43mcode\u001b[49m\u001b[43m,\u001b[49m\n\u001b[1;32m   6292\u001b[0m \u001b[43m    \u001b[49m\u001b[43mframe\u001b[49m\u001b[38;5;241;43m=\u001b[39;49m\u001b[43mframe\u001b[49m\u001b[43m,\u001b[49m\n\u001b[1;32m   6293\u001b[0m \u001b[43m\u001b[49m\u001b[43m)\u001b[49m\n\u001b[1;32m   6294\u001b[0m \u001b[38;5;28;01mif\u001b[39;00m interpretation_result \u001b[38;5;129;01mis\u001b[39;00m INTERPRETER_SIGNALS\u001b[38;5;241m.\u001b[39mEXCEPTION_RAISED:\n",
      "File \u001b[0;32m~/projects/torch_template/.venv/lib/python3.11/site-packages/thunder/core/interpreter.py:408\u001b[0m, in \u001b[0;36mInterpreterCompileCtx.interpret\u001b[0;34m(self, inst, **interpreter_state)\u001b[0m\n\u001b[1;32m    407\u001b[0m \u001b[38;5;28;01mdef\u001b[39;00m \u001b[38;5;21minterpret\u001b[39m(\u001b[38;5;28mself\u001b[39m, inst: dis\u001b[38;5;241m.\u001b[39mInstruction, \u001b[38;5;241m/\u001b[39m, \u001b[38;5;241m*\u001b[39m\u001b[38;5;241m*\u001b[39minterpreter_state) \u001b[38;5;241m-\u001b[39m\u001b[38;5;241m>\u001b[39m \u001b[38;5;28;01mNone\u001b[39;00m \u001b[38;5;241m|\u001b[39m \u001b[38;5;28mint\u001b[39m \u001b[38;5;241m|\u001b[39m INTERPRETER_SIGNALS:\n\u001b[0;32m--> 408\u001b[0m     \u001b[38;5;28;01mreturn\u001b[39;00m \u001b[38;5;28;43mself\u001b[39;49m\u001b[38;5;241;43m.\u001b[39;49m\u001b[43m_opcode_interpreter\u001b[49m\u001b[43m(\u001b[49m\u001b[43minst\u001b[49m\u001b[43m,\u001b[49m\u001b[43m \u001b[49m\u001b[38;5;241;43m*\u001b[39;49m\u001b[38;5;241;43m*\u001b[39;49m\u001b[43minterpreter_state\u001b[49m\u001b[43m)\u001b[49m\n",
      "File \u001b[0;32m~/projects/torch_template/.venv/lib/python3.11/site-packages/thunder/core/interpreter.py:1206\u001b[0m, in \u001b[0;36mdefault_opcode_interpreter\u001b[0;34m(inst, **interpreter_state)\u001b[0m\n\u001b[1;32m   1205\u001b[0m \u001b[38;5;28;01mwith\u001b[39;00m interpreter_state[\u001b[38;5;124m\"\u001b[39m\u001b[38;5;124mstack\u001b[39m\u001b[38;5;124m\"\u001b[39m]\u001b[38;5;241m.\u001b[39mset_cur_instruction(inst):\n\u001b[0;32m-> 1206\u001b[0m     \u001b[38;5;28;01mreturn\u001b[39;00m \u001b[43mhandler\u001b[49m\u001b[43m(\u001b[49m\u001b[43minst\u001b[49m\u001b[43m,\u001b[49m\u001b[43m \u001b[49m\u001b[38;5;241;43m*\u001b[39;49m\u001b[38;5;241;43m*\u001b[39;49m\u001b[43minterpreter_state\u001b[49m\u001b[43m)\u001b[49m\n",
      "File \u001b[0;32m~/projects/torch_template/.venv/lib/python3.11/site-packages/thunder/core/interpreter.py:3507\u001b[0m, in \u001b[0;36m_call_function_ex_handler\u001b[0;34m(inst, stack, **kwargs)\u001b[0m\n\u001b[1;32m   3506\u001b[0m     kwargs \u001b[38;5;241m=\u001b[39m wrap_kwargs_from_dict(kwargs)\n\u001b[0;32m-> 3507\u001b[0m \u001b[38;5;28;01mreturn\u001b[39;00m check_and_append(stack, \u001b[43m_interpret_call\u001b[49m\u001b[43m(\u001b[49m\u001b[43mfunc\u001b[49m\u001b[43m,\u001b[49m\u001b[43m \u001b[49m\u001b[38;5;241;43m*\u001b[39;49m\u001b[43margs\u001b[49m\u001b[43m,\u001b[49m\u001b[43m \u001b[49m\u001b[38;5;241;43m*\u001b[39;49m\u001b[38;5;241;43m*\u001b[39;49m\u001b[43mkwargs\u001b[49m\u001b[43m)\u001b[49m)\n",
      "    \u001b[0;31m[... skipping similar frames: _interpret_call at line 5885 (1 times)]\u001b[0m\n",
      "File \u001b[0;32m~/projects/torch_template/.venv/lib/python3.11/site-packages/thunder/core/interpreter.py:6114\u001b[0m, in \u001b[0;36m_call_dispatch\u001b[0;34m(compilectx, runtimectx, fn, *args, **kwargs)\u001b[0m\n\u001b[1;32m   6113\u001b[0m \u001b[38;5;28;01massert\u001b[39;00m \u001b[38;5;28misinstance\u001b[39m(fn, FunctionType), \u001b[38;5;124mf\u001b[39m\u001b[38;5;124m\"\u001b[39m\u001b[38;5;132;01m{\u001b[39;00mfn\u001b[38;5;132;01m=}\u001b[39;00m\u001b[38;5;124m had an unexpected type (\u001b[39m\u001b[38;5;132;01m{\u001b[39;00m\u001b[38;5;28mtype\u001b[39m(fn)\u001b[38;5;132;01m}\u001b[39;00m\u001b[38;5;124m\"\u001b[39m\n\u001b[0;32m-> 6114\u001b[0m \u001b[38;5;28;01mreturn\u001b[39;00m \u001b[43m_setup_frame_and_run_python_function\u001b[49m\u001b[43m(\u001b[49m\u001b[43mcompilectx\u001b[49m\u001b[43m,\u001b[49m\u001b[43m \u001b[49m\u001b[43mruntimectx\u001b[49m\u001b[43m,\u001b[49m\u001b[43m \u001b[49m\u001b[43mwrapped_fn\u001b[49m\u001b[43m,\u001b[49m\u001b[43m \u001b[49m\u001b[38;5;241;43m*\u001b[39;49m\u001b[43margs\u001b[49m\u001b[43m,\u001b[49m\u001b[43m \u001b[49m\u001b[38;5;241;43m*\u001b[39;49m\u001b[38;5;241;43m*\u001b[39;49m\u001b[43mkwargs\u001b[49m\u001b[43m)\u001b[49m\n",
      "File \u001b[0;32m~/projects/torch_template/.venv/lib/python3.11/site-packages/thunder/core/interpreter.py:6243\u001b[0m, in \u001b[0;36m_setup_frame_and_run_python_function\u001b[0;34m(compilectx, runtimectx, wrapped_fn, *args, **kwargs)\u001b[0m\n\u001b[1;32m   6242\u001b[0m     tb \u001b[38;5;241m=\u001b[39m TracebackType(e\u001b[38;5;241m.\u001b[39m__traceback__, python_frame, python_frame\u001b[38;5;241m.\u001b[39mf_lasti, python_frame\u001b[38;5;241m.\u001b[39mf_lineno)\n\u001b[0;32m-> 6243\u001b[0m     \u001b[38;5;28;01mraise\u001b[39;00m e\u001b[38;5;241m.\u001b[39mwith_traceback(tb)\n\u001b[1;32m   6244\u001b[0m \u001b[38;5;28;01mreturn\u001b[39;00m res\n",
      "File \u001b[0;32m~/projects/torch_template/.venv/lib/python3.11/site-packages/torch/nn/modules/module.py:1511\u001b[0m, in \u001b[0;36mModule._wrapped_call_impl\u001b[0;34m()\u001b[0m\n\u001b[1;32m   1510\u001b[0m \u001b[38;5;28;01melse\u001b[39;00m:\n\u001b[0;32m-> 1511\u001b[0m     \u001b[38;5;28;01mreturn\u001b[39;00m \u001b[38;5;28mself\u001b[39m\u001b[38;5;241m.\u001b[39m_call_impl(\u001b[38;5;241m*\u001b[39margs, \u001b[38;5;241m*\u001b[39m\u001b[38;5;241m*\u001b[39mkwargs)\n",
      "    \u001b[0;31m[... skipping similar frames: _run_frame at line 6284 (1 times), _setup_frame_and_run_python_function at line 6238 (1 times), default_opcode_interpreter at line 1206 (1 times), InterpreterCompileCtx.interpret at line 408 (1 times)]\u001b[0m\n",
      "File \u001b[0;32m~/projects/torch_template/.venv/lib/python3.11/site-packages/thunder/core/interpreter.py:3507\u001b[0m, in \u001b[0;36m_call_function_ex_handler\u001b[0;34m(inst, stack, **kwargs)\u001b[0m\n\u001b[1;32m   3506\u001b[0m     kwargs \u001b[38;5;241m=\u001b[39m wrap_kwargs_from_dict(kwargs)\n\u001b[0;32m-> 3507\u001b[0m \u001b[38;5;28;01mreturn\u001b[39;00m check_and_append(stack, \u001b[43m_interpret_call\u001b[49m\u001b[43m(\u001b[49m\u001b[43mfunc\u001b[49m\u001b[43m,\u001b[49m\u001b[43m \u001b[49m\u001b[38;5;241;43m*\u001b[39;49m\u001b[43margs\u001b[49m\u001b[43m,\u001b[49m\u001b[43m \u001b[49m\u001b[38;5;241;43m*\u001b[39;49m\u001b[38;5;241;43m*\u001b[39;49m\u001b[43mkwargs\u001b[49m\u001b[43m)\u001b[49m)\n",
      "    \u001b[0;31m[... skipping similar frames: _interpret_call at line 5885 (1 times)]\u001b[0m\n",
      "File \u001b[0;32m~/projects/torch_template/.venv/lib/python3.11/site-packages/thunder/core/interpreter.py:5944\u001b[0m, in \u001b[0;36m_call_dispatch\u001b[0;34m(compilectx, runtimectx, fn, *args, **kwargs)\u001b[0m\n\u001b[1;32m   5942\u001b[0m         \u001b[38;5;28;01mreturn\u001b[39;00m fn\u001b[38;5;241m.\u001b[39m\u001b[38;5;18m__func__\u001b[39m(fn\u001b[38;5;241m.\u001b[39m\u001b[38;5;18m__self__\u001b[39m, \u001b[38;5;241m*\u001b[39margs, \u001b[38;5;241m*\u001b[39m\u001b[38;5;241m*\u001b[39mkwargs)\n\u001b[0;32m-> 5944\u001b[0m     \u001b[38;5;28;01mreturn\u001b[39;00m \u001b[43m_interpret_call\u001b[49m\u001b[43m(\u001b[49m\u001b[43m_impl\u001b[49m\u001b[43m,\u001b[49m\u001b[43m \u001b[49m\u001b[43mwrapped_fn\u001b[49m\u001b[43m,\u001b[49m\u001b[43m \u001b[49m\u001b[38;5;241;43m*\u001b[39;49m\u001b[43margs\u001b[49m\u001b[43m,\u001b[49m\u001b[43m \u001b[49m\u001b[38;5;241;43m*\u001b[39;49m\u001b[38;5;241;43m*\u001b[39;49m\u001b[43mkwargs\u001b[49m\u001b[43m)\u001b[49m  \u001b[38;5;66;03m# type: ignore\u001b[39;00m\n\u001b[1;32m   5946\u001b[0m \u001b[38;5;66;03m# (1b) The callable is a builtin method, in which case it's canonicalized\u001b[39;00m\n\u001b[1;32m   5947\u001b[0m \u001b[38;5;66;03m#   A builtin is canonicalized when it's a call on a type or a module (or their equivalent)\u001b[39;00m\n\u001b[1;32m   5948\u001b[0m \u001b[38;5;66;03m#   Ex. The append method of a list\u001b[39;00m\n\u001b[0;32m   (...)\u001b[0m\n\u001b[1;32m   5989\u001b[0m \u001b[38;5;66;03m# NOTE Builtin Methods\u001b[39;00m\n\u001b[1;32m   5990\u001b[0m \u001b[38;5;66;03m#   Builtin methods are not considered methods by inspect.ismethod\u001b[39;00m\n",
      "    \u001b[0;31m[... skipping similar frames: _call_dispatch at line 6114 (1 times), _interpret_call at line 5885 (1 times), _setup_frame_and_run_python_function at line 6243 (1 times)]\u001b[0m\n",
      "File \u001b[0;32m~/projects/torch_template/.venv/lib/python3.11/site-packages/thunder/core/interpreter.py:5942\u001b[0m, in \u001b[0;36m_call_dispatch.<locals>._impl\u001b[0;34m()\u001b[0m\n\u001b[1;32m   5941\u001b[0m \u001b[38;5;28;01mdef\u001b[39;00m \u001b[38;5;21m_impl\u001b[39m(fn, \u001b[38;5;241m*\u001b[39margs, \u001b[38;5;241m*\u001b[39m\u001b[38;5;241m*\u001b[39mkwargs):\n\u001b[0;32m-> 5942\u001b[0m     \u001b[38;5;28;01mreturn\u001b[39;00m fn\u001b[38;5;241m.\u001b[39m\u001b[38;5;18m__func__\u001b[39m(fn\u001b[38;5;241m.\u001b[39m\u001b[38;5;18m__self__\u001b[39m, \u001b[38;5;241m*\u001b[39margs, \u001b[38;5;241m*\u001b[39m\u001b[38;5;241m*\u001b[39mkwargs)\n",
      "    \u001b[0;31m[... skipping similar frames: _call_dispatch at line 6114 (1 times), _call_function_ex_handler at line 3507 (1 times), _interpret_call at line 5885 (1 times), _run_frame at line 6284 (1 times), _setup_frame_and_run_python_function at line 6238 (1 times), _setup_frame_and_run_python_function at line 6243 (1 times), default_opcode_interpreter at line 1206 (1 times), InterpreterCompileCtx.interpret at line 408 (1 times)]\u001b[0m\n",
      "File \u001b[0;32m~/projects/torch_template/.venv/lib/python3.11/site-packages/torch/nn/modules/module.py:1520\u001b[0m, in \u001b[0;36mModule._call_impl\u001b[0;34m()\u001b[0m\n\u001b[1;32m   1517\u001b[0m \u001b[38;5;28;01mif\u001b[39;00m \u001b[38;5;129;01mnot\u001b[39;00m (\u001b[38;5;28mself\u001b[39m\u001b[38;5;241m.\u001b[39m_backward_hooks \u001b[38;5;129;01mor\u001b[39;00m \u001b[38;5;28mself\u001b[39m\u001b[38;5;241m.\u001b[39m_backward_pre_hooks \u001b[38;5;129;01mor\u001b[39;00m \u001b[38;5;28mself\u001b[39m\u001b[38;5;241m.\u001b[39m_forward_hooks \u001b[38;5;129;01mor\u001b[39;00m \u001b[38;5;28mself\u001b[39m\u001b[38;5;241m.\u001b[39m_forward_pre_hooks\n\u001b[1;32m   1518\u001b[0m         \u001b[38;5;129;01mor\u001b[39;00m _global_backward_pre_hooks \u001b[38;5;129;01mor\u001b[39;00m _global_backward_hooks\n\u001b[1;32m   1519\u001b[0m         \u001b[38;5;129;01mor\u001b[39;00m _global_forward_hooks \u001b[38;5;129;01mor\u001b[39;00m _global_forward_pre_hooks):\n\u001b[0;32m-> 1520\u001b[0m     \u001b[38;5;28;01mreturn\u001b[39;00m forward_call(\u001b[38;5;241m*\u001b[39margs, \u001b[38;5;241m*\u001b[39m\u001b[38;5;241m*\u001b[39mkwargs)\n\u001b[1;32m   1522\u001b[0m \u001b[38;5;28;01mtry\u001b[39;00m:\n",
      "    \u001b[0;31m[... skipping similar frames: _call_function_ex_handler at line 3507 (1 times), _interpret_call at line 5885 (1 times), _run_frame at line 6284 (1 times), _setup_frame_and_run_python_function at line 6238 (1 times), default_opcode_interpreter at line 1206 (1 times), InterpreterCompileCtx.interpret at line 408 (1 times)]\u001b[0m\n",
      "File \u001b[0;32m~/projects/torch_template/.venv/lib/python3.11/site-packages/thunder/core/interpreter.py:5944\u001b[0m, in \u001b[0;36m_call_dispatch\u001b[0;34m(compilectx, runtimectx, fn, *args, **kwargs)\u001b[0m\n\u001b[1;32m   5942\u001b[0m         \u001b[38;5;28;01mreturn\u001b[39;00m fn\u001b[38;5;241m.\u001b[39m\u001b[38;5;18m__func__\u001b[39m(fn\u001b[38;5;241m.\u001b[39m\u001b[38;5;18m__self__\u001b[39m, \u001b[38;5;241m*\u001b[39margs, \u001b[38;5;241m*\u001b[39m\u001b[38;5;241m*\u001b[39mkwargs)\n\u001b[0;32m-> 5944\u001b[0m     \u001b[38;5;28;01mreturn\u001b[39;00m \u001b[43m_interpret_call\u001b[49m\u001b[43m(\u001b[49m\u001b[43m_impl\u001b[49m\u001b[43m,\u001b[49m\u001b[43m \u001b[49m\u001b[43mwrapped_fn\u001b[49m\u001b[43m,\u001b[49m\u001b[43m \u001b[49m\u001b[38;5;241;43m*\u001b[39;49m\u001b[43margs\u001b[49m\u001b[43m,\u001b[49m\u001b[43m \u001b[49m\u001b[38;5;241;43m*\u001b[39;49m\u001b[38;5;241;43m*\u001b[39;49m\u001b[43mkwargs\u001b[49m\u001b[43m)\u001b[49m  \u001b[38;5;66;03m# type: ignore\u001b[39;00m\n\u001b[1;32m   5946\u001b[0m \u001b[38;5;66;03m# (1b) The callable is a builtin method, in which case it's canonicalized\u001b[39;00m\n\u001b[1;32m   5947\u001b[0m \u001b[38;5;66;03m#   A builtin is canonicalized when it's a call on a type or a module (or their equivalent)\u001b[39;00m\n\u001b[1;32m   5948\u001b[0m \u001b[38;5;66;03m#   Ex. The append method of a list\u001b[39;00m\n\u001b[0;32m   (...)\u001b[0m\n\u001b[1;32m   5989\u001b[0m \u001b[38;5;66;03m# NOTE Builtin Methods\u001b[39;00m\n\u001b[1;32m   5990\u001b[0m \u001b[38;5;66;03m#   Builtin methods are not considered methods by inspect.ismethod\u001b[39;00m\n",
      "    \u001b[0;31m[... skipping similar frames: _call_dispatch at line 6114 (1 times), _interpret_call at line 5885 (1 times), _setup_frame_and_run_python_function at line 6243 (1 times)]\u001b[0m\n",
      "File \u001b[0;32m~/projects/torch_template/.venv/lib/python3.11/site-packages/thunder/core/interpreter.py:5942\u001b[0m, in \u001b[0;36m_call_dispatch.<locals>._impl\u001b[0;34m()\u001b[0m\n\u001b[1;32m   5941\u001b[0m \u001b[38;5;28;01mdef\u001b[39;00m \u001b[38;5;21m_impl\u001b[39m(fn, \u001b[38;5;241m*\u001b[39margs, \u001b[38;5;241m*\u001b[39m\u001b[38;5;241m*\u001b[39mkwargs):\n\u001b[0;32m-> 5942\u001b[0m     \u001b[38;5;28;01mreturn\u001b[39;00m fn\u001b[38;5;241m.\u001b[39m\u001b[38;5;18m__func__\u001b[39m(fn\u001b[38;5;241m.\u001b[39m\u001b[38;5;18m__self__\u001b[39m, \u001b[38;5;241m*\u001b[39margs, \u001b[38;5;241m*\u001b[39m\u001b[38;5;241m*\u001b[39mkwargs)\n",
      "File \u001b[0;32m~/projects/torch_template/.venv/lib/python3.11/site-packages/thunder/core/interpreter.py:6238\u001b[0m, in \u001b[0;36m_setup_frame_and_run_python_function\u001b[0;34m(compilectx, runtimectx, wrapped_fn, *args, **kwargs)\u001b[0m\n\u001b[1;32m   6237\u001b[0m \u001b[38;5;28;01mtry\u001b[39;00m:\n\u001b[0;32m-> 6238\u001b[0m     res, status \u001b[38;5;241m=\u001b[39m \u001b[43m_run_frame\u001b[49m\u001b[43m(\u001b[49m\u001b[43mframe\u001b[49m\u001b[43m,\u001b[49m\u001b[43m \u001b[49m\u001b[43mcompilectx\u001b[49m\u001b[43m,\u001b[49m\u001b[43m \u001b[49m\u001b[43mruntimectx\u001b[49m\u001b[43m)\u001b[49m\n\u001b[1;32m   6239\u001b[0m \u001b[38;5;28;01mexcept\u001b[39;00m \u001b[38;5;167;01mException\u001b[39;00m \u001b[38;5;28;01mas\u001b[39;00m e:\n\u001b[1;32m   6240\u001b[0m     \u001b[38;5;66;03m# We need to cheat a bit to get a Python frame here...\u001b[39;00m\n",
      "File \u001b[0;32m~/projects/torch_template/.venv/lib/python3.11/site-packages/thunder/core/interpreter.py:6284\u001b[0m, in \u001b[0;36m_run_frame\u001b[0;34m(frame, compilectx, runtimectx, send_value)\u001b[0m\n\u001b[1;32m   6283\u001b[0m frame\u001b[38;5;241m.\u001b[39mlasti \u001b[38;5;241m=\u001b[39m frame\u001b[38;5;241m.\u001b[39minst_ptr  \u001b[38;5;66;03m# ???\u001b[39;00m\n\u001b[0;32m-> 6284\u001b[0m interpretation_result: \u001b[38;5;28;01mNone\u001b[39;00m \u001b[38;5;241m|\u001b[39m \u001b[38;5;28mint\u001b[39m \u001b[38;5;241m|\u001b[39m INTERPRETER_SIGNALS \u001b[38;5;241m=\u001b[39m \u001b[43mcompilectx\u001b[49m\u001b[38;5;241;43m.\u001b[39;49m\u001b[43minterpret\u001b[49m\u001b[43m(\u001b[49m\n\u001b[1;32m   6285\u001b[0m \u001b[43m    \u001b[49m\u001b[43minst\u001b[49m\u001b[43m,\u001b[49m\n\u001b[1;32m   6286\u001b[0m \u001b[43m    \u001b[49m\u001b[43minst_ptr\u001b[49m\u001b[38;5;241;43m=\u001b[39;49m\u001b[43mframe\u001b[49m\u001b[38;5;241;43m.\u001b[39;49m\u001b[43minst_ptr\u001b[49m\u001b[43m,\u001b[49m\n\u001b[1;32m   6287\u001b[0m \u001b[43m    \u001b[49m\u001b[43mstack\u001b[49m\u001b[38;5;241;43m=\u001b[39;49m\u001b[43mframe\u001b[49m\u001b[38;5;241;43m.\u001b[39;49m\u001b[43minterpreter_stack\u001b[49m\u001b[43m,\u001b[49m\n\u001b[1;32m   6288\u001b[0m \u001b[43m    \u001b[49m\u001b[43mglobals_dict\u001b[49m\u001b[38;5;241;43m=\u001b[39;49m\u001b[43mframe\u001b[49m\u001b[38;5;241;43m.\u001b[39;49m\u001b[43mglobals\u001b[49m\u001b[43m,\u001b[49m\n\u001b[1;32m   6289\u001b[0m \u001b[43m    \u001b[49m\u001b[43mtry_stack\u001b[49m\u001b[38;5;241;43m=\u001b[39;49m\u001b[43mframe\u001b[49m\u001b[38;5;241;43m.\u001b[39;49m\u001b[43mtry_stack\u001b[49m\u001b[43m,\u001b[49m\n\u001b[1;32m   6290\u001b[0m \u001b[43m    \u001b[49m\u001b[43mexception_stack\u001b[49m\u001b[38;5;241;43m=\u001b[39;49m\u001b[43mruntimectx\u001b[49m\u001b[38;5;241;43m.\u001b[39;49m\u001b[43mexception_stack\u001b[49m\u001b[43m,\u001b[49m\n\u001b[1;32m   6291\u001b[0m \u001b[43m    \u001b[49m\u001b[43mco\u001b[49m\u001b[38;5;241;43m=\u001b[39;49m\u001b[43mframe\u001b[49m\u001b[38;5;241;43m.\u001b[39;49m\u001b[43mcode\u001b[49m\u001b[43m,\u001b[49m\n\u001b[1;32m   6292\u001b[0m \u001b[43m    \u001b[49m\u001b[43mframe\u001b[49m\u001b[38;5;241;43m=\u001b[39;49m\u001b[43mframe\u001b[49m\u001b[43m,\u001b[49m\n\u001b[1;32m   6293\u001b[0m \u001b[43m\u001b[49m\u001b[43m)\u001b[49m\n\u001b[1;32m   6294\u001b[0m \u001b[38;5;28;01mif\u001b[39;00m interpretation_result \u001b[38;5;129;01mis\u001b[39;00m INTERPRETER_SIGNALS\u001b[38;5;241m.\u001b[39mEXCEPTION_RAISED:\n",
      "File \u001b[0;32m~/projects/torch_template/.venv/lib/python3.11/site-packages/thunder/core/interpreter.py:408\u001b[0m, in \u001b[0;36mInterpreterCompileCtx.interpret\u001b[0;34m(self, inst, **interpreter_state)\u001b[0m\n\u001b[1;32m    407\u001b[0m \u001b[38;5;28;01mdef\u001b[39;00m \u001b[38;5;21minterpret\u001b[39m(\u001b[38;5;28mself\u001b[39m, inst: dis\u001b[38;5;241m.\u001b[39mInstruction, \u001b[38;5;241m/\u001b[39m, \u001b[38;5;241m*\u001b[39m\u001b[38;5;241m*\u001b[39minterpreter_state) \u001b[38;5;241m-\u001b[39m\u001b[38;5;241m>\u001b[39m \u001b[38;5;28;01mNone\u001b[39;00m \u001b[38;5;241m|\u001b[39m \u001b[38;5;28mint\u001b[39m \u001b[38;5;241m|\u001b[39m INTERPRETER_SIGNALS:\n\u001b[0;32m--> 408\u001b[0m     \u001b[38;5;28;01mreturn\u001b[39;00m \u001b[38;5;28;43mself\u001b[39;49m\u001b[38;5;241;43m.\u001b[39;49m\u001b[43m_opcode_interpreter\u001b[49m\u001b[43m(\u001b[49m\u001b[43minst\u001b[49m\u001b[43m,\u001b[49m\u001b[43m \u001b[49m\u001b[38;5;241;43m*\u001b[39;49m\u001b[38;5;241;43m*\u001b[39;49m\u001b[43minterpreter_state\u001b[49m\u001b[43m)\u001b[49m\n",
      "File \u001b[0;32m~/projects/torch_template/.venv/lib/python3.11/site-packages/thunder/core/interpreter.py:1206\u001b[0m, in \u001b[0;36mdefault_opcode_interpreter\u001b[0;34m(inst, **interpreter_state)\u001b[0m\n\u001b[1;32m   1205\u001b[0m \u001b[38;5;28;01mwith\u001b[39;00m interpreter_state[\u001b[38;5;124m\"\u001b[39m\u001b[38;5;124mstack\u001b[39m\u001b[38;5;124m\"\u001b[39m]\u001b[38;5;241m.\u001b[39mset_cur_instruction(inst):\n\u001b[0;32m-> 1206\u001b[0m     \u001b[38;5;28;01mreturn\u001b[39;00m \u001b[43mhandler\u001b[49m\u001b[43m(\u001b[49m\u001b[43minst\u001b[49m\u001b[43m,\u001b[49m\u001b[43m \u001b[49m\u001b[38;5;241;43m*\u001b[39;49m\u001b[38;5;241;43m*\u001b[39;49m\u001b[43minterpreter_state\u001b[49m\u001b[43m)\u001b[49m\n",
      "File \u001b[0;32m~/projects/torch_template/.venv/lib/python3.11/site-packages/thunder/core/interpreter.py:3507\u001b[0m, in \u001b[0;36m_call_function_ex_handler\u001b[0;34m(inst, stack, **kwargs)\u001b[0m\n\u001b[1;32m   3506\u001b[0m     kwargs \u001b[38;5;241m=\u001b[39m wrap_kwargs_from_dict(kwargs)\n\u001b[0;32m-> 3507\u001b[0m \u001b[38;5;28;01mreturn\u001b[39;00m check_and_append(stack, \u001b[43m_interpret_call\u001b[49m\u001b[43m(\u001b[49m\u001b[43mfunc\u001b[49m\u001b[43m,\u001b[49m\u001b[43m \u001b[49m\u001b[38;5;241;43m*\u001b[39;49m\u001b[43margs\u001b[49m\u001b[43m,\u001b[49m\u001b[43m \u001b[49m\u001b[38;5;241;43m*\u001b[39;49m\u001b[38;5;241;43m*\u001b[39;49m\u001b[43mkwargs\u001b[49m\u001b[43m)\u001b[49m)\n",
      "File \u001b[0;32m~/projects/torch_template/.venv/lib/python3.11/site-packages/thunder/core/interpreter.py:5885\u001b[0m, in \u001b[0;36m_interpret_call\u001b[0;34m(fn, *args, **kwargs)\u001b[0m\n\u001b[1;32m   5884\u001b[0m runtimectx\u001b[38;5;241m.\u001b[39mrecord_interpreter_call(fn)  \u001b[38;5;66;03m# type: ignore\u001b[39;00m\n\u001b[0;32m-> 5885\u001b[0m rval \u001b[38;5;241m=\u001b[39m \u001b[43m_call_dispatch\u001b[49m\u001b[43m(\u001b[49m\u001b[43mcompilectx\u001b[49m\u001b[43m,\u001b[49m\u001b[43m \u001b[49m\u001b[43mruntimectx\u001b[49m\u001b[43m,\u001b[49m\u001b[43m \u001b[49m\u001b[43mfn\u001b[49m\u001b[43m,\u001b[49m\u001b[43m \u001b[49m\u001b[38;5;241;43m*\u001b[39;49m\u001b[43margs\u001b[49m\u001b[43m,\u001b[49m\u001b[43m \u001b[49m\u001b[38;5;241;43m*\u001b[39;49m\u001b[38;5;241;43m*\u001b[39;49m\u001b[43mkwargs\u001b[49m\u001b[43m)\u001b[49m  \u001b[38;5;66;03m# type: ignore\u001b[39;00m\n\u001b[1;32m   5886\u001b[0m \u001b[38;5;28;01mif\u001b[39;00m compilectx\u001b[38;5;241m.\u001b[39m_with_provenance_tracking:\n",
      "File \u001b[0;32m~/projects/torch_template/.venv/lib/python3.11/site-packages/thunder/core/interpreter.py:6114\u001b[0m, in \u001b[0;36m_call_dispatch\u001b[0;34m(compilectx, runtimectx, fn, *args, **kwargs)\u001b[0m\n\u001b[1;32m   6113\u001b[0m \u001b[38;5;28;01massert\u001b[39;00m \u001b[38;5;28misinstance\u001b[39m(fn, FunctionType), \u001b[38;5;124mf\u001b[39m\u001b[38;5;124m\"\u001b[39m\u001b[38;5;132;01m{\u001b[39;00mfn\u001b[38;5;132;01m=}\u001b[39;00m\u001b[38;5;124m had an unexpected type (\u001b[39m\u001b[38;5;132;01m{\u001b[39;00m\u001b[38;5;28mtype\u001b[39m(fn)\u001b[38;5;132;01m}\u001b[39;00m\u001b[38;5;124m\"\u001b[39m\n\u001b[0;32m-> 6114\u001b[0m \u001b[38;5;28;01mreturn\u001b[39;00m \u001b[43m_setup_frame_and_run_python_function\u001b[49m\u001b[43m(\u001b[49m\u001b[43mcompilectx\u001b[49m\u001b[43m,\u001b[49m\u001b[43m \u001b[49m\u001b[43mruntimectx\u001b[49m\u001b[43m,\u001b[49m\u001b[43m \u001b[49m\u001b[43mwrapped_fn\u001b[49m\u001b[43m,\u001b[49m\u001b[43m \u001b[49m\u001b[38;5;241;43m*\u001b[39;49m\u001b[43margs\u001b[49m\u001b[43m,\u001b[49m\u001b[43m \u001b[49m\u001b[38;5;241;43m*\u001b[39;49m\u001b[38;5;241;43m*\u001b[39;49m\u001b[43mkwargs\u001b[49m\u001b[43m)\u001b[49m\n",
      "File \u001b[0;32m~/projects/torch_template/.venv/lib/python3.11/site-packages/thunder/core/interpreter.py:6243\u001b[0m, in \u001b[0;36m_setup_frame_and_run_python_function\u001b[0;34m(compilectx, runtimectx, wrapped_fn, *args, **kwargs)\u001b[0m\n\u001b[1;32m   6242\u001b[0m     tb \u001b[38;5;241m=\u001b[39m TracebackType(e\u001b[38;5;241m.\u001b[39m__traceback__, python_frame, python_frame\u001b[38;5;241m.\u001b[39mf_lasti, python_frame\u001b[38;5;241m.\u001b[39mf_lineno)\n\u001b[0;32m-> 6243\u001b[0m     \u001b[38;5;28;01mraise\u001b[39;00m e\u001b[38;5;241m.\u001b[39mwith_traceback(tb)\n\u001b[1;32m   6244\u001b[0m \u001b[38;5;28;01mreturn\u001b[39;00m res\n",
      "File \u001b[0;32m~/projects/torch_template/.venv/lib/python3.11/site-packages/torch/nn/modules/container.py:217\u001b[0m, in \u001b[0;36mSequential.forward\u001b[0;34m()\u001b[0m\n\u001b[1;32m    216\u001b[0m \u001b[38;5;28;01mfor\u001b[39;00m module \u001b[38;5;129;01min\u001b[39;00m \u001b[38;5;28mself\u001b[39m:\n\u001b[0;32m--> 217\u001b[0m     \u001b[38;5;28minput\u001b[39m \u001b[38;5;241m=\u001b[39m module(\u001b[38;5;28minput\u001b[39m)\n\u001b[1;32m    218\u001b[0m \u001b[38;5;28;01mreturn\u001b[39;00m \u001b[38;5;28minput\u001b[39m\n",
      "File \u001b[0;32m~/projects/torch_template/.venv/lib/python3.11/site-packages/thunder/core/interpreter.py:6238\u001b[0m, in \u001b[0;36m_setup_frame_and_run_python_function\u001b[0;34m(compilectx, runtimectx, wrapped_fn, *args, **kwargs)\u001b[0m\n\u001b[1;32m   6237\u001b[0m \u001b[38;5;28;01mtry\u001b[39;00m:\n\u001b[0;32m-> 6238\u001b[0m     res, status \u001b[38;5;241m=\u001b[39m \u001b[43m_run_frame\u001b[49m\u001b[43m(\u001b[49m\u001b[43mframe\u001b[49m\u001b[43m,\u001b[49m\u001b[43m \u001b[49m\u001b[43mcompilectx\u001b[49m\u001b[43m,\u001b[49m\u001b[43m \u001b[49m\u001b[43mruntimectx\u001b[49m\u001b[43m)\u001b[49m\n\u001b[1;32m   6239\u001b[0m \u001b[38;5;28;01mexcept\u001b[39;00m \u001b[38;5;167;01mException\u001b[39;00m \u001b[38;5;28;01mas\u001b[39;00m e:\n\u001b[1;32m   6240\u001b[0m     \u001b[38;5;66;03m# We need to cheat a bit to get a Python frame here...\u001b[39;00m\n",
      "File \u001b[0;32m~/projects/torch_template/.venv/lib/python3.11/site-packages/thunder/core/interpreter.py:6284\u001b[0m, in \u001b[0;36m_run_frame\u001b[0;34m(frame, compilectx, runtimectx, send_value)\u001b[0m\n\u001b[1;32m   6283\u001b[0m frame\u001b[38;5;241m.\u001b[39mlasti \u001b[38;5;241m=\u001b[39m frame\u001b[38;5;241m.\u001b[39minst_ptr  \u001b[38;5;66;03m# ???\u001b[39;00m\n\u001b[0;32m-> 6284\u001b[0m interpretation_result: \u001b[38;5;28;01mNone\u001b[39;00m \u001b[38;5;241m|\u001b[39m \u001b[38;5;28mint\u001b[39m \u001b[38;5;241m|\u001b[39m INTERPRETER_SIGNALS \u001b[38;5;241m=\u001b[39m \u001b[43mcompilectx\u001b[49m\u001b[38;5;241;43m.\u001b[39;49m\u001b[43minterpret\u001b[49m\u001b[43m(\u001b[49m\n\u001b[1;32m   6285\u001b[0m \u001b[43m    \u001b[49m\u001b[43minst\u001b[49m\u001b[43m,\u001b[49m\n\u001b[1;32m   6286\u001b[0m \u001b[43m    \u001b[49m\u001b[43minst_ptr\u001b[49m\u001b[38;5;241;43m=\u001b[39;49m\u001b[43mframe\u001b[49m\u001b[38;5;241;43m.\u001b[39;49m\u001b[43minst_ptr\u001b[49m\u001b[43m,\u001b[49m\n\u001b[1;32m   6287\u001b[0m \u001b[43m    \u001b[49m\u001b[43mstack\u001b[49m\u001b[38;5;241;43m=\u001b[39;49m\u001b[43mframe\u001b[49m\u001b[38;5;241;43m.\u001b[39;49m\u001b[43minterpreter_stack\u001b[49m\u001b[43m,\u001b[49m\n\u001b[1;32m   6288\u001b[0m \u001b[43m    \u001b[49m\u001b[43mglobals_dict\u001b[49m\u001b[38;5;241;43m=\u001b[39;49m\u001b[43mframe\u001b[49m\u001b[38;5;241;43m.\u001b[39;49m\u001b[43mglobals\u001b[49m\u001b[43m,\u001b[49m\n\u001b[1;32m   6289\u001b[0m \u001b[43m    \u001b[49m\u001b[43mtry_stack\u001b[49m\u001b[38;5;241;43m=\u001b[39;49m\u001b[43mframe\u001b[49m\u001b[38;5;241;43m.\u001b[39;49m\u001b[43mtry_stack\u001b[49m\u001b[43m,\u001b[49m\n\u001b[1;32m   6290\u001b[0m \u001b[43m    \u001b[49m\u001b[43mexception_stack\u001b[49m\u001b[38;5;241;43m=\u001b[39;49m\u001b[43mruntimectx\u001b[49m\u001b[38;5;241;43m.\u001b[39;49m\u001b[43mexception_stack\u001b[49m\u001b[43m,\u001b[49m\n\u001b[1;32m   6291\u001b[0m \u001b[43m    \u001b[49m\u001b[43mco\u001b[49m\u001b[38;5;241;43m=\u001b[39;49m\u001b[43mframe\u001b[49m\u001b[38;5;241;43m.\u001b[39;49m\u001b[43mcode\u001b[49m\u001b[43m,\u001b[49m\n\u001b[1;32m   6292\u001b[0m \u001b[43m    \u001b[49m\u001b[43mframe\u001b[49m\u001b[38;5;241;43m=\u001b[39;49m\u001b[43mframe\u001b[49m\u001b[43m,\u001b[49m\n\u001b[1;32m   6293\u001b[0m \u001b[43m\u001b[49m\u001b[43m)\u001b[49m\n\u001b[1;32m   6294\u001b[0m \u001b[38;5;28;01mif\u001b[39;00m interpretation_result \u001b[38;5;129;01mis\u001b[39;00m INTERPRETER_SIGNALS\u001b[38;5;241m.\u001b[39mEXCEPTION_RAISED:\n",
      "File \u001b[0;32m~/projects/torch_template/.venv/lib/python3.11/site-packages/thunder/core/interpreter.py:408\u001b[0m, in \u001b[0;36mInterpreterCompileCtx.interpret\u001b[0;34m(self, inst, **interpreter_state)\u001b[0m\n\u001b[1;32m    407\u001b[0m \u001b[38;5;28;01mdef\u001b[39;00m \u001b[38;5;21minterpret\u001b[39m(\u001b[38;5;28mself\u001b[39m, inst: dis\u001b[38;5;241m.\u001b[39mInstruction, \u001b[38;5;241m/\u001b[39m, \u001b[38;5;241m*\u001b[39m\u001b[38;5;241m*\u001b[39minterpreter_state) \u001b[38;5;241m-\u001b[39m\u001b[38;5;241m>\u001b[39m \u001b[38;5;28;01mNone\u001b[39;00m \u001b[38;5;241m|\u001b[39m \u001b[38;5;28mint\u001b[39m \u001b[38;5;241m|\u001b[39m INTERPRETER_SIGNALS:\n\u001b[0;32m--> 408\u001b[0m     \u001b[38;5;28;01mreturn\u001b[39;00m \u001b[38;5;28;43mself\u001b[39;49m\u001b[38;5;241;43m.\u001b[39;49m\u001b[43m_opcode_interpreter\u001b[49m\u001b[43m(\u001b[49m\u001b[43minst\u001b[49m\u001b[43m,\u001b[49m\u001b[43m \u001b[49m\u001b[38;5;241;43m*\u001b[39;49m\u001b[38;5;241;43m*\u001b[39;49m\u001b[43minterpreter_state\u001b[49m\u001b[43m)\u001b[49m\n",
      "File \u001b[0;32m~/projects/torch_template/.venv/lib/python3.11/site-packages/thunder/core/interpreter.py:1206\u001b[0m, in \u001b[0;36mdefault_opcode_interpreter\u001b[0;34m(inst, **interpreter_state)\u001b[0m\n\u001b[1;32m   1205\u001b[0m \u001b[38;5;28;01mwith\u001b[39;00m interpreter_state[\u001b[38;5;124m\"\u001b[39m\u001b[38;5;124mstack\u001b[39m\u001b[38;5;124m\"\u001b[39m]\u001b[38;5;241m.\u001b[39mset_cur_instruction(inst):\n\u001b[0;32m-> 1206\u001b[0m     \u001b[38;5;28;01mreturn\u001b[39;00m \u001b[43mhandler\u001b[49m\u001b[43m(\u001b[49m\u001b[43minst\u001b[49m\u001b[43m,\u001b[49m\u001b[43m \u001b[49m\u001b[38;5;241;43m*\u001b[39;49m\u001b[38;5;241;43m*\u001b[39;49m\u001b[43minterpreter_state\u001b[49m\u001b[43m)\u001b[49m\n",
      "File \u001b[0;32m~/projects/torch_template/.venv/lib/python3.11/site-packages/thunder/core/interpreter.py:3467\u001b[0m, in \u001b[0;36m_call_handler\u001b[0;34m(inst, stack, frame, **kwargs)\u001b[0m\n\u001b[1;32m   3465\u001b[0m     func \u001b[38;5;241m=\u001b[39m func_or_self\n\u001b[0;32m-> 3467\u001b[0m res \u001b[38;5;241m=\u001b[39m \u001b[43m_interpret_call\u001b[49m\u001b[43m(\u001b[49m\u001b[43mfunc\u001b[49m\u001b[43m,\u001b[49m\u001b[43m \u001b[49m\u001b[38;5;241;43m*\u001b[39;49m\u001b[43margs\u001b[49m\u001b[43m,\u001b[49m\u001b[43m \u001b[49m\u001b[38;5;241;43m*\u001b[39;49m\u001b[38;5;241;43m*\u001b[39;49m\u001b[43mkwargs\u001b[49m\u001b[43m)\u001b[49m\n\u001b[1;32m   3468\u001b[0m ctx: InterpreterCompileCtx \u001b[38;5;241m=\u001b[39m get_interpretercompilectx()\n",
      "File \u001b[0;32m~/projects/torch_template/.venv/lib/python3.11/site-packages/thunder/core/interpreter.py:5885\u001b[0m, in \u001b[0;36m_interpret_call\u001b[0;34m(fn, *args, **kwargs)\u001b[0m\n\u001b[1;32m   5884\u001b[0m runtimectx\u001b[38;5;241m.\u001b[39mrecord_interpreter_call(fn)  \u001b[38;5;66;03m# type: ignore\u001b[39;00m\n\u001b[0;32m-> 5885\u001b[0m rval \u001b[38;5;241m=\u001b[39m \u001b[43m_call_dispatch\u001b[49m\u001b[43m(\u001b[49m\u001b[43mcompilectx\u001b[49m\u001b[43m,\u001b[49m\u001b[43m \u001b[49m\u001b[43mruntimectx\u001b[49m\u001b[43m,\u001b[49m\u001b[43m \u001b[49m\u001b[43mfn\u001b[49m\u001b[43m,\u001b[49m\u001b[43m \u001b[49m\u001b[38;5;241;43m*\u001b[39;49m\u001b[43margs\u001b[49m\u001b[43m,\u001b[49m\u001b[43m \u001b[49m\u001b[38;5;241;43m*\u001b[39;49m\u001b[38;5;241;43m*\u001b[39;49m\u001b[43mkwargs\u001b[49m\u001b[43m)\u001b[49m  \u001b[38;5;66;03m# type: ignore\u001b[39;00m\n\u001b[1;32m   5886\u001b[0m \u001b[38;5;28;01mif\u001b[39;00m compilectx\u001b[38;5;241m.\u001b[39m_with_provenance_tracking:\n",
      "File \u001b[0;32m~/projects/torch_template/.venv/lib/python3.11/site-packages/thunder/core/interpreter.py:6110\u001b[0m, in \u001b[0;36m_call_dispatch\u001b[0;34m(compilectx, runtimectx, fn, *args, **kwargs)\u001b[0m\n\u001b[1;32m   6109\u001b[0m     populate_attribute_wrapper(wrapped_call, \u001b[38;5;124m\"\u001b[39m\u001b[38;5;124m__self__\u001b[39m\u001b[38;5;124m\"\u001b[39m, wrapped_fn)\n\u001b[0;32m-> 6110\u001b[0m     \u001b[38;5;28;01mreturn\u001b[39;00m \u001b[43m_interpret_call\u001b[49m\u001b[43m(\u001b[49m\u001b[43mwrapped_call\u001b[49m\u001b[43m,\u001b[49m\u001b[43m \u001b[49m\u001b[38;5;241;43m*\u001b[39;49m\u001b[43margs\u001b[49m\u001b[43m,\u001b[49m\u001b[43m \u001b[49m\u001b[38;5;241;43m*\u001b[39;49m\u001b[38;5;241;43m*\u001b[39;49m\u001b[43mkwargs\u001b[49m\u001b[43m)\u001b[49m\n\u001b[1;32m   6112\u001b[0m \u001b[38;5;66;03m# (7) interprets into the function\u001b[39;00m\n",
      "File \u001b[0;32m~/projects/torch_template/.venv/lib/python3.11/site-packages/thunder/core/interpreter.py:5885\u001b[0m, in \u001b[0;36m_interpret_call\u001b[0;34m(fn, *args, **kwargs)\u001b[0m\n\u001b[1;32m   5884\u001b[0m runtimectx\u001b[38;5;241m.\u001b[39mrecord_interpreter_call(fn)  \u001b[38;5;66;03m# type: ignore\u001b[39;00m\n\u001b[0;32m-> 5885\u001b[0m rval \u001b[38;5;241m=\u001b[39m \u001b[43m_call_dispatch\u001b[49m\u001b[43m(\u001b[49m\u001b[43mcompilectx\u001b[49m\u001b[43m,\u001b[49m\u001b[43m \u001b[49m\u001b[43mruntimectx\u001b[49m\u001b[43m,\u001b[49m\u001b[43m \u001b[49m\u001b[43mfn\u001b[49m\u001b[43m,\u001b[49m\u001b[43m \u001b[49m\u001b[38;5;241;43m*\u001b[39;49m\u001b[43margs\u001b[49m\u001b[43m,\u001b[49m\u001b[43m \u001b[49m\u001b[38;5;241;43m*\u001b[39;49m\u001b[38;5;241;43m*\u001b[39;49m\u001b[43mkwargs\u001b[49m\u001b[43m)\u001b[49m  \u001b[38;5;66;03m# type: ignore\u001b[39;00m\n\u001b[1;32m   5886\u001b[0m \u001b[38;5;28;01mif\u001b[39;00m compilectx\u001b[38;5;241m.\u001b[39m_with_provenance_tracking:\n",
      "File \u001b[0;32m~/projects/torch_template/.venv/lib/python3.11/site-packages/thunder/core/interpreter.py:5944\u001b[0m, in \u001b[0;36m_call_dispatch\u001b[0;34m(compilectx, runtimectx, fn, *args, **kwargs)\u001b[0m\n\u001b[1;32m   5942\u001b[0m         \u001b[38;5;28;01mreturn\u001b[39;00m fn\u001b[38;5;241m.\u001b[39m\u001b[38;5;18m__func__\u001b[39m(fn\u001b[38;5;241m.\u001b[39m\u001b[38;5;18m__self__\u001b[39m, \u001b[38;5;241m*\u001b[39margs, \u001b[38;5;241m*\u001b[39m\u001b[38;5;241m*\u001b[39mkwargs)\n\u001b[0;32m-> 5944\u001b[0m     \u001b[38;5;28;01mreturn\u001b[39;00m \u001b[43m_interpret_call\u001b[49m\u001b[43m(\u001b[49m\u001b[43m_impl\u001b[49m\u001b[43m,\u001b[49m\u001b[43m \u001b[49m\u001b[43mwrapped_fn\u001b[49m\u001b[43m,\u001b[49m\u001b[43m \u001b[49m\u001b[38;5;241;43m*\u001b[39;49m\u001b[43margs\u001b[49m\u001b[43m,\u001b[49m\u001b[43m \u001b[49m\u001b[38;5;241;43m*\u001b[39;49m\u001b[38;5;241;43m*\u001b[39;49m\u001b[43mkwargs\u001b[49m\u001b[43m)\u001b[49m  \u001b[38;5;66;03m# type: ignore\u001b[39;00m\n\u001b[1;32m   5946\u001b[0m \u001b[38;5;66;03m# (1b) The callable is a builtin method, in which case it's canonicalized\u001b[39;00m\n\u001b[1;32m   5947\u001b[0m \u001b[38;5;66;03m#   A builtin is canonicalized when it's a call on a type or a module (or their equivalent)\u001b[39;00m\n\u001b[1;32m   5948\u001b[0m \u001b[38;5;66;03m#   Ex. The append method of a list\u001b[39;00m\n\u001b[0;32m   (...)\u001b[0m\n\u001b[1;32m   5989\u001b[0m \u001b[38;5;66;03m# NOTE Builtin Methods\u001b[39;00m\n\u001b[1;32m   5990\u001b[0m \u001b[38;5;66;03m#   Builtin methods are not considered methods by inspect.ismethod\u001b[39;00m\n",
      "    \u001b[0;31m[... skipping similar frames: _interpret_call at line 5885 (1 times)]\u001b[0m\n",
      "File \u001b[0;32m~/projects/torch_template/.venv/lib/python3.11/site-packages/thunder/core/interpreter.py:6114\u001b[0m, in \u001b[0;36m_call_dispatch\u001b[0;34m(compilectx, runtimectx, fn, *args, **kwargs)\u001b[0m\n\u001b[1;32m   6113\u001b[0m \u001b[38;5;28;01massert\u001b[39;00m \u001b[38;5;28misinstance\u001b[39m(fn, FunctionType), \u001b[38;5;124mf\u001b[39m\u001b[38;5;124m\"\u001b[39m\u001b[38;5;132;01m{\u001b[39;00mfn\u001b[38;5;132;01m=}\u001b[39;00m\u001b[38;5;124m had an unexpected type (\u001b[39m\u001b[38;5;132;01m{\u001b[39;00m\u001b[38;5;28mtype\u001b[39m(fn)\u001b[38;5;132;01m}\u001b[39;00m\u001b[38;5;124m\"\u001b[39m\n\u001b[0;32m-> 6114\u001b[0m \u001b[38;5;28;01mreturn\u001b[39;00m \u001b[43m_setup_frame_and_run_python_function\u001b[49m\u001b[43m(\u001b[49m\u001b[43mcompilectx\u001b[49m\u001b[43m,\u001b[49m\u001b[43m \u001b[49m\u001b[43mruntimectx\u001b[49m\u001b[43m,\u001b[49m\u001b[43m \u001b[49m\u001b[43mwrapped_fn\u001b[49m\u001b[43m,\u001b[49m\u001b[43m \u001b[49m\u001b[38;5;241;43m*\u001b[39;49m\u001b[43margs\u001b[49m\u001b[43m,\u001b[49m\u001b[43m \u001b[49m\u001b[38;5;241;43m*\u001b[39;49m\u001b[38;5;241;43m*\u001b[39;49m\u001b[43mkwargs\u001b[49m\u001b[43m)\u001b[49m\n",
      "File \u001b[0;32m~/projects/torch_template/.venv/lib/python3.11/site-packages/thunder/core/interpreter.py:6243\u001b[0m, in \u001b[0;36m_setup_frame_and_run_python_function\u001b[0;34m(compilectx, runtimectx, wrapped_fn, *args, **kwargs)\u001b[0m\n\u001b[1;32m   6242\u001b[0m     tb \u001b[38;5;241m=\u001b[39m TracebackType(e\u001b[38;5;241m.\u001b[39m__traceback__, python_frame, python_frame\u001b[38;5;241m.\u001b[39mf_lasti, python_frame\u001b[38;5;241m.\u001b[39mf_lineno)\n\u001b[0;32m-> 6243\u001b[0m     \u001b[38;5;28;01mraise\u001b[39;00m e\u001b[38;5;241m.\u001b[39mwith_traceback(tb)\n\u001b[1;32m   6244\u001b[0m \u001b[38;5;28;01mreturn\u001b[39;00m res\n",
      "File \u001b[0;32m~/projects/torch_template/.venv/lib/python3.11/site-packages/thunder/core/interpreter.py:5942\u001b[0m, in \u001b[0;36m_call_dispatch.<locals>._impl\u001b[0;34m()\u001b[0m\n\u001b[1;32m   5941\u001b[0m \u001b[38;5;28;01mdef\u001b[39;00m \u001b[38;5;21m_impl\u001b[39m(fn, \u001b[38;5;241m*\u001b[39margs, \u001b[38;5;241m*\u001b[39m\u001b[38;5;241m*\u001b[39mkwargs):\n\u001b[0;32m-> 5942\u001b[0m     \u001b[38;5;28;01mreturn\u001b[39;00m fn\u001b[38;5;241m.\u001b[39m\u001b[38;5;18m__func__\u001b[39m(fn\u001b[38;5;241m.\u001b[39m\u001b[38;5;18m__self__\u001b[39m, \u001b[38;5;241m*\u001b[39margs, \u001b[38;5;241m*\u001b[39m\u001b[38;5;241m*\u001b[39mkwargs)\n",
      "File \u001b[0;32m~/projects/torch_template/.venv/lib/python3.11/site-packages/thunder/core/interpreter.py:6238\u001b[0m, in \u001b[0;36m_setup_frame_and_run_python_function\u001b[0;34m(compilectx, runtimectx, wrapped_fn, *args, **kwargs)\u001b[0m\n\u001b[1;32m   6237\u001b[0m \u001b[38;5;28;01mtry\u001b[39;00m:\n\u001b[0;32m-> 6238\u001b[0m     res, status \u001b[38;5;241m=\u001b[39m \u001b[43m_run_frame\u001b[49m\u001b[43m(\u001b[49m\u001b[43mframe\u001b[49m\u001b[43m,\u001b[49m\u001b[43m \u001b[49m\u001b[43mcompilectx\u001b[49m\u001b[43m,\u001b[49m\u001b[43m \u001b[49m\u001b[43mruntimectx\u001b[49m\u001b[43m)\u001b[49m\n\u001b[1;32m   6239\u001b[0m \u001b[38;5;28;01mexcept\u001b[39;00m \u001b[38;5;167;01mException\u001b[39;00m \u001b[38;5;28;01mas\u001b[39;00m e:\n\u001b[1;32m   6240\u001b[0m     \u001b[38;5;66;03m# We need to cheat a bit to get a Python frame here...\u001b[39;00m\n",
      "File \u001b[0;32m~/projects/torch_template/.venv/lib/python3.11/site-packages/thunder/core/interpreter.py:6284\u001b[0m, in \u001b[0;36m_run_frame\u001b[0;34m(frame, compilectx, runtimectx, send_value)\u001b[0m\n\u001b[1;32m   6283\u001b[0m frame\u001b[38;5;241m.\u001b[39mlasti \u001b[38;5;241m=\u001b[39m frame\u001b[38;5;241m.\u001b[39minst_ptr  \u001b[38;5;66;03m# ???\u001b[39;00m\n\u001b[0;32m-> 6284\u001b[0m interpretation_result: \u001b[38;5;28;01mNone\u001b[39;00m \u001b[38;5;241m|\u001b[39m \u001b[38;5;28mint\u001b[39m \u001b[38;5;241m|\u001b[39m INTERPRETER_SIGNALS \u001b[38;5;241m=\u001b[39m \u001b[43mcompilectx\u001b[49m\u001b[38;5;241;43m.\u001b[39;49m\u001b[43minterpret\u001b[49m\u001b[43m(\u001b[49m\n\u001b[1;32m   6285\u001b[0m \u001b[43m    \u001b[49m\u001b[43minst\u001b[49m\u001b[43m,\u001b[49m\n\u001b[1;32m   6286\u001b[0m \u001b[43m    \u001b[49m\u001b[43minst_ptr\u001b[49m\u001b[38;5;241;43m=\u001b[39;49m\u001b[43mframe\u001b[49m\u001b[38;5;241;43m.\u001b[39;49m\u001b[43minst_ptr\u001b[49m\u001b[43m,\u001b[49m\n\u001b[1;32m   6287\u001b[0m \u001b[43m    \u001b[49m\u001b[43mstack\u001b[49m\u001b[38;5;241;43m=\u001b[39;49m\u001b[43mframe\u001b[49m\u001b[38;5;241;43m.\u001b[39;49m\u001b[43minterpreter_stack\u001b[49m\u001b[43m,\u001b[49m\n\u001b[1;32m   6288\u001b[0m \u001b[43m    \u001b[49m\u001b[43mglobals_dict\u001b[49m\u001b[38;5;241;43m=\u001b[39;49m\u001b[43mframe\u001b[49m\u001b[38;5;241;43m.\u001b[39;49m\u001b[43mglobals\u001b[49m\u001b[43m,\u001b[49m\n\u001b[1;32m   6289\u001b[0m \u001b[43m    \u001b[49m\u001b[43mtry_stack\u001b[49m\u001b[38;5;241;43m=\u001b[39;49m\u001b[43mframe\u001b[49m\u001b[38;5;241;43m.\u001b[39;49m\u001b[43mtry_stack\u001b[49m\u001b[43m,\u001b[49m\n\u001b[1;32m   6290\u001b[0m \u001b[43m    \u001b[49m\u001b[43mexception_stack\u001b[49m\u001b[38;5;241;43m=\u001b[39;49m\u001b[43mruntimectx\u001b[49m\u001b[38;5;241;43m.\u001b[39;49m\u001b[43mexception_stack\u001b[49m\u001b[43m,\u001b[49m\n\u001b[1;32m   6291\u001b[0m \u001b[43m    \u001b[49m\u001b[43mco\u001b[49m\u001b[38;5;241;43m=\u001b[39;49m\u001b[43mframe\u001b[49m\u001b[38;5;241;43m.\u001b[39;49m\u001b[43mcode\u001b[49m\u001b[43m,\u001b[49m\n\u001b[1;32m   6292\u001b[0m \u001b[43m    \u001b[49m\u001b[43mframe\u001b[49m\u001b[38;5;241;43m=\u001b[39;49m\u001b[43mframe\u001b[49m\u001b[43m,\u001b[49m\n\u001b[1;32m   6293\u001b[0m \u001b[43m\u001b[49m\u001b[43m)\u001b[49m\n\u001b[1;32m   6294\u001b[0m \u001b[38;5;28;01mif\u001b[39;00m interpretation_result \u001b[38;5;129;01mis\u001b[39;00m INTERPRETER_SIGNALS\u001b[38;5;241m.\u001b[39mEXCEPTION_RAISED:\n",
      "File \u001b[0;32m~/projects/torch_template/.venv/lib/python3.11/site-packages/thunder/core/interpreter.py:408\u001b[0m, in \u001b[0;36mInterpreterCompileCtx.interpret\u001b[0;34m(self, inst, **interpreter_state)\u001b[0m\n\u001b[1;32m    407\u001b[0m \u001b[38;5;28;01mdef\u001b[39;00m \u001b[38;5;21minterpret\u001b[39m(\u001b[38;5;28mself\u001b[39m, inst: dis\u001b[38;5;241m.\u001b[39mInstruction, \u001b[38;5;241m/\u001b[39m, \u001b[38;5;241m*\u001b[39m\u001b[38;5;241m*\u001b[39minterpreter_state) \u001b[38;5;241m-\u001b[39m\u001b[38;5;241m>\u001b[39m \u001b[38;5;28;01mNone\u001b[39;00m \u001b[38;5;241m|\u001b[39m \u001b[38;5;28mint\u001b[39m \u001b[38;5;241m|\u001b[39m INTERPRETER_SIGNALS:\n\u001b[0;32m--> 408\u001b[0m     \u001b[38;5;28;01mreturn\u001b[39;00m \u001b[38;5;28;43mself\u001b[39;49m\u001b[38;5;241;43m.\u001b[39;49m\u001b[43m_opcode_interpreter\u001b[49m\u001b[43m(\u001b[49m\u001b[43minst\u001b[49m\u001b[43m,\u001b[49m\u001b[43m \u001b[49m\u001b[38;5;241;43m*\u001b[39;49m\u001b[38;5;241;43m*\u001b[39;49m\u001b[43minterpreter_state\u001b[49m\u001b[43m)\u001b[49m\n",
      "File \u001b[0;32m~/projects/torch_template/.venv/lib/python3.11/site-packages/thunder/core/interpreter.py:1206\u001b[0m, in \u001b[0;36mdefault_opcode_interpreter\u001b[0;34m(inst, **interpreter_state)\u001b[0m\n\u001b[1;32m   1205\u001b[0m \u001b[38;5;28;01mwith\u001b[39;00m interpreter_state[\u001b[38;5;124m\"\u001b[39m\u001b[38;5;124mstack\u001b[39m\u001b[38;5;124m\"\u001b[39m]\u001b[38;5;241m.\u001b[39mset_cur_instruction(inst):\n\u001b[0;32m-> 1206\u001b[0m     \u001b[38;5;28;01mreturn\u001b[39;00m \u001b[43mhandler\u001b[49m\u001b[43m(\u001b[49m\u001b[43minst\u001b[49m\u001b[43m,\u001b[49m\u001b[43m \u001b[49m\u001b[38;5;241;43m*\u001b[39;49m\u001b[38;5;241;43m*\u001b[39;49m\u001b[43minterpreter_state\u001b[49m\u001b[43m)\u001b[49m\n",
      "File \u001b[0;32m~/projects/torch_template/.venv/lib/python3.11/site-packages/thunder/core/interpreter.py:3507\u001b[0m, in \u001b[0;36m_call_function_ex_handler\u001b[0;34m(inst, stack, **kwargs)\u001b[0m\n\u001b[1;32m   3506\u001b[0m     kwargs \u001b[38;5;241m=\u001b[39m wrap_kwargs_from_dict(kwargs)\n\u001b[0;32m-> 3507\u001b[0m \u001b[38;5;28;01mreturn\u001b[39;00m check_and_append(stack, \u001b[43m_interpret_call\u001b[49m\u001b[43m(\u001b[49m\u001b[43mfunc\u001b[49m\u001b[43m,\u001b[49m\u001b[43m \u001b[49m\u001b[38;5;241;43m*\u001b[39;49m\u001b[43margs\u001b[49m\u001b[43m,\u001b[49m\u001b[43m \u001b[49m\u001b[38;5;241;43m*\u001b[39;49m\u001b[38;5;241;43m*\u001b[39;49m\u001b[43mkwargs\u001b[49m\u001b[43m)\u001b[49m)\n",
      "    \u001b[0;31m[... skipping similar frames: _interpret_call at line 5885 (1 times)]\u001b[0m\n",
      "File \u001b[0;32m~/projects/torch_template/.venv/lib/python3.11/site-packages/thunder/core/interpreter.py:6114\u001b[0m, in \u001b[0;36m_call_dispatch\u001b[0;34m(compilectx, runtimectx, fn, *args, **kwargs)\u001b[0m\n\u001b[1;32m   6113\u001b[0m \u001b[38;5;28;01massert\u001b[39;00m \u001b[38;5;28misinstance\u001b[39m(fn, FunctionType), \u001b[38;5;124mf\u001b[39m\u001b[38;5;124m\"\u001b[39m\u001b[38;5;132;01m{\u001b[39;00mfn\u001b[38;5;132;01m=}\u001b[39;00m\u001b[38;5;124m had an unexpected type (\u001b[39m\u001b[38;5;132;01m{\u001b[39;00m\u001b[38;5;28mtype\u001b[39m(fn)\u001b[38;5;132;01m}\u001b[39;00m\u001b[38;5;124m\"\u001b[39m\n\u001b[0;32m-> 6114\u001b[0m \u001b[38;5;28;01mreturn\u001b[39;00m \u001b[43m_setup_frame_and_run_python_function\u001b[49m\u001b[43m(\u001b[49m\u001b[43mcompilectx\u001b[49m\u001b[43m,\u001b[49m\u001b[43m \u001b[49m\u001b[43mruntimectx\u001b[49m\u001b[43m,\u001b[49m\u001b[43m \u001b[49m\u001b[43mwrapped_fn\u001b[49m\u001b[43m,\u001b[49m\u001b[43m \u001b[49m\u001b[38;5;241;43m*\u001b[39;49m\u001b[43margs\u001b[49m\u001b[43m,\u001b[49m\u001b[43m \u001b[49m\u001b[38;5;241;43m*\u001b[39;49m\u001b[38;5;241;43m*\u001b[39;49m\u001b[43mkwargs\u001b[49m\u001b[43m)\u001b[49m\n",
      "File \u001b[0;32m~/projects/torch_template/.venv/lib/python3.11/site-packages/thunder/core/interpreter.py:6243\u001b[0m, in \u001b[0;36m_setup_frame_and_run_python_function\u001b[0;34m(compilectx, runtimectx, wrapped_fn, *args, **kwargs)\u001b[0m\n\u001b[1;32m   6242\u001b[0m     tb \u001b[38;5;241m=\u001b[39m TracebackType(e\u001b[38;5;241m.\u001b[39m__traceback__, python_frame, python_frame\u001b[38;5;241m.\u001b[39mf_lasti, python_frame\u001b[38;5;241m.\u001b[39mf_lineno)\n\u001b[0;32m-> 6243\u001b[0m     \u001b[38;5;28;01mraise\u001b[39;00m e\u001b[38;5;241m.\u001b[39mwith_traceback(tb)\n\u001b[1;32m   6244\u001b[0m \u001b[38;5;28;01mreturn\u001b[39;00m res\n",
      "File \u001b[0;32m~/projects/torch_template/.venv/lib/python3.11/site-packages/torch/nn/modules/module.py:1511\u001b[0m, in \u001b[0;36mModule._wrapped_call_impl\u001b[0;34m()\u001b[0m\n\u001b[1;32m   1510\u001b[0m \u001b[38;5;28;01melse\u001b[39;00m:\n\u001b[0;32m-> 1511\u001b[0m     \u001b[38;5;28;01mreturn\u001b[39;00m \u001b[38;5;28mself\u001b[39m\u001b[38;5;241m.\u001b[39m_call_impl(\u001b[38;5;241m*\u001b[39margs, \u001b[38;5;241m*\u001b[39m\u001b[38;5;241m*\u001b[39mkwargs)\n",
      "    \u001b[0;31m[... skipping similar frames: _run_frame at line 6284 (1 times), _setup_frame_and_run_python_function at line 6238 (1 times), default_opcode_interpreter at line 1206 (1 times), InterpreterCompileCtx.interpret at line 408 (1 times)]\u001b[0m\n",
      "File \u001b[0;32m~/projects/torch_template/.venv/lib/python3.11/site-packages/thunder/core/interpreter.py:3507\u001b[0m, in \u001b[0;36m_call_function_ex_handler\u001b[0;34m(inst, stack, **kwargs)\u001b[0m\n\u001b[1;32m   3506\u001b[0m     kwargs \u001b[38;5;241m=\u001b[39m wrap_kwargs_from_dict(kwargs)\n\u001b[0;32m-> 3507\u001b[0m \u001b[38;5;28;01mreturn\u001b[39;00m check_and_append(stack, \u001b[43m_interpret_call\u001b[49m\u001b[43m(\u001b[49m\u001b[43mfunc\u001b[49m\u001b[43m,\u001b[49m\u001b[43m \u001b[49m\u001b[38;5;241;43m*\u001b[39;49m\u001b[43margs\u001b[49m\u001b[43m,\u001b[49m\u001b[43m \u001b[49m\u001b[38;5;241;43m*\u001b[39;49m\u001b[38;5;241;43m*\u001b[39;49m\u001b[43mkwargs\u001b[49m\u001b[43m)\u001b[49m)\n",
      "    \u001b[0;31m[... skipping similar frames: _interpret_call at line 5885 (1 times)]\u001b[0m\n",
      "File \u001b[0;32m~/projects/torch_template/.venv/lib/python3.11/site-packages/thunder/core/interpreter.py:5944\u001b[0m, in \u001b[0;36m_call_dispatch\u001b[0;34m(compilectx, runtimectx, fn, *args, **kwargs)\u001b[0m\n\u001b[1;32m   5942\u001b[0m         \u001b[38;5;28;01mreturn\u001b[39;00m fn\u001b[38;5;241m.\u001b[39m\u001b[38;5;18m__func__\u001b[39m(fn\u001b[38;5;241m.\u001b[39m\u001b[38;5;18m__self__\u001b[39m, \u001b[38;5;241m*\u001b[39margs, \u001b[38;5;241m*\u001b[39m\u001b[38;5;241m*\u001b[39mkwargs)\n\u001b[0;32m-> 5944\u001b[0m     \u001b[38;5;28;01mreturn\u001b[39;00m \u001b[43m_interpret_call\u001b[49m\u001b[43m(\u001b[49m\u001b[43m_impl\u001b[49m\u001b[43m,\u001b[49m\u001b[43m \u001b[49m\u001b[43mwrapped_fn\u001b[49m\u001b[43m,\u001b[49m\u001b[43m \u001b[49m\u001b[38;5;241;43m*\u001b[39;49m\u001b[43margs\u001b[49m\u001b[43m,\u001b[49m\u001b[43m \u001b[49m\u001b[38;5;241;43m*\u001b[39;49m\u001b[38;5;241;43m*\u001b[39;49m\u001b[43mkwargs\u001b[49m\u001b[43m)\u001b[49m  \u001b[38;5;66;03m# type: ignore\u001b[39;00m\n\u001b[1;32m   5946\u001b[0m \u001b[38;5;66;03m# (1b) The callable is a builtin method, in which case it's canonicalized\u001b[39;00m\n\u001b[1;32m   5947\u001b[0m \u001b[38;5;66;03m#   A builtin is canonicalized when it's a call on a type or a module (or their equivalent)\u001b[39;00m\n\u001b[1;32m   5948\u001b[0m \u001b[38;5;66;03m#   Ex. The append method of a list\u001b[39;00m\n\u001b[0;32m   (...)\u001b[0m\n\u001b[1;32m   5989\u001b[0m \u001b[38;5;66;03m# NOTE Builtin Methods\u001b[39;00m\n\u001b[1;32m   5990\u001b[0m \u001b[38;5;66;03m#   Builtin methods are not considered methods by inspect.ismethod\u001b[39;00m\n",
      "    \u001b[0;31m[... skipping similar frames: _call_dispatch at line 6114 (1 times), _interpret_call at line 5885 (1 times), _setup_frame_and_run_python_function at line 6243 (1 times)]\u001b[0m\n",
      "File \u001b[0;32m~/projects/torch_template/.venv/lib/python3.11/site-packages/thunder/core/interpreter.py:5942\u001b[0m, in \u001b[0;36m_call_dispatch.<locals>._impl\u001b[0;34m()\u001b[0m\n\u001b[1;32m   5941\u001b[0m \u001b[38;5;28;01mdef\u001b[39;00m \u001b[38;5;21m_impl\u001b[39m(fn, \u001b[38;5;241m*\u001b[39margs, \u001b[38;5;241m*\u001b[39m\u001b[38;5;241m*\u001b[39mkwargs):\n\u001b[0;32m-> 5942\u001b[0m     \u001b[38;5;28;01mreturn\u001b[39;00m fn\u001b[38;5;241m.\u001b[39m\u001b[38;5;18m__func__\u001b[39m(fn\u001b[38;5;241m.\u001b[39m\u001b[38;5;18m__self__\u001b[39m, \u001b[38;5;241m*\u001b[39margs, \u001b[38;5;241m*\u001b[39m\u001b[38;5;241m*\u001b[39mkwargs)\n",
      "    \u001b[0;31m[... skipping similar frames: _call_dispatch at line 6114 (1 times), _call_function_ex_handler at line 3507 (1 times), _interpret_call at line 5885 (1 times), _run_frame at line 6284 (1 times), _setup_frame_and_run_python_function at line 6238 (1 times), _setup_frame_and_run_python_function at line 6243 (1 times), default_opcode_interpreter at line 1206 (1 times), InterpreterCompileCtx.interpret at line 408 (1 times)]\u001b[0m\n",
      "File \u001b[0;32m~/projects/torch_template/.venv/lib/python3.11/site-packages/torch/nn/modules/module.py:1520\u001b[0m, in \u001b[0;36mModule._call_impl\u001b[0;34m()\u001b[0m\n\u001b[1;32m   1517\u001b[0m \u001b[38;5;28;01mif\u001b[39;00m \u001b[38;5;129;01mnot\u001b[39;00m (\u001b[38;5;28mself\u001b[39m\u001b[38;5;241m.\u001b[39m_backward_hooks \u001b[38;5;129;01mor\u001b[39;00m \u001b[38;5;28mself\u001b[39m\u001b[38;5;241m.\u001b[39m_backward_pre_hooks \u001b[38;5;129;01mor\u001b[39;00m \u001b[38;5;28mself\u001b[39m\u001b[38;5;241m.\u001b[39m_forward_hooks \u001b[38;5;129;01mor\u001b[39;00m \u001b[38;5;28mself\u001b[39m\u001b[38;5;241m.\u001b[39m_forward_pre_hooks\n\u001b[1;32m   1518\u001b[0m         \u001b[38;5;129;01mor\u001b[39;00m _global_backward_pre_hooks \u001b[38;5;129;01mor\u001b[39;00m _global_backward_hooks\n\u001b[1;32m   1519\u001b[0m         \u001b[38;5;129;01mor\u001b[39;00m _global_forward_hooks \u001b[38;5;129;01mor\u001b[39;00m _global_forward_pre_hooks):\n\u001b[0;32m-> 1520\u001b[0m     \u001b[38;5;28;01mreturn\u001b[39;00m forward_call(\u001b[38;5;241m*\u001b[39margs, \u001b[38;5;241m*\u001b[39m\u001b[38;5;241m*\u001b[39mkwargs)\n\u001b[1;32m   1522\u001b[0m \u001b[38;5;28;01mtry\u001b[39;00m:\n",
      "    \u001b[0;31m[... skipping similar frames: _call_function_ex_handler at line 3507 (1 times), _interpret_call at line 5885 (1 times), _run_frame at line 6284 (1 times), _setup_frame_and_run_python_function at line 6238 (1 times), default_opcode_interpreter at line 1206 (1 times), InterpreterCompileCtx.interpret at line 408 (1 times)]\u001b[0m\n",
      "File \u001b[0;32m~/projects/torch_template/.venv/lib/python3.11/site-packages/thunder/core/interpreter.py:5944\u001b[0m, in \u001b[0;36m_call_dispatch\u001b[0;34m(compilectx, runtimectx, fn, *args, **kwargs)\u001b[0m\n\u001b[1;32m   5942\u001b[0m         \u001b[38;5;28;01mreturn\u001b[39;00m fn\u001b[38;5;241m.\u001b[39m\u001b[38;5;18m__func__\u001b[39m(fn\u001b[38;5;241m.\u001b[39m\u001b[38;5;18m__self__\u001b[39m, \u001b[38;5;241m*\u001b[39margs, \u001b[38;5;241m*\u001b[39m\u001b[38;5;241m*\u001b[39mkwargs)\n\u001b[0;32m-> 5944\u001b[0m     \u001b[38;5;28;01mreturn\u001b[39;00m \u001b[43m_interpret_call\u001b[49m\u001b[43m(\u001b[49m\u001b[43m_impl\u001b[49m\u001b[43m,\u001b[49m\u001b[43m \u001b[49m\u001b[43mwrapped_fn\u001b[49m\u001b[43m,\u001b[49m\u001b[43m \u001b[49m\u001b[38;5;241;43m*\u001b[39;49m\u001b[43margs\u001b[49m\u001b[43m,\u001b[49m\u001b[43m \u001b[49m\u001b[38;5;241;43m*\u001b[39;49m\u001b[38;5;241;43m*\u001b[39;49m\u001b[43mkwargs\u001b[49m\u001b[43m)\u001b[49m  \u001b[38;5;66;03m# type: ignore\u001b[39;00m\n\u001b[1;32m   5946\u001b[0m \u001b[38;5;66;03m# (1b) The callable is a builtin method, in which case it's canonicalized\u001b[39;00m\n\u001b[1;32m   5947\u001b[0m \u001b[38;5;66;03m#   A builtin is canonicalized when it's a call on a type or a module (or their equivalent)\u001b[39;00m\n\u001b[1;32m   5948\u001b[0m \u001b[38;5;66;03m#   Ex. The append method of a list\u001b[39;00m\n\u001b[0;32m   (...)\u001b[0m\n\u001b[1;32m   5989\u001b[0m \u001b[38;5;66;03m# NOTE Builtin Methods\u001b[39;00m\n\u001b[1;32m   5990\u001b[0m \u001b[38;5;66;03m#   Builtin methods are not considered methods by inspect.ismethod\u001b[39;00m\n",
      "    \u001b[0;31m[... skipping similar frames: _call_dispatch at line 6114 (1 times), _interpret_call at line 5885 (1 times), _setup_frame_and_run_python_function at line 6243 (1 times)]\u001b[0m\n",
      "File \u001b[0;32m~/projects/torch_template/.venv/lib/python3.11/site-packages/thunder/core/interpreter.py:5942\u001b[0m, in \u001b[0;36m_call_dispatch.<locals>._impl\u001b[0;34m()\u001b[0m\n\u001b[1;32m   5941\u001b[0m \u001b[38;5;28;01mdef\u001b[39;00m \u001b[38;5;21m_impl\u001b[39m(fn, \u001b[38;5;241m*\u001b[39margs, \u001b[38;5;241m*\u001b[39m\u001b[38;5;241m*\u001b[39mkwargs):\n\u001b[0;32m-> 5942\u001b[0m     \u001b[38;5;28;01mreturn\u001b[39;00m fn\u001b[38;5;241m.\u001b[39m\u001b[38;5;18m__func__\u001b[39m(fn\u001b[38;5;241m.\u001b[39m\u001b[38;5;18m__self__\u001b[39m, \u001b[38;5;241m*\u001b[39margs, \u001b[38;5;241m*\u001b[39m\u001b[38;5;241m*\u001b[39mkwargs)\n",
      "File \u001b[0;32m~/projects/torch_template/.venv/lib/python3.11/site-packages/thunder/core/interpreter.py:6238\u001b[0m, in \u001b[0;36m_setup_frame_and_run_python_function\u001b[0;34m(compilectx, runtimectx, wrapped_fn, *args, **kwargs)\u001b[0m\n\u001b[1;32m   6237\u001b[0m \u001b[38;5;28;01mtry\u001b[39;00m:\n\u001b[0;32m-> 6238\u001b[0m     res, status \u001b[38;5;241m=\u001b[39m \u001b[43m_run_frame\u001b[49m\u001b[43m(\u001b[49m\u001b[43mframe\u001b[49m\u001b[43m,\u001b[49m\u001b[43m \u001b[49m\u001b[43mcompilectx\u001b[49m\u001b[43m,\u001b[49m\u001b[43m \u001b[49m\u001b[43mruntimectx\u001b[49m\u001b[43m)\u001b[49m\n\u001b[1;32m   6239\u001b[0m \u001b[38;5;28;01mexcept\u001b[39;00m \u001b[38;5;167;01mException\u001b[39;00m \u001b[38;5;28;01mas\u001b[39;00m e:\n\u001b[1;32m   6240\u001b[0m     \u001b[38;5;66;03m# We need to cheat a bit to get a Python frame here...\u001b[39;00m\n",
      "File \u001b[0;32m~/projects/torch_template/.venv/lib/python3.11/site-packages/thunder/core/interpreter.py:6284\u001b[0m, in \u001b[0;36m_run_frame\u001b[0;34m(frame, compilectx, runtimectx, send_value)\u001b[0m\n\u001b[1;32m   6283\u001b[0m frame\u001b[38;5;241m.\u001b[39mlasti \u001b[38;5;241m=\u001b[39m frame\u001b[38;5;241m.\u001b[39minst_ptr  \u001b[38;5;66;03m# ???\u001b[39;00m\n\u001b[0;32m-> 6284\u001b[0m interpretation_result: \u001b[38;5;28;01mNone\u001b[39;00m \u001b[38;5;241m|\u001b[39m \u001b[38;5;28mint\u001b[39m \u001b[38;5;241m|\u001b[39m INTERPRETER_SIGNALS \u001b[38;5;241m=\u001b[39m \u001b[43mcompilectx\u001b[49m\u001b[38;5;241;43m.\u001b[39;49m\u001b[43minterpret\u001b[49m\u001b[43m(\u001b[49m\n\u001b[1;32m   6285\u001b[0m \u001b[43m    \u001b[49m\u001b[43minst\u001b[49m\u001b[43m,\u001b[49m\n\u001b[1;32m   6286\u001b[0m \u001b[43m    \u001b[49m\u001b[43minst_ptr\u001b[49m\u001b[38;5;241;43m=\u001b[39;49m\u001b[43mframe\u001b[49m\u001b[38;5;241;43m.\u001b[39;49m\u001b[43minst_ptr\u001b[49m\u001b[43m,\u001b[49m\n\u001b[1;32m   6287\u001b[0m \u001b[43m    \u001b[49m\u001b[43mstack\u001b[49m\u001b[38;5;241;43m=\u001b[39;49m\u001b[43mframe\u001b[49m\u001b[38;5;241;43m.\u001b[39;49m\u001b[43minterpreter_stack\u001b[49m\u001b[43m,\u001b[49m\n\u001b[1;32m   6288\u001b[0m \u001b[43m    \u001b[49m\u001b[43mglobals_dict\u001b[49m\u001b[38;5;241;43m=\u001b[39;49m\u001b[43mframe\u001b[49m\u001b[38;5;241;43m.\u001b[39;49m\u001b[43mglobals\u001b[49m\u001b[43m,\u001b[49m\n\u001b[1;32m   6289\u001b[0m \u001b[43m    \u001b[49m\u001b[43mtry_stack\u001b[49m\u001b[38;5;241;43m=\u001b[39;49m\u001b[43mframe\u001b[49m\u001b[38;5;241;43m.\u001b[39;49m\u001b[43mtry_stack\u001b[49m\u001b[43m,\u001b[49m\n\u001b[1;32m   6290\u001b[0m \u001b[43m    \u001b[49m\u001b[43mexception_stack\u001b[49m\u001b[38;5;241;43m=\u001b[39;49m\u001b[43mruntimectx\u001b[49m\u001b[38;5;241;43m.\u001b[39;49m\u001b[43mexception_stack\u001b[49m\u001b[43m,\u001b[49m\n\u001b[1;32m   6291\u001b[0m \u001b[43m    \u001b[49m\u001b[43mco\u001b[49m\u001b[38;5;241;43m=\u001b[39;49m\u001b[43mframe\u001b[49m\u001b[38;5;241;43m.\u001b[39;49m\u001b[43mcode\u001b[49m\u001b[43m,\u001b[49m\n\u001b[1;32m   6292\u001b[0m \u001b[43m    \u001b[49m\u001b[43mframe\u001b[49m\u001b[38;5;241;43m=\u001b[39;49m\u001b[43mframe\u001b[49m\u001b[43m,\u001b[49m\n\u001b[1;32m   6293\u001b[0m \u001b[43m\u001b[49m\u001b[43m)\u001b[49m\n\u001b[1;32m   6294\u001b[0m \u001b[38;5;28;01mif\u001b[39;00m interpretation_result \u001b[38;5;129;01mis\u001b[39;00m INTERPRETER_SIGNALS\u001b[38;5;241m.\u001b[39mEXCEPTION_RAISED:\n",
      "File \u001b[0;32m~/projects/torch_template/.venv/lib/python3.11/site-packages/thunder/core/interpreter.py:408\u001b[0m, in \u001b[0;36mInterpreterCompileCtx.interpret\u001b[0;34m(self, inst, **interpreter_state)\u001b[0m\n\u001b[1;32m    407\u001b[0m \u001b[38;5;28;01mdef\u001b[39;00m \u001b[38;5;21minterpret\u001b[39m(\u001b[38;5;28mself\u001b[39m, inst: dis\u001b[38;5;241m.\u001b[39mInstruction, \u001b[38;5;241m/\u001b[39m, \u001b[38;5;241m*\u001b[39m\u001b[38;5;241m*\u001b[39minterpreter_state) \u001b[38;5;241m-\u001b[39m\u001b[38;5;241m>\u001b[39m \u001b[38;5;28;01mNone\u001b[39;00m \u001b[38;5;241m|\u001b[39m \u001b[38;5;28mint\u001b[39m \u001b[38;5;241m|\u001b[39m INTERPRETER_SIGNALS:\n\u001b[0;32m--> 408\u001b[0m     \u001b[38;5;28;01mreturn\u001b[39;00m \u001b[38;5;28;43mself\u001b[39;49m\u001b[38;5;241;43m.\u001b[39;49m\u001b[43m_opcode_interpreter\u001b[49m\u001b[43m(\u001b[49m\u001b[43minst\u001b[49m\u001b[43m,\u001b[49m\u001b[43m \u001b[49m\u001b[38;5;241;43m*\u001b[39;49m\u001b[38;5;241;43m*\u001b[39;49m\u001b[43minterpreter_state\u001b[49m\u001b[43m)\u001b[49m\n",
      "File \u001b[0;32m~/projects/torch_template/.venv/lib/python3.11/site-packages/thunder/core/interpreter.py:1206\u001b[0m, in \u001b[0;36mdefault_opcode_interpreter\u001b[0;34m(inst, **interpreter_state)\u001b[0m\n\u001b[1;32m   1205\u001b[0m \u001b[38;5;28;01mwith\u001b[39;00m interpreter_state[\u001b[38;5;124m\"\u001b[39m\u001b[38;5;124mstack\u001b[39m\u001b[38;5;124m\"\u001b[39m]\u001b[38;5;241m.\u001b[39mset_cur_instruction(inst):\n\u001b[0;32m-> 1206\u001b[0m     \u001b[38;5;28;01mreturn\u001b[39;00m \u001b[43mhandler\u001b[49m\u001b[43m(\u001b[49m\u001b[43minst\u001b[49m\u001b[43m,\u001b[49m\u001b[43m \u001b[49m\u001b[38;5;241;43m*\u001b[39;49m\u001b[38;5;241;43m*\u001b[39;49m\u001b[43minterpreter_state\u001b[49m\u001b[43m)\u001b[49m\n",
      "File \u001b[0;32m~/projects/torch_template/.venv/lib/python3.11/site-packages/thunder/core/interpreter.py:3507\u001b[0m, in \u001b[0;36m_call_function_ex_handler\u001b[0;34m(inst, stack, **kwargs)\u001b[0m\n\u001b[1;32m   3506\u001b[0m     kwargs \u001b[38;5;241m=\u001b[39m wrap_kwargs_from_dict(kwargs)\n\u001b[0;32m-> 3507\u001b[0m \u001b[38;5;28;01mreturn\u001b[39;00m check_and_append(stack, \u001b[43m_interpret_call\u001b[49m\u001b[43m(\u001b[49m\u001b[43mfunc\u001b[49m\u001b[43m,\u001b[49m\u001b[43m \u001b[49m\u001b[38;5;241;43m*\u001b[39;49m\u001b[43margs\u001b[49m\u001b[43m,\u001b[49m\u001b[43m \u001b[49m\u001b[38;5;241;43m*\u001b[39;49m\u001b[38;5;241;43m*\u001b[39;49m\u001b[43mkwargs\u001b[49m\u001b[43m)\u001b[49m)\n",
      "File \u001b[0;32m~/projects/torch_template/.venv/lib/python3.11/site-packages/thunder/core/interpreter.py:5885\u001b[0m, in \u001b[0;36m_interpret_call\u001b[0;34m(fn, *args, **kwargs)\u001b[0m\n\u001b[1;32m   5884\u001b[0m runtimectx\u001b[38;5;241m.\u001b[39mrecord_interpreter_call(fn)  \u001b[38;5;66;03m# type: ignore\u001b[39;00m\n\u001b[0;32m-> 5885\u001b[0m rval \u001b[38;5;241m=\u001b[39m \u001b[43m_call_dispatch\u001b[49m\u001b[43m(\u001b[49m\u001b[43mcompilectx\u001b[49m\u001b[43m,\u001b[49m\u001b[43m \u001b[49m\u001b[43mruntimectx\u001b[49m\u001b[43m,\u001b[49m\u001b[43m \u001b[49m\u001b[43mfn\u001b[49m\u001b[43m,\u001b[49m\u001b[43m \u001b[49m\u001b[38;5;241;43m*\u001b[39;49m\u001b[43margs\u001b[49m\u001b[43m,\u001b[49m\u001b[43m \u001b[49m\u001b[38;5;241;43m*\u001b[39;49m\u001b[38;5;241;43m*\u001b[39;49m\u001b[43mkwargs\u001b[49m\u001b[43m)\u001b[49m  \u001b[38;5;66;03m# type: ignore\u001b[39;00m\n\u001b[1;32m   5886\u001b[0m \u001b[38;5;28;01mif\u001b[39;00m compilectx\u001b[38;5;241m.\u001b[39m_with_provenance_tracking:\n",
      "File \u001b[0;32m~/projects/torch_template/.venv/lib/python3.11/site-packages/thunder/core/interpreter.py:6114\u001b[0m, in \u001b[0;36m_call_dispatch\u001b[0;34m(compilectx, runtimectx, fn, *args, **kwargs)\u001b[0m\n\u001b[1;32m   6113\u001b[0m \u001b[38;5;28;01massert\u001b[39;00m \u001b[38;5;28misinstance\u001b[39m(fn, FunctionType), \u001b[38;5;124mf\u001b[39m\u001b[38;5;124m\"\u001b[39m\u001b[38;5;132;01m{\u001b[39;00mfn\u001b[38;5;132;01m=}\u001b[39;00m\u001b[38;5;124m had an unexpected type (\u001b[39m\u001b[38;5;132;01m{\u001b[39;00m\u001b[38;5;28mtype\u001b[39m(fn)\u001b[38;5;132;01m}\u001b[39;00m\u001b[38;5;124m\"\u001b[39m\n\u001b[0;32m-> 6114\u001b[0m \u001b[38;5;28;01mreturn\u001b[39;00m \u001b[43m_setup_frame_and_run_python_function\u001b[49m\u001b[43m(\u001b[49m\u001b[43mcompilectx\u001b[49m\u001b[43m,\u001b[49m\u001b[43m \u001b[49m\u001b[43mruntimectx\u001b[49m\u001b[43m,\u001b[49m\u001b[43m \u001b[49m\u001b[43mwrapped_fn\u001b[49m\u001b[43m,\u001b[49m\u001b[43m \u001b[49m\u001b[38;5;241;43m*\u001b[39;49m\u001b[43margs\u001b[49m\u001b[43m,\u001b[49m\u001b[43m \u001b[49m\u001b[38;5;241;43m*\u001b[39;49m\u001b[38;5;241;43m*\u001b[39;49m\u001b[43mkwargs\u001b[49m\u001b[43m)\u001b[49m\n",
      "File \u001b[0;32m~/projects/torch_template/.venv/lib/python3.11/site-packages/thunder/core/interpreter.py:6243\u001b[0m, in \u001b[0;36m_setup_frame_and_run_python_function\u001b[0;34m(compilectx, runtimectx, wrapped_fn, *args, **kwargs)\u001b[0m\n\u001b[1;32m   6242\u001b[0m     tb \u001b[38;5;241m=\u001b[39m TracebackType(e\u001b[38;5;241m.\u001b[39m__traceback__, python_frame, python_frame\u001b[38;5;241m.\u001b[39mf_lasti, python_frame\u001b[38;5;241m.\u001b[39mf_lineno)\n\u001b[0;32m-> 6243\u001b[0m     \u001b[38;5;28;01mraise\u001b[39;00m e\u001b[38;5;241m.\u001b[39mwith_traceback(tb)\n\u001b[1;32m   6244\u001b[0m \u001b[38;5;28;01mreturn\u001b[39;00m res\n",
      "File \u001b[0;32m~/projects/torch_template/nfs/samples_RNN/LHT_credits-history/src/models/components/embedding/encoder_layer.py:66\u001b[0m, in \u001b[0;36mEncoderLayer.forward\u001b[0;34m()\u001b[0m\n\u001b[1;32m     65\u001b[0m \u001b[38;5;28;01mdef\u001b[39;00m \u001b[38;5;21mforward\u001b[39m(\u001b[38;5;28mself\u001b[39m, inputs: ModelInput) \u001b[38;5;241m-\u001b[39m\u001b[38;5;241m>\u001b[39m SingleForwardState:\n\u001b[0;32m---> 66\u001b[0m     embeddings \u001b[38;5;241m=\u001b[39m \u001b[38;5;28mself\u001b[39m\u001b[38;5;241m.\u001b[39membeddings(inputs\u001b[38;5;241m.\u001b[39mcategorical)\n\u001b[1;32m     67\u001b[0m     x \u001b[38;5;241m=\u001b[39m \u001b[38;5;28mself\u001b[39m\u001b[38;5;241m.\u001b[39mdropout(embeddings)\n",
      "File \u001b[0;32m~/projects/torch_template/.venv/lib/python3.11/site-packages/thunder/core/interpreter.py:6238\u001b[0m, in \u001b[0;36m_setup_frame_and_run_python_function\u001b[0;34m(compilectx, runtimectx, wrapped_fn, *args, **kwargs)\u001b[0m\n\u001b[1;32m   6237\u001b[0m \u001b[38;5;28;01mtry\u001b[39;00m:\n\u001b[0;32m-> 6238\u001b[0m     res, status \u001b[38;5;241m=\u001b[39m \u001b[43m_run_frame\u001b[49m\u001b[43m(\u001b[49m\u001b[43mframe\u001b[49m\u001b[43m,\u001b[49m\u001b[43m \u001b[49m\u001b[43mcompilectx\u001b[49m\u001b[43m,\u001b[49m\u001b[43m \u001b[49m\u001b[43mruntimectx\u001b[49m\u001b[43m)\u001b[49m\n\u001b[1;32m   6239\u001b[0m \u001b[38;5;28;01mexcept\u001b[39;00m \u001b[38;5;167;01mException\u001b[39;00m \u001b[38;5;28;01mas\u001b[39;00m e:\n\u001b[1;32m   6240\u001b[0m     \u001b[38;5;66;03m# We need to cheat a bit to get a Python frame here...\u001b[39;00m\n",
      "File \u001b[0;32m~/projects/torch_template/.venv/lib/python3.11/site-packages/thunder/core/interpreter.py:6284\u001b[0m, in \u001b[0;36m_run_frame\u001b[0;34m(frame, compilectx, runtimectx, send_value)\u001b[0m\n\u001b[1;32m   6283\u001b[0m frame\u001b[38;5;241m.\u001b[39mlasti \u001b[38;5;241m=\u001b[39m frame\u001b[38;5;241m.\u001b[39minst_ptr  \u001b[38;5;66;03m# ???\u001b[39;00m\n\u001b[0;32m-> 6284\u001b[0m interpretation_result: \u001b[38;5;28;01mNone\u001b[39;00m \u001b[38;5;241m|\u001b[39m \u001b[38;5;28mint\u001b[39m \u001b[38;5;241m|\u001b[39m INTERPRETER_SIGNALS \u001b[38;5;241m=\u001b[39m \u001b[43mcompilectx\u001b[49m\u001b[38;5;241;43m.\u001b[39;49m\u001b[43minterpret\u001b[49m\u001b[43m(\u001b[49m\n\u001b[1;32m   6285\u001b[0m \u001b[43m    \u001b[49m\u001b[43minst\u001b[49m\u001b[43m,\u001b[49m\n\u001b[1;32m   6286\u001b[0m \u001b[43m    \u001b[49m\u001b[43minst_ptr\u001b[49m\u001b[38;5;241;43m=\u001b[39;49m\u001b[43mframe\u001b[49m\u001b[38;5;241;43m.\u001b[39;49m\u001b[43minst_ptr\u001b[49m\u001b[43m,\u001b[49m\n\u001b[1;32m   6287\u001b[0m \u001b[43m    \u001b[49m\u001b[43mstack\u001b[49m\u001b[38;5;241;43m=\u001b[39;49m\u001b[43mframe\u001b[49m\u001b[38;5;241;43m.\u001b[39;49m\u001b[43minterpreter_stack\u001b[49m\u001b[43m,\u001b[49m\n\u001b[1;32m   6288\u001b[0m \u001b[43m    \u001b[49m\u001b[43mglobals_dict\u001b[49m\u001b[38;5;241;43m=\u001b[39;49m\u001b[43mframe\u001b[49m\u001b[38;5;241;43m.\u001b[39;49m\u001b[43mglobals\u001b[49m\u001b[43m,\u001b[49m\n\u001b[1;32m   6289\u001b[0m \u001b[43m    \u001b[49m\u001b[43mtry_stack\u001b[49m\u001b[38;5;241;43m=\u001b[39;49m\u001b[43mframe\u001b[49m\u001b[38;5;241;43m.\u001b[39;49m\u001b[43mtry_stack\u001b[49m\u001b[43m,\u001b[49m\n\u001b[1;32m   6290\u001b[0m \u001b[43m    \u001b[49m\u001b[43mexception_stack\u001b[49m\u001b[38;5;241;43m=\u001b[39;49m\u001b[43mruntimectx\u001b[49m\u001b[38;5;241;43m.\u001b[39;49m\u001b[43mexception_stack\u001b[49m\u001b[43m,\u001b[49m\n\u001b[1;32m   6291\u001b[0m \u001b[43m    \u001b[49m\u001b[43mco\u001b[49m\u001b[38;5;241;43m=\u001b[39;49m\u001b[43mframe\u001b[49m\u001b[38;5;241;43m.\u001b[39;49m\u001b[43mcode\u001b[49m\u001b[43m,\u001b[49m\n\u001b[1;32m   6292\u001b[0m \u001b[43m    \u001b[49m\u001b[43mframe\u001b[49m\u001b[38;5;241;43m=\u001b[39;49m\u001b[43mframe\u001b[49m\u001b[43m,\u001b[49m\n\u001b[1;32m   6293\u001b[0m \u001b[43m\u001b[49m\u001b[43m)\u001b[49m\n\u001b[1;32m   6294\u001b[0m \u001b[38;5;28;01mif\u001b[39;00m interpretation_result \u001b[38;5;129;01mis\u001b[39;00m INTERPRETER_SIGNALS\u001b[38;5;241m.\u001b[39mEXCEPTION_RAISED:\n",
      "File \u001b[0;32m~/projects/torch_template/.venv/lib/python3.11/site-packages/thunder/core/interpreter.py:408\u001b[0m, in \u001b[0;36mInterpreterCompileCtx.interpret\u001b[0;34m(self, inst, **interpreter_state)\u001b[0m\n\u001b[1;32m    407\u001b[0m \u001b[38;5;28;01mdef\u001b[39;00m \u001b[38;5;21minterpret\u001b[39m(\u001b[38;5;28mself\u001b[39m, inst: dis\u001b[38;5;241m.\u001b[39mInstruction, \u001b[38;5;241m/\u001b[39m, \u001b[38;5;241m*\u001b[39m\u001b[38;5;241m*\u001b[39minterpreter_state) \u001b[38;5;241m-\u001b[39m\u001b[38;5;241m>\u001b[39m \u001b[38;5;28;01mNone\u001b[39;00m \u001b[38;5;241m|\u001b[39m \u001b[38;5;28mint\u001b[39m \u001b[38;5;241m|\u001b[39m INTERPRETER_SIGNALS:\n\u001b[0;32m--> 408\u001b[0m     \u001b[38;5;28;01mreturn\u001b[39;00m \u001b[38;5;28;43mself\u001b[39;49m\u001b[38;5;241;43m.\u001b[39;49m\u001b[43m_opcode_interpreter\u001b[49m\u001b[43m(\u001b[49m\u001b[43minst\u001b[49m\u001b[43m,\u001b[49m\u001b[43m \u001b[49m\u001b[38;5;241;43m*\u001b[39;49m\u001b[38;5;241;43m*\u001b[39;49m\u001b[43minterpreter_state\u001b[49m\u001b[43m)\u001b[49m\n",
      "File \u001b[0;32m~/projects/torch_template/.venv/lib/python3.11/site-packages/thunder/core/interpreter.py:1206\u001b[0m, in \u001b[0;36mdefault_opcode_interpreter\u001b[0;34m(inst, **interpreter_state)\u001b[0m\n\u001b[1;32m   1205\u001b[0m \u001b[38;5;28;01mwith\u001b[39;00m interpreter_state[\u001b[38;5;124m\"\u001b[39m\u001b[38;5;124mstack\u001b[39m\u001b[38;5;124m\"\u001b[39m]\u001b[38;5;241m.\u001b[39mset_cur_instruction(inst):\n\u001b[0;32m-> 1206\u001b[0m     \u001b[38;5;28;01mreturn\u001b[39;00m \u001b[43mhandler\u001b[49m\u001b[43m(\u001b[49m\u001b[43minst\u001b[49m\u001b[43m,\u001b[49m\u001b[43m \u001b[49m\u001b[38;5;241;43m*\u001b[39;49m\u001b[38;5;241;43m*\u001b[39;49m\u001b[43minterpreter_state\u001b[49m\u001b[43m)\u001b[49m\n",
      "File \u001b[0;32m~/projects/torch_template/.venv/lib/python3.11/site-packages/thunder/core/interpreter.py:3467\u001b[0m, in \u001b[0;36m_call_handler\u001b[0;34m(inst, stack, frame, **kwargs)\u001b[0m\n\u001b[1;32m   3465\u001b[0m     func \u001b[38;5;241m=\u001b[39m func_or_self\n\u001b[0;32m-> 3467\u001b[0m res \u001b[38;5;241m=\u001b[39m \u001b[43m_interpret_call\u001b[49m\u001b[43m(\u001b[49m\u001b[43mfunc\u001b[49m\u001b[43m,\u001b[49m\u001b[43m \u001b[49m\u001b[38;5;241;43m*\u001b[39;49m\u001b[43margs\u001b[49m\u001b[43m,\u001b[49m\u001b[43m \u001b[49m\u001b[38;5;241;43m*\u001b[39;49m\u001b[38;5;241;43m*\u001b[39;49m\u001b[43mkwargs\u001b[49m\u001b[43m)\u001b[49m\n\u001b[1;32m   3468\u001b[0m ctx: InterpreterCompileCtx \u001b[38;5;241m=\u001b[39m get_interpretercompilectx()\n",
      "File \u001b[0;32m~/projects/torch_template/.venv/lib/python3.11/site-packages/thunder/core/interpreter.py:5885\u001b[0m, in \u001b[0;36m_interpret_call\u001b[0;34m(fn, *args, **kwargs)\u001b[0m\n\u001b[1;32m   5884\u001b[0m runtimectx\u001b[38;5;241m.\u001b[39mrecord_interpreter_call(fn)  \u001b[38;5;66;03m# type: ignore\u001b[39;00m\n\u001b[0;32m-> 5885\u001b[0m rval \u001b[38;5;241m=\u001b[39m \u001b[43m_call_dispatch\u001b[49m\u001b[43m(\u001b[49m\u001b[43mcompilectx\u001b[49m\u001b[43m,\u001b[49m\u001b[43m \u001b[49m\u001b[43mruntimectx\u001b[49m\u001b[43m,\u001b[49m\u001b[43m \u001b[49m\u001b[43mfn\u001b[49m\u001b[43m,\u001b[49m\u001b[43m \u001b[49m\u001b[38;5;241;43m*\u001b[39;49m\u001b[43margs\u001b[49m\u001b[43m,\u001b[49m\u001b[43m \u001b[49m\u001b[38;5;241;43m*\u001b[39;49m\u001b[38;5;241;43m*\u001b[39;49m\u001b[43mkwargs\u001b[49m\u001b[43m)\u001b[49m  \u001b[38;5;66;03m# type: ignore\u001b[39;00m\n\u001b[1;32m   5886\u001b[0m \u001b[38;5;28;01mif\u001b[39;00m compilectx\u001b[38;5;241m.\u001b[39m_with_provenance_tracking:\n",
      "File \u001b[0;32m~/projects/torch_template/.venv/lib/python3.11/site-packages/thunder/core/interpreter.py:6110\u001b[0m, in \u001b[0;36m_call_dispatch\u001b[0;34m(compilectx, runtimectx, fn, *args, **kwargs)\u001b[0m\n\u001b[1;32m   6109\u001b[0m     populate_attribute_wrapper(wrapped_call, \u001b[38;5;124m\"\u001b[39m\u001b[38;5;124m__self__\u001b[39m\u001b[38;5;124m\"\u001b[39m, wrapped_fn)\n\u001b[0;32m-> 6110\u001b[0m     \u001b[38;5;28;01mreturn\u001b[39;00m \u001b[43m_interpret_call\u001b[49m\u001b[43m(\u001b[49m\u001b[43mwrapped_call\u001b[49m\u001b[43m,\u001b[49m\u001b[43m \u001b[49m\u001b[38;5;241;43m*\u001b[39;49m\u001b[43margs\u001b[49m\u001b[43m,\u001b[49m\u001b[43m \u001b[49m\u001b[38;5;241;43m*\u001b[39;49m\u001b[38;5;241;43m*\u001b[39;49m\u001b[43mkwargs\u001b[49m\u001b[43m)\u001b[49m\n\u001b[1;32m   6112\u001b[0m \u001b[38;5;66;03m# (7) interprets into the function\u001b[39;00m\n",
      "File \u001b[0;32m~/projects/torch_template/.venv/lib/python3.11/site-packages/thunder/core/interpreter.py:5885\u001b[0m, in \u001b[0;36m_interpret_call\u001b[0;34m(fn, *args, **kwargs)\u001b[0m\n\u001b[1;32m   5884\u001b[0m runtimectx\u001b[38;5;241m.\u001b[39mrecord_interpreter_call(fn)  \u001b[38;5;66;03m# type: ignore\u001b[39;00m\n\u001b[0;32m-> 5885\u001b[0m rval \u001b[38;5;241m=\u001b[39m \u001b[43m_call_dispatch\u001b[49m\u001b[43m(\u001b[49m\u001b[43mcompilectx\u001b[49m\u001b[43m,\u001b[49m\u001b[43m \u001b[49m\u001b[43mruntimectx\u001b[49m\u001b[43m,\u001b[49m\u001b[43m \u001b[49m\u001b[43mfn\u001b[49m\u001b[43m,\u001b[49m\u001b[43m \u001b[49m\u001b[38;5;241;43m*\u001b[39;49m\u001b[43margs\u001b[49m\u001b[43m,\u001b[49m\u001b[43m \u001b[49m\u001b[38;5;241;43m*\u001b[39;49m\u001b[38;5;241;43m*\u001b[39;49m\u001b[43mkwargs\u001b[49m\u001b[43m)\u001b[49m  \u001b[38;5;66;03m# type: ignore\u001b[39;00m\n\u001b[1;32m   5886\u001b[0m \u001b[38;5;28;01mif\u001b[39;00m compilectx\u001b[38;5;241m.\u001b[39m_with_provenance_tracking:\n",
      "File \u001b[0;32m~/projects/torch_template/.venv/lib/python3.11/site-packages/thunder/core/interpreter.py:5944\u001b[0m, in \u001b[0;36m_call_dispatch\u001b[0;34m(compilectx, runtimectx, fn, *args, **kwargs)\u001b[0m\n\u001b[1;32m   5942\u001b[0m         \u001b[38;5;28;01mreturn\u001b[39;00m fn\u001b[38;5;241m.\u001b[39m\u001b[38;5;18m__func__\u001b[39m(fn\u001b[38;5;241m.\u001b[39m\u001b[38;5;18m__self__\u001b[39m, \u001b[38;5;241m*\u001b[39margs, \u001b[38;5;241m*\u001b[39m\u001b[38;5;241m*\u001b[39mkwargs)\n\u001b[0;32m-> 5944\u001b[0m     \u001b[38;5;28;01mreturn\u001b[39;00m \u001b[43m_interpret_call\u001b[49m\u001b[43m(\u001b[49m\u001b[43m_impl\u001b[49m\u001b[43m,\u001b[49m\u001b[43m \u001b[49m\u001b[43mwrapped_fn\u001b[49m\u001b[43m,\u001b[49m\u001b[43m \u001b[49m\u001b[38;5;241;43m*\u001b[39;49m\u001b[43margs\u001b[49m\u001b[43m,\u001b[49m\u001b[43m \u001b[49m\u001b[38;5;241;43m*\u001b[39;49m\u001b[38;5;241;43m*\u001b[39;49m\u001b[43mkwargs\u001b[49m\u001b[43m)\u001b[49m  \u001b[38;5;66;03m# type: ignore\u001b[39;00m\n\u001b[1;32m   5946\u001b[0m \u001b[38;5;66;03m# (1b) The callable is a builtin method, in which case it's canonicalized\u001b[39;00m\n\u001b[1;32m   5947\u001b[0m \u001b[38;5;66;03m#   A builtin is canonicalized when it's a call on a type or a module (or their equivalent)\u001b[39;00m\n\u001b[1;32m   5948\u001b[0m \u001b[38;5;66;03m#   Ex. The append method of a list\u001b[39;00m\n\u001b[0;32m   (...)\u001b[0m\n\u001b[1;32m   5989\u001b[0m \u001b[38;5;66;03m# NOTE Builtin Methods\u001b[39;00m\n\u001b[1;32m   5990\u001b[0m \u001b[38;5;66;03m#   Builtin methods are not considered methods by inspect.ismethod\u001b[39;00m\n",
      "    \u001b[0;31m[... skipping similar frames: _interpret_call at line 5885 (1 times)]\u001b[0m\n",
      "File \u001b[0;32m~/projects/torch_template/.venv/lib/python3.11/site-packages/thunder/core/interpreter.py:6114\u001b[0m, in \u001b[0;36m_call_dispatch\u001b[0;34m(compilectx, runtimectx, fn, *args, **kwargs)\u001b[0m\n\u001b[1;32m   6113\u001b[0m \u001b[38;5;28;01massert\u001b[39;00m \u001b[38;5;28misinstance\u001b[39m(fn, FunctionType), \u001b[38;5;124mf\u001b[39m\u001b[38;5;124m\"\u001b[39m\u001b[38;5;132;01m{\u001b[39;00mfn\u001b[38;5;132;01m=}\u001b[39;00m\u001b[38;5;124m had an unexpected type (\u001b[39m\u001b[38;5;132;01m{\u001b[39;00m\u001b[38;5;28mtype\u001b[39m(fn)\u001b[38;5;132;01m}\u001b[39;00m\u001b[38;5;124m\"\u001b[39m\n\u001b[0;32m-> 6114\u001b[0m \u001b[38;5;28;01mreturn\u001b[39;00m \u001b[43m_setup_frame_and_run_python_function\u001b[49m\u001b[43m(\u001b[49m\u001b[43mcompilectx\u001b[49m\u001b[43m,\u001b[49m\u001b[43m \u001b[49m\u001b[43mruntimectx\u001b[49m\u001b[43m,\u001b[49m\u001b[43m \u001b[49m\u001b[43mwrapped_fn\u001b[49m\u001b[43m,\u001b[49m\u001b[43m \u001b[49m\u001b[38;5;241;43m*\u001b[39;49m\u001b[43margs\u001b[49m\u001b[43m,\u001b[49m\u001b[43m \u001b[49m\u001b[38;5;241;43m*\u001b[39;49m\u001b[38;5;241;43m*\u001b[39;49m\u001b[43mkwargs\u001b[49m\u001b[43m)\u001b[49m\n",
      "File \u001b[0;32m~/projects/torch_template/.venv/lib/python3.11/site-packages/thunder/core/interpreter.py:6243\u001b[0m, in \u001b[0;36m_setup_frame_and_run_python_function\u001b[0;34m(compilectx, runtimectx, wrapped_fn, *args, **kwargs)\u001b[0m\n\u001b[1;32m   6242\u001b[0m     tb \u001b[38;5;241m=\u001b[39m TracebackType(e\u001b[38;5;241m.\u001b[39m__traceback__, python_frame, python_frame\u001b[38;5;241m.\u001b[39mf_lasti, python_frame\u001b[38;5;241m.\u001b[39mf_lineno)\n\u001b[0;32m-> 6243\u001b[0m     \u001b[38;5;28;01mraise\u001b[39;00m e\u001b[38;5;241m.\u001b[39mwith_traceback(tb)\n\u001b[1;32m   6244\u001b[0m \u001b[38;5;28;01mreturn\u001b[39;00m res\n",
      "File \u001b[0;32m~/projects/torch_template/.venv/lib/python3.11/site-packages/thunder/core/interpreter.py:5942\u001b[0m, in \u001b[0;36m_call_dispatch.<locals>._impl\u001b[0;34m()\u001b[0m\n\u001b[1;32m   5941\u001b[0m \u001b[38;5;28;01mdef\u001b[39;00m \u001b[38;5;21m_impl\u001b[39m(fn, \u001b[38;5;241m*\u001b[39margs, \u001b[38;5;241m*\u001b[39m\u001b[38;5;241m*\u001b[39mkwargs):\n\u001b[0;32m-> 5942\u001b[0m     \u001b[38;5;28;01mreturn\u001b[39;00m fn\u001b[38;5;241m.\u001b[39m\u001b[38;5;18m__func__\u001b[39m(fn\u001b[38;5;241m.\u001b[39m\u001b[38;5;18m__self__\u001b[39m, \u001b[38;5;241m*\u001b[39margs, \u001b[38;5;241m*\u001b[39m\u001b[38;5;241m*\u001b[39mkwargs)\n",
      "File \u001b[0;32m~/projects/torch_template/.venv/lib/python3.11/site-packages/thunder/core/interpreter.py:6238\u001b[0m, in \u001b[0;36m_setup_frame_and_run_python_function\u001b[0;34m(compilectx, runtimectx, wrapped_fn, *args, **kwargs)\u001b[0m\n\u001b[1;32m   6237\u001b[0m \u001b[38;5;28;01mtry\u001b[39;00m:\n\u001b[0;32m-> 6238\u001b[0m     res, status \u001b[38;5;241m=\u001b[39m \u001b[43m_run_frame\u001b[49m\u001b[43m(\u001b[49m\u001b[43mframe\u001b[49m\u001b[43m,\u001b[49m\u001b[43m \u001b[49m\u001b[43mcompilectx\u001b[49m\u001b[43m,\u001b[49m\u001b[43m \u001b[49m\u001b[43mruntimectx\u001b[49m\u001b[43m)\u001b[49m\n\u001b[1;32m   6239\u001b[0m \u001b[38;5;28;01mexcept\u001b[39;00m \u001b[38;5;167;01mException\u001b[39;00m \u001b[38;5;28;01mas\u001b[39;00m e:\n\u001b[1;32m   6240\u001b[0m     \u001b[38;5;66;03m# We need to cheat a bit to get a Python frame here...\u001b[39;00m\n",
      "File \u001b[0;32m~/projects/torch_template/.venv/lib/python3.11/site-packages/thunder/core/interpreter.py:6284\u001b[0m, in \u001b[0;36m_run_frame\u001b[0;34m(frame, compilectx, runtimectx, send_value)\u001b[0m\n\u001b[1;32m   6283\u001b[0m frame\u001b[38;5;241m.\u001b[39mlasti \u001b[38;5;241m=\u001b[39m frame\u001b[38;5;241m.\u001b[39minst_ptr  \u001b[38;5;66;03m# ???\u001b[39;00m\n\u001b[0;32m-> 6284\u001b[0m interpretation_result: \u001b[38;5;28;01mNone\u001b[39;00m \u001b[38;5;241m|\u001b[39m \u001b[38;5;28mint\u001b[39m \u001b[38;5;241m|\u001b[39m INTERPRETER_SIGNALS \u001b[38;5;241m=\u001b[39m \u001b[43mcompilectx\u001b[49m\u001b[38;5;241;43m.\u001b[39;49m\u001b[43minterpret\u001b[49m\u001b[43m(\u001b[49m\n\u001b[1;32m   6285\u001b[0m \u001b[43m    \u001b[49m\u001b[43minst\u001b[49m\u001b[43m,\u001b[49m\n\u001b[1;32m   6286\u001b[0m \u001b[43m    \u001b[49m\u001b[43minst_ptr\u001b[49m\u001b[38;5;241;43m=\u001b[39;49m\u001b[43mframe\u001b[49m\u001b[38;5;241;43m.\u001b[39;49m\u001b[43minst_ptr\u001b[49m\u001b[43m,\u001b[49m\n\u001b[1;32m   6287\u001b[0m \u001b[43m    \u001b[49m\u001b[43mstack\u001b[49m\u001b[38;5;241;43m=\u001b[39;49m\u001b[43mframe\u001b[49m\u001b[38;5;241;43m.\u001b[39;49m\u001b[43minterpreter_stack\u001b[49m\u001b[43m,\u001b[49m\n\u001b[1;32m   6288\u001b[0m \u001b[43m    \u001b[49m\u001b[43mglobals_dict\u001b[49m\u001b[38;5;241;43m=\u001b[39;49m\u001b[43mframe\u001b[49m\u001b[38;5;241;43m.\u001b[39;49m\u001b[43mglobals\u001b[49m\u001b[43m,\u001b[49m\n\u001b[1;32m   6289\u001b[0m \u001b[43m    \u001b[49m\u001b[43mtry_stack\u001b[49m\u001b[38;5;241;43m=\u001b[39;49m\u001b[43mframe\u001b[49m\u001b[38;5;241;43m.\u001b[39;49m\u001b[43mtry_stack\u001b[49m\u001b[43m,\u001b[49m\n\u001b[1;32m   6290\u001b[0m \u001b[43m    \u001b[49m\u001b[43mexception_stack\u001b[49m\u001b[38;5;241;43m=\u001b[39;49m\u001b[43mruntimectx\u001b[49m\u001b[38;5;241;43m.\u001b[39;49m\u001b[43mexception_stack\u001b[49m\u001b[43m,\u001b[49m\n\u001b[1;32m   6291\u001b[0m \u001b[43m    \u001b[49m\u001b[43mco\u001b[49m\u001b[38;5;241;43m=\u001b[39;49m\u001b[43mframe\u001b[49m\u001b[38;5;241;43m.\u001b[39;49m\u001b[43mcode\u001b[49m\u001b[43m,\u001b[49m\n\u001b[1;32m   6292\u001b[0m \u001b[43m    \u001b[49m\u001b[43mframe\u001b[49m\u001b[38;5;241;43m=\u001b[39;49m\u001b[43mframe\u001b[49m\u001b[43m,\u001b[49m\n\u001b[1;32m   6293\u001b[0m \u001b[43m\u001b[49m\u001b[43m)\u001b[49m\n\u001b[1;32m   6294\u001b[0m \u001b[38;5;28;01mif\u001b[39;00m interpretation_result \u001b[38;5;129;01mis\u001b[39;00m INTERPRETER_SIGNALS\u001b[38;5;241m.\u001b[39mEXCEPTION_RAISED:\n",
      "File \u001b[0;32m~/projects/torch_template/.venv/lib/python3.11/site-packages/thunder/core/interpreter.py:408\u001b[0m, in \u001b[0;36mInterpreterCompileCtx.interpret\u001b[0;34m(self, inst, **interpreter_state)\u001b[0m\n\u001b[1;32m    407\u001b[0m \u001b[38;5;28;01mdef\u001b[39;00m \u001b[38;5;21minterpret\u001b[39m(\u001b[38;5;28mself\u001b[39m, inst: dis\u001b[38;5;241m.\u001b[39mInstruction, \u001b[38;5;241m/\u001b[39m, \u001b[38;5;241m*\u001b[39m\u001b[38;5;241m*\u001b[39minterpreter_state) \u001b[38;5;241m-\u001b[39m\u001b[38;5;241m>\u001b[39m \u001b[38;5;28;01mNone\u001b[39;00m \u001b[38;5;241m|\u001b[39m \u001b[38;5;28mint\u001b[39m \u001b[38;5;241m|\u001b[39m INTERPRETER_SIGNALS:\n\u001b[0;32m--> 408\u001b[0m     \u001b[38;5;28;01mreturn\u001b[39;00m \u001b[38;5;28;43mself\u001b[39;49m\u001b[38;5;241;43m.\u001b[39;49m\u001b[43m_opcode_interpreter\u001b[49m\u001b[43m(\u001b[49m\u001b[43minst\u001b[49m\u001b[43m,\u001b[49m\u001b[43m \u001b[49m\u001b[38;5;241;43m*\u001b[39;49m\u001b[38;5;241;43m*\u001b[39;49m\u001b[43minterpreter_state\u001b[49m\u001b[43m)\u001b[49m\n",
      "File \u001b[0;32m~/projects/torch_template/.venv/lib/python3.11/site-packages/thunder/core/interpreter.py:1206\u001b[0m, in \u001b[0;36mdefault_opcode_interpreter\u001b[0;34m(inst, **interpreter_state)\u001b[0m\n\u001b[1;32m   1205\u001b[0m \u001b[38;5;28;01mwith\u001b[39;00m interpreter_state[\u001b[38;5;124m\"\u001b[39m\u001b[38;5;124mstack\u001b[39m\u001b[38;5;124m\"\u001b[39m]\u001b[38;5;241m.\u001b[39mset_cur_instruction(inst):\n\u001b[0;32m-> 1206\u001b[0m     \u001b[38;5;28;01mreturn\u001b[39;00m \u001b[43mhandler\u001b[49m\u001b[43m(\u001b[49m\u001b[43minst\u001b[49m\u001b[43m,\u001b[49m\u001b[43m \u001b[49m\u001b[38;5;241;43m*\u001b[39;49m\u001b[38;5;241;43m*\u001b[39;49m\u001b[43minterpreter_state\u001b[49m\u001b[43m)\u001b[49m\n",
      "File \u001b[0;32m~/projects/torch_template/.venv/lib/python3.11/site-packages/thunder/core/interpreter.py:3507\u001b[0m, in \u001b[0;36m_call_function_ex_handler\u001b[0;34m(inst, stack, **kwargs)\u001b[0m\n\u001b[1;32m   3506\u001b[0m     kwargs \u001b[38;5;241m=\u001b[39m wrap_kwargs_from_dict(kwargs)\n\u001b[0;32m-> 3507\u001b[0m \u001b[38;5;28;01mreturn\u001b[39;00m check_and_append(stack, \u001b[43m_interpret_call\u001b[49m\u001b[43m(\u001b[49m\u001b[43mfunc\u001b[49m\u001b[43m,\u001b[49m\u001b[43m \u001b[49m\u001b[38;5;241;43m*\u001b[39;49m\u001b[43margs\u001b[49m\u001b[43m,\u001b[49m\u001b[43m \u001b[49m\u001b[38;5;241;43m*\u001b[39;49m\u001b[38;5;241;43m*\u001b[39;49m\u001b[43mkwargs\u001b[49m\u001b[43m)\u001b[49m)\n",
      "    \u001b[0;31m[... skipping similar frames: _interpret_call at line 5885 (1 times)]\u001b[0m\n",
      "File \u001b[0;32m~/projects/torch_template/.venv/lib/python3.11/site-packages/thunder/core/interpreter.py:6114\u001b[0m, in \u001b[0;36m_call_dispatch\u001b[0;34m(compilectx, runtimectx, fn, *args, **kwargs)\u001b[0m\n\u001b[1;32m   6113\u001b[0m \u001b[38;5;28;01massert\u001b[39;00m \u001b[38;5;28misinstance\u001b[39m(fn, FunctionType), \u001b[38;5;124mf\u001b[39m\u001b[38;5;124m\"\u001b[39m\u001b[38;5;132;01m{\u001b[39;00mfn\u001b[38;5;132;01m=}\u001b[39;00m\u001b[38;5;124m had an unexpected type (\u001b[39m\u001b[38;5;132;01m{\u001b[39;00m\u001b[38;5;28mtype\u001b[39m(fn)\u001b[38;5;132;01m}\u001b[39;00m\u001b[38;5;124m\"\u001b[39m\n\u001b[0;32m-> 6114\u001b[0m \u001b[38;5;28;01mreturn\u001b[39;00m \u001b[43m_setup_frame_and_run_python_function\u001b[49m\u001b[43m(\u001b[49m\u001b[43mcompilectx\u001b[49m\u001b[43m,\u001b[49m\u001b[43m \u001b[49m\u001b[43mruntimectx\u001b[49m\u001b[43m,\u001b[49m\u001b[43m \u001b[49m\u001b[43mwrapped_fn\u001b[49m\u001b[43m,\u001b[49m\u001b[43m \u001b[49m\u001b[38;5;241;43m*\u001b[39;49m\u001b[43margs\u001b[49m\u001b[43m,\u001b[49m\u001b[43m \u001b[49m\u001b[38;5;241;43m*\u001b[39;49m\u001b[38;5;241;43m*\u001b[39;49m\u001b[43mkwargs\u001b[49m\u001b[43m)\u001b[49m\n",
      "File \u001b[0;32m~/projects/torch_template/.venv/lib/python3.11/site-packages/thunder/core/interpreter.py:6243\u001b[0m, in \u001b[0;36m_setup_frame_and_run_python_function\u001b[0;34m(compilectx, runtimectx, wrapped_fn, *args, **kwargs)\u001b[0m\n\u001b[1;32m   6242\u001b[0m     tb \u001b[38;5;241m=\u001b[39m TracebackType(e\u001b[38;5;241m.\u001b[39m__traceback__, python_frame, python_frame\u001b[38;5;241m.\u001b[39mf_lasti, python_frame\u001b[38;5;241m.\u001b[39mf_lineno)\n\u001b[0;32m-> 6243\u001b[0m     \u001b[38;5;28;01mraise\u001b[39;00m e\u001b[38;5;241m.\u001b[39mwith_traceback(tb)\n\u001b[1;32m   6244\u001b[0m \u001b[38;5;28;01mreturn\u001b[39;00m res\n",
      "File \u001b[0;32m~/projects/torch_template/.venv/lib/python3.11/site-packages/torch/nn/modules/module.py:1511\u001b[0m, in \u001b[0;36mModule._wrapped_call_impl\u001b[0;34m()\u001b[0m\n\u001b[1;32m   1510\u001b[0m \u001b[38;5;28;01melse\u001b[39;00m:\n\u001b[0;32m-> 1511\u001b[0m     \u001b[38;5;28;01mreturn\u001b[39;00m \u001b[38;5;28mself\u001b[39m\u001b[38;5;241m.\u001b[39m_call_impl(\u001b[38;5;241m*\u001b[39margs, \u001b[38;5;241m*\u001b[39m\u001b[38;5;241m*\u001b[39mkwargs)\n",
      "    \u001b[0;31m[... skipping similar frames: _run_frame at line 6284 (1 times), _setup_frame_and_run_python_function at line 6238 (1 times), default_opcode_interpreter at line 1206 (1 times), InterpreterCompileCtx.interpret at line 408 (1 times)]\u001b[0m\n",
      "File \u001b[0;32m~/projects/torch_template/.venv/lib/python3.11/site-packages/thunder/core/interpreter.py:3507\u001b[0m, in \u001b[0;36m_call_function_ex_handler\u001b[0;34m(inst, stack, **kwargs)\u001b[0m\n\u001b[1;32m   3506\u001b[0m     kwargs \u001b[38;5;241m=\u001b[39m wrap_kwargs_from_dict(kwargs)\n\u001b[0;32m-> 3507\u001b[0m \u001b[38;5;28;01mreturn\u001b[39;00m check_and_append(stack, \u001b[43m_interpret_call\u001b[49m\u001b[43m(\u001b[49m\u001b[43mfunc\u001b[49m\u001b[43m,\u001b[49m\u001b[43m \u001b[49m\u001b[38;5;241;43m*\u001b[39;49m\u001b[43margs\u001b[49m\u001b[43m,\u001b[49m\u001b[43m \u001b[49m\u001b[38;5;241;43m*\u001b[39;49m\u001b[38;5;241;43m*\u001b[39;49m\u001b[43mkwargs\u001b[49m\u001b[43m)\u001b[49m)\n",
      "    \u001b[0;31m[... skipping similar frames: _interpret_call at line 5885 (1 times)]\u001b[0m\n",
      "File \u001b[0;32m~/projects/torch_template/.venv/lib/python3.11/site-packages/thunder/core/interpreter.py:5944\u001b[0m, in \u001b[0;36m_call_dispatch\u001b[0;34m(compilectx, runtimectx, fn, *args, **kwargs)\u001b[0m\n\u001b[1;32m   5942\u001b[0m         \u001b[38;5;28;01mreturn\u001b[39;00m fn\u001b[38;5;241m.\u001b[39m\u001b[38;5;18m__func__\u001b[39m(fn\u001b[38;5;241m.\u001b[39m\u001b[38;5;18m__self__\u001b[39m, \u001b[38;5;241m*\u001b[39margs, \u001b[38;5;241m*\u001b[39m\u001b[38;5;241m*\u001b[39mkwargs)\n\u001b[0;32m-> 5944\u001b[0m     \u001b[38;5;28;01mreturn\u001b[39;00m \u001b[43m_interpret_call\u001b[49m\u001b[43m(\u001b[49m\u001b[43m_impl\u001b[49m\u001b[43m,\u001b[49m\u001b[43m \u001b[49m\u001b[43mwrapped_fn\u001b[49m\u001b[43m,\u001b[49m\u001b[43m \u001b[49m\u001b[38;5;241;43m*\u001b[39;49m\u001b[43margs\u001b[49m\u001b[43m,\u001b[49m\u001b[43m \u001b[49m\u001b[38;5;241;43m*\u001b[39;49m\u001b[38;5;241;43m*\u001b[39;49m\u001b[43mkwargs\u001b[49m\u001b[43m)\u001b[49m  \u001b[38;5;66;03m# type: ignore\u001b[39;00m\n\u001b[1;32m   5946\u001b[0m \u001b[38;5;66;03m# (1b) The callable is a builtin method, in which case it's canonicalized\u001b[39;00m\n\u001b[1;32m   5947\u001b[0m \u001b[38;5;66;03m#   A builtin is canonicalized when it's a call on a type or a module (or their equivalent)\u001b[39;00m\n\u001b[1;32m   5948\u001b[0m \u001b[38;5;66;03m#   Ex. The append method of a list\u001b[39;00m\n\u001b[0;32m   (...)\u001b[0m\n\u001b[1;32m   5989\u001b[0m \u001b[38;5;66;03m# NOTE Builtin Methods\u001b[39;00m\n\u001b[1;32m   5990\u001b[0m \u001b[38;5;66;03m#   Builtin methods are not considered methods by inspect.ismethod\u001b[39;00m\n",
      "    \u001b[0;31m[... skipping similar frames: _call_dispatch at line 6114 (1 times), _interpret_call at line 5885 (1 times), _setup_frame_and_run_python_function at line 6243 (1 times)]\u001b[0m\n",
      "File \u001b[0;32m~/projects/torch_template/.venv/lib/python3.11/site-packages/thunder/core/interpreter.py:5942\u001b[0m, in \u001b[0;36m_call_dispatch.<locals>._impl\u001b[0;34m()\u001b[0m\n\u001b[1;32m   5941\u001b[0m \u001b[38;5;28;01mdef\u001b[39;00m \u001b[38;5;21m_impl\u001b[39m(fn, \u001b[38;5;241m*\u001b[39margs, \u001b[38;5;241m*\u001b[39m\u001b[38;5;241m*\u001b[39mkwargs):\n\u001b[0;32m-> 5942\u001b[0m     \u001b[38;5;28;01mreturn\u001b[39;00m fn\u001b[38;5;241m.\u001b[39m\u001b[38;5;18m__func__\u001b[39m(fn\u001b[38;5;241m.\u001b[39m\u001b[38;5;18m__self__\u001b[39m, \u001b[38;5;241m*\u001b[39margs, \u001b[38;5;241m*\u001b[39m\u001b[38;5;241m*\u001b[39mkwargs)\n",
      "    \u001b[0;31m[... skipping similar frames: _call_dispatch at line 6114 (1 times), _call_function_ex_handler at line 3507 (1 times), _interpret_call at line 5885 (1 times), _run_frame at line 6284 (1 times), _setup_frame_and_run_python_function at line 6238 (1 times), _setup_frame_and_run_python_function at line 6243 (1 times), default_opcode_interpreter at line 1206 (1 times), InterpreterCompileCtx.interpret at line 408 (1 times)]\u001b[0m\n",
      "File \u001b[0;32m~/projects/torch_template/.venv/lib/python3.11/site-packages/torch/nn/modules/module.py:1520\u001b[0m, in \u001b[0;36mModule._call_impl\u001b[0;34m()\u001b[0m\n\u001b[1;32m   1517\u001b[0m \u001b[38;5;28;01mif\u001b[39;00m \u001b[38;5;129;01mnot\u001b[39;00m (\u001b[38;5;28mself\u001b[39m\u001b[38;5;241m.\u001b[39m_backward_hooks \u001b[38;5;129;01mor\u001b[39;00m \u001b[38;5;28mself\u001b[39m\u001b[38;5;241m.\u001b[39m_backward_pre_hooks \u001b[38;5;129;01mor\u001b[39;00m \u001b[38;5;28mself\u001b[39m\u001b[38;5;241m.\u001b[39m_forward_hooks \u001b[38;5;129;01mor\u001b[39;00m \u001b[38;5;28mself\u001b[39m\u001b[38;5;241m.\u001b[39m_forward_pre_hooks\n\u001b[1;32m   1518\u001b[0m         \u001b[38;5;129;01mor\u001b[39;00m _global_backward_pre_hooks \u001b[38;5;129;01mor\u001b[39;00m _global_backward_hooks\n\u001b[1;32m   1519\u001b[0m         \u001b[38;5;129;01mor\u001b[39;00m _global_forward_hooks \u001b[38;5;129;01mor\u001b[39;00m _global_forward_pre_hooks):\n\u001b[0;32m-> 1520\u001b[0m     \u001b[38;5;28;01mreturn\u001b[39;00m forward_call(\u001b[38;5;241m*\u001b[39margs, \u001b[38;5;241m*\u001b[39m\u001b[38;5;241m*\u001b[39mkwargs)\n\u001b[1;32m   1522\u001b[0m \u001b[38;5;28;01mtry\u001b[39;00m:\n",
      "    \u001b[0;31m[... skipping similar frames: _call_function_ex_handler at line 3507 (1 times), _interpret_call at line 5885 (1 times), _run_frame at line 6284 (1 times), _setup_frame_and_run_python_function at line 6238 (1 times), default_opcode_interpreter at line 1206 (1 times), InterpreterCompileCtx.interpret at line 408 (1 times)]\u001b[0m\n",
      "File \u001b[0;32m~/projects/torch_template/.venv/lib/python3.11/site-packages/thunder/core/interpreter.py:5944\u001b[0m, in \u001b[0;36m_call_dispatch\u001b[0;34m(compilectx, runtimectx, fn, *args, **kwargs)\u001b[0m\n\u001b[1;32m   5942\u001b[0m         \u001b[38;5;28;01mreturn\u001b[39;00m fn\u001b[38;5;241m.\u001b[39m\u001b[38;5;18m__func__\u001b[39m(fn\u001b[38;5;241m.\u001b[39m\u001b[38;5;18m__self__\u001b[39m, \u001b[38;5;241m*\u001b[39margs, \u001b[38;5;241m*\u001b[39m\u001b[38;5;241m*\u001b[39mkwargs)\n\u001b[0;32m-> 5944\u001b[0m     \u001b[38;5;28;01mreturn\u001b[39;00m \u001b[43m_interpret_call\u001b[49m\u001b[43m(\u001b[49m\u001b[43m_impl\u001b[49m\u001b[43m,\u001b[49m\u001b[43m \u001b[49m\u001b[43mwrapped_fn\u001b[49m\u001b[43m,\u001b[49m\u001b[43m \u001b[49m\u001b[38;5;241;43m*\u001b[39;49m\u001b[43margs\u001b[49m\u001b[43m,\u001b[49m\u001b[43m \u001b[49m\u001b[38;5;241;43m*\u001b[39;49m\u001b[38;5;241;43m*\u001b[39;49m\u001b[43mkwargs\u001b[49m\u001b[43m)\u001b[49m  \u001b[38;5;66;03m# type: ignore\u001b[39;00m\n\u001b[1;32m   5946\u001b[0m \u001b[38;5;66;03m# (1b) The callable is a builtin method, in which case it's canonicalized\u001b[39;00m\n\u001b[1;32m   5947\u001b[0m \u001b[38;5;66;03m#   A builtin is canonicalized when it's a call on a type or a module (or their equivalent)\u001b[39;00m\n\u001b[1;32m   5948\u001b[0m \u001b[38;5;66;03m#   Ex. The append method of a list\u001b[39;00m\n\u001b[0;32m   (...)\u001b[0m\n\u001b[1;32m   5989\u001b[0m \u001b[38;5;66;03m# NOTE Builtin Methods\u001b[39;00m\n\u001b[1;32m   5990\u001b[0m \u001b[38;5;66;03m#   Builtin methods are not considered methods by inspect.ismethod\u001b[39;00m\n",
      "    \u001b[0;31m[... skipping similar frames: _call_dispatch at line 6114 (1 times), _interpret_call at line 5885 (1 times), _setup_frame_and_run_python_function at line 6243 (1 times)]\u001b[0m\n",
      "File \u001b[0;32m~/projects/torch_template/.venv/lib/python3.11/site-packages/thunder/core/interpreter.py:5942\u001b[0m, in \u001b[0;36m_call_dispatch.<locals>._impl\u001b[0;34m()\u001b[0m\n\u001b[1;32m   5941\u001b[0m \u001b[38;5;28;01mdef\u001b[39;00m \u001b[38;5;21m_impl\u001b[39m(fn, \u001b[38;5;241m*\u001b[39margs, \u001b[38;5;241m*\u001b[39m\u001b[38;5;241m*\u001b[39mkwargs):\n\u001b[0;32m-> 5942\u001b[0m     \u001b[38;5;28;01mreturn\u001b[39;00m fn\u001b[38;5;241m.\u001b[39m\u001b[38;5;18m__func__\u001b[39m(fn\u001b[38;5;241m.\u001b[39m\u001b[38;5;18m__self__\u001b[39m, \u001b[38;5;241m*\u001b[39margs, \u001b[38;5;241m*\u001b[39m\u001b[38;5;241m*\u001b[39mkwargs)\n",
      "File \u001b[0;32m~/projects/torch_template/.venv/lib/python3.11/site-packages/thunder/core/interpreter.py:6238\u001b[0m, in \u001b[0;36m_setup_frame_and_run_python_function\u001b[0;34m(compilectx, runtimectx, wrapped_fn, *args, **kwargs)\u001b[0m\n\u001b[1;32m   6237\u001b[0m \u001b[38;5;28;01mtry\u001b[39;00m:\n\u001b[0;32m-> 6238\u001b[0m     res, status \u001b[38;5;241m=\u001b[39m \u001b[43m_run_frame\u001b[49m\u001b[43m(\u001b[49m\u001b[43mframe\u001b[49m\u001b[43m,\u001b[49m\u001b[43m \u001b[49m\u001b[43mcompilectx\u001b[49m\u001b[43m,\u001b[49m\u001b[43m \u001b[49m\u001b[43mruntimectx\u001b[49m\u001b[43m)\u001b[49m\n\u001b[1;32m   6239\u001b[0m \u001b[38;5;28;01mexcept\u001b[39;00m \u001b[38;5;167;01mException\u001b[39;00m \u001b[38;5;28;01mas\u001b[39;00m e:\n\u001b[1;32m   6240\u001b[0m     \u001b[38;5;66;03m# We need to cheat a bit to get a Python frame here...\u001b[39;00m\n",
      "File \u001b[0;32m~/projects/torch_template/.venv/lib/python3.11/site-packages/thunder/core/interpreter.py:6284\u001b[0m, in \u001b[0;36m_run_frame\u001b[0;34m(frame, compilectx, runtimectx, send_value)\u001b[0m\n\u001b[1;32m   6283\u001b[0m frame\u001b[38;5;241m.\u001b[39mlasti \u001b[38;5;241m=\u001b[39m frame\u001b[38;5;241m.\u001b[39minst_ptr  \u001b[38;5;66;03m# ???\u001b[39;00m\n\u001b[0;32m-> 6284\u001b[0m interpretation_result: \u001b[38;5;28;01mNone\u001b[39;00m \u001b[38;5;241m|\u001b[39m \u001b[38;5;28mint\u001b[39m \u001b[38;5;241m|\u001b[39m INTERPRETER_SIGNALS \u001b[38;5;241m=\u001b[39m \u001b[43mcompilectx\u001b[49m\u001b[38;5;241;43m.\u001b[39;49m\u001b[43minterpret\u001b[49m\u001b[43m(\u001b[49m\n\u001b[1;32m   6285\u001b[0m \u001b[43m    \u001b[49m\u001b[43minst\u001b[49m\u001b[43m,\u001b[49m\n\u001b[1;32m   6286\u001b[0m \u001b[43m    \u001b[49m\u001b[43minst_ptr\u001b[49m\u001b[38;5;241;43m=\u001b[39;49m\u001b[43mframe\u001b[49m\u001b[38;5;241;43m.\u001b[39;49m\u001b[43minst_ptr\u001b[49m\u001b[43m,\u001b[49m\n\u001b[1;32m   6287\u001b[0m \u001b[43m    \u001b[49m\u001b[43mstack\u001b[49m\u001b[38;5;241;43m=\u001b[39;49m\u001b[43mframe\u001b[49m\u001b[38;5;241;43m.\u001b[39;49m\u001b[43minterpreter_stack\u001b[49m\u001b[43m,\u001b[49m\n\u001b[1;32m   6288\u001b[0m \u001b[43m    \u001b[49m\u001b[43mglobals_dict\u001b[49m\u001b[38;5;241;43m=\u001b[39;49m\u001b[43mframe\u001b[49m\u001b[38;5;241;43m.\u001b[39;49m\u001b[43mglobals\u001b[49m\u001b[43m,\u001b[49m\n\u001b[1;32m   6289\u001b[0m \u001b[43m    \u001b[49m\u001b[43mtry_stack\u001b[49m\u001b[38;5;241;43m=\u001b[39;49m\u001b[43mframe\u001b[49m\u001b[38;5;241;43m.\u001b[39;49m\u001b[43mtry_stack\u001b[49m\u001b[43m,\u001b[49m\n\u001b[1;32m   6290\u001b[0m \u001b[43m    \u001b[49m\u001b[43mexception_stack\u001b[49m\u001b[38;5;241;43m=\u001b[39;49m\u001b[43mruntimectx\u001b[49m\u001b[38;5;241;43m.\u001b[39;49m\u001b[43mexception_stack\u001b[49m\u001b[43m,\u001b[49m\n\u001b[1;32m   6291\u001b[0m \u001b[43m    \u001b[49m\u001b[43mco\u001b[49m\u001b[38;5;241;43m=\u001b[39;49m\u001b[43mframe\u001b[49m\u001b[38;5;241;43m.\u001b[39;49m\u001b[43mcode\u001b[49m\u001b[43m,\u001b[49m\n\u001b[1;32m   6292\u001b[0m \u001b[43m    \u001b[49m\u001b[43mframe\u001b[49m\u001b[38;5;241;43m=\u001b[39;49m\u001b[43mframe\u001b[49m\u001b[43m,\u001b[49m\n\u001b[1;32m   6293\u001b[0m \u001b[43m\u001b[49m\u001b[43m)\u001b[49m\n\u001b[1;32m   6294\u001b[0m \u001b[38;5;28;01mif\u001b[39;00m interpretation_result \u001b[38;5;129;01mis\u001b[39;00m INTERPRETER_SIGNALS\u001b[38;5;241m.\u001b[39mEXCEPTION_RAISED:\n",
      "File \u001b[0;32m~/projects/torch_template/.venv/lib/python3.11/site-packages/thunder/core/interpreter.py:408\u001b[0m, in \u001b[0;36mInterpreterCompileCtx.interpret\u001b[0;34m(self, inst, **interpreter_state)\u001b[0m\n\u001b[1;32m    407\u001b[0m \u001b[38;5;28;01mdef\u001b[39;00m \u001b[38;5;21minterpret\u001b[39m(\u001b[38;5;28mself\u001b[39m, inst: dis\u001b[38;5;241m.\u001b[39mInstruction, \u001b[38;5;241m/\u001b[39m, \u001b[38;5;241m*\u001b[39m\u001b[38;5;241m*\u001b[39minterpreter_state) \u001b[38;5;241m-\u001b[39m\u001b[38;5;241m>\u001b[39m \u001b[38;5;28;01mNone\u001b[39;00m \u001b[38;5;241m|\u001b[39m \u001b[38;5;28mint\u001b[39m \u001b[38;5;241m|\u001b[39m INTERPRETER_SIGNALS:\n\u001b[0;32m--> 408\u001b[0m     \u001b[38;5;28;01mreturn\u001b[39;00m \u001b[38;5;28;43mself\u001b[39;49m\u001b[38;5;241;43m.\u001b[39;49m\u001b[43m_opcode_interpreter\u001b[49m\u001b[43m(\u001b[49m\u001b[43minst\u001b[49m\u001b[43m,\u001b[49m\u001b[43m \u001b[49m\u001b[38;5;241;43m*\u001b[39;49m\u001b[38;5;241;43m*\u001b[39;49m\u001b[43minterpreter_state\u001b[49m\u001b[43m)\u001b[49m\n",
      "File \u001b[0;32m~/projects/torch_template/.venv/lib/python3.11/site-packages/thunder/core/interpreter.py:1206\u001b[0m, in \u001b[0;36mdefault_opcode_interpreter\u001b[0;34m(inst, **interpreter_state)\u001b[0m\n\u001b[1;32m   1205\u001b[0m \u001b[38;5;28;01mwith\u001b[39;00m interpreter_state[\u001b[38;5;124m\"\u001b[39m\u001b[38;5;124mstack\u001b[39m\u001b[38;5;124m\"\u001b[39m]\u001b[38;5;241m.\u001b[39mset_cur_instruction(inst):\n\u001b[0;32m-> 1206\u001b[0m     \u001b[38;5;28;01mreturn\u001b[39;00m \u001b[43mhandler\u001b[49m\u001b[43m(\u001b[49m\u001b[43minst\u001b[49m\u001b[43m,\u001b[49m\u001b[43m \u001b[49m\u001b[38;5;241;43m*\u001b[39;49m\u001b[38;5;241;43m*\u001b[39;49m\u001b[43minterpreter_state\u001b[49m\u001b[43m)\u001b[49m\n",
      "File \u001b[0;32m~/projects/torch_template/.venv/lib/python3.11/site-packages/thunder/core/interpreter.py:3507\u001b[0m, in \u001b[0;36m_call_function_ex_handler\u001b[0;34m(inst, stack, **kwargs)\u001b[0m\n\u001b[1;32m   3506\u001b[0m     kwargs \u001b[38;5;241m=\u001b[39m wrap_kwargs_from_dict(kwargs)\n\u001b[0;32m-> 3507\u001b[0m \u001b[38;5;28;01mreturn\u001b[39;00m check_and_append(stack, \u001b[43m_interpret_call\u001b[49m\u001b[43m(\u001b[49m\u001b[43mfunc\u001b[49m\u001b[43m,\u001b[49m\u001b[43m \u001b[49m\u001b[38;5;241;43m*\u001b[39;49m\u001b[43margs\u001b[49m\u001b[43m,\u001b[49m\u001b[43m \u001b[49m\u001b[38;5;241;43m*\u001b[39;49m\u001b[38;5;241;43m*\u001b[39;49m\u001b[43mkwargs\u001b[49m\u001b[43m)\u001b[49m)\n",
      "File \u001b[0;32m~/projects/torch_template/.venv/lib/python3.11/site-packages/thunder/core/interpreter.py:5885\u001b[0m, in \u001b[0;36m_interpret_call\u001b[0;34m(fn, *args, **kwargs)\u001b[0m\n\u001b[1;32m   5884\u001b[0m runtimectx\u001b[38;5;241m.\u001b[39mrecord_interpreter_call(fn)  \u001b[38;5;66;03m# type: ignore\u001b[39;00m\n\u001b[0;32m-> 5885\u001b[0m rval \u001b[38;5;241m=\u001b[39m \u001b[43m_call_dispatch\u001b[49m\u001b[43m(\u001b[49m\u001b[43mcompilectx\u001b[49m\u001b[43m,\u001b[49m\u001b[43m \u001b[49m\u001b[43mruntimectx\u001b[49m\u001b[43m,\u001b[49m\u001b[43m \u001b[49m\u001b[43mfn\u001b[49m\u001b[43m,\u001b[49m\u001b[43m \u001b[49m\u001b[38;5;241;43m*\u001b[39;49m\u001b[43margs\u001b[49m\u001b[43m,\u001b[49m\u001b[43m \u001b[49m\u001b[38;5;241;43m*\u001b[39;49m\u001b[38;5;241;43m*\u001b[39;49m\u001b[43mkwargs\u001b[49m\u001b[43m)\u001b[49m  \u001b[38;5;66;03m# type: ignore\u001b[39;00m\n\u001b[1;32m   5886\u001b[0m \u001b[38;5;28;01mif\u001b[39;00m compilectx\u001b[38;5;241m.\u001b[39m_with_provenance_tracking:\n",
      "File \u001b[0;32m~/projects/torch_template/.venv/lib/python3.11/site-packages/thunder/core/interpreter.py:6114\u001b[0m, in \u001b[0;36m_call_dispatch\u001b[0;34m(compilectx, runtimectx, fn, *args, **kwargs)\u001b[0m\n\u001b[1;32m   6113\u001b[0m \u001b[38;5;28;01massert\u001b[39;00m \u001b[38;5;28misinstance\u001b[39m(fn, FunctionType), \u001b[38;5;124mf\u001b[39m\u001b[38;5;124m\"\u001b[39m\u001b[38;5;132;01m{\u001b[39;00mfn\u001b[38;5;132;01m=}\u001b[39;00m\u001b[38;5;124m had an unexpected type (\u001b[39m\u001b[38;5;132;01m{\u001b[39;00m\u001b[38;5;28mtype\u001b[39m(fn)\u001b[38;5;132;01m}\u001b[39;00m\u001b[38;5;124m\"\u001b[39m\n\u001b[0;32m-> 6114\u001b[0m \u001b[38;5;28;01mreturn\u001b[39;00m \u001b[43m_setup_frame_and_run_python_function\u001b[49m\u001b[43m(\u001b[49m\u001b[43mcompilectx\u001b[49m\u001b[43m,\u001b[49m\u001b[43m \u001b[49m\u001b[43mruntimectx\u001b[49m\u001b[43m,\u001b[49m\u001b[43m \u001b[49m\u001b[43mwrapped_fn\u001b[49m\u001b[43m,\u001b[49m\u001b[43m \u001b[49m\u001b[38;5;241;43m*\u001b[39;49m\u001b[43margs\u001b[49m\u001b[43m,\u001b[49m\u001b[43m \u001b[49m\u001b[38;5;241;43m*\u001b[39;49m\u001b[38;5;241;43m*\u001b[39;49m\u001b[43mkwargs\u001b[49m\u001b[43m)\u001b[49m\n",
      "File \u001b[0;32m~/projects/torch_template/.venv/lib/python3.11/site-packages/thunder/core/interpreter.py:6243\u001b[0m, in \u001b[0;36m_setup_frame_and_run_python_function\u001b[0;34m(compilectx, runtimectx, wrapped_fn, *args, **kwargs)\u001b[0m\n\u001b[1;32m   6242\u001b[0m     tb \u001b[38;5;241m=\u001b[39m TracebackType(e\u001b[38;5;241m.\u001b[39m__traceback__, python_frame, python_frame\u001b[38;5;241m.\u001b[39mf_lasti, python_frame\u001b[38;5;241m.\u001b[39mf_lineno)\n\u001b[0;32m-> 6243\u001b[0m     \u001b[38;5;28;01mraise\u001b[39;00m e\u001b[38;5;241m.\u001b[39mwith_traceback(tb)\n\u001b[1;32m   6244\u001b[0m \u001b[38;5;28;01mreturn\u001b[39;00m res\n",
      "File \u001b[0;32m~/projects/torch_template/nfs/samples_RNN/LHT_credits-history/src/models/components/embedding/encoder_layer.py:29\u001b[0m, in \u001b[0;36mEmbeddingLayer.forward\u001b[0;34m()\u001b[0m\n\u001b[1;32m     26\u001b[0m \u001b[38;5;28;01mdef\u001b[39;00m \u001b[38;5;21mforward\u001b[39m(\u001b[38;5;28mself\u001b[39m, x: torch\u001b[38;5;241m.\u001b[39mTensor) \u001b[38;5;241m-\u001b[39m\u001b[38;5;241m>\u001b[39m torch\u001b[38;5;241m.\u001b[39mTensor:\n\u001b[1;32m     28\u001b[0m     x \u001b[38;5;241m=\u001b[39m torch\u001b[38;5;241m.\u001b[39mconcatenate(\n\u001b[0;32m---> 29\u001b[0m         [embedding(x[\u001b[38;5;241m.\u001b[39m\u001b[38;5;241m.\u001b[39m\u001b[38;5;241m.\u001b[39m, idx]) \u001b[38;5;28;01mfor\u001b[39;00m idx, embedding \u001b[38;5;129;01min\u001b[39;00m \u001b[38;5;28menumerate\u001b[39m(\u001b[38;5;28mself\u001b[39m\u001b[38;5;241m.\u001b[39membeddings)], dim\u001b[38;5;241m=\u001b[39m\u001b[38;5;241m-\u001b[39m\u001b[38;5;241m1\u001b[39m\n\u001b[1;32m     30\u001b[0m     ) \u001b[38;5;66;03m# size = (batch_size, len(cat_features), embedding_dim)\u001b[39;00m\n\u001b[1;32m     32\u001b[0m     \u001b[38;5;28;01mreturn\u001b[39;00m x\n",
      "File \u001b[0;32m~/projects/torch_template/.venv/lib/python3.11/site-packages/thunder/core/interpreter.py:6238\u001b[0m, in \u001b[0;36m_setup_frame_and_run_python_function\u001b[0;34m(compilectx, runtimectx, wrapped_fn, *args, **kwargs)\u001b[0m\n\u001b[1;32m   6237\u001b[0m \u001b[38;5;28;01mtry\u001b[39;00m:\n\u001b[0;32m-> 6238\u001b[0m     res, status \u001b[38;5;241m=\u001b[39m \u001b[43m_run_frame\u001b[49m\u001b[43m(\u001b[49m\u001b[43mframe\u001b[49m\u001b[43m,\u001b[49m\u001b[43m \u001b[49m\u001b[43mcompilectx\u001b[49m\u001b[43m,\u001b[49m\u001b[43m \u001b[49m\u001b[43mruntimectx\u001b[49m\u001b[43m)\u001b[49m\n\u001b[1;32m   6239\u001b[0m \u001b[38;5;28;01mexcept\u001b[39;00m \u001b[38;5;167;01mException\u001b[39;00m \u001b[38;5;28;01mas\u001b[39;00m e:\n\u001b[1;32m   6240\u001b[0m     \u001b[38;5;66;03m# We need to cheat a bit to get a Python frame here...\u001b[39;00m\n",
      "File \u001b[0;32m~/projects/torch_template/.venv/lib/python3.11/site-packages/thunder/core/interpreter.py:6284\u001b[0m, in \u001b[0;36m_run_frame\u001b[0;34m(frame, compilectx, runtimectx, send_value)\u001b[0m\n\u001b[1;32m   6283\u001b[0m frame\u001b[38;5;241m.\u001b[39mlasti \u001b[38;5;241m=\u001b[39m frame\u001b[38;5;241m.\u001b[39minst_ptr  \u001b[38;5;66;03m# ???\u001b[39;00m\n\u001b[0;32m-> 6284\u001b[0m interpretation_result: \u001b[38;5;28;01mNone\u001b[39;00m \u001b[38;5;241m|\u001b[39m \u001b[38;5;28mint\u001b[39m \u001b[38;5;241m|\u001b[39m INTERPRETER_SIGNALS \u001b[38;5;241m=\u001b[39m \u001b[43mcompilectx\u001b[49m\u001b[38;5;241;43m.\u001b[39;49m\u001b[43minterpret\u001b[49m\u001b[43m(\u001b[49m\n\u001b[1;32m   6285\u001b[0m \u001b[43m    \u001b[49m\u001b[43minst\u001b[49m\u001b[43m,\u001b[49m\n\u001b[1;32m   6286\u001b[0m \u001b[43m    \u001b[49m\u001b[43minst_ptr\u001b[49m\u001b[38;5;241;43m=\u001b[39;49m\u001b[43mframe\u001b[49m\u001b[38;5;241;43m.\u001b[39;49m\u001b[43minst_ptr\u001b[49m\u001b[43m,\u001b[49m\n\u001b[1;32m   6287\u001b[0m \u001b[43m    \u001b[49m\u001b[43mstack\u001b[49m\u001b[38;5;241;43m=\u001b[39;49m\u001b[43mframe\u001b[49m\u001b[38;5;241;43m.\u001b[39;49m\u001b[43minterpreter_stack\u001b[49m\u001b[43m,\u001b[49m\n\u001b[1;32m   6288\u001b[0m \u001b[43m    \u001b[49m\u001b[43mglobals_dict\u001b[49m\u001b[38;5;241;43m=\u001b[39;49m\u001b[43mframe\u001b[49m\u001b[38;5;241;43m.\u001b[39;49m\u001b[43mglobals\u001b[49m\u001b[43m,\u001b[49m\n\u001b[1;32m   6289\u001b[0m \u001b[43m    \u001b[49m\u001b[43mtry_stack\u001b[49m\u001b[38;5;241;43m=\u001b[39;49m\u001b[43mframe\u001b[49m\u001b[38;5;241;43m.\u001b[39;49m\u001b[43mtry_stack\u001b[49m\u001b[43m,\u001b[49m\n\u001b[1;32m   6290\u001b[0m \u001b[43m    \u001b[49m\u001b[43mexception_stack\u001b[49m\u001b[38;5;241;43m=\u001b[39;49m\u001b[43mruntimectx\u001b[49m\u001b[38;5;241;43m.\u001b[39;49m\u001b[43mexception_stack\u001b[49m\u001b[43m,\u001b[49m\n\u001b[1;32m   6291\u001b[0m \u001b[43m    \u001b[49m\u001b[43mco\u001b[49m\u001b[38;5;241;43m=\u001b[39;49m\u001b[43mframe\u001b[49m\u001b[38;5;241;43m.\u001b[39;49m\u001b[43mcode\u001b[49m\u001b[43m,\u001b[49m\n\u001b[1;32m   6292\u001b[0m \u001b[43m    \u001b[49m\u001b[43mframe\u001b[49m\u001b[38;5;241;43m=\u001b[39;49m\u001b[43mframe\u001b[49m\u001b[43m,\u001b[49m\n\u001b[1;32m   6293\u001b[0m \u001b[43m\u001b[49m\u001b[43m)\u001b[49m\n\u001b[1;32m   6294\u001b[0m \u001b[38;5;28;01mif\u001b[39;00m interpretation_result \u001b[38;5;129;01mis\u001b[39;00m INTERPRETER_SIGNALS\u001b[38;5;241m.\u001b[39mEXCEPTION_RAISED:\n",
      "File \u001b[0;32m~/projects/torch_template/.venv/lib/python3.11/site-packages/thunder/core/interpreter.py:408\u001b[0m, in \u001b[0;36mInterpreterCompileCtx.interpret\u001b[0;34m(self, inst, **interpreter_state)\u001b[0m\n\u001b[1;32m    407\u001b[0m \u001b[38;5;28;01mdef\u001b[39;00m \u001b[38;5;21minterpret\u001b[39m(\u001b[38;5;28mself\u001b[39m, inst: dis\u001b[38;5;241m.\u001b[39mInstruction, \u001b[38;5;241m/\u001b[39m, \u001b[38;5;241m*\u001b[39m\u001b[38;5;241m*\u001b[39minterpreter_state) \u001b[38;5;241m-\u001b[39m\u001b[38;5;241m>\u001b[39m \u001b[38;5;28;01mNone\u001b[39;00m \u001b[38;5;241m|\u001b[39m \u001b[38;5;28mint\u001b[39m \u001b[38;5;241m|\u001b[39m INTERPRETER_SIGNALS:\n\u001b[0;32m--> 408\u001b[0m     \u001b[38;5;28;01mreturn\u001b[39;00m \u001b[38;5;28;43mself\u001b[39;49m\u001b[38;5;241;43m.\u001b[39;49m\u001b[43m_opcode_interpreter\u001b[49m\u001b[43m(\u001b[49m\u001b[43minst\u001b[49m\u001b[43m,\u001b[49m\u001b[43m \u001b[49m\u001b[38;5;241;43m*\u001b[39;49m\u001b[38;5;241;43m*\u001b[39;49m\u001b[43minterpreter_state\u001b[49m\u001b[43m)\u001b[49m\n",
      "File \u001b[0;32m~/projects/torch_template/.venv/lib/python3.11/site-packages/thunder/core/interpreter.py:1206\u001b[0m, in \u001b[0;36mdefault_opcode_interpreter\u001b[0;34m(inst, **interpreter_state)\u001b[0m\n\u001b[1;32m   1205\u001b[0m \u001b[38;5;28;01mwith\u001b[39;00m interpreter_state[\u001b[38;5;124m\"\u001b[39m\u001b[38;5;124mstack\u001b[39m\u001b[38;5;124m\"\u001b[39m]\u001b[38;5;241m.\u001b[39mset_cur_instruction(inst):\n\u001b[0;32m-> 1206\u001b[0m     \u001b[38;5;28;01mreturn\u001b[39;00m \u001b[43mhandler\u001b[49m\u001b[43m(\u001b[49m\u001b[43minst\u001b[49m\u001b[43m,\u001b[49m\u001b[43m \u001b[49m\u001b[38;5;241;43m*\u001b[39;49m\u001b[38;5;241;43m*\u001b[39;49m\u001b[43minterpreter_state\u001b[49m\u001b[43m)\u001b[49m\n",
      "File \u001b[0;32m~/projects/torch_template/.venv/lib/python3.11/site-packages/thunder/core/interpreter.py:3467\u001b[0m, in \u001b[0;36m_call_handler\u001b[0;34m(inst, stack, frame, **kwargs)\u001b[0m\n\u001b[1;32m   3465\u001b[0m     func \u001b[38;5;241m=\u001b[39m func_or_self\n\u001b[0;32m-> 3467\u001b[0m res \u001b[38;5;241m=\u001b[39m \u001b[43m_interpret_call\u001b[49m\u001b[43m(\u001b[49m\u001b[43mfunc\u001b[49m\u001b[43m,\u001b[49m\u001b[43m \u001b[49m\u001b[38;5;241;43m*\u001b[39;49m\u001b[43margs\u001b[49m\u001b[43m,\u001b[49m\u001b[43m \u001b[49m\u001b[38;5;241;43m*\u001b[39;49m\u001b[38;5;241;43m*\u001b[39;49m\u001b[43mkwargs\u001b[49m\u001b[43m)\u001b[49m\n\u001b[1;32m   3468\u001b[0m ctx: InterpreterCompileCtx \u001b[38;5;241m=\u001b[39m get_interpretercompilectx()\n",
      "File \u001b[0;32m~/projects/torch_template/.venv/lib/python3.11/site-packages/thunder/core/interpreter.py:5885\u001b[0m, in \u001b[0;36m_interpret_call\u001b[0;34m(fn, *args, **kwargs)\u001b[0m\n\u001b[1;32m   5884\u001b[0m runtimectx\u001b[38;5;241m.\u001b[39mrecord_interpreter_call(fn)  \u001b[38;5;66;03m# type: ignore\u001b[39;00m\n\u001b[0;32m-> 5885\u001b[0m rval \u001b[38;5;241m=\u001b[39m \u001b[43m_call_dispatch\u001b[49m\u001b[43m(\u001b[49m\u001b[43mcompilectx\u001b[49m\u001b[43m,\u001b[49m\u001b[43m \u001b[49m\u001b[43mruntimectx\u001b[49m\u001b[43m,\u001b[49m\u001b[43m \u001b[49m\u001b[43mfn\u001b[49m\u001b[43m,\u001b[49m\u001b[43m \u001b[49m\u001b[38;5;241;43m*\u001b[39;49m\u001b[43margs\u001b[49m\u001b[43m,\u001b[49m\u001b[43m \u001b[49m\u001b[38;5;241;43m*\u001b[39;49m\u001b[38;5;241;43m*\u001b[39;49m\u001b[43mkwargs\u001b[49m\u001b[43m)\u001b[49m  \u001b[38;5;66;03m# type: ignore\u001b[39;00m\n\u001b[1;32m   5886\u001b[0m \u001b[38;5;28;01mif\u001b[39;00m compilectx\u001b[38;5;241m.\u001b[39m_with_provenance_tracking:\n",
      "File \u001b[0;32m~/projects/torch_template/.venv/lib/python3.11/site-packages/thunder/core/interpreter.py:6114\u001b[0m, in \u001b[0;36m_call_dispatch\u001b[0;34m(compilectx, runtimectx, fn, *args, **kwargs)\u001b[0m\n\u001b[1;32m   6113\u001b[0m \u001b[38;5;28;01massert\u001b[39;00m \u001b[38;5;28misinstance\u001b[39m(fn, FunctionType), \u001b[38;5;124mf\u001b[39m\u001b[38;5;124m\"\u001b[39m\u001b[38;5;132;01m{\u001b[39;00mfn\u001b[38;5;132;01m=}\u001b[39;00m\u001b[38;5;124m had an unexpected type (\u001b[39m\u001b[38;5;132;01m{\u001b[39;00m\u001b[38;5;28mtype\u001b[39m(fn)\u001b[38;5;132;01m}\u001b[39;00m\u001b[38;5;124m\"\u001b[39m\n\u001b[0;32m-> 6114\u001b[0m \u001b[38;5;28;01mreturn\u001b[39;00m \u001b[43m_setup_frame_and_run_python_function\u001b[49m\u001b[43m(\u001b[49m\u001b[43mcompilectx\u001b[49m\u001b[43m,\u001b[49m\u001b[43m \u001b[49m\u001b[43mruntimectx\u001b[49m\u001b[43m,\u001b[49m\u001b[43m \u001b[49m\u001b[43mwrapped_fn\u001b[49m\u001b[43m,\u001b[49m\u001b[43m \u001b[49m\u001b[38;5;241;43m*\u001b[39;49m\u001b[43margs\u001b[49m\u001b[43m,\u001b[49m\u001b[43m \u001b[49m\u001b[38;5;241;43m*\u001b[39;49m\u001b[38;5;241;43m*\u001b[39;49m\u001b[43mkwargs\u001b[49m\u001b[43m)\u001b[49m\n",
      "File \u001b[0;32m~/projects/torch_template/.venv/lib/python3.11/site-packages/thunder/core/interpreter.py:6243\u001b[0m, in \u001b[0;36m_setup_frame_and_run_python_function\u001b[0;34m(compilectx, runtimectx, wrapped_fn, *args, **kwargs)\u001b[0m\n\u001b[1;32m   6242\u001b[0m     tb \u001b[38;5;241m=\u001b[39m TracebackType(e\u001b[38;5;241m.\u001b[39m__traceback__, python_frame, python_frame\u001b[38;5;241m.\u001b[39mf_lasti, python_frame\u001b[38;5;241m.\u001b[39mf_lineno)\n\u001b[0;32m-> 6243\u001b[0m     \u001b[38;5;28;01mraise\u001b[39;00m e\u001b[38;5;241m.\u001b[39mwith_traceback(tb)\n\u001b[1;32m   6244\u001b[0m \u001b[38;5;28;01mreturn\u001b[39;00m res\n",
      "File \u001b[0;32m~/projects/torch_template/nfs/samples_RNN/LHT_credits-history/src/models/components/embedding/encoder_layer.py:29\u001b[0m, in \u001b[0;36m<listcomp>\u001b[0;34m()\u001b[0m\n\u001b[1;32m     26\u001b[0m \u001b[38;5;28;01mdef\u001b[39;00m \u001b[38;5;21mforward\u001b[39m(\u001b[38;5;28mself\u001b[39m, x: torch\u001b[38;5;241m.\u001b[39mTensor) \u001b[38;5;241m-\u001b[39m\u001b[38;5;241m>\u001b[39m torch\u001b[38;5;241m.\u001b[39mTensor:\n\u001b[1;32m     28\u001b[0m     x \u001b[38;5;241m=\u001b[39m torch\u001b[38;5;241m.\u001b[39mconcatenate(\n\u001b[0;32m---> 29\u001b[0m         [embedding(x[\u001b[38;5;241m.\u001b[39m\u001b[38;5;241m.\u001b[39m\u001b[38;5;241m.\u001b[39m, idx]) \u001b[38;5;28;01mfor\u001b[39;00m idx, embedding \u001b[38;5;129;01min\u001b[39;00m \u001b[38;5;28menumerate\u001b[39m(\u001b[38;5;28mself\u001b[39m\u001b[38;5;241m.\u001b[39membeddings)], dim\u001b[38;5;241m=\u001b[39m\u001b[38;5;241m-\u001b[39m\u001b[38;5;241m1\u001b[39m\n\u001b[1;32m     30\u001b[0m     ) \u001b[38;5;66;03m# size = (batch_size, len(cat_features), embedding_dim)\u001b[39;00m\n\u001b[1;32m     32\u001b[0m     \u001b[38;5;28;01mreturn\u001b[39;00m x\n",
      "File \u001b[0;32m~/projects/torch_template/.venv/lib/python3.11/site-packages/thunder/core/interpreter.py:6238\u001b[0m, in \u001b[0;36m_setup_frame_and_run_python_function\u001b[0;34m(compilectx, runtimectx, wrapped_fn, *args, **kwargs)\u001b[0m\n\u001b[1;32m   6237\u001b[0m \u001b[38;5;28;01mtry\u001b[39;00m:\n\u001b[0;32m-> 6238\u001b[0m     res, status \u001b[38;5;241m=\u001b[39m \u001b[43m_run_frame\u001b[49m\u001b[43m(\u001b[49m\u001b[43mframe\u001b[49m\u001b[43m,\u001b[49m\u001b[43m \u001b[49m\u001b[43mcompilectx\u001b[49m\u001b[43m,\u001b[49m\u001b[43m \u001b[49m\u001b[43mruntimectx\u001b[49m\u001b[43m)\u001b[49m\n\u001b[1;32m   6239\u001b[0m \u001b[38;5;28;01mexcept\u001b[39;00m \u001b[38;5;167;01mException\u001b[39;00m \u001b[38;5;28;01mas\u001b[39;00m e:\n\u001b[1;32m   6240\u001b[0m     \u001b[38;5;66;03m# We need to cheat a bit to get a Python frame here...\u001b[39;00m\n",
      "File \u001b[0;32m~/projects/torch_template/.venv/lib/python3.11/site-packages/thunder/core/interpreter.py:6284\u001b[0m, in \u001b[0;36m_run_frame\u001b[0;34m(frame, compilectx, runtimectx, send_value)\u001b[0m\n\u001b[1;32m   6283\u001b[0m frame\u001b[38;5;241m.\u001b[39mlasti \u001b[38;5;241m=\u001b[39m frame\u001b[38;5;241m.\u001b[39minst_ptr  \u001b[38;5;66;03m# ???\u001b[39;00m\n\u001b[0;32m-> 6284\u001b[0m interpretation_result: \u001b[38;5;28;01mNone\u001b[39;00m \u001b[38;5;241m|\u001b[39m \u001b[38;5;28mint\u001b[39m \u001b[38;5;241m|\u001b[39m INTERPRETER_SIGNALS \u001b[38;5;241m=\u001b[39m \u001b[43mcompilectx\u001b[49m\u001b[38;5;241;43m.\u001b[39;49m\u001b[43minterpret\u001b[49m\u001b[43m(\u001b[49m\n\u001b[1;32m   6285\u001b[0m \u001b[43m    \u001b[49m\u001b[43minst\u001b[49m\u001b[43m,\u001b[49m\n\u001b[1;32m   6286\u001b[0m \u001b[43m    \u001b[49m\u001b[43minst_ptr\u001b[49m\u001b[38;5;241;43m=\u001b[39;49m\u001b[43mframe\u001b[49m\u001b[38;5;241;43m.\u001b[39;49m\u001b[43minst_ptr\u001b[49m\u001b[43m,\u001b[49m\n\u001b[1;32m   6287\u001b[0m \u001b[43m    \u001b[49m\u001b[43mstack\u001b[49m\u001b[38;5;241;43m=\u001b[39;49m\u001b[43mframe\u001b[49m\u001b[38;5;241;43m.\u001b[39;49m\u001b[43minterpreter_stack\u001b[49m\u001b[43m,\u001b[49m\n\u001b[1;32m   6288\u001b[0m \u001b[43m    \u001b[49m\u001b[43mglobals_dict\u001b[49m\u001b[38;5;241;43m=\u001b[39;49m\u001b[43mframe\u001b[49m\u001b[38;5;241;43m.\u001b[39;49m\u001b[43mglobals\u001b[49m\u001b[43m,\u001b[49m\n\u001b[1;32m   6289\u001b[0m \u001b[43m    \u001b[49m\u001b[43mtry_stack\u001b[49m\u001b[38;5;241;43m=\u001b[39;49m\u001b[43mframe\u001b[49m\u001b[38;5;241;43m.\u001b[39;49m\u001b[43mtry_stack\u001b[49m\u001b[43m,\u001b[49m\n\u001b[1;32m   6290\u001b[0m \u001b[43m    \u001b[49m\u001b[43mexception_stack\u001b[49m\u001b[38;5;241;43m=\u001b[39;49m\u001b[43mruntimectx\u001b[49m\u001b[38;5;241;43m.\u001b[39;49m\u001b[43mexception_stack\u001b[49m\u001b[43m,\u001b[49m\n\u001b[1;32m   6291\u001b[0m \u001b[43m    \u001b[49m\u001b[43mco\u001b[49m\u001b[38;5;241;43m=\u001b[39;49m\u001b[43mframe\u001b[49m\u001b[38;5;241;43m.\u001b[39;49m\u001b[43mcode\u001b[49m\u001b[43m,\u001b[49m\n\u001b[1;32m   6292\u001b[0m \u001b[43m    \u001b[49m\u001b[43mframe\u001b[49m\u001b[38;5;241;43m=\u001b[39;49m\u001b[43mframe\u001b[49m\u001b[43m,\u001b[49m\n\u001b[1;32m   6293\u001b[0m \u001b[43m\u001b[49m\u001b[43m)\u001b[49m\n\u001b[1;32m   6294\u001b[0m \u001b[38;5;28;01mif\u001b[39;00m interpretation_result \u001b[38;5;129;01mis\u001b[39;00m INTERPRETER_SIGNALS\u001b[38;5;241m.\u001b[39mEXCEPTION_RAISED:\n",
      "File \u001b[0;32m~/projects/torch_template/.venv/lib/python3.11/site-packages/thunder/core/interpreter.py:408\u001b[0m, in \u001b[0;36mInterpreterCompileCtx.interpret\u001b[0;34m(self, inst, **interpreter_state)\u001b[0m\n\u001b[1;32m    407\u001b[0m \u001b[38;5;28;01mdef\u001b[39;00m \u001b[38;5;21minterpret\u001b[39m(\u001b[38;5;28mself\u001b[39m, inst: dis\u001b[38;5;241m.\u001b[39mInstruction, \u001b[38;5;241m/\u001b[39m, \u001b[38;5;241m*\u001b[39m\u001b[38;5;241m*\u001b[39minterpreter_state) \u001b[38;5;241m-\u001b[39m\u001b[38;5;241m>\u001b[39m \u001b[38;5;28;01mNone\u001b[39;00m \u001b[38;5;241m|\u001b[39m \u001b[38;5;28mint\u001b[39m \u001b[38;5;241m|\u001b[39m INTERPRETER_SIGNALS:\n\u001b[0;32m--> 408\u001b[0m     \u001b[38;5;28;01mreturn\u001b[39;00m \u001b[38;5;28;43mself\u001b[39;49m\u001b[38;5;241;43m.\u001b[39;49m\u001b[43m_opcode_interpreter\u001b[49m\u001b[43m(\u001b[49m\u001b[43minst\u001b[49m\u001b[43m,\u001b[49m\u001b[43m \u001b[49m\u001b[38;5;241;43m*\u001b[39;49m\u001b[38;5;241;43m*\u001b[39;49m\u001b[43minterpreter_state\u001b[49m\u001b[43m)\u001b[49m\n",
      "File \u001b[0;32m~/projects/torch_template/.venv/lib/python3.11/site-packages/thunder/core/interpreter.py:1206\u001b[0m, in \u001b[0;36mdefault_opcode_interpreter\u001b[0;34m(inst, **interpreter_state)\u001b[0m\n\u001b[1;32m   1205\u001b[0m \u001b[38;5;28;01mwith\u001b[39;00m interpreter_state[\u001b[38;5;124m\"\u001b[39m\u001b[38;5;124mstack\u001b[39m\u001b[38;5;124m\"\u001b[39m]\u001b[38;5;241m.\u001b[39mset_cur_instruction(inst):\n\u001b[0;32m-> 1206\u001b[0m     \u001b[38;5;28;01mreturn\u001b[39;00m \u001b[43mhandler\u001b[49m\u001b[43m(\u001b[49m\u001b[43minst\u001b[49m\u001b[43m,\u001b[49m\u001b[43m \u001b[49m\u001b[38;5;241;43m*\u001b[39;49m\u001b[38;5;241;43m*\u001b[39;49m\u001b[43minterpreter_state\u001b[49m\u001b[43m)\u001b[49m\n",
      "File \u001b[0;32m~/projects/torch_template/.venv/lib/python3.11/site-packages/thunder/core/interpreter.py:5601\u001b[0m, in \u001b[0;36m_unpack_sequence_handler\u001b[0;34m(inst, stack, **kwargs)\u001b[0m\n\u001b[1;32m   5599\u001b[0m     values\u001b[38;5;241m.\u001b[39mappend(v)\n\u001b[0;32m-> 5601\u001b[0m v \u001b[38;5;241m=\u001b[39m \u001b[43m_interpret_call\u001b[49m\u001b[43m(\u001b[49m\u001b[38;5;28;43mnext\u001b[39;49m\u001b[43m,\u001b[49m\u001b[43m \u001b[49m\u001b[43mseq_iter\u001b[49m\u001b[43m)\u001b[49m\n\u001b[1;32m   5602\u001b[0m \u001b[38;5;28;01mif\u001b[39;00m v \u001b[38;5;129;01mis\u001b[39;00m INTERPRETER_SIGNALS\u001b[38;5;241m.\u001b[39mEXCEPTION_RAISED:\n",
      "File \u001b[0;32m~/projects/torch_template/.venv/lib/python3.11/site-packages/thunder/core/interpreter.py:5885\u001b[0m, in \u001b[0;36m_interpret_call\u001b[0;34m(fn, *args, **kwargs)\u001b[0m\n\u001b[1;32m   5884\u001b[0m runtimectx\u001b[38;5;241m.\u001b[39mrecord_interpreter_call(fn)  \u001b[38;5;66;03m# type: ignore\u001b[39;00m\n\u001b[0;32m-> 5885\u001b[0m rval \u001b[38;5;241m=\u001b[39m \u001b[43m_call_dispatch\u001b[49m\u001b[43m(\u001b[49m\u001b[43mcompilectx\u001b[49m\u001b[43m,\u001b[49m\u001b[43m \u001b[49m\u001b[43mruntimectx\u001b[49m\u001b[43m,\u001b[49m\u001b[43m \u001b[49m\u001b[43mfn\u001b[49m\u001b[43m,\u001b[49m\u001b[43m \u001b[49m\u001b[38;5;241;43m*\u001b[39;49m\u001b[43margs\u001b[49m\u001b[43m,\u001b[49m\u001b[43m \u001b[49m\u001b[38;5;241;43m*\u001b[39;49m\u001b[38;5;241;43m*\u001b[39;49m\u001b[43mkwargs\u001b[49m\u001b[43m)\u001b[49m  \u001b[38;5;66;03m# type: ignore\u001b[39;00m\n\u001b[1;32m   5886\u001b[0m \u001b[38;5;28;01mif\u001b[39;00m compilectx\u001b[38;5;241m.\u001b[39m_with_provenance_tracking:\n",
      "File \u001b[0;32m~/projects/torch_template/.venv/lib/python3.11/site-packages/thunder/core/interpreter.py:6046\u001b[0m, in \u001b[0;36m_call_dispatch\u001b[0;34m(compilectx, runtimectx, fn, *args, **kwargs)\u001b[0m\n\u001b[1;32m   6045\u001b[0m runtimectx\u001b[38;5;241m.\u001b[39mrecord_lookaside(lookaside_fn)\n\u001b[0;32m-> 6046\u001b[0m res \u001b[38;5;241m=\u001b[39m \u001b[43mlookaside_fn\u001b[49m\u001b[43m(\u001b[49m\u001b[38;5;241;43m*\u001b[39;49m\u001b[43margs\u001b[49m\u001b[43m,\u001b[49m\u001b[43m \u001b[49m\u001b[38;5;241;43m*\u001b[39;49m\u001b[38;5;241;43m*\u001b[39;49m\u001b[43mkwargs\u001b[49m\u001b[43m)\u001b[49m\n\u001b[1;32m   6047\u001b[0m \u001b[38;5;28;01mreturn\u001b[39;00m res\n",
      "File \u001b[0;32m~/projects/torch_template/.venv/lib/python3.11/site-packages/thunder/core/interpreter.py:1831\u001b[0m, in \u001b[0;36m_next_lookaside\u001b[0;34m(iterator, default)\u001b[0m\n\u001b[1;32m   1829\u001b[0m     \u001b[38;5;28;01mreturn\u001b[39;00m iterator\u001b[38;5;241m.\u001b[39m\u001b[38;5;21m__next__\u001b[39m()\n\u001b[0;32m-> 1831\u001b[0m res \u001b[38;5;241m=\u001b[39m \u001b[43m_interpret_call\u001b[49m\u001b[43m(\u001b[49m\u001b[43mimpl\u001b[49m\u001b[43m,\u001b[49m\u001b[43m \u001b[49m\u001b[43miterator\u001b[49m\u001b[43m)\u001b[49m\n\u001b[1;32m   1833\u001b[0m \u001b[38;5;28;01mif\u001b[39;00m default \u001b[38;5;129;01mis\u001b[39;00m \u001b[38;5;129;01mnot\u001b[39;00m _nil \u001b[38;5;129;01mand\u001b[39;00m res \u001b[38;5;129;01mis\u001b[39;00m INTERPRETER_SIGNALS\u001b[38;5;241m.\u001b[39mEXCEPTION_RAISED:\n",
      "File \u001b[0;32m~/projects/torch_template/.venv/lib/python3.11/site-packages/thunder/core/interpreter.py:5885\u001b[0m, in \u001b[0;36m_interpret_call\u001b[0;34m(fn, *args, **kwargs)\u001b[0m\n\u001b[1;32m   5884\u001b[0m runtimectx\u001b[38;5;241m.\u001b[39mrecord_interpreter_call(fn)  \u001b[38;5;66;03m# type: ignore\u001b[39;00m\n\u001b[0;32m-> 5885\u001b[0m rval \u001b[38;5;241m=\u001b[39m \u001b[43m_call_dispatch\u001b[49m\u001b[43m(\u001b[49m\u001b[43mcompilectx\u001b[49m\u001b[43m,\u001b[49m\u001b[43m \u001b[49m\u001b[43mruntimectx\u001b[49m\u001b[43m,\u001b[49m\u001b[43m \u001b[49m\u001b[43mfn\u001b[49m\u001b[43m,\u001b[49m\u001b[43m \u001b[49m\u001b[38;5;241;43m*\u001b[39;49m\u001b[43margs\u001b[49m\u001b[43m,\u001b[49m\u001b[43m \u001b[49m\u001b[38;5;241;43m*\u001b[39;49m\u001b[38;5;241;43m*\u001b[39;49m\u001b[43mkwargs\u001b[49m\u001b[43m)\u001b[49m  \u001b[38;5;66;03m# type: ignore\u001b[39;00m\n\u001b[1;32m   5886\u001b[0m \u001b[38;5;28;01mif\u001b[39;00m compilectx\u001b[38;5;241m.\u001b[39m_with_provenance_tracking:\n",
      "File \u001b[0;32m~/projects/torch_template/.venv/lib/python3.11/site-packages/thunder/core/interpreter.py:6114\u001b[0m, in \u001b[0;36m_call_dispatch\u001b[0;34m(compilectx, runtimectx, fn, *args, **kwargs)\u001b[0m\n\u001b[1;32m   6113\u001b[0m \u001b[38;5;28;01massert\u001b[39;00m \u001b[38;5;28misinstance\u001b[39m(fn, FunctionType), \u001b[38;5;124mf\u001b[39m\u001b[38;5;124m\"\u001b[39m\u001b[38;5;132;01m{\u001b[39;00mfn\u001b[38;5;132;01m=}\u001b[39;00m\u001b[38;5;124m had an unexpected type (\u001b[39m\u001b[38;5;132;01m{\u001b[39;00m\u001b[38;5;28mtype\u001b[39m(fn)\u001b[38;5;132;01m}\u001b[39;00m\u001b[38;5;124m\"\u001b[39m\n\u001b[0;32m-> 6114\u001b[0m \u001b[38;5;28;01mreturn\u001b[39;00m \u001b[43m_setup_frame_and_run_python_function\u001b[49m\u001b[43m(\u001b[49m\u001b[43mcompilectx\u001b[49m\u001b[43m,\u001b[49m\u001b[43m \u001b[49m\u001b[43mruntimectx\u001b[49m\u001b[43m,\u001b[49m\u001b[43m \u001b[49m\u001b[43mwrapped_fn\u001b[49m\u001b[43m,\u001b[49m\u001b[43m \u001b[49m\u001b[38;5;241;43m*\u001b[39;49m\u001b[43margs\u001b[49m\u001b[43m,\u001b[49m\u001b[43m \u001b[49m\u001b[38;5;241;43m*\u001b[39;49m\u001b[38;5;241;43m*\u001b[39;49m\u001b[43mkwargs\u001b[49m\u001b[43m)\u001b[49m\n",
      "File \u001b[0;32m~/projects/torch_template/.venv/lib/python3.11/site-packages/thunder/core/interpreter.py:6243\u001b[0m, in \u001b[0;36m_setup_frame_and_run_python_function\u001b[0;34m(compilectx, runtimectx, wrapped_fn, *args, **kwargs)\u001b[0m\n\u001b[1;32m   6242\u001b[0m     tb \u001b[38;5;241m=\u001b[39m TracebackType(e\u001b[38;5;241m.\u001b[39m__traceback__, python_frame, python_frame\u001b[38;5;241m.\u001b[39mf_lasti, python_frame\u001b[38;5;241m.\u001b[39mf_lineno)\n\u001b[0;32m-> 6243\u001b[0m     \u001b[38;5;28;01mraise\u001b[39;00m e\u001b[38;5;241m.\u001b[39mwith_traceback(tb)\n\u001b[1;32m   6244\u001b[0m \u001b[38;5;28;01mreturn\u001b[39;00m res\n",
      "File \u001b[0;32m~/projects/torch_template/.venv/lib/python3.11/site-packages/thunder/core/interpreter.py:1829\u001b[0m, in \u001b[0;36m_next_lookaside.<locals>.impl\u001b[0;34m()\u001b[0m\n\u001b[1;32m   1828\u001b[0m \u001b[38;5;28;01mdef\u001b[39;00m \u001b[38;5;21mimpl\u001b[39m(iterator):\n\u001b[0;32m-> 1829\u001b[0m     \u001b[38;5;28;01mreturn\u001b[39;00m iterator\u001b[38;5;241m.\u001b[39m\u001b[38;5;21m__next__\u001b[39m()\n",
      "File \u001b[0;32m~/projects/torch_template/.venv/lib/python3.11/site-packages/thunder/core/interpreter.py:6238\u001b[0m, in \u001b[0;36m_setup_frame_and_run_python_function\u001b[0;34m(compilectx, runtimectx, wrapped_fn, *args, **kwargs)\u001b[0m\n\u001b[1;32m   6237\u001b[0m \u001b[38;5;28;01mtry\u001b[39;00m:\n\u001b[0;32m-> 6238\u001b[0m     res, status \u001b[38;5;241m=\u001b[39m \u001b[43m_run_frame\u001b[49m\u001b[43m(\u001b[49m\u001b[43mframe\u001b[49m\u001b[43m,\u001b[49m\u001b[43m \u001b[49m\u001b[43mcompilectx\u001b[49m\u001b[43m,\u001b[49m\u001b[43m \u001b[49m\u001b[43mruntimectx\u001b[49m\u001b[43m)\u001b[49m\n\u001b[1;32m   6239\u001b[0m \u001b[38;5;28;01mexcept\u001b[39;00m \u001b[38;5;167;01mException\u001b[39;00m \u001b[38;5;28;01mas\u001b[39;00m e:\n\u001b[1;32m   6240\u001b[0m     \u001b[38;5;66;03m# We need to cheat a bit to get a Python frame here...\u001b[39;00m\n",
      "File \u001b[0;32m~/projects/torch_template/.venv/lib/python3.11/site-packages/thunder/core/interpreter.py:6284\u001b[0m, in \u001b[0;36m_run_frame\u001b[0;34m(frame, compilectx, runtimectx, send_value)\u001b[0m\n\u001b[1;32m   6283\u001b[0m frame\u001b[38;5;241m.\u001b[39mlasti \u001b[38;5;241m=\u001b[39m frame\u001b[38;5;241m.\u001b[39minst_ptr  \u001b[38;5;66;03m# ???\u001b[39;00m\n\u001b[0;32m-> 6284\u001b[0m interpretation_result: \u001b[38;5;28;01mNone\u001b[39;00m \u001b[38;5;241m|\u001b[39m \u001b[38;5;28mint\u001b[39m \u001b[38;5;241m|\u001b[39m INTERPRETER_SIGNALS \u001b[38;5;241m=\u001b[39m \u001b[43mcompilectx\u001b[49m\u001b[38;5;241;43m.\u001b[39;49m\u001b[43minterpret\u001b[49m\u001b[43m(\u001b[49m\n\u001b[1;32m   6285\u001b[0m \u001b[43m    \u001b[49m\u001b[43minst\u001b[49m\u001b[43m,\u001b[49m\n\u001b[1;32m   6286\u001b[0m \u001b[43m    \u001b[49m\u001b[43minst_ptr\u001b[49m\u001b[38;5;241;43m=\u001b[39;49m\u001b[43mframe\u001b[49m\u001b[38;5;241;43m.\u001b[39;49m\u001b[43minst_ptr\u001b[49m\u001b[43m,\u001b[49m\n\u001b[1;32m   6287\u001b[0m \u001b[43m    \u001b[49m\u001b[43mstack\u001b[49m\u001b[38;5;241;43m=\u001b[39;49m\u001b[43mframe\u001b[49m\u001b[38;5;241;43m.\u001b[39;49m\u001b[43minterpreter_stack\u001b[49m\u001b[43m,\u001b[49m\n\u001b[1;32m   6288\u001b[0m \u001b[43m    \u001b[49m\u001b[43mglobals_dict\u001b[49m\u001b[38;5;241;43m=\u001b[39;49m\u001b[43mframe\u001b[49m\u001b[38;5;241;43m.\u001b[39;49m\u001b[43mglobals\u001b[49m\u001b[43m,\u001b[49m\n\u001b[1;32m   6289\u001b[0m \u001b[43m    \u001b[49m\u001b[43mtry_stack\u001b[49m\u001b[38;5;241;43m=\u001b[39;49m\u001b[43mframe\u001b[49m\u001b[38;5;241;43m.\u001b[39;49m\u001b[43mtry_stack\u001b[49m\u001b[43m,\u001b[49m\n\u001b[1;32m   6290\u001b[0m \u001b[43m    \u001b[49m\u001b[43mexception_stack\u001b[49m\u001b[38;5;241;43m=\u001b[39;49m\u001b[43mruntimectx\u001b[49m\u001b[38;5;241;43m.\u001b[39;49m\u001b[43mexception_stack\u001b[49m\u001b[43m,\u001b[49m\n\u001b[1;32m   6291\u001b[0m \u001b[43m    \u001b[49m\u001b[43mco\u001b[49m\u001b[38;5;241;43m=\u001b[39;49m\u001b[43mframe\u001b[49m\u001b[38;5;241;43m.\u001b[39;49m\u001b[43mcode\u001b[49m\u001b[43m,\u001b[49m\n\u001b[1;32m   6292\u001b[0m \u001b[43m    \u001b[49m\u001b[43mframe\u001b[49m\u001b[38;5;241;43m=\u001b[39;49m\u001b[43mframe\u001b[49m\u001b[43m,\u001b[49m\n\u001b[1;32m   6293\u001b[0m \u001b[43m\u001b[49m\u001b[43m)\u001b[49m\n\u001b[1;32m   6294\u001b[0m \u001b[38;5;28;01mif\u001b[39;00m interpretation_result \u001b[38;5;129;01mis\u001b[39;00m INTERPRETER_SIGNALS\u001b[38;5;241m.\u001b[39mEXCEPTION_RAISED:\n",
      "File \u001b[0;32m~/projects/torch_template/.venv/lib/python3.11/site-packages/thunder/core/interpreter.py:408\u001b[0m, in \u001b[0;36mInterpreterCompileCtx.interpret\u001b[0;34m(self, inst, **interpreter_state)\u001b[0m\n\u001b[1;32m    407\u001b[0m \u001b[38;5;28;01mdef\u001b[39;00m \u001b[38;5;21minterpret\u001b[39m(\u001b[38;5;28mself\u001b[39m, inst: dis\u001b[38;5;241m.\u001b[39mInstruction, \u001b[38;5;241m/\u001b[39m, \u001b[38;5;241m*\u001b[39m\u001b[38;5;241m*\u001b[39minterpreter_state) \u001b[38;5;241m-\u001b[39m\u001b[38;5;241m>\u001b[39m \u001b[38;5;28;01mNone\u001b[39;00m \u001b[38;5;241m|\u001b[39m \u001b[38;5;28mint\u001b[39m \u001b[38;5;241m|\u001b[39m INTERPRETER_SIGNALS:\n\u001b[0;32m--> 408\u001b[0m     \u001b[38;5;28;01mreturn\u001b[39;00m \u001b[38;5;28;43mself\u001b[39;49m\u001b[38;5;241;43m.\u001b[39;49m\u001b[43m_opcode_interpreter\u001b[49m\u001b[43m(\u001b[49m\u001b[43minst\u001b[49m\u001b[43m,\u001b[49m\u001b[43m \u001b[49m\u001b[38;5;241;43m*\u001b[39;49m\u001b[38;5;241;43m*\u001b[39;49m\u001b[43minterpreter_state\u001b[49m\u001b[43m)\u001b[49m\n",
      "File \u001b[0;32m~/projects/torch_template/.venv/lib/python3.11/site-packages/thunder/core/interpreter.py:1206\u001b[0m, in \u001b[0;36mdefault_opcode_interpreter\u001b[0;34m(inst, **interpreter_state)\u001b[0m\n\u001b[1;32m   1205\u001b[0m \u001b[38;5;28;01mwith\u001b[39;00m interpreter_state[\u001b[38;5;124m\"\u001b[39m\u001b[38;5;124mstack\u001b[39m\u001b[38;5;124m\"\u001b[39m]\u001b[38;5;241m.\u001b[39mset_cur_instruction(inst):\n\u001b[0;32m-> 1206\u001b[0m     \u001b[38;5;28;01mreturn\u001b[39;00m \u001b[43mhandler\u001b[49m\u001b[43m(\u001b[49m\u001b[43minst\u001b[49m\u001b[43m,\u001b[49m\u001b[43m \u001b[49m\u001b[38;5;241;43m*\u001b[39;49m\u001b[38;5;241;43m*\u001b[39;49m\u001b[43minterpreter_state\u001b[49m\u001b[43m)\u001b[49m\n",
      "File \u001b[0;32m~/projects/torch_template/.venv/lib/python3.11/site-packages/thunder/core/interpreter.py:3467\u001b[0m, in \u001b[0;36m_call_handler\u001b[0;34m(inst, stack, frame, **kwargs)\u001b[0m\n\u001b[1;32m   3465\u001b[0m     func \u001b[38;5;241m=\u001b[39m func_or_self\n\u001b[0;32m-> 3467\u001b[0m res \u001b[38;5;241m=\u001b[39m \u001b[43m_interpret_call\u001b[49m\u001b[43m(\u001b[49m\u001b[43mfunc\u001b[49m\u001b[43m,\u001b[49m\u001b[43m \u001b[49m\u001b[38;5;241;43m*\u001b[39;49m\u001b[43margs\u001b[49m\u001b[43m,\u001b[49m\u001b[43m \u001b[49m\u001b[38;5;241;43m*\u001b[39;49m\u001b[38;5;241;43m*\u001b[39;49m\u001b[43mkwargs\u001b[49m\u001b[43m)\u001b[49m\n\u001b[1;32m   3468\u001b[0m ctx: InterpreterCompileCtx \u001b[38;5;241m=\u001b[39m get_interpretercompilectx()\n",
      "File \u001b[0;32m~/projects/torch_template/.venv/lib/python3.11/site-packages/thunder/core/interpreter.py:5885\u001b[0m, in \u001b[0;36m_interpret_call\u001b[0;34m(fn, *args, **kwargs)\u001b[0m\n\u001b[1;32m   5884\u001b[0m runtimectx\u001b[38;5;241m.\u001b[39mrecord_interpreter_call(fn)  \u001b[38;5;66;03m# type: ignore\u001b[39;00m\n\u001b[0;32m-> 5885\u001b[0m rval \u001b[38;5;241m=\u001b[39m \u001b[43m_call_dispatch\u001b[49m\u001b[43m(\u001b[49m\u001b[43mcompilectx\u001b[49m\u001b[43m,\u001b[49m\u001b[43m \u001b[49m\u001b[43mruntimectx\u001b[49m\u001b[43m,\u001b[49m\u001b[43m \u001b[49m\u001b[43mfn\u001b[49m\u001b[43m,\u001b[49m\u001b[43m \u001b[49m\u001b[38;5;241;43m*\u001b[39;49m\u001b[43margs\u001b[49m\u001b[43m,\u001b[49m\u001b[43m \u001b[49m\u001b[38;5;241;43m*\u001b[39;49m\u001b[38;5;241;43m*\u001b[39;49m\u001b[43mkwargs\u001b[49m\u001b[43m)\u001b[49m  \u001b[38;5;66;03m# type: ignore\u001b[39;00m\n\u001b[1;32m   5886\u001b[0m \u001b[38;5;28;01mif\u001b[39;00m compilectx\u001b[38;5;241m.\u001b[39m_with_provenance_tracking:\n",
      "File \u001b[0;32m~/projects/torch_template/.venv/lib/python3.11/site-packages/thunder/core/interpreter.py:6114\u001b[0m, in \u001b[0;36m_call_dispatch\u001b[0;34m(compilectx, runtimectx, fn, *args, **kwargs)\u001b[0m\n\u001b[1;32m   6113\u001b[0m \u001b[38;5;28;01massert\u001b[39;00m \u001b[38;5;28misinstance\u001b[39m(fn, FunctionType), \u001b[38;5;124mf\u001b[39m\u001b[38;5;124m\"\u001b[39m\u001b[38;5;132;01m{\u001b[39;00mfn\u001b[38;5;132;01m=}\u001b[39;00m\u001b[38;5;124m had an unexpected type (\u001b[39m\u001b[38;5;132;01m{\u001b[39;00m\u001b[38;5;28mtype\u001b[39m(fn)\u001b[38;5;132;01m}\u001b[39;00m\u001b[38;5;124m\"\u001b[39m\n\u001b[0;32m-> 6114\u001b[0m \u001b[38;5;28;01mreturn\u001b[39;00m \u001b[43m_setup_frame_and_run_python_function\u001b[49m\u001b[43m(\u001b[49m\u001b[43mcompilectx\u001b[49m\u001b[43m,\u001b[49m\u001b[43m \u001b[49m\u001b[43mruntimectx\u001b[49m\u001b[43m,\u001b[49m\u001b[43m \u001b[49m\u001b[43mwrapped_fn\u001b[49m\u001b[43m,\u001b[49m\u001b[43m \u001b[49m\u001b[38;5;241;43m*\u001b[39;49m\u001b[43margs\u001b[49m\u001b[43m,\u001b[49m\u001b[43m \u001b[49m\u001b[38;5;241;43m*\u001b[39;49m\u001b[38;5;241;43m*\u001b[39;49m\u001b[43mkwargs\u001b[49m\u001b[43m)\u001b[49m\n",
      "File \u001b[0;32m~/projects/torch_template/.venv/lib/python3.11/site-packages/thunder/core/interpreter.py:6243\u001b[0m, in \u001b[0;36m_setup_frame_and_run_python_function\u001b[0;34m(compilectx, runtimectx, wrapped_fn, *args, **kwargs)\u001b[0m\n\u001b[1;32m   6242\u001b[0m     tb \u001b[38;5;241m=\u001b[39m TracebackType(e\u001b[38;5;241m.\u001b[39m__traceback__, python_frame, python_frame\u001b[38;5;241m.\u001b[39mf_lasti, python_frame\u001b[38;5;241m.\u001b[39mf_lineno)\n\u001b[0;32m-> 6243\u001b[0m     \u001b[38;5;28;01mraise\u001b[39;00m e\u001b[38;5;241m.\u001b[39mwith_traceback(tb)\n\u001b[1;32m   6244\u001b[0m \u001b[38;5;28;01mreturn\u001b[39;00m res\n",
      "File \u001b[0;32m~/projects/torch_template/.venv/lib/python3.11/site-packages/thunder/core/interpreter.py:1966\u001b[0m, in \u001b[0;36mSequenceIter.__next__\u001b[0;34m()\u001b[0m\n\u001b[1;32m   1965\u001b[0m \u001b[38;5;28;01mif\u001b[39;00m (\u001b[38;5;129;01mnot\u001b[39;00m \u001b[38;5;28mself\u001b[39m\u001b[38;5;241m.\u001b[39mis_reversed \u001b[38;5;129;01mand\u001b[39;00m (\u001b[38;5;28mself\u001b[39m\u001b[38;5;241m.\u001b[39mnext_pos \u001b[38;5;241m>\u001b[39m\u001b[38;5;241m=\u001b[39m \u001b[38;5;28mlen\u001b[39m(\u001b[38;5;28mself\u001b[39m\u001b[38;5;241m.\u001b[39ms))) \u001b[38;5;129;01mor\u001b[39;00m \u001b[38;5;28mself\u001b[39m\u001b[38;5;241m.\u001b[39mis_reversed \u001b[38;5;129;01mand\u001b[39;00m (\u001b[38;5;28mself\u001b[39m\u001b[38;5;241m.\u001b[39mnext_pos \u001b[38;5;241m<\u001b[39m \u001b[38;5;241m0\u001b[39m):\n\u001b[0;32m-> 1966\u001b[0m     \u001b[38;5;28;01mraise\u001b[39;00m \u001b[38;5;167;01mStopIteration\u001b[39;00m()\n\u001b[1;32m   1967\u001b[0m res \u001b[38;5;241m=\u001b[39m \u001b[38;5;28mself\u001b[39m\u001b[38;5;241m.\u001b[39ms[\u001b[38;5;28mself\u001b[39m\u001b[38;5;241m.\u001b[39mnext_pos]\n",
      "File \u001b[0;32m~/projects/torch_template/.venv/lib/python3.11/site-packages/thunder/core/interpreter.py:6238\u001b[0m, in \u001b[0;36m_setup_frame_and_run_python_function\u001b[0;34m(compilectx, runtimectx, wrapped_fn, *args, **kwargs)\u001b[0m\n\u001b[1;32m   6237\u001b[0m \u001b[38;5;28;01mtry\u001b[39;00m:\n\u001b[0;32m-> 6238\u001b[0m     res, status \u001b[38;5;241m=\u001b[39m \u001b[43m_run_frame\u001b[49m\u001b[43m(\u001b[49m\u001b[43mframe\u001b[49m\u001b[43m,\u001b[49m\u001b[43m \u001b[49m\u001b[43mcompilectx\u001b[49m\u001b[43m,\u001b[49m\u001b[43m \u001b[49m\u001b[43mruntimectx\u001b[49m\u001b[43m)\u001b[49m\n\u001b[1;32m   6239\u001b[0m \u001b[38;5;28;01mexcept\u001b[39;00m \u001b[38;5;167;01mException\u001b[39;00m \u001b[38;5;28;01mas\u001b[39;00m e:\n\u001b[1;32m   6240\u001b[0m     \u001b[38;5;66;03m# We need to cheat a bit to get a Python frame here...\u001b[39;00m\n",
      "File \u001b[0;32m~/projects/torch_template/.venv/lib/python3.11/site-packages/thunder/core/interpreter.py:6301\u001b[0m, in \u001b[0;36m_run_frame\u001b[0;34m(frame, compilectx, runtimectx, send_value)\u001b[0m\n\u001b[1;32m   6300\u001b[0m \u001b[38;5;28;01mif\u001b[39;00m sys\u001b[38;5;241m.\u001b[39mversion_info \u001b[38;5;241m>\u001b[39m\u001b[38;5;241m=\u001b[39m (\u001b[38;5;241m3\u001b[39m, \u001b[38;5;241m11\u001b[39m):\n\u001b[0;32m-> 6301\u001b[0m     exception_table \u001b[38;5;241m=\u001b[39m \u001b[43mdis\u001b[49m\u001b[38;5;241;43m.\u001b[39;49m\u001b[43m_parse_exception_table\u001b[49m(frame\u001b[38;5;241m.\u001b[39mcode)  \u001b[38;5;66;03m# type: ignore (_parse_exception_table is undocumented)\u001b[39;00m\n\u001b[1;32m   6303\u001b[0m     found \u001b[38;5;241m=\u001b[39m \u001b[38;5;28;01mFalse\u001b[39;00m\n",
      "\u001b[0;31mAttributeError\u001b[0m: module 'dis' has no attribute '_parse_exception_table'",
      "\nThe above exception was the direct cause of the following exception:\n",
      "\u001b[0;31mInterpreterError\u001b[0m                          Traceback (most recent call last)",
      "Cell \u001b[0;32mIn[27], line 1\u001b[0m\n\u001b[0;32m----> 1\u001b[0m preds \u001b[38;5;241m=\u001b[39m \u001b[43mjit_trained_model\u001b[49m\u001b[43m(\u001b[49m\u001b[43msample\u001b[49m\u001b[43m[\u001b[49m\u001b[38;5;241;43m0\u001b[39;49m\u001b[43m]\u001b[49m\u001b[43m)\u001b[49m\n",
      "File \u001b[0;32m~/projects/torch_template/.venv/lib/python3.11/site-packages/torch/nn/modules/module.py:1511\u001b[0m, in \u001b[0;36mModule._wrapped_call_impl\u001b[0;34m(self, *args, **kwargs)\u001b[0m\n\u001b[1;32m   1509\u001b[0m     \u001b[38;5;28;01mreturn\u001b[39;00m \u001b[38;5;28mself\u001b[39m\u001b[38;5;241m.\u001b[39m_compiled_call_impl(\u001b[38;5;241m*\u001b[39margs, \u001b[38;5;241m*\u001b[39m\u001b[38;5;241m*\u001b[39mkwargs)  \u001b[38;5;66;03m# type: ignore[misc]\u001b[39;00m\n\u001b[1;32m   1510\u001b[0m \u001b[38;5;28;01melse\u001b[39;00m:\n\u001b[0;32m-> 1511\u001b[0m     \u001b[38;5;28;01mreturn\u001b[39;00m \u001b[38;5;28;43mself\u001b[39;49m\u001b[38;5;241;43m.\u001b[39;49m\u001b[43m_call_impl\u001b[49m\u001b[43m(\u001b[49m\u001b[38;5;241;43m*\u001b[39;49m\u001b[43margs\u001b[49m\u001b[43m,\u001b[49m\u001b[43m \u001b[49m\u001b[38;5;241;43m*\u001b[39;49m\u001b[38;5;241;43m*\u001b[39;49m\u001b[43mkwargs\u001b[49m\u001b[43m)\u001b[49m\n",
      "File \u001b[0;32m~/projects/torch_template/.venv/lib/python3.11/site-packages/torch/nn/modules/module.py:1520\u001b[0m, in \u001b[0;36mModule._call_impl\u001b[0;34m(self, *args, **kwargs)\u001b[0m\n\u001b[1;32m   1515\u001b[0m \u001b[38;5;66;03m# If we don't have any hooks, we want to skip the rest of the logic in\u001b[39;00m\n\u001b[1;32m   1516\u001b[0m \u001b[38;5;66;03m# this function, and just call forward.\u001b[39;00m\n\u001b[1;32m   1517\u001b[0m \u001b[38;5;28;01mif\u001b[39;00m \u001b[38;5;129;01mnot\u001b[39;00m (\u001b[38;5;28mself\u001b[39m\u001b[38;5;241m.\u001b[39m_backward_hooks \u001b[38;5;129;01mor\u001b[39;00m \u001b[38;5;28mself\u001b[39m\u001b[38;5;241m.\u001b[39m_backward_pre_hooks \u001b[38;5;129;01mor\u001b[39;00m \u001b[38;5;28mself\u001b[39m\u001b[38;5;241m.\u001b[39m_forward_hooks \u001b[38;5;129;01mor\u001b[39;00m \u001b[38;5;28mself\u001b[39m\u001b[38;5;241m.\u001b[39m_forward_pre_hooks\n\u001b[1;32m   1518\u001b[0m         \u001b[38;5;129;01mor\u001b[39;00m _global_backward_pre_hooks \u001b[38;5;129;01mor\u001b[39;00m _global_backward_hooks\n\u001b[1;32m   1519\u001b[0m         \u001b[38;5;129;01mor\u001b[39;00m _global_forward_hooks \u001b[38;5;129;01mor\u001b[39;00m _global_forward_pre_hooks):\n\u001b[0;32m-> 1520\u001b[0m     \u001b[38;5;28;01mreturn\u001b[39;00m \u001b[43mforward_call\u001b[49m\u001b[43m(\u001b[49m\u001b[38;5;241;43m*\u001b[39;49m\u001b[43margs\u001b[49m\u001b[43m,\u001b[49m\u001b[43m \u001b[49m\u001b[38;5;241;43m*\u001b[39;49m\u001b[38;5;241;43m*\u001b[39;49m\u001b[43mkwargs\u001b[49m\u001b[43m)\u001b[49m\n\u001b[1;32m   1522\u001b[0m \u001b[38;5;28;01mtry\u001b[39;00m:\n\u001b[1;32m   1523\u001b[0m     result \u001b[38;5;241m=\u001b[39m \u001b[38;5;28;01mNone\u001b[39;00m\n",
      "File \u001b[0;32m~/projects/torch_template/.venv/lib/python3.11/site-packages/thunder/__init__.py:194\u001b[0m, in \u001b[0;36mThunderModule.forward\u001b[0;34m(self, *args, **kwargs)\u001b[0m\n\u001b[1;32m    193\u001b[0m \u001b[38;5;28;01mdef\u001b[39;00m \u001b[38;5;21mforward\u001b[39m(\u001b[38;5;28mself\u001b[39m, \u001b[38;5;241m*\u001b[39margs, \u001b[38;5;241m*\u001b[39m\u001b[38;5;241m*\u001b[39mkwargs):\n\u001b[0;32m--> 194\u001b[0m     res \u001b[38;5;241m=\u001b[39m \u001b[38;5;28;43mself\u001b[39;49m\u001b[38;5;241;43m.\u001b[39;49m\u001b[43m_forward_fn\u001b[49m\u001b[43m(\u001b[49m\u001b[38;5;241;43m*\u001b[39;49m\u001b[43margs\u001b[49m\u001b[43m,\u001b[49m\u001b[43m \u001b[49m\u001b[38;5;241;43m*\u001b[39;49m\u001b[38;5;241;43m*\u001b[39;49m\u001b[43mkwargs\u001b[49m\u001b[43m)\u001b[49m\n\u001b[1;32m    195\u001b[0m     \u001b[38;5;28;01mreturn\u001b[39;00m res\n",
      "File \u001b[0;32m~/projects/torch_template/.venv/lib/python3.11/site-packages/thunder/__init__.py:611\u001b[0m, in \u001b[0;36mjit.<locals>.fn_\u001b[0;34m(*args, **kwargs)\u001b[0m\n\u001b[1;32m    608\u001b[0m cs\u001b[38;5;241m.\u001b[39mlast_trace_host_start \u001b[38;5;241m=\u001b[39m time\u001b[38;5;241m.\u001b[39mtime_ns()\n\u001b[1;32m    609\u001b[0m cs\u001b[38;5;241m.\u001b[39mcalls \u001b[38;5;241m+\u001b[39m\u001b[38;5;241m=\u001b[39m \u001b[38;5;241m1\u001b[39m\n\u001b[0;32m--> 611\u001b[0m cache_entry, inps, pro_to_epi \u001b[38;5;241m=\u001b[39m \u001b[43mget_computation_and_inputs\u001b[49m\u001b[43m(\u001b[49m\u001b[38;5;241;43m*\u001b[39;49m\u001b[43margs\u001b[49m\u001b[43m,\u001b[49m\u001b[43m \u001b[49m\u001b[38;5;241;43m*\u001b[39;49m\u001b[38;5;241;43m*\u001b[39;49m\u001b[43mkwargs\u001b[49m\u001b[43m)\u001b[49m\n\u001b[1;32m    612\u001b[0m cs\u001b[38;5;241m.\u001b[39mlast_trace_host_execution_start \u001b[38;5;241m=\u001b[39m time\u001b[38;5;241m.\u001b[39mtime_ns()\n\u001b[1;32m    614\u001b[0m result \u001b[38;5;241m=\u001b[39m cache_entry\u001b[38;5;241m.\u001b[39mcomputation_fn(\u001b[38;5;241m*\u001b[39minps)\n",
      "File \u001b[0;32m~/projects/torch_template/.venv/lib/python3.11/site-packages/thunder/__init__.py:262\u001b[0m, in \u001b[0;36m_with_cache_info_ctx.<locals>.cache_info_wrapper\u001b[0;34m(*args, **kwargs)\u001b[0m\n\u001b[1;32m    260\u001b[0m tok \u001b[38;5;241m=\u001b[39m _cache_info_ctx\u001b[38;5;241m.\u001b[39mset({})\n\u001b[1;32m    261\u001b[0m \u001b[38;5;28;01mtry\u001b[39;00m:\n\u001b[0;32m--> 262\u001b[0m     res \u001b[38;5;241m=\u001b[39m \u001b[43mfn\u001b[49m\u001b[43m(\u001b[49m\u001b[38;5;241;43m*\u001b[39;49m\u001b[43margs\u001b[49m\u001b[43m,\u001b[49m\u001b[43m \u001b[49m\u001b[38;5;241;43m*\u001b[39;49m\u001b[38;5;241;43m*\u001b[39;49m\u001b[43mkwargs\u001b[49m\u001b[43m)\u001b[49m\n\u001b[1;32m    263\u001b[0m \u001b[38;5;28;01mfinally\u001b[39;00m:\n\u001b[1;32m    264\u001b[0m     _cache_info_ctx\u001b[38;5;241m.\u001b[39mreset(tok)\n",
      "File \u001b[0;32m~/projects/torch_template/.venv/lib/python3.11/site-packages/thunder/__init__.py:498\u001b[0m, in \u001b[0;36mjit.<locals>.get_computation_and_inputs\u001b[0;34m(*args, **kwargs)\u001b[0m\n\u001b[1;32m    496\u001b[0m     prologue_trc: TraceCtx\n\u001b[1;32m    497\u001b[0m     computation_trc: TraceCtx\n\u001b[0;32m--> 498\u001b[0m     prologue_trc, computation_trc, \u001b[38;5;241m*\u001b[39mmaybe_epilogue \u001b[38;5;241m=\u001b[39m \u001b[43minterpreter\u001b[49m\u001b[43m(\u001b[49m\n\u001b[1;32m    499\u001b[0m \u001b[43m        \u001b[49m\u001b[43mfn\u001b[49m\u001b[43m,\u001b[49m\u001b[43m \u001b[49m\u001b[43margs\u001b[49m\u001b[43m,\u001b[49m\u001b[43m \u001b[49m\u001b[43mkwargs\u001b[49m\u001b[43m,\u001b[49m\u001b[43m \u001b[49m\u001b[43msharp_edges\u001b[49m\u001b[38;5;241;43m=\u001b[39;49m\u001b[43mcd\u001b[49m\u001b[38;5;241;43m.\u001b[39;49m\u001b[43msharp_edges\u001b[49m\n\u001b[1;32m    500\u001b[0m \u001b[43m    \u001b[49m\u001b[43m)\u001b[49m\n\u001b[1;32m    502\u001b[0m \u001b[38;5;28;01mif\u001b[39;00m maybe_epilogue:\n\u001b[1;32m    503\u001b[0m     epilogue_traces \u001b[38;5;241m=\u001b[39m maybe_epilogue\n",
      "File \u001b[0;32m~/projects/torch_template/.venv/lib/python3.11/site-packages/thunder/__init__.py:175\u001b[0m, in \u001b[0;36m_general_frontend\u001b[0;34m(fn, args, kwargs, sharp_edges)\u001b[0m\n\u001b[1;32m    174\u001b[0m \u001b[38;5;28;01mdef\u001b[39;00m \u001b[38;5;21m_general_frontend\u001b[39m(fn: Callable, args, kwargs, \u001b[38;5;241m/\u001b[39m, \u001b[38;5;241m*\u001b[39m, sharp_edges: SHARP_EDGES_OPTIONS) \u001b[38;5;241m-\u001b[39m\u001b[38;5;241m>\u001b[39m \u001b[38;5;28mtuple\u001b[39m[TraceCtx, TraceCtx]:\n\u001b[0;32m--> 175\u001b[0m     \u001b[38;5;28;01mreturn\u001b[39;00m \u001b[43mthunder_general_jit\u001b[49m\u001b[43m(\u001b[49m\u001b[43mfn\u001b[49m\u001b[43m,\u001b[49m\u001b[43m \u001b[49m\u001b[43margs\u001b[49m\u001b[43m,\u001b[49m\u001b[43m \u001b[49m\u001b[43mkwargs\u001b[49m\u001b[43m,\u001b[49m\u001b[43m \u001b[49m\u001b[43msharp_edges\u001b[49m\u001b[38;5;241;43m=\u001b[39;49m\u001b[43msharp_edges\u001b[49m\u001b[43m)\u001b[49m\n",
      "File \u001b[0;32m~/projects/torch_template/.venv/lib/python3.11/site-packages/thunder/core/jit_ext.py:1386\u001b[0m, in \u001b[0;36mthunder_general_jit\u001b[0;34m(fn, args, kwargs, sharp_edges)\u001b[0m\n\u001b[1;32m   1384\u001b[0m \u001b[38;5;28;01mwith\u001b[39;00m general_jit_ctx(ctx):\n\u001b[1;32m   1385\u001b[0m     \u001b[38;5;28;01mwith\u001b[39;00m tracectx(computation_trace):\n\u001b[0;32m-> 1386\u001b[0m         result \u001b[38;5;241m=\u001b[39m \u001b[43mjfn\u001b[49m\u001b[43m(\u001b[49m\u001b[38;5;241;43m*\u001b[39;49m\u001b[43margs\u001b[49m\u001b[43m,\u001b[49m\u001b[43m \u001b[49m\u001b[38;5;241;43m*\u001b[39;49m\u001b[38;5;241;43m*\u001b[39;49m\u001b[43mkwargs\u001b[49m\u001b[43m)\u001b[49m\n\u001b[1;32m   1387\u001b[0m         prims\u001b[38;5;241m.\u001b[39mpython_return(result)\n\u001b[1;32m   1388\u001b[0m         process_recorded_modifications(ctx, epilogue_trace)\n",
      "File \u001b[0;32m~/projects/torch_template/.venv/lib/python3.11/site-packages/thunder/core/interpreter.py:6566\u001b[0m, in \u001b[0;36minterpret.<locals>.fn_\u001b[0;34m(*args, **kwargs)\u001b[0m\n\u001b[1;32m   6562\u001b[0m     traceback_str \u001b[38;5;241m=\u001b[39m os\u001b[38;5;241m.\u001b[39mlinesep\u001b[38;5;241m.\u001b[39mjoin(f\u001b[38;5;241m.\u001b[39mformat_with_source() \u001b[38;5;28;01mfor\u001b[39;00m f \u001b[38;5;129;01min\u001b[39;00m runtimectx\u001b[38;5;241m.\u001b[39mframe_stack)\n\u001b[1;32m   6563\u001b[0m     msg \u001b[38;5;241m=\u001b[39m (\n\u001b[1;32m   6564\u001b[0m         \u001b[38;5;124mf\u001b[39m\u001b[38;5;124m\"\u001b[39m\u001b[38;5;124mEncountered exception \u001b[39m\u001b[38;5;132;01m{\u001b[39;00m\u001b[38;5;28mtype\u001b[39m(e)\u001b[38;5;241m.\u001b[39m\u001b[38;5;18m__name__\u001b[39m\u001b[38;5;132;01m}\u001b[39;00m\u001b[38;5;124m: \u001b[39m\u001b[38;5;132;01m{\u001b[39;00me\u001b[38;5;132;01m}\u001b[39;00m\u001b[38;5;124m while tracing \u001b[39m\u001b[38;5;132;01m{\u001b[39;00mfn\u001b[38;5;132;01m}\u001b[39;00m\u001b[38;5;124m:\u001b[39m\u001b[38;5;132;01m{\u001b[39;00mos\u001b[38;5;241m.\u001b[39mlinesep\u001b[38;5;132;01m}\u001b[39;00m\u001b[38;5;124m\"\u001b[39m \u001b[38;5;124mf\u001b[39m\u001b[38;5;124m\"\u001b[39m\u001b[38;5;132;01m{\u001b[39;00mtraceback_str\u001b[38;5;132;01m}\u001b[39;00m\u001b[38;5;124m\"\u001b[39m\n\u001b[1;32m   6565\u001b[0m     )\n\u001b[0;32m-> 6566\u001b[0m     \u001b[38;5;28;01mraise\u001b[39;00m InterpreterError(msg) \u001b[38;5;28;01mfrom\u001b[39;00m \u001b[38;5;21;01me\u001b[39;00m\n\u001b[1;32m   6567\u001b[0m \u001b[38;5;28;01mfinally\u001b[39;00m:\n\u001b[1;32m   6568\u001b[0m     \u001b[38;5;66;03m# NOTE: Wrapped functions are valid to assign new attributes to.\u001b[39;00m\n\u001b[1;32m   6569\u001b[0m     fn_\u001b[38;5;241m.\u001b[39m_last_interpreted_instructions \u001b[38;5;241m=\u001b[39m runtimectx\u001b[38;5;241m.\u001b[39minterpreted_instructions  \u001b[38;5;66;03m# type: ignore\u001b[39;00m\n",
      "\u001b[0;31mInterpreterError\u001b[0m: Encountered exception AttributeError: module 'dis' has no attribute '_parse_exception_table' while tracing SequentialLitModel(\n  (layers): Sequential(\n    (0): EncoderLayer(\n      (dropout): Dropout(p=0.3, inplace=False)\n      (embeddings): EmbeddingLayer(\n        (embeddings): ModuleList(\n          (0-1): 2 x Embedding(18, 32)\n          (2-3): 2 x Embedding(17, 32)\n          (4): Embedding(16, 32)\n          (5): Embedding(20, 32)\n          (6): Embedding(7, 32)\n          (7): Embedding(6, 32)\n          (8): Embedding(4, 32)\n          (9): Embedding(14, 32)\n          (10): Embedding(4, 32)\n          (11-12): 2 x Embedding(7, 32)\n          (13): Embedding(6, 32)\n          (14): Embedding(4, 32)\n          (15-16): 2 x Embedding(2, 32)\n          (17): Embedding(4, 32)\n          (18): Embedding(25, 32)\n          (19): Embedding(5, 32)\n          (20): Embedding(26, 32)\n          (21): Embedding(5, 32)\n          (22): Embedding(27, 32)\n          (23): Embedding(7, 32)\n          (24): Embedding(19, 32)\n          (25): Embedding(9, 32)\n          (26): Embedding(5, 32)\n          (27): Embedding(15, 32)\n          (28-30): 3 x Embedding(20, 32)\n        )\n      )\n      (out_linear_block): Linear(in_features=992, out_features=32, bias=True)\n    )\n    (1): GRUSeqToSeq(\n      (gru): GRU(32, 32, batch_first=True)\n    )\n    (2): ConvPooling(\n      (pooling_layer): AllPoolings()\n      (conv_layer): Conv1d(5, 1, kernel_size=(5,), stride=(1,), padding=same, bias=False)\n    )\n    (3): MultiOutputLinearBlock(\n      (heads): ModuleList(\n        (0): LinearBlock(\n          (dropout): Dropout(p=0.0, inplace=False)\n          (linear_block): Sequential(\n            (0): Sequential(\n              (0): Linear(in_features=32, out_features=16, bias=True)\n              (1): GELU(approximate='none')\n              (2): LayerNorm((16,), eps=1e-05, elementwise_affine=True)\n            )\n            (1): Sequential(\n              (0): Linear(in_features=16, out_features=8, bias=True)\n              (1): GELU(approximate='none')\n              (2): LayerNorm((8,), eps=1e-05, elementwise_affine=True)\n            )\n          )\n          (out_block): Linear(in_features=8, out_features=1, bias=True)\n          (cls_layers): Sequential(\n            (0): Dropout(p=0.0, inplace=False)\n            (1): Sequential(\n              (0): Sequential(\n                (0): Linear(in_features=32, out_features=16, bias=True)\n                (1): GELU(approximate='none')\n                (2): LayerNorm((16,), eps=1e-05, elementwise_affine=True)\n              )\n              (1): Sequential(\n                (0): Linear(in_features=16, out_features=8, bias=True)\n                (1): GELU(approximate='none')\n                (2): LayerNorm((8,), eps=1e-05, elementwise_affine=True)\n              )\n            )\n            (2): Linear(in_features=8, out_features=1, bias=True)\n            (3): GELU(approximate='none')\n          )\n        )\n      )\n    )\n  )\n):\n"
     ]
    }
   ],
   "source": [
    "preds = jit_trained_model(sample[0])"
   ]
  },
  {
   "cell_type": "code",
   "execution_count": null,
   "metadata": {},
   "outputs": [],
   "source": []
  },
  {
   "cell_type": "code",
   "execution_count": 28,
   "metadata": {},
   "outputs": [
    {
     "ename": "RuntimeError",
     "evalue": "Only tuples, lists and Variables are supported as JIT inputs/outputs. Dictionaries and strings are also accepted, but their usage is not recommended. Here, received an input of unsupported type: ModelInput",
     "output_type": "error",
     "traceback": [
      "\u001b[0;31m---------------------------------------------------------------------------\u001b[0m",
      "\u001b[0;31mRuntimeError\u001b[0m                              Traceback (most recent call last)",
      "Cell \u001b[0;32mIn[28], line 1\u001b[0m\n\u001b[0;32m----> 1\u001b[0m \u001b[43mtrained_model\u001b[49m\u001b[38;5;241;43m.\u001b[39;49m\u001b[43mnet\u001b[49m\u001b[38;5;241;43m.\u001b[39;49m\u001b[43mto_onnx\u001b[49m\u001b[43m(\u001b[49m\u001b[38;5;124;43m\"\u001b[39;49m\u001b[38;5;124;43mcredits_history_lit_model.onnx\u001b[39;49m\u001b[38;5;124;43m\"\u001b[39;49m\u001b[43m,\u001b[49m\u001b[43m \u001b[49m\u001b[43msample\u001b[49m\u001b[43m[\u001b[49m\u001b[38;5;241;43m0\u001b[39;49m\u001b[43m]\u001b[49m\u001b[43m,\u001b[49m\u001b[43m \u001b[49m\u001b[43mexport_params\u001b[49m\u001b[38;5;241;43m=\u001b[39;49m\u001b[38;5;28;43;01mTrue\u001b[39;49;00m\u001b[43m)\u001b[49m\n",
      "File \u001b[0;32m~/projects/torch_template/.venv/lib/python3.11/site-packages/torch/utils/_contextlib.py:115\u001b[0m, in \u001b[0;36mcontext_decorator.<locals>.decorate_context\u001b[0;34m(*args, **kwargs)\u001b[0m\n\u001b[1;32m    112\u001b[0m \u001b[38;5;129m@functools\u001b[39m\u001b[38;5;241m.\u001b[39mwraps(func)\n\u001b[1;32m    113\u001b[0m \u001b[38;5;28;01mdef\u001b[39;00m \u001b[38;5;21mdecorate_context\u001b[39m(\u001b[38;5;241m*\u001b[39margs, \u001b[38;5;241m*\u001b[39m\u001b[38;5;241m*\u001b[39mkwargs):\n\u001b[1;32m    114\u001b[0m     \u001b[38;5;28;01mwith\u001b[39;00m ctx_factory():\n\u001b[0;32m--> 115\u001b[0m         \u001b[38;5;28;01mreturn\u001b[39;00m \u001b[43mfunc\u001b[49m\u001b[43m(\u001b[49m\u001b[38;5;241;43m*\u001b[39;49m\u001b[43margs\u001b[49m\u001b[43m,\u001b[49m\u001b[43m \u001b[49m\u001b[38;5;241;43m*\u001b[39;49m\u001b[38;5;241;43m*\u001b[39;49m\u001b[43mkwargs\u001b[49m\u001b[43m)\u001b[49m\n",
      "File \u001b[0;32m~/projects/torch_template/.venv/lib/python3.11/site-packages/lightning/pytorch/core/module.py:1405\u001b[0m, in \u001b[0;36mLightningModule.to_onnx\u001b[0;34m(self, file_path, input_sample, **kwargs)\u001b[0m\n\u001b[1;32m   1402\u001b[0m input_sample \u001b[38;5;241m=\u001b[39m \u001b[38;5;28mself\u001b[39m\u001b[38;5;241m.\u001b[39m_on_before_batch_transfer(input_sample)\n\u001b[1;32m   1403\u001b[0m input_sample \u001b[38;5;241m=\u001b[39m \u001b[38;5;28mself\u001b[39m\u001b[38;5;241m.\u001b[39m_apply_batch_transfer_handler(input_sample)\n\u001b[0;32m-> 1405\u001b[0m \u001b[43mtorch\u001b[49m\u001b[38;5;241;43m.\u001b[39;49m\u001b[43monnx\u001b[49m\u001b[38;5;241;43m.\u001b[39;49m\u001b[43mexport\u001b[49m\u001b[43m(\u001b[49m\u001b[38;5;28;43mself\u001b[39;49m\u001b[43m,\u001b[49m\u001b[43m \u001b[49m\u001b[43minput_sample\u001b[49m\u001b[43m,\u001b[49m\u001b[43m \u001b[49m\u001b[43mfile_path\u001b[49m\u001b[43m,\u001b[49m\u001b[43m \u001b[49m\u001b[38;5;241;43m*\u001b[39;49m\u001b[38;5;241;43m*\u001b[39;49m\u001b[43mkwargs\u001b[49m\u001b[43m)\u001b[49m\n\u001b[1;32m   1406\u001b[0m \u001b[38;5;28mself\u001b[39m\u001b[38;5;241m.\u001b[39mtrain(mode)\n",
      "File \u001b[0;32m~/projects/torch_template/.venv/lib/python3.11/site-packages/torch/onnx/utils.py:516\u001b[0m, in \u001b[0;36mexport\u001b[0;34m(model, args, f, export_params, verbose, training, input_names, output_names, operator_export_type, opset_version, do_constant_folding, dynamic_axes, keep_initializers_as_inputs, custom_opsets, export_modules_as_functions, autograd_inlining)\u001b[0m\n\u001b[1;32m    189\u001b[0m \u001b[38;5;129m@_beartype\u001b[39m\u001b[38;5;241m.\u001b[39mbeartype\n\u001b[1;32m    190\u001b[0m \u001b[38;5;28;01mdef\u001b[39;00m \u001b[38;5;21mexport\u001b[39m(\n\u001b[1;32m    191\u001b[0m     model: Union[torch\u001b[38;5;241m.\u001b[39mnn\u001b[38;5;241m.\u001b[39mModule, torch\u001b[38;5;241m.\u001b[39mjit\u001b[38;5;241m.\u001b[39mScriptModule, torch\u001b[38;5;241m.\u001b[39mjit\u001b[38;5;241m.\u001b[39mScriptFunction],\n\u001b[0;32m   (...)\u001b[0m\n\u001b[1;32m    208\u001b[0m     autograd_inlining: Optional[\u001b[38;5;28mbool\u001b[39m] \u001b[38;5;241m=\u001b[39m \u001b[38;5;28;01mTrue\u001b[39;00m,\n\u001b[1;32m    209\u001b[0m ) \u001b[38;5;241m-\u001b[39m\u001b[38;5;241m>\u001b[39m \u001b[38;5;28;01mNone\u001b[39;00m:\n\u001b[1;32m    210\u001b[0m \u001b[38;5;250m    \u001b[39m\u001b[38;5;124mr\u001b[39m\u001b[38;5;124;03m\"\"\"Exports a model into ONNX format.\u001b[39;00m\n\u001b[1;32m    211\u001b[0m \n\u001b[1;32m    212\u001b[0m \u001b[38;5;124;03m    If ``model`` is not a :class:`torch.jit.ScriptModule` nor a\u001b[39;00m\n\u001b[0;32m   (...)\u001b[0m\n\u001b[1;32m    513\u001b[0m \u001b[38;5;124;03m            All errors are subclasses of :class:`errors.OnnxExporterError`.\u001b[39;00m\n\u001b[1;32m    514\u001b[0m \u001b[38;5;124;03m    \"\"\"\u001b[39;00m\n\u001b[0;32m--> 516\u001b[0m     \u001b[43m_export\u001b[49m\u001b[43m(\u001b[49m\n\u001b[1;32m    517\u001b[0m \u001b[43m        \u001b[49m\u001b[43mmodel\u001b[49m\u001b[43m,\u001b[49m\n\u001b[1;32m    518\u001b[0m \u001b[43m        \u001b[49m\u001b[43margs\u001b[49m\u001b[43m,\u001b[49m\n\u001b[1;32m    519\u001b[0m \u001b[43m        \u001b[49m\u001b[43mf\u001b[49m\u001b[43m,\u001b[49m\n\u001b[1;32m    520\u001b[0m \u001b[43m        \u001b[49m\u001b[43mexport_params\u001b[49m\u001b[43m,\u001b[49m\n\u001b[1;32m    521\u001b[0m \u001b[43m        \u001b[49m\u001b[43mverbose\u001b[49m\u001b[43m,\u001b[49m\n\u001b[1;32m    522\u001b[0m \u001b[43m        \u001b[49m\u001b[43mtraining\u001b[49m\u001b[43m,\u001b[49m\n\u001b[1;32m    523\u001b[0m \u001b[43m        \u001b[49m\u001b[43minput_names\u001b[49m\u001b[43m,\u001b[49m\n\u001b[1;32m    524\u001b[0m \u001b[43m        \u001b[49m\u001b[43moutput_names\u001b[49m\u001b[43m,\u001b[49m\n\u001b[1;32m    525\u001b[0m \u001b[43m        \u001b[49m\u001b[43moperator_export_type\u001b[49m\u001b[38;5;241;43m=\u001b[39;49m\u001b[43moperator_export_type\u001b[49m\u001b[43m,\u001b[49m\n\u001b[1;32m    526\u001b[0m \u001b[43m        \u001b[49m\u001b[43mopset_version\u001b[49m\u001b[38;5;241;43m=\u001b[39;49m\u001b[43mopset_version\u001b[49m\u001b[43m,\u001b[49m\n\u001b[1;32m    527\u001b[0m \u001b[43m        \u001b[49m\u001b[43mdo_constant_folding\u001b[49m\u001b[38;5;241;43m=\u001b[39;49m\u001b[43mdo_constant_folding\u001b[49m\u001b[43m,\u001b[49m\n\u001b[1;32m    528\u001b[0m \u001b[43m        \u001b[49m\u001b[43mdynamic_axes\u001b[49m\u001b[38;5;241;43m=\u001b[39;49m\u001b[43mdynamic_axes\u001b[49m\u001b[43m,\u001b[49m\n\u001b[1;32m    529\u001b[0m \u001b[43m        \u001b[49m\u001b[43mkeep_initializers_as_inputs\u001b[49m\u001b[38;5;241;43m=\u001b[39;49m\u001b[43mkeep_initializers_as_inputs\u001b[49m\u001b[43m,\u001b[49m\n\u001b[1;32m    530\u001b[0m \u001b[43m        \u001b[49m\u001b[43mcustom_opsets\u001b[49m\u001b[38;5;241;43m=\u001b[39;49m\u001b[43mcustom_opsets\u001b[49m\u001b[43m,\u001b[49m\n\u001b[1;32m    531\u001b[0m \u001b[43m        \u001b[49m\u001b[43mexport_modules_as_functions\u001b[49m\u001b[38;5;241;43m=\u001b[39;49m\u001b[43mexport_modules_as_functions\u001b[49m\u001b[43m,\u001b[49m\n\u001b[1;32m    532\u001b[0m \u001b[43m        \u001b[49m\u001b[43mautograd_inlining\u001b[49m\u001b[38;5;241;43m=\u001b[39;49m\u001b[43mautograd_inlining\u001b[49m\u001b[43m,\u001b[49m\n\u001b[1;32m    533\u001b[0m \u001b[43m    \u001b[49m\u001b[43m)\u001b[49m\n",
      "File \u001b[0;32m~/projects/torch_template/.venv/lib/python3.11/site-packages/torch/onnx/utils.py:1613\u001b[0m, in \u001b[0;36m_export\u001b[0;34m(model, args, f, export_params, verbose, training, input_names, output_names, operator_export_type, export_type, opset_version, do_constant_folding, dynamic_axes, keep_initializers_as_inputs, fixed_batch_size, custom_opsets, add_node_names, onnx_shape_inference, export_modules_as_functions, autograd_inlining)\u001b[0m\n\u001b[1;32m   1610\u001b[0m     dynamic_axes \u001b[38;5;241m=\u001b[39m {}\n\u001b[1;32m   1611\u001b[0m _validate_dynamic_axes(dynamic_axes, model, input_names, output_names)\n\u001b[0;32m-> 1613\u001b[0m graph, params_dict, torch_out \u001b[38;5;241m=\u001b[39m \u001b[43m_model_to_graph\u001b[49m\u001b[43m(\u001b[49m\n\u001b[1;32m   1614\u001b[0m \u001b[43m    \u001b[49m\u001b[43mmodel\u001b[49m\u001b[43m,\u001b[49m\n\u001b[1;32m   1615\u001b[0m \u001b[43m    \u001b[49m\u001b[43margs\u001b[49m\u001b[43m,\u001b[49m\n\u001b[1;32m   1616\u001b[0m \u001b[43m    \u001b[49m\u001b[43mverbose\u001b[49m\u001b[43m,\u001b[49m\n\u001b[1;32m   1617\u001b[0m \u001b[43m    \u001b[49m\u001b[43minput_names\u001b[49m\u001b[43m,\u001b[49m\n\u001b[1;32m   1618\u001b[0m \u001b[43m    \u001b[49m\u001b[43moutput_names\u001b[49m\u001b[43m,\u001b[49m\n\u001b[1;32m   1619\u001b[0m \u001b[43m    \u001b[49m\u001b[43moperator_export_type\u001b[49m\u001b[43m,\u001b[49m\n\u001b[1;32m   1620\u001b[0m \u001b[43m    \u001b[49m\u001b[43mval_do_constant_folding\u001b[49m\u001b[43m,\u001b[49m\n\u001b[1;32m   1621\u001b[0m \u001b[43m    \u001b[49m\u001b[43mfixed_batch_size\u001b[49m\u001b[38;5;241;43m=\u001b[39;49m\u001b[43mfixed_batch_size\u001b[49m\u001b[43m,\u001b[49m\n\u001b[1;32m   1622\u001b[0m \u001b[43m    \u001b[49m\u001b[43mtraining\u001b[49m\u001b[38;5;241;43m=\u001b[39;49m\u001b[43mtraining\u001b[49m\u001b[43m,\u001b[49m\n\u001b[1;32m   1623\u001b[0m \u001b[43m    \u001b[49m\u001b[43mdynamic_axes\u001b[49m\u001b[38;5;241;43m=\u001b[39;49m\u001b[43mdynamic_axes\u001b[49m\u001b[43m,\u001b[49m\n\u001b[1;32m   1624\u001b[0m \u001b[43m\u001b[49m\u001b[43m)\u001b[49m\n\u001b[1;32m   1626\u001b[0m \u001b[38;5;66;03m# TODO: Don't allocate a in-memory string for the protobuf\u001b[39;00m\n\u001b[1;32m   1627\u001b[0m defer_weight_export \u001b[38;5;241m=\u001b[39m (\n\u001b[1;32m   1628\u001b[0m     export_type \u001b[38;5;129;01mis\u001b[39;00m \u001b[38;5;129;01mnot\u001b[39;00m _exporter_states\u001b[38;5;241m.\u001b[39mExportTypes\u001b[38;5;241m.\u001b[39mPROTOBUF_FILE\n\u001b[1;32m   1629\u001b[0m )\n",
      "File \u001b[0;32m~/projects/torch_template/.venv/lib/python3.11/site-packages/torch/onnx/utils.py:1135\u001b[0m, in \u001b[0;36m_model_to_graph\u001b[0;34m(model, args, verbose, input_names, output_names, operator_export_type, do_constant_folding, _disable_torch_constant_prop, fixed_batch_size, training, dynamic_axes)\u001b[0m\n\u001b[1;32m   1132\u001b[0m     args \u001b[38;5;241m=\u001b[39m (args,)\n\u001b[1;32m   1134\u001b[0m model \u001b[38;5;241m=\u001b[39m _pre_trace_quant_model(model, args)\n\u001b[0;32m-> 1135\u001b[0m graph, params, torch_out, module \u001b[38;5;241m=\u001b[39m \u001b[43m_create_jit_graph\u001b[49m\u001b[43m(\u001b[49m\u001b[43mmodel\u001b[49m\u001b[43m,\u001b[49m\u001b[43m \u001b[49m\u001b[43margs\u001b[49m\u001b[43m)\u001b[49m\n\u001b[1;32m   1136\u001b[0m params_dict \u001b[38;5;241m=\u001b[39m _get_named_param_dict(graph, params)\n\u001b[1;32m   1138\u001b[0m \u001b[38;5;28;01mtry\u001b[39;00m:\n",
      "File \u001b[0;32m~/projects/torch_template/.venv/lib/python3.11/site-packages/torch/onnx/utils.py:1011\u001b[0m, in \u001b[0;36m_create_jit_graph\u001b[0;34m(model, args)\u001b[0m\n\u001b[1;32m   1006\u001b[0m     graph \u001b[38;5;241m=\u001b[39m _C\u001b[38;5;241m.\u001b[39m_propagate_and_assign_input_shapes(\n\u001b[1;32m   1007\u001b[0m         graph, flattened_args, param_count_list, \u001b[38;5;28;01mFalse\u001b[39;00m, \u001b[38;5;28;01mFalse\u001b[39;00m\n\u001b[1;32m   1008\u001b[0m     )\n\u001b[1;32m   1009\u001b[0m     \u001b[38;5;28;01mreturn\u001b[39;00m graph, params, torch_out, \u001b[38;5;28;01mNone\u001b[39;00m\n\u001b[0;32m-> 1011\u001b[0m graph, torch_out \u001b[38;5;241m=\u001b[39m \u001b[43m_trace_and_get_graph_from_model\u001b[49m\u001b[43m(\u001b[49m\u001b[43mmodel\u001b[49m\u001b[43m,\u001b[49m\u001b[43m \u001b[49m\u001b[43margs\u001b[49m\u001b[43m)\u001b[49m\n\u001b[1;32m   1012\u001b[0m _C\u001b[38;5;241m.\u001b[39m_jit_pass_onnx_lint(graph)\n\u001b[1;32m   1013\u001b[0m state_dict \u001b[38;5;241m=\u001b[39m torch\u001b[38;5;241m.\u001b[39mjit\u001b[38;5;241m.\u001b[39m_unique_state_dict(model)\n",
      "File \u001b[0;32m~/projects/torch_template/.venv/lib/python3.11/site-packages/torch/onnx/utils.py:915\u001b[0m, in \u001b[0;36m_trace_and_get_graph_from_model\u001b[0;34m(model, args)\u001b[0m\n\u001b[1;32m    913\u001b[0m prev_autocast_cache_enabled \u001b[38;5;241m=\u001b[39m torch\u001b[38;5;241m.\u001b[39mis_autocast_cache_enabled()\n\u001b[1;32m    914\u001b[0m torch\u001b[38;5;241m.\u001b[39mset_autocast_cache_enabled(\u001b[38;5;28;01mFalse\u001b[39;00m)\n\u001b[0;32m--> 915\u001b[0m trace_graph, torch_out, inputs_states \u001b[38;5;241m=\u001b[39m \u001b[43mtorch\u001b[49m\u001b[38;5;241;43m.\u001b[39;49m\u001b[43mjit\u001b[49m\u001b[38;5;241;43m.\u001b[39;49m\u001b[43m_get_trace_graph\u001b[49m\u001b[43m(\u001b[49m\n\u001b[1;32m    916\u001b[0m \u001b[43m    \u001b[49m\u001b[43mmodel\u001b[49m\u001b[43m,\u001b[49m\n\u001b[1;32m    917\u001b[0m \u001b[43m    \u001b[49m\u001b[43margs\u001b[49m\u001b[43m,\u001b[49m\n\u001b[1;32m    918\u001b[0m \u001b[43m    \u001b[49m\u001b[43mstrict\u001b[49m\u001b[38;5;241;43m=\u001b[39;49m\u001b[38;5;28;43;01mFalse\u001b[39;49;00m\u001b[43m,\u001b[49m\n\u001b[1;32m    919\u001b[0m \u001b[43m    \u001b[49m\u001b[43m_force_outplace\u001b[49m\u001b[38;5;241;43m=\u001b[39;49m\u001b[38;5;28;43;01mFalse\u001b[39;49;00m\u001b[43m,\u001b[49m\n\u001b[1;32m    920\u001b[0m \u001b[43m    \u001b[49m\u001b[43m_return_inputs_states\u001b[49m\u001b[38;5;241;43m=\u001b[39;49m\u001b[38;5;28;43;01mTrue\u001b[39;49;00m\u001b[43m,\u001b[49m\n\u001b[1;32m    921\u001b[0m \u001b[43m\u001b[49m\u001b[43m)\u001b[49m\n\u001b[1;32m    922\u001b[0m torch\u001b[38;5;241m.\u001b[39mset_autocast_cache_enabled(prev_autocast_cache_enabled)\n\u001b[1;32m    924\u001b[0m warn_on_static_input_change(inputs_states)\n",
      "File \u001b[0;32m~/projects/torch_template/.venv/lib/python3.11/site-packages/torch/jit/_trace.py:1296\u001b[0m, in \u001b[0;36m_get_trace_graph\u001b[0;34m(f, args, kwargs, strict, _force_outplace, return_inputs, _return_inputs_states)\u001b[0m\n\u001b[1;32m   1294\u001b[0m \u001b[38;5;28;01mif\u001b[39;00m \u001b[38;5;129;01mnot\u001b[39;00m \u001b[38;5;28misinstance\u001b[39m(args, \u001b[38;5;28mtuple\u001b[39m):\n\u001b[1;32m   1295\u001b[0m     args \u001b[38;5;241m=\u001b[39m (args,)\n\u001b[0;32m-> 1296\u001b[0m outs \u001b[38;5;241m=\u001b[39m \u001b[43mONNXTracedModule\u001b[49m\u001b[43m(\u001b[49m\n\u001b[1;32m   1297\u001b[0m \u001b[43m    \u001b[49m\u001b[43mf\u001b[49m\u001b[43m,\u001b[49m\u001b[43m \u001b[49m\u001b[43mstrict\u001b[49m\u001b[43m,\u001b[49m\u001b[43m \u001b[49m\u001b[43m_force_outplace\u001b[49m\u001b[43m,\u001b[49m\u001b[43m \u001b[49m\u001b[43mreturn_inputs\u001b[49m\u001b[43m,\u001b[49m\u001b[43m \u001b[49m\u001b[43m_return_inputs_states\u001b[49m\n\u001b[1;32m   1298\u001b[0m \u001b[43m\u001b[49m\u001b[43m)\u001b[49m\u001b[43m(\u001b[49m\u001b[38;5;241;43m*\u001b[39;49m\u001b[43margs\u001b[49m\u001b[43m,\u001b[49m\u001b[43m \u001b[49m\u001b[38;5;241;43m*\u001b[39;49m\u001b[38;5;241;43m*\u001b[39;49m\u001b[43mkwargs\u001b[49m\u001b[43m)\u001b[49m\n\u001b[1;32m   1299\u001b[0m \u001b[38;5;28;01mreturn\u001b[39;00m outs\n",
      "File \u001b[0;32m~/projects/torch_template/.venv/lib/python3.11/site-packages/torch/nn/modules/module.py:1511\u001b[0m, in \u001b[0;36mModule._wrapped_call_impl\u001b[0;34m(self, *args, **kwargs)\u001b[0m\n\u001b[1;32m   1509\u001b[0m     \u001b[38;5;28;01mreturn\u001b[39;00m \u001b[38;5;28mself\u001b[39m\u001b[38;5;241m.\u001b[39m_compiled_call_impl(\u001b[38;5;241m*\u001b[39margs, \u001b[38;5;241m*\u001b[39m\u001b[38;5;241m*\u001b[39mkwargs)  \u001b[38;5;66;03m# type: ignore[misc]\u001b[39;00m\n\u001b[1;32m   1510\u001b[0m \u001b[38;5;28;01melse\u001b[39;00m:\n\u001b[0;32m-> 1511\u001b[0m     \u001b[38;5;28;01mreturn\u001b[39;00m \u001b[38;5;28;43mself\u001b[39;49m\u001b[38;5;241;43m.\u001b[39;49m\u001b[43m_call_impl\u001b[49m\u001b[43m(\u001b[49m\u001b[38;5;241;43m*\u001b[39;49m\u001b[43margs\u001b[49m\u001b[43m,\u001b[49m\u001b[43m \u001b[49m\u001b[38;5;241;43m*\u001b[39;49m\u001b[38;5;241;43m*\u001b[39;49m\u001b[43mkwargs\u001b[49m\u001b[43m)\u001b[49m\n",
      "File \u001b[0;32m~/projects/torch_template/.venv/lib/python3.11/site-packages/torch/nn/modules/module.py:1520\u001b[0m, in \u001b[0;36mModule._call_impl\u001b[0;34m(self, *args, **kwargs)\u001b[0m\n\u001b[1;32m   1515\u001b[0m \u001b[38;5;66;03m# If we don't have any hooks, we want to skip the rest of the logic in\u001b[39;00m\n\u001b[1;32m   1516\u001b[0m \u001b[38;5;66;03m# this function, and just call forward.\u001b[39;00m\n\u001b[1;32m   1517\u001b[0m \u001b[38;5;28;01mif\u001b[39;00m \u001b[38;5;129;01mnot\u001b[39;00m (\u001b[38;5;28mself\u001b[39m\u001b[38;5;241m.\u001b[39m_backward_hooks \u001b[38;5;129;01mor\u001b[39;00m \u001b[38;5;28mself\u001b[39m\u001b[38;5;241m.\u001b[39m_backward_pre_hooks \u001b[38;5;129;01mor\u001b[39;00m \u001b[38;5;28mself\u001b[39m\u001b[38;5;241m.\u001b[39m_forward_hooks \u001b[38;5;129;01mor\u001b[39;00m \u001b[38;5;28mself\u001b[39m\u001b[38;5;241m.\u001b[39m_forward_pre_hooks\n\u001b[1;32m   1518\u001b[0m         \u001b[38;5;129;01mor\u001b[39;00m _global_backward_pre_hooks \u001b[38;5;129;01mor\u001b[39;00m _global_backward_hooks\n\u001b[1;32m   1519\u001b[0m         \u001b[38;5;129;01mor\u001b[39;00m _global_forward_hooks \u001b[38;5;129;01mor\u001b[39;00m _global_forward_pre_hooks):\n\u001b[0;32m-> 1520\u001b[0m     \u001b[38;5;28;01mreturn\u001b[39;00m \u001b[43mforward_call\u001b[49m\u001b[43m(\u001b[49m\u001b[38;5;241;43m*\u001b[39;49m\u001b[43margs\u001b[49m\u001b[43m,\u001b[49m\u001b[43m \u001b[49m\u001b[38;5;241;43m*\u001b[39;49m\u001b[38;5;241;43m*\u001b[39;49m\u001b[43mkwargs\u001b[49m\u001b[43m)\u001b[49m\n\u001b[1;32m   1522\u001b[0m \u001b[38;5;28;01mtry\u001b[39;00m:\n\u001b[1;32m   1523\u001b[0m     result \u001b[38;5;241m=\u001b[39m \u001b[38;5;28;01mNone\u001b[39;00m\n",
      "File \u001b[0;32m~/projects/torch_template/.venv/lib/python3.11/site-packages/torch/jit/_trace.py:105\u001b[0m, in \u001b[0;36mONNXTracedModule.forward\u001b[0;34m(self, *args)\u001b[0m\n\u001b[1;32m    104\u001b[0m \u001b[38;5;28;01mdef\u001b[39;00m \u001b[38;5;21mforward\u001b[39m(\u001b[38;5;28mself\u001b[39m, \u001b[38;5;241m*\u001b[39margs: torch\u001b[38;5;241m.\u001b[39mTensor):\n\u001b[0;32m--> 105\u001b[0m     in_vars, in_desc \u001b[38;5;241m=\u001b[39m \u001b[43m_flatten\u001b[49m\u001b[43m(\u001b[49m\u001b[43margs\u001b[49m\u001b[43m)\u001b[49m\n\u001b[1;32m    106\u001b[0m     \u001b[38;5;66;03m# NOTE: use full state, because we need it for BatchNorm export\u001b[39;00m\n\u001b[1;32m    107\u001b[0m     \u001b[38;5;66;03m# This differs from the compiler path, which doesn't support it at the moment.\u001b[39;00m\n\u001b[1;32m    108\u001b[0m     module_state \u001b[38;5;241m=\u001b[39m \u001b[38;5;28mlist\u001b[39m(_unique_state_dict(\u001b[38;5;28mself\u001b[39m, keep_vars\u001b[38;5;241m=\u001b[39m\u001b[38;5;28;01mTrue\u001b[39;00m)\u001b[38;5;241m.\u001b[39mvalues())\n",
      "\u001b[0;31mRuntimeError\u001b[0m: Only tuples, lists and Variables are supported as JIT inputs/outputs. Dictionaries and strings are also accepted, but their usage is not recommended. Here, received an input of unsupported type: ModelInput"
     ]
    }
   ],
   "source": [
    "trained_model.net.to_onnx(\"credits_history_lit_model.onnx\", sample[0], export_params=True)"
   ]
  },
  {
   "cell_type": "code",
   "execution_count": null,
   "metadata": {},
   "outputs": [],
   "source": []
  }
 ],
 "metadata": {
  "kernelspec": {
   "display_name": ".venv",
   "language": "python",
   "name": "python3"
  },
  "language_info": {
   "codemirror_mode": {
    "name": "ipython",
    "version": 3
   },
   "file_extension": ".py",
   "mimetype": "text/x-python",
   "name": "python",
   "nbconvert_exporter": "python",
   "pygments_lexer": "ipython3",
   "version": "3.11.0"
  }
 },
 "nbformat": 4,
 "nbformat_minor": 2
}
