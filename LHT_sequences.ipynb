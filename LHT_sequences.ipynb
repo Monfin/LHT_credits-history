{
 "cells": [
  {
   "cell_type": "code",
   "execution_count": 1,
   "metadata": {},
   "outputs": [],
   "source": [
    "import torch\n",
    "from torch import nn\n",
    "from torchinfo import summary\n",
    "\n",
    "from IPython.display import display as d\n",
    "\n",
    "from typing import List, Dict, Union\n",
    "\n",
    "import numpy as np\n",
    "\n",
    "from omegaconf import OmegaConf\n",
    "\n",
    "import matplotlib.pyplot as plt\n",
    "\n",
    "from einops import rearrange\n",
    "\n",
    "import lightning as L"
   ]
  },
  {
   "cell_type": "code",
   "execution_count": 2,
   "metadata": {},
   "outputs": [],
   "source": [
    "from src.data.components.dataset import CreditsHistoryDataset\n",
    "from src.data.components.targets_indexes_reader import TargetsReader, IndexesReader\n",
    "from src.data.components.data_reader import DataReader\n",
    "from src.utils.sampler import SamplerFactory"
   ]
  },
  {
   "cell_type": "code",
   "execution_count": null,
   "metadata": {},
   "outputs": [],
   "source": []
  },
  {
   "cell_type": "code",
   "execution_count": null,
   "metadata": {},
   "outputs": [],
   "source": []
  },
  {
   "cell_type": "markdown",
   "metadata": {},
   "source": [
    "# Multitask research"
   ]
  },
  {
   "cell_type": "code",
   "execution_count": 3,
   "metadata": {},
   "outputs": [],
   "source": [
    "emb_dim = 128"
   ]
  },
  {
   "cell_type": "code",
   "execution_count": 4,
   "metadata": {},
   "outputs": [],
   "source": [
    "sample = torch.randint(0, 4, (5, ))"
   ]
  },
  {
   "cell_type": "code",
   "execution_count": 5,
   "metadata": {},
   "outputs": [
    {
     "data": {
      "text/plain": [
       "tensor([3, 0, 2, 2, 1])"
      ]
     },
     "metadata": {},
     "output_type": "display_data"
    }
   ],
   "source": [
    "d(sample)"
   ]
  },
  {
   "cell_type": "code",
   "execution_count": 6,
   "metadata": {},
   "outputs": [],
   "source": [
    "a = nn.Embedding(num_embeddings=4, embedding_dim=8)"
   ]
  },
  {
   "cell_type": "code",
   "execution_count": 7,
   "metadata": {},
   "outputs": [
    {
     "data": {
      "text/plain": [
       "{'weight': Parameter containing:\n",
       " tensor([[ 0.7905,  0.8748, -0.9494, -0.0320, -0.0461,  0.0173, -0.0866,  0.0108],\n",
       "         [-0.9283, -0.0698,  0.4816, -0.3519, -0.2994,  0.3422, -0.7389,  0.8548],\n",
       "         [-0.6415,  0.8164,  0.9165,  1.8407, -0.9568,  1.1694,  0.9635, -0.1062],\n",
       "         [-1.5664,  1.1292,  0.6802,  1.9366, -1.8036,  0.9650,  2.2666, -1.3979]],\n",
       "        requires_grad=True)}"
      ]
     },
     "metadata": {},
     "output_type": "display_data"
    }
   ],
   "source": [
    "d(dict(a.named_parameters()))"
   ]
  },
  {
   "cell_type": "code",
   "execution_count": 8,
   "metadata": {},
   "outputs": [
    {
     "data": {
      "text/plain": [
       "tensor([[-1.5664,  1.1292,  0.6802,  1.9366, -1.8036,  0.9650,  2.2666, -1.3979],\n",
       "        [ 0.7905,  0.8748, -0.9494, -0.0320, -0.0461,  0.0173, -0.0866,  0.0108],\n",
       "        [-0.6415,  0.8164,  0.9165,  1.8407, -0.9568,  1.1694,  0.9635, -0.1062],\n",
       "        [-0.6415,  0.8164,  0.9165,  1.8407, -0.9568,  1.1694,  0.9635, -0.1062],\n",
       "        [-0.9283, -0.0698,  0.4816, -0.3519, -0.2994,  0.3422, -0.7389,  0.8548]],\n",
       "       grad_fn=<EmbeddingBackward0>)"
      ]
     },
     "metadata": {},
     "output_type": "display_data"
    }
   ],
   "source": [
    "d(a(sample))"
   ]
  },
  {
   "cell_type": "code",
   "execution_count": 9,
   "metadata": {},
   "outputs": [
    {
     "data": {
      "text/plain": [
       "<matplotlib.image.AxesImage at 0x7f758e986bd0>"
      ]
     },
     "execution_count": 9,
     "metadata": {},
     "output_type": "execute_result"
    },
    {
     "data": {
      "image/png": "[encoded data removed]",
      "text/plain": [
       "<Figure size 640x480 with 1 Axes>"
      ]
     },
     "metadata": {},
     "output_type": "display_data"
    }
   ],
   "source": [
    "plt.imshow(a(sample).detach())"
   ]
  },
  {
   "cell_type": "code",
   "execution_count": 153,
   "metadata": {},
   "outputs": [
    {
     "data": {
      "text/plain": [
       "(tensor([1, 2, 3, 1, 2, 3]), tensor([2, 3, 4, 2, 3, 4]))"
      ]
     },
     "metadata": {},
     "output_type": "display_data"
    }
   ],
   "source": [
    "d(torch.concatenate([torch.stack(item).T for item in a]).unbind(dim=1))"
   ]
  },
  {
   "cell_type": "code",
   "execution_count": 6,
   "metadata": {},
   "outputs": [],
   "source": [
    "class PositionwiseFeedForward(nn.Module):\n",
    "    def __init__(self, input_size: int, hidden_size: int = 128, dropout=0.1):\n",
    "        super().__init__()\n",
    "\n",
    "        self.position_wise_layer = nn.Sequential(\n",
    "            nn.Linear(input_size, hidden_size),\n",
    "            nn.ReLU(),\n",
    "            nn.Linear(hidden_size, input_size)\n",
    "        )\n",
    "\n",
    "        self.layer_norm = nn.LayerNorm(input_size, eps=1e-6)\n",
    "\n",
    "        self.dropout = nn.Dropout(dropout)\n",
    "\n",
    "    def forward(self, x):\n",
    "\n",
    "        residual = x\n",
    "\n",
    "        x = self.position_wise_layer(x)\n",
    "        x = self.dropout(x)\n",
    "        \n",
    "        x += residual\n",
    "\n",
    "        x = self.layer_norm(x)\n",
    "\n",
    "        return x"
   ]
  },
  {
   "cell_type": "code",
   "execution_count": 31,
   "metadata": {},
   "outputs": [],
   "source": [
    "class FooModel(nn.Module):\n",
    "    def __init__(self, input_size: int, hidden_size: int = 128, max_seq_len: int = 50, dropout=0.1):\n",
    "        super().__init__()\n",
    "\n",
    "        self.position_wise_forward = PositionwiseFeedForward(\n",
    "            input_size=emb_dim, \n",
    "            hidden_size=emb_dim * 2, \n",
    "            dropout=dropout\n",
    "        )\n",
    "\n",
    "        self.linear_layer = nn.Linear(emb_dim, 1)\n",
    "\n",
    "        self.avg_pool = nn.AvgPool1d(kernel_size=max_seq_len)\n",
    "\n",
    "    def forward(self, inputs: torch.Tensor) -> torch.Tensor:\n",
    "        x = self.position_wise_forward(inputs)\n",
    "\n",
    "        x = self.linear_layer(x).squeeze()\n",
    "\n",
    "        x = self.avg_pool(x)\n",
    "\n",
    "        return x"
   ]
  },
  {
   "cell_type": "code",
   "execution_count": 7,
   "metadata": {},
   "outputs": [],
   "source": [
    "some_batch = (torch.randn(size=(32, 50, emb_dim)), torch.randint(0, 2, (32, ), dtype=torch.float32))"
   ]
  },
  {
   "cell_type": "code",
   "execution_count": 32,
   "metadata": {},
   "outputs": [],
   "source": [
    "some_model = FooModel(emb_dim, emb_dim * 2, 50)"
   ]
  },
  {
   "cell_type": "code",
   "execution_count": 18,
   "metadata": {},
   "outputs": [
    {
     "data": {
      "text/plain": [
       "<matplotlib.image.AxesImage at 0x7fa614b19890>"
      ]
     },
     "execution_count": 18,
     "metadata": {},
     "output_type": "execute_result"
    },
    {
     "data": {
      "image/png": "[encoded data removed]",
      "text/plain": [
       "<Figure size 640x480 with 1 Axes>"
      ]
     },
     "metadata": {},
     "output_type": "display_data"
    }
   ],
   "source": [
    "plt.imshow(some_batch[0][0])"
   ]
  },
  {
   "cell_type": "code",
   "execution_count": 33,
   "metadata": {},
   "outputs": [
    {
     "data": {
      "text/plain": [
       "torch.Size([32, 1])"
      ]
     },
     "metadata": {},
     "output_type": "display_data"
    }
   ],
   "source": [
    "d(some_model(some_batch[0]).size())"
   ]
  },
  {
   "cell_type": "code",
   "execution_count": 34,
   "metadata": {},
   "outputs": [],
   "source": [
    "from torchmetrics.classification.auroc import BinaryAUROC"
   ]
  },
  {
   "cell_type": "code",
   "execution_count": 70,
   "metadata": {},
   "outputs": [],
   "source": [
    "class GINI(BinaryAUROC):\n",
    "    def __init__(self) -> None:\n",
    "        super(GINI, self).__init__()\n",
    "        \n",
    "    def forward(self, logits: torch.Tensor, labels: torch.Tensor) -> torch.Tensor:\n",
    "        return (2. * super().forward(logits, labels) - 1.) * 100.\n",
    "    \n",
    "    # def compute(self) -> torch.Tensor:\n",
    "    #     return super().compute()"
   ]
  },
  {
   "cell_type": "code",
   "execution_count": 71,
   "metadata": {},
   "outputs": [],
   "source": [
    "a = GINI()"
   ]
  },
  {
   "cell_type": "code",
   "execution_count": 72,
   "metadata": {},
   "outputs": [
    {
     "data": {
      "text/plain": [
       "tensor(43.7500)"
      ]
     },
     "metadata": {},
     "output_type": "display_data"
    }
   ],
   "source": [
    "d(a(some_model(some_batch[0]), some_batch[1]))"
   ]
  },
  {
   "cell_type": "code",
   "execution_count": 119,
   "metadata": {},
   "outputs": [
    {
     "data": {
      "text/plain": [
       "tensor([ 0.0903,  0.0469,  0.0347, -0.1100,  0.0162,  0.0895,  0.0320,  0.1441,\n",
       "         0.0787,  0.0022,  0.0888, -0.0043,  0.1492, -0.0996,  0.0271,  0.0832,\n",
       "        -0.0649,  0.0250,  0.0833, -0.0095,  0.1098,  0.1297,  0.0403,  0.0176,\n",
       "        -0.0573, -0.0441, -0.1633,  0.0786, -0.0913,  0.0039, -0.0435, -0.0718],\n",
       "       grad_fn=<MeanBackward1>)"
      ]
     },
     "metadata": {},
     "output_type": "display_data"
    }
   ],
   "source": [
    "d(some_model(some_batch[0]))"
   ]
  },
  {
   "cell_type": "code",
   "execution_count": 86,
   "metadata": {},
   "outputs": [
    {
     "data": {
      "text/plain": [
       "OrderedDict()"
      ]
     },
     "metadata": {},
     "output_type": "display_data"
    }
   ],
   "source": [
    "d(a._buffers)"
   ]
  },
  {
   "cell_type": "code",
   "execution_count": 120,
   "metadata": {},
   "outputs": [
    {
     "data": {
      "text/plain": [
       "14.979999999999993"
      ]
     },
     "metadata": {},
     "output_type": "display_data"
    }
   ],
   "source": [
    "d((0.5749 * 2 - 1) * 100)"
   ]
  },
  {
   "cell_type": "code",
   "execution_count": 73,
   "metadata": {},
   "outputs": [
    {
     "data": {
      "text/plain": [
       "tensor(0.7188)"
      ]
     },
     "metadata": {},
     "output_type": "display_data"
    }
   ],
   "source": [
    "d(a.compute())"
   ]
  },
  {
   "cell_type": "code",
   "execution_count": 31,
   "metadata": {},
   "outputs": [
    {
     "name": "stdout",
     "output_type": "stream",
     "text": [
      "tensor(0.6924)\n",
      "tensor(11.7409)\n",
      "tensor(0.5587) \n",
      "\n"
     ]
    },
    {
     "name": "stderr",
     "output_type": "stream",
     "text": [
      "/home/danil/projects/torch_template/.venv/lib/python3.11/site-packages/lightning/pytorch/core/module.py:436: You are trying to `self.log()` but the `self.trainer` reference is not registered on the model yet. This is most likely because the model hasn't been passed to the `Trainer`\n"
     ]
    },
    {
     "data": {
      "text/plain": [
       "{'loss': tensor(0.6924, grad_fn=<BinaryCrossEntropyWithLogitsBackward0>)}"
      ]
     },
     "metadata": {},
     "output_type": "display_data"
    }
   ],
   "source": [
    "d(some_model.training_step(some_batch))"
   ]
  },
  {
   "cell_type": "code",
   "execution_count": null,
   "metadata": {},
   "outputs": [],
   "source": []
  },
  {
   "cell_type": "markdown",
   "metadata": {},
   "source": [
    "# Dataset"
   ]
  },
  {
   "cell_type": "code",
   "execution_count": 3,
   "metadata": {},
   "outputs": [],
   "source": [
    "from src.data.components.collate import ModelInput, SingleForwardState, BaseCollator, ModelOutput"
   ]
  },
  {
   "cell_type": "code",
   "execution_count": 4,
   "metadata": {},
   "outputs": [],
   "source": [
    "def set_sampler(targets: dict, n_samples: int = 1000, replacement: bool = True):\n",
    "\n",
    "    targets = np.asarray(list(targets.values()))\n",
    "    \n",
    "    sampler_factory = SamplerFactory(\n",
    "        targets=targets, \n",
    "        n_samples=n_samples,\n",
    "        replacement=replacement\n",
    "    )\n",
    "    return sampler_factory.balanced_random_sampler()"
   ]
  },
  {
   "cell_type": "code",
   "execution_count": 5,
   "metadata": {},
   "outputs": [],
   "source": [
    "def initialize_data(features_path: str, data_path: str, indexes_path: str, targets_path: str, use_sampler: bool = True, batch_size: int = 32):\n",
    "    features_dict = OmegaConf.load(features_path)\n",
    "\n",
    "    data_reader = DataReader(data_path=data_path)\n",
    "    data_reader.setup()\n",
    "\n",
    "    indexes = IndexesReader(train_path=indexes_path).train_indexes\n",
    "\n",
    "    targets = TargetsReader(targets_path).targets\n",
    "\n",
    "    targets = {idx: targets.get(idx) for idx in indexes}\n",
    "\n",
    "    dataset = CreditsHistoryDataset(\n",
    "        data=data_reader, \n",
    "        targets=targets,\n",
    "        indexes=indexes,\n",
    "        features=features_dict\n",
    "    )\n",
    "\n",
    "    print(f\"dataset sample: {dataset[0]}\")\n",
    "\n",
    "    train_sampler = set_sampler(\n",
    "        targets=dataset.targets, \n",
    "        n_samples=10000,\n",
    "        replacement=False\n",
    "    ) if use_sampler else None\n",
    "\n",
    "    dataloader = torch.utils.data.DataLoader(\n",
    "        dataset=dataset,\n",
    "        batch_size=batch_size,\n",
    "        collate_fn=BaseCollator(max_seq_len=20),\n",
    "        sampler=train_sampler,\n",
    "        drop_last=True\n",
    "    ) \n",
    "\n",
    "    return dataloader, features_dict"
   ]
  },
  {
   "cell_type": "code",
   "execution_count": 6,
   "metadata": {},
   "outputs": [
    {
     "name": "stdout",
     "output_type": "stream",
     "text": [
      "dataset sample: {'numerical': tensor([[13.0000,  2.0000, 12.0000,  1.9200,  1.6667,  3.1667,  0.2640,  2.6681,\n",
      "          0.0000,  0.0000,  0.0000,  0.0000,  0.0000,  0.0000,  0.0000],\n",
      "        [ 8.0000, 11.0000,  6.0000,  2.7600,  3.1667,  3.1667,  1.5110,  2.6681,\n",
      "          0.0000,  0.0000,  0.0000,  0.0000,  0.0000,  0.0000,  0.0000],\n",
      "        [ 7.0000,  6.0000, 19.0000,  2.4000,  3.1667,  3.1667,  0.8115,  2.6681,\n",
      "          0.0000,  0.0000,  0.0000,  0.0000,  0.0000,  0.0000,  0.0000],\n",
      "        [ 8.0000,  6.0000, 19.0000,  2.4000,  3.1667,  3.1667,  0.8115,  2.6681,\n",
      "          0.0000,  0.0000,  0.0000,  0.0000,  0.0000,  0.0000,  0.0000],\n",
      "        [ 9.0000, 11.0000,  1.0000,  2.5200,  3.1667,  3.1667,  1.0098,  2.6681,\n",
      "          0.0000,  0.0000,  0.0000,  0.0000,  0.0000,  0.0000,  0.0000],\n",
      "        [ 4.0000, 10.0000, 17.0000,  0.4800,  0.1667,  0.9167,  0.0262,  0.3352,\n",
      "          0.0000,  0.0000,  0.0000,  0.0000,  0.0000,  0.0000,  0.0000],\n",
      "        [ 4.0000, 15.0000,  8.0000,  3.1200,  3.1667,  3.1667,  2.6218,  2.6681,\n",
      "          0.0000,  0.0000,  0.0000,  0.0000,  0.0000,  0.0000,  0.0000],\n",
      "        [14.0000, 14.0000, 14.0000,  0.2400,  0.1667,  0.4167,  0.0262,  0.1457,\n",
      "          0.0000,  0.0000,  0.0000,  0.0000,  0.0000,  0.0000,  0.0000],\n",
      "        [ 4.0000,  8.0000, 13.0000,  2.4000,  3.1667,  3.1667,  0.8115,  2.6681,\n",
      "          0.0000,  0.0000,  0.0000,  0.0000,  0.0000,  0.0000,  0.0000],\n",
      "        [17.0000, 16.0000,  0.0000,  1.2000,  0.1667,  2.4167,  0.0262,  1.4856,\n",
      "          0.0000,  0.0000,  0.0000,  0.0000,  0.0000,  0.0000,  0.0000],\n",
      "        [11.0000,  8.0000,  2.0000,  2.2800,  3.1667,  3.1667,  0.6416,  2.6681,\n",
      "          2.0000,  0.0000,  0.0000,  0.0000,  0.0000,  0.0000,  0.0000],\n",
      "        [11.0000, 13.0000,  7.0000,  2.6400,  3.1667,  3.1667,  1.2411,  2.6681,\n",
      "          0.0000,  0.0000,  0.0000,  0.0000,  0.0000,  0.0000,  0.0000]]), 'categorical': tensor([[0, 0, 0, 0, 0, 0, 0, 0, 0, 0, 0, 0, 0, 0],\n",
      "        [0, 0, 0, 0, 0, 0, 0, 2, 1, 0, 0, 0, 0, 0],\n",
      "        [0, 0, 0, 0, 0, 0, 0, 0, 2, 0, 0, 0, 0, 0],\n",
      "        [0, 0, 0, 0, 0, 2, 0, 0, 2, 0, 0, 0, 0, 0],\n",
      "        [2, 0, 0, 2, 0, 0, 0, 0, 4, 0, 0, 0, 0, 0],\n",
      "        [2, 0, 0, 5, 0, 1, 0, 0, 0, 0, 0, 0, 0, 0],\n",
      "        [3, 0, 0, 5, 0, 1, 0, 5, 1, 0, 0, 0, 0, 0],\n",
      "        [3, 0, 0, 8, 0, 0, 0, 0, 0, 0, 0, 0, 0, 0],\n",
      "        [0, 0, 0, 3, 0, 1, 0, 0, 2, 0, 0, 0, 0, 0],\n",
      "        [0, 0, 0, 3, 0, 0, 0, 0, 0, 0, 0, 0, 0, 0],\n",
      "        [5, 4, 0, 0, 1, 5, 0, 0, 0, 0, 0, 0, 0, 0],\n",
      "        [0, 0, 0, 6, 1, 1, 0, 0, 1, 0, 0, 0, 0, 0]]), 'target': 0, 'length': 12, 'sample_index': '205752'}\n"
     ]
    }
   ],
   "source": [
    "test_dataloader, _ = initialize_data(\n",
    "    \"configs/data/features/features_credits_aggregated_v5.yaml\",\n",
    "    \"./data/credits-history/serialized/serialized_0_v5\",\n",
    "    \"./data/credits-history/indexes/ser_full_0_indexes/train_indexes.pickle\",\n",
    "    \"./data/credits-history/targets/targets_dict.pickle\",\n",
    "    use_sampler=False,\n",
    "    batch_size=1024\n",
    ")"
   ]
  },
  {
   "cell_type": "code",
   "execution_count": 7,
   "metadata": {},
   "outputs": [
    {
     "name": "stdout",
     "output_type": "stream",
     "text": [
      "dataset sample: {'numerical': tensor([[13.0000,  2.0000, 12.0000,  1.9200,  1.6667,  3.1667,  0.2640,  2.6681,\n",
      "          0.0000,  0.0000,  0.0000,  0.0000,  0.0000,  0.0000,  0.0000],\n",
      "        [ 8.0000, 11.0000,  6.0000,  2.7600,  3.1667,  3.1667,  1.5110,  2.6681,\n",
      "          0.0000,  0.0000,  0.0000,  0.0000,  0.0000,  0.0000,  0.0000],\n",
      "        [ 7.0000,  6.0000, 19.0000,  2.4000,  3.1667,  3.1667,  0.8115,  2.6681,\n",
      "          0.0000,  0.0000,  0.0000,  0.0000,  0.0000,  0.0000,  0.0000],\n",
      "        [ 8.0000,  6.0000, 19.0000,  2.4000,  3.1667,  3.1667,  0.8115,  2.6681,\n",
      "          0.0000,  0.0000,  0.0000,  0.0000,  0.0000,  0.0000,  0.0000],\n",
      "        [ 9.0000, 11.0000,  1.0000,  2.5200,  3.1667,  3.1667,  1.0098,  2.6681,\n",
      "          0.0000,  0.0000,  0.0000,  0.0000,  0.0000,  0.0000,  0.0000],\n",
      "        [ 4.0000, 10.0000, 17.0000,  0.4800,  0.1667,  0.9167,  0.0262,  0.3352,\n",
      "          0.0000,  0.0000,  0.0000,  0.0000,  0.0000,  0.0000,  0.0000],\n",
      "        [ 4.0000, 15.0000,  8.0000,  3.1200,  3.1667,  3.1667,  2.6218,  2.6681,\n",
      "          0.0000,  0.0000,  0.0000,  0.0000,  0.0000,  0.0000,  0.0000],\n",
      "        [14.0000, 14.0000, 14.0000,  0.2400,  0.1667,  0.4167,  0.0262,  0.1457,\n",
      "          0.0000,  0.0000,  0.0000,  0.0000,  0.0000,  0.0000,  0.0000],\n",
      "        [ 4.0000,  8.0000, 13.0000,  2.4000,  3.1667,  3.1667,  0.8115,  2.6681,\n",
      "          0.0000,  0.0000,  0.0000,  0.0000,  0.0000,  0.0000,  0.0000],\n",
      "        [17.0000, 16.0000,  0.0000,  1.2000,  0.1667,  2.4167,  0.0262,  1.4856,\n",
      "          0.0000,  0.0000,  0.0000,  0.0000,  0.0000,  0.0000,  0.0000],\n",
      "        [11.0000,  8.0000,  2.0000,  2.2800,  3.1667,  3.1667,  0.6416,  2.6681,\n",
      "          2.0000,  0.0000,  0.0000,  0.0000,  0.0000,  0.0000,  0.0000],\n",
      "        [11.0000, 13.0000,  7.0000,  2.6400,  3.1667,  3.1667,  1.2411,  2.6681,\n",
      "          0.0000,  0.0000,  0.0000,  0.0000,  0.0000,  0.0000,  0.0000]]), 'categorical': tensor([[0, 0, 0, 0, 0, 0, 0, 0, 0, 0, 0, 0, 0, 0],\n",
      "        [0, 0, 0, 0, 0, 0, 0, 2, 1, 0, 0, 0, 0, 0],\n",
      "        [0, 0, 0, 0, 0, 0, 0, 0, 2, 0, 0, 0, 0, 0],\n",
      "        [0, 0, 0, 0, 0, 2, 0, 0, 2, 0, 0, 0, 0, 0],\n",
      "        [2, 0, 0, 2, 0, 0, 0, 0, 4, 0, 0, 0, 0, 0],\n",
      "        [2, 0, 0, 5, 0, 1, 0, 0, 0, 0, 0, 0, 0, 0],\n",
      "        [3, 0, 0, 5, 0, 1, 0, 5, 1, 0, 0, 0, 0, 0],\n",
      "        [3, 0, 0, 8, 0, 0, 0, 0, 0, 0, 0, 0, 0, 0],\n",
      "        [0, 0, 0, 3, 0, 1, 0, 0, 2, 0, 0, 0, 0, 0],\n",
      "        [0, 0, 0, 3, 0, 0, 0, 0, 0, 0, 0, 0, 0, 0],\n",
      "        [5, 4, 0, 0, 1, 5, 0, 0, 0, 0, 0, 0, 0, 0],\n",
      "        [0, 0, 0, 6, 1, 1, 0, 0, 1, 0, 0, 0, 0, 0]]), 'target': 0, 'length': 12, 'sample_index': '205752'}\n"
     ]
    }
   ],
   "source": [
    "dataloader, features_dict = initialize_data(\n",
    "    \"configs/data/features/features_credits_aggregated_v5.yaml\",\n",
    "    \"./data/credits-history/serialized/serialized_0_v5\",\n",
    "    \"./data/credits-history/indexes/ser_full_0_indexes/train_indexes.pickle\",\n",
    "    \"./data/credits-history/targets/targets_dict.pickle\"\n",
    ")"
   ]
  },
  {
   "cell_type": "code",
   "execution_count": 8,
   "metadata": {},
   "outputs": [
    {
     "name": "stdout",
     "output_type": "stream",
     "text": [
      "tensor([[False, False,  True,  True,  True,  True,  True,  True,  True,  True,\n",
      "          True,  True,  True,  True,  True,  True,  True,  True,  True,  True],\n",
      "        [False, False,  True,  True,  True,  True,  True,  True,  True,  True,\n",
      "          True,  True,  True,  True,  True,  True,  True,  True,  True,  True],\n",
      "        [False, False, False, False, False, False, False, False,  True,  True,\n",
      "          True,  True,  True,  True,  True,  True,  True,  True,  True,  True],\n",
      "        [False, False, False, False, False, False,  True,  True,  True,  True,\n",
      "          True,  True,  True,  True,  True,  True,  True,  True,  True,  True],\n",
      "        [False, False, False, False,  True,  True,  True,  True,  True,  True,\n",
      "          True,  True,  True,  True,  True,  True,  True,  True,  True,  True],\n",
      "        [False, False, False, False, False,  True,  True,  True,  True,  True,\n",
      "          True,  True,  True,  True,  True,  True,  True,  True,  True,  True],\n",
      "        [False, False, False, False, False,  True,  True,  True,  True,  True,\n",
      "          True,  True,  True,  True,  True,  True,  True,  True,  True,  True],\n",
      "        [False,  True,  True,  True,  True,  True,  True,  True,  True,  True,\n",
      "          True,  True,  True,  True,  True,  True,  True,  True,  True,  True],\n",
      "        [False, False, False, False, False, False, False, False, False, False,\n",
      "         False,  True,  True,  True,  True,  True,  True,  True,  True,  True],\n",
      "        [False, False, False, False, False, False, False, False, False, False,\n",
      "         False,  True,  True,  True,  True,  True,  True,  True,  True,  True],\n",
      "        [False, False, False, False,  True,  True,  True,  True,  True,  True,\n",
      "          True,  True,  True,  True,  True,  True,  True,  True,  True,  True],\n",
      "        [False, False, False, False, False,  True,  True,  True,  True,  True,\n",
      "          True,  True,  True,  True,  True,  True,  True,  True,  True,  True],\n",
      "        [False, False, False, False, False, False, False,  True,  True,  True,\n",
      "          True,  True,  True,  True,  True,  True,  True,  True,  True,  True],\n",
      "        [False,  True,  True,  True,  True,  True,  True,  True,  True,  True,\n",
      "          True,  True,  True,  True,  True,  True,  True,  True,  True,  True],\n",
      "        [False, False, False, False, False, False,  True,  True,  True,  True,\n",
      "          True,  True,  True,  True,  True,  True,  True,  True,  True,  True],\n",
      "        [False, False, False, False, False, False, False, False, False, False,\n",
      "          True,  True,  True,  True,  True,  True,  True,  True,  True,  True],\n",
      "        [False, False, False, False, False, False, False,  True,  True,  True,\n",
      "          True,  True,  True,  True,  True,  True,  True,  True,  True,  True],\n",
      "        [False, False, False, False, False, False, False,  True,  True,  True,\n",
      "          True,  True,  True,  True,  True,  True,  True,  True,  True,  True],\n",
      "        [False, False, False, False, False, False, False,  True,  True,  True,\n",
      "          True,  True,  True,  True,  True,  True,  True,  True,  True,  True],\n",
      "        [False, False, False, False, False, False, False, False, False, False,\n",
      "         False, False, False, False, False, False, False, False, False, False],\n",
      "        [False, False, False, False, False, False, False, False, False, False,\n",
      "         False, False, False, False,  True,  True,  True,  True,  True,  True],\n",
      "        [False, False, False, False, False, False, False, False,  True,  True,\n",
      "          True,  True,  True,  True,  True,  True,  True,  True,  True,  True],\n",
      "        [False, False, False, False, False, False,  True,  True,  True,  True,\n",
      "          True,  True,  True,  True,  True,  True,  True,  True,  True,  True],\n",
      "        [False, False, False, False, False, False, False,  True,  True,  True,\n",
      "          True,  True,  True,  True,  True,  True,  True,  True,  True,  True],\n",
      "        [False, False, False, False, False, False, False,  True,  True,  True,\n",
      "          True,  True,  True,  True,  True,  True,  True,  True,  True,  True],\n",
      "        [False, False, False, False, False, False, False, False, False, False,\n",
      "         False,  True,  True,  True,  True,  True,  True,  True,  True,  True],\n",
      "        [False, False, False,  True,  True,  True,  True,  True,  True,  True,\n",
      "          True,  True,  True,  True,  True,  True,  True,  True,  True,  True],\n",
      "        [False, False, False, False, False, False, False, False,  True,  True,\n",
      "          True,  True,  True,  True,  True,  True,  True,  True,  True,  True],\n",
      "        [False, False, False, False, False, False, False, False, False, False,\n",
      "         False,  True,  True,  True,  True,  True,  True,  True,  True,  True],\n",
      "        [False, False, False,  True,  True,  True,  True,  True,  True,  True,\n",
      "          True,  True,  True,  True,  True,  True,  True,  True,  True,  True],\n",
      "        [False, False, False, False, False, False, False, False, False, False,\n",
      "          True,  True,  True,  True,  True,  True,  True,  True,  True,  True],\n",
      "        [False, False, False, False, False, False, False, False, False, False,\n",
      "         False,  True,  True,  True,  True,  True,  True,  True,  True,  True]])\n"
     ]
    },
    {
     "data": {
      "text/plain": [
       "ModelBatch(numerical=tensor([[[16.,  9., 19.,  ...,  0.,  0.,  0.],\n",
       "         [ 9.,  8., 19.,  ...,  0.,  0.,  0.],\n",
       "         [ 0.,  0.,  0.,  ...,  0.,  0.,  0.],\n",
       "         ...,\n",
       "         [ 0.,  0.,  0.,  ...,  0.,  0.,  0.],\n",
       "         [ 0.,  0.,  0.,  ...,  0.,  0.,  0.],\n",
       "         [ 0.,  0.,  0.,  ...,  0.,  0.,  0.]],\n",
       "\n",
       "        [[ 6.,  8.,  8.,  ...,  0.,  0.,  0.],\n",
       "         [17.,  8., 11.,  ...,  0.,  0.,  0.],\n",
       "         [ 0.,  0.,  0.,  ...,  0.,  0.,  0.],\n",
       "         ...,\n",
       "         [ 0.,  0.,  0.,  ...,  0.,  0.,  0.],\n",
       "         [ 0.,  0.,  0.,  ...,  0.,  0.,  0.],\n",
       "         [ 0.,  0.,  0.,  ...,  0.,  0.,  0.]],\n",
       "\n",
       "        [[ 8., 11., 13.,  ...,  0.,  0.,  0.],\n",
       "         [ 8.,  6.,  3.,  ...,  0.,  0.,  0.],\n",
       "         [ 8.,  5., 19.,  ..., 16., 16.,  0.],\n",
       "         ...,\n",
       "         [ 0.,  0.,  0.,  ...,  0.,  0.,  0.],\n",
       "         [ 0.,  0.,  0.,  ...,  0.,  0.,  0.],\n",
       "         [ 0.,  0.,  0.,  ...,  0.,  0.,  0.]],\n",
       "\n",
       "        ...,\n",
       "\n",
       "        [[ 6.,  7.,  2.,  ...,  0.,  0.,  0.],\n",
       "         [ 6.,  1.,  2.,  ...,  0.,  0.,  0.],\n",
       "         [ 4.,  8.,  8.,  ...,  0.,  0.,  0.],\n",
       "         ...,\n",
       "         [ 0.,  0.,  0.,  ...,  0.,  0.,  0.],\n",
       "         [ 0.,  0.,  0.,  ...,  0.,  0.,  0.],\n",
       "         [ 0.,  0.,  0.,  ...,  0.,  0.,  0.]],\n",
       "\n",
       "        [[ 7.,  6., 13.,  ...,  0.,  0.,  0.],\n",
       "         [15.,  9.,  3.,  ..., 16., 16.,  0.],\n",
       "         [16.,  9.,  3.,  ...,  0.,  0.,  0.],\n",
       "         ...,\n",
       "         [ 0.,  0.,  0.,  ...,  0.,  0.,  0.],\n",
       "         [ 0.,  0.,  0.,  ...,  0.,  0.,  0.],\n",
       "         [ 0.,  0.,  0.,  ...,  0.,  0.,  0.]],\n",
       "\n",
       "        [[13.,  0., 19.,  ...,  0.,  0.,  0.],\n",
       "         [ 4.,  1.,  3.,  ...,  0.,  0.,  0.],\n",
       "         [16.,  9.,  1.,  ..., 16., 16.,  0.],\n",
       "         ...,\n",
       "         [ 0.,  0.,  0.,  ...,  0.,  0.,  0.],\n",
       "         [ 0.,  0.,  0.,  ...,  0.,  0.,  0.],\n",
       "         [ 0.,  0.,  0.,  ...,  0.,  0.,  0.]]]), categorical=tensor([[[4, 0, 0,  ..., 0, 0, 0],\n",
       "         [0, 1, 0,  ..., 0, 0, 0],\n",
       "         [0, 0, 0,  ..., 0, 0, 0],\n",
       "         ...,\n",
       "         [0, 0, 0,  ..., 0, 0, 0],\n",
       "         [0, 0, 0,  ..., 0, 0, 0],\n",
       "         [0, 0, 0,  ..., 0, 0, 0]],\n",
       "\n",
       "        [[6, 3, 0,  ..., 0, 0, 0],\n",
       "         [0, 3, 0,  ..., 0, 0, 0],\n",
       "         [0, 0, 0,  ..., 0, 0, 0],\n",
       "         ...,\n",
       "         [0, 0, 0,  ..., 0, 0, 0],\n",
       "         [0, 0, 0,  ..., 0, 0, 0],\n",
       "         [0, 0, 0,  ..., 0, 0, 0]],\n",
       "\n",
       "        [[0, 0, 0,  ..., 0, 0, 0],\n",
       "         [0, 0, 0,  ..., 0, 0, 0],\n",
       "         [2, 0, 2,  ..., 0, 0, 0],\n",
       "         ...,\n",
       "         [0, 0, 0,  ..., 0, 0, 0],\n",
       "         [0, 0, 0,  ..., 0, 0, 0],\n",
       "         [0, 0, 0,  ..., 0, 0, 0]],\n",
       "\n",
       "        ...,\n",
       "\n",
       "        [[0, 0, 0,  ..., 0, 0, 0],\n",
       "         [0, 0, 0,  ..., 0, 0, 0],\n",
       "         [3, 0, 0,  ..., 0, 0, 0],\n",
       "         ...,\n",
       "         [0, 0, 0,  ..., 0, 0, 0],\n",
       "         [0, 0, 0,  ..., 0, 0, 0],\n",
       "         [0, 0, 0,  ..., 0, 0, 0]],\n",
       "\n",
       "        [[0, 0, 0,  ..., 0, 0, 0],\n",
       "         [0, 0, 0,  ..., 0, 0, 0],\n",
       "         [0, 0, 0,  ..., 0, 0, 0],\n",
       "         ...,\n",
       "         [0, 0, 0,  ..., 0, 0, 0],\n",
       "         [0, 0, 0,  ..., 0, 0, 0],\n",
       "         [0, 0, 0,  ..., 0, 0, 0]],\n",
       "\n",
       "        [[1, 0, 0,  ..., 0, 0, 0],\n",
       "         [1, 0, 0,  ..., 0, 0, 0],\n",
       "         [1, 0, 2,  ..., 0, 0, 0],\n",
       "         ...,\n",
       "         [0, 0, 0,  ..., 0, 0, 0],\n",
       "         [0, 0, 0,  ..., 0, 0, 0],\n",
       "         [0, 0, 0,  ..., 0, 0, 0]]]), targets=tensor([[1.],\n",
       "        [1.],\n",
       "        [1.],\n",
       "        [1.],\n",
       "        [0.],\n",
       "        [1.],\n",
       "        [0.],\n",
       "        [0.],\n",
       "        [0.],\n",
       "        [0.],\n",
       "        [0.],\n",
       "        [0.],\n",
       "        [1.],\n",
       "        [0.],\n",
       "        [1.],\n",
       "        [1.],\n",
       "        [0.],\n",
       "        [0.],\n",
       "        [1.],\n",
       "        [0.],\n",
       "        [0.],\n",
       "        [0.],\n",
       "        [1.],\n",
       "        [0.],\n",
       "        [0.],\n",
       "        [0.],\n",
       "        [1.],\n",
       "        [0.],\n",
       "        [0.],\n",
       "        [0.],\n",
       "        [1.],\n",
       "        [1.]]), sample_indexes=['153460', '200785', '205103', '118974', '177431', '76102', '82393', '8114', '230515', '56036', '178445', '142192', '195828', '25822', '119359', '107056', '26354', '45861', '123712', '116386', '215005', '45945', '174871', '60625', '103546', '215199', '60486', '103848', '173807', '43205', '79773', '228491'], mask=tensor([[False, False,  True,  True,  True,  True,  True,  True,  True,  True,\n",
       "          True,  True,  True,  True,  True,  True,  True,  True,  True,  True],\n",
       "        [False, False,  True,  True,  True,  True,  True,  True,  True,  True,\n",
       "          True,  True,  True,  True,  True,  True,  True,  True,  True,  True],\n",
       "        [False, False, False, False, False, False, False, False,  True,  True,\n",
       "          True,  True,  True,  True,  True,  True,  True,  True,  True,  True],\n",
       "        [False, False, False, False, False, False,  True,  True,  True,  True,\n",
       "          True,  True,  True,  True,  True,  True,  True,  True,  True,  True],\n",
       "        [False, False, False, False,  True,  True,  True,  True,  True,  True,\n",
       "          True,  True,  True,  True,  True,  True,  True,  True,  True,  True],\n",
       "        [False, False, False, False, False,  True,  True,  True,  True,  True,\n",
       "          True,  True,  True,  True,  True,  True,  True,  True,  True,  True],\n",
       "        [False, False, False, False, False,  True,  True,  True,  True,  True,\n",
       "          True,  True,  True,  True,  True,  True,  True,  True,  True,  True],\n",
       "        [False,  True,  True,  True,  True,  True,  True,  True,  True,  True,\n",
       "          True,  True,  True,  True,  True,  True,  True,  True,  True,  True],\n",
       "        [False, False, False, False, False, False, False, False, False, False,\n",
       "         False,  True,  True,  True,  True,  True,  True,  True,  True,  True],\n",
       "        [False, False, False, False, False, False, False, False, False, False,\n",
       "         False,  True,  True,  True,  True,  True,  True,  True,  True,  True],\n",
       "        [False, False, False, False,  True,  True,  True,  True,  True,  True,\n",
       "          True,  True,  True,  True,  True,  True,  True,  True,  True,  True],\n",
       "        [False, False, False, False, False,  True,  True,  True,  True,  True,\n",
       "          True,  True,  True,  True,  True,  True,  True,  True,  True,  True],\n",
       "        [False, False, False, False, False, False, False,  True,  True,  True,\n",
       "          True,  True,  True,  True,  True,  True,  True,  True,  True,  True],\n",
       "        [False,  True,  True,  True,  True,  True,  True,  True,  True,  True,\n",
       "          True,  True,  True,  True,  True,  True,  True,  True,  True,  True],\n",
       "        [False, False, False, False, False, False,  True,  True,  True,  True,\n",
       "          True,  True,  True,  True,  True,  True,  True,  True,  True,  True],\n",
       "        [False, False, False, False, False, False, False, False, False, False,\n",
       "          True,  True,  True,  True,  True,  True,  True,  True,  True,  True],\n",
       "        [False, False, False, False, False, False, False,  True,  True,  True,\n",
       "          True,  True,  True,  True,  True,  True,  True,  True,  True,  True],\n",
       "        [False, False, False, False, False, False, False,  True,  True,  True,\n",
       "          True,  True,  True,  True,  True,  True,  True,  True,  True,  True],\n",
       "        [False, False, False, False, False, False, False,  True,  True,  True,\n",
       "          True,  True,  True,  True,  True,  True,  True,  True,  True,  True],\n",
       "        [False, False, False, False, False, False, False, False, False, False,\n",
       "         False, False, False, False, False, False, False, False, False, False],\n",
       "        [False, False, False, False, False, False, False, False, False, False,\n",
       "         False, False, False, False,  True,  True,  True,  True,  True,  True],\n",
       "        [False, False, False, False, False, False, False, False,  True,  True,\n",
       "          True,  True,  True,  True,  True,  True,  True,  True,  True,  True],\n",
       "        [False, False, False, False, False, False,  True,  True,  True,  True,\n",
       "          True,  True,  True,  True,  True,  True,  True,  True,  True,  True],\n",
       "        [False, False, False, False, False, False, False,  True,  True,  True,\n",
       "          True,  True,  True,  True,  True,  True,  True,  True,  True,  True],\n",
       "        [False, False, False, False, False, False, False,  True,  True,  True,\n",
       "          True,  True,  True,  True,  True,  True,  True,  True,  True,  True],\n",
       "        [False, False, False, False, False, False, False, False, False, False,\n",
       "         False,  True,  True,  True,  True,  True,  True,  True,  True,  True],\n",
       "        [False, False, False,  True,  True,  True,  True,  True,  True,  True,\n",
       "          True,  True,  True,  True,  True,  True,  True,  True,  True,  True],\n",
       "        [False, False, False, False, False, False, False, False,  True,  True,\n",
       "          True,  True,  True,  True,  True,  True,  True,  True,  True,  True],\n",
       "        [False, False, False, False, False, False, False, False, False, False,\n",
       "         False,  True,  True,  True,  True,  True,  True,  True,  True,  True],\n",
       "        [False, False, False,  True,  True,  True,  True,  True,  True,  True,\n",
       "          True,  True,  True,  True,  True,  True,  True,  True,  True,  True],\n",
       "        [False, False, False, False, False, False, False, False, False, False,\n",
       "          True,  True,  True,  True,  True,  True,  True,  True,  True,  True],\n",
       "        [False, False, False, False, False, False, False, False, False, False,\n",
       "         False,  True,  True,  True,  True,  True,  True,  True,  True,  True]]))"
      ]
     },
     "metadata": {},
     "output_type": "display_data"
    }
   ],
   "source": [
    "d(next(iter(dataloader)))"
   ]
  },
  {
   "cell_type": "markdown",
   "metadata": {},
   "source": [
    "# Model"
   ]
  },
  {
   "cell_type": "markdown",
   "metadata": {},
   "source": [
    "## Get sample check "
   ]
  },
  {
   "cell_type": "code",
   "execution_count": 9,
   "metadata": {},
   "outputs": [],
   "source": [
    "def get_sample():\n",
    "    batch = next(iter(dataloader))\n",
    "\n",
    "    x = ModelInput(\n",
    "        numerical=batch.numerical,\n",
    "        categorical=batch.categorical,\n",
    "        mask=batch.mask\n",
    "    )\n",
    "\n",
    "    labels = batch.targets\n",
    "\n",
    "    return x, labels"
   ]
  },
  {
   "cell_type": "code",
   "execution_count": 10,
   "metadata": {},
   "outputs": [
    {
     "name": "stdout",
     "output_type": "stream",
     "text": [
      "tensor([[False, False, False, False, False, False, False, False, False, False,\n",
      "         False, False,  True,  True,  True,  True,  True,  True,  True,  True],\n",
      "        [False, False, False, False, False, False, False, False,  True,  True,\n",
      "          True,  True,  True,  True,  True,  True,  True,  True,  True,  True],\n",
      "        [False, False, False, False, False, False, False, False, False,  True,\n",
      "          True,  True,  True,  True,  True,  True,  True,  True,  True,  True],\n",
      "        [False, False, False, False, False, False, False, False, False, False,\n",
      "          True,  True,  True,  True,  True,  True,  True,  True,  True,  True],\n",
      "        [False, False, False, False, False,  True,  True,  True,  True,  True,\n",
      "          True,  True,  True,  True,  True,  True,  True,  True,  True,  True],\n",
      "        [False, False, False,  True,  True,  True,  True,  True,  True,  True,\n",
      "          True,  True,  True,  True,  True,  True,  True,  True,  True,  True],\n",
      "        [False, False, False, False,  True,  True,  True,  True,  True,  True,\n",
      "          True,  True,  True,  True,  True,  True,  True,  True,  True,  True],\n",
      "        [False, False, False, False, False,  True,  True,  True,  True,  True,\n",
      "          True,  True,  True,  True,  True,  True,  True,  True,  True,  True],\n",
      "        [False, False,  True,  True,  True,  True,  True,  True,  True,  True,\n",
      "          True,  True,  True,  True,  True,  True,  True,  True,  True,  True],\n",
      "        [False,  True,  True,  True,  True,  True,  True,  True,  True,  True,\n",
      "          True,  True,  True,  True,  True,  True,  True,  True,  True,  True],\n",
      "        [False, False, False, False, False, False, False, False, False, False,\n",
      "         False, False, False, False, False,  True,  True,  True,  True,  True],\n",
      "        [False, False, False, False, False, False, False, False, False, False,\n",
      "         False, False,  True,  True,  True,  True,  True,  True,  True,  True],\n",
      "        [False, False, False, False, False, False,  True,  True,  True,  True,\n",
      "          True,  True,  True,  True,  True,  True,  True,  True,  True,  True],\n",
      "        [False, False, False, False, False,  True,  True,  True,  True,  True,\n",
      "          True,  True,  True,  True,  True,  True,  True,  True,  True,  True],\n",
      "        [False, False, False, False, False, False, False, False, False, False,\n",
      "          True,  True,  True,  True,  True,  True,  True,  True,  True,  True],\n",
      "        [False, False, False,  True,  True,  True,  True,  True,  True,  True,\n",
      "          True,  True,  True,  True,  True,  True,  True,  True,  True,  True],\n",
      "        [False, False, False,  True,  True,  True,  True,  True,  True,  True,\n",
      "          True,  True,  True,  True,  True,  True,  True,  True,  True,  True],\n",
      "        [False, False, False, False, False, False,  True,  True,  True,  True,\n",
      "          True,  True,  True,  True,  True,  True,  True,  True,  True,  True],\n",
      "        [False, False, False, False, False, False, False,  True,  True,  True,\n",
      "          True,  True,  True,  True,  True,  True,  True,  True,  True,  True],\n",
      "        [False, False, False, False, False, False, False, False, False, False,\n",
      "         False, False, False, False, False, False, False, False,  True,  True],\n",
      "        [False, False, False, False, False, False, False, False,  True,  True,\n",
      "          True,  True,  True,  True,  True,  True,  True,  True,  True,  True],\n",
      "        [False,  True,  True,  True,  True,  True,  True,  True,  True,  True,\n",
      "          True,  True,  True,  True,  True,  True,  True,  True,  True,  True],\n",
      "        [False, False, False, False, False, False, False,  True,  True,  True,\n",
      "          True,  True,  True,  True,  True,  True,  True,  True,  True,  True],\n",
      "        [False, False, False, False, False, False, False,  True,  True,  True,\n",
      "          True,  True,  True,  True,  True,  True,  True,  True,  True,  True],\n",
      "        [False, False, False, False, False, False, False, False, False, False,\n",
      "         False, False, False, False, False, False, False, False, False, False],\n",
      "        [False, False, False, False, False, False, False, False, False,  True,\n",
      "          True,  True,  True,  True,  True,  True,  True,  True,  True,  True],\n",
      "        [False, False,  True,  True,  True,  True,  True,  True,  True,  True,\n",
      "          True,  True,  True,  True,  True,  True,  True,  True,  True,  True],\n",
      "        [False, False, False, False, False, False, False, False, False, False,\n",
      "         False, False, False, False, False,  True,  True,  True,  True,  True],\n",
      "        [False, False, False, False, False, False, False,  True,  True,  True,\n",
      "          True,  True,  True,  True,  True,  True,  True,  True,  True,  True],\n",
      "        [False, False, False,  True,  True,  True,  True,  True,  True,  True,\n",
      "          True,  True,  True,  True,  True,  True,  True,  True,  True,  True],\n",
      "        [False, False, False, False, False, False, False,  True,  True,  True,\n",
      "          True,  True,  True,  True,  True,  True,  True,  True,  True,  True],\n",
      "        [False, False, False,  True,  True,  True,  True,  True,  True,  True,\n",
      "          True,  True,  True,  True,  True,  True,  True,  True,  True,  True]])\n"
     ]
    }
   ],
   "source": [
    "sample = get_sample()"
   ]
  },
  {
   "cell_type": "code",
   "execution_count": 11,
   "metadata": {},
   "outputs": [
    {
     "data": {
      "text/plain": [
       "(ModelInput(numerical=tensor([[[ 8.,  6., 18.,  ..., 16., 16.,  0.],\n",
       "          [ 9., 12.,  6.,  ...,  0.,  0.,  0.],\n",
       "          [ 4., 16.,  3.,  ..., 16., 16.,  0.],\n",
       "          ...,\n",
       "          [ 0.,  0.,  0.,  ...,  0.,  0.,  0.],\n",
       "          [ 0.,  0.,  0.,  ...,  0.,  0.,  0.],\n",
       "          [ 0.,  0.,  0.,  ...,  0.,  0.,  0.]],\n",
       " \n",
       "         [[ 9., 15.,  1.,  ...,  0.,  0.,  0.],\n",
       "          [ 9., 15.,  1.,  ...,  0.,  0.,  0.],\n",
       "          [12.,  2.,  1.,  ...,  0.,  0.,  0.],\n",
       "          ...,\n",
       "          [ 0.,  0.,  0.,  ...,  0.,  0.,  0.],\n",
       "          [ 0.,  0.,  0.,  ...,  0.,  0.,  0.],\n",
       "          [ 0.,  0.,  0.,  ...,  0.,  0.,  0.]],\n",
       " \n",
       "         [[16.,  6.,  8.,  ...,  0.,  0.,  0.],\n",
       "          [ 2., 10., 16.,  ...,  0.,  0.,  0.],\n",
       "          [ 4.,  5.,  7.,  ...,  0.,  0.,  0.],\n",
       "          ...,\n",
       "          [ 0.,  0.,  0.,  ...,  0.,  0.,  0.],\n",
       "          [ 0.,  0.,  0.,  ...,  0.,  0.,  0.],\n",
       "          [ 0.,  0.,  0.,  ...,  0.,  0.,  0.]],\n",
       " \n",
       "         ...,\n",
       " \n",
       "         [[15., 13.,  6.,  ...,  0.,  8.,  8.],\n",
       "          [ 9., 12., 12.,  ..., 25., 33., 17.],\n",
       "          [ 0.,  8., 14.,  ...,  9., 17., 17.],\n",
       "          ...,\n",
       "          [ 0.,  0.,  0.,  ...,  0.,  0.,  0.],\n",
       "          [ 0.,  0.,  0.,  ...,  0.,  0.,  0.],\n",
       "          [ 0.,  0.,  0.,  ...,  0.,  0.,  0.]],\n",
       " \n",
       "         [[12., 15.,  8.,  ...,  0.,  0.,  0.],\n",
       "          [12., 15.,  4.,  ...,  0.,  0.,  0.],\n",
       "          [ 3.,  3.,  4.,  ...,  0.,  0.,  0.],\n",
       "          ...,\n",
       "          [ 0.,  0.,  0.,  ...,  0.,  0.,  0.],\n",
       "          [ 0.,  0.,  0.,  ...,  0.,  0.,  0.],\n",
       "          [ 0.,  0.,  0.,  ...,  0.,  0.,  0.]],\n",
       " \n",
       "         [[13.,  0.,  6.,  ..., 16., 16.,  0.],\n",
       "          [ 4.,  8.,  6.,  ..., 16., 16.,  0.],\n",
       "          [13.,  0., 12.,  ...,  0.,  0.,  0.],\n",
       "          ...,\n",
       "          [ 0.,  0.,  0.,  ...,  0.,  0.,  0.],\n",
       "          [ 0.,  0.,  0.,  ...,  0.,  0.,  0.],\n",
       "          [ 0.,  0.,  0.,  ...,  0.,  0.,  0.]]]), categorical=tensor([[[0, 0, 1,  ..., 0, 0, 0],\n",
       "          [0, 0, 1,  ..., 0, 0, 0],\n",
       "          [4, 0, 1,  ..., 0, 0, 0],\n",
       "          ...,\n",
       "          [0, 0, 0,  ..., 0, 0, 0],\n",
       "          [0, 0, 0,  ..., 0, 0, 0],\n",
       "          [0, 0, 0,  ..., 0, 0, 0]],\n",
       " \n",
       "         [[0, 0, 0,  ..., 0, 0, 0],\n",
       "          [0, 0, 0,  ..., 0, 0, 0],\n",
       "          [1, 0, 0,  ..., 0, 0, 0],\n",
       "          ...,\n",
       "          [0, 0, 0,  ..., 0, 0, 0],\n",
       "          [0, 0, 0,  ..., 0, 0, 0],\n",
       "          [0, 0, 0,  ..., 0, 0, 0]],\n",
       " \n",
       "         [[3, 0, 0,  ..., 0, 0, 0],\n",
       "          [2, 0, 0,  ..., 0, 0, 0],\n",
       "          [3, 0, 0,  ..., 0, 0, 0],\n",
       "          ...,\n",
       "          [0, 0, 0,  ..., 0, 0, 0],\n",
       "          [0, 0, 0,  ..., 0, 0, 0],\n",
       "          [0, 0, 0,  ..., 0, 0, 0]],\n",
       " \n",
       "         ...,\n",
       " \n",
       "         [[0, 0, 2,  ..., 0, 0, 1],\n",
       "          [0, 0, 0,  ..., 1, 1, 1],\n",
       "          [0, 0, 0,  ..., 1, 1, 1],\n",
       "          ...,\n",
       "          [0, 0, 0,  ..., 0, 0, 0],\n",
       "          [0, 0, 0,  ..., 0, 0, 0],\n",
       "          [0, 0, 0,  ..., 0, 0, 0]],\n",
       " \n",
       "         [[0, 0, 0,  ..., 0, 0, 0],\n",
       "          [0, 0, 0,  ..., 0, 0, 0],\n",
       "          [0, 0, 0,  ..., 0, 0, 0],\n",
       "          ...,\n",
       "          [0, 0, 0,  ..., 0, 0, 0],\n",
       "          [0, 0, 0,  ..., 0, 0, 0],\n",
       "          [0, 0, 0,  ..., 0, 0, 0]],\n",
       " \n",
       "         [[0, 0, 1,  ..., 0, 0, 0],\n",
       "          [4, 0, 0,  ..., 0, 0, 0],\n",
       "          [1, 1, 0,  ..., 0, 0, 0],\n",
       "          ...,\n",
       "          [0, 0, 0,  ..., 0, 0, 0],\n",
       "          [0, 0, 0,  ..., 0, 0, 0],\n",
       "          [0, 0, 0,  ..., 0, 0, 0]]]), mask=tensor([[False, False, False, False, False, False, False, False, False, False,\n",
       "          False, False,  True,  True,  True,  True,  True,  True,  True,  True],\n",
       "         [False, False, False, False, False, False, False, False,  True,  True,\n",
       "           True,  True,  True,  True,  True,  True,  True,  True,  True,  True],\n",
       "         [False, False, False, False, False, False, False, False, False,  True,\n",
       "           True,  True,  True,  True,  True,  True,  True,  True,  True,  True],\n",
       "         [False, False, False, False, False, False, False, False, False, False,\n",
       "           True,  True,  True,  True,  True,  True,  True,  True,  True,  True],\n",
       "         [False, False, False, False, False,  True,  True,  True,  True,  True,\n",
       "           True,  True,  True,  True,  True,  True,  True,  True,  True,  True],\n",
       "         [False, False, False,  True,  True,  True,  True,  True,  True,  True,\n",
       "           True,  True,  True,  True,  True,  True,  True,  True,  True,  True],\n",
       "         [False, False, False, False,  True,  True,  True,  True,  True,  True,\n",
       "           True,  True,  True,  True,  True,  True,  True,  True,  True,  True],\n",
       "         [False, False, False, False, False,  True,  True,  True,  True,  True,\n",
       "           True,  True,  True,  True,  True,  True,  True,  True,  True,  True],\n",
       "         [False, False,  True,  True,  True,  True,  True,  True,  True,  True,\n",
       "           True,  True,  True,  True,  True,  True,  True,  True,  True,  True],\n",
       "         [False,  True,  True,  True,  True,  True,  True,  True,  True,  True,\n",
       "           True,  True,  True,  True,  True,  True,  True,  True,  True,  True],\n",
       "         [False, False, False, False, False, False, False, False, False, False,\n",
       "          False, False, False, False, False,  True,  True,  True,  True,  True],\n",
       "         [False, False, False, False, False, False, False, False, False, False,\n",
       "          False, False,  True,  True,  True,  True,  True,  True,  True,  True],\n",
       "         [False, False, False, False, False, False,  True,  True,  True,  True,\n",
       "           True,  True,  True,  True,  True,  True,  True,  True,  True,  True],\n",
       "         [False, False, False, False, False,  True,  True,  True,  True,  True,\n",
       "           True,  True,  True,  True,  True,  True,  True,  True,  True,  True],\n",
       "         [False, False, False, False, False, False, False, False, False, False,\n",
       "           True,  True,  True,  True,  True,  True,  True,  True,  True,  True],\n",
       "         [False, False, False,  True,  True,  True,  True,  True,  True,  True,\n",
       "           True,  True,  True,  True,  True,  True,  True,  True,  True,  True],\n",
       "         [False, False, False,  True,  True,  True,  True,  True,  True,  True,\n",
       "           True,  True,  True,  True,  True,  True,  True,  True,  True,  True],\n",
       "         [False, False, False, False, False, False,  True,  True,  True,  True,\n",
       "           True,  True,  True,  True,  True,  True,  True,  True,  True,  True],\n",
       "         [False, False, False, False, False, False, False,  True,  True,  True,\n",
       "           True,  True,  True,  True,  True,  True,  True,  True,  True,  True],\n",
       "         [False, False, False, False, False, False, False, False, False, False,\n",
       "          False, False, False, False, False, False, False, False,  True,  True],\n",
       "         [False, False, False, False, False, False, False, False,  True,  True,\n",
       "           True,  True,  True,  True,  True,  True,  True,  True,  True,  True],\n",
       "         [False,  True,  True,  True,  True,  True,  True,  True,  True,  True,\n",
       "           True,  True,  True,  True,  True,  True,  True,  True,  True,  True],\n",
       "         [False, False, False, False, False, False, False,  True,  True,  True,\n",
       "           True,  True,  True,  True,  True,  True,  True,  True,  True,  True],\n",
       "         [False, False, False, False, False, False, False,  True,  True,  True,\n",
       "           True,  True,  True,  True,  True,  True,  True,  True,  True,  True],\n",
       "         [False, False, False, False, False, False, False, False, False, False,\n",
       "          False, False, False, False, False, False, False, False, False, False],\n",
       "         [False, False, False, False, False, False, False, False, False,  True,\n",
       "           True,  True,  True,  True,  True,  True,  True,  True,  True,  True],\n",
       "         [False, False,  True,  True,  True,  True,  True,  True,  True,  True,\n",
       "           True,  True,  True,  True,  True,  True,  True,  True,  True,  True],\n",
       "         [False, False, False, False, False, False, False, False, False, False,\n",
       "          False, False, False, False, False,  True,  True,  True,  True,  True],\n",
       "         [False, False, False, False, False, False, False,  True,  True,  True,\n",
       "           True,  True,  True,  True,  True,  True,  True,  True,  True,  True],\n",
       "         [False, False, False,  True,  True,  True,  True,  True,  True,  True,\n",
       "           True,  True,  True,  True,  True,  True,  True,  True,  True,  True],\n",
       "         [False, False, False, False, False, False, False,  True,  True,  True,\n",
       "           True,  True,  True,  True,  True,  True,  True,  True,  True,  True],\n",
       "         [False, False, False,  True,  True,  True,  True,  True,  True,  True,\n",
       "           True,  True,  True,  True,  True,  True,  True,  True,  True,  True]])),\n",
       " None)"
      ]
     },
     "metadata": {},
     "output_type": "display_data"
    }
   ],
   "source": [
    "d(sample)"
   ]
  },
  {
   "cell_type": "code",
   "execution_count": 12,
   "metadata": {},
   "outputs": [
    {
     "data": {
      "text/plain": [
       "torch.Size([32, 20, 15])"
      ]
     },
     "metadata": {},
     "output_type": "display_data"
    }
   ],
   "source": [
    "d(sample[0].numerical.size())"
   ]
  },
  {
   "cell_type": "code",
   "execution_count": 13,
   "metadata": {},
   "outputs": [
    {
     "data": {
      "text/plain": [
       "torch.Size([32])"
      ]
     },
     "metadata": {},
     "output_type": "display_data"
    }
   ],
   "source": [
    "d((~sample[0].mask).sum(dim=1).size())"
   ]
  },
  {
   "cell_type": "code",
   "execution_count": 14,
   "metadata": {},
   "outputs": [
    {
     "data": {
      "text/plain": [
       "tensor([[[ 8.,  9.,  4.,  ...,  0.,  0.,  0.],\n",
       "         [ 6., 12., 16.,  ...,  0.,  0.,  0.],\n",
       "         [18.,  6.,  3.,  ...,  0.,  0.,  0.],\n",
       "         ...,\n",
       "         [16.,  0., 16.,  ...,  0.,  0.,  0.],\n",
       "         [16.,  0., 16.,  ...,  0.,  0.,  0.],\n",
       "         [ 0.,  0.,  0.,  ...,  0.,  0.,  0.]],\n",
       "\n",
       "        [[ 9.,  9., 12.,  ...,  0.,  0.,  0.],\n",
       "         [15., 15.,  2.,  ...,  0.,  0.,  0.],\n",
       "         [ 1.,  1.,  1.,  ...,  0.,  0.,  0.],\n",
       "         ...,\n",
       "         [ 0.,  0.,  0.,  ...,  0.,  0.,  0.],\n",
       "         [ 0.,  0.,  0.,  ...,  0.,  0.,  0.],\n",
       "         [ 0.,  0.,  0.,  ...,  0.,  0.,  0.]],\n",
       "\n",
       "        [[16.,  2.,  4.,  ...,  0.,  0.,  0.],\n",
       "         [ 6., 10.,  5.,  ...,  0.,  0.,  0.],\n",
       "         [ 8., 16.,  7.,  ...,  0.,  0.,  0.],\n",
       "         ...,\n",
       "         [ 0.,  0.,  0.,  ...,  0.,  0.,  0.],\n",
       "         [ 0.,  0.,  0.,  ...,  0.,  0.,  0.],\n",
       "         [ 0.,  0.,  0.,  ...,  0.,  0.,  0.]],\n",
       "\n",
       "        ...,\n",
       "\n",
       "        [[15.,  9.,  0.,  ...,  0.,  0.,  0.],\n",
       "         [13., 12.,  8.,  ...,  0.,  0.,  0.],\n",
       "         [ 6., 12., 14.,  ...,  0.,  0.,  0.],\n",
       "         ...,\n",
       "         [ 0., 25.,  9.,  ...,  0.,  0.,  0.],\n",
       "         [ 8., 33., 17.,  ...,  0.,  0.,  0.],\n",
       "         [ 8., 17., 17.,  ...,  0.,  0.,  0.]],\n",
       "\n",
       "        [[12., 12.,  3.,  ...,  0.,  0.,  0.],\n",
       "         [15., 15.,  3.,  ...,  0.,  0.,  0.],\n",
       "         [ 8.,  4.,  4.,  ...,  0.,  0.,  0.],\n",
       "         ...,\n",
       "         [ 0.,  0.,  0.,  ...,  0.,  0.,  0.],\n",
       "         [ 0.,  0.,  0.,  ...,  0.,  0.,  0.],\n",
       "         [ 0.,  0.,  0.,  ...,  0.,  0.,  0.]],\n",
       "\n",
       "        [[13.,  4., 13.,  ...,  0.,  0.,  0.],\n",
       "         [ 0.,  8.,  0.,  ...,  0.,  0.,  0.],\n",
       "         [ 6.,  6., 12.,  ...,  0.,  0.,  0.],\n",
       "         ...,\n",
       "         [16., 16.,  0.,  ...,  0.,  0.,  0.],\n",
       "         [16., 16.,  0.,  ...,  0.,  0.,  0.],\n",
       "         [ 0.,  0.,  0.,  ...,  0.,  0.,  0.]]])"
      ]
     },
     "metadata": {},
     "output_type": "display_data"
    }
   ],
   "source": [
    "d(rearrange(sample[0].numerical, \"N L H -> N H L\"))"
   ]
  },
  {
   "cell_type": "markdown",
   "metadata": {},
   "source": [
    "## Model layers check"
   ]
  },
  {
   "cell_type": "code",
   "execution_count": 15,
   "metadata": {},
   "outputs": [],
   "source": [
    "EMB_DIM = 16"
   ]
  },
  {
   "cell_type": "code",
   "execution_count": 16,
   "metadata": {},
   "outputs": [],
   "source": [
    "class EmbeddingLayer(nn.Module):\n",
    "    def __init__(\n",
    "            self,\n",
    "            categorical_features: dict\n",
    "        ) -> None:\n",
    "        super(EmbeddingLayer, self).__init__()\n",
    "\n",
    "        self.categorical_features = categorical_features\n",
    "\n",
    "        self.embeddings = nn.ModuleList()\n",
    "\n",
    "        for vocab_size, emb_dim in self.categorical_features.values():\n",
    "\n",
    "            embedding = nn.Embedding(\n",
    "                num_embeddings=vocab_size, \n",
    "                embedding_dim=emb_dim\n",
    "            )\n",
    "\n",
    "            nn.init.xavier_normal_(embedding.weight, gain=nn.init.calculate_gain('relu'))\n",
    "\n",
    "            self.embeddings.append(embedding)\n",
    "\n",
    "\n",
    "    def forward(self, x: torch.Tensor) -> torch.Tensor:\n",
    "        \n",
    "        x = torch.concatenate(\n",
    "            [embedding(x[..., idx]) for idx, embedding in enumerate(self.embeddings)], dim=-1\n",
    "        ) # size = (B, L, first_emb_dim)\n",
    "        \n",
    "        return x\n",
    "\n",
    "    \n",
    "class EncoderLayer(nn.Module):\n",
    "    def __init__(\n",
    "            self,\n",
    "            numerical_features: List[str],\n",
    "            categorical_features: Dict[str, List[int]],\n",
    "            embedding_dim: int = 16,\n",
    "            dropout_inputs: float = 0.5,\n",
    "            non_linear: bool = False,\n",
    "            num_batch_norm: bool = True\n",
    "        ) -> None:\n",
    "        super(EncoderLayer, self).__init__()\n",
    "\n",
    "        self.dropout = nn.Dropout(p=dropout_inputs)\n",
    "\n",
    "        self.numerical_features = numerical_features\n",
    "        self.categorical_features = categorical_features\n",
    "\n",
    "        _first_emb_dim = sum([shape[-1] for shape in self.categorical_features.values()])\n",
    "\n",
    "        self.embeddings = EmbeddingLayer(\n",
    "            categorical_features=categorical_features\n",
    "        )\n",
    "\n",
    "        if non_linear:\n",
    "            self.out_linear_block = nn.Sequential(\n",
    "                nn.Linear(\n",
    "                    _first_emb_dim + len(self.numerical_features), \n",
    "                    embedding_dim\n",
    "                ),\n",
    "                nn.ReLU(),\n",
    "\n",
    "                nn.Linear(embedding_dim, embedding_dim)\n",
    "            )\n",
    "        else:\n",
    "            self.out_linear_block = nn.Linear(\n",
    "                _first_emb_dim + len(self.numerical_features), \n",
    "                embedding_dim\n",
    "            )\n",
    "\n",
    "        if num_batch_norm:\n",
    "            self.num_bn = nn.BatchNorm1d(len(self.numerical_features))\n",
    "        else: \n",
    "            self.num_bn = None\n",
    "\n",
    "\n",
    "    def forward(self, inputs: ModelInput) -> SingleForwardState:\n",
    "\n",
    "        embeddings = self.embeddings(inputs.categorical)\n",
    "\n",
    "        if self.num_bn is None:\n",
    "            x_num = inputs.numerical\n",
    "        else:\n",
    "            x_num = rearrange(inputs.numerical, \"N L H -> N H L\")\n",
    "\n",
    "            x_num = self.num_bn(x_num)\n",
    "\n",
    "            x_num = rearrange(x_num, \"N H L -> N L H\")\n",
    "\n",
    "        x = torch.concatenate((x_num, embeddings), dim=-1)\n",
    "\n",
    "        x = self.dropout(x)\n",
    "        x = self.out_linear_block(x)\n",
    "\n",
    "        return SingleForwardState(\n",
    "            sequences=x, \n",
    "            mask=inputs.mask\n",
    "        )"
   ]
  },
  {
   "cell_type": "code",
   "execution_count": 17,
   "metadata": {},
   "outputs": [],
   "source": [
    "enc = EncoderLayer(\n",
    "    numerical_features=features_dict[\"numerical\"],\n",
    "    categorical_features=features_dict[\"categorical\"],\n",
    "    embedding_dim=EMB_DIM,\n",
    "    dropout_inputs=0.3\n",
    ")"
   ]
  },
  {
   "cell_type": "code",
   "execution_count": 21,
   "metadata": {},
   "outputs": [],
   "source": [
    "x_enc = enc(sample[0])"
   ]
  },
  {
   "cell_type": "code",
   "execution_count": 19,
   "metadata": {},
   "outputs": [
    {
     "name": "stdout",
     "output_type": "stream",
     "text": [
      "tensor([[False, False, False,  ...,  True,  True,  True],\n",
      "        [False, False, False,  ...,  True,  True,  True],\n",
      "        [False, False, False,  ...,  True,  True,  True],\n",
      "        ...,\n",
      "        [False, False,  True,  ...,  True,  True,  True],\n",
      "        [False, False, False,  ...,  True,  True,  True],\n",
      "        [False, False, False,  ...,  True,  True,  True]])\n"
     ]
    }
   ],
   "source": [
    "x_enc = enc(next(iter(test_dataloader)))"
   ]
  },
  {
   "cell_type": "code",
   "execution_count": 22,
   "metadata": {},
   "outputs": [
    {
     "data": {
      "text/plain": [
       "torch.Size([32, 20, 16])"
      ]
     },
     "metadata": {},
     "output_type": "display_data"
    }
   ],
   "source": [
    "d(x_enc.sequences.size())"
   ]
  },
  {
   "cell_type": "code",
   "execution_count": 69,
   "metadata": {},
   "outputs": [],
   "source": [
    "class PositionalEncoding(nn.Module):\n",
    "    \"Implement the PE function.\"\n",
    "    def __init__(self, d_model: int, dropout: float = 0.1, max_len: int = 40, encoding_capacity: float = 10_000.0):\n",
    "        super().__init__()\n",
    "\n",
    "        self.dropout = nn.Dropout(p=dropout)\n",
    "        \n",
    "        encoding_capacity = torch.tensor(encoding_capacity)\n",
    "\n",
    "        pe = torch.zeros(max_len, d_model)\n",
    "        position = torch.arange(0, max_len).unsqueeze(1)\n",
    "\n",
    "        div_term = torch.exp(-torch.arange(0, d_model, 2) * torch.log(encoding_capacity) / d_model)\n",
    "        \n",
    "        pe[:, 0::2] = torch.sin(position * div_term)\n",
    "        pe[:, 1::2] = torch.cos(position * div_term)\n",
    "\n",
    "        self.pe = pe.unsqueeze(0)\n",
    "        \n",
    "\n",
    "    def forward(self, x):\n",
    "        x = x + self.pe[:, :x.size(1)]\n",
    "\n",
    "        return self.dropout(x)"
   ]
  },
  {
   "cell_type": "code",
   "execution_count": 70,
   "metadata": {},
   "outputs": [],
   "source": [
    "check_pe = PositionalEncoding(EMB_DIM, 0.0, 20)(x_enc.sequences)"
   ]
  },
  {
   "cell_type": "code",
   "execution_count": 71,
   "metadata": {},
   "outputs": [
    {
     "data": {
      "image/png": "[encoded data removed]",
      "text/plain": [
       "<Figure size 640x480 with 1 Axes>"
      ]
     },
     "metadata": {},
     "output_type": "display_data"
    }
   ],
   "source": [
    "for i in range(20):\n",
    "    plt.plot(range(16), check_pe[-1, i, :].detach())\n",
    "plt.show()"
   ]
  },
  {
   "cell_type": "code",
   "execution_count": 72,
   "metadata": {},
   "outputs": [
    {
     "data": {
      "text/plain": [
       "torch.Size([1024, 20, 16])"
      ]
     },
     "metadata": {},
     "output_type": "display_data"
    }
   ],
   "source": [
    "d(check_pe.size())"
   ]
  },
  {
   "cell_type": "code",
   "execution_count": 73,
   "metadata": {},
   "outputs": [
    {
     "data": {
      "text/plain": [
       "tensor([[False, False, False,  ...,  True,  True,  True],\n",
       "        [False, False, False,  ...,  True,  True,  True],\n",
       "        [False, False, False,  ...,  True,  True,  True],\n",
       "        ...,\n",
       "        [False, False,  True,  ...,  True,  True,  True],\n",
       "        [False, False, False,  ...,  True,  True,  True],\n",
       "        [False, False, False,  ...,  True,  True,  True]])"
      ]
     },
     "metadata": {},
     "output_type": "display_data"
    }
   ],
   "source": [
    "d(x_enc.mask)"
   ]
  },
  {
   "cell_type": "code",
   "execution_count": 74,
   "metadata": {},
   "outputs": [
    {
     "data": {
      "text/plain": [
       "torch.Size([1024, 20, 16])"
      ]
     },
     "metadata": {},
     "output_type": "display_data"
    }
   ],
   "source": [
    "d(x_enc.sequences.size())"
   ]
  },
  {
   "cell_type": "code",
   "execution_count": 75,
   "metadata": {},
   "outputs": [
    {
     "data": {
      "text/plain": [
       "torch.Size([32, 20, 22])"
      ]
     },
     "metadata": {},
     "output_type": "display_data"
    }
   ],
   "source": [
    "d(sample[0].categorical.size())"
   ]
  },
  {
   "cell_type": "code",
   "execution_count": 78,
   "metadata": {},
   "outputs": [
    {
     "data": {
      "text/plain": [
       "<matplotlib.image.AxesImage at 0x7efe8be2aa90>"
      ]
     },
     "execution_count": 78,
     "metadata": {},
     "output_type": "execute_result"
    },
    {
     "data": {
      "image/png": "[encoded data removed]",
      "text/plain": [
       "<Figure size 1800x1000 with 2 Axes>"
      ]
     },
     "metadata": {},
     "output_type": "display_data"
    }
   ],
   "source": [
    "figure = plt.figure(figsize=(18, 10))\n",
    "\n",
    "ax = figure.add_subplot(2, 2, 1)\n",
    "ax.imshow(sample[0].categorical[0])\n",
    "\n",
    "ax = figure.add_subplot(2, 1, 1)\n",
    "ax.imshow(x_enc.sequences[0].detach())"
   ]
  },
  {
   "cell_type": "code",
   "execution_count": 26,
   "metadata": {},
   "outputs": [],
   "source": [
    "from src.models.components.base_transformer.encoder_decoder import Encoder, LUNAEncoder\n",
    "from src.models.components.base_transformer.sub_layers import EncoderLayer, LUNAEncoderLayer\n",
    "from src.models.components.base_transformer.multihead_attention import MultiHeadAttention, LinearUnifiedNestedAttention\n",
    "from src.models.components.base_transformer.positionwise_ff import PositionwiseFeedForward\n",
    "from src.models.components.base_transformer.transformer import BaseTransformer\n",
    "from src.models.components.pooling.agg_pooling import ConvPooling"
   ]
  },
  {
   "cell_type": "code",
   "execution_count": 27,
   "metadata": {},
   "outputs": [],
   "source": [
    "EMB_DIM = 16"
   ]
  },
  {
   "cell_type": "code",
   "execution_count": 29,
   "metadata": {},
   "outputs": [],
   "source": [
    "attn = BaseTransformer(\n",
    "    encoder=LUNAEncoder(\n",
    "        luna_encoder_layer=LUNAEncoderLayer(\n",
    "            luna=LinearUnifiedNestedAttention(EMB_DIM, 4),\n",
    "            feed_forward=PositionwiseFeedForward(EMB_DIM, activation_type=\"relu\")\n",
    "        ),\n",
    "        n_layers=1, \n",
    "        n_aggregates=8\n",
    "    )\n",
    ")"
   ]
  },
  {
   "cell_type": "code",
   "execution_count": 30,
   "metadata": {},
   "outputs": [
    {
     "data": {
      "text/plain": [
       "BaseTransformer(\n",
       "  (encoder): LUNAEncoder(\n",
       "    (layers): ModuleList(\n",
       "      (0): LUNAEncoderLayer(\n",
       "        (luna_layer): LinearUnifiedNestedAttention(\n",
       "          (pack_attention): MultiHeadAttention(\n",
       "            (linears): ModuleList(\n",
       "              (0-2): 3 x Linear(in_features=16, out_features=64, bias=True)\n",
       "            )\n",
       "            (attention): ScaledDotProductAttention(\n",
       "              (softmax_dropout): Sequential(\n",
       "                (0): Softmax(dim=-1)\n",
       "                (1): Dropout(p=0.1, inplace=False)\n",
       "              )\n",
       "            )\n",
       "            (out_block): Linear(in_features=64, out_features=16, bias=True)\n",
       "          )\n",
       "          (unpack_attention): MultiHeadAttention(\n",
       "            (linears): ModuleList(\n",
       "              (0-2): 3 x Linear(in_features=16, out_features=64, bias=True)\n",
       "            )\n",
       "            (attention): ScaledDotProductAttention(\n",
       "              (softmax_dropout): Sequential(\n",
       "                (0): Softmax(dim=-1)\n",
       "                (1): Dropout(p=0.1, inplace=False)\n",
       "              )\n",
       "            )\n",
       "            (out_block): Linear(in_features=64, out_features=16, bias=True)\n",
       "          )\n",
       "        )\n",
       "        (ff_layer): PositionwiseFeedForward(\n",
       "          (position_wise_ff): Sequential(\n",
       "            (0): Linear(in_features=16, out_features=32, bias=True)\n",
       "            (1): ReLU()\n",
       "            (2): Linear(in_features=32, out_features=16, bias=True)\n",
       "          )\n",
       "        )\n",
       "        (sub_layers): ModuleDict(\n",
       "          (luna): LUNASubLayer(\n",
       "            (main_layer_norm): LayerNorm((16,), eps=1e-05, elementwise_affine=True)\n",
       "            (agg_layer_norm): LayerNorm((16,), eps=1e-05, elementwise_affine=True)\n",
       "            (main_dropout): Dropout(p=0.3, inplace=False)\n",
       "            (agg_dropout): Dropout(p=0.3, inplace=False)\n",
       "          )\n",
       "          (feed_forward): SubLayer(\n",
       "            (layer_norm): LayerNorm((16,), eps=1e-05, elementwise_affine=True)\n",
       "            (dropout): Dropout(p=0.3, inplace=False)\n",
       "          )\n",
       "        )\n",
       "      )\n",
       "    )\n",
       "    (main_layer_norm): LayerNorm((16,), eps=1e-05, elementwise_affine=True)\n",
       "    (agg_layer_norm): LayerNorm((16,), eps=1e-05, elementwise_affine=True)\n",
       "  )\n",
       ")"
      ]
     },
     "metadata": {},
     "output_type": "display_data"
    }
   ],
   "source": [
    "d(attn)"
   ]
  },
  {
   "cell_type": "code",
   "execution_count": 31,
   "metadata": {},
   "outputs": [
    {
     "data": {
      "text/plain": [
       "torch.Size([32, 8, 20])"
      ]
     },
     "metadata": {},
     "output_type": "display_data"
    }
   ],
   "source": [
    "d(x_enc.mask.unsqueeze(dim=1).expand(-1, 8, -1).size())"
   ]
  },
  {
   "cell_type": "code",
   "execution_count": 32,
   "metadata": {},
   "outputs": [],
   "source": [
    "x_att = attn(x_enc)"
   ]
  },
  {
   "cell_type": "code",
   "execution_count": 33,
   "metadata": {},
   "outputs": [
    {
     "data": {
      "text/plain": [
       "TwoBranchForwardState(main_sequences=tensor([[[ 1.3611,  0.0832, -0.0744,  ...,  0.9655,  1.7528,  0.0542],\n",
       "         [ 0.8668, -1.2089,  1.0553,  ..., -0.0902,  1.0741, -0.1607],\n",
       "         [-0.6727, -0.8110, -1.1850,  ...,  1.4676, -0.2484, -0.2264],\n",
       "         ...,\n",
       "         [ 0.7434, -0.1732,  1.4407,  ...,  0.2397, -0.8051, -0.5337],\n",
       "         [ 0.4985,  0.4036,  1.0414,  ...,  0.3681, -0.5089, -0.0440],\n",
       "         [ 0.5054, -0.4294,  1.6497,  ...,  0.1752, -1.0305, -0.8079]],\n",
       "\n",
       "        [[ 0.6817, -1.4868,  0.5179,  ...,  0.9692,  1.5257,  0.0221],\n",
       "         [ 1.4038, -0.8400, -0.5126,  ..., -0.2851,  0.8719, -1.0414],\n",
       "         [ 0.7904, -0.3992,  0.2973,  ..., -0.2034,  0.8540, -1.0520],\n",
       "         ...,\n",
       "         [ 0.5992, -0.1719,  0.8475,  ...,  0.2535, -0.3783, -0.9963],\n",
       "         [ 0.5261, -0.1780,  0.6483,  ...,  0.0028, -0.1326,  0.4602],\n",
       "         [ 1.0338, -0.8798,  1.1900,  ...,  0.1231, -0.2618, -1.5031]],\n",
       "\n",
       "        [[ 0.9070, -1.3301,  1.3665,  ...,  0.5685,  0.9255, -0.1862],\n",
       "         [-0.0273, -1.1473,  0.5564,  ..., -0.3551,  0.6928, -1.6745],\n",
       "         [ 0.5766, -0.6902,  0.8592,  ..., -0.4521,  1.8555,  0.4991],\n",
       "         ...,\n",
       "         [ 0.9986, -0.5249,  1.2573,  ...,  0.8498, -0.8486, -0.4176],\n",
       "         [ 0.4197, -0.1565,  0.9992,  ...,  0.1196, -0.1325, -0.7154],\n",
       "         [ 0.9348, -0.3034,  1.2883,  ...,  0.7609, -1.0187, -1.1233]],\n",
       "\n",
       "        ...,\n",
       "\n",
       "        [[ 0.2888,  0.2393,  0.0717,  ..., -0.3984,  1.6897, -0.9283],\n",
       "         [-0.1495, -0.1755,  0.0821,  ..., -0.3458,  1.1772,  0.9163],\n",
       "         [-0.7341,  0.6462,  0.1900,  ...,  0.0403,  1.7816,  1.7788],\n",
       "         ...,\n",
       "         [ 0.7164, -0.6658,  1.6702,  ..., -0.3108, -0.9266, -0.0629],\n",
       "         [ 0.6416, -0.7231,  1.4123,  ..., -0.2400, -0.3595, -0.6905],\n",
       "         [ 0.4238, -0.3336,  1.4988,  ...,  0.3541, -0.4534, -0.7941]],\n",
       "\n",
       "        [[ 1.2632, -1.5785,  0.6191,  ...,  0.5053,  1.6109, -1.1084],\n",
       "         [ 0.1624, -1.2121,  1.0454,  ...,  0.0657,  1.2277,  1.4801],\n",
       "         [ 0.5086, -1.0725,  0.4010,  ..., -0.0474,  0.6465, -0.2809],\n",
       "         ...,\n",
       "         [ 0.8059, -0.6680,  0.8638,  ...,  0.1267, -1.5252, -0.3908],\n",
       "         [ 0.7382,  0.0111,  0.6173,  ...,  0.0881,  0.0043,  0.3959],\n",
       "         [ 1.3839, -0.9799,  0.3123,  ..., -0.0836, -0.6302, -1.1999]],\n",
       "\n",
       "        [[-0.1274, -2.2410, -0.6444,  ...,  1.7603,  0.6689, -0.7361],\n",
       "         [-0.0475, -0.5466, -0.2910,  ...,  0.2749,  1.3960, -0.0164],\n",
       "         [ 0.8587, -1.4690,  1.1711,  ...,  0.2154,  0.6954, -0.0424],\n",
       "         ...,\n",
       "         [ 1.1794, -0.4616,  1.6245,  ..., -0.4104, -0.0407,  0.2089],\n",
       "         [ 1.8109,  0.2647,  1.1138,  ..., -0.0077, -0.0992, -0.1896],\n",
       "         [ 1.4729, -0.2543,  1.4677,  ...,  0.1742, -0.3574, -0.1463]]],\n",
       "       grad_fn=<NativeLayerNormBackward0>), aggregates=tensor([[[-1.4741,  1.3593, -0.4722,  ..., -1.1544,  1.0765, -0.1521],\n",
       "         [ 0.0703,  1.3604, -0.8702,  ..., -1.1924,  0.9116,  0.6362],\n",
       "         [ 0.2234, -0.4712, -0.1485,  ..., -1.4219,  0.8342, -0.3135],\n",
       "         ...,\n",
       "         [ 1.0521, -0.2204,  1.3488,  ..., -1.1955,  1.1570,  0.2368],\n",
       "         [ 0.1059,  1.4089,  0.9674,  ..., -2.0537,  0.4995,  0.4116],\n",
       "         [-0.7546,  1.9293, -0.7117,  ...,  0.6027,  0.8311, -0.2150]],\n",
       "\n",
       "        [[-1.7244,  1.0245, -0.4921,  ..., -0.4409,  0.9709, -0.0494],\n",
       "         [ 0.1094,  1.4576, -1.3618,  ..., -1.2087,  1.0279,  0.4965],\n",
       "         [ 1.1498,  0.6686, -0.5502,  ..., -0.5755, -0.4431, -1.5989],\n",
       "         ...,\n",
       "         [-0.2426,  1.1872,  0.8183,  ..., -1.7011,  0.8453, -0.2311],\n",
       "         [-0.0850,  0.9957,  0.4440,  ..., -1.9552,  0.4021, -0.1217],\n",
       "         [-0.9809,  2.1191, -0.8332,  ..., -0.1246,  0.9975, -0.3012]],\n",
       "\n",
       "        [[-1.9883,  1.4065, -0.0280,  ...,  0.5149,  0.0709,  0.0287],\n",
       "         [-1.2118,  0.1780, -0.6398,  ...,  0.1795,  1.0991,  0.5830],\n",
       "         [-0.2432, -0.4879,  0.4978,  ..., -1.4717,  0.9695, -0.3082],\n",
       "         ...,\n",
       "         [-0.1937,  1.5227,  1.6473,  ..., -1.5816,  0.6746,  0.0500],\n",
       "         [-1.5529,  1.7103,  1.3756,  ..., -0.9811,  0.2883,  0.3993],\n",
       "         [-1.2699,  2.1409, -0.3165,  ...,  0.6177,  0.0241, -0.0790]],\n",
       "\n",
       "        ...,\n",
       "\n",
       "        [[-1.0762, -0.3680, -0.2798,  ..., -0.8033,  1.0423, -0.3539],\n",
       "         [ 0.0114, -0.0167, -1.0170,  ..., -1.1988,  1.0298,  0.3791],\n",
       "         [ 0.0282, -0.5625,  0.1783,  ..., -1.3032,  0.6627, -0.6512],\n",
       "         ...,\n",
       "         [-0.0109,  1.2557,  1.6454,  ..., -1.7061,  0.6700, -0.2911],\n",
       "         [ 0.0662,  1.5026,  0.9678,  ..., -0.8146, -0.3801,  0.5652],\n",
       "         [-1.5552,  2.5902, -0.8025,  ...,  0.7303,  0.7862, -0.4944]],\n",
       "\n",
       "        [[-1.5383,  1.1778, -0.4263,  ..., -0.4755,  0.9674, -0.2719],\n",
       "         [-0.6616,  1.3099, -1.0518,  ..., -0.9107,  1.1290,  0.3427],\n",
       "         [ 0.1116, -1.0672, -0.6017,  ..., -0.4896,  1.3059, -1.7653],\n",
       "         ...,\n",
       "         [ 0.0553,  1.1967,  1.5898,  ..., -2.0764,  0.8886, -0.2342],\n",
       "         [-0.9094,  1.3085,  0.5431,  ..., -2.2059,  0.1914,  0.4214],\n",
       "         [-1.0991,  1.9757, -0.7734,  ...,  0.5960,  0.8004, -0.4180]],\n",
       "\n",
       "        [[-1.5223, -0.5892, -0.8853,  ..., -1.5790,  1.1157, -0.1887],\n",
       "         [-0.6683,  0.0688, -1.4467,  ..., -1.1980,  1.4033,  0.5487],\n",
       "         [ 0.1204,  0.6276, -0.3494,  ..., -0.3682,  0.4505, -0.7293],\n",
       "         ...,\n",
       "         [ 0.9512, -0.6881,  1.1805,  ..., -0.2545,  0.4935, -0.2897],\n",
       "         [-0.8950,  1.2865,  0.4749,  ..., -1.2035,  0.1880,  0.2590],\n",
       "         [-0.8896,  1.1202, -0.8189,  ...,  0.0148,  1.0368, -0.2117]]],\n",
       "       grad_fn=<NativeLayerNormBackward0>), mask=tensor([[False, False, False, False, False, False, False, False, False, False,\n",
       "         False, False,  True,  True,  True,  True,  True,  True,  True,  True],\n",
       "        [False, False, False, False, False, False, False, False,  True,  True,\n",
       "          True,  True,  True,  True,  True,  True,  True,  True,  True,  True],\n",
       "        [False, False, False, False, False, False, False, False, False,  True,\n",
       "          True,  True,  True,  True,  True,  True,  True,  True,  True,  True],\n",
       "        [False, False, False, False, False, False, False, False, False, False,\n",
       "          True,  True,  True,  True,  True,  True,  True,  True,  True,  True],\n",
       "        [False, False, False, False, False,  True,  True,  True,  True,  True,\n",
       "          True,  True,  True,  True,  True,  True,  True,  True,  True,  True],\n",
       "        [False, False, False,  True,  True,  True,  True,  True,  True,  True,\n",
       "          True,  True,  True,  True,  True,  True,  True,  True,  True,  True],\n",
       "        [False, False, False, False,  True,  True,  True,  True,  True,  True,\n",
       "          True,  True,  True,  True,  True,  True,  True,  True,  True,  True],\n",
       "        [False, False, False, False, False,  True,  True,  True,  True,  True,\n",
       "          True,  True,  True,  True,  True,  True,  True,  True,  True,  True],\n",
       "        [False, False,  True,  True,  True,  True,  True,  True,  True,  True,\n",
       "          True,  True,  True,  True,  True,  True,  True,  True,  True,  True],\n",
       "        [False,  True,  True,  True,  True,  True,  True,  True,  True,  True,\n",
       "          True,  True,  True,  True,  True,  True,  True,  True,  True,  True],\n",
       "        [False, False, False, False, False, False, False, False, False, False,\n",
       "         False, False, False, False, False,  True,  True,  True,  True,  True],\n",
       "        [False, False, False, False, False, False, False, False, False, False,\n",
       "         False, False,  True,  True,  True,  True,  True,  True,  True,  True],\n",
       "        [False, False, False, False, False, False,  True,  True,  True,  True,\n",
       "          True,  True,  True,  True,  True,  True,  True,  True,  True,  True],\n",
       "        [False, False, False, False, False,  True,  True,  True,  True,  True,\n",
       "          True,  True,  True,  True,  True,  True,  True,  True,  True,  True],\n",
       "        [False, False, False, False, False, False, False, False, False, False,\n",
       "          True,  True,  True,  True,  True,  True,  True,  True,  True,  True],\n",
       "        [False, False, False,  True,  True,  True,  True,  True,  True,  True,\n",
       "          True,  True,  True,  True,  True,  True,  True,  True,  True,  True],\n",
       "        [False, False, False,  True,  True,  True,  True,  True,  True,  True,\n",
       "          True,  True,  True,  True,  True,  True,  True,  True,  True,  True],\n",
       "        [False, False, False, False, False, False,  True,  True,  True,  True,\n",
       "          True,  True,  True,  True,  True,  True,  True,  True,  True,  True],\n",
       "        [False, False, False, False, False, False, False,  True,  True,  True,\n",
       "          True,  True,  True,  True,  True,  True,  True,  True,  True,  True],\n",
       "        [False, False, False, False, False, False, False, False, False, False,\n",
       "         False, False, False, False, False, False, False, False,  True,  True],\n",
       "        [False, False, False, False, False, False, False, False,  True,  True,\n",
       "          True,  True,  True,  True,  True,  True,  True,  True,  True,  True],\n",
       "        [False,  True,  True,  True,  True,  True,  True,  True,  True,  True,\n",
       "          True,  True,  True,  True,  True,  True,  True,  True,  True,  True],\n",
       "        [False, False, False, False, False, False, False,  True,  True,  True,\n",
       "          True,  True,  True,  True,  True,  True,  True,  True,  True,  True],\n",
       "        [False, False, False, False, False, False, False,  True,  True,  True,\n",
       "          True,  True,  True,  True,  True,  True,  True,  True,  True,  True],\n",
       "        [False, False, False, False, False, False, False, False, False, False,\n",
       "         False, False, False, False, False, False, False, False, False, False],\n",
       "        [False, False, False, False, False, False, False, False, False,  True,\n",
       "          True,  True,  True,  True,  True,  True,  True,  True,  True,  True],\n",
       "        [False, False,  True,  True,  True,  True,  True,  True,  True,  True,\n",
       "          True,  True,  True,  True,  True,  True,  True,  True,  True,  True],\n",
       "        [False, False, False, False, False, False, False, False, False, False,\n",
       "         False, False, False, False, False,  True,  True,  True,  True,  True],\n",
       "        [False, False, False, False, False, False, False,  True,  True,  True,\n",
       "          True,  True,  True,  True,  True,  True,  True,  True,  True,  True],\n",
       "        [False, False, False,  True,  True,  True,  True,  True,  True,  True,\n",
       "          True,  True,  True,  True,  True,  True,  True,  True,  True,  True],\n",
       "        [False, False, False, False, False, False, False,  True,  True,  True,\n",
       "          True,  True,  True,  True,  True,  True,  True,  True,  True,  True],\n",
       "        [False, False, False,  True,  True,  True,  True,  True,  True,  True,\n",
       "          True,  True,  True,  True,  True,  True,  True,  True,  True,  True]]))"
      ]
     },
     "metadata": {},
     "output_type": "display_data"
    }
   ],
   "source": [
    "d(x_att)"
   ]
  },
  {
   "cell_type": "code",
   "execution_count": 44,
   "metadata": {},
   "outputs": [
    {
     "data": {
      "text/plain": [
       "torch.Size([1024, 50, 16])"
      ]
     },
     "metadata": {},
     "output_type": "display_data"
    },
    {
     "data": {
      "text/plain": [
       "torch.Size([1024, 8, 16])"
      ]
     },
     "metadata": {},
     "output_type": "display_data"
    }
   ],
   "source": [
    "d(x_att.main_sequences.size(), x_att.aggregates.size())"
   ]
  },
  {
   "cell_type": "code",
   "execution_count": 33,
   "metadata": {},
   "outputs": [
    {
     "data": {
      "text/plain": [
       "torch.Size([1024, 50, 16])"
      ]
     },
     "metadata": {},
     "output_type": "display_data"
    }
   ],
   "source": [
    "d(x_att.sequences.size())"
   ]
  },
  {
   "cell_type": "code",
   "execution_count": 34,
   "metadata": {},
   "outputs": [
    {
     "data": {
      "text/plain": [
       "<matplotlib.image.AxesImage at 0x7f28be364990>"
      ]
     },
     "execution_count": 34,
     "metadata": {},
     "output_type": "execute_result"
    },
    {
     "data": {
      "image/png": "[encoded data removed]",
      "text/plain": [
       "<Figure size 600x600 with 1 Axes>"
      ]
     },
     "metadata": {},
     "output_type": "display_data"
    }
   ],
   "source": [
    "figure = plt.figure(figsize=(6, 6))\n",
    "\n",
    "ax = figure.add_subplot()\n",
    "ax.imshow(x_att.sequences[0].detach())"
   ]
  },
  {
   "cell_type": "code",
   "execution_count": 35,
   "metadata": {},
   "outputs": [],
   "source": [
    "class GRUAggregator(nn.Module):\n",
    "    def __init__(\n",
    "            self,\n",
    "            hidden_size: int, \n",
    "            num_layers_gru: int = 1,\n",
    "            bidirectional: bool = False,\n",
    "            dropout_gru: float = 0.0\n",
    "    ) -> None:\n",
    "        super(GRUAggregator, self).__init__()\n",
    "\n",
    "        self.gru = nn.GRU(\n",
    "            input_size=hidden_size,\n",
    "            hidden_size=hidden_size,\n",
    "            batch_first=True,\n",
    "            num_layers=num_layers_gru,\n",
    "            bidirectional=bidirectional,\n",
    "            dropout=dropout_gru\n",
    "        )\n",
    "\n",
    "    def forward(self, x: SingleForwardState) -> SingleForwardState:\n",
    "\n",
    "        lengths = (~x.mask).sum(dim=1)\n",
    "\n",
    "        packed_sequences = torch.nn.utils.rnn.pack_padded_sequence(\n",
    "            input=x.sequences, \n",
    "            lengths=lengths, \n",
    "            batch_first=True, \n",
    "            enforce_sorted=False\n",
    "        )\n",
    "\n",
    "        _, hidden_state = self.gru(packed_sequences)\n",
    "\n",
    "        return SingleForwardState(\n",
    "            sequences=hidden_state[-1],\n",
    "            mask=x.mask\n",
    "        )"
   ]
  },
  {
   "cell_type": "code",
   "execution_count": 37,
   "metadata": {},
   "outputs": [],
   "source": [
    "pooling = ConvPooling(EMB_DIM)"
   ]
  },
  {
   "cell_type": "code",
   "execution_count": 38,
   "metadata": {},
   "outputs": [],
   "source": [
    "gru = GRUAggregator(\n",
    "    hidden_size=EMB_DIM,\n",
    "    num_layers_gru=2\n",
    ")"
   ]
  },
  {
   "cell_type": "code",
   "execution_count": 39,
   "metadata": {},
   "outputs": [],
   "source": [
    "x_gru = gru(x_att)\n",
    "x_pooled = pooling(x_att)"
   ]
  },
  {
   "cell_type": "code",
   "execution_count": 44,
   "metadata": {},
   "outputs": [
    {
     "data": {
      "text/plain": [
       "torch.Size([1024, 16])"
      ]
     },
     "metadata": {},
     "output_type": "display_data"
    },
    {
     "data": {
      "text/plain": [
       "torch.Size([1024, 16])"
      ]
     },
     "metadata": {},
     "output_type": "display_data"
    }
   ],
   "source": [
    "d(x_gru.sequences.size(), x_pooled.representations.size())"
   ]
  },
  {
   "cell_type": "code",
   "execution_count": 48,
   "metadata": {},
   "outputs": [
    {
     "data": {
      "image/png": "[encoded data removed]",
      "text/plain": [
       "<Figure size 600x600 with 1 Axes>"
      ]
     },
     "metadata": {},
     "output_type": "display_data"
    }
   ],
   "source": [
    "figure = plt.figure(figsize=(6, 6))\n",
    "\n",
    "ax = figure.add_subplot()\n",
    "plt.show(ax.imshow(x_gru.sequences[0].detach().unsqueeze(dim=0)))"
   ]
  },
  {
   "cell_type": "code",
   "execution_count": 51,
   "metadata": {},
   "outputs": [
    {
     "data": {
      "image/png": "[encoded data removed]",
      "text/plain": [
       "<Figure size 600x600 with 1 Axes>"
      ]
     },
     "metadata": {},
     "output_type": "display_data"
    }
   ],
   "source": [
    "figure = plt.figure(figsize=(6, 6))\n",
    "\n",
    "ax = figure.add_subplot()\n",
    "plt.show(ax.imshow(x_pooled.representations[0].detach().unsqueeze(dim=0)))"
   ]
  },
  {
   "cell_type": "code",
   "execution_count": 29,
   "metadata": {},
   "outputs": [],
   "source": [
    "from src.models.components.pooling.agg_pooling import ConvPooling"
   ]
  },
  {
   "cell_type": "code",
   "execution_count": 97,
   "metadata": {},
   "outputs": [],
   "source": [
    "class PoolingType(nn.Module):\n",
    "    num_poolings: int = None\n",
    "\n",
    "    def __init__(self):\n",
    "        super(PoolingType, self).__init__()\n",
    "\n",
    "def first_pooling(hidden_state: torch.Tensor, dim: int = 1):\n",
    "    assert len(hidden_state.size()) == 3, \\\n",
    "        \"hidden state size should be (batch_size x num_seq x seq_len)\"\n",
    "\n",
    "    return hidden_state[:, 0, :] if dim == 1 else hidden_state[:, :, 0]\n",
    "\n",
    "\n",
    "def last_pooling(hidden_state: torch.Tensor, lengths: torch.Tensor, dim: int = 1):\n",
    "    assert len(hidden_state.size()) == 3, \\\n",
    "        \"hidden state size should be (batch_size x num_seq x seq_len)\"\n",
    "    \n",
    "    if dim == 1:\n",
    "        hidden_state = hidden_state[torch.arange(hidden_state.size(0)), lengths - 1, :] # (N, L, B)\n",
    "    elif dim == 2:\n",
    "        hidden_state = hidden_state[torch.arange(hidden_state.size(0)), :, lengths - 1] # (N, B, L)\n",
    "    else:\n",
    "        raise NotImplementedError(\"dim is not valid, select dim from the <[1, 2]>\")\n",
    "\n",
    "    return hidden_state\n",
    "\n",
    "\n",
    "def avg_pooling(hidden_state: torch.Tensor, lengths: torch.Tensor, dim: int = 1):\n",
    "    assert len(hidden_state.size()) == 3, \\\n",
    "        \"hidden state size should be (batch_size x num_seq x seq_len) or (num_seq x seq_len)\"\n",
    "\n",
    "    return torch.mean(hidden_state, dim=dim)\n",
    "\n",
    "\n",
    "class FirstLastAvgPoolings(PoolingType):\n",
    "    def __init__(self, dim: int = 1):\n",
    "        super(FirstLastAvgPoolings, self).__init__()\n",
    "\n",
    "        self.dim = dim\n",
    "\n",
    "        self.num_poolings = 3\n",
    "\n",
    "    def forward(self, hidden_state: torch.Tensor):\n",
    "        pooled_results = [\n",
    "            first_pooling(hidden_state, self.dim),\n",
    "            last_pooling(hidden_state, self.dim),\n",
    "            avg_pooling(hidden_state, self.dim)\n",
    "        ]\n",
    "        hidden_state_pooled = torch.concatenate(pooled_results, dim=self.dim)\n",
    "\n",
    "        return hidden_state_pooled\n",
    "    \n",
    "\n",
    "POOLING_MAPPING = {\n",
    "    \"first_last_avg\": FirstLastAvgPoolings\n",
    "}\n",
    "\n",
    "\n",
    "class Pooling(nn.Module):\n",
    "    def __init__(\n",
    "            self, \n",
    "            emb_dim: int,\n",
    "            pooling_type: str = \"all\", \n",
    "            use_batch_norm: bool = True,\n",
    "            dim: int = 1\n",
    "        ) -> None:\n",
    "        super(Pooling, self).__init__()\n",
    "\n",
    "        self.dim = dim\n",
    "\n",
    "        pooling_types = list(POOLING_MAPPING.keys())\n",
    "        assert pooling_type in pooling_types, \\\n",
    "            f\"You should specify pooling type from {pooling_types}, not {pooling_type}\"\n",
    "        \n",
    "        self.pooling_layer = POOLING_MAPPING[pooling_type](dim=dim)\n",
    "\n",
    "        input_size = self.pooling_layer.num_poolings * emb_dim\n",
    "\n",
    "        self.agg_layer = nn.Linear(input_size, emb_dim)\n",
    "\n",
    "        self.batch_norm = nn.BatchNorm1d(emb_dim) if use_batch_norm else nn.Identity()\n",
    "        \n",
    "    def forward(self, hidden_state: SingleForwardState) -> ModelOutput:\n",
    "        x = self.pooling_layer(hidden_state.sequences)\n",
    "        x = self.batch_norm(self.agg_layer(x))\n",
    "\n",
    "        return ModelOutput(\n",
    "            representations=x,\n",
    "            logits=None\n",
    "        )"
   ]
  },
  {
   "cell_type": "code",
   "execution_count": 98,
   "metadata": {},
   "outputs": [],
   "source": [
    "x_pooled_ = Pooling(emb_dim=32, pooling_type=\"first_last_avg\", use_batch_norm=False, dim=1)"
   ]
  },
  {
   "cell_type": "code",
   "execution_count": 99,
   "metadata": {},
   "outputs": [
    {
     "data": {
      "text/plain": [
       "Pooling(\n",
       "  (pooling_layer): FirstLastAvgPoolings()\n",
       "  (agg_layer): Linear(in_features=96, out_features=32, bias=True)\n",
       "  (batch_norm): Identity()\n",
       ")"
      ]
     },
     "metadata": {},
     "output_type": "display_data"
    }
   ],
   "source": [
    "d(x_pooled_)"
   ]
  },
  {
   "cell_type": "code",
   "execution_count": 100,
   "metadata": {},
   "outputs": [],
   "source": [
    "x_pooled = x_pooled_(x_gru)"
   ]
  },
  {
   "cell_type": "code",
   "execution_count": 101,
   "metadata": {},
   "outputs": [
    {
     "data": {
      "text/plain": [
       "torch.Size([32, 32])"
      ]
     },
     "metadata": {},
     "output_type": "display_data"
    }
   ],
   "source": [
    "d(x_pooled.representations.size())"
   ]
  },
  {
   "cell_type": "code",
   "execution_count": 102,
   "metadata": {},
   "outputs": [
    {
     "data": {
      "text/plain": [
       "<matplotlib.image.AxesImage at 0x7f63a2eb4790>"
      ]
     },
     "execution_count": 102,
     "metadata": {},
     "output_type": "execute_result"
    },
    {
     "data": {
      "image/png": "[encoded data removed]",
      "text/plain": [
       "<Figure size 640x480 with 1 Axes>"
      ]
     },
     "metadata": {},
     "output_type": "display_data"
    }
   ],
   "source": [
    "plt.imshow(x_pooled.representations[0].detach().unsqueeze(dim=0))"
   ]
  },
  {
   "cell_type": "code",
   "execution_count": 12,
   "metadata": {},
   "outputs": [],
   "source": [
    "from src.data.components.collate import ModelOutput\n",
    "from typing import List, Tuple"
   ]
  },
  {
   "cell_type": "code",
   "execution_count": 13,
   "metadata": {},
   "outputs": [],
   "source": [
    "ACTIVATION_TYPE_MAPPING = {\n",
    "    \"tanh\": nn.Tanh,\n",
    "    \"gelu\": nn.GELU,\n",
    "    \"relu\": nn.ReLU,\n",
    "    \"none\": nn.Identity\n",
    "}\n",
    "\n",
    "def init_linear_block_weights(layer):\n",
    "    if isinstance(layer, nn.Linear):\n",
    "        nn.init.xavier_uniform_(layer.weight, gain=nn.init.calculate_gain('relu'))\n",
    "        nn.init.zeros_(layer.bias)\n",
    "\n",
    "class LinearBlock(nn.Module):\n",
    "    def __init__(\n",
    "            self, \n",
    "            in_features: int, \n",
    "            out_features: int = 1, \n",
    "            num_layers: int = 3, \n",
    "            dropout_rate: float = 0.0, \n",
    "            activation_type: str = \"tanh\",\n",
    "            use_batch_norm: bool = False,\n",
    "            bias: bool = True\n",
    "        ) -> None:\n",
    "        super(LinearBlock, self).__init__()\n",
    "\n",
    "        self.in_features = in_features\n",
    "\n",
    "        self.dropout = nn.Dropout(p=dropout_rate)\n",
    "\n",
    "        if activation_type is None:\n",
    "            self.act = ACTIVATION_TYPE_MAPPING[\"tanh\"]\n",
    "        elif activation_type in ACTIVATION_TYPE_MAPPING.keys():\n",
    "            self.act = ACTIVATION_TYPE_MAPPING[activation_type]\n",
    "        else: \n",
    "            NotImplementedError(f\"activation_type must be in <{list(ACTIVATION_TYPE_MAPPING.keys())}>\")\n",
    "\n",
    "        if use_batch_norm:\n",
    "            self.layer_norm = nn.BatchNorm1d\n",
    "        else:\n",
    "            self.layer_norm = nn.LayerNorm\n",
    "\n",
    "        self.linear_block = nn.Sequential(\n",
    "            *[\n",
    "                nn.Sequential(\n",
    "                    *[\n",
    "                        nn.Linear(in_features // (2 ** i), in_features // (2 ** (i + 1)), bias),\n",
    "                        self.layer_norm(in_features // (2 ** (i + 1))),\n",
    "                        self.act()\n",
    "                    ]\n",
    "                ) for i in range(num_layers)\n",
    "            ]\n",
    "        )\n",
    "        \n",
    "\n",
    "        self.out_block = nn.Linear(\n",
    "            in_features=in_features // (2 ** num_layers), out_features=out_features\n",
    "        )\n",
    "\n",
    "        self.cls_layers = nn.Sequential(\n",
    "            self.dropout,\n",
    "            self.linear_block,\n",
    "            self.out_block,\n",
    "            self.act()\n",
    "        )\n",
    "\n",
    "        # weights init\n",
    "        self.cls_layers.apply(init_linear_block_weights)\n",
    "\n",
    "\n",
    "    def forward(self, x: ModelOutput) -> ModelOutput:\n",
    "        logits = self.cls_layers(x.representations)\n",
    "\n",
    "        return ModelOutput(\n",
    "            representations=x.representations,\n",
    "            logits=logits\n",
    "        )\n",
    "\n",
    "\n",
    "class MultiTaskLinearBlock(nn.Module):\n",
    "    def __init__(\n",
    "            self,\n",
    "            heads: List[LinearBlock]\n",
    "    ) -> None: \n",
    "        super(MultiTaskLinearBlock, self).__init__()\n",
    "\n",
    "        self.heads = nn.ModuleList(heads)\n",
    "\n",
    "    def forward(self, x: ModelOutput) -> ModelOutput:\n",
    "        multi_state = [\n",
    "            head(x).logits for head in self.heads\n",
    "        ]\n",
    "\n",
    "        logits = torch.concat(multi_state, dim=1) # size(batch_size, num_outputs)\n",
    "        \n",
    "        return ModelOutput(\n",
    "            representations=x.representations,\n",
    "            logits=logits\n",
    "        )"
   ]
  },
  {
   "cell_type": "code",
   "execution_count": 48,
   "metadata": {},
   "outputs": [],
   "source": [
    "x_out = MultiTaskLinearBlock(\n",
    "    heads=[\n",
    "        LinearBlock(32, 1, 2)\n",
    "    ]\n",
    ")(x_pooled)"
   ]
  },
  {
   "cell_type": "code",
   "execution_count": 49,
   "metadata": {},
   "outputs": [
    {
     "data": {
      "text/plain": [
       "ModelOutput(representations=tensor([[-0.0807, -0.0925,  0.0185,  ...,  0.0862,  0.0276, -0.0489],\n",
       "        [-0.0164, -0.0240,  0.0047,  ...,  0.0191,  0.0072, -0.0139],\n",
       "        [-0.0550, -0.0686,  0.0153,  ...,  0.0614,  0.0193, -0.0378],\n",
       "        ...,\n",
       "        [-0.0029, -0.0036,  0.0004,  ...,  0.0021,  0.0021, -0.0017],\n",
       "        [-0.1101, -0.1254,  0.0267,  ...,  0.1202,  0.0347, -0.0692],\n",
       "        [-0.0092, -0.0124, -0.0006,  ...,  0.0077,  0.0030, -0.0051]],\n",
       "       grad_fn=<SqueezeBackward1>), logits=tensor([[-0.3835],\n",
       "        [-0.4595],\n",
       "        [-0.3846],\n",
       "        [-0.5128],\n",
       "        [-0.4077],\n",
       "        [-0.4268],\n",
       "        [-0.4213],\n",
       "        [-0.6295],\n",
       "        [-0.4995],\n",
       "        [-0.0691],\n",
       "        [-0.4164],\n",
       "        [-0.4121],\n",
       "        [-0.3576],\n",
       "        [-0.3559],\n",
       "        [-0.3748],\n",
       "        [-0.3683],\n",
       "        [-0.3324],\n",
       "        [-0.3280],\n",
       "        [-0.3166],\n",
       "        [-0.3467],\n",
       "        [-0.4153],\n",
       "        [-0.5702],\n",
       "        [-0.4393],\n",
       "        [-0.3760],\n",
       "        [-0.3955],\n",
       "        [-0.4136],\n",
       "        [-0.3758],\n",
       "        [-0.4318],\n",
       "        [-0.3609],\n",
       "        [-0.2603],\n",
       "        [-0.3825],\n",
       "        [-0.5049]], grad_fn=<CatBackward0>))"
      ]
     },
     "metadata": {},
     "output_type": "display_data"
    }
   ],
   "source": [
    "d(x_out)"
   ]
  },
  {
   "cell_type": "code",
   "execution_count": 14,
   "metadata": {},
   "outputs": [],
   "source": [
    "import time\n",
    "import pandas as pd"
   ]
  },
  {
   "cell_type": "code",
   "execution_count": 15,
   "metadata": {},
   "outputs": [
    {
     "name": "stderr",
     "output_type": "stream",
     "text": [
      "The installed version of bitsandbytes was compiled without GPU support. 8-bit optimizers, 8-bit multiplication, and GPU quantization are unavailable.\n"
     ]
    }
   ],
   "source": [
    "import bitsandbytes as bnb"
   ]
  },
  {
   "cell_type": "code",
   "execution_count": 16,
   "metadata": {},
   "outputs": [],
   "source": [
    "from src.utils.metrics import GINI"
   ]
  },
  {
   "cell_type": "code",
   "execution_count": 17,
   "metadata": {},
   "outputs": [],
   "source": [
    "class Trainer:\n",
    "    def __init__(\n",
    "            self, \n",
    "            model: nn.Module, \n",
    "            optimizer: torch.optim.Optimizer, \n",
    "            criterion: nn.BCEWithLogitsLoss,\n",
    "            train_dataloader: torch.utils.data.DataLoader, \n",
    "            scheduler: torch.optim.lr_scheduler.LRScheduler = None\n",
    "        ) -> None:\n",
    "\n",
    "        self.model = model\n",
    "    \n",
    "        self.criterion = criterion\n",
    "        \n",
    "        self.task_names = [\"tanh_output\"]\n",
    "        self.task_weights = torch.tensor([1.0])\n",
    "\n",
    "        self.train_data = train_dataloader\n",
    "\n",
    "        self.optimizer = optimizer\n",
    "        self.scheduler = scheduler\n",
    "\n",
    "        self.gini = GINI()\n",
    "\n",
    "        self.train_results = list()\n",
    "\n",
    "    def multioutput_loss(self, logits: ModelOutput, targets: torch.Tensor) -> Tuple[torch.Tensor, torch.Tensor]:\n",
    "        # logits size is (batch_size, num_outputs)\n",
    "        # targets size is (batch_size, 1)\n",
    "\n",
    "        targets = targets.expand(size=(-1, len(self.task_names))) # to size like logits\n",
    "\n",
    "        weighted_loss = self.task_weights * self.criterion(logits, targets)\n",
    "        \n",
    "        # (self.task_weights * self.criterion(logits, targets)).sum() / len(self.task_names)\n",
    "        loss = weighted_loss.sum() / (len(weighted_loss) * len(self.task_names))\n",
    "        branched_loss = (weighted_loss.sum(dim=0) / len(weighted_loss)).detach()\n",
    "\n",
    "        return loss, branched_loss\n",
    "\n",
    "    def fit(self, epochs: int = 3, show_step: int = 100):\n",
    "        n_total_steps = len(self.train_data)\n",
    "\n",
    "        loss_step = 0\n",
    "        gini_step = 0\n",
    "\n",
    "        for epoch in range(epochs):\n",
    "            epoch_start_time = time.time()\n",
    "\n",
    "            self.epoch = epoch\n",
    "            \n",
    "            print('Epoch %s/%s' % (epoch + 1, epochs))\n",
    "\n",
    "            for step, batch in enumerate(self.train_data):\n",
    "                self.optimizer.zero_grad(set_to_none=True)\n",
    "\n",
    "                x = ModelInput(\n",
    "                    numerical=batch.numerical,\n",
    "                    categorical=batch.categorical,\n",
    "                    lengths=batch.lengths\n",
    "                )\n",
    "\n",
    "                labels = batch.targets\n",
    "\n",
    "                outputs = self.model(x)\n",
    "        \n",
    "                loss, _ = self.multioutput_loss(\n",
    "                    logits=outputs.logits,\n",
    "                    targets=labels\n",
    "                )\n",
    "\n",
    "                loss.backward()\n",
    "                self.optimizer.step()\n",
    "\n",
    "                loss_step += loss.item()\n",
    "                gini_step += self.gini(outputs.logits[:, 0], labels.squeeze())\n",
    "\n",
    "                self.train_results.append(\n",
    "                    [\n",
    "                        self.epoch * n_total_steps + step, \n",
    "                        loss.item()\n",
    "\n",
    "                    ]\n",
    "                )\n",
    "\n",
    "                if (step + 1) % show_step == 0:\n",
    "                    print(\n",
    "                        f\"Step [{step+1}/{n_total_steps}] | Time: {time.time() - epoch_start_time:.2f}s | Loss: {loss_step / show_step:.4f} | GINI: {gini_step / show_step:.1f}\"\n",
    "                    )\n",
    "                    gini_step = 0\n",
    "                    loss_step = 0\n",
    "\n",
    "        self.train_writer = pd.DataFrame(self.train_results, columns=[\"step\", \"loss\"])\n",
    "\n",
    "        print('\\nDone.')\n",
    "\n",
    "\n",
    "    def __repr__(self):\n",
    "        return f'''[INFO]\\n{\"-\" * 60}\\ndata: {self.data} \\n{\"-\" * 60} \\nmodel: {self.model} \\n{\"-\" * 60} \\noptimizer: {self.optimizer} \\n{\"-\" * 60}'''"
   ]
  },
  {
   "cell_type": "code",
   "execution_count": 18,
   "metadata": {},
   "outputs": [],
   "source": [
    "model = nn.Sequential(\n",
    "    EncoderLayer(\n",
    "        numerical_features=features_dict[\"numerical\"],\n",
    "        categorical_features=features_dict[\"categorical\"],\n",
    "        embedding_dim=32,\n",
    "        dropout_inputs=0.1\n",
    "    ),\n",
    "    SimpleAttention1d(\n",
    "        features_dim=32\n",
    "    ),\n",
    "    GRUSeqToSeq(\n",
    "        hidden_size=32,\n",
    "        num_layers_gru=1\n",
    "    ),\n",
    "    ConvPooling(\n",
    "        pooling_type=\"avg\", dim=1\n",
    "    ),\n",
    "    MultiTaskLinearBlock(\n",
    "        heads=[\n",
    "            LinearBlock(32, 1, 2)\n",
    "        ]\n",
    "    )\n",
    ")"
   ]
  },
  {
   "cell_type": "code",
   "execution_count": 19,
   "metadata": {},
   "outputs": [],
   "source": [
    "opt = bnb.optim.Adam8bit(model.parameters(), lr=1e-3, weight_decay=1e-5)\n",
    "# scheduler = torch.optim.lr_scheduler.ExponentialLR(opt, gamma=0.99)\n",
    "\n",
    "train_model = Trainer(\n",
    "    model=model, \n",
    "    criterion=nn.BCEWithLogitsLoss(\n",
    "        reduction=\"none\"\n",
    "    ),\n",
    "    train_dataloader=dataloader, \n",
    "    optimizer=opt\n",
    ")"
   ]
  },
  {
   "cell_type": "code",
   "execution_count": null,
   "metadata": {},
   "outputs": [],
   "source": [
    "train_model.fit(epochs=3, show_step=30)"
   ]
  },
  {
   "cell_type": "code",
   "execution_count": 109,
   "metadata": {},
   "outputs": [],
   "source": [
    "test_sample = next(iter(test_dataloader))"
   ]
  },
  {
   "cell_type": "code",
   "execution_count": 168,
   "metadata": {},
   "outputs": [],
   "source": [
    "preds = model(test_sample).logits"
   ]
  },
  {
   "cell_type": "code",
   "execution_count": 169,
   "metadata": {},
   "outputs": [
    {
     "data": {
      "text/plain": [
       "tensor(44.4487)"
      ]
     },
     "metadata": {},
     "output_type": "display_data"
    }
   ],
   "source": [
    "d(GINI()(preds, test_sample.targets))"
   ]
  },
  {
   "cell_type": "code",
   "execution_count": null,
   "metadata": {},
   "outputs": [],
   "source": [
    "# 1 - 40.82 ~ lr 1e-4\n",
    "# 2 - 44.80 ~ lr 1e-2"
   ]
  },
  {
   "cell_type": "code",
   "execution_count": 118,
   "metadata": {},
   "outputs": [],
   "source": [
    "sorted_preds = torch.concatenate((torch.sigmoid(preds), test_sample.targets), dim=1).sort(dim=0).values.detach()"
   ]
  },
  {
   "cell_type": "code",
   "execution_count": 123,
   "metadata": {},
   "outputs": [],
   "source": [
    "from sklearn.metrics import roc_curve"
   ]
  },
  {
   "cell_type": "code",
   "execution_count": 126,
   "metadata": {},
   "outputs": [],
   "source": [
    "fpr, tpr, _ = roc_curve(test_sample.targets, torch.sigmoid(preds).detach())"
   ]
  },
  {
   "cell_type": "code",
   "execution_count": 131,
   "metadata": {},
   "outputs": [
    {
     "data": {
      "image/png": "[encoded data removed]",
      "text/plain": [
       "<Figure size 640x480 with 1 Axes>"
      ]
     },
     "metadata": {},
     "output_type": "display_data"
    }
   ],
   "source": [
    "plt.plot(fpr, tpr, label=np.trapz(fpr, tpr))\n",
    "plt.legend(loc=2)\n",
    "plt.show()"
   ]
  },
  {
   "cell_type": "code",
   "execution_count": 67,
   "metadata": {},
   "outputs": [],
   "source": []
  },
  {
   "cell_type": "markdown",
   "metadata": {},
   "source": [
    "# Pretrained model"
   ]
  },
  {
   "cell_type": "code",
   "execution_count": 3,
   "metadata": {},
   "outputs": [],
   "source": [
    "import torch\n",
    "from torch import nn"
   ]
  },
  {
   "cell_type": "code",
   "execution_count": 4,
   "metadata": {},
   "outputs": [],
   "source": [
    "from src.models.ch_lit_module import CHLitModule\n",
    "from IPython.display import display as d"
   ]
  },
  {
   "cell_type": "code",
   "execution_count": 5,
   "metadata": {},
   "outputs": [],
   "source": [
    "class PretrainedModel(nn.Module):\n",
    "    def __init__(self, ckpt_path: str):\n",
    "        super().__init__()\n",
    "        \n",
    "        self.net = CHLitModule.load_from_checkpoint(ckpt_path, strict=False)\n",
    "        self.net.eval()\n",
    "        self.net.freeze()\n",
    "\n",
    "    def forward(self, inputs):\n",
    "        return self.net(inputs)"
   ]
  },
  {
   "cell_type": "code",
   "execution_count": 6,
   "metadata": {},
   "outputs": [
    {
     "name": "stderr",
     "output_type": "stream",
     "text": [
      "/home/danil/projects/LHT_credits_history/.venv/lib/python3.11/site-packages/lightning/pytorch/utilities/parsing.py:199: Attribute 'net' is an instance of `nn.Module` and is already saved during checkpointing. It is recommended to ignore them using `self.save_hyperparameters(ignore=['net'])`.\n"
     ]
    }
   ],
   "source": [
    "trained_model = PretrainedModel(\"logs/train/runs/2024-09-08_13-49-29/checkpoints/epoch_015.ckpt\")"
   ]
  },
  {
   "cell_type": "code",
   "execution_count": 8,
   "metadata": {},
   "outputs": [],
   "source": [
    "params = dict(trained_model.net.named_parameters())"
   ]
  },
  {
   "cell_type": "code",
   "execution_count": 11,
   "metadata": {},
   "outputs": [],
   "source": [
    "transformer_params = {key: param for key, param in params.items() if key.startswith(\"net.layers.1\")}"
   ]
  },
  {
   "cell_type": "code",
   "execution_count": 15,
   "metadata": {},
   "outputs": [
    {
     "data": {
      "text/plain": [
       "['net.layers.1.encoder.layers.0.attn_layer.linears.0.weight',\n",
       " 'net.layers.1.encoder.layers.0.attn_layer.linears.0.bias',\n",
       " 'net.layers.1.encoder.layers.0.attn_layer.linears.1.weight',\n",
       " 'net.layers.1.encoder.layers.0.attn_layer.linears.1.bias',\n",
       " 'net.layers.1.encoder.layers.0.attn_layer.linears.2.weight',\n",
       " 'net.layers.1.encoder.layers.0.attn_layer.linears.2.bias',\n",
       " 'net.layers.1.encoder.layers.0.attn_layer.E_projection.weight',\n",
       " 'net.layers.1.encoder.layers.0.attn_layer.E_projection.bias',\n",
       " 'net.layers.1.encoder.layers.0.attn_layer.F_projection.weight',\n",
       " 'net.layers.1.encoder.layers.0.attn_layer.F_projection.bias',\n",
       " 'net.layers.1.encoder.layers.0.attn_layer.out_block.weight',\n",
       " 'net.layers.1.encoder.layers.0.attn_layer.out_block.bias',\n",
       " 'net.layers.1.encoder.layers.0.ff_layer.position_wise_ff.0.weight',\n",
       " 'net.layers.1.encoder.layers.0.ff_layer.position_wise_ff.0.bias',\n",
       " 'net.layers.1.encoder.layers.0.ff_layer.position_wise_ff.2.weight',\n",
       " 'net.layers.1.encoder.layers.0.ff_layer.position_wise_ff.2.bias',\n",
       " 'net.layers.1.encoder.layers.0.sub_layers.attention.layer_norm.weight',\n",
       " 'net.layers.1.encoder.layers.0.sub_layers.attention.layer_norm.bias',\n",
       " 'net.layers.1.encoder.layers.0.sub_layers.feed_forward.layer_norm.weight',\n",
       " 'net.layers.1.encoder.layers.0.sub_layers.feed_forward.layer_norm.bias',\n",
       " 'net.layers.1.encoder.layer_norm.weight',\n",
       " 'net.layers.1.encoder.layer_norm.bias']"
      ]
     },
     "metadata": {},
     "output_type": "display_data"
    }
   ],
   "source": [
    "d(list(transformer_params.keys()))"
   ]
  },
  {
   "cell_type": "code",
   "execution_count": 13,
   "metadata": {},
   "outputs": [],
   "source": [
    "import seaborn as sns"
   ]
  },
  {
   "cell_type": "code",
   "execution_count": 30,
   "metadata": {},
   "outputs": [
    {
     "data": {
      "image/png": "[encoded data removed]",
      "text/plain": [
       "<Figure size 640x480 with 2 Axes>"
      ]
     },
     "metadata": {},
     "output_type": "display_data"
    }
   ],
   "source": [
    "# projection to query\n",
    "sns.heatmap(\n",
    "    torch.ones((1, 16)) @ transformer_params[\n",
    "        \"net.layers.1.encoder.layers.0.attn_layer.linears.0.weight\"\n",
    "    ].T + transformer_params[\n",
    "        \"net.layers.1.encoder.layers.0.attn_layer.linears.0.bias\"\n",
    "    ]\n",
    ");"
   ]
  },
  {
   "cell_type": "code",
   "execution_count": 52,
   "metadata": {},
   "outputs": [
    {
     "data": {
      "image/png": "[encoded data removed]",
      "text/plain": [
       "<Figure size 1400x1000 with 3 Axes>"
      ]
     },
     "metadata": {},
     "output_type": "display_data"
    }
   ],
   "source": [
    "# projection to query\n",
    "fig = plt.figure(figsize=(14, 10))\n",
    "ax = fig.add_subplot()\n",
    "\n",
    "_weight = transformer_params[\"net.layers.1.encoder.layers.0.attn_layer.linears.0.weight\"].T\n",
    "ax = sns.heatmap(_weight, ax=ax)\n",
    "\n",
    "ax2 = ax.twinx()\n",
    "ax2.set_ylim(_weight.min(), _weight.max())\n",
    "ax2.get_yaxis().set_visible(False)\n",
    "ax2.grid(False)\n",
    "\n",
    "for i in range(1, 4):\n",
    "    ax2.axvline(x=16 * i, linewidth=2, linestyle=\"--\", c=\"y\")\n",
    "\n",
    "plt.show()"
   ]
  },
  {
   "cell_type": "code",
   "execution_count": 61,
   "metadata": {},
   "outputs": [
    {
     "data": {
      "image/png": "[encoded data removed]",
      "text/plain": [
       "<Figure size 1400x1000 with 2 Axes>"
      ]
     },
     "metadata": {},
     "output_type": "display_data"
    }
   ],
   "source": [
    "# projection to keys\n",
    "fig = plt.figure(figsize=(14, 10))\n",
    "ax = fig.add_subplot()\n",
    "\n",
    "_weight = (\n",
    "    torch.ones((1, 16)) @ transformer_params[\n",
    "        \"net.layers.1.encoder.layers.0.attn_layer.linears.0.weight\"\n",
    "    ].T + transformer_params[\n",
    "        \"net.layers.1.encoder.layers.0.attn_layer.linears.0.bias\"\n",
    "    ]\n",
    ") @ (\n",
    "    torch.ones((1, 16)) @ transformer_params[\n",
    "        \"net.layers.1.encoder.layers.0.attn_layer.linears.1.weight\"\n",
    "    ].T + transformer_params[\n",
    "        \"net.layers.1.encoder.layers.0.attn_layer.linears.1.bias\"\n",
    "    ]\n",
    ")\n",
    "ax = sns.heatmap(_weight, ax=ax)\n",
    "\n",
    "plt.show()"
   ]
  },
  {
   "cell_type": "code",
   "execution_count": 9,
   "metadata": {},
   "outputs": [
    {
     "data": {
      "text/plain": [
       "CHLitModule(\n",
       "  (net): SequentialLitModel(\n",
       "    (layers): Sequential(\n",
       "      (0): EncoderLayer(\n",
       "        (dropout): Dropout(p=0.3, inplace=False)\n",
       "        (embeddings): EmbeddingLayer(\n",
       "          (embeddings): ModuleList(\n",
       "            (0): Embedding(18, 8)\n",
       "            (1): Embedding(17, 8)\n",
       "            (2): Embedding(20, 8)\n",
       "            (3): Embedding(7, 4)\n",
       "            (4): Embedding(5, 2)\n",
       "            (5): Embedding(3, 2)\n",
       "            (6): Embedding(14, 8)\n",
       "            (7): Embedding(7, 4)\n",
       "            (8): Embedding(6, 4)\n",
       "            (9): Embedding(4, 2)\n",
       "            (10): Embedding(76, 32)\n",
       "            (11): Embedding(13, 8)\n",
       "            (12): Embedding(10, 4)\n",
       "            (13): Embedding(19, 8)\n",
       "            (14): Embedding(37, 16)\n",
       "            (15-17): 3 x Embedding(20, 8)\n",
       "            (18): Embedding(43, 16)\n",
       "            (19): Embedding(38, 16)\n",
       "            (20): Embedding(23, 16)\n",
       "            (21): Embedding(31, 16)\n",
       "            (22-26): 5 x Embedding(2, 2)\n",
       "          )\n",
       "        )\n",
       "        (out_linear_block): Linear(in_features=218, out_features=16, bias=True)\n",
       "      )\n",
       "      (1): BaseTransformer(\n",
       "        (encoder): Encoder(\n",
       "          (layers): ModuleList(\n",
       "            (0): EncoderLayer(\n",
       "              (attn_layer): MultiHeadAttention(\n",
       "                (linears): ModuleList(\n",
       "                  (0-2): 3 x Linear(in_features=16, out_features=64, bias=True)\n",
       "                )\n",
       "                (E_projection): Linear(in_features=20, out_features=4, bias=True)\n",
       "                (F_projection): Linear(in_features=20, out_features=4, bias=True)\n",
       "                (attention): ScaledDotProductAttention(\n",
       "                  (softmax_dropout): Sequential(\n",
       "                    (0): Softmax(dim=-1)\n",
       "                    (1): Dropout(p=0.1, inplace=False)\n",
       "                  )\n",
       "                )\n",
       "                (out_block): Linear(in_features=64, out_features=16, bias=True)\n",
       "              )\n",
       "              (ff_layer): PositionwiseFeedForward(\n",
       "                (position_wise_ff): Sequential(\n",
       "                  (0): Linear(in_features=16, out_features=8, bias=True)\n",
       "                  (1): ReLU()\n",
       "                  (2): Linear(in_features=8, out_features=16, bias=True)\n",
       "                )\n",
       "              )\n",
       "              (sub_layers): ModuleDict(\n",
       "                (attention): SubLayer(\n",
       "                  (layer_norm): LayerNorm((16,), eps=1e-05, elementwise_affine=True)\n",
       "                  (dropout): Dropout(p=0.3, inplace=False)\n",
       "                )\n",
       "                (feed_forward): SubLayer(\n",
       "                  (layer_norm): LayerNorm((16,), eps=1e-05, elementwise_affine=True)\n",
       "                  (dropout): Dropout(p=0.3, inplace=False)\n",
       "                )\n",
       "              )\n",
       "            )\n",
       "          )\n",
       "          (layer_norm): LayerNorm((16,), eps=1e-05, elementwise_affine=True)\n",
       "        )\n",
       "      )\n",
       "      (2): GRUAggregator(\n",
       "        (gru): GRU(16, 16, batch_first=True)\n",
       "      )\n",
       "      (3): SFS2ModelOutput()\n",
       "      (4): MultiTaskLinearBlock(\n",
       "        (heads): ModuleList(\n",
       "          (0): LinearBlock(\n",
       "            (dropout): Dropout(p=0.0, inplace=False)\n",
       "            (linear_block): Sequential(\n",
       "              (0): Sequential(\n",
       "                (0): Linear(in_features=16, out_features=8, bias=True)\n",
       "                (1): Tanh()\n",
       "                (2): LayerNorm((8,), eps=1e-05, elementwise_affine=True)\n",
       "              )\n",
       "              (1): Sequential(\n",
       "                (0): Linear(in_features=8, out_features=4, bias=True)\n",
       "                (1): Tanh()\n",
       "                (2): LayerNorm((4,), eps=1e-05, elementwise_affine=True)\n",
       "              )\n",
       "            )\n",
       "            (out_block): Linear(in_features=4, out_features=1, bias=True)\n",
       "            (cls_layers): Sequential(\n",
       "              (0): Dropout(p=0.0, inplace=False)\n",
       "              (1): Sequential(\n",
       "                (0): Sequential(\n",
       "                  (0): Linear(in_features=16, out_features=8, bias=True)\n",
       "                  (1): Tanh()\n",
       "                  (2): LayerNorm((8,), eps=1e-05, elementwise_affine=True)\n",
       "                )\n",
       "                (1): Sequential(\n",
       "                  (0): Linear(in_features=8, out_features=4, bias=True)\n",
       "                  (1): Tanh()\n",
       "                  (2): LayerNorm((4,), eps=1e-05, elementwise_affine=True)\n",
       "                )\n",
       "              )\n",
       "              (2): Linear(in_features=4, out_features=1, bias=True)\n",
       "              (3): Tanh()\n",
       "            )\n",
       "          )\n",
       "        )\n",
       "      )\n",
       "    )\n",
       "  )\n",
       "  (criterion): BCEWithLogitsLoss()\n",
       "  (train_metrics): ModuleDict(\n",
       "    (base_output): ModuleDict(\n",
       "      (gini): GINI()\n",
       "    )\n",
       "  )\n",
       "  (val_metrics): ModuleDict(\n",
       "    (base_output): ModuleDict(\n",
       "      (gini): GINI()\n",
       "    )\n",
       "  )\n",
       "  (test_metrics): ModuleDict(\n",
       "    (base_output): ModuleDict(\n",
       "      (gini): GINI()\n",
       "    )\n",
       "  )\n",
       "  (monitor_metric): CompositionalMetric(\n",
       "    true_divide(\n",
       "      CompositionalMetric(\n",
       "    add(\n",
       "      0,\n",
       "      GINI()\n",
       "    )\n",
       "  ),\n",
       "      1\n",
       "    )\n",
       "  )\n",
       "  (train_loss): MeanMetric()\n",
       "  (train_branched_loss): ModuleDict(\n",
       "    (base_output): MeanMetric()\n",
       "  )\n",
       "  (val_loss): MeanMetric()\n",
       "  (val_branched_loss): ModuleDict(\n",
       "    (base_output): MeanMetric()\n",
       "  )\n",
       "  (test_loss): MeanMetric()\n",
       "  (test_branched_loss): ModuleDict(\n",
       "    (base_output): MeanMetric()\n",
       "  )\n",
       "  (val_best_metric): MaxMetric()\n",
       ")"
      ]
     },
     "metadata": {},
     "output_type": "display_data"
    }
   ],
   "source": [
    "d(trained_model.net)"
   ]
  },
  {
   "cell_type": "code",
   "execution_count": 44,
   "metadata": {},
   "outputs": [],
   "source": [
    "from torchmetrics.classification import BinaryAUROC"
   ]
  },
  {
   "cell_type": "code",
   "execution_count": 45,
   "metadata": {},
   "outputs": [
    {
     "data": {
      "text/plain": [
       "tensor(0.7372)"
      ]
     },
     "metadata": {},
     "output_type": "display_data"
    }
   ],
   "source": [
    "test_sample = next(iter(test_dataloader))\n",
    "d(BinaryAUROC()(trained_model.net(test_sample).logits[:, 0], test_sample.targets))"
   ]
  },
  {
   "cell_type": "code",
   "execution_count": 46,
   "metadata": {},
   "outputs": [],
   "source": [
    "preds = [\n",
    "    trained_model.net(sample).logits.ravel() for i, sample in enumerate(test_dataloader) if i < 5\n",
    "]"
   ]
  },
  {
   "cell_type": "code",
   "execution_count": 47,
   "metadata": {},
   "outputs": [],
   "source": [
    "preds = torch.concatenate(preds)"
   ]
  },
  {
   "cell_type": "code",
   "execution_count": 49,
   "metadata": {},
   "outputs": [
    {
     "data": {
      "image/png": "[encoded data removed]",
      "text/plain": [
       "<Figure size 640x480 with 1 Axes>"
      ]
     },
     "metadata": {},
     "output_type": "display_data"
    }
   ],
   "source": [
    "plt.show(plt.hist(preds, bins=50))"
   ]
  },
  {
   "cell_type": "code",
   "execution_count": 50,
   "metadata": {},
   "outputs": [
    {
     "data": {
      "image/png": "[encoded data removed]",
      "text/plain": [
       "<Figure size 640x480 with 1 Axes>"
      ]
     },
     "metadata": {},
     "output_type": "display_data"
    }
   ],
   "source": [
    "plt.show(plt.hist(torch.sigmoid(preds), bins=50))"
   ]
  },
  {
   "cell_type": "code",
   "execution_count": null,
   "metadata": {},
   "outputs": [],
   "source": []
  },
  {
   "cell_type": "code",
   "execution_count": 19,
   "metadata": {},
   "outputs": [],
   "source": [
    "import thunder"
   ]
  },
  {
   "cell_type": "code",
   "execution_count": 26,
   "metadata": {},
   "outputs": [],
   "source": [
    "jit_trained_model = thunder.jit(trained_model.net.net)"
   ]
  },
  {
   "cell_type": "code",
   "execution_count": 27,
   "metadata": {},
   "outputs": [
    {
     "ename": "InterpreterError",
     "evalue": "Encountered exception AttributeError: module 'dis' has no attribute '_parse_exception_table' while tracing SequentialLitModel(\n  (layers): Sequential(\n    (0): EncoderLayer(\n      (dropout): Dropout(p=0.3, inplace=False)\n      (embeddings): EmbeddingLayer(\n        (embeddings): ModuleList(\n          (0-1): 2 x Embedding(18, 32)\n          (2-3): 2 x Embedding(17, 32)\n          (4): Embedding(16, 32)\n          (5): Embedding(20, 32)\n          (6): Embedding(7, 32)\n          (7): Embedding(6, 32)\n          (8): Embedding(4, 32)\n          (9): Embedding(14, 32)\n          (10): Embedding(4, 32)\n          (11-12): 2 x Embedding(7, 32)\n          (13): Embedding(6, 32)\n          (14): Embedding(4, 32)\n          (15-16): 2 x Embedding(2, 32)\n          (17): Embedding(4, 32)\n          (18): Embedding(25, 32)\n          (19): Embedding(5, 32)\n          (20): Embedding(26, 32)\n          (21): Embedding(5, 32)\n          (22): Embedding(27, 32)\n          (23): Embedding(7, 32)\n          (24): Embedding(19, 32)\n          (25): Embedding(9, 32)\n          (26): Embedding(5, 32)\n          (27): Embedding(15, 32)\n          (28-30): 3 x Embedding(20, 32)\n        )\n      )\n      (out_linear_block): Linear(in_features=992, out_features=32, bias=True)\n    )\n    (1): GRUSeqToSeq(\n      (gru): GRU(32, 32, batch_first=True)\n    )\n    (2): ConvPooling(\n      (pooling_layer): AllPoolings()\n      (conv_layer): Conv1d(5, 1, kernel_size=(5,), stride=(1,), padding=same, bias=False)\n    )\n    (3): MultiOutputLinearBlock(\n      (heads): ModuleList(\n        (0): LinearBlock(\n          (dropout): Dropout(p=0.0, inplace=False)\n          (linear_block): Sequential(\n            (0): Sequential(\n              (0): Linear(in_features=32, out_features=16, bias=True)\n              (1): GELU(approximate='none')\n              (2): LayerNorm((16,), eps=1e-05, elementwise_affine=True)\n            )\n            (1): Sequential(\n              (0): Linear(in_features=16, out_features=8, bias=True)\n              (1): GELU(approximate='none')\n              (2): LayerNorm((8,), eps=1e-05, elementwise_affine=True)\n            )\n          )\n          (out_block): Linear(in_features=8, out_features=1, bias=True)\n          (cls_layers): Sequential(\n            (0): Dropout(p=0.0, inplace=False)\n            (1): Sequential(\n              (0): Sequential(\n                (0): Linear(in_features=32, out_features=16, bias=True)\n                (1): GELU(approximate='none')\n                (2): LayerNorm((16,), eps=1e-05, elementwise_affine=True)\n              )\n              (1): Sequential(\n                (0): Linear(in_features=16, out_features=8, bias=True)\n                (1): GELU(approximate='none')\n                (2): LayerNorm((8,), eps=1e-05, elementwise_affine=True)\n              )\n            )\n            (2): Linear(in_features=8, out_features=1, bias=True)\n            (3): GELU(approximate='none')\n          )\n        )\n      )\n    )\n  )\n):\n",
     "output_type": "error",
     "traceback": [
      "\u001b[0;31m---------------------------------------------------------------------------\u001b[0m",
      "\u001b[0;31mAttributeError\u001b[0m                            Traceback (most recent call last)",
      "File \u001b[0;32m~/projects/torch_template/.venv/lib/python3.11/site-packages/thunder/core/interpreter.py:6557\u001b[0m, in \u001b[0;36minterpret.<locals>.fn_\u001b[0;34m(*args, **kwargs)\u001b[0m\n\u001b[1;32m   6555\u001b[0m     populate_attribute_wrapper(wrapped_cell, \u001b[38;5;124m\"\u001b[39m\u001b[38;5;124mcell_contents\u001b[39m\u001b[38;5;124m\"\u001b[39m, fn_wrapped)\n\u001b[0;32m-> 6557\u001b[0m interpretation_result: Any \u001b[38;5;241m=\u001b[39m \u001b[43m_interpret_call\u001b[49m\u001b[43m(\u001b[49m\u001b[43mwrapped_fn_2\u001b[49m\u001b[43m,\u001b[49m\u001b[43m \u001b[49m\u001b[43margs\u001b[49m\u001b[43m,\u001b[49m\u001b[43m \u001b[49m\u001b[43mkwargs\u001b[49m\u001b[43m)\u001b[49m\n\u001b[1;32m   6558\u001b[0m interpretation_result \u001b[38;5;241m=\u001b[39m unwrap(interpretation_result)\n",
      "File \u001b[0;32m~/projects/torch_template/.venv/lib/python3.11/site-packages/thunder/core/interpreter.py:5885\u001b[0m, in \u001b[0;36m_interpret_call\u001b[0;34m(fn, *args, **kwargs)\u001b[0m\n\u001b[1;32m   5884\u001b[0m runtimectx\u001b[38;5;241m.\u001b[39mrecord_interpreter_call(fn)  \u001b[38;5;66;03m# type: ignore\u001b[39;00m\n\u001b[0;32m-> 5885\u001b[0m rval \u001b[38;5;241m=\u001b[39m \u001b[43m_call_dispatch\u001b[49m\u001b[43m(\u001b[49m\u001b[43mcompilectx\u001b[49m\u001b[43m,\u001b[49m\u001b[43m \u001b[49m\u001b[43mruntimectx\u001b[49m\u001b[43m,\u001b[49m\u001b[43m \u001b[49m\u001b[43mfn\u001b[49m\u001b[43m,\u001b[49m\u001b[43m \u001b[49m\u001b[38;5;241;43m*\u001b[39;49m\u001b[43margs\u001b[49m\u001b[43m,\u001b[49m\u001b[43m \u001b[49m\u001b[38;5;241;43m*\u001b[39;49m\u001b[38;5;241;43m*\u001b[39;49m\u001b[43mkwargs\u001b[49m\u001b[43m)\u001b[49m  \u001b[38;5;66;03m# type: ignore\u001b[39;00m\n\u001b[1;32m   5886\u001b[0m \u001b[38;5;28;01mif\u001b[39;00m compilectx\u001b[38;5;241m.\u001b[39m_with_provenance_tracking:\n",
      "File \u001b[0;32m~/projects/torch_template/.venv/lib/python3.11/site-packages/thunder/core/interpreter.py:6114\u001b[0m, in \u001b[0;36m_call_dispatch\u001b[0;34m(compilectx, runtimectx, fn, *args, **kwargs)\u001b[0m\n\u001b[1;32m   6113\u001b[0m \u001b[38;5;28;01massert\u001b[39;00m \u001b[38;5;28misinstance\u001b[39m(fn, FunctionType), \u001b[38;5;124mf\u001b[39m\u001b[38;5;124m\"\u001b[39m\u001b[38;5;132;01m{\u001b[39;00mfn\u001b[38;5;132;01m=}\u001b[39;00m\u001b[38;5;124m had an unexpected type (\u001b[39m\u001b[38;5;132;01m{\u001b[39;00m\u001b[38;5;28mtype\u001b[39m(fn)\u001b[38;5;132;01m}\u001b[39;00m\u001b[38;5;124m\"\u001b[39m\n\u001b[0;32m-> 6114\u001b[0m \u001b[38;5;28;01mreturn\u001b[39;00m \u001b[43m_setup_frame_and_run_python_function\u001b[49m\u001b[43m(\u001b[49m\u001b[43mcompilectx\u001b[49m\u001b[43m,\u001b[49m\u001b[43m \u001b[49m\u001b[43mruntimectx\u001b[49m\u001b[43m,\u001b[49m\u001b[43m \u001b[49m\u001b[43mwrapped_fn\u001b[49m\u001b[43m,\u001b[49m\u001b[43m \u001b[49m\u001b[38;5;241;43m*\u001b[39;49m\u001b[43margs\u001b[49m\u001b[43m,\u001b[49m\u001b[43m \u001b[49m\u001b[38;5;241;43m*\u001b[39;49m\u001b[38;5;241;43m*\u001b[39;49m\u001b[43mkwargs\u001b[49m\u001b[43m)\u001b[49m\n",
      "File \u001b[0;32m~/projects/torch_template/.venv/lib/python3.11/site-packages/thunder/core/interpreter.py:6243\u001b[0m, in \u001b[0;36m_setup_frame_and_run_python_function\u001b[0;34m(compilectx, runtimectx, wrapped_fn, *args, **kwargs)\u001b[0m\n\u001b[1;32m   6242\u001b[0m     tb \u001b[38;5;241m=\u001b[39m TracebackType(e\u001b[38;5;241m.\u001b[39m__traceback__, python_frame, python_frame\u001b[38;5;241m.\u001b[39mf_lasti, python_frame\u001b[38;5;241m.\u001b[39mf_lineno)\n\u001b[0;32m-> 6243\u001b[0m     \u001b[38;5;28;01mraise\u001b[39;00m e\u001b[38;5;241m.\u001b[39mwith_traceback(tb)\n\u001b[1;32m   6244\u001b[0m \u001b[38;5;28;01mreturn\u001b[39;00m res\n",
      "File \u001b[0;32m~/projects/torch_template/.venv/lib/python3.11/site-packages/thunder/core/interpreter.py:6543\u001b[0m, in \u001b[0;36minterpret.<locals>.fn_.<locals>.getfn.<locals>.fn_2\u001b[0;34m()\u001b[0m\n\u001b[1;32m   6542\u001b[0m \u001b[38;5;28;01mdef\u001b[39;00m \u001b[38;5;21mfn_2\u001b[39m(args, kwargs):\n\u001b[0;32m-> 6543\u001b[0m     \u001b[38;5;28;01mreturn\u001b[39;00m fn(\u001b[38;5;241m*\u001b[39margs, \u001b[38;5;241m*\u001b[39m\u001b[38;5;241m*\u001b[39mkwargs)\n",
      "File \u001b[0;32m~/projects/torch_template/.venv/lib/python3.11/site-packages/thunder/core/interpreter.py:6238\u001b[0m, in \u001b[0;36m_setup_frame_and_run_python_function\u001b[0;34m(compilectx, runtimectx, wrapped_fn, *args, **kwargs)\u001b[0m\n\u001b[1;32m   6237\u001b[0m \u001b[38;5;28;01mtry\u001b[39;00m:\n\u001b[0;32m-> 6238\u001b[0m     res, status \u001b[38;5;241m=\u001b[39m \u001b[43m_run_frame\u001b[49m\u001b[43m(\u001b[49m\u001b[43mframe\u001b[49m\u001b[43m,\u001b[49m\u001b[43m \u001b[49m\u001b[43mcompilectx\u001b[49m\u001b[43m,\u001b[49m\u001b[43m \u001b[49m\u001b[43mruntimectx\u001b[49m\u001b[43m)\u001b[49m\n\u001b[1;32m   6239\u001b[0m \u001b[38;5;28;01mexcept\u001b[39;00m \u001b[38;5;167;01mException\u001b[39;00m \u001b[38;5;28;01mas\u001b[39;00m e:\n\u001b[1;32m   6240\u001b[0m     \u001b[38;5;66;03m# We need to cheat a bit to get a Python frame here...\u001b[39;00m\n",
      "File \u001b[0;32m~/projects/torch_template/.venv/lib/python3.11/site-packages/thunder/core/interpreter.py:6284\u001b[0m, in \u001b[0;36m_run_frame\u001b[0;34m(frame, compilectx, runtimectx, send_value)\u001b[0m\n\u001b[1;32m   6283\u001b[0m frame\u001b[38;5;241m.\u001b[39mlasti \u001b[38;5;241m=\u001b[39m frame\u001b[38;5;241m.\u001b[39minst_ptr  \u001b[38;5;66;03m# ???\u001b[39;00m\n\u001b[0;32m-> 6284\u001b[0m interpretation_result: \u001b[38;5;28;01mNone\u001b[39;00m \u001b[38;5;241m|\u001b[39m \u001b[38;5;28mint\u001b[39m \u001b[38;5;241m|\u001b[39m INTERPRETER_SIGNALS \u001b[38;5;241m=\u001b[39m \u001b[43mcompilectx\u001b[49m\u001b[38;5;241;43m.\u001b[39;49m\u001b[43minterpret\u001b[49m\u001b[43m(\u001b[49m\n\u001b[1;32m   6285\u001b[0m \u001b[43m    \u001b[49m\u001b[43minst\u001b[49m\u001b[43m,\u001b[49m\n\u001b[1;32m   6286\u001b[0m \u001b[43m    \u001b[49m\u001b[43minst_ptr\u001b[49m\u001b[38;5;241;43m=\u001b[39;49m\u001b[43mframe\u001b[49m\u001b[38;5;241;43m.\u001b[39;49m\u001b[43minst_ptr\u001b[49m\u001b[43m,\u001b[49m\n\u001b[1;32m   6287\u001b[0m \u001b[43m    \u001b[49m\u001b[43mstack\u001b[49m\u001b[38;5;241;43m=\u001b[39;49m\u001b[43mframe\u001b[49m\u001b[38;5;241;43m.\u001b[39;49m\u001b[43minterpreter_stack\u001b[49m\u001b[43m,\u001b[49m\n\u001b[1;32m   6288\u001b[0m \u001b[43m    \u001b[49m\u001b[43mglobals_dict\u001b[49m\u001b[38;5;241;43m=\u001b[39;49m\u001b[43mframe\u001b[49m\u001b[38;5;241;43m.\u001b[39;49m\u001b[43mglobals\u001b[49m\u001b[43m,\u001b[49m\n\u001b[1;32m   6289\u001b[0m \u001b[43m    \u001b[49m\u001b[43mtry_stack\u001b[49m\u001b[38;5;241;43m=\u001b[39;49m\u001b[43mframe\u001b[49m\u001b[38;5;241;43m.\u001b[39;49m\u001b[43mtry_stack\u001b[49m\u001b[43m,\u001b[49m\n\u001b[1;32m   6290\u001b[0m \u001b[43m    \u001b[49m\u001b[43mexception_stack\u001b[49m\u001b[38;5;241;43m=\u001b[39;49m\u001b[43mruntimectx\u001b[49m\u001b[38;5;241;43m.\u001b[39;49m\u001b[43mexception_stack\u001b[49m\u001b[43m,\u001b[49m\n\u001b[1;32m   6291\u001b[0m \u001b[43m    \u001b[49m\u001b[43mco\u001b[49m\u001b[38;5;241;43m=\u001b[39;49m\u001b[43mframe\u001b[49m\u001b[38;5;241;43m.\u001b[39;49m\u001b[43mcode\u001b[49m\u001b[43m,\u001b[49m\n\u001b[1;32m   6292\u001b[0m \u001b[43m    \u001b[49m\u001b[43mframe\u001b[49m\u001b[38;5;241;43m=\u001b[39;49m\u001b[43mframe\u001b[49m\u001b[43m,\u001b[49m\n\u001b[1;32m   6293\u001b[0m \u001b[43m\u001b[49m\u001b[43m)\u001b[49m\n\u001b[1;32m   6294\u001b[0m \u001b[38;5;28;01mif\u001b[39;00m interpretation_result \u001b[38;5;129;01mis\u001b[39;00m INTERPRETER_SIGNALS\u001b[38;5;241m.\u001b[39mEXCEPTION_RAISED:\n",
      "File \u001b[0;32m~/projects/torch_template/.venv/lib/python3.11/site-packages/thunder/core/interpreter.py:408\u001b[0m, in \u001b[0;36mInterpreterCompileCtx.interpret\u001b[0;34m(self, inst, **interpreter_state)\u001b[0m\n\u001b[1;32m    407\u001b[0m \u001b[38;5;28;01mdef\u001b[39;00m \u001b[38;5;21minterpret\u001b[39m(\u001b[38;5;28mself\u001b[39m, inst: dis\u001b[38;5;241m.\u001b[39mInstruction, \u001b[38;5;241m/\u001b[39m, \u001b[38;5;241m*\u001b[39m\u001b[38;5;241m*\u001b[39minterpreter_state) \u001b[38;5;241m-\u001b[39m\u001b[38;5;241m>\u001b[39m \u001b[38;5;28;01mNone\u001b[39;00m \u001b[38;5;241m|\u001b[39m \u001b[38;5;28mint\u001b[39m \u001b[38;5;241m|\u001b[39m INTERPRETER_SIGNALS:\n\u001b[0;32m--> 408\u001b[0m     \u001b[38;5;28;01mreturn\u001b[39;00m \u001b[38;5;28;43mself\u001b[39;49m\u001b[38;5;241;43m.\u001b[39;49m\u001b[43m_opcode_interpreter\u001b[49m\u001b[43m(\u001b[49m\u001b[43minst\u001b[49m\u001b[43m,\u001b[49m\u001b[43m \u001b[49m\u001b[38;5;241;43m*\u001b[39;49m\u001b[38;5;241;43m*\u001b[39;49m\u001b[43minterpreter_state\u001b[49m\u001b[43m)\u001b[49m\n",
      "File \u001b[0;32m~/projects/torch_template/.venv/lib/python3.11/site-packages/thunder/core/interpreter.py:1206\u001b[0m, in \u001b[0;36mdefault_opcode_interpreter\u001b[0;34m(inst, **interpreter_state)\u001b[0m\n\u001b[1;32m   1205\u001b[0m \u001b[38;5;28;01mwith\u001b[39;00m interpreter_state[\u001b[38;5;124m\"\u001b[39m\u001b[38;5;124mstack\u001b[39m\u001b[38;5;124m\"\u001b[39m]\u001b[38;5;241m.\u001b[39mset_cur_instruction(inst):\n\u001b[0;32m-> 1206\u001b[0m     \u001b[38;5;28;01mreturn\u001b[39;00m \u001b[43mhandler\u001b[49m\u001b[43m(\u001b[49m\u001b[43minst\u001b[49m\u001b[43m,\u001b[49m\u001b[43m \u001b[49m\u001b[38;5;241;43m*\u001b[39;49m\u001b[38;5;241;43m*\u001b[39;49m\u001b[43minterpreter_state\u001b[49m\u001b[43m)\u001b[49m\n",
      "File \u001b[0;32m~/projects/torch_template/.venv/lib/python3.11/site-packages/thunder/core/interpreter.py:3507\u001b[0m, in \u001b[0;36m_call_function_ex_handler\u001b[0;34m(inst, stack, **kwargs)\u001b[0m\n\u001b[1;32m   3506\u001b[0m     kwargs \u001b[38;5;241m=\u001b[39m wrap_kwargs_from_dict(kwargs)\n\u001b[0;32m-> 3507\u001b[0m \u001b[38;5;28;01mreturn\u001b[39;00m check_and_append(stack, \u001b[43m_interpret_call\u001b[49m\u001b[43m(\u001b[49m\u001b[43mfunc\u001b[49m\u001b[43m,\u001b[49m\u001b[43m \u001b[49m\u001b[38;5;241;43m*\u001b[39;49m\u001b[43margs\u001b[49m\u001b[43m,\u001b[49m\u001b[43m \u001b[49m\u001b[38;5;241;43m*\u001b[39;49m\u001b[38;5;241;43m*\u001b[39;49m\u001b[43mkwargs\u001b[49m\u001b[43m)\u001b[49m)\n",
      "File \u001b[0;32m~/projects/torch_template/.venv/lib/python3.11/site-packages/thunder/core/interpreter.py:5885\u001b[0m, in \u001b[0;36m_interpret_call\u001b[0;34m(fn, *args, **kwargs)\u001b[0m\n\u001b[1;32m   5884\u001b[0m runtimectx\u001b[38;5;241m.\u001b[39mrecord_interpreter_call(fn)  \u001b[38;5;66;03m# type: ignore\u001b[39;00m\n\u001b[0;32m-> 5885\u001b[0m rval \u001b[38;5;241m=\u001b[39m \u001b[43m_call_dispatch\u001b[49m\u001b[43m(\u001b[49m\u001b[43mcompilectx\u001b[49m\u001b[43m,\u001b[49m\u001b[43m \u001b[49m\u001b[43mruntimectx\u001b[49m\u001b[43m,\u001b[49m\u001b[43m \u001b[49m\u001b[43mfn\u001b[49m\u001b[43m,\u001b[49m\u001b[43m \u001b[49m\u001b[38;5;241;43m*\u001b[39;49m\u001b[43margs\u001b[49m\u001b[43m,\u001b[49m\u001b[43m \u001b[49m\u001b[38;5;241;43m*\u001b[39;49m\u001b[38;5;241;43m*\u001b[39;49m\u001b[43mkwargs\u001b[49m\u001b[43m)\u001b[49m  \u001b[38;5;66;03m# type: ignore\u001b[39;00m\n\u001b[1;32m   5886\u001b[0m \u001b[38;5;28;01mif\u001b[39;00m compilectx\u001b[38;5;241m.\u001b[39m_with_provenance_tracking:\n",
      "File \u001b[0;32m~/projects/torch_template/.venv/lib/python3.11/site-packages/thunder/core/interpreter.py:6110\u001b[0m, in \u001b[0;36m_call_dispatch\u001b[0;34m(compilectx, runtimectx, fn, *args, **kwargs)\u001b[0m\n\u001b[1;32m   6109\u001b[0m     populate_attribute_wrapper(wrapped_call, \u001b[38;5;124m\"\u001b[39m\u001b[38;5;124m__self__\u001b[39m\u001b[38;5;124m\"\u001b[39m, wrapped_fn)\n\u001b[0;32m-> 6110\u001b[0m     \u001b[38;5;28;01mreturn\u001b[39;00m \u001b[43m_interpret_call\u001b[49m\u001b[43m(\u001b[49m\u001b[43mwrapped_call\u001b[49m\u001b[43m,\u001b[49m\u001b[43m \u001b[49m\u001b[38;5;241;43m*\u001b[39;49m\u001b[43margs\u001b[49m\u001b[43m,\u001b[49m\u001b[43m \u001b[49m\u001b[38;5;241;43m*\u001b[39;49m\u001b[38;5;241;43m*\u001b[39;49m\u001b[43mkwargs\u001b[49m\u001b[43m)\u001b[49m\n\u001b[1;32m   6112\u001b[0m \u001b[38;5;66;03m# (7) interprets into the function\u001b[39;00m\n",
      "File \u001b[0;32m~/projects/torch_template/.venv/lib/python3.11/site-packages/thunder/core/interpreter.py:5885\u001b[0m, in \u001b[0;36m_interpret_call\u001b[0;34m(fn, *args, **kwargs)\u001b[0m\n\u001b[1;32m   5884\u001b[0m runtimectx\u001b[38;5;241m.\u001b[39mrecord_interpreter_call(fn)  \u001b[38;5;66;03m# type: ignore\u001b[39;00m\n\u001b[0;32m-> 5885\u001b[0m rval \u001b[38;5;241m=\u001b[39m \u001b[43m_call_dispatch\u001b[49m\u001b[43m(\u001b[49m\u001b[43mcompilectx\u001b[49m\u001b[43m,\u001b[49m\u001b[43m \u001b[49m\u001b[43mruntimectx\u001b[49m\u001b[43m,\u001b[49m\u001b[43m \u001b[49m\u001b[43mfn\u001b[49m\u001b[43m,\u001b[49m\u001b[43m \u001b[49m\u001b[38;5;241;43m*\u001b[39;49m\u001b[43margs\u001b[49m\u001b[43m,\u001b[49m\u001b[43m \u001b[49m\u001b[38;5;241;43m*\u001b[39;49m\u001b[38;5;241;43m*\u001b[39;49m\u001b[43mkwargs\u001b[49m\u001b[43m)\u001b[49m  \u001b[38;5;66;03m# type: ignore\u001b[39;00m\n\u001b[1;32m   5886\u001b[0m \u001b[38;5;28;01mif\u001b[39;00m compilectx\u001b[38;5;241m.\u001b[39m_with_provenance_tracking:\n",
      "File \u001b[0;32m~/projects/torch_template/.venv/lib/python3.11/site-packages/thunder/core/interpreter.py:5944\u001b[0m, in \u001b[0;36m_call_dispatch\u001b[0;34m(compilectx, runtimectx, fn, *args, **kwargs)\u001b[0m\n\u001b[1;32m   5942\u001b[0m         \u001b[38;5;28;01mreturn\u001b[39;00m fn\u001b[38;5;241m.\u001b[39m\u001b[38;5;18m__func__\u001b[39m(fn\u001b[38;5;241m.\u001b[39m\u001b[38;5;18m__self__\u001b[39m, \u001b[38;5;241m*\u001b[39margs, \u001b[38;5;241m*\u001b[39m\u001b[38;5;241m*\u001b[39mkwargs)\n\u001b[0;32m-> 5944\u001b[0m     \u001b[38;5;28;01mreturn\u001b[39;00m \u001b[43m_interpret_call\u001b[49m\u001b[43m(\u001b[49m\u001b[43m_impl\u001b[49m\u001b[43m,\u001b[49m\u001b[43m \u001b[49m\u001b[43mwrapped_fn\u001b[49m\u001b[43m,\u001b[49m\u001b[43m \u001b[49m\u001b[38;5;241;43m*\u001b[39;49m\u001b[43margs\u001b[49m\u001b[43m,\u001b[49m\u001b[43m \u001b[49m\u001b[38;5;241;43m*\u001b[39;49m\u001b[38;5;241;43m*\u001b[39;49m\u001b[43mkwargs\u001b[49m\u001b[43m)\u001b[49m  \u001b[38;5;66;03m# type: ignore\u001b[39;00m\n\u001b[1;32m   5946\u001b[0m \u001b[38;5;66;03m# (1b) The callable is a builtin method, in which case it's canonicalized\u001b[39;00m\n\u001b[1;32m   5947\u001b[0m \u001b[38;5;66;03m#   A builtin is canonicalized when it's a call on a type or a module (or their equivalent)\u001b[39;00m\n\u001b[1;32m   5948\u001b[0m \u001b[38;5;66;03m#   Ex. The append method of a list\u001b[39;00m\n\u001b[0;32m   (...)\u001b[0m\n\u001b[1;32m   5989\u001b[0m \u001b[38;5;66;03m# NOTE Builtin Methods\u001b[39;00m\n\u001b[1;32m   5990\u001b[0m \u001b[38;5;66;03m#   Builtin methods are not considered methods by inspect.ismethod\u001b[39;00m\n",
      "    \u001b[0;31m[... skipping similar frames: _interpret_call at line 5885 (1 times)]\u001b[0m\n",
      "File \u001b[0;32m~/projects/torch_template/.venv/lib/python3.11/site-packages/thunder/core/interpreter.py:6114\u001b[0m, in \u001b[0;36m_call_dispatch\u001b[0;34m(compilectx, runtimectx, fn, *args, **kwargs)\u001b[0m\n\u001b[1;32m   6113\u001b[0m \u001b[38;5;28;01massert\u001b[39;00m \u001b[38;5;28misinstance\u001b[39m(fn, FunctionType), \u001b[38;5;124mf\u001b[39m\u001b[38;5;124m\"\u001b[39m\u001b[38;5;132;01m{\u001b[39;00mfn\u001b[38;5;132;01m=}\u001b[39;00m\u001b[38;5;124m had an unexpected type (\u001b[39m\u001b[38;5;132;01m{\u001b[39;00m\u001b[38;5;28mtype\u001b[39m(fn)\u001b[38;5;132;01m}\u001b[39;00m\u001b[38;5;124m\"\u001b[39m\n\u001b[0;32m-> 6114\u001b[0m \u001b[38;5;28;01mreturn\u001b[39;00m \u001b[43m_setup_frame_and_run_python_function\u001b[49m\u001b[43m(\u001b[49m\u001b[43mcompilectx\u001b[49m\u001b[43m,\u001b[49m\u001b[43m \u001b[49m\u001b[43mruntimectx\u001b[49m\u001b[43m,\u001b[49m\u001b[43m \u001b[49m\u001b[43mwrapped_fn\u001b[49m\u001b[43m,\u001b[49m\u001b[43m \u001b[49m\u001b[38;5;241;43m*\u001b[39;49m\u001b[43margs\u001b[49m\u001b[43m,\u001b[49m\u001b[43m \u001b[49m\u001b[38;5;241;43m*\u001b[39;49m\u001b[38;5;241;43m*\u001b[39;49m\u001b[43mkwargs\u001b[49m\u001b[43m)\u001b[49m\n",
      "File \u001b[0;32m~/projects/torch_template/.venv/lib/python3.11/site-packages/thunder/core/interpreter.py:6243\u001b[0m, in \u001b[0;36m_setup_frame_and_run_python_function\u001b[0;34m(compilectx, runtimectx, wrapped_fn, *args, **kwargs)\u001b[0m\n\u001b[1;32m   6242\u001b[0m     tb \u001b[38;5;241m=\u001b[39m TracebackType(e\u001b[38;5;241m.\u001b[39m__traceback__, python_frame, python_frame\u001b[38;5;241m.\u001b[39mf_lasti, python_frame\u001b[38;5;241m.\u001b[39mf_lineno)\n\u001b[0;32m-> 6243\u001b[0m     \u001b[38;5;28;01mraise\u001b[39;00m e\u001b[38;5;241m.\u001b[39mwith_traceback(tb)\n\u001b[1;32m   6244\u001b[0m \u001b[38;5;28;01mreturn\u001b[39;00m res\n",
      "File \u001b[0;32m~/projects/torch_template/.venv/lib/python3.11/site-packages/thunder/core/interpreter.py:5942\u001b[0m, in \u001b[0;36m_call_dispatch.<locals>._impl\u001b[0;34m()\u001b[0m\n\u001b[1;32m   5941\u001b[0m \u001b[38;5;28;01mdef\u001b[39;00m \u001b[38;5;21m_impl\u001b[39m(fn, \u001b[38;5;241m*\u001b[39margs, \u001b[38;5;241m*\u001b[39m\u001b[38;5;241m*\u001b[39mkwargs):\n\u001b[0;32m-> 5942\u001b[0m     \u001b[38;5;28;01mreturn\u001b[39;00m fn\u001b[38;5;241m.\u001b[39m\u001b[38;5;18m__func__\u001b[39m(fn\u001b[38;5;241m.\u001b[39m\u001b[38;5;18m__self__\u001b[39m, \u001b[38;5;241m*\u001b[39margs, \u001b[38;5;241m*\u001b[39m\u001b[38;5;241m*\u001b[39mkwargs)\n",
      "File \u001b[0;32m~/projects/torch_template/.venv/lib/python3.11/site-packages/thunder/core/interpreter.py:6238\u001b[0m, in \u001b[0;36m_setup_frame_and_run_python_function\u001b[0;34m(compilectx, runtimectx, wrapped_fn, *args, **kwargs)\u001b[0m\n\u001b[1;32m   6237\u001b[0m \u001b[38;5;28;01mtry\u001b[39;00m:\n\u001b[0;32m-> 6238\u001b[0m     res, status \u001b[38;5;241m=\u001b[39m \u001b[43m_run_frame\u001b[49m\u001b[43m(\u001b[49m\u001b[43mframe\u001b[49m\u001b[43m,\u001b[49m\u001b[43m \u001b[49m\u001b[43mcompilectx\u001b[49m\u001b[43m,\u001b[49m\u001b[43m \u001b[49m\u001b[43mruntimectx\u001b[49m\u001b[43m)\u001b[49m\n\u001b[1;32m   6239\u001b[0m \u001b[38;5;28;01mexcept\u001b[39;00m \u001b[38;5;167;01mException\u001b[39;00m \u001b[38;5;28;01mas\u001b[39;00m e:\n\u001b[1;32m   6240\u001b[0m     \u001b[38;5;66;03m# We need to cheat a bit to get a Python frame here...\u001b[39;00m\n",
      "File \u001b[0;32m~/projects/torch_template/.venv/lib/python3.11/site-packages/thunder/core/interpreter.py:6284\u001b[0m, in \u001b[0;36m_run_frame\u001b[0;34m(frame, compilectx, runtimectx, send_value)\u001b[0m\n\u001b[1;32m   6283\u001b[0m frame\u001b[38;5;241m.\u001b[39mlasti \u001b[38;5;241m=\u001b[39m frame\u001b[38;5;241m.\u001b[39minst_ptr  \u001b[38;5;66;03m# ???\u001b[39;00m\n\u001b[0;32m-> 6284\u001b[0m interpretation_result: \u001b[38;5;28;01mNone\u001b[39;00m \u001b[38;5;241m|\u001b[39m \u001b[38;5;28mint\u001b[39m \u001b[38;5;241m|\u001b[39m INTERPRETER_SIGNALS \u001b[38;5;241m=\u001b[39m \u001b[43mcompilectx\u001b[49m\u001b[38;5;241;43m.\u001b[39;49m\u001b[43minterpret\u001b[49m\u001b[43m(\u001b[49m\n\u001b[1;32m   6285\u001b[0m \u001b[43m    \u001b[49m\u001b[43minst\u001b[49m\u001b[43m,\u001b[49m\n\u001b[1;32m   6286\u001b[0m \u001b[43m    \u001b[49m\u001b[43minst_ptr\u001b[49m\u001b[38;5;241;43m=\u001b[39;49m\u001b[43mframe\u001b[49m\u001b[38;5;241;43m.\u001b[39;49m\u001b[43minst_ptr\u001b[49m\u001b[43m,\u001b[49m\n\u001b[1;32m   6287\u001b[0m \u001b[43m    \u001b[49m\u001b[43mstack\u001b[49m\u001b[38;5;241;43m=\u001b[39;49m\u001b[43mframe\u001b[49m\u001b[38;5;241;43m.\u001b[39;49m\u001b[43minterpreter_stack\u001b[49m\u001b[43m,\u001b[49m\n\u001b[1;32m   6288\u001b[0m \u001b[43m    \u001b[49m\u001b[43mglobals_dict\u001b[49m\u001b[38;5;241;43m=\u001b[39;49m\u001b[43mframe\u001b[49m\u001b[38;5;241;43m.\u001b[39;49m\u001b[43mglobals\u001b[49m\u001b[43m,\u001b[49m\n\u001b[1;32m   6289\u001b[0m \u001b[43m    \u001b[49m\u001b[43mtry_stack\u001b[49m\u001b[38;5;241;43m=\u001b[39;49m\u001b[43mframe\u001b[49m\u001b[38;5;241;43m.\u001b[39;49m\u001b[43mtry_stack\u001b[49m\u001b[43m,\u001b[49m\n\u001b[1;32m   6290\u001b[0m \u001b[43m    \u001b[49m\u001b[43mexception_stack\u001b[49m\u001b[38;5;241;43m=\u001b[39;49m\u001b[43mruntimectx\u001b[49m\u001b[38;5;241;43m.\u001b[39;49m\u001b[43mexception_stack\u001b[49m\u001b[43m,\u001b[49m\n\u001b[1;32m   6291\u001b[0m \u001b[43m    \u001b[49m\u001b[43mco\u001b[49m\u001b[38;5;241;43m=\u001b[39;49m\u001b[43mframe\u001b[49m\u001b[38;5;241;43m.\u001b[39;49m\u001b[43mcode\u001b[49m\u001b[43m,\u001b[49m\n\u001b[1;32m   6292\u001b[0m \u001b[43m    \u001b[49m\u001b[43mframe\u001b[49m\u001b[38;5;241;43m=\u001b[39;49m\u001b[43mframe\u001b[49m\u001b[43m,\u001b[49m\n\u001b[1;32m   6293\u001b[0m \u001b[43m\u001b[49m\u001b[43m)\u001b[49m\n\u001b[1;32m   6294\u001b[0m \u001b[38;5;28;01mif\u001b[39;00m interpretation_result \u001b[38;5;129;01mis\u001b[39;00m INTERPRETER_SIGNALS\u001b[38;5;241m.\u001b[39mEXCEPTION_RAISED:\n",
      "File \u001b[0;32m~/projects/torch_template/.venv/lib/python3.11/site-packages/thunder/core/interpreter.py:408\u001b[0m, in \u001b[0;36mInterpreterCompileCtx.interpret\u001b[0;34m(self, inst, **interpreter_state)\u001b[0m\n\u001b[1;32m    407\u001b[0m \u001b[38;5;28;01mdef\u001b[39;00m \u001b[38;5;21minterpret\u001b[39m(\u001b[38;5;28mself\u001b[39m, inst: dis\u001b[38;5;241m.\u001b[39mInstruction, \u001b[38;5;241m/\u001b[39m, \u001b[38;5;241m*\u001b[39m\u001b[38;5;241m*\u001b[39minterpreter_state) \u001b[38;5;241m-\u001b[39m\u001b[38;5;241m>\u001b[39m \u001b[38;5;28;01mNone\u001b[39;00m \u001b[38;5;241m|\u001b[39m \u001b[38;5;28mint\u001b[39m \u001b[38;5;241m|\u001b[39m INTERPRETER_SIGNALS:\n\u001b[0;32m--> 408\u001b[0m     \u001b[38;5;28;01mreturn\u001b[39;00m \u001b[38;5;28;43mself\u001b[39;49m\u001b[38;5;241;43m.\u001b[39;49m\u001b[43m_opcode_interpreter\u001b[49m\u001b[43m(\u001b[49m\u001b[43minst\u001b[49m\u001b[43m,\u001b[49m\u001b[43m \u001b[49m\u001b[38;5;241;43m*\u001b[39;49m\u001b[38;5;241;43m*\u001b[39;49m\u001b[43minterpreter_state\u001b[49m\u001b[43m)\u001b[49m\n",
      "File \u001b[0;32m~/projects/torch_template/.venv/lib/python3.11/site-packages/thunder/core/interpreter.py:1206\u001b[0m, in \u001b[0;36mdefault_opcode_interpreter\u001b[0;34m(inst, **interpreter_state)\u001b[0m\n\u001b[1;32m   1205\u001b[0m \u001b[38;5;28;01mwith\u001b[39;00m interpreter_state[\u001b[38;5;124m\"\u001b[39m\u001b[38;5;124mstack\u001b[39m\u001b[38;5;124m\"\u001b[39m]\u001b[38;5;241m.\u001b[39mset_cur_instruction(inst):\n\u001b[0;32m-> 1206\u001b[0m     \u001b[38;5;28;01mreturn\u001b[39;00m \u001b[43mhandler\u001b[49m\u001b[43m(\u001b[49m\u001b[43minst\u001b[49m\u001b[43m,\u001b[49m\u001b[43m \u001b[49m\u001b[38;5;241;43m*\u001b[39;49m\u001b[38;5;241;43m*\u001b[39;49m\u001b[43minterpreter_state\u001b[49m\u001b[43m)\u001b[49m\n",
      "File \u001b[0;32m~/projects/torch_template/.venv/lib/python3.11/site-packages/thunder/core/interpreter.py:3507\u001b[0m, in \u001b[0;36m_call_function_ex_handler\u001b[0;34m(inst, stack, **kwargs)\u001b[0m\n\u001b[1;32m   3506\u001b[0m     kwargs \u001b[38;5;241m=\u001b[39m wrap_kwargs_from_dict(kwargs)\n\u001b[0;32m-> 3507\u001b[0m \u001b[38;5;28;01mreturn\u001b[39;00m check_and_append(stack, \u001b[43m_interpret_call\u001b[49m\u001b[43m(\u001b[49m\u001b[43mfunc\u001b[49m\u001b[43m,\u001b[49m\u001b[43m \u001b[49m\u001b[38;5;241;43m*\u001b[39;49m\u001b[43margs\u001b[49m\u001b[43m,\u001b[49m\u001b[43m \u001b[49m\u001b[38;5;241;43m*\u001b[39;49m\u001b[38;5;241;43m*\u001b[39;49m\u001b[43mkwargs\u001b[49m\u001b[43m)\u001b[49m)\n",
      "    \u001b[0;31m[... skipping similar frames: _interpret_call at line 5885 (1 times)]\u001b[0m\n",
      "File \u001b[0;32m~/projects/torch_template/.venv/lib/python3.11/site-packages/thunder/core/interpreter.py:6114\u001b[0m, in \u001b[0;36m_call_dispatch\u001b[0;34m(compilectx, runtimectx, fn, *args, **kwargs)\u001b[0m\n\u001b[1;32m   6113\u001b[0m \u001b[38;5;28;01massert\u001b[39;00m \u001b[38;5;28misinstance\u001b[39m(fn, FunctionType), \u001b[38;5;124mf\u001b[39m\u001b[38;5;124m\"\u001b[39m\u001b[38;5;132;01m{\u001b[39;00mfn\u001b[38;5;132;01m=}\u001b[39;00m\u001b[38;5;124m had an unexpected type (\u001b[39m\u001b[38;5;132;01m{\u001b[39;00m\u001b[38;5;28mtype\u001b[39m(fn)\u001b[38;5;132;01m}\u001b[39;00m\u001b[38;5;124m\"\u001b[39m\n\u001b[0;32m-> 6114\u001b[0m \u001b[38;5;28;01mreturn\u001b[39;00m \u001b[43m_setup_frame_and_run_python_function\u001b[49m\u001b[43m(\u001b[49m\u001b[43mcompilectx\u001b[49m\u001b[43m,\u001b[49m\u001b[43m \u001b[49m\u001b[43mruntimectx\u001b[49m\u001b[43m,\u001b[49m\u001b[43m \u001b[49m\u001b[43mwrapped_fn\u001b[49m\u001b[43m,\u001b[49m\u001b[43m \u001b[49m\u001b[38;5;241;43m*\u001b[39;49m\u001b[43margs\u001b[49m\u001b[43m,\u001b[49m\u001b[43m \u001b[49m\u001b[38;5;241;43m*\u001b[39;49m\u001b[38;5;241;43m*\u001b[39;49m\u001b[43mkwargs\u001b[49m\u001b[43m)\u001b[49m\n",
      "File \u001b[0;32m~/projects/torch_template/.venv/lib/python3.11/site-packages/thunder/core/interpreter.py:6243\u001b[0m, in \u001b[0;36m_setup_frame_and_run_python_function\u001b[0;34m(compilectx, runtimectx, wrapped_fn, *args, **kwargs)\u001b[0m\n\u001b[1;32m   6242\u001b[0m     tb \u001b[38;5;241m=\u001b[39m TracebackType(e\u001b[38;5;241m.\u001b[39m__traceback__, python_frame, python_frame\u001b[38;5;241m.\u001b[39mf_lasti, python_frame\u001b[38;5;241m.\u001b[39mf_lineno)\n\u001b[0;32m-> 6243\u001b[0m     \u001b[38;5;28;01mraise\u001b[39;00m e\u001b[38;5;241m.\u001b[39mwith_traceback(tb)\n\u001b[1;32m   6244\u001b[0m \u001b[38;5;28;01mreturn\u001b[39;00m res\n",
      "File \u001b[0;32m~/projects/torch_template/.venv/lib/python3.11/site-packages/torch/nn/modules/module.py:1511\u001b[0m, in \u001b[0;36mModule._wrapped_call_impl\u001b[0;34m()\u001b[0m\n\u001b[1;32m   1510\u001b[0m \u001b[38;5;28;01melse\u001b[39;00m:\n\u001b[0;32m-> 1511\u001b[0m     \u001b[38;5;28;01mreturn\u001b[39;00m \u001b[38;5;28mself\u001b[39m\u001b[38;5;241m.\u001b[39m_call_impl(\u001b[38;5;241m*\u001b[39margs, \u001b[38;5;241m*\u001b[39m\u001b[38;5;241m*\u001b[39mkwargs)\n",
      "    \u001b[0;31m[... skipping similar frames: _call_function_ex_handler at line 3507 (1 times), _interpret_call at line 5885 (1 times), _run_frame at line 6284 (1 times), _setup_frame_and_run_python_function at line 6238 (1 times), default_opcode_interpreter at line 1206 (1 times), InterpreterCompileCtx.interpret at line 408 (1 times)]\u001b[0m\n",
      "File \u001b[0;32m~/projects/torch_template/.venv/lib/python3.11/site-packages/thunder/core/interpreter.py:5944\u001b[0m, in \u001b[0;36m_call_dispatch\u001b[0;34m(compilectx, runtimectx, fn, *args, **kwargs)\u001b[0m\n\u001b[1;32m   5942\u001b[0m         \u001b[38;5;28;01mreturn\u001b[39;00m fn\u001b[38;5;241m.\u001b[39m\u001b[38;5;18m__func__\u001b[39m(fn\u001b[38;5;241m.\u001b[39m\u001b[38;5;18m__self__\u001b[39m, \u001b[38;5;241m*\u001b[39margs, \u001b[38;5;241m*\u001b[39m\u001b[38;5;241m*\u001b[39mkwargs)\n\u001b[0;32m-> 5944\u001b[0m     \u001b[38;5;28;01mreturn\u001b[39;00m \u001b[43m_interpret_call\u001b[49m\u001b[43m(\u001b[49m\u001b[43m_impl\u001b[49m\u001b[43m,\u001b[49m\u001b[43m \u001b[49m\u001b[43mwrapped_fn\u001b[49m\u001b[43m,\u001b[49m\u001b[43m \u001b[49m\u001b[38;5;241;43m*\u001b[39;49m\u001b[43margs\u001b[49m\u001b[43m,\u001b[49m\u001b[43m \u001b[49m\u001b[38;5;241;43m*\u001b[39;49m\u001b[38;5;241;43m*\u001b[39;49m\u001b[43mkwargs\u001b[49m\u001b[43m)\u001b[49m  \u001b[38;5;66;03m# type: ignore\u001b[39;00m\n\u001b[1;32m   5946\u001b[0m \u001b[38;5;66;03m# (1b) The callable is a builtin method, in which case it's canonicalized\u001b[39;00m\n\u001b[1;32m   5947\u001b[0m \u001b[38;5;66;03m#   A builtin is canonicalized when it's a call on a type or a module (or their equivalent)\u001b[39;00m\n\u001b[1;32m   5948\u001b[0m \u001b[38;5;66;03m#   Ex. The append method of a list\u001b[39;00m\n\u001b[0;32m   (...)\u001b[0m\n\u001b[1;32m   5989\u001b[0m \u001b[38;5;66;03m# NOTE Builtin Methods\u001b[39;00m\n\u001b[1;32m   5990\u001b[0m \u001b[38;5;66;03m#   Builtin methods are not considered methods by inspect.ismethod\u001b[39;00m\n",
      "    \u001b[0;31m[... skipping similar frames: _call_dispatch at line 6114 (1 times), _interpret_call at line 5885 (1 times), _setup_frame_and_run_python_function at line 6243 (1 times)]\u001b[0m\n",
      "File \u001b[0;32m~/projects/torch_template/.venv/lib/python3.11/site-packages/thunder/core/interpreter.py:5942\u001b[0m, in \u001b[0;36m_call_dispatch.<locals>._impl\u001b[0;34m()\u001b[0m\n\u001b[1;32m   5941\u001b[0m \u001b[38;5;28;01mdef\u001b[39;00m \u001b[38;5;21m_impl\u001b[39m(fn, \u001b[38;5;241m*\u001b[39margs, \u001b[38;5;241m*\u001b[39m\u001b[38;5;241m*\u001b[39mkwargs):\n\u001b[0;32m-> 5942\u001b[0m     \u001b[38;5;28;01mreturn\u001b[39;00m fn\u001b[38;5;241m.\u001b[39m\u001b[38;5;18m__func__\u001b[39m(fn\u001b[38;5;241m.\u001b[39m\u001b[38;5;18m__self__\u001b[39m, \u001b[38;5;241m*\u001b[39margs, \u001b[38;5;241m*\u001b[39m\u001b[38;5;241m*\u001b[39mkwargs)\n",
      "    \u001b[0;31m[... skipping similar frames: _call_dispatch at line 6114 (1 times), _call_function_ex_handler at line 3507 (1 times), _interpret_call at line 5885 (1 times), _run_frame at line 6284 (1 times), _setup_frame_and_run_python_function at line 6238 (1 times), _setup_frame_and_run_python_function at line 6243 (1 times), default_opcode_interpreter at line 1206 (1 times), InterpreterCompileCtx.interpret at line 408 (1 times)]\u001b[0m\n",
      "File \u001b[0;32m~/projects/torch_template/.venv/lib/python3.11/site-packages/torch/nn/modules/module.py:1520\u001b[0m, in \u001b[0;36mModule._call_impl\u001b[0;34m()\u001b[0m\n\u001b[1;32m   1517\u001b[0m \u001b[38;5;28;01mif\u001b[39;00m \u001b[38;5;129;01mnot\u001b[39;00m (\u001b[38;5;28mself\u001b[39m\u001b[38;5;241m.\u001b[39m_backward_hooks \u001b[38;5;129;01mor\u001b[39;00m \u001b[38;5;28mself\u001b[39m\u001b[38;5;241m.\u001b[39m_backward_pre_hooks \u001b[38;5;129;01mor\u001b[39;00m \u001b[38;5;28mself\u001b[39m\u001b[38;5;241m.\u001b[39m_forward_hooks \u001b[38;5;129;01mor\u001b[39;00m \u001b[38;5;28mself\u001b[39m\u001b[38;5;241m.\u001b[39m_forward_pre_hooks\n\u001b[1;32m   1518\u001b[0m         \u001b[38;5;129;01mor\u001b[39;00m _global_backward_pre_hooks \u001b[38;5;129;01mor\u001b[39;00m _global_backward_hooks\n\u001b[1;32m   1519\u001b[0m         \u001b[38;5;129;01mor\u001b[39;00m _global_forward_hooks \u001b[38;5;129;01mor\u001b[39;00m _global_forward_pre_hooks):\n\u001b[0;32m-> 1520\u001b[0m     \u001b[38;5;28;01mreturn\u001b[39;00m forward_call(\u001b[38;5;241m*\u001b[39margs, \u001b[38;5;241m*\u001b[39m\u001b[38;5;241m*\u001b[39mkwargs)\n\u001b[1;32m   1522\u001b[0m \u001b[38;5;28;01mtry\u001b[39;00m:\n",
      "    \u001b[0;31m[... skipping similar frames: _call_function_ex_handler at line 3507 (1 times), _interpret_call at line 5885 (1 times), _run_frame at line 6284 (1 times), _setup_frame_and_run_python_function at line 6238 (1 times), default_opcode_interpreter at line 1206 (1 times), InterpreterCompileCtx.interpret at line 408 (1 times)]\u001b[0m\n",
      "File \u001b[0;32m~/projects/torch_template/.venv/lib/python3.11/site-packages/thunder/core/interpreter.py:5944\u001b[0m, in \u001b[0;36m_call_dispatch\u001b[0;34m(compilectx, runtimectx, fn, *args, **kwargs)\u001b[0m\n\u001b[1;32m   5942\u001b[0m         \u001b[38;5;28;01mreturn\u001b[39;00m fn\u001b[38;5;241m.\u001b[39m\u001b[38;5;18m__func__\u001b[39m(fn\u001b[38;5;241m.\u001b[39m\u001b[38;5;18m__self__\u001b[39m, \u001b[38;5;241m*\u001b[39margs, \u001b[38;5;241m*\u001b[39m\u001b[38;5;241m*\u001b[39mkwargs)\n\u001b[0;32m-> 5944\u001b[0m     \u001b[38;5;28;01mreturn\u001b[39;00m \u001b[43m_interpret_call\u001b[49m\u001b[43m(\u001b[49m\u001b[43m_impl\u001b[49m\u001b[43m,\u001b[49m\u001b[43m \u001b[49m\u001b[43mwrapped_fn\u001b[49m\u001b[43m,\u001b[49m\u001b[43m \u001b[49m\u001b[38;5;241;43m*\u001b[39;49m\u001b[43margs\u001b[49m\u001b[43m,\u001b[49m\u001b[43m \u001b[49m\u001b[38;5;241;43m*\u001b[39;49m\u001b[38;5;241;43m*\u001b[39;49m\u001b[43mkwargs\u001b[49m\u001b[43m)\u001b[49m  \u001b[38;5;66;03m# type: ignore\u001b[39;00m\n\u001b[1;32m   5946\u001b[0m \u001b[38;5;66;03m# (1b) The callable is a builtin method, in which case it's canonicalized\u001b[39;00m\n\u001b[1;32m   5947\u001b[0m \u001b[38;5;66;03m#   A builtin is canonicalized when it's a call on a type or a module (or their equivalent)\u001b[39;00m\n\u001b[1;32m   5948\u001b[0m \u001b[38;5;66;03m#   Ex. The append method of a list\u001b[39;00m\n\u001b[0;32m   (...)\u001b[0m\n\u001b[1;32m   5989\u001b[0m \u001b[38;5;66;03m# NOTE Builtin Methods\u001b[39;00m\n\u001b[1;32m   5990\u001b[0m \u001b[38;5;66;03m#   Builtin methods are not considered methods by inspect.ismethod\u001b[39;00m\n",
      "    \u001b[0;31m[... skipping similar frames: _call_dispatch at line 6114 (1 times), _interpret_call at line 5885 (1 times), _setup_frame_and_run_python_function at line 6243 (1 times)]\u001b[0m\n",
      "File \u001b[0;32m~/projects/torch_template/.venv/lib/python3.11/site-packages/thunder/core/interpreter.py:5942\u001b[0m, in \u001b[0;36m_call_dispatch.<locals>._impl\u001b[0;34m()\u001b[0m\n\u001b[1;32m   5941\u001b[0m \u001b[38;5;28;01mdef\u001b[39;00m \u001b[38;5;21m_impl\u001b[39m(fn, \u001b[38;5;241m*\u001b[39margs, \u001b[38;5;241m*\u001b[39m\u001b[38;5;241m*\u001b[39mkwargs):\n\u001b[0;32m-> 5942\u001b[0m     \u001b[38;5;28;01mreturn\u001b[39;00m fn\u001b[38;5;241m.\u001b[39m\u001b[38;5;18m__func__\u001b[39m(fn\u001b[38;5;241m.\u001b[39m\u001b[38;5;18m__self__\u001b[39m, \u001b[38;5;241m*\u001b[39margs, \u001b[38;5;241m*\u001b[39m\u001b[38;5;241m*\u001b[39mkwargs)\n",
      "File \u001b[0;32m~/projects/torch_template/.venv/lib/python3.11/site-packages/thunder/core/interpreter.py:6238\u001b[0m, in \u001b[0;36m_setup_frame_and_run_python_function\u001b[0;34m(compilectx, runtimectx, wrapped_fn, *args, **kwargs)\u001b[0m\n\u001b[1;32m   6237\u001b[0m \u001b[38;5;28;01mtry\u001b[39;00m:\n\u001b[0;32m-> 6238\u001b[0m     res, status \u001b[38;5;241m=\u001b[39m \u001b[43m_run_frame\u001b[49m\u001b[43m(\u001b[49m\u001b[43mframe\u001b[49m\u001b[43m,\u001b[49m\u001b[43m \u001b[49m\u001b[43mcompilectx\u001b[49m\u001b[43m,\u001b[49m\u001b[43m \u001b[49m\u001b[43mruntimectx\u001b[49m\u001b[43m)\u001b[49m\n\u001b[1;32m   6239\u001b[0m \u001b[38;5;28;01mexcept\u001b[39;00m \u001b[38;5;167;01mException\u001b[39;00m \u001b[38;5;28;01mas\u001b[39;00m e:\n\u001b[1;32m   6240\u001b[0m     \u001b[38;5;66;03m# We need to cheat a bit to get a Python frame here...\u001b[39;00m\n",
      "File \u001b[0;32m~/projects/torch_template/.venv/lib/python3.11/site-packages/thunder/core/interpreter.py:6284\u001b[0m, in \u001b[0;36m_run_frame\u001b[0;34m(frame, compilectx, runtimectx, send_value)\u001b[0m\n\u001b[1;32m   6283\u001b[0m frame\u001b[38;5;241m.\u001b[39mlasti \u001b[38;5;241m=\u001b[39m frame\u001b[38;5;241m.\u001b[39minst_ptr  \u001b[38;5;66;03m# ???\u001b[39;00m\n\u001b[0;32m-> 6284\u001b[0m interpretation_result: \u001b[38;5;28;01mNone\u001b[39;00m \u001b[38;5;241m|\u001b[39m \u001b[38;5;28mint\u001b[39m \u001b[38;5;241m|\u001b[39m INTERPRETER_SIGNALS \u001b[38;5;241m=\u001b[39m \u001b[43mcompilectx\u001b[49m\u001b[38;5;241;43m.\u001b[39;49m\u001b[43minterpret\u001b[49m\u001b[43m(\u001b[49m\n\u001b[1;32m   6285\u001b[0m \u001b[43m    \u001b[49m\u001b[43minst\u001b[49m\u001b[43m,\u001b[49m\n\u001b[1;32m   6286\u001b[0m \u001b[43m    \u001b[49m\u001b[43minst_ptr\u001b[49m\u001b[38;5;241;43m=\u001b[39;49m\u001b[43mframe\u001b[49m\u001b[38;5;241;43m.\u001b[39;49m\u001b[43minst_ptr\u001b[49m\u001b[43m,\u001b[49m\n\u001b[1;32m   6287\u001b[0m \u001b[43m    \u001b[49m\u001b[43mstack\u001b[49m\u001b[38;5;241;43m=\u001b[39;49m\u001b[43mframe\u001b[49m\u001b[38;5;241;43m.\u001b[39;49m\u001b[43minterpreter_stack\u001b[49m\u001b[43m,\u001b[49m\n\u001b[1;32m   6288\u001b[0m \u001b[43m    \u001b[49m\u001b[43mglobals_dict\u001b[49m\u001b[38;5;241;43m=\u001b[39;49m\u001b[43mframe\u001b[49m\u001b[38;5;241;43m.\u001b[39;49m\u001b[43mglobals\u001b[49m\u001b[43m,\u001b[49m\n\u001b[1;32m   6289\u001b[0m \u001b[43m    \u001b[49m\u001b[43mtry_stack\u001b[49m\u001b[38;5;241;43m=\u001b[39;49m\u001b[43mframe\u001b[49m\u001b[38;5;241;43m.\u001b[39;49m\u001b[43mtry_stack\u001b[49m\u001b[43m,\u001b[49m\n\u001b[1;32m   6290\u001b[0m \u001b[43m    \u001b[49m\u001b[43mexception_stack\u001b[49m\u001b[38;5;241;43m=\u001b[39;49m\u001b[43mruntimectx\u001b[49m\u001b[38;5;241;43m.\u001b[39;49m\u001b[43mexception_stack\u001b[49m\u001b[43m,\u001b[49m\n\u001b[1;32m   6291\u001b[0m \u001b[43m    \u001b[49m\u001b[43mco\u001b[49m\u001b[38;5;241;43m=\u001b[39;49m\u001b[43mframe\u001b[49m\u001b[38;5;241;43m.\u001b[39;49m\u001b[43mcode\u001b[49m\u001b[43m,\u001b[49m\n\u001b[1;32m   6292\u001b[0m \u001b[43m    \u001b[49m\u001b[43mframe\u001b[49m\u001b[38;5;241;43m=\u001b[39;49m\u001b[43mframe\u001b[49m\u001b[43m,\u001b[49m\n\u001b[1;32m   6293\u001b[0m \u001b[43m\u001b[49m\u001b[43m)\u001b[49m\n\u001b[1;32m   6294\u001b[0m \u001b[38;5;28;01mif\u001b[39;00m interpretation_result \u001b[38;5;129;01mis\u001b[39;00m INTERPRETER_SIGNALS\u001b[38;5;241m.\u001b[39mEXCEPTION_RAISED:\n",
      "File \u001b[0;32m~/projects/torch_template/.venv/lib/python3.11/site-packages/thunder/core/interpreter.py:408\u001b[0m, in \u001b[0;36mInterpreterCompileCtx.interpret\u001b[0;34m(self, inst, **interpreter_state)\u001b[0m\n\u001b[1;32m    407\u001b[0m \u001b[38;5;28;01mdef\u001b[39;00m \u001b[38;5;21minterpret\u001b[39m(\u001b[38;5;28mself\u001b[39m, inst: dis\u001b[38;5;241m.\u001b[39mInstruction, \u001b[38;5;241m/\u001b[39m, \u001b[38;5;241m*\u001b[39m\u001b[38;5;241m*\u001b[39minterpreter_state) \u001b[38;5;241m-\u001b[39m\u001b[38;5;241m>\u001b[39m \u001b[38;5;28;01mNone\u001b[39;00m \u001b[38;5;241m|\u001b[39m \u001b[38;5;28mint\u001b[39m \u001b[38;5;241m|\u001b[39m INTERPRETER_SIGNALS:\n\u001b[0;32m--> 408\u001b[0m     \u001b[38;5;28;01mreturn\u001b[39;00m \u001b[38;5;28;43mself\u001b[39;49m\u001b[38;5;241;43m.\u001b[39;49m\u001b[43m_opcode_interpreter\u001b[49m\u001b[43m(\u001b[49m\u001b[43minst\u001b[49m\u001b[43m,\u001b[49m\u001b[43m \u001b[49m\u001b[38;5;241;43m*\u001b[39;49m\u001b[38;5;241;43m*\u001b[39;49m\u001b[43minterpreter_state\u001b[49m\u001b[43m)\u001b[49m\n",
      "File \u001b[0;32m~/projects/torch_template/.venv/lib/python3.11/site-packages/thunder/core/interpreter.py:1206\u001b[0m, in \u001b[0;36mdefault_opcode_interpreter\u001b[0;34m(inst, **interpreter_state)\u001b[0m\n\u001b[1;32m   1205\u001b[0m \u001b[38;5;28;01mwith\u001b[39;00m interpreter_state[\u001b[38;5;124m\"\u001b[39m\u001b[38;5;124mstack\u001b[39m\u001b[38;5;124m\"\u001b[39m]\u001b[38;5;241m.\u001b[39mset_cur_instruction(inst):\n\u001b[0;32m-> 1206\u001b[0m     \u001b[38;5;28;01mreturn\u001b[39;00m \u001b[43mhandler\u001b[49m\u001b[43m(\u001b[49m\u001b[43minst\u001b[49m\u001b[43m,\u001b[49m\u001b[43m \u001b[49m\u001b[38;5;241;43m*\u001b[39;49m\u001b[38;5;241;43m*\u001b[39;49m\u001b[43minterpreter_state\u001b[49m\u001b[43m)\u001b[49m\n",
      "File \u001b[0;32m~/projects/torch_template/.venv/lib/python3.11/site-packages/thunder/core/interpreter.py:3507\u001b[0m, in \u001b[0;36m_call_function_ex_handler\u001b[0;34m(inst, stack, **kwargs)\u001b[0m\n\u001b[1;32m   3506\u001b[0m     kwargs \u001b[38;5;241m=\u001b[39m wrap_kwargs_from_dict(kwargs)\n\u001b[0;32m-> 3507\u001b[0m \u001b[38;5;28;01mreturn\u001b[39;00m check_and_append(stack, \u001b[43m_interpret_call\u001b[49m\u001b[43m(\u001b[49m\u001b[43mfunc\u001b[49m\u001b[43m,\u001b[49m\u001b[43m \u001b[49m\u001b[38;5;241;43m*\u001b[39;49m\u001b[43margs\u001b[49m\u001b[43m,\u001b[49m\u001b[43m \u001b[49m\u001b[38;5;241;43m*\u001b[39;49m\u001b[38;5;241;43m*\u001b[39;49m\u001b[43mkwargs\u001b[49m\u001b[43m)\u001b[49m)\n",
      "File \u001b[0;32m~/projects/torch_template/.venv/lib/python3.11/site-packages/thunder/core/interpreter.py:5885\u001b[0m, in \u001b[0;36m_interpret_call\u001b[0;34m(fn, *args, **kwargs)\u001b[0m\n\u001b[1;32m   5884\u001b[0m runtimectx\u001b[38;5;241m.\u001b[39mrecord_interpreter_call(fn)  \u001b[38;5;66;03m# type: ignore\u001b[39;00m\n\u001b[0;32m-> 5885\u001b[0m rval \u001b[38;5;241m=\u001b[39m \u001b[43m_call_dispatch\u001b[49m\u001b[43m(\u001b[49m\u001b[43mcompilectx\u001b[49m\u001b[43m,\u001b[49m\u001b[43m \u001b[49m\u001b[43mruntimectx\u001b[49m\u001b[43m,\u001b[49m\u001b[43m \u001b[49m\u001b[43mfn\u001b[49m\u001b[43m,\u001b[49m\u001b[43m \u001b[49m\u001b[38;5;241;43m*\u001b[39;49m\u001b[43margs\u001b[49m\u001b[43m,\u001b[49m\u001b[43m \u001b[49m\u001b[38;5;241;43m*\u001b[39;49m\u001b[38;5;241;43m*\u001b[39;49m\u001b[43mkwargs\u001b[49m\u001b[43m)\u001b[49m  \u001b[38;5;66;03m# type: ignore\u001b[39;00m\n\u001b[1;32m   5886\u001b[0m \u001b[38;5;28;01mif\u001b[39;00m compilectx\u001b[38;5;241m.\u001b[39m_with_provenance_tracking:\n",
      "File \u001b[0;32m~/projects/torch_template/.venv/lib/python3.11/site-packages/thunder/core/interpreter.py:6114\u001b[0m, in \u001b[0;36m_call_dispatch\u001b[0;34m(compilectx, runtimectx, fn, *args, **kwargs)\u001b[0m\n\u001b[1;32m   6113\u001b[0m \u001b[38;5;28;01massert\u001b[39;00m \u001b[38;5;28misinstance\u001b[39m(fn, FunctionType), \u001b[38;5;124mf\u001b[39m\u001b[38;5;124m\"\u001b[39m\u001b[38;5;132;01m{\u001b[39;00mfn\u001b[38;5;132;01m=}\u001b[39;00m\u001b[38;5;124m had an unexpected type (\u001b[39m\u001b[38;5;132;01m{\u001b[39;00m\u001b[38;5;28mtype\u001b[39m(fn)\u001b[38;5;132;01m}\u001b[39;00m\u001b[38;5;124m\"\u001b[39m\n\u001b[0;32m-> 6114\u001b[0m \u001b[38;5;28;01mreturn\u001b[39;00m \u001b[43m_setup_frame_and_run_python_function\u001b[49m\u001b[43m(\u001b[49m\u001b[43mcompilectx\u001b[49m\u001b[43m,\u001b[49m\u001b[43m \u001b[49m\u001b[43mruntimectx\u001b[49m\u001b[43m,\u001b[49m\u001b[43m \u001b[49m\u001b[43mwrapped_fn\u001b[49m\u001b[43m,\u001b[49m\u001b[43m \u001b[49m\u001b[38;5;241;43m*\u001b[39;49m\u001b[43margs\u001b[49m\u001b[43m,\u001b[49m\u001b[43m \u001b[49m\u001b[38;5;241;43m*\u001b[39;49m\u001b[38;5;241;43m*\u001b[39;49m\u001b[43mkwargs\u001b[49m\u001b[43m)\u001b[49m\n",
      "File \u001b[0;32m~/projects/torch_template/.venv/lib/python3.11/site-packages/thunder/core/interpreter.py:6243\u001b[0m, in \u001b[0;36m_setup_frame_and_run_python_function\u001b[0;34m(compilectx, runtimectx, wrapped_fn, *args, **kwargs)\u001b[0m\n\u001b[1;32m   6242\u001b[0m     tb \u001b[38;5;241m=\u001b[39m TracebackType(e\u001b[38;5;241m.\u001b[39m__traceback__, python_frame, python_frame\u001b[38;5;241m.\u001b[39mf_lasti, python_frame\u001b[38;5;241m.\u001b[39mf_lineno)\n\u001b[0;32m-> 6243\u001b[0m     \u001b[38;5;28;01mraise\u001b[39;00m e\u001b[38;5;241m.\u001b[39mwith_traceback(tb)\n\u001b[1;32m   6244\u001b[0m \u001b[38;5;28;01mreturn\u001b[39;00m res\n",
      "File \u001b[0;32m~/projects/torch_template/nfs/samples_RNN/LHT_credits-history/src/models/components/sequential_model.py:19\u001b[0m, in \u001b[0;36mSequentialLitModel.forward\u001b[0;34m()\u001b[0m\n\u001b[1;32m     17\u001b[0m \u001b[38;5;28;01mdef\u001b[39;00m \u001b[38;5;21mforward\u001b[39m(\u001b[38;5;28mself\u001b[39m, inputs: ModelInput) \u001b[38;5;241m-\u001b[39m\u001b[38;5;241m>\u001b[39m ModelOutput:\n\u001b[0;32m---> 19\u001b[0m     state \u001b[38;5;241m=\u001b[39m \u001b[38;5;28mself\u001b[39m\u001b[38;5;241m.\u001b[39mlayers(inputs)\n\u001b[1;32m     21\u001b[0m     \u001b[38;5;28;01mreturn\u001b[39;00m state\n",
      "File \u001b[0;32m~/projects/torch_template/.venv/lib/python3.11/site-packages/thunder/core/interpreter.py:6238\u001b[0m, in \u001b[0;36m_setup_frame_and_run_python_function\u001b[0;34m(compilectx, runtimectx, wrapped_fn, *args, **kwargs)\u001b[0m\n\u001b[1;32m   6237\u001b[0m \u001b[38;5;28;01mtry\u001b[39;00m:\n\u001b[0;32m-> 6238\u001b[0m     res, status \u001b[38;5;241m=\u001b[39m \u001b[43m_run_frame\u001b[49m\u001b[43m(\u001b[49m\u001b[43mframe\u001b[49m\u001b[43m,\u001b[49m\u001b[43m \u001b[49m\u001b[43mcompilectx\u001b[49m\u001b[43m,\u001b[49m\u001b[43m \u001b[49m\u001b[43mruntimectx\u001b[49m\u001b[43m)\u001b[49m\n\u001b[1;32m   6239\u001b[0m \u001b[38;5;28;01mexcept\u001b[39;00m \u001b[38;5;167;01mException\u001b[39;00m \u001b[38;5;28;01mas\u001b[39;00m e:\n\u001b[1;32m   6240\u001b[0m     \u001b[38;5;66;03m# We need to cheat a bit to get a Python frame here...\u001b[39;00m\n",
      "File \u001b[0;32m~/projects/torch_template/.venv/lib/python3.11/site-packages/thunder/core/interpreter.py:6284\u001b[0m, in \u001b[0;36m_run_frame\u001b[0;34m(frame, compilectx, runtimectx, send_value)\u001b[0m\n\u001b[1;32m   6283\u001b[0m frame\u001b[38;5;241m.\u001b[39mlasti \u001b[38;5;241m=\u001b[39m frame\u001b[38;5;241m.\u001b[39minst_ptr  \u001b[38;5;66;03m# ???\u001b[39;00m\n\u001b[0;32m-> 6284\u001b[0m interpretation_result: \u001b[38;5;28;01mNone\u001b[39;00m \u001b[38;5;241m|\u001b[39m \u001b[38;5;28mint\u001b[39m \u001b[38;5;241m|\u001b[39m INTERPRETER_SIGNALS \u001b[38;5;241m=\u001b[39m \u001b[43mcompilectx\u001b[49m\u001b[38;5;241;43m.\u001b[39;49m\u001b[43minterpret\u001b[49m\u001b[43m(\u001b[49m\n\u001b[1;32m   6285\u001b[0m \u001b[43m    \u001b[49m\u001b[43minst\u001b[49m\u001b[43m,\u001b[49m\n\u001b[1;32m   6286\u001b[0m \u001b[43m    \u001b[49m\u001b[43minst_ptr\u001b[49m\u001b[38;5;241;43m=\u001b[39;49m\u001b[43mframe\u001b[49m\u001b[38;5;241;43m.\u001b[39;49m\u001b[43minst_ptr\u001b[49m\u001b[43m,\u001b[49m\n\u001b[1;32m   6287\u001b[0m \u001b[43m    \u001b[49m\u001b[43mstack\u001b[49m\u001b[38;5;241;43m=\u001b[39;49m\u001b[43mframe\u001b[49m\u001b[38;5;241;43m.\u001b[39;49m\u001b[43minterpreter_stack\u001b[49m\u001b[43m,\u001b[49m\n\u001b[1;32m   6288\u001b[0m \u001b[43m    \u001b[49m\u001b[43mglobals_dict\u001b[49m\u001b[38;5;241;43m=\u001b[39;49m\u001b[43mframe\u001b[49m\u001b[38;5;241;43m.\u001b[39;49m\u001b[43mglobals\u001b[49m\u001b[43m,\u001b[49m\n\u001b[1;32m   6289\u001b[0m \u001b[43m    \u001b[49m\u001b[43mtry_stack\u001b[49m\u001b[38;5;241;43m=\u001b[39;49m\u001b[43mframe\u001b[49m\u001b[38;5;241;43m.\u001b[39;49m\u001b[43mtry_stack\u001b[49m\u001b[43m,\u001b[49m\n\u001b[1;32m   6290\u001b[0m \u001b[43m    \u001b[49m\u001b[43mexception_stack\u001b[49m\u001b[38;5;241;43m=\u001b[39;49m\u001b[43mruntimectx\u001b[49m\u001b[38;5;241;43m.\u001b[39;49m\u001b[43mexception_stack\u001b[49m\u001b[43m,\u001b[49m\n\u001b[1;32m   6291\u001b[0m \u001b[43m    \u001b[49m\u001b[43mco\u001b[49m\u001b[38;5;241;43m=\u001b[39;49m\u001b[43mframe\u001b[49m\u001b[38;5;241;43m.\u001b[39;49m\u001b[43mcode\u001b[49m\u001b[43m,\u001b[49m\n\u001b[1;32m   6292\u001b[0m \u001b[43m    \u001b[49m\u001b[43mframe\u001b[49m\u001b[38;5;241;43m=\u001b[39;49m\u001b[43mframe\u001b[49m\u001b[43m,\u001b[49m\n\u001b[1;32m   6293\u001b[0m \u001b[43m\u001b[49m\u001b[43m)\u001b[49m\n\u001b[1;32m   6294\u001b[0m \u001b[38;5;28;01mif\u001b[39;00m interpretation_result \u001b[38;5;129;01mis\u001b[39;00m INTERPRETER_SIGNALS\u001b[38;5;241m.\u001b[39mEXCEPTION_RAISED:\n",
      "File \u001b[0;32m~/projects/torch_template/.venv/lib/python3.11/site-packages/thunder/core/interpreter.py:408\u001b[0m, in \u001b[0;36mInterpreterCompileCtx.interpret\u001b[0;34m(self, inst, **interpreter_state)\u001b[0m\n\u001b[1;32m    407\u001b[0m \u001b[38;5;28;01mdef\u001b[39;00m \u001b[38;5;21minterpret\u001b[39m(\u001b[38;5;28mself\u001b[39m, inst: dis\u001b[38;5;241m.\u001b[39mInstruction, \u001b[38;5;241m/\u001b[39m, \u001b[38;5;241m*\u001b[39m\u001b[38;5;241m*\u001b[39minterpreter_state) \u001b[38;5;241m-\u001b[39m\u001b[38;5;241m>\u001b[39m \u001b[38;5;28;01mNone\u001b[39;00m \u001b[38;5;241m|\u001b[39m \u001b[38;5;28mint\u001b[39m \u001b[38;5;241m|\u001b[39m INTERPRETER_SIGNALS:\n\u001b[0;32m--> 408\u001b[0m     \u001b[38;5;28;01mreturn\u001b[39;00m \u001b[38;5;28;43mself\u001b[39;49m\u001b[38;5;241;43m.\u001b[39;49m\u001b[43m_opcode_interpreter\u001b[49m\u001b[43m(\u001b[49m\u001b[43minst\u001b[49m\u001b[43m,\u001b[49m\u001b[43m \u001b[49m\u001b[38;5;241;43m*\u001b[39;49m\u001b[38;5;241;43m*\u001b[39;49m\u001b[43minterpreter_state\u001b[49m\u001b[43m)\u001b[49m\n",
      "File \u001b[0;32m~/projects/torch_template/.venv/lib/python3.11/site-packages/thunder/core/interpreter.py:1206\u001b[0m, in \u001b[0;36mdefault_opcode_interpreter\u001b[0;34m(inst, **interpreter_state)\u001b[0m\n\u001b[1;32m   1205\u001b[0m \u001b[38;5;28;01mwith\u001b[39;00m interpreter_state[\u001b[38;5;124m\"\u001b[39m\u001b[38;5;124mstack\u001b[39m\u001b[38;5;124m\"\u001b[39m]\u001b[38;5;241m.\u001b[39mset_cur_instruction(inst):\n\u001b[0;32m-> 1206\u001b[0m     \u001b[38;5;28;01mreturn\u001b[39;00m \u001b[43mhandler\u001b[49m\u001b[43m(\u001b[49m\u001b[43minst\u001b[49m\u001b[43m,\u001b[49m\u001b[43m \u001b[49m\u001b[38;5;241;43m*\u001b[39;49m\u001b[38;5;241;43m*\u001b[39;49m\u001b[43minterpreter_state\u001b[49m\u001b[43m)\u001b[49m\n",
      "File \u001b[0;32m~/projects/torch_template/.venv/lib/python3.11/site-packages/thunder/core/interpreter.py:3467\u001b[0m, in \u001b[0;36m_call_handler\u001b[0;34m(inst, stack, frame, **kwargs)\u001b[0m\n\u001b[1;32m   3465\u001b[0m     func \u001b[38;5;241m=\u001b[39m func_or_self\n\u001b[0;32m-> 3467\u001b[0m res \u001b[38;5;241m=\u001b[39m \u001b[43m_interpret_call\u001b[49m\u001b[43m(\u001b[49m\u001b[43mfunc\u001b[49m\u001b[43m,\u001b[49m\u001b[43m \u001b[49m\u001b[38;5;241;43m*\u001b[39;49m\u001b[43margs\u001b[49m\u001b[43m,\u001b[49m\u001b[43m \u001b[49m\u001b[38;5;241;43m*\u001b[39;49m\u001b[38;5;241;43m*\u001b[39;49m\u001b[43mkwargs\u001b[49m\u001b[43m)\u001b[49m\n\u001b[1;32m   3468\u001b[0m ctx: InterpreterCompileCtx \u001b[38;5;241m=\u001b[39m get_interpretercompilectx()\n",
      "File \u001b[0;32m~/projects/torch_template/.venv/lib/python3.11/site-packages/thunder/core/interpreter.py:5885\u001b[0m, in \u001b[0;36m_interpret_call\u001b[0;34m(fn, *args, **kwargs)\u001b[0m\n\u001b[1;32m   5884\u001b[0m runtimectx\u001b[38;5;241m.\u001b[39mrecord_interpreter_call(fn)  \u001b[38;5;66;03m# type: ignore\u001b[39;00m\n\u001b[0;32m-> 5885\u001b[0m rval \u001b[38;5;241m=\u001b[39m \u001b[43m_call_dispatch\u001b[49m\u001b[43m(\u001b[49m\u001b[43mcompilectx\u001b[49m\u001b[43m,\u001b[49m\u001b[43m \u001b[49m\u001b[43mruntimectx\u001b[49m\u001b[43m,\u001b[49m\u001b[43m \u001b[49m\u001b[43mfn\u001b[49m\u001b[43m,\u001b[49m\u001b[43m \u001b[49m\u001b[38;5;241;43m*\u001b[39;49m\u001b[43margs\u001b[49m\u001b[43m,\u001b[49m\u001b[43m \u001b[49m\u001b[38;5;241;43m*\u001b[39;49m\u001b[38;5;241;43m*\u001b[39;49m\u001b[43mkwargs\u001b[49m\u001b[43m)\u001b[49m  \u001b[38;5;66;03m# type: ignore\u001b[39;00m\n\u001b[1;32m   5886\u001b[0m \u001b[38;5;28;01mif\u001b[39;00m compilectx\u001b[38;5;241m.\u001b[39m_with_provenance_tracking:\n",
      "File \u001b[0;32m~/projects/torch_template/.venv/lib/python3.11/site-packages/thunder/core/interpreter.py:6110\u001b[0m, in \u001b[0;36m_call_dispatch\u001b[0;34m(compilectx, runtimectx, fn, *args, **kwargs)\u001b[0m\n\u001b[1;32m   6109\u001b[0m     populate_attribute_wrapper(wrapped_call, \u001b[38;5;124m\"\u001b[39m\u001b[38;5;124m__self__\u001b[39m\u001b[38;5;124m\"\u001b[39m, wrapped_fn)\n\u001b[0;32m-> 6110\u001b[0m     \u001b[38;5;28;01mreturn\u001b[39;00m \u001b[43m_interpret_call\u001b[49m\u001b[43m(\u001b[49m\u001b[43mwrapped_call\u001b[49m\u001b[43m,\u001b[49m\u001b[43m \u001b[49m\u001b[38;5;241;43m*\u001b[39;49m\u001b[43margs\u001b[49m\u001b[43m,\u001b[49m\u001b[43m \u001b[49m\u001b[38;5;241;43m*\u001b[39;49m\u001b[38;5;241;43m*\u001b[39;49m\u001b[43mkwargs\u001b[49m\u001b[43m)\u001b[49m\n\u001b[1;32m   6112\u001b[0m \u001b[38;5;66;03m# (7) interprets into the function\u001b[39;00m\n",
      "File \u001b[0;32m~/projects/torch_template/.venv/lib/python3.11/site-packages/thunder/core/interpreter.py:5885\u001b[0m, in \u001b[0;36m_interpret_call\u001b[0;34m(fn, *args, **kwargs)\u001b[0m\n\u001b[1;32m   5884\u001b[0m runtimectx\u001b[38;5;241m.\u001b[39mrecord_interpreter_call(fn)  \u001b[38;5;66;03m# type: ignore\u001b[39;00m\n\u001b[0;32m-> 5885\u001b[0m rval \u001b[38;5;241m=\u001b[39m \u001b[43m_call_dispatch\u001b[49m\u001b[43m(\u001b[49m\u001b[43mcompilectx\u001b[49m\u001b[43m,\u001b[49m\u001b[43m \u001b[49m\u001b[43mruntimectx\u001b[49m\u001b[43m,\u001b[49m\u001b[43m \u001b[49m\u001b[43mfn\u001b[49m\u001b[43m,\u001b[49m\u001b[43m \u001b[49m\u001b[38;5;241;43m*\u001b[39;49m\u001b[43margs\u001b[49m\u001b[43m,\u001b[49m\u001b[43m \u001b[49m\u001b[38;5;241;43m*\u001b[39;49m\u001b[38;5;241;43m*\u001b[39;49m\u001b[43mkwargs\u001b[49m\u001b[43m)\u001b[49m  \u001b[38;5;66;03m# type: ignore\u001b[39;00m\n\u001b[1;32m   5886\u001b[0m \u001b[38;5;28;01mif\u001b[39;00m compilectx\u001b[38;5;241m.\u001b[39m_with_provenance_tracking:\n",
      "File \u001b[0;32m~/projects/torch_template/.venv/lib/python3.11/site-packages/thunder/core/interpreter.py:5944\u001b[0m, in \u001b[0;36m_call_dispatch\u001b[0;34m(compilectx, runtimectx, fn, *args, **kwargs)\u001b[0m\n\u001b[1;32m   5942\u001b[0m         \u001b[38;5;28;01mreturn\u001b[39;00m fn\u001b[38;5;241m.\u001b[39m\u001b[38;5;18m__func__\u001b[39m(fn\u001b[38;5;241m.\u001b[39m\u001b[38;5;18m__self__\u001b[39m, \u001b[38;5;241m*\u001b[39margs, \u001b[38;5;241m*\u001b[39m\u001b[38;5;241m*\u001b[39mkwargs)\n\u001b[0;32m-> 5944\u001b[0m     \u001b[38;5;28;01mreturn\u001b[39;00m \u001b[43m_interpret_call\u001b[49m\u001b[43m(\u001b[49m\u001b[43m_impl\u001b[49m\u001b[43m,\u001b[49m\u001b[43m \u001b[49m\u001b[43mwrapped_fn\u001b[49m\u001b[43m,\u001b[49m\u001b[43m \u001b[49m\u001b[38;5;241;43m*\u001b[39;49m\u001b[43margs\u001b[49m\u001b[43m,\u001b[49m\u001b[43m \u001b[49m\u001b[38;5;241;43m*\u001b[39;49m\u001b[38;5;241;43m*\u001b[39;49m\u001b[43mkwargs\u001b[49m\u001b[43m)\u001b[49m  \u001b[38;5;66;03m# type: ignore\u001b[39;00m\n\u001b[1;32m   5946\u001b[0m \u001b[38;5;66;03m# (1b) The callable is a builtin method, in which case it's canonicalized\u001b[39;00m\n\u001b[1;32m   5947\u001b[0m \u001b[38;5;66;03m#   A builtin is canonicalized when it's a call on a type or a module (or their equivalent)\u001b[39;00m\n\u001b[1;32m   5948\u001b[0m \u001b[38;5;66;03m#   Ex. The append method of a list\u001b[39;00m\n\u001b[0;32m   (...)\u001b[0m\n\u001b[1;32m   5989\u001b[0m \u001b[38;5;66;03m# NOTE Builtin Methods\u001b[39;00m\n\u001b[1;32m   5990\u001b[0m \u001b[38;5;66;03m#   Builtin methods are not considered methods by inspect.ismethod\u001b[39;00m\n",
      "    \u001b[0;31m[... skipping similar frames: _interpret_call at line 5885 (1 times)]\u001b[0m\n",
      "File \u001b[0;32m~/projects/torch_template/.venv/lib/python3.11/site-packages/thunder/core/interpreter.py:6114\u001b[0m, in \u001b[0;36m_call_dispatch\u001b[0;34m(compilectx, runtimectx, fn, *args, **kwargs)\u001b[0m\n\u001b[1;32m   6113\u001b[0m \u001b[38;5;28;01massert\u001b[39;00m \u001b[38;5;28misinstance\u001b[39m(fn, FunctionType), \u001b[38;5;124mf\u001b[39m\u001b[38;5;124m\"\u001b[39m\u001b[38;5;132;01m{\u001b[39;00mfn\u001b[38;5;132;01m=}\u001b[39;00m\u001b[38;5;124m had an unexpected type (\u001b[39m\u001b[38;5;132;01m{\u001b[39;00m\u001b[38;5;28mtype\u001b[39m(fn)\u001b[38;5;132;01m}\u001b[39;00m\u001b[38;5;124m\"\u001b[39m\n\u001b[0;32m-> 6114\u001b[0m \u001b[38;5;28;01mreturn\u001b[39;00m \u001b[43m_setup_frame_and_run_python_function\u001b[49m\u001b[43m(\u001b[49m\u001b[43mcompilectx\u001b[49m\u001b[43m,\u001b[49m\u001b[43m \u001b[49m\u001b[43mruntimectx\u001b[49m\u001b[43m,\u001b[49m\u001b[43m \u001b[49m\u001b[43mwrapped_fn\u001b[49m\u001b[43m,\u001b[49m\u001b[43m \u001b[49m\u001b[38;5;241;43m*\u001b[39;49m\u001b[43margs\u001b[49m\u001b[43m,\u001b[49m\u001b[43m \u001b[49m\u001b[38;5;241;43m*\u001b[39;49m\u001b[38;5;241;43m*\u001b[39;49m\u001b[43mkwargs\u001b[49m\u001b[43m)\u001b[49m\n",
      "File \u001b[0;32m~/projects/torch_template/.venv/lib/python3.11/site-packages/thunder/core/interpreter.py:6243\u001b[0m, in \u001b[0;36m_setup_frame_and_run_python_function\u001b[0;34m(compilectx, runtimectx, wrapped_fn, *args, **kwargs)\u001b[0m\n\u001b[1;32m   6242\u001b[0m     tb \u001b[38;5;241m=\u001b[39m TracebackType(e\u001b[38;5;241m.\u001b[39m__traceback__, python_frame, python_frame\u001b[38;5;241m.\u001b[39mf_lasti, python_frame\u001b[38;5;241m.\u001b[39mf_lineno)\n\u001b[0;32m-> 6243\u001b[0m     \u001b[38;5;28;01mraise\u001b[39;00m e\u001b[38;5;241m.\u001b[39mwith_traceback(tb)\n\u001b[1;32m   6244\u001b[0m \u001b[38;5;28;01mreturn\u001b[39;00m res\n",
      "File \u001b[0;32m~/projects/torch_template/.venv/lib/python3.11/site-packages/thunder/core/interpreter.py:5942\u001b[0m, in \u001b[0;36m_call_dispatch.<locals>._impl\u001b[0;34m()\u001b[0m\n\u001b[1;32m   5941\u001b[0m \u001b[38;5;28;01mdef\u001b[39;00m \u001b[38;5;21m_impl\u001b[39m(fn, \u001b[38;5;241m*\u001b[39margs, \u001b[38;5;241m*\u001b[39m\u001b[38;5;241m*\u001b[39mkwargs):\n\u001b[0;32m-> 5942\u001b[0m     \u001b[38;5;28;01mreturn\u001b[39;00m fn\u001b[38;5;241m.\u001b[39m\u001b[38;5;18m__func__\u001b[39m(fn\u001b[38;5;241m.\u001b[39m\u001b[38;5;18m__self__\u001b[39m, \u001b[38;5;241m*\u001b[39margs, \u001b[38;5;241m*\u001b[39m\u001b[38;5;241m*\u001b[39mkwargs)\n",
      "File \u001b[0;32m~/projects/torch_template/.venv/lib/python3.11/site-packages/thunder/core/interpreter.py:6238\u001b[0m, in \u001b[0;36m_setup_frame_and_run_python_function\u001b[0;34m(compilectx, runtimectx, wrapped_fn, *args, **kwargs)\u001b[0m\n\u001b[1;32m   6237\u001b[0m \u001b[38;5;28;01mtry\u001b[39;00m:\n\u001b[0;32m-> 6238\u001b[0m     res, status \u001b[38;5;241m=\u001b[39m \u001b[43m_run_frame\u001b[49m\u001b[43m(\u001b[49m\u001b[43mframe\u001b[49m\u001b[43m,\u001b[49m\u001b[43m \u001b[49m\u001b[43mcompilectx\u001b[49m\u001b[43m,\u001b[49m\u001b[43m \u001b[49m\u001b[43mruntimectx\u001b[49m\u001b[43m)\u001b[49m\n\u001b[1;32m   6239\u001b[0m \u001b[38;5;28;01mexcept\u001b[39;00m \u001b[38;5;167;01mException\u001b[39;00m \u001b[38;5;28;01mas\u001b[39;00m e:\n\u001b[1;32m   6240\u001b[0m     \u001b[38;5;66;03m# We need to cheat a bit to get a Python frame here...\u001b[39;00m\n",
      "File \u001b[0;32m~/projects/torch_template/.venv/lib/python3.11/site-packages/thunder/core/interpreter.py:6284\u001b[0m, in \u001b[0;36m_run_frame\u001b[0;34m(frame, compilectx, runtimectx, send_value)\u001b[0m\n\u001b[1;32m   6283\u001b[0m frame\u001b[38;5;241m.\u001b[39mlasti \u001b[38;5;241m=\u001b[39m frame\u001b[38;5;241m.\u001b[39minst_ptr  \u001b[38;5;66;03m# ???\u001b[39;00m\n\u001b[0;32m-> 6284\u001b[0m interpretation_result: \u001b[38;5;28;01mNone\u001b[39;00m \u001b[38;5;241m|\u001b[39m \u001b[38;5;28mint\u001b[39m \u001b[38;5;241m|\u001b[39m INTERPRETER_SIGNALS \u001b[38;5;241m=\u001b[39m \u001b[43mcompilectx\u001b[49m\u001b[38;5;241;43m.\u001b[39;49m\u001b[43minterpret\u001b[49m\u001b[43m(\u001b[49m\n\u001b[1;32m   6285\u001b[0m \u001b[43m    \u001b[49m\u001b[43minst\u001b[49m\u001b[43m,\u001b[49m\n\u001b[1;32m   6286\u001b[0m \u001b[43m    \u001b[49m\u001b[43minst_ptr\u001b[49m\u001b[38;5;241;43m=\u001b[39;49m\u001b[43mframe\u001b[49m\u001b[38;5;241;43m.\u001b[39;49m\u001b[43minst_ptr\u001b[49m\u001b[43m,\u001b[49m\n\u001b[1;32m   6287\u001b[0m \u001b[43m    \u001b[49m\u001b[43mstack\u001b[49m\u001b[38;5;241;43m=\u001b[39;49m\u001b[43mframe\u001b[49m\u001b[38;5;241;43m.\u001b[39;49m\u001b[43minterpreter_stack\u001b[49m\u001b[43m,\u001b[49m\n\u001b[1;32m   6288\u001b[0m \u001b[43m    \u001b[49m\u001b[43mglobals_dict\u001b[49m\u001b[38;5;241;43m=\u001b[39;49m\u001b[43mframe\u001b[49m\u001b[38;5;241;43m.\u001b[39;49m\u001b[43mglobals\u001b[49m\u001b[43m,\u001b[49m\n\u001b[1;32m   6289\u001b[0m \u001b[43m    \u001b[49m\u001b[43mtry_stack\u001b[49m\u001b[38;5;241;43m=\u001b[39;49m\u001b[43mframe\u001b[49m\u001b[38;5;241;43m.\u001b[39;49m\u001b[43mtry_stack\u001b[49m\u001b[43m,\u001b[49m\n\u001b[1;32m   6290\u001b[0m \u001b[43m    \u001b[49m\u001b[43mexception_stack\u001b[49m\u001b[38;5;241;43m=\u001b[39;49m\u001b[43mruntimectx\u001b[49m\u001b[38;5;241;43m.\u001b[39;49m\u001b[43mexception_stack\u001b[49m\u001b[43m,\u001b[49m\n\u001b[1;32m   6291\u001b[0m \u001b[43m    \u001b[49m\u001b[43mco\u001b[49m\u001b[38;5;241;43m=\u001b[39;49m\u001b[43mframe\u001b[49m\u001b[38;5;241;43m.\u001b[39;49m\u001b[43mcode\u001b[49m\u001b[43m,\u001b[49m\n\u001b[1;32m   6292\u001b[0m \u001b[43m    \u001b[49m\u001b[43mframe\u001b[49m\u001b[38;5;241;43m=\u001b[39;49m\u001b[43mframe\u001b[49m\u001b[43m,\u001b[49m\n\u001b[1;32m   6293\u001b[0m \u001b[43m\u001b[49m\u001b[43m)\u001b[49m\n\u001b[1;32m   6294\u001b[0m \u001b[38;5;28;01mif\u001b[39;00m interpretation_result \u001b[38;5;129;01mis\u001b[39;00m INTERPRETER_SIGNALS\u001b[38;5;241m.\u001b[39mEXCEPTION_RAISED:\n",
      "File \u001b[0;32m~/projects/torch_template/.venv/lib/python3.11/site-packages/thunder/core/interpreter.py:408\u001b[0m, in \u001b[0;36mInterpreterCompileCtx.interpret\u001b[0;34m(self, inst, **interpreter_state)\u001b[0m\n\u001b[1;32m    407\u001b[0m \u001b[38;5;28;01mdef\u001b[39;00m \u001b[38;5;21minterpret\u001b[39m(\u001b[38;5;28mself\u001b[39m, inst: dis\u001b[38;5;241m.\u001b[39mInstruction, \u001b[38;5;241m/\u001b[39m, \u001b[38;5;241m*\u001b[39m\u001b[38;5;241m*\u001b[39minterpreter_state) \u001b[38;5;241m-\u001b[39m\u001b[38;5;241m>\u001b[39m \u001b[38;5;28;01mNone\u001b[39;00m \u001b[38;5;241m|\u001b[39m \u001b[38;5;28mint\u001b[39m \u001b[38;5;241m|\u001b[39m INTERPRETER_SIGNALS:\n\u001b[0;32m--> 408\u001b[0m     \u001b[38;5;28;01mreturn\u001b[39;00m \u001b[38;5;28;43mself\u001b[39;49m\u001b[38;5;241;43m.\u001b[39;49m\u001b[43m_opcode_interpreter\u001b[49m\u001b[43m(\u001b[49m\u001b[43minst\u001b[49m\u001b[43m,\u001b[49m\u001b[43m \u001b[49m\u001b[38;5;241;43m*\u001b[39;49m\u001b[38;5;241;43m*\u001b[39;49m\u001b[43minterpreter_state\u001b[49m\u001b[43m)\u001b[49m\n",
      "File \u001b[0;32m~/projects/torch_template/.venv/lib/python3.11/site-packages/thunder/core/interpreter.py:1206\u001b[0m, in \u001b[0;36mdefault_opcode_interpreter\u001b[0;34m(inst, **interpreter_state)\u001b[0m\n\u001b[1;32m   1205\u001b[0m \u001b[38;5;28;01mwith\u001b[39;00m interpreter_state[\u001b[38;5;124m\"\u001b[39m\u001b[38;5;124mstack\u001b[39m\u001b[38;5;124m\"\u001b[39m]\u001b[38;5;241m.\u001b[39mset_cur_instruction(inst):\n\u001b[0;32m-> 1206\u001b[0m     \u001b[38;5;28;01mreturn\u001b[39;00m \u001b[43mhandler\u001b[49m\u001b[43m(\u001b[49m\u001b[43minst\u001b[49m\u001b[43m,\u001b[49m\u001b[43m \u001b[49m\u001b[38;5;241;43m*\u001b[39;49m\u001b[38;5;241;43m*\u001b[39;49m\u001b[43minterpreter_state\u001b[49m\u001b[43m)\u001b[49m\n",
      "File \u001b[0;32m~/projects/torch_template/.venv/lib/python3.11/site-packages/thunder/core/interpreter.py:3507\u001b[0m, in \u001b[0;36m_call_function_ex_handler\u001b[0;34m(inst, stack, **kwargs)\u001b[0m\n\u001b[1;32m   3506\u001b[0m     kwargs \u001b[38;5;241m=\u001b[39m wrap_kwargs_from_dict(kwargs)\n\u001b[0;32m-> 3507\u001b[0m \u001b[38;5;28;01mreturn\u001b[39;00m check_and_append(stack, \u001b[43m_interpret_call\u001b[49m\u001b[43m(\u001b[49m\u001b[43mfunc\u001b[49m\u001b[43m,\u001b[49m\u001b[43m \u001b[49m\u001b[38;5;241;43m*\u001b[39;49m\u001b[43margs\u001b[49m\u001b[43m,\u001b[49m\u001b[43m \u001b[49m\u001b[38;5;241;43m*\u001b[39;49m\u001b[38;5;241;43m*\u001b[39;49m\u001b[43mkwargs\u001b[49m\u001b[43m)\u001b[49m)\n",
      "    \u001b[0;31m[... skipping similar frames: _interpret_call at line 5885 (1 times)]\u001b[0m\n",
      "File \u001b[0;32m~/projects/torch_template/.venv/lib/python3.11/site-packages/thunder/core/interpreter.py:6114\u001b[0m, in \u001b[0;36m_call_dispatch\u001b[0;34m(compilectx, runtimectx, fn, *args, **kwargs)\u001b[0m\n\u001b[1;32m   6113\u001b[0m \u001b[38;5;28;01massert\u001b[39;00m \u001b[38;5;28misinstance\u001b[39m(fn, FunctionType), \u001b[38;5;124mf\u001b[39m\u001b[38;5;124m\"\u001b[39m\u001b[38;5;132;01m{\u001b[39;00mfn\u001b[38;5;132;01m=}\u001b[39;00m\u001b[38;5;124m had an unexpected type (\u001b[39m\u001b[38;5;132;01m{\u001b[39;00m\u001b[38;5;28mtype\u001b[39m(fn)\u001b[38;5;132;01m}\u001b[39;00m\u001b[38;5;124m\"\u001b[39m\n\u001b[0;32m-> 6114\u001b[0m \u001b[38;5;28;01mreturn\u001b[39;00m \u001b[43m_setup_frame_and_run_python_function\u001b[49m\u001b[43m(\u001b[49m\u001b[43mcompilectx\u001b[49m\u001b[43m,\u001b[49m\u001b[43m \u001b[49m\u001b[43mruntimectx\u001b[49m\u001b[43m,\u001b[49m\u001b[43m \u001b[49m\u001b[43mwrapped_fn\u001b[49m\u001b[43m,\u001b[49m\u001b[43m \u001b[49m\u001b[38;5;241;43m*\u001b[39;49m\u001b[43margs\u001b[49m\u001b[43m,\u001b[49m\u001b[43m \u001b[49m\u001b[38;5;241;43m*\u001b[39;49m\u001b[38;5;241;43m*\u001b[39;49m\u001b[43mkwargs\u001b[49m\u001b[43m)\u001b[49m\n",
      "File \u001b[0;32m~/projects/torch_template/.venv/lib/python3.11/site-packages/thunder/core/interpreter.py:6243\u001b[0m, in \u001b[0;36m_setup_frame_and_run_python_function\u001b[0;34m(compilectx, runtimectx, wrapped_fn, *args, **kwargs)\u001b[0m\n\u001b[1;32m   6242\u001b[0m     tb \u001b[38;5;241m=\u001b[39m TracebackType(e\u001b[38;5;241m.\u001b[39m__traceback__, python_frame, python_frame\u001b[38;5;241m.\u001b[39mf_lasti, python_frame\u001b[38;5;241m.\u001b[39mf_lineno)\n\u001b[0;32m-> 6243\u001b[0m     \u001b[38;5;28;01mraise\u001b[39;00m e\u001b[38;5;241m.\u001b[39mwith_traceback(tb)\n\u001b[1;32m   6244\u001b[0m \u001b[38;5;28;01mreturn\u001b[39;00m res\n",
      "File \u001b[0;32m~/projects/torch_template/.venv/lib/python3.11/site-packages/torch/nn/modules/module.py:1511\u001b[0m, in \u001b[0;36mModule._wrapped_call_impl\u001b[0;34m()\u001b[0m\n\u001b[1;32m   1510\u001b[0m \u001b[38;5;28;01melse\u001b[39;00m:\n\u001b[0;32m-> 1511\u001b[0m     \u001b[38;5;28;01mreturn\u001b[39;00m \u001b[38;5;28mself\u001b[39m\u001b[38;5;241m.\u001b[39m_call_impl(\u001b[38;5;241m*\u001b[39margs, \u001b[38;5;241m*\u001b[39m\u001b[38;5;241m*\u001b[39mkwargs)\n",
      "    \u001b[0;31m[... skipping similar frames: _run_frame at line 6284 (1 times), _setup_frame_and_run_python_function at line 6238 (1 times), default_opcode_interpreter at line 1206 (1 times), InterpreterCompileCtx.interpret at line 408 (1 times)]\u001b[0m\n",
      "File \u001b[0;32m~/projects/torch_template/.venv/lib/python3.11/site-packages/thunder/core/interpreter.py:3507\u001b[0m, in \u001b[0;36m_call_function_ex_handler\u001b[0;34m(inst, stack, **kwargs)\u001b[0m\n\u001b[1;32m   3506\u001b[0m     kwargs \u001b[38;5;241m=\u001b[39m wrap_kwargs_from_dict(kwargs)\n\u001b[0;32m-> 3507\u001b[0m \u001b[38;5;28;01mreturn\u001b[39;00m check_and_append(stack, \u001b[43m_interpret_call\u001b[49m\u001b[43m(\u001b[49m\u001b[43mfunc\u001b[49m\u001b[43m,\u001b[49m\u001b[43m \u001b[49m\u001b[38;5;241;43m*\u001b[39;49m\u001b[43margs\u001b[49m\u001b[43m,\u001b[49m\u001b[43m \u001b[49m\u001b[38;5;241;43m*\u001b[39;49m\u001b[38;5;241;43m*\u001b[39;49m\u001b[43mkwargs\u001b[49m\u001b[43m)\u001b[49m)\n",
      "    \u001b[0;31m[... skipping similar frames: _interpret_call at line 5885 (1 times)]\u001b[0m\n",
      "File \u001b[0;32m~/projects/torch_template/.venv/lib/python3.11/site-packages/thunder/core/interpreter.py:5944\u001b[0m, in \u001b[0;36m_call_dispatch\u001b[0;34m(compilectx, runtimectx, fn, *args, **kwargs)\u001b[0m\n\u001b[1;32m   5942\u001b[0m         \u001b[38;5;28;01mreturn\u001b[39;00m fn\u001b[38;5;241m.\u001b[39m\u001b[38;5;18m__func__\u001b[39m(fn\u001b[38;5;241m.\u001b[39m\u001b[38;5;18m__self__\u001b[39m, \u001b[38;5;241m*\u001b[39margs, \u001b[38;5;241m*\u001b[39m\u001b[38;5;241m*\u001b[39mkwargs)\n\u001b[0;32m-> 5944\u001b[0m     \u001b[38;5;28;01mreturn\u001b[39;00m \u001b[43m_interpret_call\u001b[49m\u001b[43m(\u001b[49m\u001b[43m_impl\u001b[49m\u001b[43m,\u001b[49m\u001b[43m \u001b[49m\u001b[43mwrapped_fn\u001b[49m\u001b[43m,\u001b[49m\u001b[43m \u001b[49m\u001b[38;5;241;43m*\u001b[39;49m\u001b[43margs\u001b[49m\u001b[43m,\u001b[49m\u001b[43m \u001b[49m\u001b[38;5;241;43m*\u001b[39;49m\u001b[38;5;241;43m*\u001b[39;49m\u001b[43mkwargs\u001b[49m\u001b[43m)\u001b[49m  \u001b[38;5;66;03m# type: ignore\u001b[39;00m\n\u001b[1;32m   5946\u001b[0m \u001b[38;5;66;03m# (1b) The callable is a builtin method, in which case it's canonicalized\u001b[39;00m\n\u001b[1;32m   5947\u001b[0m \u001b[38;5;66;03m#   A builtin is canonicalized when it's a call on a type or a module (or their equivalent)\u001b[39;00m\n\u001b[1;32m   5948\u001b[0m \u001b[38;5;66;03m#   Ex. The append method of a list\u001b[39;00m\n\u001b[0;32m   (...)\u001b[0m\n\u001b[1;32m   5989\u001b[0m \u001b[38;5;66;03m# NOTE Builtin Methods\u001b[39;00m\n\u001b[1;32m   5990\u001b[0m \u001b[38;5;66;03m#   Builtin methods are not considered methods by inspect.ismethod\u001b[39;00m\n",
      "    \u001b[0;31m[... skipping similar frames: _call_dispatch at line 6114 (1 times), _interpret_call at line 5885 (1 times), _setup_frame_and_run_python_function at line 6243 (1 times)]\u001b[0m\n",
      "File \u001b[0;32m~/projects/torch_template/.venv/lib/python3.11/site-packages/thunder/core/interpreter.py:5942\u001b[0m, in \u001b[0;36m_call_dispatch.<locals>._impl\u001b[0;34m()\u001b[0m\n\u001b[1;32m   5941\u001b[0m \u001b[38;5;28;01mdef\u001b[39;00m \u001b[38;5;21m_impl\u001b[39m(fn, \u001b[38;5;241m*\u001b[39margs, \u001b[38;5;241m*\u001b[39m\u001b[38;5;241m*\u001b[39mkwargs):\n\u001b[0;32m-> 5942\u001b[0m     \u001b[38;5;28;01mreturn\u001b[39;00m fn\u001b[38;5;241m.\u001b[39m\u001b[38;5;18m__func__\u001b[39m(fn\u001b[38;5;241m.\u001b[39m\u001b[38;5;18m__self__\u001b[39m, \u001b[38;5;241m*\u001b[39margs, \u001b[38;5;241m*\u001b[39m\u001b[38;5;241m*\u001b[39mkwargs)\n",
      "    \u001b[0;31m[... skipping similar frames: _call_dispatch at line 6114 (1 times), _call_function_ex_handler at line 3507 (1 times), _interpret_call at line 5885 (1 times), _run_frame at line 6284 (1 times), _setup_frame_and_run_python_function at line 6238 (1 times), _setup_frame_and_run_python_function at line 6243 (1 times), default_opcode_interpreter at line 1206 (1 times), InterpreterCompileCtx.interpret at line 408 (1 times)]\u001b[0m\n",
      "File \u001b[0;32m~/projects/torch_template/.venv/lib/python3.11/site-packages/torch/nn/modules/module.py:1520\u001b[0m, in \u001b[0;36mModule._call_impl\u001b[0;34m()\u001b[0m\n\u001b[1;32m   1517\u001b[0m \u001b[38;5;28;01mif\u001b[39;00m \u001b[38;5;129;01mnot\u001b[39;00m (\u001b[38;5;28mself\u001b[39m\u001b[38;5;241m.\u001b[39m_backward_hooks \u001b[38;5;129;01mor\u001b[39;00m \u001b[38;5;28mself\u001b[39m\u001b[38;5;241m.\u001b[39m_backward_pre_hooks \u001b[38;5;129;01mor\u001b[39;00m \u001b[38;5;28mself\u001b[39m\u001b[38;5;241m.\u001b[39m_forward_hooks \u001b[38;5;129;01mor\u001b[39;00m \u001b[38;5;28mself\u001b[39m\u001b[38;5;241m.\u001b[39m_forward_pre_hooks\n\u001b[1;32m   1518\u001b[0m         \u001b[38;5;129;01mor\u001b[39;00m _global_backward_pre_hooks \u001b[38;5;129;01mor\u001b[39;00m _global_backward_hooks\n\u001b[1;32m   1519\u001b[0m         \u001b[38;5;129;01mor\u001b[39;00m _global_forward_hooks \u001b[38;5;129;01mor\u001b[39;00m _global_forward_pre_hooks):\n\u001b[0;32m-> 1520\u001b[0m     \u001b[38;5;28;01mreturn\u001b[39;00m forward_call(\u001b[38;5;241m*\u001b[39margs, \u001b[38;5;241m*\u001b[39m\u001b[38;5;241m*\u001b[39mkwargs)\n\u001b[1;32m   1522\u001b[0m \u001b[38;5;28;01mtry\u001b[39;00m:\n",
      "    \u001b[0;31m[... skipping similar frames: _call_function_ex_handler at line 3507 (1 times), _interpret_call at line 5885 (1 times), _run_frame at line 6284 (1 times), _setup_frame_and_run_python_function at line 6238 (1 times), default_opcode_interpreter at line 1206 (1 times), InterpreterCompileCtx.interpret at line 408 (1 times)]\u001b[0m\n",
      "File \u001b[0;32m~/projects/torch_template/.venv/lib/python3.11/site-packages/thunder/core/interpreter.py:5944\u001b[0m, in \u001b[0;36m_call_dispatch\u001b[0;34m(compilectx, runtimectx, fn, *args, **kwargs)\u001b[0m\n\u001b[1;32m   5942\u001b[0m         \u001b[38;5;28;01mreturn\u001b[39;00m fn\u001b[38;5;241m.\u001b[39m\u001b[38;5;18m__func__\u001b[39m(fn\u001b[38;5;241m.\u001b[39m\u001b[38;5;18m__self__\u001b[39m, \u001b[38;5;241m*\u001b[39margs, \u001b[38;5;241m*\u001b[39m\u001b[38;5;241m*\u001b[39mkwargs)\n\u001b[0;32m-> 5944\u001b[0m     \u001b[38;5;28;01mreturn\u001b[39;00m \u001b[43m_interpret_call\u001b[49m\u001b[43m(\u001b[49m\u001b[43m_impl\u001b[49m\u001b[43m,\u001b[49m\u001b[43m \u001b[49m\u001b[43mwrapped_fn\u001b[49m\u001b[43m,\u001b[49m\u001b[43m \u001b[49m\u001b[38;5;241;43m*\u001b[39;49m\u001b[43margs\u001b[49m\u001b[43m,\u001b[49m\u001b[43m \u001b[49m\u001b[38;5;241;43m*\u001b[39;49m\u001b[38;5;241;43m*\u001b[39;49m\u001b[43mkwargs\u001b[49m\u001b[43m)\u001b[49m  \u001b[38;5;66;03m# type: ignore\u001b[39;00m\n\u001b[1;32m   5946\u001b[0m \u001b[38;5;66;03m# (1b) The callable is a builtin method, in which case it's canonicalized\u001b[39;00m\n\u001b[1;32m   5947\u001b[0m \u001b[38;5;66;03m#   A builtin is canonicalized when it's a call on a type or a module (or their equivalent)\u001b[39;00m\n\u001b[1;32m   5948\u001b[0m \u001b[38;5;66;03m#   Ex. The append method of a list\u001b[39;00m\n\u001b[0;32m   (...)\u001b[0m\n\u001b[1;32m   5989\u001b[0m \u001b[38;5;66;03m# NOTE Builtin Methods\u001b[39;00m\n\u001b[1;32m   5990\u001b[0m \u001b[38;5;66;03m#   Builtin methods are not considered methods by inspect.ismethod\u001b[39;00m\n",
      "    \u001b[0;31m[... skipping similar frames: _call_dispatch at line 6114 (1 times), _interpret_call at line 5885 (1 times), _setup_frame_and_run_python_function at line 6243 (1 times)]\u001b[0m\n",
      "File \u001b[0;32m~/projects/torch_template/.venv/lib/python3.11/site-packages/thunder/core/interpreter.py:5942\u001b[0m, in \u001b[0;36m_call_dispatch.<locals>._impl\u001b[0;34m()\u001b[0m\n\u001b[1;32m   5941\u001b[0m \u001b[38;5;28;01mdef\u001b[39;00m \u001b[38;5;21m_impl\u001b[39m(fn, \u001b[38;5;241m*\u001b[39margs, \u001b[38;5;241m*\u001b[39m\u001b[38;5;241m*\u001b[39mkwargs):\n\u001b[0;32m-> 5942\u001b[0m     \u001b[38;5;28;01mreturn\u001b[39;00m fn\u001b[38;5;241m.\u001b[39m\u001b[38;5;18m__func__\u001b[39m(fn\u001b[38;5;241m.\u001b[39m\u001b[38;5;18m__self__\u001b[39m, \u001b[38;5;241m*\u001b[39margs, \u001b[38;5;241m*\u001b[39m\u001b[38;5;241m*\u001b[39mkwargs)\n",
      "File \u001b[0;32m~/projects/torch_template/.venv/lib/python3.11/site-packages/thunder/core/interpreter.py:6238\u001b[0m, in \u001b[0;36m_setup_frame_and_run_python_function\u001b[0;34m(compilectx, runtimectx, wrapped_fn, *args, **kwargs)\u001b[0m\n\u001b[1;32m   6237\u001b[0m \u001b[38;5;28;01mtry\u001b[39;00m:\n\u001b[0;32m-> 6238\u001b[0m     res, status \u001b[38;5;241m=\u001b[39m \u001b[43m_run_frame\u001b[49m\u001b[43m(\u001b[49m\u001b[43mframe\u001b[49m\u001b[43m,\u001b[49m\u001b[43m \u001b[49m\u001b[43mcompilectx\u001b[49m\u001b[43m,\u001b[49m\u001b[43m \u001b[49m\u001b[43mruntimectx\u001b[49m\u001b[43m)\u001b[49m\n\u001b[1;32m   6239\u001b[0m \u001b[38;5;28;01mexcept\u001b[39;00m \u001b[38;5;167;01mException\u001b[39;00m \u001b[38;5;28;01mas\u001b[39;00m e:\n\u001b[1;32m   6240\u001b[0m     \u001b[38;5;66;03m# We need to cheat a bit to get a Python frame here...\u001b[39;00m\n",
      "File \u001b[0;32m~/projects/torch_template/.venv/lib/python3.11/site-packages/thunder/core/interpreter.py:6284\u001b[0m, in \u001b[0;36m_run_frame\u001b[0;34m(frame, compilectx, runtimectx, send_value)\u001b[0m\n\u001b[1;32m   6283\u001b[0m frame\u001b[38;5;241m.\u001b[39mlasti \u001b[38;5;241m=\u001b[39m frame\u001b[38;5;241m.\u001b[39minst_ptr  \u001b[38;5;66;03m# ???\u001b[39;00m\n\u001b[0;32m-> 6284\u001b[0m interpretation_result: \u001b[38;5;28;01mNone\u001b[39;00m \u001b[38;5;241m|\u001b[39m \u001b[38;5;28mint\u001b[39m \u001b[38;5;241m|\u001b[39m INTERPRETER_SIGNALS \u001b[38;5;241m=\u001b[39m \u001b[43mcompilectx\u001b[49m\u001b[38;5;241;43m.\u001b[39;49m\u001b[43minterpret\u001b[49m\u001b[43m(\u001b[49m\n\u001b[1;32m   6285\u001b[0m \u001b[43m    \u001b[49m\u001b[43minst\u001b[49m\u001b[43m,\u001b[49m\n\u001b[1;32m   6286\u001b[0m \u001b[43m    \u001b[49m\u001b[43minst_ptr\u001b[49m\u001b[38;5;241;43m=\u001b[39;49m\u001b[43mframe\u001b[49m\u001b[38;5;241;43m.\u001b[39;49m\u001b[43minst_ptr\u001b[49m\u001b[43m,\u001b[49m\n\u001b[1;32m   6287\u001b[0m \u001b[43m    \u001b[49m\u001b[43mstack\u001b[49m\u001b[38;5;241;43m=\u001b[39;49m\u001b[43mframe\u001b[49m\u001b[38;5;241;43m.\u001b[39;49m\u001b[43minterpreter_stack\u001b[49m\u001b[43m,\u001b[49m\n\u001b[1;32m   6288\u001b[0m \u001b[43m    \u001b[49m\u001b[43mglobals_dict\u001b[49m\u001b[38;5;241;43m=\u001b[39;49m\u001b[43mframe\u001b[49m\u001b[38;5;241;43m.\u001b[39;49m\u001b[43mglobals\u001b[49m\u001b[43m,\u001b[49m\n\u001b[1;32m   6289\u001b[0m \u001b[43m    \u001b[49m\u001b[43mtry_stack\u001b[49m\u001b[38;5;241;43m=\u001b[39;49m\u001b[43mframe\u001b[49m\u001b[38;5;241;43m.\u001b[39;49m\u001b[43mtry_stack\u001b[49m\u001b[43m,\u001b[49m\n\u001b[1;32m   6290\u001b[0m \u001b[43m    \u001b[49m\u001b[43mexception_stack\u001b[49m\u001b[38;5;241;43m=\u001b[39;49m\u001b[43mruntimectx\u001b[49m\u001b[38;5;241;43m.\u001b[39;49m\u001b[43mexception_stack\u001b[49m\u001b[43m,\u001b[49m\n\u001b[1;32m   6291\u001b[0m \u001b[43m    \u001b[49m\u001b[43mco\u001b[49m\u001b[38;5;241;43m=\u001b[39;49m\u001b[43mframe\u001b[49m\u001b[38;5;241;43m.\u001b[39;49m\u001b[43mcode\u001b[49m\u001b[43m,\u001b[49m\n\u001b[1;32m   6292\u001b[0m \u001b[43m    \u001b[49m\u001b[43mframe\u001b[49m\u001b[38;5;241;43m=\u001b[39;49m\u001b[43mframe\u001b[49m\u001b[43m,\u001b[49m\n\u001b[1;32m   6293\u001b[0m \u001b[43m\u001b[49m\u001b[43m)\u001b[49m\n\u001b[1;32m   6294\u001b[0m \u001b[38;5;28;01mif\u001b[39;00m interpretation_result \u001b[38;5;129;01mis\u001b[39;00m INTERPRETER_SIGNALS\u001b[38;5;241m.\u001b[39mEXCEPTION_RAISED:\n",
      "File \u001b[0;32m~/projects/torch_template/.venv/lib/python3.11/site-packages/thunder/core/interpreter.py:408\u001b[0m, in \u001b[0;36mInterpreterCompileCtx.interpret\u001b[0;34m(self, inst, **interpreter_state)\u001b[0m\n\u001b[1;32m    407\u001b[0m \u001b[38;5;28;01mdef\u001b[39;00m \u001b[38;5;21minterpret\u001b[39m(\u001b[38;5;28mself\u001b[39m, inst: dis\u001b[38;5;241m.\u001b[39mInstruction, \u001b[38;5;241m/\u001b[39m, \u001b[38;5;241m*\u001b[39m\u001b[38;5;241m*\u001b[39minterpreter_state) \u001b[38;5;241m-\u001b[39m\u001b[38;5;241m>\u001b[39m \u001b[38;5;28;01mNone\u001b[39;00m \u001b[38;5;241m|\u001b[39m \u001b[38;5;28mint\u001b[39m \u001b[38;5;241m|\u001b[39m INTERPRETER_SIGNALS:\n\u001b[0;32m--> 408\u001b[0m     \u001b[38;5;28;01mreturn\u001b[39;00m \u001b[38;5;28;43mself\u001b[39;49m\u001b[38;5;241;43m.\u001b[39;49m\u001b[43m_opcode_interpreter\u001b[49m\u001b[43m(\u001b[49m\u001b[43minst\u001b[49m\u001b[43m,\u001b[49m\u001b[43m \u001b[49m\u001b[38;5;241;43m*\u001b[39;49m\u001b[38;5;241;43m*\u001b[39;49m\u001b[43minterpreter_state\u001b[49m\u001b[43m)\u001b[49m\n",
      "File \u001b[0;32m~/projects/torch_template/.venv/lib/python3.11/site-packages/thunder/core/interpreter.py:1206\u001b[0m, in \u001b[0;36mdefault_opcode_interpreter\u001b[0;34m(inst, **interpreter_state)\u001b[0m\n\u001b[1;32m   1205\u001b[0m \u001b[38;5;28;01mwith\u001b[39;00m interpreter_state[\u001b[38;5;124m\"\u001b[39m\u001b[38;5;124mstack\u001b[39m\u001b[38;5;124m\"\u001b[39m]\u001b[38;5;241m.\u001b[39mset_cur_instruction(inst):\n\u001b[0;32m-> 1206\u001b[0m     \u001b[38;5;28;01mreturn\u001b[39;00m \u001b[43mhandler\u001b[49m\u001b[43m(\u001b[49m\u001b[43minst\u001b[49m\u001b[43m,\u001b[49m\u001b[43m \u001b[49m\u001b[38;5;241;43m*\u001b[39;49m\u001b[38;5;241;43m*\u001b[39;49m\u001b[43minterpreter_state\u001b[49m\u001b[43m)\u001b[49m\n",
      "File \u001b[0;32m~/projects/torch_template/.venv/lib/python3.11/site-packages/thunder/core/interpreter.py:3507\u001b[0m, in \u001b[0;36m_call_function_ex_handler\u001b[0;34m(inst, stack, **kwargs)\u001b[0m\n\u001b[1;32m   3506\u001b[0m     kwargs \u001b[38;5;241m=\u001b[39m wrap_kwargs_from_dict(kwargs)\n\u001b[0;32m-> 3507\u001b[0m \u001b[38;5;28;01mreturn\u001b[39;00m check_and_append(stack, \u001b[43m_interpret_call\u001b[49m\u001b[43m(\u001b[49m\u001b[43mfunc\u001b[49m\u001b[43m,\u001b[49m\u001b[43m \u001b[49m\u001b[38;5;241;43m*\u001b[39;49m\u001b[43margs\u001b[49m\u001b[43m,\u001b[49m\u001b[43m \u001b[49m\u001b[38;5;241;43m*\u001b[39;49m\u001b[38;5;241;43m*\u001b[39;49m\u001b[43mkwargs\u001b[49m\u001b[43m)\u001b[49m)\n",
      "File \u001b[0;32m~/projects/torch_template/.venv/lib/python3.11/site-packages/thunder/core/interpreter.py:5885\u001b[0m, in \u001b[0;36m_interpret_call\u001b[0;34m(fn, *args, **kwargs)\u001b[0m\n\u001b[1;32m   5884\u001b[0m runtimectx\u001b[38;5;241m.\u001b[39mrecord_interpreter_call(fn)  \u001b[38;5;66;03m# type: ignore\u001b[39;00m\n\u001b[0;32m-> 5885\u001b[0m rval \u001b[38;5;241m=\u001b[39m \u001b[43m_call_dispatch\u001b[49m\u001b[43m(\u001b[49m\u001b[43mcompilectx\u001b[49m\u001b[43m,\u001b[49m\u001b[43m \u001b[49m\u001b[43mruntimectx\u001b[49m\u001b[43m,\u001b[49m\u001b[43m \u001b[49m\u001b[43mfn\u001b[49m\u001b[43m,\u001b[49m\u001b[43m \u001b[49m\u001b[38;5;241;43m*\u001b[39;49m\u001b[43margs\u001b[49m\u001b[43m,\u001b[49m\u001b[43m \u001b[49m\u001b[38;5;241;43m*\u001b[39;49m\u001b[38;5;241;43m*\u001b[39;49m\u001b[43mkwargs\u001b[49m\u001b[43m)\u001b[49m  \u001b[38;5;66;03m# type: ignore\u001b[39;00m\n\u001b[1;32m   5886\u001b[0m \u001b[38;5;28;01mif\u001b[39;00m compilectx\u001b[38;5;241m.\u001b[39m_with_provenance_tracking:\n",
      "File \u001b[0;32m~/projects/torch_template/.venv/lib/python3.11/site-packages/thunder/core/interpreter.py:6114\u001b[0m, in \u001b[0;36m_call_dispatch\u001b[0;34m(compilectx, runtimectx, fn, *args, **kwargs)\u001b[0m\n\u001b[1;32m   6113\u001b[0m \u001b[38;5;28;01massert\u001b[39;00m \u001b[38;5;28misinstance\u001b[39m(fn, FunctionType), \u001b[38;5;124mf\u001b[39m\u001b[38;5;124m\"\u001b[39m\u001b[38;5;132;01m{\u001b[39;00mfn\u001b[38;5;132;01m=}\u001b[39;00m\u001b[38;5;124m had an unexpected type (\u001b[39m\u001b[38;5;132;01m{\u001b[39;00m\u001b[38;5;28mtype\u001b[39m(fn)\u001b[38;5;132;01m}\u001b[39;00m\u001b[38;5;124m\"\u001b[39m\n\u001b[0;32m-> 6114\u001b[0m \u001b[38;5;28;01mreturn\u001b[39;00m \u001b[43m_setup_frame_and_run_python_function\u001b[49m\u001b[43m(\u001b[49m\u001b[43mcompilectx\u001b[49m\u001b[43m,\u001b[49m\u001b[43m \u001b[49m\u001b[43mruntimectx\u001b[49m\u001b[43m,\u001b[49m\u001b[43m \u001b[49m\u001b[43mwrapped_fn\u001b[49m\u001b[43m,\u001b[49m\u001b[43m \u001b[49m\u001b[38;5;241;43m*\u001b[39;49m\u001b[43margs\u001b[49m\u001b[43m,\u001b[49m\u001b[43m \u001b[49m\u001b[38;5;241;43m*\u001b[39;49m\u001b[38;5;241;43m*\u001b[39;49m\u001b[43mkwargs\u001b[49m\u001b[43m)\u001b[49m\n",
      "File \u001b[0;32m~/projects/torch_template/.venv/lib/python3.11/site-packages/thunder/core/interpreter.py:6243\u001b[0m, in \u001b[0;36m_setup_frame_and_run_python_function\u001b[0;34m(compilectx, runtimectx, wrapped_fn, *args, **kwargs)\u001b[0m\n\u001b[1;32m   6242\u001b[0m     tb \u001b[38;5;241m=\u001b[39m TracebackType(e\u001b[38;5;241m.\u001b[39m__traceback__, python_frame, python_frame\u001b[38;5;241m.\u001b[39mf_lasti, python_frame\u001b[38;5;241m.\u001b[39mf_lineno)\n\u001b[0;32m-> 6243\u001b[0m     \u001b[38;5;28;01mraise\u001b[39;00m e\u001b[38;5;241m.\u001b[39mwith_traceback(tb)\n\u001b[1;32m   6244\u001b[0m \u001b[38;5;28;01mreturn\u001b[39;00m res\n",
      "File \u001b[0;32m~/projects/torch_template/.venv/lib/python3.11/site-packages/torch/nn/modules/container.py:217\u001b[0m, in \u001b[0;36mSequential.forward\u001b[0;34m()\u001b[0m\n\u001b[1;32m    216\u001b[0m \u001b[38;5;28;01mfor\u001b[39;00m module \u001b[38;5;129;01min\u001b[39;00m \u001b[38;5;28mself\u001b[39m:\n\u001b[0;32m--> 217\u001b[0m     \u001b[38;5;28minput\u001b[39m \u001b[38;5;241m=\u001b[39m module(\u001b[38;5;28minput\u001b[39m)\n\u001b[1;32m    218\u001b[0m \u001b[38;5;28;01mreturn\u001b[39;00m \u001b[38;5;28minput\u001b[39m\n",
      "File \u001b[0;32m~/projects/torch_template/.venv/lib/python3.11/site-packages/thunder/core/interpreter.py:6238\u001b[0m, in \u001b[0;36m_setup_frame_and_run_python_function\u001b[0;34m(compilectx, runtimectx, wrapped_fn, *args, **kwargs)\u001b[0m\n\u001b[1;32m   6237\u001b[0m \u001b[38;5;28;01mtry\u001b[39;00m:\n\u001b[0;32m-> 6238\u001b[0m     res, status \u001b[38;5;241m=\u001b[39m \u001b[43m_run_frame\u001b[49m\u001b[43m(\u001b[49m\u001b[43mframe\u001b[49m\u001b[43m,\u001b[49m\u001b[43m \u001b[49m\u001b[43mcompilectx\u001b[49m\u001b[43m,\u001b[49m\u001b[43m \u001b[49m\u001b[43mruntimectx\u001b[49m\u001b[43m)\u001b[49m\n\u001b[1;32m   6239\u001b[0m \u001b[38;5;28;01mexcept\u001b[39;00m \u001b[38;5;167;01mException\u001b[39;00m \u001b[38;5;28;01mas\u001b[39;00m e:\n\u001b[1;32m   6240\u001b[0m     \u001b[38;5;66;03m# We need to cheat a bit to get a Python frame here...\u001b[39;00m\n",
      "File \u001b[0;32m~/projects/torch_template/.venv/lib/python3.11/site-packages/thunder/core/interpreter.py:6284\u001b[0m, in \u001b[0;36m_run_frame\u001b[0;34m(frame, compilectx, runtimectx, send_value)\u001b[0m\n\u001b[1;32m   6283\u001b[0m frame\u001b[38;5;241m.\u001b[39mlasti \u001b[38;5;241m=\u001b[39m frame\u001b[38;5;241m.\u001b[39minst_ptr  \u001b[38;5;66;03m# ???\u001b[39;00m\n\u001b[0;32m-> 6284\u001b[0m interpretation_result: \u001b[38;5;28;01mNone\u001b[39;00m \u001b[38;5;241m|\u001b[39m \u001b[38;5;28mint\u001b[39m \u001b[38;5;241m|\u001b[39m INTERPRETER_SIGNALS \u001b[38;5;241m=\u001b[39m \u001b[43mcompilectx\u001b[49m\u001b[38;5;241;43m.\u001b[39;49m\u001b[43minterpret\u001b[49m\u001b[43m(\u001b[49m\n\u001b[1;32m   6285\u001b[0m \u001b[43m    \u001b[49m\u001b[43minst\u001b[49m\u001b[43m,\u001b[49m\n\u001b[1;32m   6286\u001b[0m \u001b[43m    \u001b[49m\u001b[43minst_ptr\u001b[49m\u001b[38;5;241;43m=\u001b[39;49m\u001b[43mframe\u001b[49m\u001b[38;5;241;43m.\u001b[39;49m\u001b[43minst_ptr\u001b[49m\u001b[43m,\u001b[49m\n\u001b[1;32m   6287\u001b[0m \u001b[43m    \u001b[49m\u001b[43mstack\u001b[49m\u001b[38;5;241;43m=\u001b[39;49m\u001b[43mframe\u001b[49m\u001b[38;5;241;43m.\u001b[39;49m\u001b[43minterpreter_stack\u001b[49m\u001b[43m,\u001b[49m\n\u001b[1;32m   6288\u001b[0m \u001b[43m    \u001b[49m\u001b[43mglobals_dict\u001b[49m\u001b[38;5;241;43m=\u001b[39;49m\u001b[43mframe\u001b[49m\u001b[38;5;241;43m.\u001b[39;49m\u001b[43mglobals\u001b[49m\u001b[43m,\u001b[49m\n\u001b[1;32m   6289\u001b[0m \u001b[43m    \u001b[49m\u001b[43mtry_stack\u001b[49m\u001b[38;5;241;43m=\u001b[39;49m\u001b[43mframe\u001b[49m\u001b[38;5;241;43m.\u001b[39;49m\u001b[43mtry_stack\u001b[49m\u001b[43m,\u001b[49m\n\u001b[1;32m   6290\u001b[0m \u001b[43m    \u001b[49m\u001b[43mexception_stack\u001b[49m\u001b[38;5;241;43m=\u001b[39;49m\u001b[43mruntimectx\u001b[49m\u001b[38;5;241;43m.\u001b[39;49m\u001b[43mexception_stack\u001b[49m\u001b[43m,\u001b[49m\n\u001b[1;32m   6291\u001b[0m \u001b[43m    \u001b[49m\u001b[43mco\u001b[49m\u001b[38;5;241;43m=\u001b[39;49m\u001b[43mframe\u001b[49m\u001b[38;5;241;43m.\u001b[39;49m\u001b[43mcode\u001b[49m\u001b[43m,\u001b[49m\n\u001b[1;32m   6292\u001b[0m \u001b[43m    \u001b[49m\u001b[43mframe\u001b[49m\u001b[38;5;241;43m=\u001b[39;49m\u001b[43mframe\u001b[49m\u001b[43m,\u001b[49m\n\u001b[1;32m   6293\u001b[0m \u001b[43m\u001b[49m\u001b[43m)\u001b[49m\n\u001b[1;32m   6294\u001b[0m \u001b[38;5;28;01mif\u001b[39;00m interpretation_result \u001b[38;5;129;01mis\u001b[39;00m INTERPRETER_SIGNALS\u001b[38;5;241m.\u001b[39mEXCEPTION_RAISED:\n",
      "File \u001b[0;32m~/projects/torch_template/.venv/lib/python3.11/site-packages/thunder/core/interpreter.py:408\u001b[0m, in \u001b[0;36mInterpreterCompileCtx.interpret\u001b[0;34m(self, inst, **interpreter_state)\u001b[0m\n\u001b[1;32m    407\u001b[0m \u001b[38;5;28;01mdef\u001b[39;00m \u001b[38;5;21minterpret\u001b[39m(\u001b[38;5;28mself\u001b[39m, inst: dis\u001b[38;5;241m.\u001b[39mInstruction, \u001b[38;5;241m/\u001b[39m, \u001b[38;5;241m*\u001b[39m\u001b[38;5;241m*\u001b[39minterpreter_state) \u001b[38;5;241m-\u001b[39m\u001b[38;5;241m>\u001b[39m \u001b[38;5;28;01mNone\u001b[39;00m \u001b[38;5;241m|\u001b[39m \u001b[38;5;28mint\u001b[39m \u001b[38;5;241m|\u001b[39m INTERPRETER_SIGNALS:\n\u001b[0;32m--> 408\u001b[0m     \u001b[38;5;28;01mreturn\u001b[39;00m \u001b[38;5;28;43mself\u001b[39;49m\u001b[38;5;241;43m.\u001b[39;49m\u001b[43m_opcode_interpreter\u001b[49m\u001b[43m(\u001b[49m\u001b[43minst\u001b[49m\u001b[43m,\u001b[49m\u001b[43m \u001b[49m\u001b[38;5;241;43m*\u001b[39;49m\u001b[38;5;241;43m*\u001b[39;49m\u001b[43minterpreter_state\u001b[49m\u001b[43m)\u001b[49m\n",
      "File \u001b[0;32m~/projects/torch_template/.venv/lib/python3.11/site-packages/thunder/core/interpreter.py:1206\u001b[0m, in \u001b[0;36mdefault_opcode_interpreter\u001b[0;34m(inst, **interpreter_state)\u001b[0m\n\u001b[1;32m   1205\u001b[0m \u001b[38;5;28;01mwith\u001b[39;00m interpreter_state[\u001b[38;5;124m\"\u001b[39m\u001b[38;5;124mstack\u001b[39m\u001b[38;5;124m\"\u001b[39m]\u001b[38;5;241m.\u001b[39mset_cur_instruction(inst):\n\u001b[0;32m-> 1206\u001b[0m     \u001b[38;5;28;01mreturn\u001b[39;00m \u001b[43mhandler\u001b[49m\u001b[43m(\u001b[49m\u001b[43minst\u001b[49m\u001b[43m,\u001b[49m\u001b[43m \u001b[49m\u001b[38;5;241;43m*\u001b[39;49m\u001b[38;5;241;43m*\u001b[39;49m\u001b[43minterpreter_state\u001b[49m\u001b[43m)\u001b[49m\n",
      "File \u001b[0;32m~/projects/torch_template/.venv/lib/python3.11/site-packages/thunder/core/interpreter.py:3467\u001b[0m, in \u001b[0;36m_call_handler\u001b[0;34m(inst, stack, frame, **kwargs)\u001b[0m\n\u001b[1;32m   3465\u001b[0m     func \u001b[38;5;241m=\u001b[39m func_or_self\n\u001b[0;32m-> 3467\u001b[0m res \u001b[38;5;241m=\u001b[39m \u001b[43m_interpret_call\u001b[49m\u001b[43m(\u001b[49m\u001b[43mfunc\u001b[49m\u001b[43m,\u001b[49m\u001b[43m \u001b[49m\u001b[38;5;241;43m*\u001b[39;49m\u001b[43margs\u001b[49m\u001b[43m,\u001b[49m\u001b[43m \u001b[49m\u001b[38;5;241;43m*\u001b[39;49m\u001b[38;5;241;43m*\u001b[39;49m\u001b[43mkwargs\u001b[49m\u001b[43m)\u001b[49m\n\u001b[1;32m   3468\u001b[0m ctx: InterpreterCompileCtx \u001b[38;5;241m=\u001b[39m get_interpretercompilectx()\n",
      "File \u001b[0;32m~/projects/torch_template/.venv/lib/python3.11/site-packages/thunder/core/interpreter.py:5885\u001b[0m, in \u001b[0;36m_interpret_call\u001b[0;34m(fn, *args, **kwargs)\u001b[0m\n\u001b[1;32m   5884\u001b[0m runtimectx\u001b[38;5;241m.\u001b[39mrecord_interpreter_call(fn)  \u001b[38;5;66;03m# type: ignore\u001b[39;00m\n\u001b[0;32m-> 5885\u001b[0m rval \u001b[38;5;241m=\u001b[39m \u001b[43m_call_dispatch\u001b[49m\u001b[43m(\u001b[49m\u001b[43mcompilectx\u001b[49m\u001b[43m,\u001b[49m\u001b[43m \u001b[49m\u001b[43mruntimectx\u001b[49m\u001b[43m,\u001b[49m\u001b[43m \u001b[49m\u001b[43mfn\u001b[49m\u001b[43m,\u001b[49m\u001b[43m \u001b[49m\u001b[38;5;241;43m*\u001b[39;49m\u001b[43margs\u001b[49m\u001b[43m,\u001b[49m\u001b[43m \u001b[49m\u001b[38;5;241;43m*\u001b[39;49m\u001b[38;5;241;43m*\u001b[39;49m\u001b[43mkwargs\u001b[49m\u001b[43m)\u001b[49m  \u001b[38;5;66;03m# type: ignore\u001b[39;00m\n\u001b[1;32m   5886\u001b[0m \u001b[38;5;28;01mif\u001b[39;00m compilectx\u001b[38;5;241m.\u001b[39m_with_provenance_tracking:\n",
      "File \u001b[0;32m~/projects/torch_template/.venv/lib/python3.11/site-packages/thunder/core/interpreter.py:6110\u001b[0m, in \u001b[0;36m_call_dispatch\u001b[0;34m(compilectx, runtimectx, fn, *args, **kwargs)\u001b[0m\n\u001b[1;32m   6109\u001b[0m     populate_attribute_wrapper(wrapped_call, \u001b[38;5;124m\"\u001b[39m\u001b[38;5;124m__self__\u001b[39m\u001b[38;5;124m\"\u001b[39m, wrapped_fn)\n\u001b[0;32m-> 6110\u001b[0m     \u001b[38;5;28;01mreturn\u001b[39;00m \u001b[43m_interpret_call\u001b[49m\u001b[43m(\u001b[49m\u001b[43mwrapped_call\u001b[49m\u001b[43m,\u001b[49m\u001b[43m \u001b[49m\u001b[38;5;241;43m*\u001b[39;49m\u001b[43margs\u001b[49m\u001b[43m,\u001b[49m\u001b[43m \u001b[49m\u001b[38;5;241;43m*\u001b[39;49m\u001b[38;5;241;43m*\u001b[39;49m\u001b[43mkwargs\u001b[49m\u001b[43m)\u001b[49m\n\u001b[1;32m   6112\u001b[0m \u001b[38;5;66;03m# (7) interprets into the function\u001b[39;00m\n",
      "File \u001b[0;32m~/projects/torch_template/.venv/lib/python3.11/site-packages/thunder/core/interpreter.py:5885\u001b[0m, in \u001b[0;36m_interpret_call\u001b[0;34m(fn, *args, **kwargs)\u001b[0m\n\u001b[1;32m   5884\u001b[0m runtimectx\u001b[38;5;241m.\u001b[39mrecord_interpreter_call(fn)  \u001b[38;5;66;03m# type: ignore\u001b[39;00m\n\u001b[0;32m-> 5885\u001b[0m rval \u001b[38;5;241m=\u001b[39m \u001b[43m_call_dispatch\u001b[49m\u001b[43m(\u001b[49m\u001b[43mcompilectx\u001b[49m\u001b[43m,\u001b[49m\u001b[43m \u001b[49m\u001b[43mruntimectx\u001b[49m\u001b[43m,\u001b[49m\u001b[43m \u001b[49m\u001b[43mfn\u001b[49m\u001b[43m,\u001b[49m\u001b[43m \u001b[49m\u001b[38;5;241;43m*\u001b[39;49m\u001b[43margs\u001b[49m\u001b[43m,\u001b[49m\u001b[43m \u001b[49m\u001b[38;5;241;43m*\u001b[39;49m\u001b[38;5;241;43m*\u001b[39;49m\u001b[43mkwargs\u001b[49m\u001b[43m)\u001b[49m  \u001b[38;5;66;03m# type: ignore\u001b[39;00m\n\u001b[1;32m   5886\u001b[0m \u001b[38;5;28;01mif\u001b[39;00m compilectx\u001b[38;5;241m.\u001b[39m_with_provenance_tracking:\n",
      "File \u001b[0;32m~/projects/torch_template/.venv/lib/python3.11/site-packages/thunder/core/interpreter.py:5944\u001b[0m, in \u001b[0;36m_call_dispatch\u001b[0;34m(compilectx, runtimectx, fn, *args, **kwargs)\u001b[0m\n\u001b[1;32m   5942\u001b[0m         \u001b[38;5;28;01mreturn\u001b[39;00m fn\u001b[38;5;241m.\u001b[39m\u001b[38;5;18m__func__\u001b[39m(fn\u001b[38;5;241m.\u001b[39m\u001b[38;5;18m__self__\u001b[39m, \u001b[38;5;241m*\u001b[39margs, \u001b[38;5;241m*\u001b[39m\u001b[38;5;241m*\u001b[39mkwargs)\n\u001b[0;32m-> 5944\u001b[0m     \u001b[38;5;28;01mreturn\u001b[39;00m \u001b[43m_interpret_call\u001b[49m\u001b[43m(\u001b[49m\u001b[43m_impl\u001b[49m\u001b[43m,\u001b[49m\u001b[43m \u001b[49m\u001b[43mwrapped_fn\u001b[49m\u001b[43m,\u001b[49m\u001b[43m \u001b[49m\u001b[38;5;241;43m*\u001b[39;49m\u001b[43margs\u001b[49m\u001b[43m,\u001b[49m\u001b[43m \u001b[49m\u001b[38;5;241;43m*\u001b[39;49m\u001b[38;5;241;43m*\u001b[39;49m\u001b[43mkwargs\u001b[49m\u001b[43m)\u001b[49m  \u001b[38;5;66;03m# type: ignore\u001b[39;00m\n\u001b[1;32m   5946\u001b[0m \u001b[38;5;66;03m# (1b) The callable is a builtin method, in which case it's canonicalized\u001b[39;00m\n\u001b[1;32m   5947\u001b[0m \u001b[38;5;66;03m#   A builtin is canonicalized when it's a call on a type or a module (or their equivalent)\u001b[39;00m\n\u001b[1;32m   5948\u001b[0m \u001b[38;5;66;03m#   Ex. The append method of a list\u001b[39;00m\n\u001b[0;32m   (...)\u001b[0m\n\u001b[1;32m   5989\u001b[0m \u001b[38;5;66;03m# NOTE Builtin Methods\u001b[39;00m\n\u001b[1;32m   5990\u001b[0m \u001b[38;5;66;03m#   Builtin methods are not considered methods by inspect.ismethod\u001b[39;00m\n",
      "    \u001b[0;31m[... skipping similar frames: _interpret_call at line 5885 (1 times)]\u001b[0m\n",
      "File \u001b[0;32m~/projects/torch_template/.venv/lib/python3.11/site-packages/thunder/core/interpreter.py:6114\u001b[0m, in \u001b[0;36m_call_dispatch\u001b[0;34m(compilectx, runtimectx, fn, *args, **kwargs)\u001b[0m\n\u001b[1;32m   6113\u001b[0m \u001b[38;5;28;01massert\u001b[39;00m \u001b[38;5;28misinstance\u001b[39m(fn, FunctionType), \u001b[38;5;124mf\u001b[39m\u001b[38;5;124m\"\u001b[39m\u001b[38;5;132;01m{\u001b[39;00mfn\u001b[38;5;132;01m=}\u001b[39;00m\u001b[38;5;124m had an unexpected type (\u001b[39m\u001b[38;5;132;01m{\u001b[39;00m\u001b[38;5;28mtype\u001b[39m(fn)\u001b[38;5;132;01m}\u001b[39;00m\u001b[38;5;124m\"\u001b[39m\n\u001b[0;32m-> 6114\u001b[0m \u001b[38;5;28;01mreturn\u001b[39;00m \u001b[43m_setup_frame_and_run_python_function\u001b[49m\u001b[43m(\u001b[49m\u001b[43mcompilectx\u001b[49m\u001b[43m,\u001b[49m\u001b[43m \u001b[49m\u001b[43mruntimectx\u001b[49m\u001b[43m,\u001b[49m\u001b[43m \u001b[49m\u001b[43mwrapped_fn\u001b[49m\u001b[43m,\u001b[49m\u001b[43m \u001b[49m\u001b[38;5;241;43m*\u001b[39;49m\u001b[43margs\u001b[49m\u001b[43m,\u001b[49m\u001b[43m \u001b[49m\u001b[38;5;241;43m*\u001b[39;49m\u001b[38;5;241;43m*\u001b[39;49m\u001b[43mkwargs\u001b[49m\u001b[43m)\u001b[49m\n",
      "File \u001b[0;32m~/projects/torch_template/.venv/lib/python3.11/site-packages/thunder/core/interpreter.py:6243\u001b[0m, in \u001b[0;36m_setup_frame_and_run_python_function\u001b[0;34m(compilectx, runtimectx, wrapped_fn, *args, **kwargs)\u001b[0m\n\u001b[1;32m   6242\u001b[0m     tb \u001b[38;5;241m=\u001b[39m TracebackType(e\u001b[38;5;241m.\u001b[39m__traceback__, python_frame, python_frame\u001b[38;5;241m.\u001b[39mf_lasti, python_frame\u001b[38;5;241m.\u001b[39mf_lineno)\n\u001b[0;32m-> 6243\u001b[0m     \u001b[38;5;28;01mraise\u001b[39;00m e\u001b[38;5;241m.\u001b[39mwith_traceback(tb)\n\u001b[1;32m   6244\u001b[0m \u001b[38;5;28;01mreturn\u001b[39;00m res\n",
      "File \u001b[0;32m~/projects/torch_template/.venv/lib/python3.11/site-packages/thunder/core/interpreter.py:5942\u001b[0m, in \u001b[0;36m_call_dispatch.<locals>._impl\u001b[0;34m()\u001b[0m\n\u001b[1;32m   5941\u001b[0m \u001b[38;5;28;01mdef\u001b[39;00m \u001b[38;5;21m_impl\u001b[39m(fn, \u001b[38;5;241m*\u001b[39margs, \u001b[38;5;241m*\u001b[39m\u001b[38;5;241m*\u001b[39mkwargs):\n\u001b[0;32m-> 5942\u001b[0m     \u001b[38;5;28;01mreturn\u001b[39;00m fn\u001b[38;5;241m.\u001b[39m\u001b[38;5;18m__func__\u001b[39m(fn\u001b[38;5;241m.\u001b[39m\u001b[38;5;18m__self__\u001b[39m, \u001b[38;5;241m*\u001b[39margs, \u001b[38;5;241m*\u001b[39m\u001b[38;5;241m*\u001b[39mkwargs)\n",
      "File \u001b[0;32m~/projects/torch_template/.venv/lib/python3.11/site-packages/thunder/core/interpreter.py:6238\u001b[0m, in \u001b[0;36m_setup_frame_and_run_python_function\u001b[0;34m(compilectx, runtimectx, wrapped_fn, *args, **kwargs)\u001b[0m\n\u001b[1;32m   6237\u001b[0m \u001b[38;5;28;01mtry\u001b[39;00m:\n\u001b[0;32m-> 6238\u001b[0m     res, status \u001b[38;5;241m=\u001b[39m \u001b[43m_run_frame\u001b[49m\u001b[43m(\u001b[49m\u001b[43mframe\u001b[49m\u001b[43m,\u001b[49m\u001b[43m \u001b[49m\u001b[43mcompilectx\u001b[49m\u001b[43m,\u001b[49m\u001b[43m \u001b[49m\u001b[43mruntimectx\u001b[49m\u001b[43m)\u001b[49m\n\u001b[1;32m   6239\u001b[0m \u001b[38;5;28;01mexcept\u001b[39;00m \u001b[38;5;167;01mException\u001b[39;00m \u001b[38;5;28;01mas\u001b[39;00m e:\n\u001b[1;32m   6240\u001b[0m     \u001b[38;5;66;03m# We need to cheat a bit to get a Python frame here...\u001b[39;00m\n",
      "File \u001b[0;32m~/projects/torch_template/.venv/lib/python3.11/site-packages/thunder/core/interpreter.py:6284\u001b[0m, in \u001b[0;36m_run_frame\u001b[0;34m(frame, compilectx, runtimectx, send_value)\u001b[0m\n\u001b[1;32m   6283\u001b[0m frame\u001b[38;5;241m.\u001b[39mlasti \u001b[38;5;241m=\u001b[39m frame\u001b[38;5;241m.\u001b[39minst_ptr  \u001b[38;5;66;03m# ???\u001b[39;00m\n\u001b[0;32m-> 6284\u001b[0m interpretation_result: \u001b[38;5;28;01mNone\u001b[39;00m \u001b[38;5;241m|\u001b[39m \u001b[38;5;28mint\u001b[39m \u001b[38;5;241m|\u001b[39m INTERPRETER_SIGNALS \u001b[38;5;241m=\u001b[39m \u001b[43mcompilectx\u001b[49m\u001b[38;5;241;43m.\u001b[39;49m\u001b[43minterpret\u001b[49m\u001b[43m(\u001b[49m\n\u001b[1;32m   6285\u001b[0m \u001b[43m    \u001b[49m\u001b[43minst\u001b[49m\u001b[43m,\u001b[49m\n\u001b[1;32m   6286\u001b[0m \u001b[43m    \u001b[49m\u001b[43minst_ptr\u001b[49m\u001b[38;5;241;43m=\u001b[39;49m\u001b[43mframe\u001b[49m\u001b[38;5;241;43m.\u001b[39;49m\u001b[43minst_ptr\u001b[49m\u001b[43m,\u001b[49m\n\u001b[1;32m   6287\u001b[0m \u001b[43m    \u001b[49m\u001b[43mstack\u001b[49m\u001b[38;5;241;43m=\u001b[39;49m\u001b[43mframe\u001b[49m\u001b[38;5;241;43m.\u001b[39;49m\u001b[43minterpreter_stack\u001b[49m\u001b[43m,\u001b[49m\n\u001b[1;32m   6288\u001b[0m \u001b[43m    \u001b[49m\u001b[43mglobals_dict\u001b[49m\u001b[38;5;241;43m=\u001b[39;49m\u001b[43mframe\u001b[49m\u001b[38;5;241;43m.\u001b[39;49m\u001b[43mglobals\u001b[49m\u001b[43m,\u001b[49m\n\u001b[1;32m   6289\u001b[0m \u001b[43m    \u001b[49m\u001b[43mtry_stack\u001b[49m\u001b[38;5;241;43m=\u001b[39;49m\u001b[43mframe\u001b[49m\u001b[38;5;241;43m.\u001b[39;49m\u001b[43mtry_stack\u001b[49m\u001b[43m,\u001b[49m\n\u001b[1;32m   6290\u001b[0m \u001b[43m    \u001b[49m\u001b[43mexception_stack\u001b[49m\u001b[38;5;241;43m=\u001b[39;49m\u001b[43mruntimectx\u001b[49m\u001b[38;5;241;43m.\u001b[39;49m\u001b[43mexception_stack\u001b[49m\u001b[43m,\u001b[49m\n\u001b[1;32m   6291\u001b[0m \u001b[43m    \u001b[49m\u001b[43mco\u001b[49m\u001b[38;5;241;43m=\u001b[39;49m\u001b[43mframe\u001b[49m\u001b[38;5;241;43m.\u001b[39;49m\u001b[43mcode\u001b[49m\u001b[43m,\u001b[49m\n\u001b[1;32m   6292\u001b[0m \u001b[43m    \u001b[49m\u001b[43mframe\u001b[49m\u001b[38;5;241;43m=\u001b[39;49m\u001b[43mframe\u001b[49m\u001b[43m,\u001b[49m\n\u001b[1;32m   6293\u001b[0m \u001b[43m\u001b[49m\u001b[43m)\u001b[49m\n\u001b[1;32m   6294\u001b[0m \u001b[38;5;28;01mif\u001b[39;00m interpretation_result \u001b[38;5;129;01mis\u001b[39;00m INTERPRETER_SIGNALS\u001b[38;5;241m.\u001b[39mEXCEPTION_RAISED:\n",
      "File \u001b[0;32m~/projects/torch_template/.venv/lib/python3.11/site-packages/thunder/core/interpreter.py:408\u001b[0m, in \u001b[0;36mInterpreterCompileCtx.interpret\u001b[0;34m(self, inst, **interpreter_state)\u001b[0m\n\u001b[1;32m    407\u001b[0m \u001b[38;5;28;01mdef\u001b[39;00m \u001b[38;5;21minterpret\u001b[39m(\u001b[38;5;28mself\u001b[39m, inst: dis\u001b[38;5;241m.\u001b[39mInstruction, \u001b[38;5;241m/\u001b[39m, \u001b[38;5;241m*\u001b[39m\u001b[38;5;241m*\u001b[39minterpreter_state) \u001b[38;5;241m-\u001b[39m\u001b[38;5;241m>\u001b[39m \u001b[38;5;28;01mNone\u001b[39;00m \u001b[38;5;241m|\u001b[39m \u001b[38;5;28mint\u001b[39m \u001b[38;5;241m|\u001b[39m INTERPRETER_SIGNALS:\n\u001b[0;32m--> 408\u001b[0m     \u001b[38;5;28;01mreturn\u001b[39;00m \u001b[38;5;28;43mself\u001b[39;49m\u001b[38;5;241;43m.\u001b[39;49m\u001b[43m_opcode_interpreter\u001b[49m\u001b[43m(\u001b[49m\u001b[43minst\u001b[49m\u001b[43m,\u001b[49m\u001b[43m \u001b[49m\u001b[38;5;241;43m*\u001b[39;49m\u001b[38;5;241;43m*\u001b[39;49m\u001b[43minterpreter_state\u001b[49m\u001b[43m)\u001b[49m\n",
      "File \u001b[0;32m~/projects/torch_template/.venv/lib/python3.11/site-packages/thunder/core/interpreter.py:1206\u001b[0m, in \u001b[0;36mdefault_opcode_interpreter\u001b[0;34m(inst, **interpreter_state)\u001b[0m\n\u001b[1;32m   1205\u001b[0m \u001b[38;5;28;01mwith\u001b[39;00m interpreter_state[\u001b[38;5;124m\"\u001b[39m\u001b[38;5;124mstack\u001b[39m\u001b[38;5;124m\"\u001b[39m]\u001b[38;5;241m.\u001b[39mset_cur_instruction(inst):\n\u001b[0;32m-> 1206\u001b[0m     \u001b[38;5;28;01mreturn\u001b[39;00m \u001b[43mhandler\u001b[49m\u001b[43m(\u001b[49m\u001b[43minst\u001b[49m\u001b[43m,\u001b[49m\u001b[43m \u001b[49m\u001b[38;5;241;43m*\u001b[39;49m\u001b[38;5;241;43m*\u001b[39;49m\u001b[43minterpreter_state\u001b[49m\u001b[43m)\u001b[49m\n",
      "File \u001b[0;32m~/projects/torch_template/.venv/lib/python3.11/site-packages/thunder/core/interpreter.py:3507\u001b[0m, in \u001b[0;36m_call_function_ex_handler\u001b[0;34m(inst, stack, **kwargs)\u001b[0m\n\u001b[1;32m   3506\u001b[0m     kwargs \u001b[38;5;241m=\u001b[39m wrap_kwargs_from_dict(kwargs)\n\u001b[0;32m-> 3507\u001b[0m \u001b[38;5;28;01mreturn\u001b[39;00m check_and_append(stack, \u001b[43m_interpret_call\u001b[49m\u001b[43m(\u001b[49m\u001b[43mfunc\u001b[49m\u001b[43m,\u001b[49m\u001b[43m \u001b[49m\u001b[38;5;241;43m*\u001b[39;49m\u001b[43margs\u001b[49m\u001b[43m,\u001b[49m\u001b[43m \u001b[49m\u001b[38;5;241;43m*\u001b[39;49m\u001b[38;5;241;43m*\u001b[39;49m\u001b[43mkwargs\u001b[49m\u001b[43m)\u001b[49m)\n",
      "    \u001b[0;31m[... skipping similar frames: _interpret_call at line 5885 (1 times)]\u001b[0m\n",
      "File \u001b[0;32m~/projects/torch_template/.venv/lib/python3.11/site-packages/thunder/core/interpreter.py:6114\u001b[0m, in \u001b[0;36m_call_dispatch\u001b[0;34m(compilectx, runtimectx, fn, *args, **kwargs)\u001b[0m\n\u001b[1;32m   6113\u001b[0m \u001b[38;5;28;01massert\u001b[39;00m \u001b[38;5;28misinstance\u001b[39m(fn, FunctionType), \u001b[38;5;124mf\u001b[39m\u001b[38;5;124m\"\u001b[39m\u001b[38;5;132;01m{\u001b[39;00mfn\u001b[38;5;132;01m=}\u001b[39;00m\u001b[38;5;124m had an unexpected type (\u001b[39m\u001b[38;5;132;01m{\u001b[39;00m\u001b[38;5;28mtype\u001b[39m(fn)\u001b[38;5;132;01m}\u001b[39;00m\u001b[38;5;124m\"\u001b[39m\n\u001b[0;32m-> 6114\u001b[0m \u001b[38;5;28;01mreturn\u001b[39;00m \u001b[43m_setup_frame_and_run_python_function\u001b[49m\u001b[43m(\u001b[49m\u001b[43mcompilectx\u001b[49m\u001b[43m,\u001b[49m\u001b[43m \u001b[49m\u001b[43mruntimectx\u001b[49m\u001b[43m,\u001b[49m\u001b[43m \u001b[49m\u001b[43mwrapped_fn\u001b[49m\u001b[43m,\u001b[49m\u001b[43m \u001b[49m\u001b[38;5;241;43m*\u001b[39;49m\u001b[43margs\u001b[49m\u001b[43m,\u001b[49m\u001b[43m \u001b[49m\u001b[38;5;241;43m*\u001b[39;49m\u001b[38;5;241;43m*\u001b[39;49m\u001b[43mkwargs\u001b[49m\u001b[43m)\u001b[49m\n",
      "File \u001b[0;32m~/projects/torch_template/.venv/lib/python3.11/site-packages/thunder/core/interpreter.py:6243\u001b[0m, in \u001b[0;36m_setup_frame_and_run_python_function\u001b[0;34m(compilectx, runtimectx, wrapped_fn, *args, **kwargs)\u001b[0m\n\u001b[1;32m   6242\u001b[0m     tb \u001b[38;5;241m=\u001b[39m TracebackType(e\u001b[38;5;241m.\u001b[39m__traceback__, python_frame, python_frame\u001b[38;5;241m.\u001b[39mf_lasti, python_frame\u001b[38;5;241m.\u001b[39mf_lineno)\n\u001b[0;32m-> 6243\u001b[0m     \u001b[38;5;28;01mraise\u001b[39;00m e\u001b[38;5;241m.\u001b[39mwith_traceback(tb)\n\u001b[1;32m   6244\u001b[0m \u001b[38;5;28;01mreturn\u001b[39;00m res\n",
      "File \u001b[0;32m~/projects/torch_template/.venv/lib/python3.11/site-packages/torch/nn/modules/module.py:1511\u001b[0m, in \u001b[0;36mModule._wrapped_call_impl\u001b[0;34m()\u001b[0m\n\u001b[1;32m   1510\u001b[0m \u001b[38;5;28;01melse\u001b[39;00m:\n\u001b[0;32m-> 1511\u001b[0m     \u001b[38;5;28;01mreturn\u001b[39;00m \u001b[38;5;28mself\u001b[39m\u001b[38;5;241m.\u001b[39m_call_impl(\u001b[38;5;241m*\u001b[39margs, \u001b[38;5;241m*\u001b[39m\u001b[38;5;241m*\u001b[39mkwargs)\n",
      "    \u001b[0;31m[... skipping similar frames: _run_frame at line 6284 (1 times), _setup_frame_and_run_python_function at line 6238 (1 times), default_opcode_interpreter at line 1206 (1 times), InterpreterCompileCtx.interpret at line 408 (1 times)]\u001b[0m\n",
      "File \u001b[0;32m~/projects/torch_template/.venv/lib/python3.11/site-packages/thunder/core/interpreter.py:3507\u001b[0m, in \u001b[0;36m_call_function_ex_handler\u001b[0;34m(inst, stack, **kwargs)\u001b[0m\n\u001b[1;32m   3506\u001b[0m     kwargs \u001b[38;5;241m=\u001b[39m wrap_kwargs_from_dict(kwargs)\n\u001b[0;32m-> 3507\u001b[0m \u001b[38;5;28;01mreturn\u001b[39;00m check_and_append(stack, \u001b[43m_interpret_call\u001b[49m\u001b[43m(\u001b[49m\u001b[43mfunc\u001b[49m\u001b[43m,\u001b[49m\u001b[43m \u001b[49m\u001b[38;5;241;43m*\u001b[39;49m\u001b[43margs\u001b[49m\u001b[43m,\u001b[49m\u001b[43m \u001b[49m\u001b[38;5;241;43m*\u001b[39;49m\u001b[38;5;241;43m*\u001b[39;49m\u001b[43mkwargs\u001b[49m\u001b[43m)\u001b[49m)\n",
      "    \u001b[0;31m[... skipping similar frames: _interpret_call at line 5885 (1 times)]\u001b[0m\n",
      "File \u001b[0;32m~/projects/torch_template/.venv/lib/python3.11/site-packages/thunder/core/interpreter.py:5944\u001b[0m, in \u001b[0;36m_call_dispatch\u001b[0;34m(compilectx, runtimectx, fn, *args, **kwargs)\u001b[0m\n\u001b[1;32m   5942\u001b[0m         \u001b[38;5;28;01mreturn\u001b[39;00m fn\u001b[38;5;241m.\u001b[39m\u001b[38;5;18m__func__\u001b[39m(fn\u001b[38;5;241m.\u001b[39m\u001b[38;5;18m__self__\u001b[39m, \u001b[38;5;241m*\u001b[39margs, \u001b[38;5;241m*\u001b[39m\u001b[38;5;241m*\u001b[39mkwargs)\n\u001b[0;32m-> 5944\u001b[0m     \u001b[38;5;28;01mreturn\u001b[39;00m \u001b[43m_interpret_call\u001b[49m\u001b[43m(\u001b[49m\u001b[43m_impl\u001b[49m\u001b[43m,\u001b[49m\u001b[43m \u001b[49m\u001b[43mwrapped_fn\u001b[49m\u001b[43m,\u001b[49m\u001b[43m \u001b[49m\u001b[38;5;241;43m*\u001b[39;49m\u001b[43margs\u001b[49m\u001b[43m,\u001b[49m\u001b[43m \u001b[49m\u001b[38;5;241;43m*\u001b[39;49m\u001b[38;5;241;43m*\u001b[39;49m\u001b[43mkwargs\u001b[49m\u001b[43m)\u001b[49m  \u001b[38;5;66;03m# type: ignore\u001b[39;00m\n\u001b[1;32m   5946\u001b[0m \u001b[38;5;66;03m# (1b) The callable is a builtin method, in which case it's canonicalized\u001b[39;00m\n\u001b[1;32m   5947\u001b[0m \u001b[38;5;66;03m#   A builtin is canonicalized when it's a call on a type or a module (or their equivalent)\u001b[39;00m\n\u001b[1;32m   5948\u001b[0m \u001b[38;5;66;03m#   Ex. The append method of a list\u001b[39;00m\n\u001b[0;32m   (...)\u001b[0m\n\u001b[1;32m   5989\u001b[0m \u001b[38;5;66;03m# NOTE Builtin Methods\u001b[39;00m\n\u001b[1;32m   5990\u001b[0m \u001b[38;5;66;03m#   Builtin methods are not considered methods by inspect.ismethod\u001b[39;00m\n",
      "    \u001b[0;31m[... skipping similar frames: _call_dispatch at line 6114 (1 times), _interpret_call at line 5885 (1 times), _setup_frame_and_run_python_function at line 6243 (1 times)]\u001b[0m\n",
      "File \u001b[0;32m~/projects/torch_template/.venv/lib/python3.11/site-packages/thunder/core/interpreter.py:5942\u001b[0m, in \u001b[0;36m_call_dispatch.<locals>._impl\u001b[0;34m()\u001b[0m\n\u001b[1;32m   5941\u001b[0m \u001b[38;5;28;01mdef\u001b[39;00m \u001b[38;5;21m_impl\u001b[39m(fn, \u001b[38;5;241m*\u001b[39margs, \u001b[38;5;241m*\u001b[39m\u001b[38;5;241m*\u001b[39mkwargs):\n\u001b[0;32m-> 5942\u001b[0m     \u001b[38;5;28;01mreturn\u001b[39;00m fn\u001b[38;5;241m.\u001b[39m\u001b[38;5;18m__func__\u001b[39m(fn\u001b[38;5;241m.\u001b[39m\u001b[38;5;18m__self__\u001b[39m, \u001b[38;5;241m*\u001b[39margs, \u001b[38;5;241m*\u001b[39m\u001b[38;5;241m*\u001b[39mkwargs)\n",
      "    \u001b[0;31m[... skipping similar frames: _call_dispatch at line 6114 (1 times), _call_function_ex_handler at line 3507 (1 times), _interpret_call at line 5885 (1 times), _run_frame at line 6284 (1 times), _setup_frame_and_run_python_function at line 6238 (1 times), _setup_frame_and_run_python_function at line 6243 (1 times), default_opcode_interpreter at line 1206 (1 times), InterpreterCompileCtx.interpret at line 408 (1 times)]\u001b[0m\n",
      "File \u001b[0;32m~/projects/torch_template/.venv/lib/python3.11/site-packages/torch/nn/modules/module.py:1520\u001b[0m, in \u001b[0;36mModule._call_impl\u001b[0;34m()\u001b[0m\n\u001b[1;32m   1517\u001b[0m \u001b[38;5;28;01mif\u001b[39;00m \u001b[38;5;129;01mnot\u001b[39;00m (\u001b[38;5;28mself\u001b[39m\u001b[38;5;241m.\u001b[39m_backward_hooks \u001b[38;5;129;01mor\u001b[39;00m \u001b[38;5;28mself\u001b[39m\u001b[38;5;241m.\u001b[39m_backward_pre_hooks \u001b[38;5;129;01mor\u001b[39;00m \u001b[38;5;28mself\u001b[39m\u001b[38;5;241m.\u001b[39m_forward_hooks \u001b[38;5;129;01mor\u001b[39;00m \u001b[38;5;28mself\u001b[39m\u001b[38;5;241m.\u001b[39m_forward_pre_hooks\n\u001b[1;32m   1518\u001b[0m         \u001b[38;5;129;01mor\u001b[39;00m _global_backward_pre_hooks \u001b[38;5;129;01mor\u001b[39;00m _global_backward_hooks\n\u001b[1;32m   1519\u001b[0m         \u001b[38;5;129;01mor\u001b[39;00m _global_forward_hooks \u001b[38;5;129;01mor\u001b[39;00m _global_forward_pre_hooks):\n\u001b[0;32m-> 1520\u001b[0m     \u001b[38;5;28;01mreturn\u001b[39;00m forward_call(\u001b[38;5;241m*\u001b[39margs, \u001b[38;5;241m*\u001b[39m\u001b[38;5;241m*\u001b[39mkwargs)\n\u001b[1;32m   1522\u001b[0m \u001b[38;5;28;01mtry\u001b[39;00m:\n",
      "    \u001b[0;31m[... skipping similar frames: _call_function_ex_handler at line 3507 (1 times), _interpret_call at line 5885 (1 times), _run_frame at line 6284 (1 times), _setup_frame_and_run_python_function at line 6238 (1 times), default_opcode_interpreter at line 1206 (1 times), InterpreterCompileCtx.interpret at line 408 (1 times)]\u001b[0m\n",
      "File \u001b[0;32m~/projects/torch_template/.venv/lib/python3.11/site-packages/thunder/core/interpreter.py:5944\u001b[0m, in \u001b[0;36m_call_dispatch\u001b[0;34m(compilectx, runtimectx, fn, *args, **kwargs)\u001b[0m\n\u001b[1;32m   5942\u001b[0m         \u001b[38;5;28;01mreturn\u001b[39;00m fn\u001b[38;5;241m.\u001b[39m\u001b[38;5;18m__func__\u001b[39m(fn\u001b[38;5;241m.\u001b[39m\u001b[38;5;18m__self__\u001b[39m, \u001b[38;5;241m*\u001b[39margs, \u001b[38;5;241m*\u001b[39m\u001b[38;5;241m*\u001b[39mkwargs)\n\u001b[0;32m-> 5944\u001b[0m     \u001b[38;5;28;01mreturn\u001b[39;00m \u001b[43m_interpret_call\u001b[49m\u001b[43m(\u001b[49m\u001b[43m_impl\u001b[49m\u001b[43m,\u001b[49m\u001b[43m \u001b[49m\u001b[43mwrapped_fn\u001b[49m\u001b[43m,\u001b[49m\u001b[43m \u001b[49m\u001b[38;5;241;43m*\u001b[39;49m\u001b[43margs\u001b[49m\u001b[43m,\u001b[49m\u001b[43m \u001b[49m\u001b[38;5;241;43m*\u001b[39;49m\u001b[38;5;241;43m*\u001b[39;49m\u001b[43mkwargs\u001b[49m\u001b[43m)\u001b[49m  \u001b[38;5;66;03m# type: ignore\u001b[39;00m\n\u001b[1;32m   5946\u001b[0m \u001b[38;5;66;03m# (1b) The callable is a builtin method, in which case it's canonicalized\u001b[39;00m\n\u001b[1;32m   5947\u001b[0m \u001b[38;5;66;03m#   A builtin is canonicalized when it's a call on a type or a module (or their equivalent)\u001b[39;00m\n\u001b[1;32m   5948\u001b[0m \u001b[38;5;66;03m#   Ex. The append method of a list\u001b[39;00m\n\u001b[0;32m   (...)\u001b[0m\n\u001b[1;32m   5989\u001b[0m \u001b[38;5;66;03m# NOTE Builtin Methods\u001b[39;00m\n\u001b[1;32m   5990\u001b[0m \u001b[38;5;66;03m#   Builtin methods are not considered methods by inspect.ismethod\u001b[39;00m\n",
      "    \u001b[0;31m[... skipping similar frames: _call_dispatch at line 6114 (1 times), _interpret_call at line 5885 (1 times), _setup_frame_and_run_python_function at line 6243 (1 times)]\u001b[0m\n",
      "File \u001b[0;32m~/projects/torch_template/.venv/lib/python3.11/site-packages/thunder/core/interpreter.py:5942\u001b[0m, in \u001b[0;36m_call_dispatch.<locals>._impl\u001b[0;34m()\u001b[0m\n\u001b[1;32m   5941\u001b[0m \u001b[38;5;28;01mdef\u001b[39;00m \u001b[38;5;21m_impl\u001b[39m(fn, \u001b[38;5;241m*\u001b[39margs, \u001b[38;5;241m*\u001b[39m\u001b[38;5;241m*\u001b[39mkwargs):\n\u001b[0;32m-> 5942\u001b[0m     \u001b[38;5;28;01mreturn\u001b[39;00m fn\u001b[38;5;241m.\u001b[39m\u001b[38;5;18m__func__\u001b[39m(fn\u001b[38;5;241m.\u001b[39m\u001b[38;5;18m__self__\u001b[39m, \u001b[38;5;241m*\u001b[39margs, \u001b[38;5;241m*\u001b[39m\u001b[38;5;241m*\u001b[39mkwargs)\n",
      "File \u001b[0;32m~/projects/torch_template/.venv/lib/python3.11/site-packages/thunder/core/interpreter.py:6238\u001b[0m, in \u001b[0;36m_setup_frame_and_run_python_function\u001b[0;34m(compilectx, runtimectx, wrapped_fn, *args, **kwargs)\u001b[0m\n\u001b[1;32m   6237\u001b[0m \u001b[38;5;28;01mtry\u001b[39;00m:\n\u001b[0;32m-> 6238\u001b[0m     res, status \u001b[38;5;241m=\u001b[39m \u001b[43m_run_frame\u001b[49m\u001b[43m(\u001b[49m\u001b[43mframe\u001b[49m\u001b[43m,\u001b[49m\u001b[43m \u001b[49m\u001b[43mcompilectx\u001b[49m\u001b[43m,\u001b[49m\u001b[43m \u001b[49m\u001b[43mruntimectx\u001b[49m\u001b[43m)\u001b[49m\n\u001b[1;32m   6239\u001b[0m \u001b[38;5;28;01mexcept\u001b[39;00m \u001b[38;5;167;01mException\u001b[39;00m \u001b[38;5;28;01mas\u001b[39;00m e:\n\u001b[1;32m   6240\u001b[0m     \u001b[38;5;66;03m# We need to cheat a bit to get a Python frame here...\u001b[39;00m\n",
      "File \u001b[0;32m~/projects/torch_template/.venv/lib/python3.11/site-packages/thunder/core/interpreter.py:6284\u001b[0m, in \u001b[0;36m_run_frame\u001b[0;34m(frame, compilectx, runtimectx, send_value)\u001b[0m\n\u001b[1;32m   6283\u001b[0m frame\u001b[38;5;241m.\u001b[39mlasti \u001b[38;5;241m=\u001b[39m frame\u001b[38;5;241m.\u001b[39minst_ptr  \u001b[38;5;66;03m# ???\u001b[39;00m\n\u001b[0;32m-> 6284\u001b[0m interpretation_result: \u001b[38;5;28;01mNone\u001b[39;00m \u001b[38;5;241m|\u001b[39m \u001b[38;5;28mint\u001b[39m \u001b[38;5;241m|\u001b[39m INTERPRETER_SIGNALS \u001b[38;5;241m=\u001b[39m \u001b[43mcompilectx\u001b[49m\u001b[38;5;241;43m.\u001b[39;49m\u001b[43minterpret\u001b[49m\u001b[43m(\u001b[49m\n\u001b[1;32m   6285\u001b[0m \u001b[43m    \u001b[49m\u001b[43minst\u001b[49m\u001b[43m,\u001b[49m\n\u001b[1;32m   6286\u001b[0m \u001b[43m    \u001b[49m\u001b[43minst_ptr\u001b[49m\u001b[38;5;241;43m=\u001b[39;49m\u001b[43mframe\u001b[49m\u001b[38;5;241;43m.\u001b[39;49m\u001b[43minst_ptr\u001b[49m\u001b[43m,\u001b[49m\n\u001b[1;32m   6287\u001b[0m \u001b[43m    \u001b[49m\u001b[43mstack\u001b[49m\u001b[38;5;241;43m=\u001b[39;49m\u001b[43mframe\u001b[49m\u001b[38;5;241;43m.\u001b[39;49m\u001b[43minterpreter_stack\u001b[49m\u001b[43m,\u001b[49m\n\u001b[1;32m   6288\u001b[0m \u001b[43m    \u001b[49m\u001b[43mglobals_dict\u001b[49m\u001b[38;5;241;43m=\u001b[39;49m\u001b[43mframe\u001b[49m\u001b[38;5;241;43m.\u001b[39;49m\u001b[43mglobals\u001b[49m\u001b[43m,\u001b[49m\n\u001b[1;32m   6289\u001b[0m \u001b[43m    \u001b[49m\u001b[43mtry_stack\u001b[49m\u001b[38;5;241;43m=\u001b[39;49m\u001b[43mframe\u001b[49m\u001b[38;5;241;43m.\u001b[39;49m\u001b[43mtry_stack\u001b[49m\u001b[43m,\u001b[49m\n\u001b[1;32m   6290\u001b[0m \u001b[43m    \u001b[49m\u001b[43mexception_stack\u001b[49m\u001b[38;5;241;43m=\u001b[39;49m\u001b[43mruntimectx\u001b[49m\u001b[38;5;241;43m.\u001b[39;49m\u001b[43mexception_stack\u001b[49m\u001b[43m,\u001b[49m\n\u001b[1;32m   6291\u001b[0m \u001b[43m    \u001b[49m\u001b[43mco\u001b[49m\u001b[38;5;241;43m=\u001b[39;49m\u001b[43mframe\u001b[49m\u001b[38;5;241;43m.\u001b[39;49m\u001b[43mcode\u001b[49m\u001b[43m,\u001b[49m\n\u001b[1;32m   6292\u001b[0m \u001b[43m    \u001b[49m\u001b[43mframe\u001b[49m\u001b[38;5;241;43m=\u001b[39;49m\u001b[43mframe\u001b[49m\u001b[43m,\u001b[49m\n\u001b[1;32m   6293\u001b[0m \u001b[43m\u001b[49m\u001b[43m)\u001b[49m\n\u001b[1;32m   6294\u001b[0m \u001b[38;5;28;01mif\u001b[39;00m interpretation_result \u001b[38;5;129;01mis\u001b[39;00m INTERPRETER_SIGNALS\u001b[38;5;241m.\u001b[39mEXCEPTION_RAISED:\n",
      "File \u001b[0;32m~/projects/torch_template/.venv/lib/python3.11/site-packages/thunder/core/interpreter.py:408\u001b[0m, in \u001b[0;36mInterpreterCompileCtx.interpret\u001b[0;34m(self, inst, **interpreter_state)\u001b[0m\n\u001b[1;32m    407\u001b[0m \u001b[38;5;28;01mdef\u001b[39;00m \u001b[38;5;21minterpret\u001b[39m(\u001b[38;5;28mself\u001b[39m, inst: dis\u001b[38;5;241m.\u001b[39mInstruction, \u001b[38;5;241m/\u001b[39m, \u001b[38;5;241m*\u001b[39m\u001b[38;5;241m*\u001b[39minterpreter_state) \u001b[38;5;241m-\u001b[39m\u001b[38;5;241m>\u001b[39m \u001b[38;5;28;01mNone\u001b[39;00m \u001b[38;5;241m|\u001b[39m \u001b[38;5;28mint\u001b[39m \u001b[38;5;241m|\u001b[39m INTERPRETER_SIGNALS:\n\u001b[0;32m--> 408\u001b[0m     \u001b[38;5;28;01mreturn\u001b[39;00m \u001b[38;5;28;43mself\u001b[39;49m\u001b[38;5;241;43m.\u001b[39;49m\u001b[43m_opcode_interpreter\u001b[49m\u001b[43m(\u001b[49m\u001b[43minst\u001b[49m\u001b[43m,\u001b[49m\u001b[43m \u001b[49m\u001b[38;5;241;43m*\u001b[39;49m\u001b[38;5;241;43m*\u001b[39;49m\u001b[43minterpreter_state\u001b[49m\u001b[43m)\u001b[49m\n",
      "File \u001b[0;32m~/projects/torch_template/.venv/lib/python3.11/site-packages/thunder/core/interpreter.py:1206\u001b[0m, in \u001b[0;36mdefault_opcode_interpreter\u001b[0;34m(inst, **interpreter_state)\u001b[0m\n\u001b[1;32m   1205\u001b[0m \u001b[38;5;28;01mwith\u001b[39;00m interpreter_state[\u001b[38;5;124m\"\u001b[39m\u001b[38;5;124mstack\u001b[39m\u001b[38;5;124m\"\u001b[39m]\u001b[38;5;241m.\u001b[39mset_cur_instruction(inst):\n\u001b[0;32m-> 1206\u001b[0m     \u001b[38;5;28;01mreturn\u001b[39;00m \u001b[43mhandler\u001b[49m\u001b[43m(\u001b[49m\u001b[43minst\u001b[49m\u001b[43m,\u001b[49m\u001b[43m \u001b[49m\u001b[38;5;241;43m*\u001b[39;49m\u001b[38;5;241;43m*\u001b[39;49m\u001b[43minterpreter_state\u001b[49m\u001b[43m)\u001b[49m\n",
      "File \u001b[0;32m~/projects/torch_template/.venv/lib/python3.11/site-packages/thunder/core/interpreter.py:3507\u001b[0m, in \u001b[0;36m_call_function_ex_handler\u001b[0;34m(inst, stack, **kwargs)\u001b[0m\n\u001b[1;32m   3506\u001b[0m     kwargs \u001b[38;5;241m=\u001b[39m wrap_kwargs_from_dict(kwargs)\n\u001b[0;32m-> 3507\u001b[0m \u001b[38;5;28;01mreturn\u001b[39;00m check_and_append(stack, \u001b[43m_interpret_call\u001b[49m\u001b[43m(\u001b[49m\u001b[43mfunc\u001b[49m\u001b[43m,\u001b[49m\u001b[43m \u001b[49m\u001b[38;5;241;43m*\u001b[39;49m\u001b[43margs\u001b[49m\u001b[43m,\u001b[49m\u001b[43m \u001b[49m\u001b[38;5;241;43m*\u001b[39;49m\u001b[38;5;241;43m*\u001b[39;49m\u001b[43mkwargs\u001b[49m\u001b[43m)\u001b[49m)\n",
      "File \u001b[0;32m~/projects/torch_template/.venv/lib/python3.11/site-packages/thunder/core/interpreter.py:5885\u001b[0m, in \u001b[0;36m_interpret_call\u001b[0;34m(fn, *args, **kwargs)\u001b[0m\n\u001b[1;32m   5884\u001b[0m runtimectx\u001b[38;5;241m.\u001b[39mrecord_interpreter_call(fn)  \u001b[38;5;66;03m# type: ignore\u001b[39;00m\n\u001b[0;32m-> 5885\u001b[0m rval \u001b[38;5;241m=\u001b[39m \u001b[43m_call_dispatch\u001b[49m\u001b[43m(\u001b[49m\u001b[43mcompilectx\u001b[49m\u001b[43m,\u001b[49m\u001b[43m \u001b[49m\u001b[43mruntimectx\u001b[49m\u001b[43m,\u001b[49m\u001b[43m \u001b[49m\u001b[43mfn\u001b[49m\u001b[43m,\u001b[49m\u001b[43m \u001b[49m\u001b[38;5;241;43m*\u001b[39;49m\u001b[43margs\u001b[49m\u001b[43m,\u001b[49m\u001b[43m \u001b[49m\u001b[38;5;241;43m*\u001b[39;49m\u001b[38;5;241;43m*\u001b[39;49m\u001b[43mkwargs\u001b[49m\u001b[43m)\u001b[49m  \u001b[38;5;66;03m# type: ignore\u001b[39;00m\n\u001b[1;32m   5886\u001b[0m \u001b[38;5;28;01mif\u001b[39;00m compilectx\u001b[38;5;241m.\u001b[39m_with_provenance_tracking:\n",
      "File \u001b[0;32m~/projects/torch_template/.venv/lib/python3.11/site-packages/thunder/core/interpreter.py:6114\u001b[0m, in \u001b[0;36m_call_dispatch\u001b[0;34m(compilectx, runtimectx, fn, *args, **kwargs)\u001b[0m\n\u001b[1;32m   6113\u001b[0m \u001b[38;5;28;01massert\u001b[39;00m \u001b[38;5;28misinstance\u001b[39m(fn, FunctionType), \u001b[38;5;124mf\u001b[39m\u001b[38;5;124m\"\u001b[39m\u001b[38;5;132;01m{\u001b[39;00mfn\u001b[38;5;132;01m=}\u001b[39;00m\u001b[38;5;124m had an unexpected type (\u001b[39m\u001b[38;5;132;01m{\u001b[39;00m\u001b[38;5;28mtype\u001b[39m(fn)\u001b[38;5;132;01m}\u001b[39;00m\u001b[38;5;124m\"\u001b[39m\n\u001b[0;32m-> 6114\u001b[0m \u001b[38;5;28;01mreturn\u001b[39;00m \u001b[43m_setup_frame_and_run_python_function\u001b[49m\u001b[43m(\u001b[49m\u001b[43mcompilectx\u001b[49m\u001b[43m,\u001b[49m\u001b[43m \u001b[49m\u001b[43mruntimectx\u001b[49m\u001b[43m,\u001b[49m\u001b[43m \u001b[49m\u001b[43mwrapped_fn\u001b[49m\u001b[43m,\u001b[49m\u001b[43m \u001b[49m\u001b[38;5;241;43m*\u001b[39;49m\u001b[43margs\u001b[49m\u001b[43m,\u001b[49m\u001b[43m \u001b[49m\u001b[38;5;241;43m*\u001b[39;49m\u001b[38;5;241;43m*\u001b[39;49m\u001b[43mkwargs\u001b[49m\u001b[43m)\u001b[49m\n",
      "File \u001b[0;32m~/projects/torch_template/.venv/lib/python3.11/site-packages/thunder/core/interpreter.py:6243\u001b[0m, in \u001b[0;36m_setup_frame_and_run_python_function\u001b[0;34m(compilectx, runtimectx, wrapped_fn, *args, **kwargs)\u001b[0m\n\u001b[1;32m   6242\u001b[0m     tb \u001b[38;5;241m=\u001b[39m TracebackType(e\u001b[38;5;241m.\u001b[39m__traceback__, python_frame, python_frame\u001b[38;5;241m.\u001b[39mf_lasti, python_frame\u001b[38;5;241m.\u001b[39mf_lineno)\n\u001b[0;32m-> 6243\u001b[0m     \u001b[38;5;28;01mraise\u001b[39;00m e\u001b[38;5;241m.\u001b[39mwith_traceback(tb)\n\u001b[1;32m   6244\u001b[0m \u001b[38;5;28;01mreturn\u001b[39;00m res\n",
      "File \u001b[0;32m~/projects/torch_template/nfs/samples_RNN/LHT_credits-history/src/models/components/embedding/encoder_layer.py:66\u001b[0m, in \u001b[0;36mEncoderLayer.forward\u001b[0;34m()\u001b[0m\n\u001b[1;32m     65\u001b[0m \u001b[38;5;28;01mdef\u001b[39;00m \u001b[38;5;21mforward\u001b[39m(\u001b[38;5;28mself\u001b[39m, inputs: ModelInput) \u001b[38;5;241m-\u001b[39m\u001b[38;5;241m>\u001b[39m SingleForwardState:\n\u001b[0;32m---> 66\u001b[0m     embeddings \u001b[38;5;241m=\u001b[39m \u001b[38;5;28mself\u001b[39m\u001b[38;5;241m.\u001b[39membeddings(inputs\u001b[38;5;241m.\u001b[39mcategorical)\n\u001b[1;32m     67\u001b[0m     x \u001b[38;5;241m=\u001b[39m \u001b[38;5;28mself\u001b[39m\u001b[38;5;241m.\u001b[39mdropout(embeddings)\n",
      "File \u001b[0;32m~/projects/torch_template/.venv/lib/python3.11/site-packages/thunder/core/interpreter.py:6238\u001b[0m, in \u001b[0;36m_setup_frame_and_run_python_function\u001b[0;34m(compilectx, runtimectx, wrapped_fn, *args, **kwargs)\u001b[0m\n\u001b[1;32m   6237\u001b[0m \u001b[38;5;28;01mtry\u001b[39;00m:\n\u001b[0;32m-> 6238\u001b[0m     res, status \u001b[38;5;241m=\u001b[39m \u001b[43m_run_frame\u001b[49m\u001b[43m(\u001b[49m\u001b[43mframe\u001b[49m\u001b[43m,\u001b[49m\u001b[43m \u001b[49m\u001b[43mcompilectx\u001b[49m\u001b[43m,\u001b[49m\u001b[43m \u001b[49m\u001b[43mruntimectx\u001b[49m\u001b[43m)\u001b[49m\n\u001b[1;32m   6239\u001b[0m \u001b[38;5;28;01mexcept\u001b[39;00m \u001b[38;5;167;01mException\u001b[39;00m \u001b[38;5;28;01mas\u001b[39;00m e:\n\u001b[1;32m   6240\u001b[0m     \u001b[38;5;66;03m# We need to cheat a bit to get a Python frame here...\u001b[39;00m\n",
      "File \u001b[0;32m~/projects/torch_template/.venv/lib/python3.11/site-packages/thunder/core/interpreter.py:6284\u001b[0m, in \u001b[0;36m_run_frame\u001b[0;34m(frame, compilectx, runtimectx, send_value)\u001b[0m\n\u001b[1;32m   6283\u001b[0m frame\u001b[38;5;241m.\u001b[39mlasti \u001b[38;5;241m=\u001b[39m frame\u001b[38;5;241m.\u001b[39minst_ptr  \u001b[38;5;66;03m# ???\u001b[39;00m\n\u001b[0;32m-> 6284\u001b[0m interpretation_result: \u001b[38;5;28;01mNone\u001b[39;00m \u001b[38;5;241m|\u001b[39m \u001b[38;5;28mint\u001b[39m \u001b[38;5;241m|\u001b[39m INTERPRETER_SIGNALS \u001b[38;5;241m=\u001b[39m \u001b[43mcompilectx\u001b[49m\u001b[38;5;241;43m.\u001b[39;49m\u001b[43minterpret\u001b[49m\u001b[43m(\u001b[49m\n\u001b[1;32m   6285\u001b[0m \u001b[43m    \u001b[49m\u001b[43minst\u001b[49m\u001b[43m,\u001b[49m\n\u001b[1;32m   6286\u001b[0m \u001b[43m    \u001b[49m\u001b[43minst_ptr\u001b[49m\u001b[38;5;241;43m=\u001b[39;49m\u001b[43mframe\u001b[49m\u001b[38;5;241;43m.\u001b[39;49m\u001b[43minst_ptr\u001b[49m\u001b[43m,\u001b[49m\n\u001b[1;32m   6287\u001b[0m \u001b[43m    \u001b[49m\u001b[43mstack\u001b[49m\u001b[38;5;241;43m=\u001b[39;49m\u001b[43mframe\u001b[49m\u001b[38;5;241;43m.\u001b[39;49m\u001b[43minterpreter_stack\u001b[49m\u001b[43m,\u001b[49m\n\u001b[1;32m   6288\u001b[0m \u001b[43m    \u001b[49m\u001b[43mglobals_dict\u001b[49m\u001b[38;5;241;43m=\u001b[39;49m\u001b[43mframe\u001b[49m\u001b[38;5;241;43m.\u001b[39;49m\u001b[43mglobals\u001b[49m\u001b[43m,\u001b[49m\n\u001b[1;32m   6289\u001b[0m \u001b[43m    \u001b[49m\u001b[43mtry_stack\u001b[49m\u001b[38;5;241;43m=\u001b[39;49m\u001b[43mframe\u001b[49m\u001b[38;5;241;43m.\u001b[39;49m\u001b[43mtry_stack\u001b[49m\u001b[43m,\u001b[49m\n\u001b[1;32m   6290\u001b[0m \u001b[43m    \u001b[49m\u001b[43mexception_stack\u001b[49m\u001b[38;5;241;43m=\u001b[39;49m\u001b[43mruntimectx\u001b[49m\u001b[38;5;241;43m.\u001b[39;49m\u001b[43mexception_stack\u001b[49m\u001b[43m,\u001b[49m\n\u001b[1;32m   6291\u001b[0m \u001b[43m    \u001b[49m\u001b[43mco\u001b[49m\u001b[38;5;241;43m=\u001b[39;49m\u001b[43mframe\u001b[49m\u001b[38;5;241;43m.\u001b[39;49m\u001b[43mcode\u001b[49m\u001b[43m,\u001b[49m\n\u001b[1;32m   6292\u001b[0m \u001b[43m    \u001b[49m\u001b[43mframe\u001b[49m\u001b[38;5;241;43m=\u001b[39;49m\u001b[43mframe\u001b[49m\u001b[43m,\u001b[49m\n\u001b[1;32m   6293\u001b[0m \u001b[43m\u001b[49m\u001b[43m)\u001b[49m\n\u001b[1;32m   6294\u001b[0m \u001b[38;5;28;01mif\u001b[39;00m interpretation_result \u001b[38;5;129;01mis\u001b[39;00m INTERPRETER_SIGNALS\u001b[38;5;241m.\u001b[39mEXCEPTION_RAISED:\n",
      "File \u001b[0;32m~/projects/torch_template/.venv/lib/python3.11/site-packages/thunder/core/interpreter.py:408\u001b[0m, in \u001b[0;36mInterpreterCompileCtx.interpret\u001b[0;34m(self, inst, **interpreter_state)\u001b[0m\n\u001b[1;32m    407\u001b[0m \u001b[38;5;28;01mdef\u001b[39;00m \u001b[38;5;21minterpret\u001b[39m(\u001b[38;5;28mself\u001b[39m, inst: dis\u001b[38;5;241m.\u001b[39mInstruction, \u001b[38;5;241m/\u001b[39m, \u001b[38;5;241m*\u001b[39m\u001b[38;5;241m*\u001b[39minterpreter_state) \u001b[38;5;241m-\u001b[39m\u001b[38;5;241m>\u001b[39m \u001b[38;5;28;01mNone\u001b[39;00m \u001b[38;5;241m|\u001b[39m \u001b[38;5;28mint\u001b[39m \u001b[38;5;241m|\u001b[39m INTERPRETER_SIGNALS:\n\u001b[0;32m--> 408\u001b[0m     \u001b[38;5;28;01mreturn\u001b[39;00m \u001b[38;5;28;43mself\u001b[39;49m\u001b[38;5;241;43m.\u001b[39;49m\u001b[43m_opcode_interpreter\u001b[49m\u001b[43m(\u001b[49m\u001b[43minst\u001b[49m\u001b[43m,\u001b[49m\u001b[43m \u001b[49m\u001b[38;5;241;43m*\u001b[39;49m\u001b[38;5;241;43m*\u001b[39;49m\u001b[43minterpreter_state\u001b[49m\u001b[43m)\u001b[49m\n",
      "File \u001b[0;32m~/projects/torch_template/.venv/lib/python3.11/site-packages/thunder/core/interpreter.py:1206\u001b[0m, in \u001b[0;36mdefault_opcode_interpreter\u001b[0;34m(inst, **interpreter_state)\u001b[0m\n\u001b[1;32m   1205\u001b[0m \u001b[38;5;28;01mwith\u001b[39;00m interpreter_state[\u001b[38;5;124m\"\u001b[39m\u001b[38;5;124mstack\u001b[39m\u001b[38;5;124m\"\u001b[39m]\u001b[38;5;241m.\u001b[39mset_cur_instruction(inst):\n\u001b[0;32m-> 1206\u001b[0m     \u001b[38;5;28;01mreturn\u001b[39;00m \u001b[43mhandler\u001b[49m\u001b[43m(\u001b[49m\u001b[43minst\u001b[49m\u001b[43m,\u001b[49m\u001b[43m \u001b[49m\u001b[38;5;241;43m*\u001b[39;49m\u001b[38;5;241;43m*\u001b[39;49m\u001b[43minterpreter_state\u001b[49m\u001b[43m)\u001b[49m\n",
      "File \u001b[0;32m~/projects/torch_template/.venv/lib/python3.11/site-packages/thunder/core/interpreter.py:3467\u001b[0m, in \u001b[0;36m_call_handler\u001b[0;34m(inst, stack, frame, **kwargs)\u001b[0m\n\u001b[1;32m   3465\u001b[0m     func \u001b[38;5;241m=\u001b[39m func_or_self\n\u001b[0;32m-> 3467\u001b[0m res \u001b[38;5;241m=\u001b[39m \u001b[43m_interpret_call\u001b[49m\u001b[43m(\u001b[49m\u001b[43mfunc\u001b[49m\u001b[43m,\u001b[49m\u001b[43m \u001b[49m\u001b[38;5;241;43m*\u001b[39;49m\u001b[43margs\u001b[49m\u001b[43m,\u001b[49m\u001b[43m \u001b[49m\u001b[38;5;241;43m*\u001b[39;49m\u001b[38;5;241;43m*\u001b[39;49m\u001b[43mkwargs\u001b[49m\u001b[43m)\u001b[49m\n\u001b[1;32m   3468\u001b[0m ctx: InterpreterCompileCtx \u001b[38;5;241m=\u001b[39m get_interpretercompilectx()\n",
      "File \u001b[0;32m~/projects/torch_template/.venv/lib/python3.11/site-packages/thunder/core/interpreter.py:5885\u001b[0m, in \u001b[0;36m_interpret_call\u001b[0;34m(fn, *args, **kwargs)\u001b[0m\n\u001b[1;32m   5884\u001b[0m runtimectx\u001b[38;5;241m.\u001b[39mrecord_interpreter_call(fn)  \u001b[38;5;66;03m# type: ignore\u001b[39;00m\n\u001b[0;32m-> 5885\u001b[0m rval \u001b[38;5;241m=\u001b[39m \u001b[43m_call_dispatch\u001b[49m\u001b[43m(\u001b[49m\u001b[43mcompilectx\u001b[49m\u001b[43m,\u001b[49m\u001b[43m \u001b[49m\u001b[43mruntimectx\u001b[49m\u001b[43m,\u001b[49m\u001b[43m \u001b[49m\u001b[43mfn\u001b[49m\u001b[43m,\u001b[49m\u001b[43m \u001b[49m\u001b[38;5;241;43m*\u001b[39;49m\u001b[43margs\u001b[49m\u001b[43m,\u001b[49m\u001b[43m \u001b[49m\u001b[38;5;241;43m*\u001b[39;49m\u001b[38;5;241;43m*\u001b[39;49m\u001b[43mkwargs\u001b[49m\u001b[43m)\u001b[49m  \u001b[38;5;66;03m# type: ignore\u001b[39;00m\n\u001b[1;32m   5886\u001b[0m \u001b[38;5;28;01mif\u001b[39;00m compilectx\u001b[38;5;241m.\u001b[39m_with_provenance_tracking:\n",
      "File \u001b[0;32m~/projects/torch_template/.venv/lib/python3.11/site-packages/thunder/core/interpreter.py:6110\u001b[0m, in \u001b[0;36m_call_dispatch\u001b[0;34m(compilectx, runtimectx, fn, *args, **kwargs)\u001b[0m\n\u001b[1;32m   6109\u001b[0m     populate_attribute_wrapper(wrapped_call, \u001b[38;5;124m\"\u001b[39m\u001b[38;5;124m__self__\u001b[39m\u001b[38;5;124m\"\u001b[39m, wrapped_fn)\n\u001b[0;32m-> 6110\u001b[0m     \u001b[38;5;28;01mreturn\u001b[39;00m \u001b[43m_interpret_call\u001b[49m\u001b[43m(\u001b[49m\u001b[43mwrapped_call\u001b[49m\u001b[43m,\u001b[49m\u001b[43m \u001b[49m\u001b[38;5;241;43m*\u001b[39;49m\u001b[43margs\u001b[49m\u001b[43m,\u001b[49m\u001b[43m \u001b[49m\u001b[38;5;241;43m*\u001b[39;49m\u001b[38;5;241;43m*\u001b[39;49m\u001b[43mkwargs\u001b[49m\u001b[43m)\u001b[49m\n\u001b[1;32m   6112\u001b[0m \u001b[38;5;66;03m# (7) interprets into the function\u001b[39;00m\n",
      "File \u001b[0;32m~/projects/torch_template/.venv/lib/python3.11/site-packages/thunder/core/interpreter.py:5885\u001b[0m, in \u001b[0;36m_interpret_call\u001b[0;34m(fn, *args, **kwargs)\u001b[0m\n\u001b[1;32m   5884\u001b[0m runtimectx\u001b[38;5;241m.\u001b[39mrecord_interpreter_call(fn)  \u001b[38;5;66;03m# type: ignore\u001b[39;00m\n\u001b[0;32m-> 5885\u001b[0m rval \u001b[38;5;241m=\u001b[39m \u001b[43m_call_dispatch\u001b[49m\u001b[43m(\u001b[49m\u001b[43mcompilectx\u001b[49m\u001b[43m,\u001b[49m\u001b[43m \u001b[49m\u001b[43mruntimectx\u001b[49m\u001b[43m,\u001b[49m\u001b[43m \u001b[49m\u001b[43mfn\u001b[49m\u001b[43m,\u001b[49m\u001b[43m \u001b[49m\u001b[38;5;241;43m*\u001b[39;49m\u001b[43margs\u001b[49m\u001b[43m,\u001b[49m\u001b[43m \u001b[49m\u001b[38;5;241;43m*\u001b[39;49m\u001b[38;5;241;43m*\u001b[39;49m\u001b[43mkwargs\u001b[49m\u001b[43m)\u001b[49m  \u001b[38;5;66;03m# type: ignore\u001b[39;00m\n\u001b[1;32m   5886\u001b[0m \u001b[38;5;28;01mif\u001b[39;00m compilectx\u001b[38;5;241m.\u001b[39m_with_provenance_tracking:\n",
      "File \u001b[0;32m~/projects/torch_template/.venv/lib/python3.11/site-packages/thunder/core/interpreter.py:5944\u001b[0m, in \u001b[0;36m_call_dispatch\u001b[0;34m(compilectx, runtimectx, fn, *args, **kwargs)\u001b[0m\n\u001b[1;32m   5942\u001b[0m         \u001b[38;5;28;01mreturn\u001b[39;00m fn\u001b[38;5;241m.\u001b[39m\u001b[38;5;18m__func__\u001b[39m(fn\u001b[38;5;241m.\u001b[39m\u001b[38;5;18m__self__\u001b[39m, \u001b[38;5;241m*\u001b[39margs, \u001b[38;5;241m*\u001b[39m\u001b[38;5;241m*\u001b[39mkwargs)\n\u001b[0;32m-> 5944\u001b[0m     \u001b[38;5;28;01mreturn\u001b[39;00m \u001b[43m_interpret_call\u001b[49m\u001b[43m(\u001b[49m\u001b[43m_impl\u001b[49m\u001b[43m,\u001b[49m\u001b[43m \u001b[49m\u001b[43mwrapped_fn\u001b[49m\u001b[43m,\u001b[49m\u001b[43m \u001b[49m\u001b[38;5;241;43m*\u001b[39;49m\u001b[43margs\u001b[49m\u001b[43m,\u001b[49m\u001b[43m \u001b[49m\u001b[38;5;241;43m*\u001b[39;49m\u001b[38;5;241;43m*\u001b[39;49m\u001b[43mkwargs\u001b[49m\u001b[43m)\u001b[49m  \u001b[38;5;66;03m# type: ignore\u001b[39;00m\n\u001b[1;32m   5946\u001b[0m \u001b[38;5;66;03m# (1b) The callable is a builtin method, in which case it's canonicalized\u001b[39;00m\n\u001b[1;32m   5947\u001b[0m \u001b[38;5;66;03m#   A builtin is canonicalized when it's a call on a type or a module (or their equivalent)\u001b[39;00m\n\u001b[1;32m   5948\u001b[0m \u001b[38;5;66;03m#   Ex. The append method of a list\u001b[39;00m\n\u001b[0;32m   (...)\u001b[0m\n\u001b[1;32m   5989\u001b[0m \u001b[38;5;66;03m# NOTE Builtin Methods\u001b[39;00m\n\u001b[1;32m   5990\u001b[0m \u001b[38;5;66;03m#   Builtin methods are not considered methods by inspect.ismethod\u001b[39;00m\n",
      "    \u001b[0;31m[... skipping similar frames: _interpret_call at line 5885 (1 times)]\u001b[0m\n",
      "File \u001b[0;32m~/projects/torch_template/.venv/lib/python3.11/site-packages/thunder/core/interpreter.py:6114\u001b[0m, in \u001b[0;36m_call_dispatch\u001b[0;34m(compilectx, runtimectx, fn, *args, **kwargs)\u001b[0m\n\u001b[1;32m   6113\u001b[0m \u001b[38;5;28;01massert\u001b[39;00m \u001b[38;5;28misinstance\u001b[39m(fn, FunctionType), \u001b[38;5;124mf\u001b[39m\u001b[38;5;124m\"\u001b[39m\u001b[38;5;132;01m{\u001b[39;00mfn\u001b[38;5;132;01m=}\u001b[39;00m\u001b[38;5;124m had an unexpected type (\u001b[39m\u001b[38;5;132;01m{\u001b[39;00m\u001b[38;5;28mtype\u001b[39m(fn)\u001b[38;5;132;01m}\u001b[39;00m\u001b[38;5;124m\"\u001b[39m\n\u001b[0;32m-> 6114\u001b[0m \u001b[38;5;28;01mreturn\u001b[39;00m \u001b[43m_setup_frame_and_run_python_function\u001b[49m\u001b[43m(\u001b[49m\u001b[43mcompilectx\u001b[49m\u001b[43m,\u001b[49m\u001b[43m \u001b[49m\u001b[43mruntimectx\u001b[49m\u001b[43m,\u001b[49m\u001b[43m \u001b[49m\u001b[43mwrapped_fn\u001b[49m\u001b[43m,\u001b[49m\u001b[43m \u001b[49m\u001b[38;5;241;43m*\u001b[39;49m\u001b[43margs\u001b[49m\u001b[43m,\u001b[49m\u001b[43m \u001b[49m\u001b[38;5;241;43m*\u001b[39;49m\u001b[38;5;241;43m*\u001b[39;49m\u001b[43mkwargs\u001b[49m\u001b[43m)\u001b[49m\n",
      "File \u001b[0;32m~/projects/torch_template/.venv/lib/python3.11/site-packages/thunder/core/interpreter.py:6243\u001b[0m, in \u001b[0;36m_setup_frame_and_run_python_function\u001b[0;34m(compilectx, runtimectx, wrapped_fn, *args, **kwargs)\u001b[0m\n\u001b[1;32m   6242\u001b[0m     tb \u001b[38;5;241m=\u001b[39m TracebackType(e\u001b[38;5;241m.\u001b[39m__traceback__, python_frame, python_frame\u001b[38;5;241m.\u001b[39mf_lasti, python_frame\u001b[38;5;241m.\u001b[39mf_lineno)\n\u001b[0;32m-> 6243\u001b[0m     \u001b[38;5;28;01mraise\u001b[39;00m e\u001b[38;5;241m.\u001b[39mwith_traceback(tb)\n\u001b[1;32m   6244\u001b[0m \u001b[38;5;28;01mreturn\u001b[39;00m res\n",
      "File \u001b[0;32m~/projects/torch_template/.venv/lib/python3.11/site-packages/thunder/core/interpreter.py:5942\u001b[0m, in \u001b[0;36m_call_dispatch.<locals>._impl\u001b[0;34m()\u001b[0m\n\u001b[1;32m   5941\u001b[0m \u001b[38;5;28;01mdef\u001b[39;00m \u001b[38;5;21m_impl\u001b[39m(fn, \u001b[38;5;241m*\u001b[39margs, \u001b[38;5;241m*\u001b[39m\u001b[38;5;241m*\u001b[39mkwargs):\n\u001b[0;32m-> 5942\u001b[0m     \u001b[38;5;28;01mreturn\u001b[39;00m fn\u001b[38;5;241m.\u001b[39m\u001b[38;5;18m__func__\u001b[39m(fn\u001b[38;5;241m.\u001b[39m\u001b[38;5;18m__self__\u001b[39m, \u001b[38;5;241m*\u001b[39margs, \u001b[38;5;241m*\u001b[39m\u001b[38;5;241m*\u001b[39mkwargs)\n",
      "File \u001b[0;32m~/projects/torch_template/.venv/lib/python3.11/site-packages/thunder/core/interpreter.py:6238\u001b[0m, in \u001b[0;36m_setup_frame_and_run_python_function\u001b[0;34m(compilectx, runtimectx, wrapped_fn, *args, **kwargs)\u001b[0m\n\u001b[1;32m   6237\u001b[0m \u001b[38;5;28;01mtry\u001b[39;00m:\n\u001b[0;32m-> 6238\u001b[0m     res, status \u001b[38;5;241m=\u001b[39m \u001b[43m_run_frame\u001b[49m\u001b[43m(\u001b[49m\u001b[43mframe\u001b[49m\u001b[43m,\u001b[49m\u001b[43m \u001b[49m\u001b[43mcompilectx\u001b[49m\u001b[43m,\u001b[49m\u001b[43m \u001b[49m\u001b[43mruntimectx\u001b[49m\u001b[43m)\u001b[49m\n\u001b[1;32m   6239\u001b[0m \u001b[38;5;28;01mexcept\u001b[39;00m \u001b[38;5;167;01mException\u001b[39;00m \u001b[38;5;28;01mas\u001b[39;00m e:\n\u001b[1;32m   6240\u001b[0m     \u001b[38;5;66;03m# We need to cheat a bit to get a Python frame here...\u001b[39;00m\n",
      "File \u001b[0;32m~/projects/torch_template/.venv/lib/python3.11/site-packages/thunder/core/interpreter.py:6284\u001b[0m, in \u001b[0;36m_run_frame\u001b[0;34m(frame, compilectx, runtimectx, send_value)\u001b[0m\n\u001b[1;32m   6283\u001b[0m frame\u001b[38;5;241m.\u001b[39mlasti \u001b[38;5;241m=\u001b[39m frame\u001b[38;5;241m.\u001b[39minst_ptr  \u001b[38;5;66;03m# ???\u001b[39;00m\n\u001b[0;32m-> 6284\u001b[0m interpretation_result: \u001b[38;5;28;01mNone\u001b[39;00m \u001b[38;5;241m|\u001b[39m \u001b[38;5;28mint\u001b[39m \u001b[38;5;241m|\u001b[39m INTERPRETER_SIGNALS \u001b[38;5;241m=\u001b[39m \u001b[43mcompilectx\u001b[49m\u001b[38;5;241;43m.\u001b[39;49m\u001b[43minterpret\u001b[49m\u001b[43m(\u001b[49m\n\u001b[1;32m   6285\u001b[0m \u001b[43m    \u001b[49m\u001b[43minst\u001b[49m\u001b[43m,\u001b[49m\n\u001b[1;32m   6286\u001b[0m \u001b[43m    \u001b[49m\u001b[43minst_ptr\u001b[49m\u001b[38;5;241;43m=\u001b[39;49m\u001b[43mframe\u001b[49m\u001b[38;5;241;43m.\u001b[39;49m\u001b[43minst_ptr\u001b[49m\u001b[43m,\u001b[49m\n\u001b[1;32m   6287\u001b[0m \u001b[43m    \u001b[49m\u001b[43mstack\u001b[49m\u001b[38;5;241;43m=\u001b[39;49m\u001b[43mframe\u001b[49m\u001b[38;5;241;43m.\u001b[39;49m\u001b[43minterpreter_stack\u001b[49m\u001b[43m,\u001b[49m\n\u001b[1;32m   6288\u001b[0m \u001b[43m    \u001b[49m\u001b[43mglobals_dict\u001b[49m\u001b[38;5;241;43m=\u001b[39;49m\u001b[43mframe\u001b[49m\u001b[38;5;241;43m.\u001b[39;49m\u001b[43mglobals\u001b[49m\u001b[43m,\u001b[49m\n\u001b[1;32m   6289\u001b[0m \u001b[43m    \u001b[49m\u001b[43mtry_stack\u001b[49m\u001b[38;5;241;43m=\u001b[39;49m\u001b[43mframe\u001b[49m\u001b[38;5;241;43m.\u001b[39;49m\u001b[43mtry_stack\u001b[49m\u001b[43m,\u001b[49m\n\u001b[1;32m   6290\u001b[0m \u001b[43m    \u001b[49m\u001b[43mexception_stack\u001b[49m\u001b[38;5;241;43m=\u001b[39;49m\u001b[43mruntimectx\u001b[49m\u001b[38;5;241;43m.\u001b[39;49m\u001b[43mexception_stack\u001b[49m\u001b[43m,\u001b[49m\n\u001b[1;32m   6291\u001b[0m \u001b[43m    \u001b[49m\u001b[43mco\u001b[49m\u001b[38;5;241;43m=\u001b[39;49m\u001b[43mframe\u001b[49m\u001b[38;5;241;43m.\u001b[39;49m\u001b[43mcode\u001b[49m\u001b[43m,\u001b[49m\n\u001b[1;32m   6292\u001b[0m \u001b[43m    \u001b[49m\u001b[43mframe\u001b[49m\u001b[38;5;241;43m=\u001b[39;49m\u001b[43mframe\u001b[49m\u001b[43m,\u001b[49m\n\u001b[1;32m   6293\u001b[0m \u001b[43m\u001b[49m\u001b[43m)\u001b[49m\n\u001b[1;32m   6294\u001b[0m \u001b[38;5;28;01mif\u001b[39;00m interpretation_result \u001b[38;5;129;01mis\u001b[39;00m INTERPRETER_SIGNALS\u001b[38;5;241m.\u001b[39mEXCEPTION_RAISED:\n",
      "File \u001b[0;32m~/projects/torch_template/.venv/lib/python3.11/site-packages/thunder/core/interpreter.py:408\u001b[0m, in \u001b[0;36mInterpreterCompileCtx.interpret\u001b[0;34m(self, inst, **interpreter_state)\u001b[0m\n\u001b[1;32m    407\u001b[0m \u001b[38;5;28;01mdef\u001b[39;00m \u001b[38;5;21minterpret\u001b[39m(\u001b[38;5;28mself\u001b[39m, inst: dis\u001b[38;5;241m.\u001b[39mInstruction, \u001b[38;5;241m/\u001b[39m, \u001b[38;5;241m*\u001b[39m\u001b[38;5;241m*\u001b[39minterpreter_state) \u001b[38;5;241m-\u001b[39m\u001b[38;5;241m>\u001b[39m \u001b[38;5;28;01mNone\u001b[39;00m \u001b[38;5;241m|\u001b[39m \u001b[38;5;28mint\u001b[39m \u001b[38;5;241m|\u001b[39m INTERPRETER_SIGNALS:\n\u001b[0;32m--> 408\u001b[0m     \u001b[38;5;28;01mreturn\u001b[39;00m \u001b[38;5;28;43mself\u001b[39;49m\u001b[38;5;241;43m.\u001b[39;49m\u001b[43m_opcode_interpreter\u001b[49m\u001b[43m(\u001b[49m\u001b[43minst\u001b[49m\u001b[43m,\u001b[49m\u001b[43m \u001b[49m\u001b[38;5;241;43m*\u001b[39;49m\u001b[38;5;241;43m*\u001b[39;49m\u001b[43minterpreter_state\u001b[49m\u001b[43m)\u001b[49m\n",
      "File \u001b[0;32m~/projects/torch_template/.venv/lib/python3.11/site-packages/thunder/core/interpreter.py:1206\u001b[0m, in \u001b[0;36mdefault_opcode_interpreter\u001b[0;34m(inst, **interpreter_state)\u001b[0m\n\u001b[1;32m   1205\u001b[0m \u001b[38;5;28;01mwith\u001b[39;00m interpreter_state[\u001b[38;5;124m\"\u001b[39m\u001b[38;5;124mstack\u001b[39m\u001b[38;5;124m\"\u001b[39m]\u001b[38;5;241m.\u001b[39mset_cur_instruction(inst):\n\u001b[0;32m-> 1206\u001b[0m     \u001b[38;5;28;01mreturn\u001b[39;00m \u001b[43mhandler\u001b[49m\u001b[43m(\u001b[49m\u001b[43minst\u001b[49m\u001b[43m,\u001b[49m\u001b[43m \u001b[49m\u001b[38;5;241;43m*\u001b[39;49m\u001b[38;5;241;43m*\u001b[39;49m\u001b[43minterpreter_state\u001b[49m\u001b[43m)\u001b[49m\n",
      "File \u001b[0;32m~/projects/torch_template/.venv/lib/python3.11/site-packages/thunder/core/interpreter.py:3507\u001b[0m, in \u001b[0;36m_call_function_ex_handler\u001b[0;34m(inst, stack, **kwargs)\u001b[0m\n\u001b[1;32m   3506\u001b[0m     kwargs \u001b[38;5;241m=\u001b[39m wrap_kwargs_from_dict(kwargs)\n\u001b[0;32m-> 3507\u001b[0m \u001b[38;5;28;01mreturn\u001b[39;00m check_and_append(stack, \u001b[43m_interpret_call\u001b[49m\u001b[43m(\u001b[49m\u001b[43mfunc\u001b[49m\u001b[43m,\u001b[49m\u001b[43m \u001b[49m\u001b[38;5;241;43m*\u001b[39;49m\u001b[43margs\u001b[49m\u001b[43m,\u001b[49m\u001b[43m \u001b[49m\u001b[38;5;241;43m*\u001b[39;49m\u001b[38;5;241;43m*\u001b[39;49m\u001b[43mkwargs\u001b[49m\u001b[43m)\u001b[49m)\n",
      "    \u001b[0;31m[... skipping similar frames: _interpret_call at line 5885 (1 times)]\u001b[0m\n",
      "File \u001b[0;32m~/projects/torch_template/.venv/lib/python3.11/site-packages/thunder/core/interpreter.py:6114\u001b[0m, in \u001b[0;36m_call_dispatch\u001b[0;34m(compilectx, runtimectx, fn, *args, **kwargs)\u001b[0m\n\u001b[1;32m   6113\u001b[0m \u001b[38;5;28;01massert\u001b[39;00m \u001b[38;5;28misinstance\u001b[39m(fn, FunctionType), \u001b[38;5;124mf\u001b[39m\u001b[38;5;124m\"\u001b[39m\u001b[38;5;132;01m{\u001b[39;00mfn\u001b[38;5;132;01m=}\u001b[39;00m\u001b[38;5;124m had an unexpected type (\u001b[39m\u001b[38;5;132;01m{\u001b[39;00m\u001b[38;5;28mtype\u001b[39m(fn)\u001b[38;5;132;01m}\u001b[39;00m\u001b[38;5;124m\"\u001b[39m\n\u001b[0;32m-> 6114\u001b[0m \u001b[38;5;28;01mreturn\u001b[39;00m \u001b[43m_setup_frame_and_run_python_function\u001b[49m\u001b[43m(\u001b[49m\u001b[43mcompilectx\u001b[49m\u001b[43m,\u001b[49m\u001b[43m \u001b[49m\u001b[43mruntimectx\u001b[49m\u001b[43m,\u001b[49m\u001b[43m \u001b[49m\u001b[43mwrapped_fn\u001b[49m\u001b[43m,\u001b[49m\u001b[43m \u001b[49m\u001b[38;5;241;43m*\u001b[39;49m\u001b[43margs\u001b[49m\u001b[43m,\u001b[49m\u001b[43m \u001b[49m\u001b[38;5;241;43m*\u001b[39;49m\u001b[38;5;241;43m*\u001b[39;49m\u001b[43mkwargs\u001b[49m\u001b[43m)\u001b[49m\n",
      "File \u001b[0;32m~/projects/torch_template/.venv/lib/python3.11/site-packages/thunder/core/interpreter.py:6243\u001b[0m, in \u001b[0;36m_setup_frame_and_run_python_function\u001b[0;34m(compilectx, runtimectx, wrapped_fn, *args, **kwargs)\u001b[0m\n\u001b[1;32m   6242\u001b[0m     tb \u001b[38;5;241m=\u001b[39m TracebackType(e\u001b[38;5;241m.\u001b[39m__traceback__, python_frame, python_frame\u001b[38;5;241m.\u001b[39mf_lasti, python_frame\u001b[38;5;241m.\u001b[39mf_lineno)\n\u001b[0;32m-> 6243\u001b[0m     \u001b[38;5;28;01mraise\u001b[39;00m e\u001b[38;5;241m.\u001b[39mwith_traceback(tb)\n\u001b[1;32m   6244\u001b[0m \u001b[38;5;28;01mreturn\u001b[39;00m res\n",
      "File \u001b[0;32m~/projects/torch_template/.venv/lib/python3.11/site-packages/torch/nn/modules/module.py:1511\u001b[0m, in \u001b[0;36mModule._wrapped_call_impl\u001b[0;34m()\u001b[0m\n\u001b[1;32m   1510\u001b[0m \u001b[38;5;28;01melse\u001b[39;00m:\n\u001b[0;32m-> 1511\u001b[0m     \u001b[38;5;28;01mreturn\u001b[39;00m \u001b[38;5;28mself\u001b[39m\u001b[38;5;241m.\u001b[39m_call_impl(\u001b[38;5;241m*\u001b[39margs, \u001b[38;5;241m*\u001b[39m\u001b[38;5;241m*\u001b[39mkwargs)\n",
      "    \u001b[0;31m[... skipping similar frames: _run_frame at line 6284 (1 times), _setup_frame_and_run_python_function at line 6238 (1 times), default_opcode_interpreter at line 1206 (1 times), InterpreterCompileCtx.interpret at line 408 (1 times)]\u001b[0m\n",
      "File \u001b[0;32m~/projects/torch_template/.venv/lib/python3.11/site-packages/thunder/core/interpreter.py:3507\u001b[0m, in \u001b[0;36m_call_function_ex_handler\u001b[0;34m(inst, stack, **kwargs)\u001b[0m\n\u001b[1;32m   3506\u001b[0m     kwargs \u001b[38;5;241m=\u001b[39m wrap_kwargs_from_dict(kwargs)\n\u001b[0;32m-> 3507\u001b[0m \u001b[38;5;28;01mreturn\u001b[39;00m check_and_append(stack, \u001b[43m_interpret_call\u001b[49m\u001b[43m(\u001b[49m\u001b[43mfunc\u001b[49m\u001b[43m,\u001b[49m\u001b[43m \u001b[49m\u001b[38;5;241;43m*\u001b[39;49m\u001b[43margs\u001b[49m\u001b[43m,\u001b[49m\u001b[43m \u001b[49m\u001b[38;5;241;43m*\u001b[39;49m\u001b[38;5;241;43m*\u001b[39;49m\u001b[43mkwargs\u001b[49m\u001b[43m)\u001b[49m)\n",
      "    \u001b[0;31m[... skipping similar frames: _interpret_call at line 5885 (1 times)]\u001b[0m\n",
      "File \u001b[0;32m~/projects/torch_template/.venv/lib/python3.11/site-packages/thunder/core/interpreter.py:5944\u001b[0m, in \u001b[0;36m_call_dispatch\u001b[0;34m(compilectx, runtimectx, fn, *args, **kwargs)\u001b[0m\n\u001b[1;32m   5942\u001b[0m         \u001b[38;5;28;01mreturn\u001b[39;00m fn\u001b[38;5;241m.\u001b[39m\u001b[38;5;18m__func__\u001b[39m(fn\u001b[38;5;241m.\u001b[39m\u001b[38;5;18m__self__\u001b[39m, \u001b[38;5;241m*\u001b[39margs, \u001b[38;5;241m*\u001b[39m\u001b[38;5;241m*\u001b[39mkwargs)\n\u001b[0;32m-> 5944\u001b[0m     \u001b[38;5;28;01mreturn\u001b[39;00m \u001b[43m_interpret_call\u001b[49m\u001b[43m(\u001b[49m\u001b[43m_impl\u001b[49m\u001b[43m,\u001b[49m\u001b[43m \u001b[49m\u001b[43mwrapped_fn\u001b[49m\u001b[43m,\u001b[49m\u001b[43m \u001b[49m\u001b[38;5;241;43m*\u001b[39;49m\u001b[43margs\u001b[49m\u001b[43m,\u001b[49m\u001b[43m \u001b[49m\u001b[38;5;241;43m*\u001b[39;49m\u001b[38;5;241;43m*\u001b[39;49m\u001b[43mkwargs\u001b[49m\u001b[43m)\u001b[49m  \u001b[38;5;66;03m# type: ignore\u001b[39;00m\n\u001b[1;32m   5946\u001b[0m \u001b[38;5;66;03m# (1b) The callable is a builtin method, in which case it's canonicalized\u001b[39;00m\n\u001b[1;32m   5947\u001b[0m \u001b[38;5;66;03m#   A builtin is canonicalized when it's a call on a type or a module (or their equivalent)\u001b[39;00m\n\u001b[1;32m   5948\u001b[0m \u001b[38;5;66;03m#   Ex. The append method of a list\u001b[39;00m\n\u001b[0;32m   (...)\u001b[0m\n\u001b[1;32m   5989\u001b[0m \u001b[38;5;66;03m# NOTE Builtin Methods\u001b[39;00m\n\u001b[1;32m   5990\u001b[0m \u001b[38;5;66;03m#   Builtin methods are not considered methods by inspect.ismethod\u001b[39;00m\n",
      "    \u001b[0;31m[... skipping similar frames: _call_dispatch at line 6114 (1 times), _interpret_call at line 5885 (1 times), _setup_frame_and_run_python_function at line 6243 (1 times)]\u001b[0m\n",
      "File \u001b[0;32m~/projects/torch_template/.venv/lib/python3.11/site-packages/thunder/core/interpreter.py:5942\u001b[0m, in \u001b[0;36m_call_dispatch.<locals>._impl\u001b[0;34m()\u001b[0m\n\u001b[1;32m   5941\u001b[0m \u001b[38;5;28;01mdef\u001b[39;00m \u001b[38;5;21m_impl\u001b[39m(fn, \u001b[38;5;241m*\u001b[39margs, \u001b[38;5;241m*\u001b[39m\u001b[38;5;241m*\u001b[39mkwargs):\n\u001b[0;32m-> 5942\u001b[0m     \u001b[38;5;28;01mreturn\u001b[39;00m fn\u001b[38;5;241m.\u001b[39m\u001b[38;5;18m__func__\u001b[39m(fn\u001b[38;5;241m.\u001b[39m\u001b[38;5;18m__self__\u001b[39m, \u001b[38;5;241m*\u001b[39margs, \u001b[38;5;241m*\u001b[39m\u001b[38;5;241m*\u001b[39mkwargs)\n",
      "    \u001b[0;31m[... skipping similar frames: _call_dispatch at line 6114 (1 times), _call_function_ex_handler at line 3507 (1 times), _interpret_call at line 5885 (1 times), _run_frame at line 6284 (1 times), _setup_frame_and_run_python_function at line 6238 (1 times), _setup_frame_and_run_python_function at line 6243 (1 times), default_opcode_interpreter at line 1206 (1 times), InterpreterCompileCtx.interpret at line 408 (1 times)]\u001b[0m\n",
      "File \u001b[0;32m~/projects/torch_template/.venv/lib/python3.11/site-packages/torch/nn/modules/module.py:1520\u001b[0m, in \u001b[0;36mModule._call_impl\u001b[0;34m()\u001b[0m\n\u001b[1;32m   1517\u001b[0m \u001b[38;5;28;01mif\u001b[39;00m \u001b[38;5;129;01mnot\u001b[39;00m (\u001b[38;5;28mself\u001b[39m\u001b[38;5;241m.\u001b[39m_backward_hooks \u001b[38;5;129;01mor\u001b[39;00m \u001b[38;5;28mself\u001b[39m\u001b[38;5;241m.\u001b[39m_backward_pre_hooks \u001b[38;5;129;01mor\u001b[39;00m \u001b[38;5;28mself\u001b[39m\u001b[38;5;241m.\u001b[39m_forward_hooks \u001b[38;5;129;01mor\u001b[39;00m \u001b[38;5;28mself\u001b[39m\u001b[38;5;241m.\u001b[39m_forward_pre_hooks\n\u001b[1;32m   1518\u001b[0m         \u001b[38;5;129;01mor\u001b[39;00m _global_backward_pre_hooks \u001b[38;5;129;01mor\u001b[39;00m _global_backward_hooks\n\u001b[1;32m   1519\u001b[0m         \u001b[38;5;129;01mor\u001b[39;00m _global_forward_hooks \u001b[38;5;129;01mor\u001b[39;00m _global_forward_pre_hooks):\n\u001b[0;32m-> 1520\u001b[0m     \u001b[38;5;28;01mreturn\u001b[39;00m forward_call(\u001b[38;5;241m*\u001b[39margs, \u001b[38;5;241m*\u001b[39m\u001b[38;5;241m*\u001b[39mkwargs)\n\u001b[1;32m   1522\u001b[0m \u001b[38;5;28;01mtry\u001b[39;00m:\n",
      "    \u001b[0;31m[... skipping similar frames: _call_function_ex_handler at line 3507 (1 times), _interpret_call at line 5885 (1 times), _run_frame at line 6284 (1 times), _setup_frame_and_run_python_function at line 6238 (1 times), default_opcode_interpreter at line 1206 (1 times), InterpreterCompileCtx.interpret at line 408 (1 times)]\u001b[0m\n",
      "File \u001b[0;32m~/projects/torch_template/.venv/lib/python3.11/site-packages/thunder/core/interpreter.py:5944\u001b[0m, in \u001b[0;36m_call_dispatch\u001b[0;34m(compilectx, runtimectx, fn, *args, **kwargs)\u001b[0m\n\u001b[1;32m   5942\u001b[0m         \u001b[38;5;28;01mreturn\u001b[39;00m fn\u001b[38;5;241m.\u001b[39m\u001b[38;5;18m__func__\u001b[39m(fn\u001b[38;5;241m.\u001b[39m\u001b[38;5;18m__self__\u001b[39m, \u001b[38;5;241m*\u001b[39margs, \u001b[38;5;241m*\u001b[39m\u001b[38;5;241m*\u001b[39mkwargs)\n\u001b[0;32m-> 5944\u001b[0m     \u001b[38;5;28;01mreturn\u001b[39;00m \u001b[43m_interpret_call\u001b[49m\u001b[43m(\u001b[49m\u001b[43m_impl\u001b[49m\u001b[43m,\u001b[49m\u001b[43m \u001b[49m\u001b[43mwrapped_fn\u001b[49m\u001b[43m,\u001b[49m\u001b[43m \u001b[49m\u001b[38;5;241;43m*\u001b[39;49m\u001b[43margs\u001b[49m\u001b[43m,\u001b[49m\u001b[43m \u001b[49m\u001b[38;5;241;43m*\u001b[39;49m\u001b[38;5;241;43m*\u001b[39;49m\u001b[43mkwargs\u001b[49m\u001b[43m)\u001b[49m  \u001b[38;5;66;03m# type: ignore\u001b[39;00m\n\u001b[1;32m   5946\u001b[0m \u001b[38;5;66;03m# (1b) The callable is a builtin method, in which case it's canonicalized\u001b[39;00m\n\u001b[1;32m   5947\u001b[0m \u001b[38;5;66;03m#   A builtin is canonicalized when it's a call on a type or a module (or their equivalent)\u001b[39;00m\n\u001b[1;32m   5948\u001b[0m \u001b[38;5;66;03m#   Ex. The append method of a list\u001b[39;00m\n\u001b[0;32m   (...)\u001b[0m\n\u001b[1;32m   5989\u001b[0m \u001b[38;5;66;03m# NOTE Builtin Methods\u001b[39;00m\n\u001b[1;32m   5990\u001b[0m \u001b[38;5;66;03m#   Builtin methods are not considered methods by inspect.ismethod\u001b[39;00m\n",
      "    \u001b[0;31m[... skipping similar frames: _call_dispatch at line 6114 (1 times), _interpret_call at line 5885 (1 times), _setup_frame_and_run_python_function at line 6243 (1 times)]\u001b[0m\n",
      "File \u001b[0;32m~/projects/torch_template/.venv/lib/python3.11/site-packages/thunder/core/interpreter.py:5942\u001b[0m, in \u001b[0;36m_call_dispatch.<locals>._impl\u001b[0;34m()\u001b[0m\n\u001b[1;32m   5941\u001b[0m \u001b[38;5;28;01mdef\u001b[39;00m \u001b[38;5;21m_impl\u001b[39m(fn, \u001b[38;5;241m*\u001b[39margs, \u001b[38;5;241m*\u001b[39m\u001b[38;5;241m*\u001b[39mkwargs):\n\u001b[0;32m-> 5942\u001b[0m     \u001b[38;5;28;01mreturn\u001b[39;00m fn\u001b[38;5;241m.\u001b[39m\u001b[38;5;18m__func__\u001b[39m(fn\u001b[38;5;241m.\u001b[39m\u001b[38;5;18m__self__\u001b[39m, \u001b[38;5;241m*\u001b[39margs, \u001b[38;5;241m*\u001b[39m\u001b[38;5;241m*\u001b[39mkwargs)\n",
      "File \u001b[0;32m~/projects/torch_template/.venv/lib/python3.11/site-packages/thunder/core/interpreter.py:6238\u001b[0m, in \u001b[0;36m_setup_frame_and_run_python_function\u001b[0;34m(compilectx, runtimectx, wrapped_fn, *args, **kwargs)\u001b[0m\n\u001b[1;32m   6237\u001b[0m \u001b[38;5;28;01mtry\u001b[39;00m:\n\u001b[0;32m-> 6238\u001b[0m     res, status \u001b[38;5;241m=\u001b[39m \u001b[43m_run_frame\u001b[49m\u001b[43m(\u001b[49m\u001b[43mframe\u001b[49m\u001b[43m,\u001b[49m\u001b[43m \u001b[49m\u001b[43mcompilectx\u001b[49m\u001b[43m,\u001b[49m\u001b[43m \u001b[49m\u001b[43mruntimectx\u001b[49m\u001b[43m)\u001b[49m\n\u001b[1;32m   6239\u001b[0m \u001b[38;5;28;01mexcept\u001b[39;00m \u001b[38;5;167;01mException\u001b[39;00m \u001b[38;5;28;01mas\u001b[39;00m e:\n\u001b[1;32m   6240\u001b[0m     \u001b[38;5;66;03m# We need to cheat a bit to get a Python frame here...\u001b[39;00m\n",
      "File \u001b[0;32m~/projects/torch_template/.venv/lib/python3.11/site-packages/thunder/core/interpreter.py:6284\u001b[0m, in \u001b[0;36m_run_frame\u001b[0;34m(frame, compilectx, runtimectx, send_value)\u001b[0m\n\u001b[1;32m   6283\u001b[0m frame\u001b[38;5;241m.\u001b[39mlasti \u001b[38;5;241m=\u001b[39m frame\u001b[38;5;241m.\u001b[39minst_ptr  \u001b[38;5;66;03m# ???\u001b[39;00m\n\u001b[0;32m-> 6284\u001b[0m interpretation_result: \u001b[38;5;28;01mNone\u001b[39;00m \u001b[38;5;241m|\u001b[39m \u001b[38;5;28mint\u001b[39m \u001b[38;5;241m|\u001b[39m INTERPRETER_SIGNALS \u001b[38;5;241m=\u001b[39m \u001b[43mcompilectx\u001b[49m\u001b[38;5;241;43m.\u001b[39;49m\u001b[43minterpret\u001b[49m\u001b[43m(\u001b[49m\n\u001b[1;32m   6285\u001b[0m \u001b[43m    \u001b[49m\u001b[43minst\u001b[49m\u001b[43m,\u001b[49m\n\u001b[1;32m   6286\u001b[0m \u001b[43m    \u001b[49m\u001b[43minst_ptr\u001b[49m\u001b[38;5;241;43m=\u001b[39;49m\u001b[43mframe\u001b[49m\u001b[38;5;241;43m.\u001b[39;49m\u001b[43minst_ptr\u001b[49m\u001b[43m,\u001b[49m\n\u001b[1;32m   6287\u001b[0m \u001b[43m    \u001b[49m\u001b[43mstack\u001b[49m\u001b[38;5;241;43m=\u001b[39;49m\u001b[43mframe\u001b[49m\u001b[38;5;241;43m.\u001b[39;49m\u001b[43minterpreter_stack\u001b[49m\u001b[43m,\u001b[49m\n\u001b[1;32m   6288\u001b[0m \u001b[43m    \u001b[49m\u001b[43mglobals_dict\u001b[49m\u001b[38;5;241;43m=\u001b[39;49m\u001b[43mframe\u001b[49m\u001b[38;5;241;43m.\u001b[39;49m\u001b[43mglobals\u001b[49m\u001b[43m,\u001b[49m\n\u001b[1;32m   6289\u001b[0m \u001b[43m    \u001b[49m\u001b[43mtry_stack\u001b[49m\u001b[38;5;241;43m=\u001b[39;49m\u001b[43mframe\u001b[49m\u001b[38;5;241;43m.\u001b[39;49m\u001b[43mtry_stack\u001b[49m\u001b[43m,\u001b[49m\n\u001b[1;32m   6290\u001b[0m \u001b[43m    \u001b[49m\u001b[43mexception_stack\u001b[49m\u001b[38;5;241;43m=\u001b[39;49m\u001b[43mruntimectx\u001b[49m\u001b[38;5;241;43m.\u001b[39;49m\u001b[43mexception_stack\u001b[49m\u001b[43m,\u001b[49m\n\u001b[1;32m   6291\u001b[0m \u001b[43m    \u001b[49m\u001b[43mco\u001b[49m\u001b[38;5;241;43m=\u001b[39;49m\u001b[43mframe\u001b[49m\u001b[38;5;241;43m.\u001b[39;49m\u001b[43mcode\u001b[49m\u001b[43m,\u001b[49m\n\u001b[1;32m   6292\u001b[0m \u001b[43m    \u001b[49m\u001b[43mframe\u001b[49m\u001b[38;5;241;43m=\u001b[39;49m\u001b[43mframe\u001b[49m\u001b[43m,\u001b[49m\n\u001b[1;32m   6293\u001b[0m \u001b[43m\u001b[49m\u001b[43m)\u001b[49m\n\u001b[1;32m   6294\u001b[0m \u001b[38;5;28;01mif\u001b[39;00m interpretation_result \u001b[38;5;129;01mis\u001b[39;00m INTERPRETER_SIGNALS\u001b[38;5;241m.\u001b[39mEXCEPTION_RAISED:\n",
      "File \u001b[0;32m~/projects/torch_template/.venv/lib/python3.11/site-packages/thunder/core/interpreter.py:408\u001b[0m, in \u001b[0;36mInterpreterCompileCtx.interpret\u001b[0;34m(self, inst, **interpreter_state)\u001b[0m\n\u001b[1;32m    407\u001b[0m \u001b[38;5;28;01mdef\u001b[39;00m \u001b[38;5;21minterpret\u001b[39m(\u001b[38;5;28mself\u001b[39m, inst: dis\u001b[38;5;241m.\u001b[39mInstruction, \u001b[38;5;241m/\u001b[39m, \u001b[38;5;241m*\u001b[39m\u001b[38;5;241m*\u001b[39minterpreter_state) \u001b[38;5;241m-\u001b[39m\u001b[38;5;241m>\u001b[39m \u001b[38;5;28;01mNone\u001b[39;00m \u001b[38;5;241m|\u001b[39m \u001b[38;5;28mint\u001b[39m \u001b[38;5;241m|\u001b[39m INTERPRETER_SIGNALS:\n\u001b[0;32m--> 408\u001b[0m     \u001b[38;5;28;01mreturn\u001b[39;00m \u001b[38;5;28;43mself\u001b[39;49m\u001b[38;5;241;43m.\u001b[39;49m\u001b[43m_opcode_interpreter\u001b[49m\u001b[43m(\u001b[49m\u001b[43minst\u001b[49m\u001b[43m,\u001b[49m\u001b[43m \u001b[49m\u001b[38;5;241;43m*\u001b[39;49m\u001b[38;5;241;43m*\u001b[39;49m\u001b[43minterpreter_state\u001b[49m\u001b[43m)\u001b[49m\n",
      "File \u001b[0;32m~/projects/torch_template/.venv/lib/python3.11/site-packages/thunder/core/interpreter.py:1206\u001b[0m, in \u001b[0;36mdefault_opcode_interpreter\u001b[0;34m(inst, **interpreter_state)\u001b[0m\n\u001b[1;32m   1205\u001b[0m \u001b[38;5;28;01mwith\u001b[39;00m interpreter_state[\u001b[38;5;124m\"\u001b[39m\u001b[38;5;124mstack\u001b[39m\u001b[38;5;124m\"\u001b[39m]\u001b[38;5;241m.\u001b[39mset_cur_instruction(inst):\n\u001b[0;32m-> 1206\u001b[0m     \u001b[38;5;28;01mreturn\u001b[39;00m \u001b[43mhandler\u001b[49m\u001b[43m(\u001b[49m\u001b[43minst\u001b[49m\u001b[43m,\u001b[49m\u001b[43m \u001b[49m\u001b[38;5;241;43m*\u001b[39;49m\u001b[38;5;241;43m*\u001b[39;49m\u001b[43minterpreter_state\u001b[49m\u001b[43m)\u001b[49m\n",
      "File \u001b[0;32m~/projects/torch_template/.venv/lib/python3.11/site-packages/thunder/core/interpreter.py:3507\u001b[0m, in \u001b[0;36m_call_function_ex_handler\u001b[0;34m(inst, stack, **kwargs)\u001b[0m\n\u001b[1;32m   3506\u001b[0m     kwargs \u001b[38;5;241m=\u001b[39m wrap_kwargs_from_dict(kwargs)\n\u001b[0;32m-> 3507\u001b[0m \u001b[38;5;28;01mreturn\u001b[39;00m check_and_append(stack, \u001b[43m_interpret_call\u001b[49m\u001b[43m(\u001b[49m\u001b[43mfunc\u001b[49m\u001b[43m,\u001b[49m\u001b[43m \u001b[49m\u001b[38;5;241;43m*\u001b[39;49m\u001b[43margs\u001b[49m\u001b[43m,\u001b[49m\u001b[43m \u001b[49m\u001b[38;5;241;43m*\u001b[39;49m\u001b[38;5;241;43m*\u001b[39;49m\u001b[43mkwargs\u001b[49m\u001b[43m)\u001b[49m)\n",
      "File \u001b[0;32m~/projects/torch_template/.venv/lib/python3.11/site-packages/thunder/core/interpreter.py:5885\u001b[0m, in \u001b[0;36m_interpret_call\u001b[0;34m(fn, *args, **kwargs)\u001b[0m\n\u001b[1;32m   5884\u001b[0m runtimectx\u001b[38;5;241m.\u001b[39mrecord_interpreter_call(fn)  \u001b[38;5;66;03m# type: ignore\u001b[39;00m\n\u001b[0;32m-> 5885\u001b[0m rval \u001b[38;5;241m=\u001b[39m \u001b[43m_call_dispatch\u001b[49m\u001b[43m(\u001b[49m\u001b[43mcompilectx\u001b[49m\u001b[43m,\u001b[49m\u001b[43m \u001b[49m\u001b[43mruntimectx\u001b[49m\u001b[43m,\u001b[49m\u001b[43m \u001b[49m\u001b[43mfn\u001b[49m\u001b[43m,\u001b[49m\u001b[43m \u001b[49m\u001b[38;5;241;43m*\u001b[39;49m\u001b[43margs\u001b[49m\u001b[43m,\u001b[49m\u001b[43m \u001b[49m\u001b[38;5;241;43m*\u001b[39;49m\u001b[38;5;241;43m*\u001b[39;49m\u001b[43mkwargs\u001b[49m\u001b[43m)\u001b[49m  \u001b[38;5;66;03m# type: ignore\u001b[39;00m\n\u001b[1;32m   5886\u001b[0m \u001b[38;5;28;01mif\u001b[39;00m compilectx\u001b[38;5;241m.\u001b[39m_with_provenance_tracking:\n",
      "File \u001b[0;32m~/projects/torch_template/.venv/lib/python3.11/site-packages/thunder/core/interpreter.py:6114\u001b[0m, in \u001b[0;36m_call_dispatch\u001b[0;34m(compilectx, runtimectx, fn, *args, **kwargs)\u001b[0m\n\u001b[1;32m   6113\u001b[0m \u001b[38;5;28;01massert\u001b[39;00m \u001b[38;5;28misinstance\u001b[39m(fn, FunctionType), \u001b[38;5;124mf\u001b[39m\u001b[38;5;124m\"\u001b[39m\u001b[38;5;132;01m{\u001b[39;00mfn\u001b[38;5;132;01m=}\u001b[39;00m\u001b[38;5;124m had an unexpected type (\u001b[39m\u001b[38;5;132;01m{\u001b[39;00m\u001b[38;5;28mtype\u001b[39m(fn)\u001b[38;5;132;01m}\u001b[39;00m\u001b[38;5;124m\"\u001b[39m\n\u001b[0;32m-> 6114\u001b[0m \u001b[38;5;28;01mreturn\u001b[39;00m \u001b[43m_setup_frame_and_run_python_function\u001b[49m\u001b[43m(\u001b[49m\u001b[43mcompilectx\u001b[49m\u001b[43m,\u001b[49m\u001b[43m \u001b[49m\u001b[43mruntimectx\u001b[49m\u001b[43m,\u001b[49m\u001b[43m \u001b[49m\u001b[43mwrapped_fn\u001b[49m\u001b[43m,\u001b[49m\u001b[43m \u001b[49m\u001b[38;5;241;43m*\u001b[39;49m\u001b[43margs\u001b[49m\u001b[43m,\u001b[49m\u001b[43m \u001b[49m\u001b[38;5;241;43m*\u001b[39;49m\u001b[38;5;241;43m*\u001b[39;49m\u001b[43mkwargs\u001b[49m\u001b[43m)\u001b[49m\n",
      "File \u001b[0;32m~/projects/torch_template/.venv/lib/python3.11/site-packages/thunder/core/interpreter.py:6243\u001b[0m, in \u001b[0;36m_setup_frame_and_run_python_function\u001b[0;34m(compilectx, runtimectx, wrapped_fn, *args, **kwargs)\u001b[0m\n\u001b[1;32m   6242\u001b[0m     tb \u001b[38;5;241m=\u001b[39m TracebackType(e\u001b[38;5;241m.\u001b[39m__traceback__, python_frame, python_frame\u001b[38;5;241m.\u001b[39mf_lasti, python_frame\u001b[38;5;241m.\u001b[39mf_lineno)\n\u001b[0;32m-> 6243\u001b[0m     \u001b[38;5;28;01mraise\u001b[39;00m e\u001b[38;5;241m.\u001b[39mwith_traceback(tb)\n\u001b[1;32m   6244\u001b[0m \u001b[38;5;28;01mreturn\u001b[39;00m res\n",
      "File \u001b[0;32m~/projects/torch_template/nfs/samples_RNN/LHT_credits-history/src/models/components/embedding/encoder_layer.py:29\u001b[0m, in \u001b[0;36mEmbeddingLayer.forward\u001b[0;34m()\u001b[0m\n\u001b[1;32m     26\u001b[0m \u001b[38;5;28;01mdef\u001b[39;00m \u001b[38;5;21mforward\u001b[39m(\u001b[38;5;28mself\u001b[39m, x: torch\u001b[38;5;241m.\u001b[39mTensor) \u001b[38;5;241m-\u001b[39m\u001b[38;5;241m>\u001b[39m torch\u001b[38;5;241m.\u001b[39mTensor:\n\u001b[1;32m     28\u001b[0m     x \u001b[38;5;241m=\u001b[39m torch\u001b[38;5;241m.\u001b[39mconcatenate(\n\u001b[0;32m---> 29\u001b[0m         [embedding(x[\u001b[38;5;241m.\u001b[39m\u001b[38;5;241m.\u001b[39m\u001b[38;5;241m.\u001b[39m, idx]) \u001b[38;5;28;01mfor\u001b[39;00m idx, embedding \u001b[38;5;129;01min\u001b[39;00m \u001b[38;5;28menumerate\u001b[39m(\u001b[38;5;28mself\u001b[39m\u001b[38;5;241m.\u001b[39membeddings)], dim\u001b[38;5;241m=\u001b[39m\u001b[38;5;241m-\u001b[39m\u001b[38;5;241m1\u001b[39m\n\u001b[1;32m     30\u001b[0m     ) \u001b[38;5;66;03m# size = (batch_size, len(cat_features), embedding_dim)\u001b[39;00m\n\u001b[1;32m     32\u001b[0m     \u001b[38;5;28;01mreturn\u001b[39;00m x\n",
      "File \u001b[0;32m~/projects/torch_template/.venv/lib/python3.11/site-packages/thunder/core/interpreter.py:6238\u001b[0m, in \u001b[0;36m_setup_frame_and_run_python_function\u001b[0;34m(compilectx, runtimectx, wrapped_fn, *args, **kwargs)\u001b[0m\n\u001b[1;32m   6237\u001b[0m \u001b[38;5;28;01mtry\u001b[39;00m:\n\u001b[0;32m-> 6238\u001b[0m     res, status \u001b[38;5;241m=\u001b[39m \u001b[43m_run_frame\u001b[49m\u001b[43m(\u001b[49m\u001b[43mframe\u001b[49m\u001b[43m,\u001b[49m\u001b[43m \u001b[49m\u001b[43mcompilectx\u001b[49m\u001b[43m,\u001b[49m\u001b[43m \u001b[49m\u001b[43mruntimectx\u001b[49m\u001b[43m)\u001b[49m\n\u001b[1;32m   6239\u001b[0m \u001b[38;5;28;01mexcept\u001b[39;00m \u001b[38;5;167;01mException\u001b[39;00m \u001b[38;5;28;01mas\u001b[39;00m e:\n\u001b[1;32m   6240\u001b[0m     \u001b[38;5;66;03m# We need to cheat a bit to get a Python frame here...\u001b[39;00m\n",
      "File \u001b[0;32m~/projects/torch_template/.venv/lib/python3.11/site-packages/thunder/core/interpreter.py:6284\u001b[0m, in \u001b[0;36m_run_frame\u001b[0;34m(frame, compilectx, runtimectx, send_value)\u001b[0m\n\u001b[1;32m   6283\u001b[0m frame\u001b[38;5;241m.\u001b[39mlasti \u001b[38;5;241m=\u001b[39m frame\u001b[38;5;241m.\u001b[39minst_ptr  \u001b[38;5;66;03m# ???\u001b[39;00m\n\u001b[0;32m-> 6284\u001b[0m interpretation_result: \u001b[38;5;28;01mNone\u001b[39;00m \u001b[38;5;241m|\u001b[39m \u001b[38;5;28mint\u001b[39m \u001b[38;5;241m|\u001b[39m INTERPRETER_SIGNALS \u001b[38;5;241m=\u001b[39m \u001b[43mcompilectx\u001b[49m\u001b[38;5;241;43m.\u001b[39;49m\u001b[43minterpret\u001b[49m\u001b[43m(\u001b[49m\n\u001b[1;32m   6285\u001b[0m \u001b[43m    \u001b[49m\u001b[43minst\u001b[49m\u001b[43m,\u001b[49m\n\u001b[1;32m   6286\u001b[0m \u001b[43m    \u001b[49m\u001b[43minst_ptr\u001b[49m\u001b[38;5;241;43m=\u001b[39;49m\u001b[43mframe\u001b[49m\u001b[38;5;241;43m.\u001b[39;49m\u001b[43minst_ptr\u001b[49m\u001b[43m,\u001b[49m\n\u001b[1;32m   6287\u001b[0m \u001b[43m    \u001b[49m\u001b[43mstack\u001b[49m\u001b[38;5;241;43m=\u001b[39;49m\u001b[43mframe\u001b[49m\u001b[38;5;241;43m.\u001b[39;49m\u001b[43minterpreter_stack\u001b[49m\u001b[43m,\u001b[49m\n\u001b[1;32m   6288\u001b[0m \u001b[43m    \u001b[49m\u001b[43mglobals_dict\u001b[49m\u001b[38;5;241;43m=\u001b[39;49m\u001b[43mframe\u001b[49m\u001b[38;5;241;43m.\u001b[39;49m\u001b[43mglobals\u001b[49m\u001b[43m,\u001b[49m\n\u001b[1;32m   6289\u001b[0m \u001b[43m    \u001b[49m\u001b[43mtry_stack\u001b[49m\u001b[38;5;241;43m=\u001b[39;49m\u001b[43mframe\u001b[49m\u001b[38;5;241;43m.\u001b[39;49m\u001b[43mtry_stack\u001b[49m\u001b[43m,\u001b[49m\n\u001b[1;32m   6290\u001b[0m \u001b[43m    \u001b[49m\u001b[43mexception_stack\u001b[49m\u001b[38;5;241;43m=\u001b[39;49m\u001b[43mruntimectx\u001b[49m\u001b[38;5;241;43m.\u001b[39;49m\u001b[43mexception_stack\u001b[49m\u001b[43m,\u001b[49m\n\u001b[1;32m   6291\u001b[0m \u001b[43m    \u001b[49m\u001b[43mco\u001b[49m\u001b[38;5;241;43m=\u001b[39;49m\u001b[43mframe\u001b[49m\u001b[38;5;241;43m.\u001b[39;49m\u001b[43mcode\u001b[49m\u001b[43m,\u001b[49m\n\u001b[1;32m   6292\u001b[0m \u001b[43m    \u001b[49m\u001b[43mframe\u001b[49m\u001b[38;5;241;43m=\u001b[39;49m\u001b[43mframe\u001b[49m\u001b[43m,\u001b[49m\n\u001b[1;32m   6293\u001b[0m \u001b[43m\u001b[49m\u001b[43m)\u001b[49m\n\u001b[1;32m   6294\u001b[0m \u001b[38;5;28;01mif\u001b[39;00m interpretation_result \u001b[38;5;129;01mis\u001b[39;00m INTERPRETER_SIGNALS\u001b[38;5;241m.\u001b[39mEXCEPTION_RAISED:\n",
      "File \u001b[0;32m~/projects/torch_template/.venv/lib/python3.11/site-packages/thunder/core/interpreter.py:408\u001b[0m, in \u001b[0;36mInterpreterCompileCtx.interpret\u001b[0;34m(self, inst, **interpreter_state)\u001b[0m\n\u001b[1;32m    407\u001b[0m \u001b[38;5;28;01mdef\u001b[39;00m \u001b[38;5;21minterpret\u001b[39m(\u001b[38;5;28mself\u001b[39m, inst: dis\u001b[38;5;241m.\u001b[39mInstruction, \u001b[38;5;241m/\u001b[39m, \u001b[38;5;241m*\u001b[39m\u001b[38;5;241m*\u001b[39minterpreter_state) \u001b[38;5;241m-\u001b[39m\u001b[38;5;241m>\u001b[39m \u001b[38;5;28;01mNone\u001b[39;00m \u001b[38;5;241m|\u001b[39m \u001b[38;5;28mint\u001b[39m \u001b[38;5;241m|\u001b[39m INTERPRETER_SIGNALS:\n\u001b[0;32m--> 408\u001b[0m     \u001b[38;5;28;01mreturn\u001b[39;00m \u001b[38;5;28;43mself\u001b[39;49m\u001b[38;5;241;43m.\u001b[39;49m\u001b[43m_opcode_interpreter\u001b[49m\u001b[43m(\u001b[49m\u001b[43minst\u001b[49m\u001b[43m,\u001b[49m\u001b[43m \u001b[49m\u001b[38;5;241;43m*\u001b[39;49m\u001b[38;5;241;43m*\u001b[39;49m\u001b[43minterpreter_state\u001b[49m\u001b[43m)\u001b[49m\n",
      "File \u001b[0;32m~/projects/torch_template/.venv/lib/python3.11/site-packages/thunder/core/interpreter.py:1206\u001b[0m, in \u001b[0;36mdefault_opcode_interpreter\u001b[0;34m(inst, **interpreter_state)\u001b[0m\n\u001b[1;32m   1205\u001b[0m \u001b[38;5;28;01mwith\u001b[39;00m interpreter_state[\u001b[38;5;124m\"\u001b[39m\u001b[38;5;124mstack\u001b[39m\u001b[38;5;124m\"\u001b[39m]\u001b[38;5;241m.\u001b[39mset_cur_instruction(inst):\n\u001b[0;32m-> 1206\u001b[0m     \u001b[38;5;28;01mreturn\u001b[39;00m \u001b[43mhandler\u001b[49m\u001b[43m(\u001b[49m\u001b[43minst\u001b[49m\u001b[43m,\u001b[49m\u001b[43m \u001b[49m\u001b[38;5;241;43m*\u001b[39;49m\u001b[38;5;241;43m*\u001b[39;49m\u001b[43minterpreter_state\u001b[49m\u001b[43m)\u001b[49m\n",
      "File \u001b[0;32m~/projects/torch_template/.venv/lib/python3.11/site-packages/thunder/core/interpreter.py:3467\u001b[0m, in \u001b[0;36m_call_handler\u001b[0;34m(inst, stack, frame, **kwargs)\u001b[0m\n\u001b[1;32m   3465\u001b[0m     func \u001b[38;5;241m=\u001b[39m func_or_self\n\u001b[0;32m-> 3467\u001b[0m res \u001b[38;5;241m=\u001b[39m \u001b[43m_interpret_call\u001b[49m\u001b[43m(\u001b[49m\u001b[43mfunc\u001b[49m\u001b[43m,\u001b[49m\u001b[43m \u001b[49m\u001b[38;5;241;43m*\u001b[39;49m\u001b[43margs\u001b[49m\u001b[43m,\u001b[49m\u001b[43m \u001b[49m\u001b[38;5;241;43m*\u001b[39;49m\u001b[38;5;241;43m*\u001b[39;49m\u001b[43mkwargs\u001b[49m\u001b[43m)\u001b[49m\n\u001b[1;32m   3468\u001b[0m ctx: InterpreterCompileCtx \u001b[38;5;241m=\u001b[39m get_interpretercompilectx()\n",
      "File \u001b[0;32m~/projects/torch_template/.venv/lib/python3.11/site-packages/thunder/core/interpreter.py:5885\u001b[0m, in \u001b[0;36m_interpret_call\u001b[0;34m(fn, *args, **kwargs)\u001b[0m\n\u001b[1;32m   5884\u001b[0m runtimectx\u001b[38;5;241m.\u001b[39mrecord_interpreter_call(fn)  \u001b[38;5;66;03m# type: ignore\u001b[39;00m\n\u001b[0;32m-> 5885\u001b[0m rval \u001b[38;5;241m=\u001b[39m \u001b[43m_call_dispatch\u001b[49m\u001b[43m(\u001b[49m\u001b[43mcompilectx\u001b[49m\u001b[43m,\u001b[49m\u001b[43m \u001b[49m\u001b[43mruntimectx\u001b[49m\u001b[43m,\u001b[49m\u001b[43m \u001b[49m\u001b[43mfn\u001b[49m\u001b[43m,\u001b[49m\u001b[43m \u001b[49m\u001b[38;5;241;43m*\u001b[39;49m\u001b[43margs\u001b[49m\u001b[43m,\u001b[49m\u001b[43m \u001b[49m\u001b[38;5;241;43m*\u001b[39;49m\u001b[38;5;241;43m*\u001b[39;49m\u001b[43mkwargs\u001b[49m\u001b[43m)\u001b[49m  \u001b[38;5;66;03m# type: ignore\u001b[39;00m\n\u001b[1;32m   5886\u001b[0m \u001b[38;5;28;01mif\u001b[39;00m compilectx\u001b[38;5;241m.\u001b[39m_with_provenance_tracking:\n",
      "File \u001b[0;32m~/projects/torch_template/.venv/lib/python3.11/site-packages/thunder/core/interpreter.py:6114\u001b[0m, in \u001b[0;36m_call_dispatch\u001b[0;34m(compilectx, runtimectx, fn, *args, **kwargs)\u001b[0m\n\u001b[1;32m   6113\u001b[0m \u001b[38;5;28;01massert\u001b[39;00m \u001b[38;5;28misinstance\u001b[39m(fn, FunctionType), \u001b[38;5;124mf\u001b[39m\u001b[38;5;124m\"\u001b[39m\u001b[38;5;132;01m{\u001b[39;00mfn\u001b[38;5;132;01m=}\u001b[39;00m\u001b[38;5;124m had an unexpected type (\u001b[39m\u001b[38;5;132;01m{\u001b[39;00m\u001b[38;5;28mtype\u001b[39m(fn)\u001b[38;5;132;01m}\u001b[39;00m\u001b[38;5;124m\"\u001b[39m\n\u001b[0;32m-> 6114\u001b[0m \u001b[38;5;28;01mreturn\u001b[39;00m \u001b[43m_setup_frame_and_run_python_function\u001b[49m\u001b[43m(\u001b[49m\u001b[43mcompilectx\u001b[49m\u001b[43m,\u001b[49m\u001b[43m \u001b[49m\u001b[43mruntimectx\u001b[49m\u001b[43m,\u001b[49m\u001b[43m \u001b[49m\u001b[43mwrapped_fn\u001b[49m\u001b[43m,\u001b[49m\u001b[43m \u001b[49m\u001b[38;5;241;43m*\u001b[39;49m\u001b[43margs\u001b[49m\u001b[43m,\u001b[49m\u001b[43m \u001b[49m\u001b[38;5;241;43m*\u001b[39;49m\u001b[38;5;241;43m*\u001b[39;49m\u001b[43mkwargs\u001b[49m\u001b[43m)\u001b[49m\n",
      "File \u001b[0;32m~/projects/torch_template/.venv/lib/python3.11/site-packages/thunder/core/interpreter.py:6243\u001b[0m, in \u001b[0;36m_setup_frame_and_run_python_function\u001b[0;34m(compilectx, runtimectx, wrapped_fn, *args, **kwargs)\u001b[0m\n\u001b[1;32m   6242\u001b[0m     tb \u001b[38;5;241m=\u001b[39m TracebackType(e\u001b[38;5;241m.\u001b[39m__traceback__, python_frame, python_frame\u001b[38;5;241m.\u001b[39mf_lasti, python_frame\u001b[38;5;241m.\u001b[39mf_lineno)\n\u001b[0;32m-> 6243\u001b[0m     \u001b[38;5;28;01mraise\u001b[39;00m e\u001b[38;5;241m.\u001b[39mwith_traceback(tb)\n\u001b[1;32m   6244\u001b[0m \u001b[38;5;28;01mreturn\u001b[39;00m res\n",
      "File \u001b[0;32m~/projects/torch_template/nfs/samples_RNN/LHT_credits-history/src/models/components/embedding/encoder_layer.py:29\u001b[0m, in \u001b[0;36m<listcomp>\u001b[0;34m()\u001b[0m\n\u001b[1;32m     26\u001b[0m \u001b[38;5;28;01mdef\u001b[39;00m \u001b[38;5;21mforward\u001b[39m(\u001b[38;5;28mself\u001b[39m, x: torch\u001b[38;5;241m.\u001b[39mTensor) \u001b[38;5;241m-\u001b[39m\u001b[38;5;241m>\u001b[39m torch\u001b[38;5;241m.\u001b[39mTensor:\n\u001b[1;32m     28\u001b[0m     x \u001b[38;5;241m=\u001b[39m torch\u001b[38;5;241m.\u001b[39mconcatenate(\n\u001b[0;32m---> 29\u001b[0m         [embedding(x[\u001b[38;5;241m.\u001b[39m\u001b[38;5;241m.\u001b[39m\u001b[38;5;241m.\u001b[39m, idx]) \u001b[38;5;28;01mfor\u001b[39;00m idx, embedding \u001b[38;5;129;01min\u001b[39;00m \u001b[38;5;28menumerate\u001b[39m(\u001b[38;5;28mself\u001b[39m\u001b[38;5;241m.\u001b[39membeddings)], dim\u001b[38;5;241m=\u001b[39m\u001b[38;5;241m-\u001b[39m\u001b[38;5;241m1\u001b[39m\n\u001b[1;32m     30\u001b[0m     ) \u001b[38;5;66;03m# size = (batch_size, len(cat_features), embedding_dim)\u001b[39;00m\n\u001b[1;32m     32\u001b[0m     \u001b[38;5;28;01mreturn\u001b[39;00m x\n",
      "File \u001b[0;32m~/projects/torch_template/.venv/lib/python3.11/site-packages/thunder/core/interpreter.py:6238\u001b[0m, in \u001b[0;36m_setup_frame_and_run_python_function\u001b[0;34m(compilectx, runtimectx, wrapped_fn, *args, **kwargs)\u001b[0m\n\u001b[1;32m   6237\u001b[0m \u001b[38;5;28;01mtry\u001b[39;00m:\n\u001b[0;32m-> 6238\u001b[0m     res, status \u001b[38;5;241m=\u001b[39m \u001b[43m_run_frame\u001b[49m\u001b[43m(\u001b[49m\u001b[43mframe\u001b[49m\u001b[43m,\u001b[49m\u001b[43m \u001b[49m\u001b[43mcompilectx\u001b[49m\u001b[43m,\u001b[49m\u001b[43m \u001b[49m\u001b[43mruntimectx\u001b[49m\u001b[43m)\u001b[49m\n\u001b[1;32m   6239\u001b[0m \u001b[38;5;28;01mexcept\u001b[39;00m \u001b[38;5;167;01mException\u001b[39;00m \u001b[38;5;28;01mas\u001b[39;00m e:\n\u001b[1;32m   6240\u001b[0m     \u001b[38;5;66;03m# We need to cheat a bit to get a Python frame here...\u001b[39;00m\n",
      "File \u001b[0;32m~/projects/torch_template/.venv/lib/python3.11/site-packages/thunder/core/interpreter.py:6284\u001b[0m, in \u001b[0;36m_run_frame\u001b[0;34m(frame, compilectx, runtimectx, send_value)\u001b[0m\n\u001b[1;32m   6283\u001b[0m frame\u001b[38;5;241m.\u001b[39mlasti \u001b[38;5;241m=\u001b[39m frame\u001b[38;5;241m.\u001b[39minst_ptr  \u001b[38;5;66;03m# ???\u001b[39;00m\n\u001b[0;32m-> 6284\u001b[0m interpretation_result: \u001b[38;5;28;01mNone\u001b[39;00m \u001b[38;5;241m|\u001b[39m \u001b[38;5;28mint\u001b[39m \u001b[38;5;241m|\u001b[39m INTERPRETER_SIGNALS \u001b[38;5;241m=\u001b[39m \u001b[43mcompilectx\u001b[49m\u001b[38;5;241;43m.\u001b[39;49m\u001b[43minterpret\u001b[49m\u001b[43m(\u001b[49m\n\u001b[1;32m   6285\u001b[0m \u001b[43m    \u001b[49m\u001b[43minst\u001b[49m\u001b[43m,\u001b[49m\n\u001b[1;32m   6286\u001b[0m \u001b[43m    \u001b[49m\u001b[43minst_ptr\u001b[49m\u001b[38;5;241;43m=\u001b[39;49m\u001b[43mframe\u001b[49m\u001b[38;5;241;43m.\u001b[39;49m\u001b[43minst_ptr\u001b[49m\u001b[43m,\u001b[49m\n\u001b[1;32m   6287\u001b[0m \u001b[43m    \u001b[49m\u001b[43mstack\u001b[49m\u001b[38;5;241;43m=\u001b[39;49m\u001b[43mframe\u001b[49m\u001b[38;5;241;43m.\u001b[39;49m\u001b[43minterpreter_stack\u001b[49m\u001b[43m,\u001b[49m\n\u001b[1;32m   6288\u001b[0m \u001b[43m    \u001b[49m\u001b[43mglobals_dict\u001b[49m\u001b[38;5;241;43m=\u001b[39;49m\u001b[43mframe\u001b[49m\u001b[38;5;241;43m.\u001b[39;49m\u001b[43mglobals\u001b[49m\u001b[43m,\u001b[49m\n\u001b[1;32m   6289\u001b[0m \u001b[43m    \u001b[49m\u001b[43mtry_stack\u001b[49m\u001b[38;5;241;43m=\u001b[39;49m\u001b[43mframe\u001b[49m\u001b[38;5;241;43m.\u001b[39;49m\u001b[43mtry_stack\u001b[49m\u001b[43m,\u001b[49m\n\u001b[1;32m   6290\u001b[0m \u001b[43m    \u001b[49m\u001b[43mexception_stack\u001b[49m\u001b[38;5;241;43m=\u001b[39;49m\u001b[43mruntimectx\u001b[49m\u001b[38;5;241;43m.\u001b[39;49m\u001b[43mexception_stack\u001b[49m\u001b[43m,\u001b[49m\n\u001b[1;32m   6291\u001b[0m \u001b[43m    \u001b[49m\u001b[43mco\u001b[49m\u001b[38;5;241;43m=\u001b[39;49m\u001b[43mframe\u001b[49m\u001b[38;5;241;43m.\u001b[39;49m\u001b[43mcode\u001b[49m\u001b[43m,\u001b[49m\n\u001b[1;32m   6292\u001b[0m \u001b[43m    \u001b[49m\u001b[43mframe\u001b[49m\u001b[38;5;241;43m=\u001b[39;49m\u001b[43mframe\u001b[49m\u001b[43m,\u001b[49m\n\u001b[1;32m   6293\u001b[0m \u001b[43m\u001b[49m\u001b[43m)\u001b[49m\n\u001b[1;32m   6294\u001b[0m \u001b[38;5;28;01mif\u001b[39;00m interpretation_result \u001b[38;5;129;01mis\u001b[39;00m INTERPRETER_SIGNALS\u001b[38;5;241m.\u001b[39mEXCEPTION_RAISED:\n",
      "File \u001b[0;32m~/projects/torch_template/.venv/lib/python3.11/site-packages/thunder/core/interpreter.py:408\u001b[0m, in \u001b[0;36mInterpreterCompileCtx.interpret\u001b[0;34m(self, inst, **interpreter_state)\u001b[0m\n\u001b[1;32m    407\u001b[0m \u001b[38;5;28;01mdef\u001b[39;00m \u001b[38;5;21minterpret\u001b[39m(\u001b[38;5;28mself\u001b[39m, inst: dis\u001b[38;5;241m.\u001b[39mInstruction, \u001b[38;5;241m/\u001b[39m, \u001b[38;5;241m*\u001b[39m\u001b[38;5;241m*\u001b[39minterpreter_state) \u001b[38;5;241m-\u001b[39m\u001b[38;5;241m>\u001b[39m \u001b[38;5;28;01mNone\u001b[39;00m \u001b[38;5;241m|\u001b[39m \u001b[38;5;28mint\u001b[39m \u001b[38;5;241m|\u001b[39m INTERPRETER_SIGNALS:\n\u001b[0;32m--> 408\u001b[0m     \u001b[38;5;28;01mreturn\u001b[39;00m \u001b[38;5;28;43mself\u001b[39;49m\u001b[38;5;241;43m.\u001b[39;49m\u001b[43m_opcode_interpreter\u001b[49m\u001b[43m(\u001b[49m\u001b[43minst\u001b[49m\u001b[43m,\u001b[49m\u001b[43m \u001b[49m\u001b[38;5;241;43m*\u001b[39;49m\u001b[38;5;241;43m*\u001b[39;49m\u001b[43minterpreter_state\u001b[49m\u001b[43m)\u001b[49m\n",
      "File \u001b[0;32m~/projects/torch_template/.venv/lib/python3.11/site-packages/thunder/core/interpreter.py:1206\u001b[0m, in \u001b[0;36mdefault_opcode_interpreter\u001b[0;34m(inst, **interpreter_state)\u001b[0m\n\u001b[1;32m   1205\u001b[0m \u001b[38;5;28;01mwith\u001b[39;00m interpreter_state[\u001b[38;5;124m\"\u001b[39m\u001b[38;5;124mstack\u001b[39m\u001b[38;5;124m\"\u001b[39m]\u001b[38;5;241m.\u001b[39mset_cur_instruction(inst):\n\u001b[0;32m-> 1206\u001b[0m     \u001b[38;5;28;01mreturn\u001b[39;00m \u001b[43mhandler\u001b[49m\u001b[43m(\u001b[49m\u001b[43minst\u001b[49m\u001b[43m,\u001b[49m\u001b[43m \u001b[49m\u001b[38;5;241;43m*\u001b[39;49m\u001b[38;5;241;43m*\u001b[39;49m\u001b[43minterpreter_state\u001b[49m\u001b[43m)\u001b[49m\n",
      "File \u001b[0;32m~/projects/torch_template/.venv/lib/python3.11/site-packages/thunder/core/interpreter.py:5601\u001b[0m, in \u001b[0;36m_unpack_sequence_handler\u001b[0;34m(inst, stack, **kwargs)\u001b[0m\n\u001b[1;32m   5599\u001b[0m     values\u001b[38;5;241m.\u001b[39mappend(v)\n\u001b[0;32m-> 5601\u001b[0m v \u001b[38;5;241m=\u001b[39m \u001b[43m_interpret_call\u001b[49m\u001b[43m(\u001b[49m\u001b[38;5;28;43mnext\u001b[39;49m\u001b[43m,\u001b[49m\u001b[43m \u001b[49m\u001b[43mseq_iter\u001b[49m\u001b[43m)\u001b[49m\n\u001b[1;32m   5602\u001b[0m \u001b[38;5;28;01mif\u001b[39;00m v \u001b[38;5;129;01mis\u001b[39;00m INTERPRETER_SIGNALS\u001b[38;5;241m.\u001b[39mEXCEPTION_RAISED:\n",
      "File \u001b[0;32m~/projects/torch_template/.venv/lib/python3.11/site-packages/thunder/core/interpreter.py:5885\u001b[0m, in \u001b[0;36m_interpret_call\u001b[0;34m(fn, *args, **kwargs)\u001b[0m\n\u001b[1;32m   5884\u001b[0m runtimectx\u001b[38;5;241m.\u001b[39mrecord_interpreter_call(fn)  \u001b[38;5;66;03m# type: ignore\u001b[39;00m\n\u001b[0;32m-> 5885\u001b[0m rval \u001b[38;5;241m=\u001b[39m \u001b[43m_call_dispatch\u001b[49m\u001b[43m(\u001b[49m\u001b[43mcompilectx\u001b[49m\u001b[43m,\u001b[49m\u001b[43m \u001b[49m\u001b[43mruntimectx\u001b[49m\u001b[43m,\u001b[49m\u001b[43m \u001b[49m\u001b[43mfn\u001b[49m\u001b[43m,\u001b[49m\u001b[43m \u001b[49m\u001b[38;5;241;43m*\u001b[39;49m\u001b[43margs\u001b[49m\u001b[43m,\u001b[49m\u001b[43m \u001b[49m\u001b[38;5;241;43m*\u001b[39;49m\u001b[38;5;241;43m*\u001b[39;49m\u001b[43mkwargs\u001b[49m\u001b[43m)\u001b[49m  \u001b[38;5;66;03m# type: ignore\u001b[39;00m\n\u001b[1;32m   5886\u001b[0m \u001b[38;5;28;01mif\u001b[39;00m compilectx\u001b[38;5;241m.\u001b[39m_with_provenance_tracking:\n",
      "File \u001b[0;32m~/projects/torch_template/.venv/lib/python3.11/site-packages/thunder/core/interpreter.py:6046\u001b[0m, in \u001b[0;36m_call_dispatch\u001b[0;34m(compilectx, runtimectx, fn, *args, **kwargs)\u001b[0m\n\u001b[1;32m   6045\u001b[0m runtimectx\u001b[38;5;241m.\u001b[39mrecord_lookaside(lookaside_fn)\n\u001b[0;32m-> 6046\u001b[0m res \u001b[38;5;241m=\u001b[39m \u001b[43mlookaside_fn\u001b[49m\u001b[43m(\u001b[49m\u001b[38;5;241;43m*\u001b[39;49m\u001b[43margs\u001b[49m\u001b[43m,\u001b[49m\u001b[43m \u001b[49m\u001b[38;5;241;43m*\u001b[39;49m\u001b[38;5;241;43m*\u001b[39;49m\u001b[43mkwargs\u001b[49m\u001b[43m)\u001b[49m\n\u001b[1;32m   6047\u001b[0m \u001b[38;5;28;01mreturn\u001b[39;00m res\n",
      "File \u001b[0;32m~/projects/torch_template/.venv/lib/python3.11/site-packages/thunder/core/interpreter.py:1831\u001b[0m, in \u001b[0;36m_next_lookaside\u001b[0;34m(iterator, default)\u001b[0m\n\u001b[1;32m   1829\u001b[0m     \u001b[38;5;28;01mreturn\u001b[39;00m iterator\u001b[38;5;241m.\u001b[39m\u001b[38;5;21m__next__\u001b[39m()\n\u001b[0;32m-> 1831\u001b[0m res \u001b[38;5;241m=\u001b[39m \u001b[43m_interpret_call\u001b[49m\u001b[43m(\u001b[49m\u001b[43mimpl\u001b[49m\u001b[43m,\u001b[49m\u001b[43m \u001b[49m\u001b[43miterator\u001b[49m\u001b[43m)\u001b[49m\n\u001b[1;32m   1833\u001b[0m \u001b[38;5;28;01mif\u001b[39;00m default \u001b[38;5;129;01mis\u001b[39;00m \u001b[38;5;129;01mnot\u001b[39;00m _nil \u001b[38;5;129;01mand\u001b[39;00m res \u001b[38;5;129;01mis\u001b[39;00m INTERPRETER_SIGNALS\u001b[38;5;241m.\u001b[39mEXCEPTION_RAISED:\n",
      "File \u001b[0;32m~/projects/torch_template/.venv/lib/python3.11/site-packages/thunder/core/interpreter.py:5885\u001b[0m, in \u001b[0;36m_interpret_call\u001b[0;34m(fn, *args, **kwargs)\u001b[0m\n\u001b[1;32m   5884\u001b[0m runtimectx\u001b[38;5;241m.\u001b[39mrecord_interpreter_call(fn)  \u001b[38;5;66;03m# type: ignore\u001b[39;00m\n\u001b[0;32m-> 5885\u001b[0m rval \u001b[38;5;241m=\u001b[39m \u001b[43m_call_dispatch\u001b[49m\u001b[43m(\u001b[49m\u001b[43mcompilectx\u001b[49m\u001b[43m,\u001b[49m\u001b[43m \u001b[49m\u001b[43mruntimectx\u001b[49m\u001b[43m,\u001b[49m\u001b[43m \u001b[49m\u001b[43mfn\u001b[49m\u001b[43m,\u001b[49m\u001b[43m \u001b[49m\u001b[38;5;241;43m*\u001b[39;49m\u001b[43margs\u001b[49m\u001b[43m,\u001b[49m\u001b[43m \u001b[49m\u001b[38;5;241;43m*\u001b[39;49m\u001b[38;5;241;43m*\u001b[39;49m\u001b[43mkwargs\u001b[49m\u001b[43m)\u001b[49m  \u001b[38;5;66;03m# type: ignore\u001b[39;00m\n\u001b[1;32m   5886\u001b[0m \u001b[38;5;28;01mif\u001b[39;00m compilectx\u001b[38;5;241m.\u001b[39m_with_provenance_tracking:\n",
      "File \u001b[0;32m~/projects/torch_template/.venv/lib/python3.11/site-packages/thunder/core/interpreter.py:6114\u001b[0m, in \u001b[0;36m_call_dispatch\u001b[0;34m(compilectx, runtimectx, fn, *args, **kwargs)\u001b[0m\n\u001b[1;32m   6113\u001b[0m \u001b[38;5;28;01massert\u001b[39;00m \u001b[38;5;28misinstance\u001b[39m(fn, FunctionType), \u001b[38;5;124mf\u001b[39m\u001b[38;5;124m\"\u001b[39m\u001b[38;5;132;01m{\u001b[39;00mfn\u001b[38;5;132;01m=}\u001b[39;00m\u001b[38;5;124m had an unexpected type (\u001b[39m\u001b[38;5;132;01m{\u001b[39;00m\u001b[38;5;28mtype\u001b[39m(fn)\u001b[38;5;132;01m}\u001b[39;00m\u001b[38;5;124m\"\u001b[39m\n\u001b[0;32m-> 6114\u001b[0m \u001b[38;5;28;01mreturn\u001b[39;00m \u001b[43m_setup_frame_and_run_python_function\u001b[49m\u001b[43m(\u001b[49m\u001b[43mcompilectx\u001b[49m\u001b[43m,\u001b[49m\u001b[43m \u001b[49m\u001b[43mruntimectx\u001b[49m\u001b[43m,\u001b[49m\u001b[43m \u001b[49m\u001b[43mwrapped_fn\u001b[49m\u001b[43m,\u001b[49m\u001b[43m \u001b[49m\u001b[38;5;241;43m*\u001b[39;49m\u001b[43margs\u001b[49m\u001b[43m,\u001b[49m\u001b[43m \u001b[49m\u001b[38;5;241;43m*\u001b[39;49m\u001b[38;5;241;43m*\u001b[39;49m\u001b[43mkwargs\u001b[49m\u001b[43m)\u001b[49m\n",
      "File \u001b[0;32m~/projects/torch_template/.venv/lib/python3.11/site-packages/thunder/core/interpreter.py:6243\u001b[0m, in \u001b[0;36m_setup_frame_and_run_python_function\u001b[0;34m(compilectx, runtimectx, wrapped_fn, *args, **kwargs)\u001b[0m\n\u001b[1;32m   6242\u001b[0m     tb \u001b[38;5;241m=\u001b[39m TracebackType(e\u001b[38;5;241m.\u001b[39m__traceback__, python_frame, python_frame\u001b[38;5;241m.\u001b[39mf_lasti, python_frame\u001b[38;5;241m.\u001b[39mf_lineno)\n\u001b[0;32m-> 6243\u001b[0m     \u001b[38;5;28;01mraise\u001b[39;00m e\u001b[38;5;241m.\u001b[39mwith_traceback(tb)\n\u001b[1;32m   6244\u001b[0m \u001b[38;5;28;01mreturn\u001b[39;00m res\n",
      "File \u001b[0;32m~/projects/torch_template/.venv/lib/python3.11/site-packages/thunder/core/interpreter.py:1829\u001b[0m, in \u001b[0;36m_next_lookaside.<locals>.impl\u001b[0;34m()\u001b[0m\n\u001b[1;32m   1828\u001b[0m \u001b[38;5;28;01mdef\u001b[39;00m \u001b[38;5;21mimpl\u001b[39m(iterator):\n\u001b[0;32m-> 1829\u001b[0m     \u001b[38;5;28;01mreturn\u001b[39;00m iterator\u001b[38;5;241m.\u001b[39m\u001b[38;5;21m__next__\u001b[39m()\n",
      "File \u001b[0;32m~/projects/torch_template/.venv/lib/python3.11/site-packages/thunder/core/interpreter.py:6238\u001b[0m, in \u001b[0;36m_setup_frame_and_run_python_function\u001b[0;34m(compilectx, runtimectx, wrapped_fn, *args, **kwargs)\u001b[0m\n\u001b[1;32m   6237\u001b[0m \u001b[38;5;28;01mtry\u001b[39;00m:\n\u001b[0;32m-> 6238\u001b[0m     res, status \u001b[38;5;241m=\u001b[39m \u001b[43m_run_frame\u001b[49m\u001b[43m(\u001b[49m\u001b[43mframe\u001b[49m\u001b[43m,\u001b[49m\u001b[43m \u001b[49m\u001b[43mcompilectx\u001b[49m\u001b[43m,\u001b[49m\u001b[43m \u001b[49m\u001b[43mruntimectx\u001b[49m\u001b[43m)\u001b[49m\n\u001b[1;32m   6239\u001b[0m \u001b[38;5;28;01mexcept\u001b[39;00m \u001b[38;5;167;01mException\u001b[39;00m \u001b[38;5;28;01mas\u001b[39;00m e:\n\u001b[1;32m   6240\u001b[0m     \u001b[38;5;66;03m# We need to cheat a bit to get a Python frame here...\u001b[39;00m\n",
      "File \u001b[0;32m~/projects/torch_template/.venv/lib/python3.11/site-packages/thunder/core/interpreter.py:6284\u001b[0m, in \u001b[0;36m_run_frame\u001b[0;34m(frame, compilectx, runtimectx, send_value)\u001b[0m\n\u001b[1;32m   6283\u001b[0m frame\u001b[38;5;241m.\u001b[39mlasti \u001b[38;5;241m=\u001b[39m frame\u001b[38;5;241m.\u001b[39minst_ptr  \u001b[38;5;66;03m# ???\u001b[39;00m\n\u001b[0;32m-> 6284\u001b[0m interpretation_result: \u001b[38;5;28;01mNone\u001b[39;00m \u001b[38;5;241m|\u001b[39m \u001b[38;5;28mint\u001b[39m \u001b[38;5;241m|\u001b[39m INTERPRETER_SIGNALS \u001b[38;5;241m=\u001b[39m \u001b[43mcompilectx\u001b[49m\u001b[38;5;241;43m.\u001b[39;49m\u001b[43minterpret\u001b[49m\u001b[43m(\u001b[49m\n\u001b[1;32m   6285\u001b[0m \u001b[43m    \u001b[49m\u001b[43minst\u001b[49m\u001b[43m,\u001b[49m\n\u001b[1;32m   6286\u001b[0m \u001b[43m    \u001b[49m\u001b[43minst_ptr\u001b[49m\u001b[38;5;241;43m=\u001b[39;49m\u001b[43mframe\u001b[49m\u001b[38;5;241;43m.\u001b[39;49m\u001b[43minst_ptr\u001b[49m\u001b[43m,\u001b[49m\n\u001b[1;32m   6287\u001b[0m \u001b[43m    \u001b[49m\u001b[43mstack\u001b[49m\u001b[38;5;241;43m=\u001b[39;49m\u001b[43mframe\u001b[49m\u001b[38;5;241;43m.\u001b[39;49m\u001b[43minterpreter_stack\u001b[49m\u001b[43m,\u001b[49m\n\u001b[1;32m   6288\u001b[0m \u001b[43m    \u001b[49m\u001b[43mglobals_dict\u001b[49m\u001b[38;5;241;43m=\u001b[39;49m\u001b[43mframe\u001b[49m\u001b[38;5;241;43m.\u001b[39;49m\u001b[43mglobals\u001b[49m\u001b[43m,\u001b[49m\n\u001b[1;32m   6289\u001b[0m \u001b[43m    \u001b[49m\u001b[43mtry_stack\u001b[49m\u001b[38;5;241;43m=\u001b[39;49m\u001b[43mframe\u001b[49m\u001b[38;5;241;43m.\u001b[39;49m\u001b[43mtry_stack\u001b[49m\u001b[43m,\u001b[49m\n\u001b[1;32m   6290\u001b[0m \u001b[43m    \u001b[49m\u001b[43mexception_stack\u001b[49m\u001b[38;5;241;43m=\u001b[39;49m\u001b[43mruntimectx\u001b[49m\u001b[38;5;241;43m.\u001b[39;49m\u001b[43mexception_stack\u001b[49m\u001b[43m,\u001b[49m\n\u001b[1;32m   6291\u001b[0m \u001b[43m    \u001b[49m\u001b[43mco\u001b[49m\u001b[38;5;241;43m=\u001b[39;49m\u001b[43mframe\u001b[49m\u001b[38;5;241;43m.\u001b[39;49m\u001b[43mcode\u001b[49m\u001b[43m,\u001b[49m\n\u001b[1;32m   6292\u001b[0m \u001b[43m    \u001b[49m\u001b[43mframe\u001b[49m\u001b[38;5;241;43m=\u001b[39;49m\u001b[43mframe\u001b[49m\u001b[43m,\u001b[49m\n\u001b[1;32m   6293\u001b[0m \u001b[43m\u001b[49m\u001b[43m)\u001b[49m\n\u001b[1;32m   6294\u001b[0m \u001b[38;5;28;01mif\u001b[39;00m interpretation_result \u001b[38;5;129;01mis\u001b[39;00m INTERPRETER_SIGNALS\u001b[38;5;241m.\u001b[39mEXCEPTION_RAISED:\n",
      "File \u001b[0;32m~/projects/torch_template/.venv/lib/python3.11/site-packages/thunder/core/interpreter.py:408\u001b[0m, in \u001b[0;36mInterpreterCompileCtx.interpret\u001b[0;34m(self, inst, **interpreter_state)\u001b[0m\n\u001b[1;32m    407\u001b[0m \u001b[38;5;28;01mdef\u001b[39;00m \u001b[38;5;21minterpret\u001b[39m(\u001b[38;5;28mself\u001b[39m, inst: dis\u001b[38;5;241m.\u001b[39mInstruction, \u001b[38;5;241m/\u001b[39m, \u001b[38;5;241m*\u001b[39m\u001b[38;5;241m*\u001b[39minterpreter_state) \u001b[38;5;241m-\u001b[39m\u001b[38;5;241m>\u001b[39m \u001b[38;5;28;01mNone\u001b[39;00m \u001b[38;5;241m|\u001b[39m \u001b[38;5;28mint\u001b[39m \u001b[38;5;241m|\u001b[39m INTERPRETER_SIGNALS:\n\u001b[0;32m--> 408\u001b[0m     \u001b[38;5;28;01mreturn\u001b[39;00m \u001b[38;5;28;43mself\u001b[39;49m\u001b[38;5;241;43m.\u001b[39;49m\u001b[43m_opcode_interpreter\u001b[49m\u001b[43m(\u001b[49m\u001b[43minst\u001b[49m\u001b[43m,\u001b[49m\u001b[43m \u001b[49m\u001b[38;5;241;43m*\u001b[39;49m\u001b[38;5;241;43m*\u001b[39;49m\u001b[43minterpreter_state\u001b[49m\u001b[43m)\u001b[49m\n",
      "File \u001b[0;32m~/projects/torch_template/.venv/lib/python3.11/site-packages/thunder/core/interpreter.py:1206\u001b[0m, in \u001b[0;36mdefault_opcode_interpreter\u001b[0;34m(inst, **interpreter_state)\u001b[0m\n\u001b[1;32m   1205\u001b[0m \u001b[38;5;28;01mwith\u001b[39;00m interpreter_state[\u001b[38;5;124m\"\u001b[39m\u001b[38;5;124mstack\u001b[39m\u001b[38;5;124m\"\u001b[39m]\u001b[38;5;241m.\u001b[39mset_cur_instruction(inst):\n\u001b[0;32m-> 1206\u001b[0m     \u001b[38;5;28;01mreturn\u001b[39;00m \u001b[43mhandler\u001b[49m\u001b[43m(\u001b[49m\u001b[43minst\u001b[49m\u001b[43m,\u001b[49m\u001b[43m \u001b[49m\u001b[38;5;241;43m*\u001b[39;49m\u001b[38;5;241;43m*\u001b[39;49m\u001b[43minterpreter_state\u001b[49m\u001b[43m)\u001b[49m\n",
      "File \u001b[0;32m~/projects/torch_template/.venv/lib/python3.11/site-packages/thunder/core/interpreter.py:3467\u001b[0m, in \u001b[0;36m_call_handler\u001b[0;34m(inst, stack, frame, **kwargs)\u001b[0m\n\u001b[1;32m   3465\u001b[0m     func \u001b[38;5;241m=\u001b[39m func_or_self\n\u001b[0;32m-> 3467\u001b[0m res \u001b[38;5;241m=\u001b[39m \u001b[43m_interpret_call\u001b[49m\u001b[43m(\u001b[49m\u001b[43mfunc\u001b[49m\u001b[43m,\u001b[49m\u001b[43m \u001b[49m\u001b[38;5;241;43m*\u001b[39;49m\u001b[43margs\u001b[49m\u001b[43m,\u001b[49m\u001b[43m \u001b[49m\u001b[38;5;241;43m*\u001b[39;49m\u001b[38;5;241;43m*\u001b[39;49m\u001b[43mkwargs\u001b[49m\u001b[43m)\u001b[49m\n\u001b[1;32m   3468\u001b[0m ctx: InterpreterCompileCtx \u001b[38;5;241m=\u001b[39m get_interpretercompilectx()\n",
      "File \u001b[0;32m~/projects/torch_template/.venv/lib/python3.11/site-packages/thunder/core/interpreter.py:5885\u001b[0m, in \u001b[0;36m_interpret_call\u001b[0;34m(fn, *args, **kwargs)\u001b[0m\n\u001b[1;32m   5884\u001b[0m runtimectx\u001b[38;5;241m.\u001b[39mrecord_interpreter_call(fn)  \u001b[38;5;66;03m# type: ignore\u001b[39;00m\n\u001b[0;32m-> 5885\u001b[0m rval \u001b[38;5;241m=\u001b[39m \u001b[43m_call_dispatch\u001b[49m\u001b[43m(\u001b[49m\u001b[43mcompilectx\u001b[49m\u001b[43m,\u001b[49m\u001b[43m \u001b[49m\u001b[43mruntimectx\u001b[49m\u001b[43m,\u001b[49m\u001b[43m \u001b[49m\u001b[43mfn\u001b[49m\u001b[43m,\u001b[49m\u001b[43m \u001b[49m\u001b[38;5;241;43m*\u001b[39;49m\u001b[43margs\u001b[49m\u001b[43m,\u001b[49m\u001b[43m \u001b[49m\u001b[38;5;241;43m*\u001b[39;49m\u001b[38;5;241;43m*\u001b[39;49m\u001b[43mkwargs\u001b[49m\u001b[43m)\u001b[49m  \u001b[38;5;66;03m# type: ignore\u001b[39;00m\n\u001b[1;32m   5886\u001b[0m \u001b[38;5;28;01mif\u001b[39;00m compilectx\u001b[38;5;241m.\u001b[39m_with_provenance_tracking:\n",
      "File \u001b[0;32m~/projects/torch_template/.venv/lib/python3.11/site-packages/thunder/core/interpreter.py:6114\u001b[0m, in \u001b[0;36m_call_dispatch\u001b[0;34m(compilectx, runtimectx, fn, *args, **kwargs)\u001b[0m\n\u001b[1;32m   6113\u001b[0m \u001b[38;5;28;01massert\u001b[39;00m \u001b[38;5;28misinstance\u001b[39m(fn, FunctionType), \u001b[38;5;124mf\u001b[39m\u001b[38;5;124m\"\u001b[39m\u001b[38;5;132;01m{\u001b[39;00mfn\u001b[38;5;132;01m=}\u001b[39;00m\u001b[38;5;124m had an unexpected type (\u001b[39m\u001b[38;5;132;01m{\u001b[39;00m\u001b[38;5;28mtype\u001b[39m(fn)\u001b[38;5;132;01m}\u001b[39;00m\u001b[38;5;124m\"\u001b[39m\n\u001b[0;32m-> 6114\u001b[0m \u001b[38;5;28;01mreturn\u001b[39;00m \u001b[43m_setup_frame_and_run_python_function\u001b[49m\u001b[43m(\u001b[49m\u001b[43mcompilectx\u001b[49m\u001b[43m,\u001b[49m\u001b[43m \u001b[49m\u001b[43mruntimectx\u001b[49m\u001b[43m,\u001b[49m\u001b[43m \u001b[49m\u001b[43mwrapped_fn\u001b[49m\u001b[43m,\u001b[49m\u001b[43m \u001b[49m\u001b[38;5;241;43m*\u001b[39;49m\u001b[43margs\u001b[49m\u001b[43m,\u001b[49m\u001b[43m \u001b[49m\u001b[38;5;241;43m*\u001b[39;49m\u001b[38;5;241;43m*\u001b[39;49m\u001b[43mkwargs\u001b[49m\u001b[43m)\u001b[49m\n",
      "File \u001b[0;32m~/projects/torch_template/.venv/lib/python3.11/site-packages/thunder/core/interpreter.py:6243\u001b[0m, in \u001b[0;36m_setup_frame_and_run_python_function\u001b[0;34m(compilectx, runtimectx, wrapped_fn, *args, **kwargs)\u001b[0m\n\u001b[1;32m   6242\u001b[0m     tb \u001b[38;5;241m=\u001b[39m TracebackType(e\u001b[38;5;241m.\u001b[39m__traceback__, python_frame, python_frame\u001b[38;5;241m.\u001b[39mf_lasti, python_frame\u001b[38;5;241m.\u001b[39mf_lineno)\n\u001b[0;32m-> 6243\u001b[0m     \u001b[38;5;28;01mraise\u001b[39;00m e\u001b[38;5;241m.\u001b[39mwith_traceback(tb)\n\u001b[1;32m   6244\u001b[0m \u001b[38;5;28;01mreturn\u001b[39;00m res\n",
      "File \u001b[0;32m~/projects/torch_template/.venv/lib/python3.11/site-packages/thunder/core/interpreter.py:1966\u001b[0m, in \u001b[0;36mSequenceIter.__next__\u001b[0;34m()\u001b[0m\n\u001b[1;32m   1965\u001b[0m \u001b[38;5;28;01mif\u001b[39;00m (\u001b[38;5;129;01mnot\u001b[39;00m \u001b[38;5;28mself\u001b[39m\u001b[38;5;241m.\u001b[39mis_reversed \u001b[38;5;129;01mand\u001b[39;00m (\u001b[38;5;28mself\u001b[39m\u001b[38;5;241m.\u001b[39mnext_pos \u001b[38;5;241m>\u001b[39m\u001b[38;5;241m=\u001b[39m \u001b[38;5;28mlen\u001b[39m(\u001b[38;5;28mself\u001b[39m\u001b[38;5;241m.\u001b[39ms))) \u001b[38;5;129;01mor\u001b[39;00m \u001b[38;5;28mself\u001b[39m\u001b[38;5;241m.\u001b[39mis_reversed \u001b[38;5;129;01mand\u001b[39;00m (\u001b[38;5;28mself\u001b[39m\u001b[38;5;241m.\u001b[39mnext_pos \u001b[38;5;241m<\u001b[39m \u001b[38;5;241m0\u001b[39m):\n\u001b[0;32m-> 1966\u001b[0m     \u001b[38;5;28;01mraise\u001b[39;00m \u001b[38;5;167;01mStopIteration\u001b[39;00m()\n\u001b[1;32m   1967\u001b[0m res \u001b[38;5;241m=\u001b[39m \u001b[38;5;28mself\u001b[39m\u001b[38;5;241m.\u001b[39ms[\u001b[38;5;28mself\u001b[39m\u001b[38;5;241m.\u001b[39mnext_pos]\n",
      "File \u001b[0;32m~/projects/torch_template/.venv/lib/python3.11/site-packages/thunder/core/interpreter.py:6238\u001b[0m, in \u001b[0;36m_setup_frame_and_run_python_function\u001b[0;34m(compilectx, runtimectx, wrapped_fn, *args, **kwargs)\u001b[0m\n\u001b[1;32m   6237\u001b[0m \u001b[38;5;28;01mtry\u001b[39;00m:\n\u001b[0;32m-> 6238\u001b[0m     res, status \u001b[38;5;241m=\u001b[39m \u001b[43m_run_frame\u001b[49m\u001b[43m(\u001b[49m\u001b[43mframe\u001b[49m\u001b[43m,\u001b[49m\u001b[43m \u001b[49m\u001b[43mcompilectx\u001b[49m\u001b[43m,\u001b[49m\u001b[43m \u001b[49m\u001b[43mruntimectx\u001b[49m\u001b[43m)\u001b[49m\n\u001b[1;32m   6239\u001b[0m \u001b[38;5;28;01mexcept\u001b[39;00m \u001b[38;5;167;01mException\u001b[39;00m \u001b[38;5;28;01mas\u001b[39;00m e:\n\u001b[1;32m   6240\u001b[0m     \u001b[38;5;66;03m# We need to cheat a bit to get a Python frame here...\u001b[39;00m\n",
      "File \u001b[0;32m~/projects/torch_template/.venv/lib/python3.11/site-packages/thunder/core/interpreter.py:6301\u001b[0m, in \u001b[0;36m_run_frame\u001b[0;34m(frame, compilectx, runtimectx, send_value)\u001b[0m\n\u001b[1;32m   6300\u001b[0m \u001b[38;5;28;01mif\u001b[39;00m sys\u001b[38;5;241m.\u001b[39mversion_info \u001b[38;5;241m>\u001b[39m\u001b[38;5;241m=\u001b[39m (\u001b[38;5;241m3\u001b[39m, \u001b[38;5;241m11\u001b[39m):\n\u001b[0;32m-> 6301\u001b[0m     exception_table \u001b[38;5;241m=\u001b[39m \u001b[43mdis\u001b[49m\u001b[38;5;241;43m.\u001b[39;49m\u001b[43m_parse_exception_table\u001b[49m(frame\u001b[38;5;241m.\u001b[39mcode)  \u001b[38;5;66;03m# type: ignore (_parse_exception_table is undocumented)\u001b[39;00m\n\u001b[1;32m   6303\u001b[0m     found \u001b[38;5;241m=\u001b[39m \u001b[38;5;28;01mFalse\u001b[39;00m\n",
      "\u001b[0;31mAttributeError\u001b[0m: module 'dis' has no attribute '_parse_exception_table'",
      "\nThe above exception was the direct cause of the following exception:\n",
      "\u001b[0;31mInterpreterError\u001b[0m                          Traceback (most recent call last)",
      "Cell \u001b[0;32mIn[27], line 1\u001b[0m\n\u001b[0;32m----> 1\u001b[0m preds \u001b[38;5;241m=\u001b[39m \u001b[43mjit_trained_model\u001b[49m\u001b[43m(\u001b[49m\u001b[43msample\u001b[49m\u001b[43m[\u001b[49m\u001b[38;5;241;43m0\u001b[39;49m\u001b[43m]\u001b[49m\u001b[43m)\u001b[49m\n",
      "File \u001b[0;32m~/projects/torch_template/.venv/lib/python3.11/site-packages/torch/nn/modules/module.py:1511\u001b[0m, in \u001b[0;36mModule._wrapped_call_impl\u001b[0;34m(self, *args, **kwargs)\u001b[0m\n\u001b[1;32m   1509\u001b[0m     \u001b[38;5;28;01mreturn\u001b[39;00m \u001b[38;5;28mself\u001b[39m\u001b[38;5;241m.\u001b[39m_compiled_call_impl(\u001b[38;5;241m*\u001b[39margs, \u001b[38;5;241m*\u001b[39m\u001b[38;5;241m*\u001b[39mkwargs)  \u001b[38;5;66;03m# type: ignore[misc]\u001b[39;00m\n\u001b[1;32m   1510\u001b[0m \u001b[38;5;28;01melse\u001b[39;00m:\n\u001b[0;32m-> 1511\u001b[0m     \u001b[38;5;28;01mreturn\u001b[39;00m \u001b[38;5;28;43mself\u001b[39;49m\u001b[38;5;241;43m.\u001b[39;49m\u001b[43m_call_impl\u001b[49m\u001b[43m(\u001b[49m\u001b[38;5;241;43m*\u001b[39;49m\u001b[43margs\u001b[49m\u001b[43m,\u001b[49m\u001b[43m \u001b[49m\u001b[38;5;241;43m*\u001b[39;49m\u001b[38;5;241;43m*\u001b[39;49m\u001b[43mkwargs\u001b[49m\u001b[43m)\u001b[49m\n",
      "File \u001b[0;32m~/projects/torch_template/.venv/lib/python3.11/site-packages/torch/nn/modules/module.py:1520\u001b[0m, in \u001b[0;36mModule._call_impl\u001b[0;34m(self, *args, **kwargs)\u001b[0m\n\u001b[1;32m   1515\u001b[0m \u001b[38;5;66;03m# If we don't have any hooks, we want to skip the rest of the logic in\u001b[39;00m\n\u001b[1;32m   1516\u001b[0m \u001b[38;5;66;03m# this function, and just call forward.\u001b[39;00m\n\u001b[1;32m   1517\u001b[0m \u001b[38;5;28;01mif\u001b[39;00m \u001b[38;5;129;01mnot\u001b[39;00m (\u001b[38;5;28mself\u001b[39m\u001b[38;5;241m.\u001b[39m_backward_hooks \u001b[38;5;129;01mor\u001b[39;00m \u001b[38;5;28mself\u001b[39m\u001b[38;5;241m.\u001b[39m_backward_pre_hooks \u001b[38;5;129;01mor\u001b[39;00m \u001b[38;5;28mself\u001b[39m\u001b[38;5;241m.\u001b[39m_forward_hooks \u001b[38;5;129;01mor\u001b[39;00m \u001b[38;5;28mself\u001b[39m\u001b[38;5;241m.\u001b[39m_forward_pre_hooks\n\u001b[1;32m   1518\u001b[0m         \u001b[38;5;129;01mor\u001b[39;00m _global_backward_pre_hooks \u001b[38;5;129;01mor\u001b[39;00m _global_backward_hooks\n\u001b[1;32m   1519\u001b[0m         \u001b[38;5;129;01mor\u001b[39;00m _global_forward_hooks \u001b[38;5;129;01mor\u001b[39;00m _global_forward_pre_hooks):\n\u001b[0;32m-> 1520\u001b[0m     \u001b[38;5;28;01mreturn\u001b[39;00m \u001b[43mforward_call\u001b[49m\u001b[43m(\u001b[49m\u001b[38;5;241;43m*\u001b[39;49m\u001b[43margs\u001b[49m\u001b[43m,\u001b[49m\u001b[43m \u001b[49m\u001b[38;5;241;43m*\u001b[39;49m\u001b[38;5;241;43m*\u001b[39;49m\u001b[43mkwargs\u001b[49m\u001b[43m)\u001b[49m\n\u001b[1;32m   1522\u001b[0m \u001b[38;5;28;01mtry\u001b[39;00m:\n\u001b[1;32m   1523\u001b[0m     result \u001b[38;5;241m=\u001b[39m \u001b[38;5;28;01mNone\u001b[39;00m\n",
      "File \u001b[0;32m~/projects/torch_template/.venv/lib/python3.11/site-packages/thunder/__init__.py:194\u001b[0m, in \u001b[0;36mThunderModule.forward\u001b[0;34m(self, *args, **kwargs)\u001b[0m\n\u001b[1;32m    193\u001b[0m \u001b[38;5;28;01mdef\u001b[39;00m \u001b[38;5;21mforward\u001b[39m(\u001b[38;5;28mself\u001b[39m, \u001b[38;5;241m*\u001b[39margs, \u001b[38;5;241m*\u001b[39m\u001b[38;5;241m*\u001b[39mkwargs):\n\u001b[0;32m--> 194\u001b[0m     res \u001b[38;5;241m=\u001b[39m \u001b[38;5;28;43mself\u001b[39;49m\u001b[38;5;241;43m.\u001b[39;49m\u001b[43m_forward_fn\u001b[49m\u001b[43m(\u001b[49m\u001b[38;5;241;43m*\u001b[39;49m\u001b[43margs\u001b[49m\u001b[43m,\u001b[49m\u001b[43m \u001b[49m\u001b[38;5;241;43m*\u001b[39;49m\u001b[38;5;241;43m*\u001b[39;49m\u001b[43mkwargs\u001b[49m\u001b[43m)\u001b[49m\n\u001b[1;32m    195\u001b[0m     \u001b[38;5;28;01mreturn\u001b[39;00m res\n",
      "File \u001b[0;32m~/projects/torch_template/.venv/lib/python3.11/site-packages/thunder/__init__.py:611\u001b[0m, in \u001b[0;36mjit.<locals>.fn_\u001b[0;34m(*args, **kwargs)\u001b[0m\n\u001b[1;32m    608\u001b[0m cs\u001b[38;5;241m.\u001b[39mlast_trace_host_start \u001b[38;5;241m=\u001b[39m time\u001b[38;5;241m.\u001b[39mtime_ns()\n\u001b[1;32m    609\u001b[0m cs\u001b[38;5;241m.\u001b[39mcalls \u001b[38;5;241m+\u001b[39m\u001b[38;5;241m=\u001b[39m \u001b[38;5;241m1\u001b[39m\n\u001b[0;32m--> 611\u001b[0m cache_entry, inps, pro_to_epi \u001b[38;5;241m=\u001b[39m \u001b[43mget_computation_and_inputs\u001b[49m\u001b[43m(\u001b[49m\u001b[38;5;241;43m*\u001b[39;49m\u001b[43margs\u001b[49m\u001b[43m,\u001b[49m\u001b[43m \u001b[49m\u001b[38;5;241;43m*\u001b[39;49m\u001b[38;5;241;43m*\u001b[39;49m\u001b[43mkwargs\u001b[49m\u001b[43m)\u001b[49m\n\u001b[1;32m    612\u001b[0m cs\u001b[38;5;241m.\u001b[39mlast_trace_host_execution_start \u001b[38;5;241m=\u001b[39m time\u001b[38;5;241m.\u001b[39mtime_ns()\n\u001b[1;32m    614\u001b[0m result \u001b[38;5;241m=\u001b[39m cache_entry\u001b[38;5;241m.\u001b[39mcomputation_fn(\u001b[38;5;241m*\u001b[39minps)\n",
      "File \u001b[0;32m~/projects/torch_template/.venv/lib/python3.11/site-packages/thunder/__init__.py:262\u001b[0m, in \u001b[0;36m_with_cache_info_ctx.<locals>.cache_info_wrapper\u001b[0;34m(*args, **kwargs)\u001b[0m\n\u001b[1;32m    260\u001b[0m tok \u001b[38;5;241m=\u001b[39m _cache_info_ctx\u001b[38;5;241m.\u001b[39mset({})\n\u001b[1;32m    261\u001b[0m \u001b[38;5;28;01mtry\u001b[39;00m:\n\u001b[0;32m--> 262\u001b[0m     res \u001b[38;5;241m=\u001b[39m \u001b[43mfn\u001b[49m\u001b[43m(\u001b[49m\u001b[38;5;241;43m*\u001b[39;49m\u001b[43margs\u001b[49m\u001b[43m,\u001b[49m\u001b[43m \u001b[49m\u001b[38;5;241;43m*\u001b[39;49m\u001b[38;5;241;43m*\u001b[39;49m\u001b[43mkwargs\u001b[49m\u001b[43m)\u001b[49m\n\u001b[1;32m    263\u001b[0m \u001b[38;5;28;01mfinally\u001b[39;00m:\n\u001b[1;32m    264\u001b[0m     _cache_info_ctx\u001b[38;5;241m.\u001b[39mreset(tok)\n",
      "File \u001b[0;32m~/projects/torch_template/.venv/lib/python3.11/site-packages/thunder/__init__.py:498\u001b[0m, in \u001b[0;36mjit.<locals>.get_computation_and_inputs\u001b[0;34m(*args, **kwargs)\u001b[0m\n\u001b[1;32m    496\u001b[0m     prologue_trc: TraceCtx\n\u001b[1;32m    497\u001b[0m     computation_trc: TraceCtx\n\u001b[0;32m--> 498\u001b[0m     prologue_trc, computation_trc, \u001b[38;5;241m*\u001b[39mmaybe_epilogue \u001b[38;5;241m=\u001b[39m \u001b[43minterpreter\u001b[49m\u001b[43m(\u001b[49m\n\u001b[1;32m    499\u001b[0m \u001b[43m        \u001b[49m\u001b[43mfn\u001b[49m\u001b[43m,\u001b[49m\u001b[43m \u001b[49m\u001b[43margs\u001b[49m\u001b[43m,\u001b[49m\u001b[43m \u001b[49m\u001b[43mkwargs\u001b[49m\u001b[43m,\u001b[49m\u001b[43m \u001b[49m\u001b[43msharp_edges\u001b[49m\u001b[38;5;241;43m=\u001b[39;49m\u001b[43mcd\u001b[49m\u001b[38;5;241;43m.\u001b[39;49m\u001b[43msharp_edges\u001b[49m\n\u001b[1;32m    500\u001b[0m \u001b[43m    \u001b[49m\u001b[43m)\u001b[49m\n\u001b[1;32m    502\u001b[0m \u001b[38;5;28;01mif\u001b[39;00m maybe_epilogue:\n\u001b[1;32m    503\u001b[0m     epilogue_traces \u001b[38;5;241m=\u001b[39m maybe_epilogue\n",
      "File \u001b[0;32m~/projects/torch_template/.venv/lib/python3.11/site-packages/thunder/__init__.py:175\u001b[0m, in \u001b[0;36m_general_frontend\u001b[0;34m(fn, args, kwargs, sharp_edges)\u001b[0m\n\u001b[1;32m    174\u001b[0m \u001b[38;5;28;01mdef\u001b[39;00m \u001b[38;5;21m_general_frontend\u001b[39m(fn: Callable, args, kwargs, \u001b[38;5;241m/\u001b[39m, \u001b[38;5;241m*\u001b[39m, sharp_edges: SHARP_EDGES_OPTIONS) \u001b[38;5;241m-\u001b[39m\u001b[38;5;241m>\u001b[39m \u001b[38;5;28mtuple\u001b[39m[TraceCtx, TraceCtx]:\n\u001b[0;32m--> 175\u001b[0m     \u001b[38;5;28;01mreturn\u001b[39;00m \u001b[43mthunder_general_jit\u001b[49m\u001b[43m(\u001b[49m\u001b[43mfn\u001b[49m\u001b[43m,\u001b[49m\u001b[43m \u001b[49m\u001b[43margs\u001b[49m\u001b[43m,\u001b[49m\u001b[43m \u001b[49m\u001b[43mkwargs\u001b[49m\u001b[43m,\u001b[49m\u001b[43m \u001b[49m\u001b[43msharp_edges\u001b[49m\u001b[38;5;241;43m=\u001b[39;49m\u001b[43msharp_edges\u001b[49m\u001b[43m)\u001b[49m\n",
      "File \u001b[0;32m~/projects/torch_template/.venv/lib/python3.11/site-packages/thunder/core/jit_ext.py:1386\u001b[0m, in \u001b[0;36mthunder_general_jit\u001b[0;34m(fn, args, kwargs, sharp_edges)\u001b[0m\n\u001b[1;32m   1384\u001b[0m \u001b[38;5;28;01mwith\u001b[39;00m general_jit_ctx(ctx):\n\u001b[1;32m   1385\u001b[0m     \u001b[38;5;28;01mwith\u001b[39;00m tracectx(computation_trace):\n\u001b[0;32m-> 1386\u001b[0m         result \u001b[38;5;241m=\u001b[39m \u001b[43mjfn\u001b[49m\u001b[43m(\u001b[49m\u001b[38;5;241;43m*\u001b[39;49m\u001b[43margs\u001b[49m\u001b[43m,\u001b[49m\u001b[43m \u001b[49m\u001b[38;5;241;43m*\u001b[39;49m\u001b[38;5;241;43m*\u001b[39;49m\u001b[43mkwargs\u001b[49m\u001b[43m)\u001b[49m\n\u001b[1;32m   1387\u001b[0m         prims\u001b[38;5;241m.\u001b[39mpython_return(result)\n\u001b[1;32m   1388\u001b[0m         process_recorded_modifications(ctx, epilogue_trace)\n",
      "File \u001b[0;32m~/projects/torch_template/.venv/lib/python3.11/site-packages/thunder/core/interpreter.py:6566\u001b[0m, in \u001b[0;36minterpret.<locals>.fn_\u001b[0;34m(*args, **kwargs)\u001b[0m\n\u001b[1;32m   6562\u001b[0m     traceback_str \u001b[38;5;241m=\u001b[39m os\u001b[38;5;241m.\u001b[39mlinesep\u001b[38;5;241m.\u001b[39mjoin(f\u001b[38;5;241m.\u001b[39mformat_with_source() \u001b[38;5;28;01mfor\u001b[39;00m f \u001b[38;5;129;01min\u001b[39;00m runtimectx\u001b[38;5;241m.\u001b[39mframe_stack)\n\u001b[1;32m   6563\u001b[0m     msg \u001b[38;5;241m=\u001b[39m (\n\u001b[1;32m   6564\u001b[0m         \u001b[38;5;124mf\u001b[39m\u001b[38;5;124m\"\u001b[39m\u001b[38;5;124mEncountered exception \u001b[39m\u001b[38;5;132;01m{\u001b[39;00m\u001b[38;5;28mtype\u001b[39m(e)\u001b[38;5;241m.\u001b[39m\u001b[38;5;18m__name__\u001b[39m\u001b[38;5;132;01m}\u001b[39;00m\u001b[38;5;124m: \u001b[39m\u001b[38;5;132;01m{\u001b[39;00me\u001b[38;5;132;01m}\u001b[39;00m\u001b[38;5;124m while tracing \u001b[39m\u001b[38;5;132;01m{\u001b[39;00mfn\u001b[38;5;132;01m}\u001b[39;00m\u001b[38;5;124m:\u001b[39m\u001b[38;5;132;01m{\u001b[39;00mos\u001b[38;5;241m.\u001b[39mlinesep\u001b[38;5;132;01m}\u001b[39;00m\u001b[38;5;124m\"\u001b[39m \u001b[38;5;124mf\u001b[39m\u001b[38;5;124m\"\u001b[39m\u001b[38;5;132;01m{\u001b[39;00mtraceback_str\u001b[38;5;132;01m}\u001b[39;00m\u001b[38;5;124m\"\u001b[39m\n\u001b[1;32m   6565\u001b[0m     )\n\u001b[0;32m-> 6566\u001b[0m     \u001b[38;5;28;01mraise\u001b[39;00m InterpreterError(msg) \u001b[38;5;28;01mfrom\u001b[39;00m \u001b[38;5;21;01me\u001b[39;00m\n\u001b[1;32m   6567\u001b[0m \u001b[38;5;28;01mfinally\u001b[39;00m:\n\u001b[1;32m   6568\u001b[0m     \u001b[38;5;66;03m# NOTE: Wrapped functions are valid to assign new attributes to.\u001b[39;00m\n\u001b[1;32m   6569\u001b[0m     fn_\u001b[38;5;241m.\u001b[39m_last_interpreted_instructions \u001b[38;5;241m=\u001b[39m runtimectx\u001b[38;5;241m.\u001b[39minterpreted_instructions  \u001b[38;5;66;03m# type: ignore\u001b[39;00m\n",
      "\u001b[0;31mInterpreterError\u001b[0m: Encountered exception AttributeError: module 'dis' has no attribute '_parse_exception_table' while tracing SequentialLitModel(\n  (layers): Sequential(\n    (0): EncoderLayer(\n      (dropout): Dropout(p=0.3, inplace=False)\n      (embeddings): EmbeddingLayer(\n        (embeddings): ModuleList(\n          (0-1): 2 x Embedding(18, 32)\n          (2-3): 2 x Embedding(17, 32)\n          (4): Embedding(16, 32)\n          (5): Embedding(20, 32)\n          (6): Embedding(7, 32)\n          (7): Embedding(6, 32)\n          (8): Embedding(4, 32)\n          (9): Embedding(14, 32)\n          (10): Embedding(4, 32)\n          (11-12): 2 x Embedding(7, 32)\n          (13): Embedding(6, 32)\n          (14): Embedding(4, 32)\n          (15-16): 2 x Embedding(2, 32)\n          (17): Embedding(4, 32)\n          (18): Embedding(25, 32)\n          (19): Embedding(5, 32)\n          (20): Embedding(26, 32)\n          (21): Embedding(5, 32)\n          (22): Embedding(27, 32)\n          (23): Embedding(7, 32)\n          (24): Embedding(19, 32)\n          (25): Embedding(9, 32)\n          (26): Embedding(5, 32)\n          (27): Embedding(15, 32)\n          (28-30): 3 x Embedding(20, 32)\n        )\n      )\n      (out_linear_block): Linear(in_features=992, out_features=32, bias=True)\n    )\n    (1): GRUSeqToSeq(\n      (gru): GRU(32, 32, batch_first=True)\n    )\n    (2): ConvPooling(\n      (pooling_layer): AllPoolings()\n      (conv_layer): Conv1d(5, 1, kernel_size=(5,), stride=(1,), padding=same, bias=False)\n    )\n    (3): MultiOutputLinearBlock(\n      (heads): ModuleList(\n        (0): LinearBlock(\n          (dropout): Dropout(p=0.0, inplace=False)\n          (linear_block): Sequential(\n            (0): Sequential(\n              (0): Linear(in_features=32, out_features=16, bias=True)\n              (1): GELU(approximate='none')\n              (2): LayerNorm((16,), eps=1e-05, elementwise_affine=True)\n            )\n            (1): Sequential(\n              (0): Linear(in_features=16, out_features=8, bias=True)\n              (1): GELU(approximate='none')\n              (2): LayerNorm((8,), eps=1e-05, elementwise_affine=True)\n            )\n          )\n          (out_block): Linear(in_features=8, out_features=1, bias=True)\n          (cls_layers): Sequential(\n            (0): Dropout(p=0.0, inplace=False)\n            (1): Sequential(\n              (0): Sequential(\n                (0): Linear(in_features=32, out_features=16, bias=True)\n                (1): GELU(approximate='none')\n                (2): LayerNorm((16,), eps=1e-05, elementwise_affine=True)\n              )\n              (1): Sequential(\n                (0): Linear(in_features=16, out_features=8, bias=True)\n                (1): GELU(approximate='none')\n                (2): LayerNorm((8,), eps=1e-05, elementwise_affine=True)\n              )\n            )\n            (2): Linear(in_features=8, out_features=1, bias=True)\n            (3): GELU(approximate='none')\n          )\n        )\n      )\n    )\n  )\n):\n"
     ]
    }
   ],
   "source": [
    "preds = jit_trained_model(sample[0])"
   ]
  },
  {
   "cell_type": "code",
   "execution_count": null,
   "metadata": {},
   "outputs": [],
   "source": []
  },
  {
   "cell_type": "code",
   "execution_count": 28,
   "metadata": {},
   "outputs": [
    {
     "ename": "RuntimeError",
     "evalue": "Only tuples, lists and Variables are supported as JIT inputs/outputs. Dictionaries and strings are also accepted, but their usage is not recommended. Here, received an input of unsupported type: ModelInput",
     "output_type": "error",
     "traceback": [
      "\u001b[0;31m---------------------------------------------------------------------------\u001b[0m",
      "\u001b[0;31mRuntimeError\u001b[0m                              Traceback (most recent call last)",
      "Cell \u001b[0;32mIn[28], line 1\u001b[0m\n\u001b[0;32m----> 1\u001b[0m \u001b[43mtrained_model\u001b[49m\u001b[38;5;241;43m.\u001b[39;49m\u001b[43mnet\u001b[49m\u001b[38;5;241;43m.\u001b[39;49m\u001b[43mto_onnx\u001b[49m\u001b[43m(\u001b[49m\u001b[38;5;124;43m\"\u001b[39;49m\u001b[38;5;124;43mcredits_history_lit_model.onnx\u001b[39;49m\u001b[38;5;124;43m\"\u001b[39;49m\u001b[43m,\u001b[49m\u001b[43m \u001b[49m\u001b[43msample\u001b[49m\u001b[43m[\u001b[49m\u001b[38;5;241;43m0\u001b[39;49m\u001b[43m]\u001b[49m\u001b[43m,\u001b[49m\u001b[43m \u001b[49m\u001b[43mexport_params\u001b[49m\u001b[38;5;241;43m=\u001b[39;49m\u001b[38;5;28;43;01mTrue\u001b[39;49;00m\u001b[43m)\u001b[49m\n",
      "File \u001b[0;32m~/projects/torch_template/.venv/lib/python3.11/site-packages/torch/utils/_contextlib.py:115\u001b[0m, in \u001b[0;36mcontext_decorator.<locals>.decorate_context\u001b[0;34m(*args, **kwargs)\u001b[0m\n\u001b[1;32m    112\u001b[0m \u001b[38;5;129m@functools\u001b[39m\u001b[38;5;241m.\u001b[39mwraps(func)\n\u001b[1;32m    113\u001b[0m \u001b[38;5;28;01mdef\u001b[39;00m \u001b[38;5;21mdecorate_context\u001b[39m(\u001b[38;5;241m*\u001b[39margs, \u001b[38;5;241m*\u001b[39m\u001b[38;5;241m*\u001b[39mkwargs):\n\u001b[1;32m    114\u001b[0m     \u001b[38;5;28;01mwith\u001b[39;00m ctx_factory():\n\u001b[0;32m--> 115\u001b[0m         \u001b[38;5;28;01mreturn\u001b[39;00m \u001b[43mfunc\u001b[49m\u001b[43m(\u001b[49m\u001b[38;5;241;43m*\u001b[39;49m\u001b[43margs\u001b[49m\u001b[43m,\u001b[49m\u001b[43m \u001b[49m\u001b[38;5;241;43m*\u001b[39;49m\u001b[38;5;241;43m*\u001b[39;49m\u001b[43mkwargs\u001b[49m\u001b[43m)\u001b[49m\n",
      "File \u001b[0;32m~/projects/torch_template/.venv/lib/python3.11/site-packages/lightning/pytorch/core/module.py:1405\u001b[0m, in \u001b[0;36mLightningModule.to_onnx\u001b[0;34m(self, file_path, input_sample, **kwargs)\u001b[0m\n\u001b[1;32m   1402\u001b[0m input_sample \u001b[38;5;241m=\u001b[39m \u001b[38;5;28mself\u001b[39m\u001b[38;5;241m.\u001b[39m_on_before_batch_transfer(input_sample)\n\u001b[1;32m   1403\u001b[0m input_sample \u001b[38;5;241m=\u001b[39m \u001b[38;5;28mself\u001b[39m\u001b[38;5;241m.\u001b[39m_apply_batch_transfer_handler(input_sample)\n\u001b[0;32m-> 1405\u001b[0m \u001b[43mtorch\u001b[49m\u001b[38;5;241;43m.\u001b[39;49m\u001b[43monnx\u001b[49m\u001b[38;5;241;43m.\u001b[39;49m\u001b[43mexport\u001b[49m\u001b[43m(\u001b[49m\u001b[38;5;28;43mself\u001b[39;49m\u001b[43m,\u001b[49m\u001b[43m \u001b[49m\u001b[43minput_sample\u001b[49m\u001b[43m,\u001b[49m\u001b[43m \u001b[49m\u001b[43mfile_path\u001b[49m\u001b[43m,\u001b[49m\u001b[43m \u001b[49m\u001b[38;5;241;43m*\u001b[39;49m\u001b[38;5;241;43m*\u001b[39;49m\u001b[43mkwargs\u001b[49m\u001b[43m)\u001b[49m\n\u001b[1;32m   1406\u001b[0m \u001b[38;5;28mself\u001b[39m\u001b[38;5;241m.\u001b[39mtrain(mode)\n",
      "File \u001b[0;32m~/projects/torch_template/.venv/lib/python3.11/site-packages/torch/onnx/utils.py:516\u001b[0m, in \u001b[0;36mexport\u001b[0;34m(model, args, f, export_params, verbose, training, input_names, output_names, operator_export_type, opset_version, do_constant_folding, dynamic_axes, keep_initializers_as_inputs, custom_opsets, export_modules_as_functions, autograd_inlining)\u001b[0m\n\u001b[1;32m    189\u001b[0m \u001b[38;5;129m@_beartype\u001b[39m\u001b[38;5;241m.\u001b[39mbeartype\n\u001b[1;32m    190\u001b[0m \u001b[38;5;28;01mdef\u001b[39;00m \u001b[38;5;21mexport\u001b[39m(\n\u001b[1;32m    191\u001b[0m     model: Union[torch\u001b[38;5;241m.\u001b[39mnn\u001b[38;5;241m.\u001b[39mModule, torch\u001b[38;5;241m.\u001b[39mjit\u001b[38;5;241m.\u001b[39mScriptModule, torch\u001b[38;5;241m.\u001b[39mjit\u001b[38;5;241m.\u001b[39mScriptFunction],\n\u001b[0;32m   (...)\u001b[0m\n\u001b[1;32m    208\u001b[0m     autograd_inlining: Optional[\u001b[38;5;28mbool\u001b[39m] \u001b[38;5;241m=\u001b[39m \u001b[38;5;28;01mTrue\u001b[39;00m,\n\u001b[1;32m    209\u001b[0m ) \u001b[38;5;241m-\u001b[39m\u001b[38;5;241m>\u001b[39m \u001b[38;5;28;01mNone\u001b[39;00m:\n\u001b[1;32m    210\u001b[0m \u001b[38;5;250m    \u001b[39m\u001b[38;5;124mr\u001b[39m\u001b[38;5;124;03m\"\"\"Exports a model into ONNX format.\u001b[39;00m\n\u001b[1;32m    211\u001b[0m \n\u001b[1;32m    212\u001b[0m \u001b[38;5;124;03m    If ``model`` is not a :class:`torch.jit.ScriptModule` nor a\u001b[39;00m\n\u001b[0;32m   (...)\u001b[0m\n\u001b[1;32m    513\u001b[0m \u001b[38;5;124;03m            All errors are subclasses of :class:`errors.OnnxExporterError`.\u001b[39;00m\n\u001b[1;32m    514\u001b[0m \u001b[38;5;124;03m    \"\"\"\u001b[39;00m\n\u001b[0;32m--> 516\u001b[0m     \u001b[43m_export\u001b[49m\u001b[43m(\u001b[49m\n\u001b[1;32m    517\u001b[0m \u001b[43m        \u001b[49m\u001b[43mmodel\u001b[49m\u001b[43m,\u001b[49m\n\u001b[1;32m    518\u001b[0m \u001b[43m        \u001b[49m\u001b[43margs\u001b[49m\u001b[43m,\u001b[49m\n\u001b[1;32m    519\u001b[0m \u001b[43m        \u001b[49m\u001b[43mf\u001b[49m\u001b[43m,\u001b[49m\n\u001b[1;32m    520\u001b[0m \u001b[43m        \u001b[49m\u001b[43mexport_params\u001b[49m\u001b[43m,\u001b[49m\n\u001b[1;32m    521\u001b[0m \u001b[43m        \u001b[49m\u001b[43mverbose\u001b[49m\u001b[43m,\u001b[49m\n\u001b[1;32m    522\u001b[0m \u001b[43m        \u001b[49m\u001b[43mtraining\u001b[49m\u001b[43m,\u001b[49m\n\u001b[1;32m    523\u001b[0m \u001b[43m        \u001b[49m\u001b[43minput_names\u001b[49m\u001b[43m,\u001b[49m\n\u001b[1;32m    524\u001b[0m \u001b[43m        \u001b[49m\u001b[43moutput_names\u001b[49m\u001b[43m,\u001b[49m\n\u001b[1;32m    525\u001b[0m \u001b[43m        \u001b[49m\u001b[43moperator_export_type\u001b[49m\u001b[38;5;241;43m=\u001b[39;49m\u001b[43moperator_export_type\u001b[49m\u001b[43m,\u001b[49m\n\u001b[1;32m    526\u001b[0m \u001b[43m        \u001b[49m\u001b[43mopset_version\u001b[49m\u001b[38;5;241;43m=\u001b[39;49m\u001b[43mopset_version\u001b[49m\u001b[43m,\u001b[49m\n\u001b[1;32m    527\u001b[0m \u001b[43m        \u001b[49m\u001b[43mdo_constant_folding\u001b[49m\u001b[38;5;241;43m=\u001b[39;49m\u001b[43mdo_constant_folding\u001b[49m\u001b[43m,\u001b[49m\n\u001b[1;32m    528\u001b[0m \u001b[43m        \u001b[49m\u001b[43mdynamic_axes\u001b[49m\u001b[38;5;241;43m=\u001b[39;49m\u001b[43mdynamic_axes\u001b[49m\u001b[43m,\u001b[49m\n\u001b[1;32m    529\u001b[0m \u001b[43m        \u001b[49m\u001b[43mkeep_initializers_as_inputs\u001b[49m\u001b[38;5;241;43m=\u001b[39;49m\u001b[43mkeep_initializers_as_inputs\u001b[49m\u001b[43m,\u001b[49m\n\u001b[1;32m    530\u001b[0m \u001b[43m        \u001b[49m\u001b[43mcustom_opsets\u001b[49m\u001b[38;5;241;43m=\u001b[39;49m\u001b[43mcustom_opsets\u001b[49m\u001b[43m,\u001b[49m\n\u001b[1;32m    531\u001b[0m \u001b[43m        \u001b[49m\u001b[43mexport_modules_as_functions\u001b[49m\u001b[38;5;241;43m=\u001b[39;49m\u001b[43mexport_modules_as_functions\u001b[49m\u001b[43m,\u001b[49m\n\u001b[1;32m    532\u001b[0m \u001b[43m        \u001b[49m\u001b[43mautograd_inlining\u001b[49m\u001b[38;5;241;43m=\u001b[39;49m\u001b[43mautograd_inlining\u001b[49m\u001b[43m,\u001b[49m\n\u001b[1;32m    533\u001b[0m \u001b[43m    \u001b[49m\u001b[43m)\u001b[49m\n",
      "File \u001b[0;32m~/projects/torch_template/.venv/lib/python3.11/site-packages/torch/onnx/utils.py:1613\u001b[0m, in \u001b[0;36m_export\u001b[0;34m(model, args, f, export_params, verbose, training, input_names, output_names, operator_export_type, export_type, opset_version, do_constant_folding, dynamic_axes, keep_initializers_as_inputs, fixed_batch_size, custom_opsets, add_node_names, onnx_shape_inference, export_modules_as_functions, autograd_inlining)\u001b[0m\n\u001b[1;32m   1610\u001b[0m     dynamic_axes \u001b[38;5;241m=\u001b[39m {}\n\u001b[1;32m   1611\u001b[0m _validate_dynamic_axes(dynamic_axes, model, input_names, output_names)\n\u001b[0;32m-> 1613\u001b[0m graph, params_dict, torch_out \u001b[38;5;241m=\u001b[39m \u001b[43m_model_to_graph\u001b[49m\u001b[43m(\u001b[49m\n\u001b[1;32m   1614\u001b[0m \u001b[43m    \u001b[49m\u001b[43mmodel\u001b[49m\u001b[43m,\u001b[49m\n\u001b[1;32m   1615\u001b[0m \u001b[43m    \u001b[49m\u001b[43margs\u001b[49m\u001b[43m,\u001b[49m\n\u001b[1;32m   1616\u001b[0m \u001b[43m    \u001b[49m\u001b[43mverbose\u001b[49m\u001b[43m,\u001b[49m\n\u001b[1;32m   1617\u001b[0m \u001b[43m    \u001b[49m\u001b[43minput_names\u001b[49m\u001b[43m,\u001b[49m\n\u001b[1;32m   1618\u001b[0m \u001b[43m    \u001b[49m\u001b[43moutput_names\u001b[49m\u001b[43m,\u001b[49m\n\u001b[1;32m   1619\u001b[0m \u001b[43m    \u001b[49m\u001b[43moperator_export_type\u001b[49m\u001b[43m,\u001b[49m\n\u001b[1;32m   1620\u001b[0m \u001b[43m    \u001b[49m\u001b[43mval_do_constant_folding\u001b[49m\u001b[43m,\u001b[49m\n\u001b[1;32m   1621\u001b[0m \u001b[43m    \u001b[49m\u001b[43mfixed_batch_size\u001b[49m\u001b[38;5;241;43m=\u001b[39;49m\u001b[43mfixed_batch_size\u001b[49m\u001b[43m,\u001b[49m\n\u001b[1;32m   1622\u001b[0m \u001b[43m    \u001b[49m\u001b[43mtraining\u001b[49m\u001b[38;5;241;43m=\u001b[39;49m\u001b[43mtraining\u001b[49m\u001b[43m,\u001b[49m\n\u001b[1;32m   1623\u001b[0m \u001b[43m    \u001b[49m\u001b[43mdynamic_axes\u001b[49m\u001b[38;5;241;43m=\u001b[39;49m\u001b[43mdynamic_axes\u001b[49m\u001b[43m,\u001b[49m\n\u001b[1;32m   1624\u001b[0m \u001b[43m\u001b[49m\u001b[43m)\u001b[49m\n\u001b[1;32m   1626\u001b[0m \u001b[38;5;66;03m# TODO: Don't allocate a in-memory string for the protobuf\u001b[39;00m\n\u001b[1;32m   1627\u001b[0m defer_weight_export \u001b[38;5;241m=\u001b[39m (\n\u001b[1;32m   1628\u001b[0m     export_type \u001b[38;5;129;01mis\u001b[39;00m \u001b[38;5;129;01mnot\u001b[39;00m _exporter_states\u001b[38;5;241m.\u001b[39mExportTypes\u001b[38;5;241m.\u001b[39mPROTOBUF_FILE\n\u001b[1;32m   1629\u001b[0m )\n",
      "File \u001b[0;32m~/projects/torch_template/.venv/lib/python3.11/site-packages/torch/onnx/utils.py:1135\u001b[0m, in \u001b[0;36m_model_to_graph\u001b[0;34m(model, args, verbose, input_names, output_names, operator_export_type, do_constant_folding, _disable_torch_constant_prop, fixed_batch_size, training, dynamic_axes)\u001b[0m\n\u001b[1;32m   1132\u001b[0m     args \u001b[38;5;241m=\u001b[39m (args,)\n\u001b[1;32m   1134\u001b[0m model \u001b[38;5;241m=\u001b[39m _pre_trace_quant_model(model, args)\n\u001b[0;32m-> 1135\u001b[0m graph, params, torch_out, module \u001b[38;5;241m=\u001b[39m \u001b[43m_create_jit_graph\u001b[49m\u001b[43m(\u001b[49m\u001b[43mmodel\u001b[49m\u001b[43m,\u001b[49m\u001b[43m \u001b[49m\u001b[43margs\u001b[49m\u001b[43m)\u001b[49m\n\u001b[1;32m   1136\u001b[0m params_dict \u001b[38;5;241m=\u001b[39m _get_named_param_dict(graph, params)\n\u001b[1;32m   1138\u001b[0m \u001b[38;5;28;01mtry\u001b[39;00m:\n",
      "File \u001b[0;32m~/projects/torch_template/.venv/lib/python3.11/site-packages/torch/onnx/utils.py:1011\u001b[0m, in \u001b[0;36m_create_jit_graph\u001b[0;34m(model, args)\u001b[0m\n\u001b[1;32m   1006\u001b[0m     graph \u001b[38;5;241m=\u001b[39m _C\u001b[38;5;241m.\u001b[39m_propagate_and_assign_input_shapes(\n\u001b[1;32m   1007\u001b[0m         graph, flattened_args, param_count_list, \u001b[38;5;28;01mFalse\u001b[39;00m, \u001b[38;5;28;01mFalse\u001b[39;00m\n\u001b[1;32m   1008\u001b[0m     )\n\u001b[1;32m   1009\u001b[0m     \u001b[38;5;28;01mreturn\u001b[39;00m graph, params, torch_out, \u001b[38;5;28;01mNone\u001b[39;00m\n\u001b[0;32m-> 1011\u001b[0m graph, torch_out \u001b[38;5;241m=\u001b[39m \u001b[43m_trace_and_get_graph_from_model\u001b[49m\u001b[43m(\u001b[49m\u001b[43mmodel\u001b[49m\u001b[43m,\u001b[49m\u001b[43m \u001b[49m\u001b[43margs\u001b[49m\u001b[43m)\u001b[49m\n\u001b[1;32m   1012\u001b[0m _C\u001b[38;5;241m.\u001b[39m_jit_pass_onnx_lint(graph)\n\u001b[1;32m   1013\u001b[0m state_dict \u001b[38;5;241m=\u001b[39m torch\u001b[38;5;241m.\u001b[39mjit\u001b[38;5;241m.\u001b[39m_unique_state_dict(model)\n",
      "File \u001b[0;32m~/projects/torch_template/.venv/lib/python3.11/site-packages/torch/onnx/utils.py:915\u001b[0m, in \u001b[0;36m_trace_and_get_graph_from_model\u001b[0;34m(model, args)\u001b[0m\n\u001b[1;32m    913\u001b[0m prev_autocast_cache_enabled \u001b[38;5;241m=\u001b[39m torch\u001b[38;5;241m.\u001b[39mis_autocast_cache_enabled()\n\u001b[1;32m    914\u001b[0m torch\u001b[38;5;241m.\u001b[39mset_autocast_cache_enabled(\u001b[38;5;28;01mFalse\u001b[39;00m)\n\u001b[0;32m--> 915\u001b[0m trace_graph, torch_out, inputs_states \u001b[38;5;241m=\u001b[39m \u001b[43mtorch\u001b[49m\u001b[38;5;241;43m.\u001b[39;49m\u001b[43mjit\u001b[49m\u001b[38;5;241;43m.\u001b[39;49m\u001b[43m_get_trace_graph\u001b[49m\u001b[43m(\u001b[49m\n\u001b[1;32m    916\u001b[0m \u001b[43m    \u001b[49m\u001b[43mmodel\u001b[49m\u001b[43m,\u001b[49m\n\u001b[1;32m    917\u001b[0m \u001b[43m    \u001b[49m\u001b[43margs\u001b[49m\u001b[43m,\u001b[49m\n\u001b[1;32m    918\u001b[0m \u001b[43m    \u001b[49m\u001b[43mstrict\u001b[49m\u001b[38;5;241;43m=\u001b[39;49m\u001b[38;5;28;43;01mFalse\u001b[39;49;00m\u001b[43m,\u001b[49m\n\u001b[1;32m    919\u001b[0m \u001b[43m    \u001b[49m\u001b[43m_force_outplace\u001b[49m\u001b[38;5;241;43m=\u001b[39;49m\u001b[38;5;28;43;01mFalse\u001b[39;49;00m\u001b[43m,\u001b[49m\n\u001b[1;32m    920\u001b[0m \u001b[43m    \u001b[49m\u001b[43m_return_inputs_states\u001b[49m\u001b[38;5;241;43m=\u001b[39;49m\u001b[38;5;28;43;01mTrue\u001b[39;49;00m\u001b[43m,\u001b[49m\n\u001b[1;32m    921\u001b[0m \u001b[43m\u001b[49m\u001b[43m)\u001b[49m\n\u001b[1;32m    922\u001b[0m torch\u001b[38;5;241m.\u001b[39mset_autocast_cache_enabled(prev_autocast_cache_enabled)\n\u001b[1;32m    924\u001b[0m warn_on_static_input_change(inputs_states)\n",
      "File \u001b[0;32m~/projects/torch_template/.venv/lib/python3.11/site-packages/torch/jit/_trace.py:1296\u001b[0m, in \u001b[0;36m_get_trace_graph\u001b[0;34m(f, args, kwargs, strict, _force_outplace, return_inputs, _return_inputs_states)\u001b[0m\n\u001b[1;32m   1294\u001b[0m \u001b[38;5;28;01mif\u001b[39;00m \u001b[38;5;129;01mnot\u001b[39;00m \u001b[38;5;28misinstance\u001b[39m(args, \u001b[38;5;28mtuple\u001b[39m):\n\u001b[1;32m   1295\u001b[0m     args \u001b[38;5;241m=\u001b[39m (args,)\n\u001b[0;32m-> 1296\u001b[0m outs \u001b[38;5;241m=\u001b[39m \u001b[43mONNXTracedModule\u001b[49m\u001b[43m(\u001b[49m\n\u001b[1;32m   1297\u001b[0m \u001b[43m    \u001b[49m\u001b[43mf\u001b[49m\u001b[43m,\u001b[49m\u001b[43m \u001b[49m\u001b[43mstrict\u001b[49m\u001b[43m,\u001b[49m\u001b[43m \u001b[49m\u001b[43m_force_outplace\u001b[49m\u001b[43m,\u001b[49m\u001b[43m \u001b[49m\u001b[43mreturn_inputs\u001b[49m\u001b[43m,\u001b[49m\u001b[43m \u001b[49m\u001b[43m_return_inputs_states\u001b[49m\n\u001b[1;32m   1298\u001b[0m \u001b[43m\u001b[49m\u001b[43m)\u001b[49m\u001b[43m(\u001b[49m\u001b[38;5;241;43m*\u001b[39;49m\u001b[43margs\u001b[49m\u001b[43m,\u001b[49m\u001b[43m \u001b[49m\u001b[38;5;241;43m*\u001b[39;49m\u001b[38;5;241;43m*\u001b[39;49m\u001b[43mkwargs\u001b[49m\u001b[43m)\u001b[49m\n\u001b[1;32m   1299\u001b[0m \u001b[38;5;28;01mreturn\u001b[39;00m outs\n",
      "File \u001b[0;32m~/projects/torch_template/.venv/lib/python3.11/site-packages/torch/nn/modules/module.py:1511\u001b[0m, in \u001b[0;36mModule._wrapped_call_impl\u001b[0;34m(self, *args, **kwargs)\u001b[0m\n\u001b[1;32m   1509\u001b[0m     \u001b[38;5;28;01mreturn\u001b[39;00m \u001b[38;5;28mself\u001b[39m\u001b[38;5;241m.\u001b[39m_compiled_call_impl(\u001b[38;5;241m*\u001b[39margs, \u001b[38;5;241m*\u001b[39m\u001b[38;5;241m*\u001b[39mkwargs)  \u001b[38;5;66;03m# type: ignore[misc]\u001b[39;00m\n\u001b[1;32m   1510\u001b[0m \u001b[38;5;28;01melse\u001b[39;00m:\n\u001b[0;32m-> 1511\u001b[0m     \u001b[38;5;28;01mreturn\u001b[39;00m \u001b[38;5;28;43mself\u001b[39;49m\u001b[38;5;241;43m.\u001b[39;49m\u001b[43m_call_impl\u001b[49m\u001b[43m(\u001b[49m\u001b[38;5;241;43m*\u001b[39;49m\u001b[43margs\u001b[49m\u001b[43m,\u001b[49m\u001b[43m \u001b[49m\u001b[38;5;241;43m*\u001b[39;49m\u001b[38;5;241;43m*\u001b[39;49m\u001b[43mkwargs\u001b[49m\u001b[43m)\u001b[49m\n",
      "File \u001b[0;32m~/projects/torch_template/.venv/lib/python3.11/site-packages/torch/nn/modules/module.py:1520\u001b[0m, in \u001b[0;36mModule._call_impl\u001b[0;34m(self, *args, **kwargs)\u001b[0m\n\u001b[1;32m   1515\u001b[0m \u001b[38;5;66;03m# If we don't have any hooks, we want to skip the rest of the logic in\u001b[39;00m\n\u001b[1;32m   1516\u001b[0m \u001b[38;5;66;03m# this function, and just call forward.\u001b[39;00m\n\u001b[1;32m   1517\u001b[0m \u001b[38;5;28;01mif\u001b[39;00m \u001b[38;5;129;01mnot\u001b[39;00m (\u001b[38;5;28mself\u001b[39m\u001b[38;5;241m.\u001b[39m_backward_hooks \u001b[38;5;129;01mor\u001b[39;00m \u001b[38;5;28mself\u001b[39m\u001b[38;5;241m.\u001b[39m_backward_pre_hooks \u001b[38;5;129;01mor\u001b[39;00m \u001b[38;5;28mself\u001b[39m\u001b[38;5;241m.\u001b[39m_forward_hooks \u001b[38;5;129;01mor\u001b[39;00m \u001b[38;5;28mself\u001b[39m\u001b[38;5;241m.\u001b[39m_forward_pre_hooks\n\u001b[1;32m   1518\u001b[0m         \u001b[38;5;129;01mor\u001b[39;00m _global_backward_pre_hooks \u001b[38;5;129;01mor\u001b[39;00m _global_backward_hooks\n\u001b[1;32m   1519\u001b[0m         \u001b[38;5;129;01mor\u001b[39;00m _global_forward_hooks \u001b[38;5;129;01mor\u001b[39;00m _global_forward_pre_hooks):\n\u001b[0;32m-> 1520\u001b[0m     \u001b[38;5;28;01mreturn\u001b[39;00m \u001b[43mforward_call\u001b[49m\u001b[43m(\u001b[49m\u001b[38;5;241;43m*\u001b[39;49m\u001b[43margs\u001b[49m\u001b[43m,\u001b[49m\u001b[43m \u001b[49m\u001b[38;5;241;43m*\u001b[39;49m\u001b[38;5;241;43m*\u001b[39;49m\u001b[43mkwargs\u001b[49m\u001b[43m)\u001b[49m\n\u001b[1;32m   1522\u001b[0m \u001b[38;5;28;01mtry\u001b[39;00m:\n\u001b[1;32m   1523\u001b[0m     result \u001b[38;5;241m=\u001b[39m \u001b[38;5;28;01mNone\u001b[39;00m\n",
      "File \u001b[0;32m~/projects/torch_template/.venv/lib/python3.11/site-packages/torch/jit/_trace.py:105\u001b[0m, in \u001b[0;36mONNXTracedModule.forward\u001b[0;34m(self, *args)\u001b[0m\n\u001b[1;32m    104\u001b[0m \u001b[38;5;28;01mdef\u001b[39;00m \u001b[38;5;21mforward\u001b[39m(\u001b[38;5;28mself\u001b[39m, \u001b[38;5;241m*\u001b[39margs: torch\u001b[38;5;241m.\u001b[39mTensor):\n\u001b[0;32m--> 105\u001b[0m     in_vars, in_desc \u001b[38;5;241m=\u001b[39m \u001b[43m_flatten\u001b[49m\u001b[43m(\u001b[49m\u001b[43margs\u001b[49m\u001b[43m)\u001b[49m\n\u001b[1;32m    106\u001b[0m     \u001b[38;5;66;03m# NOTE: use full state, because we need it for BatchNorm export\u001b[39;00m\n\u001b[1;32m    107\u001b[0m     \u001b[38;5;66;03m# This differs from the compiler path, which doesn't support it at the moment.\u001b[39;00m\n\u001b[1;32m    108\u001b[0m     module_state \u001b[38;5;241m=\u001b[39m \u001b[38;5;28mlist\u001b[39m(_unique_state_dict(\u001b[38;5;28mself\u001b[39m, keep_vars\u001b[38;5;241m=\u001b[39m\u001b[38;5;28;01mTrue\u001b[39;00m)\u001b[38;5;241m.\u001b[39mvalues())\n",
      "\u001b[0;31mRuntimeError\u001b[0m: Only tuples, lists and Variables are supported as JIT inputs/outputs. Dictionaries and strings are also accepted, but their usage is not recommended. Here, received an input of unsupported type: ModelInput"
     ]
    }
   ],
   "source": [
    "trained_model.net.to_onnx(\"credits_history_lit_model.onnx\", sample[0], export_params=True)"
   ]
  },
  {
   "cell_type": "code",
   "execution_count": null,
   "metadata": {},
   "outputs": [],
   "source": []
  }
 ],
 "metadata": {
  "kernelspec": {
   "display_name": ".venv",
   "language": "python",
   "name": "python3"
  },
  "language_info": {
   "codemirror_mode": {
    "name": "ipython",
    "version": 3
   },
   "file_extension": ".py",
   "mimetype": "text/x-python",
   "name": "python",
   "nbconvert_exporter": "python",
   "pygments_lexer": "ipython3",
   "version": "3.11.0rc1"
  }
 },
 "nbformat": 4,
 "nbformat_minor": 2
}
